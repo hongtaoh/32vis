{
 "cells": [
  {
   "cell_type": "markdown",
   "id": "1798fad7",
   "metadata": {},
   "source": [
    "## Aim\n",
    "\n",
    "In this notebook, I aim to see:\n",
    "\n",
    "- How many papers in `data/interim/title_query_empty_doi_query_404_2.txt` can be identified if I modify the queried title slightly\n",
    "- How many papers that are successfully identified (those in `data/interim/vispd_openalex_match_2.csv`) do not have the same title and are not the same paper. \n",
    "\n",
    "## Conclusion\n",
    "\n",
    "I conclude that the strategy I used in `get_vispd_openalex_match_2.py` works. "
   ]
  },
  {
   "cell_type": "code",
   "execution_count": 1,
   "id": "265f1147",
   "metadata": {},
   "outputs": [],
   "source": [
    "import requests\n",
    "import pandas as pd\n",
    "import csv\n",
    "import re\n",
    "pd.options.display.max_colwidth = 200\n",
    "pd.set_option('display.max_rows', 500)\n",
    "import numpy as np"
   ]
  },
  {
   "cell_type": "code",
   "execution_count": 2,
   "id": "347f99d7",
   "metadata": {},
   "outputs": [],
   "source": [
    "def read_txt(INPUT):\n",
    "    \"\"\"read txt files and return a list\n",
    "    \"\"\"\n",
    "    raw = open(INPUT, \"r\")\n",
    "    reader = csv.reader(raw)\n",
    "    allRows = [row for row in reader]\n",
    "    data = [i[0] for i in allRows]\n",
    "    return data"
   ]
  },
  {
   "cell_type": "code",
   "execution_count": 3,
   "id": "3fa43cc5",
   "metadata": {},
   "outputs": [],
   "source": [
    "no_matching = read_txt(\"../../data/interim/checking/title_query_404_2.txt\")"
   ]
  },
  {
   "cell_type": "code",
   "execution_count": 4,
   "id": "641c2369",
   "metadata": {},
   "outputs": [],
   "source": [
    "no_result = read_txt(\"../../data/interim/checking/title_query_empty_doi_query_404_2.txt\")"
   ]
  },
  {
   "cell_type": "code",
   "execution_count": 5,
   "id": "54bd28a2",
   "metadata": {},
   "outputs": [],
   "source": [
    "failed_doi = read_txt(\"../../data/interim/checking/doi_query_404_2.txt\")"
   ]
  },
  {
   "cell_type": "code",
   "execution_count": 6,
   "id": "72fa5817",
   "metadata": {},
   "outputs": [
    {
     "data": {
      "text/plain": [
       "[]"
      ]
     },
     "execution_count": 6,
     "metadata": {},
     "output_type": "execute_result"
    }
   ],
   "source": [
    "# failed doi is the result of failed query for dois in `to_query_by_doi`. \n",
    "failed_doi"
   ]
  },
  {
   "cell_type": "code",
   "execution_count": 7,
   "id": "e05c9acf",
   "metadata": {},
   "outputs": [],
   "source": [
    "# create dicts to convert doi and title, and vice versa\n",
    "vispd_plus = pd.read_csv(\"../../data/processed/vispubdata_plus.csv\")\n",
    "dois = vispd_plus.loc[:, \"DOI\"].tolist()\n",
    "titles = vispd_plus.loc[:, \"Title\"].tolist()\n",
    "doi_title_dict = dict(zip(dois, titles))\n",
    "title_doi_dict = dict(zip(titles, dois))"
   ]
  },
  {
   "cell_type": "code",
   "execution_count": 8,
   "id": "7987fc83",
   "metadata": {},
   "outputs": [],
   "source": [
    "# checking no matching.\n",
    "no_matching_titles = [doi_title_dict[doi] for doi in no_matching]"
   ]
  },
  {
   "cell_type": "code",
   "execution_count": 9,
   "id": "721a4c87",
   "metadata": {},
   "outputs": [],
   "source": [
    "no_matching_titles_transformed = [re.sub(r'\\:|\\?|\\,|\\#|\\&', '', title) for title in no_matching_titles]"
   ]
  },
  {
   "cell_type": "code",
   "execution_count": 10,
   "id": "346eeac4",
   "metadata": {},
   "outputs": [
    {
     "data": {
      "text/plain": [
       "[]"
      ]
     },
     "execution_count": 10,
     "metadata": {},
     "output_type": "execute_result"
    }
   ],
   "source": [
    "# empty, which means that every paper can be mathced. \n",
    "no_matching_titles"
   ]
  },
  {
   "cell_type": "code",
   "execution_count": 11,
   "id": "632fc59c",
   "metadata": {},
   "outputs": [
    {
     "data": {
      "text/plain": [
       "[]"
      ]
     },
     "execution_count": 11,
     "metadata": {},
     "output_type": "execute_result"
    }
   ],
   "source": [
    "no_matching_titles_transformed"
   ]
  },
  {
   "cell_type": "code",
   "execution_count": 12,
   "id": "8f25f885",
   "metadata": {},
   "outputs": [],
   "source": [
    "## checking no result titles\n",
    "## By `no_result`, I mean that for these papers, title queries were successful\n",
    "## However, the query does not show any result. For example:\n",
    "## https://api.openalex.org/works?filter=title.search:Generation of Transfer Functions with Stochastic Search Technique\n",
    "no_result_titles = [doi_title_dict[doi] for doi in no_result]\n",
    "no_result_titles\n",
    "no_result_titles_transformed = [re.sub(r'\\:|\\?|\\,|\\#|\\&', '', title) for title in no_result_titles]\n",
    "no_result_dois = [title_doi_dict[title] for title in no_result_titles]"
   ]
  },
  {
   "cell_type": "code",
   "execution_count": 13,
   "id": "cf84fef9",
   "metadata": {},
   "outputs": [
    {
     "data": {
      "text/plain": [
       "['Visualization for nonlinear engineering FEM analysis in manufacturing']"
      ]
     },
     "execution_count": 13,
     "metadata": {},
     "output_type": "execute_result"
    }
   ],
   "source": [
    "no_result_titles_transformed"
   ]
  },
  {
   "cell_type": "code",
   "execution_count": 14,
   "id": "881df6e2",
   "metadata": {},
   "outputs": [],
   "source": [
    "# build a df to show no result doi and title side by side, this is clearer\n",
    "no_result_df = pd.DataFrame(columns = ['DOI', 'Title'])"
   ]
  },
  {
   "cell_type": "code",
   "execution_count": 15,
   "id": "ca85efc4",
   "metadata": {},
   "outputs": [],
   "source": [
    "no_result_df['DOI'] = no_result_dois\n",
    "no_result_df['Title'] = no_result_titles"
   ]
  },
  {
   "cell_type": "code",
   "execution_count": 16,
   "id": "2fe3c988",
   "metadata": {},
   "outputs": [
    {
     "data": {
      "text/html": [
       "<div>\n",
       "<style scoped>\n",
       "    .dataframe tbody tr th:only-of-type {\n",
       "        vertical-align: middle;\n",
       "    }\n",
       "\n",
       "    .dataframe tbody tr th {\n",
       "        vertical-align: top;\n",
       "    }\n",
       "\n",
       "    .dataframe thead th {\n",
       "        text-align: right;\n",
       "    }\n",
       "</style>\n",
       "<table border=\"1\" class=\"dataframe\">\n",
       "  <thead>\n",
       "    <tr style=\"text-align: right;\">\n",
       "      <th></th>\n",
       "      <th>DOI</th>\n",
       "      <th>Title</th>\n",
       "    </tr>\n",
       "  </thead>\n",
       "  <tbody>\n",
       "    <tr>\n",
       "      <th>0</th>\n",
       "      <td>10.1109/VISUAL.1990.146412</td>\n",
       "      <td>Visualization for nonlinear engineering FEM analysis in manufacturing</td>\n",
       "    </tr>\n",
       "  </tbody>\n",
       "</table>\n",
       "</div>"
      ],
      "text/plain": [
       "                          DOI  \\\n",
       "0  10.1109/VISUAL.1990.146412   \n",
       "\n",
       "                                                                   Title  \n",
       "0  Visualization for nonlinear engineering FEM analysis in manufacturing  "
      ]
     },
     "execution_count": 16,
     "metadata": {},
     "output_type": "execute_result"
    }
   ],
   "source": [
    "## These are the papers that I cannot access on openalex\n",
    "no_result_df"
   ]
  },
  {
   "cell_type": "markdown",
   "id": "e394ad47",
   "metadata": {},
   "source": [
    "## Checking `vispd_openalex_match.csv`"
   ]
  },
  {
   "cell_type": "code",
   "execution_count": 17,
   "id": "967a9210",
   "metadata": {},
   "outputs": [],
   "source": [
    "df = pd.read_csv(\"../../data/interim/vispd_openalex_match_2.csv\")\n",
    "# df.Title != df['OpenAlex Title']) & "
   ]
  },
  {
   "cell_type": "code",
   "execution_count": 18,
   "id": "e2748f38",
   "metadata": {},
   "outputs": [
    {
     "data": {
      "text/plain": [
       "'https://doi.org/10.5555/949607.949654'"
      ]
     },
     "execution_count": 18,
     "metadata": {},
     "output_type": "execute_result"
    }
   ],
   "source": [
    "df.DOI[1]\n",
    "df['OpenAlex DOI'][1]"
   ]
  },
  {
   "cell_type": "code",
   "execution_count": 19,
   "id": "27e6ffe7",
   "metadata": {},
   "outputs": [
    {
     "data": {
      "text/plain": [
       "(3242, 13)"
      ]
     },
     "execution_count": 19,
     "metadata": {},
     "output_type": "execute_result"
    }
   ],
   "source": [
    "df.shape"
   ]
  },
  {
   "cell_type": "code",
   "execution_count": 20,
   "id": "571aa704",
   "metadata": {},
   "outputs": [
    {
     "data": {
      "text/html": [
       "<div>\n",
       "<style scoped>\n",
       "    .dataframe tbody tr th:only-of-type {\n",
       "        vertical-align: middle;\n",
       "    }\n",
       "\n",
       "    .dataframe tbody tr th {\n",
       "        vertical-align: top;\n",
       "    }\n",
       "\n",
       "    .dataframe thead th {\n",
       "        text-align: right;\n",
       "    }\n",
       "</style>\n",
       "<table border=\"1\" class=\"dataframe\">\n",
       "  <thead>\n",
       "    <tr style=\"text-align: right;\">\n",
       "      <th></th>\n",
       "      <th>Year</th>\n",
       "      <th>DOI</th>\n",
       "      <th>Title</th>\n",
       "      <th>OpenAlex Year</th>\n",
       "      <th>OpenAlex ID</th>\n",
       "      <th>OpenAlex Title</th>\n",
       "      <th>OpenAlex DOI</th>\n",
       "      <th>OpenAlex URL</th>\n",
       "      <th>OpenAlex Venue</th>\n",
       "      <th>OpenAlex Journal</th>\n",
       "      <th>OpenAlex Publisher</th>\n",
       "      <th>OpenAlex First Page</th>\n",
       "      <th>OpenAlex Last Page</th>\n",
       "    </tr>\n",
       "  </thead>\n",
       "  <tbody>\n",
       "    <tr>\n",
       "      <th>2275</th>\n",
       "      <td>1992</td>\n",
       "      <td>10.1109/VISUAL.1992.235194</td>\n",
       "      <td>Volume warping</td>\n",
       "      <td>1992.0</td>\n",
       "      <td>https://openalex.org/W2293612704</td>\n",
       "      <td>Volume warping</td>\n",
       "      <td>https://doi.org/10.5555/949685.949740</td>\n",
       "      <td>https://dl.acm.org/doi/10.5555/949685.949740</td>\n",
       "      <td>NaN</td>\n",
       "      <td>ieee visualization</td>\n",
       "      <td>NaN</td>\n",
       "      <td>308.0</td>\n",
       "      <td>315.0</td>\n",
       "    </tr>\n",
       "  </tbody>\n",
       "</table>\n",
       "</div>"
      ],
      "text/plain": [
       "      Year                         DOI           Title  OpenAlex Year  \\\n",
       "2275  1992  10.1109/VISUAL.1992.235194  Volume warping         1992.0   \n",
       "\n",
       "                           OpenAlex ID  OpenAlex Title  \\\n",
       "2275  https://openalex.org/W2293612704  Volume warping   \n",
       "\n",
       "                               OpenAlex DOI  \\\n",
       "2275  https://doi.org/10.5555/949685.949740   \n",
       "\n",
       "                                      OpenAlex URL OpenAlex Venue  \\\n",
       "2275  https://dl.acm.org/doi/10.5555/949685.949740            NaN   \n",
       "\n",
       "        OpenAlex Journal OpenAlex Publisher  OpenAlex First Page  \\\n",
       "2275  ieee visualization                NaN                308.0   \n",
       "\n",
       "      OpenAlex Last Page  \n",
       "2275               315.0  "
      ]
     },
     "execution_count": 20,
     "metadata": {},
     "output_type": "execute_result"
    }
   ],
   "source": [
    "df[df['DOI'] == '10.1109/VISUAL.1992.235194']"
   ]
  },
  {
   "cell_type": "markdown",
   "id": "1f13ff26",
   "metadata": {},
   "source": [
    "## Checking the results where title queries were successful"
   ]
  },
  {
   "cell_type": "code",
   "execution_count": 21,
   "id": "91b01552",
   "metadata": {},
   "outputs": [
    {
     "data": {
      "text/plain": [
       "1"
      ]
     },
     "execution_count": 21,
     "metadata": {},
     "output_type": "execute_result"
    }
   ],
   "source": [
    "# checking how many papers do not have openalex id; that is, how many failed. \n",
    "# i want to see whether the number match the total of no_result and no_match\n",
    "\n",
    "df[df['OpenAlex ID'].isnull()].shape[0]\n",
    "\n",
    "# Yes, it is correct"
   ]
  },
  {
   "cell_type": "code",
   "execution_count": 22,
   "id": "ecf56dd7",
   "metadata": {},
   "outputs": [
    {
     "data": {
      "text/html": [
       "<div>\n",
       "<style scoped>\n",
       "    .dataframe tbody tr th:only-of-type {\n",
       "        vertical-align: middle;\n",
       "    }\n",
       "\n",
       "    .dataframe tbody tr th {\n",
       "        vertical-align: top;\n",
       "    }\n",
       "\n",
       "    .dataframe thead th {\n",
       "        text-align: right;\n",
       "    }\n",
       "</style>\n",
       "<table border=\"1\" class=\"dataframe\">\n",
       "  <thead>\n",
       "    <tr style=\"text-align: right;\">\n",
       "      <th></th>\n",
       "      <th>Year</th>\n",
       "      <th>DOI</th>\n",
       "      <th>Title</th>\n",
       "      <th>OpenAlex Year</th>\n",
       "      <th>OpenAlex ID</th>\n",
       "      <th>OpenAlex Title</th>\n",
       "      <th>OpenAlex DOI</th>\n",
       "      <th>OpenAlex URL</th>\n",
       "      <th>OpenAlex Venue</th>\n",
       "      <th>OpenAlex Journal</th>\n",
       "      <th>OpenAlex Publisher</th>\n",
       "      <th>OpenAlex First Page</th>\n",
       "      <th>OpenAlex Last Page</th>\n",
       "      <th>DOI_URL</th>\n",
       "    </tr>\n",
       "  </thead>\n",
       "  <tbody>\n",
       "    <tr>\n",
       "      <th>2908</th>\n",
       "      <td>2003</td>\n",
       "      <td>10.1109/VISUAL.2003.1250379</td>\n",
       "      <td>HyperLIC</td>\n",
       "      <td>2006.0</td>\n",
       "      <td>https://openalex.org/W2365704339</td>\n",
       "      <td>Blow-up of solutions to initial boundary value problem for a class of nonlinear hyperlic equation</td>\n",
       "      <td>NaN</td>\n",
       "      <td>https://en.cnki.com.cn/Article_en/CJFDTOTAL-ZKSG200602005.htm</td>\n",
       "      <td>https://openalex.org/V2764756576</td>\n",
       "      <td>Journal of Zhoukou Normal University</td>\n",
       "      <td>NaN</td>\n",
       "      <td>NaN</td>\n",
       "      <td>NaN</td>\n",
       "      <td>https://doi.org/10.1109/VISUAL.2003.1250379</td>\n",
       "    </tr>\n",
       "  </tbody>\n",
       "</table>\n",
       "</div>"
      ],
      "text/plain": [
       "      Year                          DOI     Title  OpenAlex Year  \\\n",
       "2908  2003  10.1109/VISUAL.2003.1250379  HyperLIC         2006.0   \n",
       "\n",
       "                           OpenAlex ID  \\\n",
       "2908  https://openalex.org/W2365704339   \n",
       "\n",
       "                                                                                         OpenAlex Title  \\\n",
       "2908  Blow-up of solutions to initial boundary value problem for a class of nonlinear hyperlic equation   \n",
       "\n",
       "     OpenAlex DOI  \\\n",
       "2908          NaN   \n",
       "\n",
       "                                                       OpenAlex URL  \\\n",
       "2908  https://en.cnki.com.cn/Article_en/CJFDTOTAL-ZKSG200602005.htm   \n",
       "\n",
       "                        OpenAlex Venue                      OpenAlex Journal  \\\n",
       "2908  https://openalex.org/V2764756576  Journal of Zhoukou Normal University   \n",
       "\n",
       "     OpenAlex Publisher  OpenAlex First Page  OpenAlex Last Page  \\\n",
       "2908                NaN                  NaN                 NaN   \n",
       "\n",
       "                                          DOI_URL  \n",
       "2908  https://doi.org/10.1109/VISUAL.2003.1250379  "
      ]
     },
     "execution_count": 22,
     "metadata": {},
     "output_type": "execute_result"
    }
   ],
   "source": [
    "# first, filter out those without openalex id\n",
    "no_nan_df = df.dropna(subset=['OpenAlex ID'])\n",
    "# create a new column based on DOI; the purpose is to compare it with OpenAlex DOI\n",
    "no_nan_df = no_nan_df.assign(DOI_URL = [re.sub(r'^', 'https://doi.org/', doi) for doi in no_nan_df.DOI])\n",
    "# then, show rows where both title and doi do not match\n",
    "no_nan_df[(no_nan_df.Title.str.lower() != no_nan_df['OpenAlex Title'].str.lower()) & (\n",
    "    no_nan_df['OpenAlex DOI'].str.lower() != no_nan_df['DOI_URL'].str.lower()\n",
    ")]"
   ]
  },
  {
   "cell_type": "code",
   "execution_count": 41,
   "id": "7093de43",
   "metadata": {},
   "outputs": [],
   "source": [
    "# I manually checked the above results, and found that only one paper is wrong match\n",
    "# This means the strategy I used in `get_vispd_openalex_match_2.py` succeeds. \n",
    "# Then I can run `get_openalex_dfs.py`. \n",
    "wrong_match_dois = [\n",
    "    '10.1109/VISUAL.2003.1250379', #hyperlic\n",
    "]"
   ]
  }
 ],
 "metadata": {
  "kernelspec": {
   "display_name": "Python 3 (ipykernel)",
   "language": "python",
   "name": "python3"
  },
  "language_info": {
   "codemirror_mode": {
    "name": "ipython",
    "version": 3
   },
   "file_extension": ".py",
   "mimetype": "text/x-python",
   "name": "python",
   "nbconvert_exporter": "python",
   "pygments_lexer": "ipython3",
   "version": "3.8.12"
  }
 },
 "nbformat": 4,
 "nbformat_minor": 5
}
