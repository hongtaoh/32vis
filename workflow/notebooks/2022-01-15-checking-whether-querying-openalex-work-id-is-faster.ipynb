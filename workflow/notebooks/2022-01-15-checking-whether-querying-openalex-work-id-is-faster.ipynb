{
 "cells": [
  {
   "cell_type": "code",
   "execution_count": 6,
   "id": "b4526859",
   "metadata": {},
   "outputs": [],
   "source": [
    "import requests\n",
    "import pandas as pd\n",
    "import random\n",
    "import re\n",
    "import time\n",
    "import csv"
   ]
  },
  {
   "cell_type": "code",
   "execution_count": 7,
   "id": "09792701",
   "metadata": {},
   "outputs": [],
   "source": [
    "openalex_papers = pd.read_csv(\"../../data/processed/openalex_papers.csv\")"
   ]
  },
  {
   "cell_type": "code",
   "execution_count": 8,
   "id": "80227379",
   "metadata": {},
   "outputs": [],
   "source": [
    "openalex_id = openalex_papers.openalex_id.tolist()"
   ]
  },
  {
   "cell_type": "code",
   "execution_count": 9,
   "id": "72ceb738",
   "metadata": {},
   "outputs": [],
   "source": [
    "random_ids = random.sample(openalex_id, 1000)"
   ]
  },
  {
   "cell_type": "code",
   "execution_count": 10,
   "id": "25063f5c",
   "metadata": {},
   "outputs": [
    {
     "data": {
      "text/plain": [
       "'https://api.openalex.org/W2580159549'"
      ]
     },
     "execution_count": 10,
     "metadata": {},
     "output_type": "execute_result"
    }
   ],
   "source": [
    "re.sub('openalex.org', 'api.openalex.org', random_ids[1])"
   ]
  },
  {
   "cell_type": "code",
   "execution_count": 11,
   "id": "ee90694f",
   "metadata": {},
   "outputs": [],
   "source": [
    "urls = [re.sub('openalex.org', 'api.openalex.org', id) for id in random_ids]"
   ]
  },
  {
   "cell_type": "code",
   "execution_count": 12,
   "id": "194ff16d",
   "metadata": {},
   "outputs": [],
   "source": [
    "good_urls = []\n",
    "bad_urls = []"
   ]
  },
  {
   "cell_type": "code",
   "execution_count": 54,
   "id": "57804489",
   "metadata": {},
   "outputs": [
    {
     "name": "stdout",
     "output_type": "stream",
     "text": [
      "100 is done\n",
      "101 is done\n",
      "102 is done\n",
      "103 is done\n",
      "104 is done\n",
      "105 is done\n",
      "106 is done\n",
      "107 is done\n",
      "108 is done\n",
      "109 is done\n",
      "110 is done\n",
      "--- 84.31335496902466 seconds ---\n"
     ]
    }
   ],
   "source": [
    "\"\"\"Query Work ID; With Email\n",
    "\"\"\"\n",
    "start_time = time.time()\n",
    "for url in urls[100:111]:\n",
    "    response = requests.get(url + '?mailto=hongtaoh@cs.wisc.edu')\n",
    "    if response.status_code == 200:\n",
    "        good_urls.append(url)\n",
    "    else:\n",
    "        bad_urls.append(url)\n",
    "    print(str(urls.index(url)) + ' is done')\n",
    "print(\"--- %s seconds ---\" % (time.time() - start_time))"
   ]
  },
  {
   "cell_type": "code",
   "execution_count": 15,
   "id": "e19575c0",
   "metadata": {},
   "outputs": [],
   "source": [
    "def read_txt(INPUT):\n",
    "    \"\"\"read txt files and return a list\n",
    "    \"\"\"\n",
    "    raw = open(INPUT, \"r\")\n",
    "    reader = csv.reader(raw)\n",
    "    allRows = [row for row in reader]\n",
    "    data = [i[0] for i in allRows]\n",
    "    return data"
   ]
  },
  {
   "cell_type": "code",
   "execution_count": 16,
   "id": "a9c90f1c",
   "metadata": {},
   "outputs": [],
   "source": [
    "good_dois = read_txt(\"../../data/processed/vispd_good_dois.txt\")"
   ]
  },
  {
   "cell_type": "code",
   "execution_count": 17,
   "id": "4d25f446",
   "metadata": {},
   "outputs": [],
   "source": [
    "accessible_doi_list = []\n",
    "inaccessible_doi_list = []"
   ]
  },
  {
   "cell_type": "code",
   "execution_count": 70,
   "id": "a6c6ad8f",
   "metadata": {},
   "outputs": [
    {
     "name": "stdout",
     "output_type": "stream",
     "text": [
      "100 is done\n",
      "101 is done\n",
      "102 is done\n",
      "103 is done\n",
      "104 is done\n",
      "105 is done\n",
      "106 is done\n",
      "107 is done\n",
      "108 is done\n",
      "109 is done\n",
      "110 is done\n",
      "--- 71.78372001647949 seconds ---\n"
     ]
    }
   ],
   "source": [
    "\"\"\"Query DOI-URL; With Email\n",
    "\"\"\"\n",
    "start_time = time.time()\n",
    "for doi in good_dois[100:111]:\n",
    "    response = requests.get('https://api.openalex.org/works/https://doi.org/' + doi + \"?mailto=hongtaoh@cs.wisc.edu\")\n",
    "    if response.status_code == 200:\n",
    "        accessible_doi_list.append(doi)\n",
    "    else:\n",
    "        inaccessible_doi_list.append(doi)\n",
    "    print(str(good_dois.index(doi)) + \" is done\")\n",
    "print(\"--- %s seconds ---\" % (time.time() - start_time))"
   ]
  },
  {
   "cell_type": "code",
   "execution_count": 71,
   "id": "7c10820b",
   "metadata": {},
   "outputs": [
    {
     "name": "stdout",
     "output_type": "stream",
     "text": [
      "200 is done\n",
      "201 is done\n",
      "202 is done\n",
      "203 is done\n",
      "204 is done\n",
      "205 is done\n",
      "206 is done\n",
      "207 is done\n",
      "208 is done\n",
      "209 is done\n",
      "210 is done\n",
      "--- 103.76741623878479 seconds ---\n"
     ]
    }
   ],
   "source": [
    "\"\"\"Query Work ID; With Email; Second try\n",
    "\"\"\"\n",
    "start_time = time.time()\n",
    "for url in urls[200:211]:\n",
    "    response = requests.get(url + '?mailto=hongtaoh@cs.wisc.edu')\n",
    "    if response.status_code == 200:\n",
    "        good_urls.append(url)\n",
    "    else:\n",
    "        bad_urls.append(url)\n",
    "    print(str(urls.index(url)) + ' is done')\n",
    "print(\"--- %s seconds ---\" % (time.time() - start_time))"
   ]
  },
  {
   "cell_type": "code",
   "execution_count": 72,
   "id": "dd10fdc5",
   "metadata": {},
   "outputs": [
    {
     "name": "stdout",
     "output_type": "stream",
     "text": [
      "200 is done\n",
      "201 is done\n",
      "202 is done\n",
      "203 is done\n",
      "204 is done\n",
      "205 is done\n",
      "206 is done\n",
      "207 is done\n",
      "208 is done\n",
      "209 is done\n",
      "210 is done\n",
      "--- 93.90668511390686 seconds ---\n"
     ]
    }
   ],
   "source": [
    "\"\"\"Query DOI-URL; With Email; Second try\n",
    "\"\"\"\n",
    "start_time = time.time()\n",
    "for doi in good_dois[200:211]:\n",
    "    response = requests.get('https://api.openalex.org/works/https://doi.org/' + doi + \"?mailto=hongtaoh@cs.wisc.edu\")\n",
    "    if response.status_code == 200:\n",
    "        accessible_doi_list.append(doi)\n",
    "    else:\n",
    "        inaccessible_doi_list.append(doi)\n",
    "    print(str(good_dois.index(doi)) + \" is done\")\n",
    "print(\"--- %s seconds ---\" % (time.time() - start_time))"
   ]
  },
  {
   "cell_type": "code",
   "execution_count": 75,
   "id": "ba4b4406",
   "metadata": {},
   "outputs": [
    {
     "name": "stdout",
     "output_type": "stream",
     "text": [
      "300 is done\n",
      "301 is done\n",
      "302 is done\n",
      "303 is done\n",
      "304 is done\n",
      "305 is done\n",
      "306 is done\n",
      "307 is done\n",
      "308 is done\n",
      "309 is done\n",
      "310 is done\n",
      "--- 66.96720790863037 seconds ---\n"
     ]
    }
   ],
   "source": [
    "\"\"\"Query DOI-URL; Without Email\n",
    "\"\"\"\n",
    "start_time = time.time()\n",
    "for doi in good_dois[300:311]:\n",
    "    response = requests.get('https://api.openalex.org/works/https://doi.org/' + doi)\n",
    "    if response.status_code == 200:\n",
    "        accessible_doi_list.append(doi)\n",
    "    else:\n",
    "        inaccessible_doi_list.append(doi)\n",
    "    print(str(good_dois.index(doi)) + \" is done\")\n",
    "print(\"--- %s seconds ---\" % (time.time() - start_time))"
   ]
  },
  {
   "cell_type": "code",
   "execution_count": 18,
   "id": "eba60ddc",
   "metadata": {},
   "outputs": [
    {
     "name": "stdout",
     "output_type": "stream",
     "text": [
      "400 is done\n",
      "401 is done\n",
      "402 is done\n",
      "403 is done\n",
      "404 is done\n",
      "405 is done\n",
      "406 is done\n",
      "407 is done\n",
      "408 is done\n",
      "409 is done\n",
      "410 is done\n",
      "--- 58.55331301689148 seconds ---\n"
     ]
    }
   ],
   "source": [
    "\"\"\"Query DOI Without URL\n",
    "\"\"\"\n",
    "start_time = time.time()\n",
    "for doi in good_dois[400:411]:\n",
    "    response = requests.get('https://api.openalex.org/works/doi:' + doi)\n",
    "    if response.status_code == 200:\n",
    "        accessible_doi_list.append(doi)\n",
    "    else:\n",
    "        inaccessible_doi_list.append(doi)\n",
    "    print(str(good_dois.index(doi)) + \" is done\")\n",
    "print(\"--- %s seconds ---\" % (time.time() - start_time))"
   ]
  },
  {
   "cell_type": "code",
   "execution_count": 19,
   "id": "720c3373",
   "metadata": {},
   "outputs": [
    {
     "name": "stdout",
     "output_type": "stream",
     "text": [
      "500 is done\n",
      "501 is done\n",
      "502 is done\n",
      "503 is done\n",
      "504 is done\n",
      "505 is done\n",
      "506 is done\n",
      "507 is done\n",
      "508 is done\n",
      "509 is done\n",
      "510 is done\n",
      "--- 58.893771171569824 seconds ---\n"
     ]
    }
   ],
   "source": [
    "\"\"\"Query DOI Without URL; Second try\n",
    "\"\"\"\n",
    "start_time = time.time()\n",
    "for doi in good_dois[500:511]:\n",
    "    response = requests.get('https://api.openalex.org/works/doi:' + doi)\n",
    "    if response.status_code == 200:\n",
    "        accessible_doi_list.append(doi)\n",
    "    else:\n",
    "        inaccessible_doi_list.append(doi)\n",
    "    print(str(good_dois.index(doi)) + \" is done\")\n",
    "print(\"--- %s seconds ---\" % (time.time() - start_time))"
   ]
  },
  {
   "cell_type": "code",
   "execution_count": 20,
   "id": "91436ae2",
   "metadata": {},
   "outputs": [
    {
     "name": "stdout",
     "output_type": "stream",
     "text": [
      "600 is done\n",
      "601 is done\n",
      "602 is done\n",
      "603 is done\n",
      "604 is done\n",
      "605 is done\n",
      "606 is done\n",
      "607 is done\n",
      "608 is done\n",
      "609 is done\n",
      "610 is done\n",
      "--- 42.274906873703 seconds ---\n"
     ]
    }
   ],
   "source": [
    "\"\"\"Query DOI-URL; Without Email; Second try\n",
    "\"\"\"\n",
    "start_time = time.time()\n",
    "for doi in good_dois[600:611]:\n",
    "    response = requests.get('https://api.openalex.org/works/https://doi.org/' + doi)\n",
    "    if response.status_code == 200:\n",
    "        accessible_doi_list.append(doi)\n",
    "    else:\n",
    "        inaccessible_doi_list.append(doi)\n",
    "    print(str(good_dois.index(doi)) + \" is done\")\n",
    "print(\"--- %s seconds ---\" % (time.time() - start_time))"
   ]
  },
  {
   "cell_type": "code",
   "execution_count": 21,
   "id": "34436502",
   "metadata": {},
   "outputs": [
    {
     "name": "stdout",
     "output_type": "stream",
     "text": [
      "700 is done\n",
      "701 is done\n",
      "702 is done\n",
      "703 is done\n",
      "704 is done\n",
      "705 is done\n",
      "706 is done\n",
      "707 is done\n",
      "708 is done\n",
      "709 is done\n",
      "710 is done\n",
      "--- 60.83546805381775 seconds ---\n"
     ]
    }
   ],
   "source": [
    "\"\"\"Query DOI-URL; With Email; Third try\n",
    "\"\"\"\n",
    "start_time = time.time()\n",
    "for doi in good_dois[700:711]:\n",
    "    response = requests.get('https://api.openalex.org/works/https://doi.org/' + doi + '?mailto=hongtaoh@cs.wisc.edu')\n",
    "    if response.status_code == 200:\n",
    "        accessible_doi_list.append(doi)\n",
    "    else:\n",
    "        inaccessible_doi_list.append(doi)\n",
    "    print(str(good_dois.index(doi)) + \" is done\")\n",
    "print(\"--- %s seconds ---\" % (time.time() - start_time))"
   ]
  },
  {
   "cell_type": "markdown",
   "id": "7cea1cea",
   "metadata": {},
   "source": [
    "## Two conclusions:\n",
    "\n",
    "- Being in the polite pool doesn't make your query faster. \n",
    "- Quering Work ID is even slower than querying paper DOIs: There is no need to convert DOIs to OpenAlex Work ID. "
   ]
  },
  {
   "cell_type": "code",
   "execution_count": null,
   "id": "7ad2b647",
   "metadata": {},
   "outputs": [],
   "source": []
  }
 ],
 "metadata": {
  "kernelspec": {
   "display_name": "Python 3 (ipykernel)",
   "language": "python",
   "name": "python3"
  },
  "language_info": {
   "codemirror_mode": {
    "name": "ipython",
    "version": 3
   },
   "file_extension": ".py",
   "mimetype": "text/x-python",
   "name": "python",
   "nbconvert_exporter": "python",
   "pygments_lexer": "ipython3",
   "version": "3.8.12"
  }
 },
 "nbformat": 4,
 "nbformat_minor": 5
}
