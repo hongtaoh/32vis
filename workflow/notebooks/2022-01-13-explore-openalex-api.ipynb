{
 "cells": [
  {
   "cell_type": "markdown",
   "id": "0146211e",
   "metadata": {},
   "source": [
    "In this notebook, I tried to access papers on OpenAlex via DOI search. I searched for 3391 DOIs (good_dois of VISPUBDATA). I then exported DOIs that are searchable on OpenAlex and DOIs that are not searchable. "
   ]
  },
  {
   "cell_type": "code",
   "execution_count": 51,
   "id": "c2b3f284",
   "metadata": {},
   "outputs": [],
   "source": [
    "import requests\n",
    "import csv\n",
    "import random"
   ]
  },
  {
   "cell_type": "code",
   "execution_count": 52,
   "id": "413a8fba",
   "metadata": {},
   "outputs": [],
   "source": [
    "response = requests.get(\"https://api.openalex.org/works/https://doi.org/10.1109/TVCG.2020.3030380\")"
   ]
  },
  {
   "cell_type": "code",
   "execution_count": 41,
   "id": "3033ba44",
   "metadata": {},
   "outputs": [
    {
     "data": {
      "text/plain": [
       "200"
      ]
     },
     "execution_count": 41,
     "metadata": {},
     "output_type": "execute_result"
    }
   ],
   "source": [
    "response.status_code"
   ]
  },
  {
   "cell_type": "code",
   "execution_count": 42,
   "id": "35acdd87",
   "metadata": {},
   "outputs": [],
   "source": [
    "def jprint(obj):\n",
    "    # create a formatted string of the Python JSON object\n",
    "    text = json.dumps(obj, sort_keys=True, indent=4)\n",
    "    print(text)"
   ]
  },
  {
   "cell_type": "code",
   "execution_count": 43,
   "id": "7f8cd83b",
   "metadata": {},
   "outputs": [
    {
     "data": {
      "text/plain": [
       "{'id': 'https://openalex.org/W3083082685',\n",
       " 'doi': 'https://doi.org/10.1109/tvcg.2020.3030380',\n",
       " 'display_name': 'HyperTendril: Visual Analytics for User-Driven Hyperparameter Optimization of Deep Neural Networks',\n",
       " 'title': 'HyperTendril: Visual Analytics for User-Driven Hyperparameter Optimization of Deep Neural Networks',\n",
       " 'publication_year': 2021,\n",
       " 'publication_date': '2021-01-28',\n",
       " 'ids': {'openalex': 'https://openalex.org/W3083082685',\n",
       "  'doi': 'https://doi.org/10.1109/tvcg.2020.3030380',\n",
       "  'pmid': 'https://pubmed.ncbi.nlm.nih.gov/33048706',\n",
       "  'mag': 3083082685},\n",
       " 'host_venue': {'id': 'https://openalex.org/V84775595',\n",
       "  'issn_l': '1077-2626',\n",
       "  'issn': ['2160-9306', '1941-0506', '1077-2626'],\n",
       "  'display_name': 'IEEE Transactions on Visualization and Computer Graphics',\n",
       "  'publisher': 'Institute of Electrical and Electronics Engineers',\n",
       "  'type': 'repository',\n",
       "  'url': 'https://doi.org/10.1109/tvcg.2020.3030380',\n",
       "  'is_oa': True,\n",
       "  'version': 'submittedVersion',\n",
       "  'license': None},\n",
       " 'type': 'journal-article',\n",
       " 'open_access': {'is_oa': True,\n",
       "  'oa_status': 'green',\n",
       "  'oa_url': 'http://arxiv.org/pdf/2009.02078'},\n",
       " 'authorships': [{'author_position': 'first',\n",
       "   'author': {'id': 'https://openalex.org/A2895452734',\n",
       "    'display_name': 'Heungseok Park',\n",
       "    'orcid': None},\n",
       "   'institutions': [{'id': 'https://openalex.org/I60922564',\n",
       "     'display_name': 'Naver Corporation',\n",
       "     'ror': 'https://ror.org/04nzrnx83',\n",
       "     'country_code': 'KR',\n",
       "     'type': 'company'}]},\n",
       "  {'author_position': 'middle',\n",
       "   'author': {'id': 'https://openalex.org/A3083464015',\n",
       "    'display_name': 'Yoonsoo Nam',\n",
       "    'orcid': None},\n",
       "   'institutions': [{'id': 'https://openalex.org/I60922564',\n",
       "     'display_name': 'Naver Corporation',\n",
       "     'ror': 'https://ror.org/04nzrnx83',\n",
       "     'country_code': 'KR',\n",
       "     'type': 'company'}]},\n",
       "  {'author_position': 'middle',\n",
       "   'author': {'id': 'https://openalex.org/A2971830644',\n",
       "    'display_name': 'Ji-Hoon Kim',\n",
       "    'orcid': None},\n",
       "   'institutions': [{'id': 'https://openalex.org/I60922564',\n",
       "     'display_name': 'Naver Corporation',\n",
       "     'ror': 'https://ror.org/04nzrnx83',\n",
       "     'country_code': 'KR',\n",
       "     'type': 'company'}]},\n",
       "  {'author_position': 'last',\n",
       "   'author': {'id': 'https://openalex.org/A2148380128',\n",
       "    'display_name': 'Jaegul Choo',\n",
       "    'orcid': 'https://orcid.org/0000-0003-1071-4835'},\n",
       "   'institutions': []}],\n",
       " 'cited_by_count': 4,\n",
       " 'biblio': {'volume': '27',\n",
       "  'issue': '2',\n",
       "  'first_page': '1407',\n",
       "  'last_page': '1416'},\n",
       " 'is_retracted': False,\n",
       " 'is_paratext': False,\n",
       " 'concepts': [{'id': 'https://openalex.org/C41008148',\n",
       "   'wikidata': 'https://www.wikidata.org/wiki/Q21198',\n",
       "   'display_name': 'Computer science',\n",
       "   'level': 0,\n",
       "   'score': 0.834266},\n",
       "  {'id': 'https://openalex.org/C154945302',\n",
       "   'wikidata': 'https://www.wikidata.org/wiki/Q11660',\n",
       "   'display_name': 'Artificial intelligence',\n",
       "   'level': 1,\n",
       "   'score': 0.51405},\n",
       "  {'id': 'https://openalex.org/C108583219',\n",
       "   'wikidata': 'https://www.wikidata.org/wiki/Q197536',\n",
       "   'display_name': 'Deep learning',\n",
       "   'level': 2,\n",
       "   'score': 0.508572},\n",
       "  {'id': 'https://openalex.org/C119857082',\n",
       "   'wikidata': 'https://www.wikidata.org/wiki/Q2539',\n",
       "   'display_name': 'Machine learning',\n",
       "   'level': 1,\n",
       "   'score': 0.468072},\n",
       "  {'id': 'https://openalex.org/C50644808',\n",
       "   'wikidata': 'https://www.wikidata.org/wiki/Q192776',\n",
       "   'display_name': 'Artificial neural network',\n",
       "   'level': 2,\n",
       "   'score': 0.442968},\n",
       "  {'id': 'https://openalex.org/C8642999',\n",
       "   'wikidata': 'https://www.wikidata.org/wiki/Q4171168',\n",
       "   'display_name': 'Hyperparameter',\n",
       "   'level': 2,\n",
       "   'score': 0.398257},\n",
       "  {'id': 'https://openalex.org/C81363708',\n",
       "   'wikidata': 'https://www.wikidata.org/wiki/Q17084460',\n",
       "   'display_name': 'Convolutional neural network',\n",
       "   'level': 2,\n",
       "   'score': 0.365028},\n",
       "  {'id': 'https://openalex.org/C10485038',\n",
       "   'wikidata': 'https://www.wikidata.org/wiki/Q48996162',\n",
       "   'display_name': 'Hyperparameter optimization',\n",
       "   'level': 3,\n",
       "   'score': 0.346895}],\n",
       " 'mesh': [],\n",
       " 'alternate_host_venues': [{'id': None,\n",
       "   'display_name': 'arXiv',\n",
       "   'type': 'repository',\n",
       "   'url': 'http://arxiv.org/pdf/2009.02078',\n",
       "   'is_oa': True,\n",
       "   'version': 'submittedVersion',\n",
       "   'license': None},\n",
       "  {'id': None,\n",
       "   'display_name': 'arXiv',\n",
       "   'type': 'repository',\n",
       "   'url': 'https://arxiv.org/abs/2009.02078',\n",
       "   'is_oa': True,\n",
       "   'version': 'submittedVersion',\n",
       "   'license': None}],\n",
       " 'referenced_works': ['https://openalex.org/W2779809129',\n",
       "  'https://openalex.org/W2883265831',\n",
       "  'https://openalex.org/W2064675550',\n",
       "  'https://openalex.org/W2751298778',\n",
       "  'https://openalex.org/W2783239537',\n",
       "  'https://openalex.org/W2985747422',\n",
       "  'https://openalex.org/W3011045833',\n",
       "  'https://openalex.org/W2896774728',\n",
       "  'https://openalex.org/W1973012451',\n",
       "  'https://openalex.org/W2097998348',\n",
       "  'https://openalex.org/W2965446359',\n",
       "  'https://openalex.org/W2611211287',\n",
       "  'https://openalex.org/W2902261431',\n",
       "  'https://openalex.org/W2949676527',\n",
       "  'https://openalex.org/W3099545035',\n",
       "  'https://openalex.org/W2750068734',\n",
       "  'https://openalex.org/W2770298516',\n",
       "  'https://openalex.org/W2964284859',\n",
       "  'https://openalex.org/W114730584',\n",
       "  'https://openalex.org/W2194775991',\n",
       "  'https://openalex.org/W2510750606',\n",
       "  'https://openalex.org/W2913615284',\n",
       "  'https://openalex.org/W1522301498',\n",
       "  'https://openalex.org/W2029320154',\n",
       "  'https://openalex.org/W2119885577',\n",
       "  'https://openalex.org/W2787457002',\n",
       "  'https://openalex.org/W2963423218',\n",
       "  'https://openalex.org/W2034694694',\n",
       "  'https://openalex.org/W2895709428',\n",
       "  'https://openalex.org/W2192203593',\n",
       "  'https://openalex.org/W2602814102',\n",
       "  'https://openalex.org/W2895976713',\n",
       "  'https://openalex.org/W3099934359',\n",
       "  'https://openalex.org/W2526869758',\n",
       "  'https://openalex.org/W2732547613',\n",
       "  'https://openalex.org/W2788079077',\n",
       "  'https://openalex.org/W2250904038',\n",
       "  'https://openalex.org/W2963815651',\n",
       "  'https://openalex.org/W2780624097',\n",
       "  'https://openalex.org/W332067359'],\n",
       " 'related_works': ['https://openalex.org/W2113207845',\n",
       "  'https://openalex.org/W3090876870',\n",
       "  'https://openalex.org/W2898551920',\n",
       "  'https://openalex.org/W3185399930',\n",
       "  'https://openalex.org/W3153187842',\n",
       "  'https://openalex.org/W2895938197',\n",
       "  'https://openalex.org/W3088405443',\n",
       "  'https://openalex.org/W3199107835',\n",
       "  'https://openalex.org/W2951641664',\n",
       "  'https://openalex.org/W2110008785',\n",
       "  'https://openalex.org/W2962997512',\n",
       "  'https://openalex.org/W2974880634',\n",
       "  'https://openalex.org/W2126485319',\n",
       "  'https://openalex.org/W3135529416',\n",
       "  'https://openalex.org/W2914781968',\n",
       "  'https://openalex.org/W2974041071',\n",
       "  'https://openalex.org/W2323349750',\n",
       "  'https://openalex.org/W2045729318',\n",
       "  'https://openalex.org/W3000203266',\n",
       "  'https://openalex.org/W2948233546'],\n",
       " 'abstract_inverted_index': {'To': [0],\n",
       "  'mitigate': [1],\n",
       "  'the': [2, 34, 110, 114, 117, 135, 156, 164, 178, 196],\n",
       "  'pain': [3],\n",
       "  'of': [4, 8, 26, 37, 116, 138, 166, 169, 198],\n",
       "  'manually': [5],\n",
       "  'tuning': [6, 83, 103, 187],\n",
       "  'hyperparameters': [7, 27, 171],\n",
       "  'deep': [9],\n",
       "  'neural': [10],\n",
       "  'networks,': [11],\n",
       "  'automated': [12],\n",
       "  'machine': [13],\n",
       "  'learning': [14],\n",
       "  '(AutoML)': [15],\n",
       "  'methods': [16, 39],\n",
       "  'have': [17],\n",
       "  'been': [18],\n",
       "  'developed': [19],\n",
       "  'to': [20, 50, 94, 108, 154],\n",
       "  'search': [21, 31, 35, 111, 141, 160],\n",
       "  'for': [22],\n",
       "  'an': [23, 100],\n",
       "  'optimal': [24],\n",
       "  'set': [25],\n",
       "  'in': [28, 66, 85, 209],\n",
       "  'large': [29],\n",
       "  'combinatorial': [30],\n",
       "  'spaces.': [32],\n",
       "  'However,': [33],\n",
       "  'results': [36],\n",
       "  'AutoML': [38, 118],\n",
       "  'significantly': [40],\n",
       "  'depend': [41],\n",
       "  'on': [42, 121, 163, 195],\n",
       "  'initial': [43],\n",
       "  'configurations,': [44],\n",
       "  'making': [45],\n",
       "  'it': [46],\n",
       "  'a': [47, 52, 59, 74, 86, 91, 190, 210],\n",
       "  'non-trivial': [48],\n",
       "  'task': [49],\n",
       "  'find': [51],\n",
       "  'proper': [53],\n",
       "  'configuration.': [54],\n",
       "  'Therefore,': [55],\n",
       "  'human': [56],\n",
       "  'intervention': [57],\n",
       "  'via': [58, 189],\n",
       "  'visual': [60, 76],\n",
       "  'analytic': [61],\n",
       "  'approach': [62, 93],\n",
       "  'bears': [63],\n",
       "  'huge': [64],\n",
       "  'potential': [65],\n",
       "  'this': [67],\n",
       "  'task.': [68],\n",
       "  'In': [69, 147],\n",
       "  'response,': [70],\n",
       "  'we': [71, 205],\n",
       "  'propose': [72],\n",
       "  'HyperTendril,': [73, 129],\n",
       "  'web-based': [75],\n",
       "  'analytics': [77],\n",
       "  'system': [78, 208],\n",
       "  'that': [79, 105],\n",
       "  'supports': [80, 150],\n",
       "  'user-driven': [81],\n",
       "  'hyperparameter': [82, 97, 140],\n",
       "  'processes': [84, 188],\n",
       "  'model-agnostic': [87],\n",
       "  'environment.': [88, 213],\n",
       "  'HyperTendril': [89, 149, 182],\n",
       "  'takes': [90],\n",
       "  'novel': [92],\n",
       "  'effectively': [95],\n",
       "  'steering': [96],\n",
       "  'optimization': [98],\n",
       "  'through': [99],\n",
       "  'iterative,': [101],\n",
       "  'interactive': [102],\n",
       "  'procedure': [104],\n",
       "  'allows': [106],\n",
       "  'users': [107, 130, 157, 184],\n",
       "  'refine': [109, 158],\n",
       "  'spaces': [112, 161],\n",
       "  'and': [113, 143, 172, 201],\n",
       "  'configuration': [115],\n",
       "  'method': [119],\n",
       "  'based': [120, 162, 194],\n",
       "  'their': [122, 145, 159, 173, 186],\n",
       "  'own': [123],\n",
       "  'insights': [124, 133],\n",
       "  'from': [125],\n",
       "  'given': [126],\n",
       "  'results.': [127],\n",
       "  'Using': [128],\n",
       "  'can': [131],\n",
       "  'obtain': [132],\n",
       "  'into': [134],\n",
       "  'complex': [136],\n",
       "  'behaviors': [137],\n",
       "  'various': [139],\n",
       "  'algorithms': [142],\n",
       "  'diagnose': [144],\n",
       "  'configurations.': [146],\n",
       "  'addition,': [148],\n",
       "  'variable': [151],\n",
       "  'importance': [152, 168],\n",
       "  'analysis': [153, 165, 197],\n",
       "  'help': [155],\n",
       "  'relative': [167],\n",
       "  'different': [170],\n",
       "  'interaction': [174, 199],\n",
       "  'effects.': [175],\n",
       "  'We': [176],\n",
       "  'present': [177],\n",
       "  'evaluation': [179],\n",
       "  'demonstrating': [180],\n",
       "  'how': [181],\n",
       "  'helps': [183],\n",
       "  'steer': [185],\n",
       "  'longitudinal': [191],\n",
       "  'user': [192],\n",
       "  'study': [193],\n",
       "  'logs': [200],\n",
       "  'in-depth': [202],\n",
       "  'interviews': [203],\n",
       "  'while': [204],\n",
       "  'deploy': [206],\n",
       "  'our': [207],\n",
       "  'professional': [211],\n",
       "  'industrial': [212]},\n",
       " 'counts_by_year': [{'year': 2021, 'cited_by_count': 3},\n",
       "  {'year': 2020, 'cited_by_count': 1}],\n",
       " 'cited_by_api_url': ['https://api.openalex.org/works?filter=cites:W3083082685'],\n",
       " 'updated_date': '2021-11-03T23:47:31.356428'}"
      ]
     },
     "execution_count": 43,
     "metadata": {},
     "output_type": "execute_result"
    }
   ],
   "source": [
    "j = response.json()\n",
    "j"
   ]
  },
  {
   "cell_type": "code",
   "execution_count": 44,
   "id": "6839b25b",
   "metadata": {},
   "outputs": [
    {
     "data": {
      "text/plain": [
       "[{'id': 'https://openalex.org/I60922564',\n",
       "  'display_name': 'Naver Corporation',\n",
       "  'ror': 'https://ror.org/04nzrnx83',\n",
       "  'country_code': 'KR',\n",
       "  'type': 'company'}]"
      ]
     },
     "execution_count": 44,
     "metadata": {},
     "output_type": "execute_result"
    }
   ],
   "source": [
    "j['authorships'][1]['institutions']"
   ]
  },
  {
   "cell_type": "code",
   "execution_count": 45,
   "id": "289fef1d",
   "metadata": {},
   "outputs": [],
   "source": [
    "r = requests.get('https://api.openalex.org/works/doi:10.1109/TVCG.2020.303038')"
   ]
  },
  {
   "cell_type": "code",
   "execution_count": 46,
   "id": "13fae99a",
   "metadata": {},
   "outputs": [
    {
     "data": {
      "text/plain": [
       "True"
      ]
     },
     "execution_count": 46,
     "metadata": {},
     "output_type": "execute_result"
    }
   ],
   "source": [
    "r.status_code == 404"
   ]
  },
  {
   "cell_type": "code",
   "execution_count": 47,
   "id": "f2f46145",
   "metadata": {},
   "outputs": [],
   "source": [
    "\"\"\"Open `good_dois` and convert it to a list\n",
    "\"\"\"\n",
    "\n",
    "good_dois = open(\"../../data/processed/good_dois.txt\", 'r')\n",
    "reader = csv.reader(good_dois)\n",
    "allRows = [row for row in reader]\n",
    "dois = [i[0] for i in allRows]"
   ]
  },
  {
   "cell_type": "code",
   "execution_count": 48,
   "id": "4d18057d",
   "metadata": {},
   "outputs": [],
   "source": [
    "\"\"\"randomly select 30 dois\n",
    "\"\"\"\n",
    "random.seed(1234)\n",
    "random_dois = random.sample(dois, 100)"
   ]
  },
  {
   "cell_type": "code",
   "execution_count": 49,
   "id": "7b9875e5",
   "metadata": {},
   "outputs": [],
   "source": [
    "accessible_doi_list = []\n",
    "inaccessible_doi_list = []"
   ]
  },
  {
   "cell_type": "code",
   "execution_count": 50,
   "id": "d6f53098",
   "metadata": {},
   "outputs": [
    {
     "name": "stdout",
     "output_type": "stream",
     "text": [
      "0 is done\n",
      "1 is done\n",
      "2 is done\n",
      "3 is done\n",
      "4 is done\n",
      "5 is done\n",
      "6 is done\n",
      "7 is done\n",
      "8 is done\n",
      "9 is done\n",
      "10 is done\n"
     ]
    },
    {
     "ename": "KeyboardInterrupt",
     "evalue": "",
     "output_type": "error",
     "traceback": [
      "\u001b[0;31m---------------------------------------------------------------------------\u001b[0m",
      "\u001b[0;31mKeyboardInterrupt\u001b[0m                         Traceback (most recent call last)",
      "\u001b[0;32m/var/folders/z2/5kr96fyn63z_tj_bwr33t5dw0000gn/T/ipykernel_20827/830780839.py\u001b[0m in \u001b[0;36m<module>\u001b[0;34m\u001b[0m\n\u001b[1;32m      1\u001b[0m \u001b[0;32mfor\u001b[0m \u001b[0mdoi\u001b[0m \u001b[0;32min\u001b[0m \u001b[0mdois\u001b[0m\u001b[0;34m:\u001b[0m\u001b[0;34m\u001b[0m\u001b[0;34m\u001b[0m\u001b[0m\n\u001b[0;32m----> 2\u001b[0;31m     \u001b[0mresponse\u001b[0m \u001b[0;34m=\u001b[0m \u001b[0mrequests\u001b[0m\u001b[0;34m.\u001b[0m\u001b[0mget\u001b[0m\u001b[0;34m(\u001b[0m\u001b[0;34m'https://api.openalex.org/works/https://doi.org/'\u001b[0m \u001b[0;34m+\u001b[0m \u001b[0mdoi\u001b[0m \u001b[0;34m+\u001b[0m \u001b[0;34m\"?mailto=hongtaoh@cs.wisc.edu\"\u001b[0m\u001b[0;34m)\u001b[0m\u001b[0;34m\u001b[0m\u001b[0;34m\u001b[0m\u001b[0m\n\u001b[0m\u001b[1;32m      3\u001b[0m     \u001b[0;32mif\u001b[0m \u001b[0mresponse\u001b[0m\u001b[0;34m.\u001b[0m\u001b[0mstatus_code\u001b[0m \u001b[0;34m==\u001b[0m \u001b[0;36m200\u001b[0m\u001b[0;34m:\u001b[0m\u001b[0;34m\u001b[0m\u001b[0;34m\u001b[0m\u001b[0m\n\u001b[1;32m      4\u001b[0m         \u001b[0maccessible_doi_list\u001b[0m\u001b[0;34m.\u001b[0m\u001b[0mappend\u001b[0m\u001b[0;34m(\u001b[0m\u001b[0mdoi\u001b[0m\u001b[0;34m)\u001b[0m\u001b[0;34m\u001b[0m\u001b[0;34m\u001b[0m\u001b[0m\n\u001b[1;32m      5\u001b[0m     \u001b[0;32melse\u001b[0m\u001b[0;34m:\u001b[0m\u001b[0;34m\u001b[0m\u001b[0;34m\u001b[0m\u001b[0m\n",
      "\u001b[0;32m/opt/anaconda3/envs/31vis/lib/python3.8/site-packages/requests/api.py\u001b[0m in \u001b[0;36mget\u001b[0;34m(url, params, **kwargs)\u001b[0m\n\u001b[1;32m     73\u001b[0m     \"\"\"\n\u001b[1;32m     74\u001b[0m \u001b[0;34m\u001b[0m\u001b[0m\n\u001b[0;32m---> 75\u001b[0;31m     \u001b[0;32mreturn\u001b[0m \u001b[0mrequest\u001b[0m\u001b[0;34m(\u001b[0m\u001b[0;34m'get'\u001b[0m\u001b[0;34m,\u001b[0m \u001b[0murl\u001b[0m\u001b[0;34m,\u001b[0m \u001b[0mparams\u001b[0m\u001b[0;34m=\u001b[0m\u001b[0mparams\u001b[0m\u001b[0;34m,\u001b[0m \u001b[0;34m**\u001b[0m\u001b[0mkwargs\u001b[0m\u001b[0;34m)\u001b[0m\u001b[0;34m\u001b[0m\u001b[0;34m\u001b[0m\u001b[0m\n\u001b[0m\u001b[1;32m     76\u001b[0m \u001b[0;34m\u001b[0m\u001b[0m\n\u001b[1;32m     77\u001b[0m \u001b[0;34m\u001b[0m\u001b[0m\n",
      "\u001b[0;32m/opt/anaconda3/envs/31vis/lib/python3.8/site-packages/requests/api.py\u001b[0m in \u001b[0;36mrequest\u001b[0;34m(method, url, **kwargs)\u001b[0m\n\u001b[1;32m     59\u001b[0m     \u001b[0;31m# cases, and look like a memory leak in others.\u001b[0m\u001b[0;34m\u001b[0m\u001b[0;34m\u001b[0m\u001b[0;34m\u001b[0m\u001b[0m\n\u001b[1;32m     60\u001b[0m     \u001b[0;32mwith\u001b[0m \u001b[0msessions\u001b[0m\u001b[0;34m.\u001b[0m\u001b[0mSession\u001b[0m\u001b[0;34m(\u001b[0m\u001b[0;34m)\u001b[0m \u001b[0;32mas\u001b[0m \u001b[0msession\u001b[0m\u001b[0;34m:\u001b[0m\u001b[0;34m\u001b[0m\u001b[0;34m\u001b[0m\u001b[0m\n\u001b[0;32m---> 61\u001b[0;31m         \u001b[0;32mreturn\u001b[0m \u001b[0msession\u001b[0m\u001b[0;34m.\u001b[0m\u001b[0mrequest\u001b[0m\u001b[0;34m(\u001b[0m\u001b[0mmethod\u001b[0m\u001b[0;34m=\u001b[0m\u001b[0mmethod\u001b[0m\u001b[0;34m,\u001b[0m \u001b[0murl\u001b[0m\u001b[0;34m=\u001b[0m\u001b[0murl\u001b[0m\u001b[0;34m,\u001b[0m \u001b[0;34m**\u001b[0m\u001b[0mkwargs\u001b[0m\u001b[0;34m)\u001b[0m\u001b[0;34m\u001b[0m\u001b[0;34m\u001b[0m\u001b[0m\n\u001b[0m\u001b[1;32m     62\u001b[0m \u001b[0;34m\u001b[0m\u001b[0m\n\u001b[1;32m     63\u001b[0m \u001b[0;34m\u001b[0m\u001b[0m\n",
      "\u001b[0;32m/opt/anaconda3/envs/31vis/lib/python3.8/site-packages/requests/sessions.py\u001b[0m in \u001b[0;36mrequest\u001b[0;34m(self, method, url, params, data, headers, cookies, files, auth, timeout, allow_redirects, proxies, hooks, stream, verify, cert, json)\u001b[0m\n\u001b[1;32m    527\u001b[0m         }\n\u001b[1;32m    528\u001b[0m         \u001b[0msend_kwargs\u001b[0m\u001b[0;34m.\u001b[0m\u001b[0mupdate\u001b[0m\u001b[0;34m(\u001b[0m\u001b[0msettings\u001b[0m\u001b[0;34m)\u001b[0m\u001b[0;34m\u001b[0m\u001b[0;34m\u001b[0m\u001b[0m\n\u001b[0;32m--> 529\u001b[0;31m         \u001b[0mresp\u001b[0m \u001b[0;34m=\u001b[0m \u001b[0mself\u001b[0m\u001b[0;34m.\u001b[0m\u001b[0msend\u001b[0m\u001b[0;34m(\u001b[0m\u001b[0mprep\u001b[0m\u001b[0;34m,\u001b[0m \u001b[0;34m**\u001b[0m\u001b[0msend_kwargs\u001b[0m\u001b[0;34m)\u001b[0m\u001b[0;34m\u001b[0m\u001b[0;34m\u001b[0m\u001b[0m\n\u001b[0m\u001b[1;32m    530\u001b[0m \u001b[0;34m\u001b[0m\u001b[0m\n\u001b[1;32m    531\u001b[0m         \u001b[0;32mreturn\u001b[0m \u001b[0mresp\u001b[0m\u001b[0;34m\u001b[0m\u001b[0;34m\u001b[0m\u001b[0m\n",
      "\u001b[0;32m/opt/anaconda3/envs/31vis/lib/python3.8/site-packages/requests/sessions.py\u001b[0m in \u001b[0;36msend\u001b[0;34m(self, request, **kwargs)\u001b[0m\n\u001b[1;32m    643\u001b[0m \u001b[0;34m\u001b[0m\u001b[0m\n\u001b[1;32m    644\u001b[0m         \u001b[0;31m# Send the request\u001b[0m\u001b[0;34m\u001b[0m\u001b[0;34m\u001b[0m\u001b[0;34m\u001b[0m\u001b[0m\n\u001b[0;32m--> 645\u001b[0;31m         \u001b[0mr\u001b[0m \u001b[0;34m=\u001b[0m \u001b[0madapter\u001b[0m\u001b[0;34m.\u001b[0m\u001b[0msend\u001b[0m\u001b[0;34m(\u001b[0m\u001b[0mrequest\u001b[0m\u001b[0;34m,\u001b[0m \u001b[0;34m**\u001b[0m\u001b[0mkwargs\u001b[0m\u001b[0;34m)\u001b[0m\u001b[0;34m\u001b[0m\u001b[0;34m\u001b[0m\u001b[0m\n\u001b[0m\u001b[1;32m    646\u001b[0m \u001b[0;34m\u001b[0m\u001b[0m\n\u001b[1;32m    647\u001b[0m         \u001b[0;31m# Total elapsed time of the request (approximately)\u001b[0m\u001b[0;34m\u001b[0m\u001b[0;34m\u001b[0m\u001b[0;34m\u001b[0m\u001b[0m\n",
      "\u001b[0;32m/opt/anaconda3/envs/31vis/lib/python3.8/site-packages/requests/adapters.py\u001b[0m in \u001b[0;36msend\u001b[0;34m(self, request, stream, timeout, verify, cert, proxies)\u001b[0m\n\u001b[1;32m    438\u001b[0m         \u001b[0;32mtry\u001b[0m\u001b[0;34m:\u001b[0m\u001b[0;34m\u001b[0m\u001b[0;34m\u001b[0m\u001b[0m\n\u001b[1;32m    439\u001b[0m             \u001b[0;32mif\u001b[0m \u001b[0;32mnot\u001b[0m \u001b[0mchunked\u001b[0m\u001b[0;34m:\u001b[0m\u001b[0;34m\u001b[0m\u001b[0;34m\u001b[0m\u001b[0m\n\u001b[0;32m--> 440\u001b[0;31m                 resp = conn.urlopen(\n\u001b[0m\u001b[1;32m    441\u001b[0m                     \u001b[0mmethod\u001b[0m\u001b[0;34m=\u001b[0m\u001b[0mrequest\u001b[0m\u001b[0;34m.\u001b[0m\u001b[0mmethod\u001b[0m\u001b[0;34m,\u001b[0m\u001b[0;34m\u001b[0m\u001b[0;34m\u001b[0m\u001b[0m\n\u001b[1;32m    442\u001b[0m                     \u001b[0murl\u001b[0m\u001b[0;34m=\u001b[0m\u001b[0murl\u001b[0m\u001b[0;34m,\u001b[0m\u001b[0;34m\u001b[0m\u001b[0;34m\u001b[0m\u001b[0m\n",
      "\u001b[0;32m/opt/anaconda3/envs/31vis/lib/python3.8/site-packages/urllib3/connectionpool.py\u001b[0m in \u001b[0;36murlopen\u001b[0;34m(self, method, url, body, headers, retries, redirect, assert_same_host, timeout, pool_timeout, release_conn, chunked, body_pos, **response_kw)\u001b[0m\n\u001b[1;32m    697\u001b[0m \u001b[0;34m\u001b[0m\u001b[0m\n\u001b[1;32m    698\u001b[0m             \u001b[0;31m# Make the request on the httplib connection object.\u001b[0m\u001b[0;34m\u001b[0m\u001b[0;34m\u001b[0m\u001b[0;34m\u001b[0m\u001b[0m\n\u001b[0;32m--> 699\u001b[0;31m             httplib_response = self._make_request(\n\u001b[0m\u001b[1;32m    700\u001b[0m                 \u001b[0mconn\u001b[0m\u001b[0;34m,\u001b[0m\u001b[0;34m\u001b[0m\u001b[0;34m\u001b[0m\u001b[0m\n\u001b[1;32m    701\u001b[0m                 \u001b[0mmethod\u001b[0m\u001b[0;34m,\u001b[0m\u001b[0;34m\u001b[0m\u001b[0;34m\u001b[0m\u001b[0m\n",
      "\u001b[0;32m/opt/anaconda3/envs/31vis/lib/python3.8/site-packages/urllib3/connectionpool.py\u001b[0m in \u001b[0;36m_make_request\u001b[0;34m(self, conn, method, url, timeout, chunked, **httplib_request_kw)\u001b[0m\n\u001b[1;32m    443\u001b[0m                     \u001b[0;31m# Python 3 (including for exceptions like SystemExit).\u001b[0m\u001b[0;34m\u001b[0m\u001b[0;34m\u001b[0m\u001b[0;34m\u001b[0m\u001b[0m\n\u001b[1;32m    444\u001b[0m                     \u001b[0;31m# Otherwise it looks like a bug in the code.\u001b[0m\u001b[0;34m\u001b[0m\u001b[0;34m\u001b[0m\u001b[0;34m\u001b[0m\u001b[0m\n\u001b[0;32m--> 445\u001b[0;31m                     \u001b[0msix\u001b[0m\u001b[0;34m.\u001b[0m\u001b[0mraise_from\u001b[0m\u001b[0;34m(\u001b[0m\u001b[0me\u001b[0m\u001b[0;34m,\u001b[0m \u001b[0;32mNone\u001b[0m\u001b[0;34m)\u001b[0m\u001b[0;34m\u001b[0m\u001b[0;34m\u001b[0m\u001b[0m\n\u001b[0m\u001b[1;32m    446\u001b[0m         \u001b[0;32mexcept\u001b[0m \u001b[0;34m(\u001b[0m\u001b[0mSocketTimeout\u001b[0m\u001b[0;34m,\u001b[0m \u001b[0mBaseSSLError\u001b[0m\u001b[0;34m,\u001b[0m \u001b[0mSocketError\u001b[0m\u001b[0;34m)\u001b[0m \u001b[0;32mas\u001b[0m \u001b[0me\u001b[0m\u001b[0;34m:\u001b[0m\u001b[0;34m\u001b[0m\u001b[0;34m\u001b[0m\u001b[0m\n\u001b[1;32m    447\u001b[0m             \u001b[0mself\u001b[0m\u001b[0;34m.\u001b[0m\u001b[0m_raise_timeout\u001b[0m\u001b[0;34m(\u001b[0m\u001b[0merr\u001b[0m\u001b[0;34m=\u001b[0m\u001b[0me\u001b[0m\u001b[0;34m,\u001b[0m \u001b[0murl\u001b[0m\u001b[0;34m=\u001b[0m\u001b[0murl\u001b[0m\u001b[0;34m,\u001b[0m \u001b[0mtimeout_value\u001b[0m\u001b[0;34m=\u001b[0m\u001b[0mread_timeout\u001b[0m\u001b[0;34m)\u001b[0m\u001b[0;34m\u001b[0m\u001b[0;34m\u001b[0m\u001b[0m\n",
      "\u001b[0;32m/opt/anaconda3/envs/31vis/lib/python3.8/site-packages/urllib3/packages/six.py\u001b[0m in \u001b[0;36mraise_from\u001b[0;34m(value, from_value)\u001b[0m\n",
      "\u001b[0;32m/opt/anaconda3/envs/31vis/lib/python3.8/site-packages/urllib3/connectionpool.py\u001b[0m in \u001b[0;36m_make_request\u001b[0;34m(self, conn, method, url, timeout, chunked, **httplib_request_kw)\u001b[0m\n\u001b[1;32m    438\u001b[0m                 \u001b[0;31m# Python 3\u001b[0m\u001b[0;34m\u001b[0m\u001b[0;34m\u001b[0m\u001b[0;34m\u001b[0m\u001b[0m\n\u001b[1;32m    439\u001b[0m                 \u001b[0;32mtry\u001b[0m\u001b[0;34m:\u001b[0m\u001b[0;34m\u001b[0m\u001b[0;34m\u001b[0m\u001b[0m\n\u001b[0;32m--> 440\u001b[0;31m                     \u001b[0mhttplib_response\u001b[0m \u001b[0;34m=\u001b[0m \u001b[0mconn\u001b[0m\u001b[0;34m.\u001b[0m\u001b[0mgetresponse\u001b[0m\u001b[0;34m(\u001b[0m\u001b[0;34m)\u001b[0m\u001b[0;34m\u001b[0m\u001b[0;34m\u001b[0m\u001b[0m\n\u001b[0m\u001b[1;32m    441\u001b[0m                 \u001b[0;32mexcept\u001b[0m \u001b[0mBaseException\u001b[0m \u001b[0;32mas\u001b[0m \u001b[0me\u001b[0m\u001b[0;34m:\u001b[0m\u001b[0;34m\u001b[0m\u001b[0;34m\u001b[0m\u001b[0m\n\u001b[1;32m    442\u001b[0m                     \u001b[0;31m# Remove the TypeError from the exception chain in\u001b[0m\u001b[0;34m\u001b[0m\u001b[0;34m\u001b[0m\u001b[0;34m\u001b[0m\u001b[0m\n",
      "\u001b[0;32m/opt/anaconda3/envs/31vis/lib/python3.8/http/client.py\u001b[0m in \u001b[0;36mgetresponse\u001b[0;34m(self)\u001b[0m\n\u001b[1;32m   1346\u001b[0m         \u001b[0;32mtry\u001b[0m\u001b[0;34m:\u001b[0m\u001b[0;34m\u001b[0m\u001b[0;34m\u001b[0m\u001b[0m\n\u001b[1;32m   1347\u001b[0m             \u001b[0;32mtry\u001b[0m\u001b[0;34m:\u001b[0m\u001b[0;34m\u001b[0m\u001b[0;34m\u001b[0m\u001b[0m\n\u001b[0;32m-> 1348\u001b[0;31m                 \u001b[0mresponse\u001b[0m\u001b[0;34m.\u001b[0m\u001b[0mbegin\u001b[0m\u001b[0;34m(\u001b[0m\u001b[0;34m)\u001b[0m\u001b[0;34m\u001b[0m\u001b[0;34m\u001b[0m\u001b[0m\n\u001b[0m\u001b[1;32m   1349\u001b[0m             \u001b[0;32mexcept\u001b[0m \u001b[0mConnectionError\u001b[0m\u001b[0;34m:\u001b[0m\u001b[0;34m\u001b[0m\u001b[0;34m\u001b[0m\u001b[0m\n\u001b[1;32m   1350\u001b[0m                 \u001b[0mself\u001b[0m\u001b[0;34m.\u001b[0m\u001b[0mclose\u001b[0m\u001b[0;34m(\u001b[0m\u001b[0;34m)\u001b[0m\u001b[0;34m\u001b[0m\u001b[0;34m\u001b[0m\u001b[0m\n",
      "\u001b[0;32m/opt/anaconda3/envs/31vis/lib/python3.8/http/client.py\u001b[0m in \u001b[0;36mbegin\u001b[0;34m(self)\u001b[0m\n\u001b[1;32m    314\u001b[0m         \u001b[0;31m# read until we get a non-100 response\u001b[0m\u001b[0;34m\u001b[0m\u001b[0;34m\u001b[0m\u001b[0;34m\u001b[0m\u001b[0m\n\u001b[1;32m    315\u001b[0m         \u001b[0;32mwhile\u001b[0m \u001b[0;32mTrue\u001b[0m\u001b[0;34m:\u001b[0m\u001b[0;34m\u001b[0m\u001b[0;34m\u001b[0m\u001b[0m\n\u001b[0;32m--> 316\u001b[0;31m             \u001b[0mversion\u001b[0m\u001b[0;34m,\u001b[0m \u001b[0mstatus\u001b[0m\u001b[0;34m,\u001b[0m \u001b[0mreason\u001b[0m \u001b[0;34m=\u001b[0m \u001b[0mself\u001b[0m\u001b[0;34m.\u001b[0m\u001b[0m_read_status\u001b[0m\u001b[0;34m(\u001b[0m\u001b[0;34m)\u001b[0m\u001b[0;34m\u001b[0m\u001b[0;34m\u001b[0m\u001b[0m\n\u001b[0m\u001b[1;32m    317\u001b[0m             \u001b[0;32mif\u001b[0m \u001b[0mstatus\u001b[0m \u001b[0;34m!=\u001b[0m \u001b[0mCONTINUE\u001b[0m\u001b[0;34m:\u001b[0m\u001b[0;34m\u001b[0m\u001b[0;34m\u001b[0m\u001b[0m\n\u001b[1;32m    318\u001b[0m                 \u001b[0;32mbreak\u001b[0m\u001b[0;34m\u001b[0m\u001b[0;34m\u001b[0m\u001b[0m\n",
      "\u001b[0;32m/opt/anaconda3/envs/31vis/lib/python3.8/http/client.py\u001b[0m in \u001b[0;36m_read_status\u001b[0;34m(self)\u001b[0m\n\u001b[1;32m    275\u001b[0m \u001b[0;34m\u001b[0m\u001b[0m\n\u001b[1;32m    276\u001b[0m     \u001b[0;32mdef\u001b[0m \u001b[0m_read_status\u001b[0m\u001b[0;34m(\u001b[0m\u001b[0mself\u001b[0m\u001b[0;34m)\u001b[0m\u001b[0;34m:\u001b[0m\u001b[0;34m\u001b[0m\u001b[0;34m\u001b[0m\u001b[0m\n\u001b[0;32m--> 277\u001b[0;31m         \u001b[0mline\u001b[0m \u001b[0;34m=\u001b[0m \u001b[0mstr\u001b[0m\u001b[0;34m(\u001b[0m\u001b[0mself\u001b[0m\u001b[0;34m.\u001b[0m\u001b[0mfp\u001b[0m\u001b[0;34m.\u001b[0m\u001b[0mreadline\u001b[0m\u001b[0;34m(\u001b[0m\u001b[0m_MAXLINE\u001b[0m \u001b[0;34m+\u001b[0m \u001b[0;36m1\u001b[0m\u001b[0;34m)\u001b[0m\u001b[0;34m,\u001b[0m \u001b[0;34m\"iso-8859-1\"\u001b[0m\u001b[0;34m)\u001b[0m\u001b[0;34m\u001b[0m\u001b[0;34m\u001b[0m\u001b[0m\n\u001b[0m\u001b[1;32m    278\u001b[0m         \u001b[0;32mif\u001b[0m \u001b[0mlen\u001b[0m\u001b[0;34m(\u001b[0m\u001b[0mline\u001b[0m\u001b[0;34m)\u001b[0m \u001b[0;34m>\u001b[0m \u001b[0m_MAXLINE\u001b[0m\u001b[0;34m:\u001b[0m\u001b[0;34m\u001b[0m\u001b[0;34m\u001b[0m\u001b[0m\n\u001b[1;32m    279\u001b[0m             \u001b[0;32mraise\u001b[0m \u001b[0mLineTooLong\u001b[0m\u001b[0;34m(\u001b[0m\u001b[0;34m\"status line\"\u001b[0m\u001b[0;34m)\u001b[0m\u001b[0;34m\u001b[0m\u001b[0;34m\u001b[0m\u001b[0m\n",
      "\u001b[0;32m/opt/anaconda3/envs/31vis/lib/python3.8/socket.py\u001b[0m in \u001b[0;36mreadinto\u001b[0;34m(self, b)\u001b[0m\n\u001b[1;32m    667\u001b[0m         \u001b[0;32mwhile\u001b[0m \u001b[0;32mTrue\u001b[0m\u001b[0;34m:\u001b[0m\u001b[0;34m\u001b[0m\u001b[0;34m\u001b[0m\u001b[0m\n\u001b[1;32m    668\u001b[0m             \u001b[0;32mtry\u001b[0m\u001b[0;34m:\u001b[0m\u001b[0;34m\u001b[0m\u001b[0;34m\u001b[0m\u001b[0m\n\u001b[0;32m--> 669\u001b[0;31m                 \u001b[0;32mreturn\u001b[0m \u001b[0mself\u001b[0m\u001b[0;34m.\u001b[0m\u001b[0m_sock\u001b[0m\u001b[0;34m.\u001b[0m\u001b[0mrecv_into\u001b[0m\u001b[0;34m(\u001b[0m\u001b[0mb\u001b[0m\u001b[0;34m)\u001b[0m\u001b[0;34m\u001b[0m\u001b[0;34m\u001b[0m\u001b[0m\n\u001b[0m\u001b[1;32m    670\u001b[0m             \u001b[0;32mexcept\u001b[0m \u001b[0mtimeout\u001b[0m\u001b[0;34m:\u001b[0m\u001b[0;34m\u001b[0m\u001b[0;34m\u001b[0m\u001b[0m\n\u001b[1;32m    671\u001b[0m                 \u001b[0mself\u001b[0m\u001b[0;34m.\u001b[0m\u001b[0m_timeout_occurred\u001b[0m \u001b[0;34m=\u001b[0m \u001b[0;32mTrue\u001b[0m\u001b[0;34m\u001b[0m\u001b[0;34m\u001b[0m\u001b[0m\n",
      "\u001b[0;32m/opt/anaconda3/envs/31vis/lib/python3.8/ssl.py\u001b[0m in \u001b[0;36mrecv_into\u001b[0;34m(self, buffer, nbytes, flags)\u001b[0m\n\u001b[1;32m   1239\u001b[0m                   \u001b[0;34m\"non-zero flags not allowed in calls to recv_into() on %s\"\u001b[0m \u001b[0;34m%\u001b[0m\u001b[0;34m\u001b[0m\u001b[0;34m\u001b[0m\u001b[0m\n\u001b[1;32m   1240\u001b[0m                   self.__class__)\n\u001b[0;32m-> 1241\u001b[0;31m             \u001b[0;32mreturn\u001b[0m \u001b[0mself\u001b[0m\u001b[0;34m.\u001b[0m\u001b[0mread\u001b[0m\u001b[0;34m(\u001b[0m\u001b[0mnbytes\u001b[0m\u001b[0;34m,\u001b[0m \u001b[0mbuffer\u001b[0m\u001b[0;34m)\u001b[0m\u001b[0;34m\u001b[0m\u001b[0;34m\u001b[0m\u001b[0m\n\u001b[0m\u001b[1;32m   1242\u001b[0m         \u001b[0;32melse\u001b[0m\u001b[0;34m:\u001b[0m\u001b[0;34m\u001b[0m\u001b[0;34m\u001b[0m\u001b[0m\n\u001b[1;32m   1243\u001b[0m             \u001b[0;32mreturn\u001b[0m \u001b[0msuper\u001b[0m\u001b[0;34m(\u001b[0m\u001b[0;34m)\u001b[0m\u001b[0;34m.\u001b[0m\u001b[0mrecv_into\u001b[0m\u001b[0;34m(\u001b[0m\u001b[0mbuffer\u001b[0m\u001b[0;34m,\u001b[0m \u001b[0mnbytes\u001b[0m\u001b[0;34m,\u001b[0m \u001b[0mflags\u001b[0m\u001b[0;34m)\u001b[0m\u001b[0;34m\u001b[0m\u001b[0;34m\u001b[0m\u001b[0m\n",
      "\u001b[0;32m/opt/anaconda3/envs/31vis/lib/python3.8/ssl.py\u001b[0m in \u001b[0;36mread\u001b[0;34m(self, len, buffer)\u001b[0m\n\u001b[1;32m   1097\u001b[0m         \u001b[0;32mtry\u001b[0m\u001b[0;34m:\u001b[0m\u001b[0;34m\u001b[0m\u001b[0;34m\u001b[0m\u001b[0m\n\u001b[1;32m   1098\u001b[0m             \u001b[0;32mif\u001b[0m \u001b[0mbuffer\u001b[0m \u001b[0;32mis\u001b[0m \u001b[0;32mnot\u001b[0m \u001b[0;32mNone\u001b[0m\u001b[0;34m:\u001b[0m\u001b[0;34m\u001b[0m\u001b[0;34m\u001b[0m\u001b[0m\n\u001b[0;32m-> 1099\u001b[0;31m                 \u001b[0;32mreturn\u001b[0m \u001b[0mself\u001b[0m\u001b[0;34m.\u001b[0m\u001b[0m_sslobj\u001b[0m\u001b[0;34m.\u001b[0m\u001b[0mread\u001b[0m\u001b[0;34m(\u001b[0m\u001b[0mlen\u001b[0m\u001b[0;34m,\u001b[0m \u001b[0mbuffer\u001b[0m\u001b[0;34m)\u001b[0m\u001b[0;34m\u001b[0m\u001b[0;34m\u001b[0m\u001b[0m\n\u001b[0m\u001b[1;32m   1100\u001b[0m             \u001b[0;32melse\u001b[0m\u001b[0;34m:\u001b[0m\u001b[0;34m\u001b[0m\u001b[0;34m\u001b[0m\u001b[0m\n\u001b[1;32m   1101\u001b[0m                 \u001b[0;32mreturn\u001b[0m \u001b[0mself\u001b[0m\u001b[0;34m.\u001b[0m\u001b[0m_sslobj\u001b[0m\u001b[0;34m.\u001b[0m\u001b[0mread\u001b[0m\u001b[0;34m(\u001b[0m\u001b[0mlen\u001b[0m\u001b[0;34m)\u001b[0m\u001b[0;34m\u001b[0m\u001b[0;34m\u001b[0m\u001b[0m\n",
      "\u001b[0;31mKeyboardInterrupt\u001b[0m: "
     ]
    }
   ],
   "source": [
    "for doi in dois[100:111]:\n",
    "    response = requests.get('https://api.openalex.org/works/https://doi.org/' + doi + \"?mailto=hongtaoh@cs.wisc.edu\")\n",
    "    if response.status_code == 200:\n",
    "        accessible_doi_list.append(doi)\n",
    "    else:\n",
    "        inaccessible_doi_list.append(doi)\n",
    "    print(str(dois.index(doi)) + \" is done\")"
   ]
  },
  {
   "cell_type": "code",
   "execution_count": 37,
   "id": "872f5584",
   "metadata": {},
   "outputs": [
    {
     "data": {
      "text/plain": [
       "1023"
      ]
     },
     "execution_count": 37,
     "metadata": {},
     "output_type": "execute_result"
    }
   ],
   "source": [
    "len(accessible_doi_list)"
   ]
  },
  {
   "cell_type": "code",
   "execution_count": 38,
   "id": "040709cc",
   "metadata": {},
   "outputs": [
    {
     "data": {
      "text/plain": [
       "262"
      ]
     },
     "execution_count": 38,
     "metadata": {},
     "output_type": "execute_result"
    }
   ],
   "source": [
    "len(inaccessible_doi_list)"
   ]
  },
  {
   "cell_type": "code",
   "execution_count": 76,
   "id": "031ec81b",
   "metadata": {},
   "outputs": [],
   "source": [
    "with open(\"../../data/processed/good_dois_oa.txt\", 'w') as f:\n",
    "    for doi in accessible_doi_list:\n",
    "        f.write(\"%s\\n\" % doi)"
   ]
  },
  {
   "cell_type": "code",
   "execution_count": 77,
   "id": "2fd234f2",
   "metadata": {},
   "outputs": [],
   "source": [
    "with open(\"../../data/processed/bad_dois_oa.txt\", 'w') as f:\n",
    "    for doi in inaccessible_doi_list:\n",
    "        f.write(\"%s\\n\" % doi)"
   ]
  }
 ],
 "metadata": {
  "kernelspec": {
   "display_name": "Python 3 (ipykernel)",
   "language": "python",
   "name": "python3"
  },
  "language_info": {
   "codemirror_mode": {
    "name": "ipython",
    "version": 3
   },
   "file_extension": ".py",
   "mimetype": "text/x-python",
   "name": "python",
   "nbconvert_exporter": "python",
   "pygments_lexer": "ipython3",
   "version": "3.8.12"
  }
 },
 "nbformat": 4,
 "nbformat_minor": 5
}
