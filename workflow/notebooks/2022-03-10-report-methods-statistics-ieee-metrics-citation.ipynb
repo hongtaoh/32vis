{
 "cells": [
  {
   "cell_type": "markdown",
   "id": "ef05f295",
   "metadata": {},
   "source": [
    "In this notebook, I want to randomly select 100 pagers and see how many of them contain citation counts on CrossRef, Scopus, and Web of Science. "
   ]
  },
  {
   "cell_type": "code",
   "execution_count": 1,
   "id": "fdec3521",
   "metadata": {},
   "outputs": [],
   "source": [
    "# Load packages\n",
    "import pandas as pd\n",
    "import time\n",
    "from bs4 import BeautifulSoup\n",
    "from selenium import webdriver\n",
    "from selenium.webdriver.common.by import By\n",
    "from selenium.webdriver.support.ui import WebDriverWait\n",
    "from selenium.webdriver.support import expected_conditions as EC \n",
    "from selenium.common.exceptions import TimeoutException\n",
    "from selenium.webdriver.common.keys import Keys\n",
    "from selenium.webdriver.firefox.options import Options\n",
    "from selenium.common.exceptions import NoSuchElementException \n",
    "from selenium.common.exceptions import ElementNotInteractableException\n",
    "import os\n",
    "import random\n",
    "import re\n",
    "import numpy as np\n",
    "import sys\n",
    "from os.path import join as pjoin\n",
    "import csv"
   ]
  },
  {
   "cell_type": "code",
   "execution_count": 2,
   "id": "ce23eabe",
   "metadata": {},
   "outputs": [],
   "source": [
    "dois = pd.read_csv('../../data/processed/vispd_plus_good_papers.txt', header=None)[0].tolist()"
   ]
  },
  {
   "cell_type": "code",
   "execution_count": 3,
   "id": "bb00c15f",
   "metadata": {},
   "outputs": [],
   "source": [
    "\"\"\"randomly select 100 dois\n",
    "\"\"\"\n",
    "random.seed(4213)\n",
    "random_dois = random.sample(dois, 100)"
   ]
  },
  {
   "cell_type": "code",
   "execution_count": 4,
   "id": "025b0af1",
   "metadata": {},
   "outputs": [],
   "source": [
    "\"\"\"insert 'http://dx.doi.org/' to the start of each randomly selected doi\n",
    "\"\"\"\n",
    "urls = [re.sub(r'^', 'http://dx.doi.org/', i) for i in random_dois]"
   ]
  },
  {
   "cell_type": "code",
   "execution_count": 5,
   "id": "cfa24cbe",
   "metadata": {},
   "outputs": [],
   "source": [
    "def specify_driver_options():\n",
    "    \"\"\"\n",
    "    specify driver options\n",
    "    \"\"\"\n",
    "    options = Options()\n",
    "    options.set_preference(\"browser.download.folderList\", 2)\n",
    "    options.set_preference(\"browser.download.manager.showWhenStarting\", \n",
    "                           False)\n",
    "    options.set_preference(\"browser.helperApps.neverAsk.saveToDisk\", \n",
    "                           \"text/plain, text/txt, application/plain, application/txt\")\n",
    "    return options"
   ]
  },
  {
   "cell_type": "code",
   "execution_count": 6,
   "id": "439e4c77",
   "metadata": {},
   "outputs": [],
   "source": [
    "options = specify_driver_options()"
   ]
  },
  {
   "cell_type": "code",
   "execution_count": 7,
   "id": "3c914ed6",
   "metadata": {},
   "outputs": [],
   "source": [
    "def check_exists(ByMethod, value):\n",
    "    \"\"\"define the function of checking whether an element exists. \n",
    "    Returns true if exists. \n",
    "    \"\"\"\n",
    "\n",
    "    try:\n",
    "        wait.until(EC.presence_of_element_located((\n",
    "            ByMethod, value\n",
    "        )))\n",
    "    except (NoSuchElementException, TimeoutException):\n",
    "        return False\n",
    "    return True"
   ]
  },
  {
   "cell_type": "code",
   "execution_count": 8,
   "id": "8e40a2b2",
   "metadata": {},
   "outputs": [],
   "source": [
    "def close_ieee_cookie_window():\n",
    "    \"\"\"close the cookie windown on IEEE webiste\n",
    "    \"\"\"\n",
    "\n",
    "    if check_exists(By.CLASS_NAME, \"cc-compliance\"):\n",
    "        try:\n",
    "            cc = wait.until(EC.element_to_be_clickable((\n",
    "                By.CLASS_NAME, \"cc-compliance\"\n",
    "            )))\n",
    "            cc.click()\n",
    "        except:\n",
    "            pass"
   ]
  },
  {
   "cell_type": "code",
   "execution_count": 9,
   "id": "4a37131a",
   "metadata": {},
   "outputs": [],
   "source": [
    "def open_ieee_url(url, doi_index):\n",
    "    try:\n",
    "        driver.get(url)\n",
    "        # only run close_ieee_cookie_window for once (for the first doi)\n",
    "        if doi_index == 1:\n",
    "            close_ieee_cookie_window()\n",
    "        time.sleep(1)\n",
    "    except TimeoutException:\n",
    "        driver.refresh()\n",
    "        open_ieee_url(url, doi_index)"
   ]
  },
  {
   "cell_type": "code",
   "execution_count": 10,
   "id": "2654a75c",
   "metadata": {},
   "outputs": [],
   "source": [
    "def get_html():\n",
    "    \"\"\"get the html element by tag name\n",
    "    Returns:\n",
    "        html\n",
    "    \n",
    "    Usage:\n",
    "        I use the returned element to scroll down to the bottom of page\n",
    "    \"\"\"\n",
    "    \n",
    "    html = wait.until(EC.presence_of_element_located((\n",
    "        By.TAG_NAME, \"html\"\n",
    "    )))\n",
    "    return html"
   ]
  },
  {
   "cell_type": "code",
   "execution_count": 11,
   "id": "2d201559",
   "metadata": {},
   "outputs": [],
   "source": [
    "def open_metrics_tab():\n",
    "    # open the metrics tab\n",
    "    metrics_tab = wait.until(EC.element_to_be_clickable((\n",
    "        By.XPATH, '//div[@id=\"metrics-header\"]/a[@id=\"metrics\"]'\n",
    "    )))\n",
    "    html = get_html()\n",
    "    html.send_keys(Keys.END)\n",
    "    try:\n",
    "        metrics_tab.click()\n",
    "    except (TimeoutException, ElementNotInteractableException):\n",
    "        time.sleep(1)\n",
    "        driver.refresh()\n",
    "        return open_metrics_tab()"
   ]
  },
  {
   "cell_type": "code",
   "execution_count": 12,
   "id": "eacc9c34",
   "metadata": {},
   "outputs": [],
   "source": [
    "def get_citation_info_dict(doi):\n",
    "    \"\"\"get citation info (if exists)\n",
    "    \n",
    "    Args:\n",
    "      citation-button.regular\n",
    "    \n",
    "    Returns:\n",
    "      a list of strings containing citation_count_strings, and citation_source_strings\n",
    "      \n",
    "    Note: \n",
    "      use regex to remove the ',' in citation counts\n",
    "    \"\"\"\n",
    "    if check_exists(By.CLASS_NAME, \"citations-button.regular\"):\n",
    "        citation_counts = driver.find_elements(\n",
    "            By.XPATH, '//a[@class=\"citations-button regular\"]/child::div[1]'\n",
    "            )\n",
    "        citation_sources = driver.find_elements(\n",
    "            By.XPATH, '//a[@class=\"citations-button regular\"]/child::div[2]'\n",
    "            )\n",
    "        citation_count_list = [int(re.sub(r',', '', i.text)) for i in citation_counts]\n",
    "        citation_source_list = [i.text for i in citation_sources]\n",
    "        citation_source_list = [re.sub(r'®', '', i) for i in citation_source_list]\n",
    "        citation_source_list = [re.sub(r'\\n', ' ', i) for i in citation_source_list]\n",
    "        citation_info_dict = dict(zip(citation_source_list, citation_count_list))\n",
    "        citation_info_dict['DOI'] = doi\n",
    "    else:\n",
    "        citation_info_dict = {'DOI': doi}\n",
    "    return citation_info_dict"
   ]
  },
  {
   "cell_type": "code",
   "execution_count": 13,
   "id": "6176e962",
   "metadata": {},
   "outputs": [],
   "source": [
    "# open_ieee_url(urls[2])"
   ]
  },
  {
   "cell_type": "code",
   "execution_count": 14,
   "id": "58e71394",
   "metadata": {},
   "outputs": [],
   "source": [
    "# open_metrics_tab()"
   ]
  },
  {
   "cell_type": "code",
   "execution_count": 15,
   "id": "4f8a1b1e",
   "metadata": {},
   "outputs": [],
   "source": [
    "# citation_info_dict = get_citation_info_dict(urls[0])"
   ]
  },
  {
   "cell_type": "code",
   "execution_count": 16,
   "id": "215368ff",
   "metadata": {},
   "outputs": [],
   "source": [
    "# citation_info_dict"
   ]
  },
  {
   "cell_type": "code",
   "execution_count": 17,
   "id": "9340a9b1",
   "metadata": {},
   "outputs": [],
   "source": [
    "driver = webdriver.Firefox(options=options)\n",
    "wait = WebDriverWait(driver, 10)"
   ]
  },
  {
   "cell_type": "code",
   "execution_count": 18,
   "id": "2031a80f",
   "metadata": {},
   "outputs": [
    {
     "name": "stdout",
     "output_type": "stream",
     "text": [
      "1 is done\n",
      "2 is done\n",
      "3 is done\n",
      "4 is done\n",
      "5 is done\n",
      "6 is done\n",
      "7 is done\n",
      "8 is done\n",
      "9 is done\n",
      "10 is done\n",
      "11 is done\n",
      "12 is done\n",
      "13 is done\n",
      "14 is done\n",
      "15 is done\n",
      "16 is done\n",
      "17 is done\n",
      "18 is done\n",
      "19 is done\n",
      "20 is done\n",
      "21 is done\n",
      "22 is done\n",
      "23 is done\n",
      "24 is done\n",
      "25 is done\n",
      "26 is done\n",
      "27 is done\n",
      "28 is done\n",
      "29 is done\n",
      "30 is done\n",
      "31 is done\n",
      "32 is done\n",
      "33 is done\n",
      "34 is done\n",
      "35 is done\n",
      "36 is done\n",
      "37 is done\n",
      "38 is done\n",
      "39 is done\n",
      "40 is done\n",
      "41 is done\n",
      "42 is done\n",
      "43 is done\n",
      "44 is done\n",
      "45 is done\n",
      "46 is done\n",
      "47 is done\n",
      "48 is done\n",
      "49 is done\n",
      "50 is done\n",
      "51 is done\n",
      "52 is done\n",
      "53 is done\n",
      "54 is done\n",
      "55 is done\n",
      "56 is done\n",
      "57 is done\n",
      "58 is done\n",
      "59 is done\n",
      "60 is done\n",
      "61 is done\n",
      "62 is done\n",
      "63 is done\n",
      "64 is done\n",
      "65 is done\n",
      "66 is done\n",
      "67 is done\n",
      "68 is done\n",
      "69 is done\n",
      "70 is done\n",
      "71 is done\n",
      "72 is done\n",
      "73 is done\n",
      "74 is done\n",
      "75 is done\n",
      "76 is done\n",
      "77 is done\n",
      "78 is done\n",
      "79 is done\n",
      "80 is done\n",
      "81 is done\n",
      "82 is done\n",
      "83 is done\n",
      "84 is done\n",
      "85 is done\n",
      "86 is done\n",
      "87 is done\n",
      "88 is done\n",
      "89 is done\n",
      "90 is done\n",
      "91 is done\n",
      "92 is done\n",
      "93 is done\n",
      "94 is done\n",
      "95 is done\n",
      "96 is done\n",
      "97 is done\n",
      "98 is done\n",
      "99 is done\n",
      "100 is done\n"
     ]
    }
   ],
   "source": [
    "citation_info_dict_list = []\n",
    "for doi in random_dois:\n",
    "    doi_index = random_dois.index(doi) + 1\n",
    "    url = re.sub(r'^', 'http://dx.doi.org/', doi)\n",
    "    open_ieee_url(url, doi_index)\n",
    "    open_metrics_tab()\n",
    "    citation_info_dict = get_citation_info_dict(url)\n",
    "    citation_info_dict_list.append(citation_info_dict)\n",
    "    print(f'{doi_index} is done')\n",
    "    time.sleep(1)"
   ]
  },
  {
   "cell_type": "code",
   "execution_count": 19,
   "id": "aa6680b2",
   "metadata": {},
   "outputs": [],
   "source": [
    "df = pd.DataFrame(citation_info_dict_list)\n",
    "df.to_csv('../../data/interim/methods_reporting/ieee_citation_metrics.csv', index=False)"
   ]
  },
  {
   "cell_type": "code",
   "execution_count": 20,
   "id": "a69f7533",
   "metadata": {},
   "outputs": [
    {
     "data": {
      "text/html": [
       "<div>\n",
       "<style scoped>\n",
       "    .dataframe tbody tr th:only-of-type {\n",
       "        vertical-align: middle;\n",
       "    }\n",
       "\n",
       "    .dataframe tbody tr th {\n",
       "        vertical-align: top;\n",
       "    }\n",
       "\n",
       "    .dataframe thead th {\n",
       "        text-align: right;\n",
       "    }\n",
       "</style>\n",
       "<table border=\"1\" class=\"dataframe\">\n",
       "  <thead>\n",
       "    <tr style=\"text-align: right;\">\n",
       "      <th></th>\n",
       "      <th>Crossref</th>\n",
       "      <th>Scopus</th>\n",
       "      <th>Web of Science</th>\n",
       "      <th>DOI</th>\n",
       "    </tr>\n",
       "  </thead>\n",
       "  <tbody>\n",
       "    <tr>\n",
       "      <th>23</th>\n",
       "      <td>NaN</td>\n",
       "      <td>1.0</td>\n",
       "      <td>NaN</td>\n",
       "      <td>http://dx.doi.org/10.1109/tvcg.2021.3114818</td>\n",
       "    </tr>\n",
       "    <tr>\n",
       "      <th>51</th>\n",
       "      <td>NaN</td>\n",
       "      <td>1.0</td>\n",
       "      <td>1.0</td>\n",
       "      <td>http://dx.doi.org/10.1109/INFVIS.2002.1173154</td>\n",
       "    </tr>\n",
       "    <tr>\n",
       "      <th>69</th>\n",
       "      <td>NaN</td>\n",
       "      <td>NaN</td>\n",
       "      <td>NaN</td>\n",
       "      <td>http://dx.doi.org/10.1109/tvcg.2021.3114679</td>\n",
       "    </tr>\n",
       "  </tbody>\n",
       "</table>\n",
       "</div>"
      ],
      "text/plain": [
       "    Crossref  Scopus  Web of Science  \\\n",
       "23       NaN     1.0             NaN   \n",
       "51       NaN     1.0             1.0   \n",
       "69       NaN     NaN             NaN   \n",
       "\n",
       "                                              DOI  \n",
       "23    http://dx.doi.org/10.1109/tvcg.2021.3114818  \n",
       "51  http://dx.doi.org/10.1109/INFVIS.2002.1173154  \n",
       "69    http://dx.doi.org/10.1109/tvcg.2021.3114679  "
      ]
     },
     "execution_count": 20,
     "metadata": {},
     "output_type": "execute_result"
    }
   ],
   "source": [
    "df[df.Crossref.isnull()]"
   ]
  },
  {
   "cell_type": "code",
   "execution_count": 23,
   "id": "c7541379",
   "metadata": {},
   "outputs": [
    {
     "data": {
      "text/plain": [
       "(71, 4)"
      ]
     },
     "execution_count": 23,
     "metadata": {},
     "output_type": "execute_result"
    }
   ],
   "source": [
    "df[df.Scopus.notnull()].shape"
   ]
  },
  {
   "cell_type": "code",
   "execution_count": 24,
   "id": "fdb9884e",
   "metadata": {},
   "outputs": [
    {
     "data": {
      "text/plain": [
       "(68, 4)"
      ]
     },
     "execution_count": 24,
     "metadata": {},
     "output_type": "execute_result"
    }
   ],
   "source": [
    "df[df['Web of Science'].notnull()].shape"
   ]
  },
  {
   "cell_type": "code",
   "execution_count": null,
   "id": "b65a9ac6",
   "metadata": {},
   "outputs": [],
   "source": []
  }
 ],
 "metadata": {
  "kernelspec": {
   "display_name": "Python 3 (ipykernel)",
   "language": "python",
   "name": "python3"
  },
  "language_info": {
   "codemirror_mode": {
    "name": "ipython",
    "version": 3
   },
   "file_extension": ".py",
   "mimetype": "text/x-python",
   "name": "python",
   "nbconvert_exporter": "python",
   "pygments_lexer": "ipython3",
   "version": "3.8.12"
  }
 },
 "nbformat": 4,
 "nbformat_minor": 5
}
