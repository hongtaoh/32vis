{
 "cells": [
  {
   "cell_type": "code",
   "execution_count": 81,
   "id": "0f84f942",
   "metadata": {},
   "outputs": [],
   "source": [
    "import pandas as pd"
   ]
  },
  {
   "cell_type": "code",
   "execution_count": 82,
   "id": "32e2dd31",
   "metadata": {},
   "outputs": [
    {
     "data": {
      "text/html": [
       "<div>\n",
       "<style scoped>\n",
       "    .dataframe tbody tr th:only-of-type {\n",
       "        vertical-align: middle;\n",
       "    }\n",
       "\n",
       "    .dataframe tbody tr th {\n",
       "        vertical-align: top;\n",
       "    }\n",
       "\n",
       "    .dataframe thead th {\n",
       "        text-align: right;\n",
       "    }\n",
       "</style>\n",
       "<table border=\"1\" class=\"dataframe\">\n",
       "  <thead>\n",
       "    <tr style=\"text-align: right;\">\n",
       "      <th></th>\n",
       "      <th>Conference</th>\n",
       "      <th>Year</th>\n",
       "      <th>Title</th>\n",
       "      <th>DOI</th>\n",
       "      <th>FirstPage</th>\n",
       "      <th>LastPage</th>\n",
       "      <th>PaperType</th>\n",
       "      <th>OpenAlex Year</th>\n",
       "      <th>OpenAlex Publication Date</th>\n",
       "      <th>OpenAlex ID</th>\n",
       "      <th>...</th>\n",
       "      <th>Number of Authors</th>\n",
       "      <th>Cross-type Collaboration</th>\n",
       "      <th>Cross-country Collaboration</th>\n",
       "      <th>With US Authors</th>\n",
       "      <th>Both Cross-type and Cross-country Collaboration</th>\n",
       "      <th>IEEE Title</th>\n",
       "      <th>Citation Counts on Google Scholar</th>\n",
       "      <th>Award</th>\n",
       "      <th>Award Name</th>\n",
       "      <th>Award Track</th>\n",
       "    </tr>\n",
       "  </thead>\n",
       "  <tbody>\n",
       "    <tr>\n",
       "      <th>0</th>\n",
       "      <td>InfoVis</td>\n",
       "      <td>2011</td>\n",
       "      <td>D³ Data-Driven Documents</td>\n",
       "      <td>10.1109/TVCG.2011.185</td>\n",
       "      <td>2301.0</td>\n",
       "      <td>2309</td>\n",
       "      <td>J</td>\n",
       "      <td>2011</td>\n",
       "      <td>2011-12-01</td>\n",
       "      <td>W2135415614</td>\n",
       "      <td>...</td>\n",
       "      <td>3.0</td>\n",
       "      <td>False</td>\n",
       "      <td>False</td>\n",
       "      <td>True</td>\n",
       "      <td>False</td>\n",
       "      <td>D³ Data-Driven Documents</td>\n",
       "      <td>3745.0</td>\n",
       "      <td>False</td>\n",
       "      <td>NaN</td>\n",
       "      <td>NaN</td>\n",
       "    </tr>\n",
       "  </tbody>\n",
       "</table>\n",
       "<p>1 rows × 27 columns</p>\n",
       "</div>"
      ],
      "text/plain": [
       "  Conference  Year                     Title                    DOI  \\\n",
       "0    InfoVis  2011  D³ Data-Driven Documents  10.1109/TVCG.2011.185   \n",
       "\n",
       "   FirstPage LastPage PaperType  OpenAlex Year OpenAlex Publication Date  \\\n",
       "0     2301.0     2309         J           2011                2011-12-01   \n",
       "\n",
       "   OpenAlex ID  ... Number of Authors  Cross-type Collaboration  \\\n",
       "0  W2135415614  ...               3.0                     False   \n",
       "\n",
       "   Cross-country Collaboration  With US Authors  \\\n",
       "0                        False             True   \n",
       "\n",
       "   Both Cross-type and Cross-country Collaboration                IEEE Title  \\\n",
       "0                                            False  D³ Data-Driven Documents   \n",
       "\n",
       "   Citation Counts on Google Scholar  Award  Award Name  Award Track  \n",
       "0                             3745.0  False         NaN          NaN  \n",
       "\n",
       "[1 rows x 27 columns]"
      ]
     },
     "execution_count": 82,
     "metadata": {},
     "output_type": "execute_result"
    }
   ],
   "source": [
    "df = pd.read_csv('../../data/ht_class/ht_cleaned_paper_df.csv')\n",
    "df.head(1)"
   ]
  },
  {
   "cell_type": "code",
   "execution_count": 83,
   "id": "228406c1",
   "metadata": {},
   "outputs": [
    {
     "data": {
      "text/plain": [
       "3240"
      ]
     },
     "execution_count": 83,
     "metadata": {},
     "output_type": "execute_result"
    }
   ],
   "source": [
    "vis_papers = df['OpenAlex ID'].tolist()\n",
    "len(vis_papers)"
   ]
  },
  {
   "cell_type": "code",
   "execution_count": 84,
   "id": "ff9ab80b",
   "metadata": {},
   "outputs": [],
   "source": [
    "cit = pd.read_csv('../../data/processed/openalex_citation_paper_df.csv')\n",
    "cit = cit[cit['Citation Paper OpenAlex ID'].notnull()]"
   ]
  },
  {
   "cell_type": "code",
   "execution_count": 85,
   "id": "ae0be145",
   "metadata": {},
   "outputs": [
    {
     "data": {
      "text/plain": [
       "60274"
      ]
     },
     "execution_count": 85,
     "metadata": {},
     "output_type": "execute_result"
    }
   ],
   "source": [
    "cit_papers = list(set(cit['Citation Paper OpenAlex ID']))\n",
    "len(cit_papers)"
   ]
  },
  {
   "cell_type": "code",
   "execution_count": 86,
   "id": "43189b5a",
   "metadata": {},
   "outputs": [],
   "source": [
    "ref = pd.read_csv('../../data/processed/openalex_reference_paper_df.csv')\n",
    "ref = ref[ref['OpenAlex ID'].notnull()]"
   ]
  },
  {
   "cell_type": "code",
   "execution_count": 87,
   "id": "63870a72",
   "metadata": {},
   "outputs": [],
   "source": [
    "ref_papers = list(set(ref['OpenAlex ID']))"
   ]
  },
  {
   "cell_type": "code",
   "execution_count": 88,
   "id": "2f6fcefb",
   "metadata": {},
   "outputs": [
    {
     "data": {
      "text/plain": [
       "39841"
      ]
     },
     "execution_count": 88,
     "metadata": {},
     "output_type": "execute_result"
    }
   ],
   "source": [
    "len(ref_papers)"
   ]
  },
  {
   "cell_type": "code",
   "execution_count": 89,
   "id": "2da46968",
   "metadata": {},
   "outputs": [
    {
     "data": {
      "text/plain": [
       "90656"
      ]
     },
     "execution_count": 89,
     "metadata": {},
     "output_type": "execute_result"
    }
   ],
   "source": [
    "papers = vis_papers + cit_papers + ref_papers\n",
    "papers = list(set(papers))\n",
    "len(papers)"
   ]
  },
  {
   "cell_type": "code",
   "execution_count": 90,
   "id": "5e4fb017",
   "metadata": {},
   "outputs": [],
   "source": [
    "with open('../../data/ht_class/openaelx_ids.txt', 'w') as f:\n",
    "    for openalex_id in papers:\n",
    "        f.write(\"%s\\n\" % openalex_id)"
   ]
  }
 ],
 "metadata": {
  "kernelspec": {
   "display_name": "Python 3",
   "language": "python",
   "name": "python3"
  },
  "language_info": {
   "codemirror_mode": {
    "name": "ipython",
    "version": 3
   },
   "file_extension": ".py",
   "mimetype": "text/x-python",
   "name": "python",
   "nbconvert_exporter": "python",
   "pygments_lexer": "ipython3",
   "version": "3.8.8"
  }
 },
 "nbformat": 4,
 "nbformat_minor": 5
}
