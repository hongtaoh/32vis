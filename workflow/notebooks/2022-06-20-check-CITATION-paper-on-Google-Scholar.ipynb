{
 "cells": [
  {
   "cell_type": "markdown",
   "id": "9e945f34",
   "metadata": {},
   "source": [
    "## Aim\n",
    "\n",
    "The aim of this paper is to check how to extract title and citation counts for `[CITATION]` papers on Google Scholar. "
   ]
  },
  {
   "cell_type": "code",
   "execution_count": 1,
   "id": "1978c0ba",
   "metadata": {},
   "outputs": [],
   "source": [
    "import sys\n",
    "import pandas as pd\n",
    "import time\n",
    "from bs4 import BeautifulSoup\n",
    "from selenium import webdriver\n",
    "from selenium.webdriver.common.by import By\n",
    "from selenium.webdriver.support.ui import WebDriverWait\n",
    "from selenium.webdriver.support import expected_conditions as EC \n",
    "from selenium.common.exceptions import TimeoutException\n",
    "from selenium.webdriver.common.keys import Keys\n",
    "from selenium.webdriver.firefox.options import Options\n",
    "from selenium.common.exceptions import NoSuchElementException \n",
    "from selenium.common.exceptions import ElementNotInteractableException\n",
    "import os\n",
    "import random\n",
    "import re\n",
    "import csv\n",
    "import numpy as np\n",
    "import urllib.parse"
   ]
  },
  {
   "cell_type": "code",
   "execution_count": 3,
   "id": "ec5afbff",
   "metadata": {},
   "outputs": [],
   "source": [
    "def specify_driver_options():\n",
    "\t\"\"\"\n",
    "\tspecify driver options\n",
    "\t\"\"\"\n",
    "\toptions = Options()\n",
    "\toptions.set_preference(\"browser.download.folderList\", 2)\n",
    "\toptions.set_preference(\"browser.download.manager.showWhenStarting\", \n",
    "\t\t\t\t\t\t   False)\n",
    "\toptions.set_preference(\"browser.helperApps.neverAsk.saveToDisk\", \n",
    "\t\t\t\t\t\t   \"text/plain, text/txt, application/plain, application/txt\")"
   ]
  },
  {
   "cell_type": "code",
   "execution_count": 4,
   "id": "4b5c6381",
   "metadata": {},
   "outputs": [],
   "source": [
    "driver = webdriver.Firefox(options=specify_driver_options())"
   ]
  },
  {
   "cell_type": "code",
   "execution_count": 5,
   "id": "6c257d50",
   "metadata": {},
   "outputs": [],
   "source": [
    "query = 'https://scholar.google.com/scholar?hl=en&as_sdt=0%2C50&q=Enabling+classification+and+shading+for+3+D+texture+mapping+based+volume+rendering+using+OpenGL+and+extensions&btnG='"
   ]
  },
  {
   "cell_type": "code",
   "execution_count": 6,
   "id": "e44afaa9",
   "metadata": {},
   "outputs": [],
   "source": [
    "driver.get(query)"
   ]
  },
  {
   "cell_type": "code",
   "execution_count": 7,
   "id": "374ce114",
   "metadata": {},
   "outputs": [],
   "source": [
    "gs_paper_e = WebDriverWait(driver, 10).until(EC.presence_of_element_located((\n",
    "                By.CSS_SELECTOR, 'h3.gs_rt')))"
   ]
  },
  {
   "cell_type": "code",
   "execution_count": 10,
   "id": "b943c4a2",
   "metadata": {},
   "outputs": [
    {
     "data": {
      "text/plain": [
       "'[CITATION] Enabling classification and shading for 3 D texture mapping based volume rendering using OpenGL and extensions'"
      ]
     },
     "execution_count": 10,
     "metadata": {},
     "output_type": "execute_result"
    }
   ],
   "source": [
    "gs_paper_e.text"
   ]
  },
  {
   "cell_type": "code",
   "execution_count": 11,
   "id": "2d63fb03",
   "metadata": {},
   "outputs": [],
   "source": [
    "gs_citation_e = WebDriverWait(driver, 10).until(\n",
    "        EC.presence_of_element_located((By.XPATH, '//div[@class=\"gs_fl\"]//child::a[3]'\n",
    "    )))"
   ]
  },
  {
   "cell_type": "code",
   "execution_count": 12,
   "id": "39b3ec6d",
   "metadata": {},
   "outputs": [],
   "source": [
    "citation_link = gs_citation_e.get_attribute('href')\n",
    "citation_count_string = gs_citation_e.get_attribute('innerHTML')"
   ]
  },
  {
   "cell_type": "code",
   "execution_count": 13,
   "id": "f8492cfe",
   "metadata": {},
   "outputs": [
    {
     "data": {
      "text/plain": [
       "'https://scholar.google.com/scholar?cites=189866090160243400&as_sdt=5,50&sciodt=0,50&hl=en'"
      ]
     },
     "execution_count": 13,
     "metadata": {},
     "output_type": "execute_result"
    }
   ],
   "source": [
    "citation_link"
   ]
  },
  {
   "cell_type": "code",
   "execution_count": 14,
   "id": "5b33d481",
   "metadata": {},
   "outputs": [
    {
     "data": {
      "text/plain": [
       "'Cited by 191'"
      ]
     },
     "execution_count": 14,
     "metadata": {},
     "output_type": "execute_result"
    }
   ],
   "source": [
    "citation_count_string"
   ]
  },
  {
   "cell_type": "code",
   "execution_count": 15,
   "id": "3c542a37",
   "metadata": {},
   "outputs": [],
   "source": [
    "gs_citation_count = int(re.findall(r'\\d+', citation_count_string)[0])"
   ]
  },
  {
   "cell_type": "code",
   "execution_count": 16,
   "id": "de1f1ac1",
   "metadata": {},
   "outputs": [
    {
     "data": {
      "text/plain": [
       "191"
      ]
     },
     "execution_count": 16,
     "metadata": {},
     "output_type": "execute_result"
    }
   ],
   "source": [
    "gs_citation_count"
   ]
  },
  {
   "cell_type": "code",
   "execution_count": null,
   "id": "d5036f30",
   "metadata": {},
   "outputs": [],
   "source": []
  }
 ],
 "metadata": {
  "kernelspec": {
   "display_name": "Python 3 (ipykernel)",
   "language": "python",
   "name": "python3"
  },
  "language_info": {
   "codemirror_mode": {
    "name": "ipython",
    "version": 3
   },
   "file_extension": ".py",
   "mimetype": "text/x-python",
   "name": "python",
   "nbconvert_exporter": "python",
   "pygments_lexer": "ipython3",
   "version": "3.8.12"
  }
 },
 "nbformat": 4,
 "nbformat_minor": 5
}
