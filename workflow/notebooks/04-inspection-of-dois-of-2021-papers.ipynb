{
 "cells": [
  {
   "cell_type": "markdown",
   "id": "58b30815",
   "metadata": {},
   "source": [
    "# Analyzing the validity of paper DOIs of 2021 papers\n",
    "\n",
    "**REMEMBER THAT THERE ARE AT LEAST TWO PAPERS THAT CANNOT BE ACCESSED ON IEEE!**\n",
    "\n",
    "Vispubdata:\n",
    "  - [paper](https://ieeexplore.ieee.org/abstract/document/7583708)\n",
    "  - [dataset website](https://sites.google.com/site/vispubdata/home)\n",
    "  - [raw data in Google Spreadsheet](https://docs.google.com/spreadsheets/d/1xgoOPu28dQSSGPIp_HHQs0uvvcyLNdkMF9XtRajhhxU/edit#gid=939249534)\n",
    "  \n",
    "I've downloaded the raw data of VisPubData into a csv file: `vispubdata`, located in `Data/Raw/Vispubdata.csv`.\n",
    "\n",
    "## Log:\n",
    "\n",
    "- 2022-01-09: This is the date when the notebook was created. \n",
    "\n",
    "- 2022-01-15: I updated this notebook. I added '10.1109/VIS.1999.10000' to good_urls. For duplicates, I delete DOIS that are not accessible on OpenAlex. Specifically, I deleted two DOIs. The final output is a `txt` file containing 3390 DOIs. I changed the txt filename to `vispd_good_dois.txt`.\n",
    "\n",
    "- 2022-01-29: I removed papers with type of 'M' and redid the analysis. \n",
    "\n",
    "- 2022-02-02: I identified DOIs for 2021 papers and am analyzing them here. "
   ]
  },
  {
   "cell_type": "code",
   "execution_count": 1,
   "id": "b5711499",
   "metadata": {},
   "outputs": [],
   "source": [
    "# loading pacakges\n",
    "import pandas as pd\n",
    "import numpy as np\n",
    "import re\n",
    "from functools import reduce\n",
    "import random"
   ]
  },
  {
   "cell_type": "code",
   "execution_count": 2,
   "id": "859ec558",
   "metadata": {
    "scrolled": false
   },
   "outputs": [
    {
     "data": {
      "text/html": [
       "<div>\n",
       "<style scoped>\n",
       "    .dataframe tbody tr th:only-of-type {\n",
       "        vertical-align: middle;\n",
       "    }\n",
       "\n",
       "    .dataframe tbody tr th {\n",
       "        vertical-align: top;\n",
       "    }\n",
       "\n",
       "    .dataframe thead th {\n",
       "        text-align: right;\n",
       "    }\n",
       "</style>\n",
       "<table border=\"1\" class=\"dataframe\">\n",
       "  <thead>\n",
       "    <tr style=\"text-align: right;\">\n",
       "      <th></th>\n",
       "      <th>Conference</th>\n",
       "      <th>Year</th>\n",
       "      <th>Title</th>\n",
       "      <th>DOI</th>\n",
       "    </tr>\n",
       "  </thead>\n",
       "  <tbody>\n",
       "    <tr>\n",
       "      <th>0</th>\n",
       "      <td>VIS</td>\n",
       "      <td>2021</td>\n",
       "      <td>Simultaneous Matrix Orderings for Graph Collec...</td>\n",
       "      <td>10.1109/tvcg.2021.3114773</td>\n",
       "    </tr>\n",
       "    <tr>\n",
       "      <th>1</th>\n",
       "      <td>VIS</td>\n",
       "      <td>2021</td>\n",
       "      <td>IRVINE: A Design Study on Analyzing Correlatio...</td>\n",
       "      <td>10.1109/tvcg.2021.3114797</td>\n",
       "    </tr>\n",
       "    <tr>\n",
       "      <th>2</th>\n",
       "      <td>VIS</td>\n",
       "      <td>2021</td>\n",
       "      <td>Perception! Immersion! Empowerment! Superpower...</td>\n",
       "      <td>10.1109/tvcg.2021.3114844</td>\n",
       "    </tr>\n",
       "    <tr>\n",
       "      <th>3</th>\n",
       "      <td>VIS</td>\n",
       "      <td>2021</td>\n",
       "      <td>Feature Curves and Surfaces of 3D Asymmetric T...</td>\n",
       "      <td>10.1109/tvcg.2021.3114808</td>\n",
       "    </tr>\n",
       "    <tr>\n",
       "      <th>4</th>\n",
       "      <td>VIS</td>\n",
       "      <td>2021</td>\n",
       "      <td>AffectiveTDA: Using Topological Data Analysis ...</td>\n",
       "      <td>10.1109/tvcg.2021.3114784</td>\n",
       "    </tr>\n",
       "    <tr>\n",
       "      <th>...</th>\n",
       "      <td>...</td>\n",
       "      <td>...</td>\n",
       "      <td>...</td>\n",
       "      <td>...</td>\n",
       "    </tr>\n",
       "    <tr>\n",
       "      <th>165</th>\n",
       "      <td>VIS</td>\n",
       "      <td>2021</td>\n",
       "      <td>Probabilistic Data-Driven Sampling via Multi-C...</td>\n",
       "      <td>10.1109/TVCG.2020.3006426</td>\n",
       "    </tr>\n",
       "    <tr>\n",
       "      <th>166</th>\n",
       "      <td>VIS</td>\n",
       "      <td>2021</td>\n",
       "      <td>Visual Evaluation for Autonomous Driving</td>\n",
       "      <td>10.1109/TVCG.2021.3114777</td>\n",
       "    </tr>\n",
       "    <tr>\n",
       "      <th>167</th>\n",
       "      <td>VIS</td>\n",
       "      <td>2021</td>\n",
       "      <td>Visual Cascade Analytics of Large-scale Spatio...</td>\n",
       "      <td>10.1109/TVCG.2021.3071387</td>\n",
       "    </tr>\n",
       "    <tr>\n",
       "      <th>168</th>\n",
       "      <td>VIS</td>\n",
       "      <td>2021</td>\n",
       "      <td>Understanding Missing Links in Bipartite Netwo...</td>\n",
       "      <td>10.1109/TVCG.2020.3032984</td>\n",
       "    </tr>\n",
       "    <tr>\n",
       "      <th>169</th>\n",
       "      <td>VIS</td>\n",
       "      <td>2021</td>\n",
       "      <td>Understanding Data Visualization Design Practice</td>\n",
       "      <td>10.1109/TVCG.2021.3114959</td>\n",
       "    </tr>\n",
       "  </tbody>\n",
       "</table>\n",
       "<p>170 rows × 4 columns</p>\n",
       "</div>"
      ],
      "text/plain": [
       "    Conference  Year                                              Title  \\\n",
       "0          VIS  2021  Simultaneous Matrix Orderings for Graph Collec...   \n",
       "1          VIS  2021  IRVINE: A Design Study on Analyzing Correlatio...   \n",
       "2          VIS  2021  Perception! Immersion! Empowerment! Superpower...   \n",
       "3          VIS  2021  Feature Curves and Surfaces of 3D Asymmetric T...   \n",
       "4          VIS  2021  AffectiveTDA: Using Topological Data Analysis ...   \n",
       "..         ...   ...                                                ...   \n",
       "165        VIS  2021  Probabilistic Data-Driven Sampling via Multi-C...   \n",
       "166        VIS  2021           Visual Evaluation for Autonomous Driving   \n",
       "167        VIS  2021  Visual Cascade Analytics of Large-scale Spatio...   \n",
       "168        VIS  2021  Understanding Missing Links in Bipartite Netwo...   \n",
       "169        VIS  2021   Understanding Data Visualization Design Practice   \n",
       "\n",
       "                           DOI  \n",
       "0    10.1109/tvcg.2021.3114773  \n",
       "1    10.1109/tvcg.2021.3114797  \n",
       "2    10.1109/tvcg.2021.3114844  \n",
       "3    10.1109/tvcg.2021.3114808  \n",
       "4    10.1109/tvcg.2021.3114784  \n",
       "..                         ...  \n",
       "165  10.1109/TVCG.2020.3006426  \n",
       "166  10.1109/TVCG.2021.3114777  \n",
       "167  10.1109/TVCG.2021.3071387  \n",
       "168  10.1109/TVCG.2020.3032984  \n",
       "169  10.1109/TVCG.2021.3114959  \n",
       "\n",
       "[170 rows x 4 columns]"
      ]
     },
     "execution_count": 2,
     "metadata": {},
     "output_type": "execute_result"
    }
   ],
   "source": [
    "# import raw data\n",
    "dois_2021 = pd.read_csv('../../data/raw/dois_2021.csv')\n",
    "dois_2021"
   ]
  },
  {
   "cell_type": "markdown",
   "id": "f16ddd18",
   "metadata": {},
   "source": [
    "## Extract the DOI"
   ]
  },
  {
   "cell_type": "code",
   "execution_count": 3,
   "id": "0282dbeb",
   "metadata": {},
   "outputs": [
    {
     "data": {
      "text/plain": [
       "['10.1109/MCG.2020.3024146',\n",
       " '10.1109/tvcg.2021.3114880',\n",
       " '10.1109/tvcg.2021.3114796',\n",
       " '10.1109/tvcg.2021.3114850',\n",
       " '10.1109/tvcg.2021.3114854',\n",
       " '10.1109/TVCG.2020.3006426',\n",
       " '10.1109/tvcg.2021.3114870',\n",
       " '10.1109/tvcg.2021.3114790',\n",
       " '10.1109/TVCG.2021.3114766',\n",
       " '10.1109/tvcg.2021.3114863']"
      ]
     },
     "execution_count": 3,
     "metadata": {},
     "output_type": "execute_result"
    }
   ],
   "source": [
    "dois = dois_2021.loc[:, \"DOI\"].tolist()\n",
    "random.sample(dois, 10)"
   ]
  },
  {
   "cell_type": "markdown",
   "id": "9a3b0513",
   "metadata": {},
   "source": [
    "### Identifying invalid DOI \n",
    "\n",
    "I know that there are several invalid paper DOIs. I want to find out what and where they are. Most papers have the string of `10.1109`, which indicates the journal of IEEE Visualization conference, I guess. Then, papers that do not contain this string must be different, if not invalid. \n",
    "\n",
    "To find out whether every paper DOI contains `10.1109`, I first extracted the string before the first `/` in each DOI using regular experession and put the output into a list, and then find out the unique elements in that list. "
   ]
  },
  {
   "cell_type": "code",
   "execution_count": 4,
   "id": "4029e5ef",
   "metadata": {},
   "outputs": [
    {
     "data": {
      "text/plain": [
       "'10.1109'"
      ]
     },
     "execution_count": 4,
     "metadata": {},
     "output_type": "execute_result"
    }
   ],
   "source": [
    "# first_num here indicates the first number before `/` in each doi. \n",
    "first_num_list = [re.sub('\\/(.*)', '', i) for i in dois] \n",
    "# credit of the above code goes to: https://stackoverflow.com/a/4419021\n",
    "first_num_list[1]"
   ]
  },
  {
   "cell_type": "code",
   "execution_count": 5,
   "id": "6dd32060",
   "metadata": {},
   "outputs": [
    {
     "data": {
      "text/plain": [
       "{'10.1109': None}"
      ]
     },
     "execution_count": 5,
     "metadata": {},
     "output_type": "execute_result"
    }
   ],
   "source": [
    "# Find out unique strings in first_num_list\n",
    "# Method 1: `dict.fromkeys()`\n",
    "dict.fromkeys(first_num_list)"
   ]
  },
  {
   "cell_type": "code",
   "execution_count": 6,
   "id": "3e1ab922",
   "metadata": {},
   "outputs": [
    {
     "data": {
      "text/plain": [
       "['10.1109']"
      ]
     },
     "execution_count": 6,
     "metadata": {},
     "output_type": "execute_result"
    }
   ],
   "source": [
    "unique = list(dict.fromkeys(first_num_list))\n",
    "unique"
   ]
  },
  {
   "cell_type": "code",
   "execution_count": 7,
   "id": "1d3a2525",
   "metadata": {},
   "outputs": [
    {
     "data": {
      "text/plain": [
       "['10.1109']"
      ]
     },
     "execution_count": 7,
     "metadata": {},
     "output_type": "execute_result"
    }
   ],
   "source": [
    "# Method 2: set\n",
    "unique = list(set(first_num_list))\n",
    "unique"
   ]
  },
  {
   "cell_type": "markdown",
   "id": "fad07687",
   "metadata": {},
   "source": [
    "I now know there are only one unique string."
   ]
  },
  {
   "cell_type": "markdown",
   "id": "6e17f148",
   "metadata": {},
   "source": [
    "## Analyzing Journal Code\n",
    "\n",
    "By \"Journal Code\", I mean strings like 'TVCG', 'VAST', 'VISUAL', 'SciVis', or 'INFVIS that follow '10.1109'. "
   ]
  },
  {
   "cell_type": "code",
   "execution_count": 8,
   "id": "361a93d1",
   "metadata": {},
   "outputs": [
    {
     "data": {
      "text/plain": [
       "['tvcg.2021.3114864',\n",
       " 'tvcg.2021.3114780',\n",
       " 'TVCG.2021.3114777',\n",
       " 'tvcg.2021.3074010',\n",
       " 'TVCG.2021.3071387',\n",
       " 'tvcg.2021.3114845',\n",
       " 'TVCG.2020.3032984',\n",
       " 'tvcg.2021.3114770',\n",
       " 'tvcg.2021.3114808',\n",
       " 'tvcg.2021.3114795']"
      ]
     },
     "execution_count": 8,
     "metadata": {},
     "output_type": "execute_result"
    }
   ],
   "source": [
    "# I first strip '10.1109/' or '10.0000/' off each doi\n",
    "doi_main = [re.sub(r'10.1109/|10.0000/', '', i) for i in dois]\n",
    "random.sample(doi_main, 10)\n",
    "# len(doi_main) = 3394"
   ]
  },
  {
   "cell_type": "code",
   "execution_count": 9,
   "id": "dbbcc6c9",
   "metadata": {},
   "outputs": [
    {
     "data": {
      "text/plain": [
       "['tvcg',\n",
       " 'tvcg',\n",
       " 'TVCG',\n",
       " 'tvcg',\n",
       " 'tvcg',\n",
       " 'TVCG',\n",
       " 'TVCG',\n",
       " 'tvcg',\n",
       " 'tvcg',\n",
       " 'tvcg']"
      ]
     },
     "execution_count": 9,
     "metadata": {},
     "output_type": "execute_result"
    }
   ],
   "source": [
    "# Then strip off everything after the dot following the journal code in doi_main\n",
    "journal_code_list = [re.sub('\\.(.*)', '', i) for i in doi_main] \n",
    "random.sample(journal_code_list, 10)"
   ]
  },
  {
   "cell_type": "code",
   "execution_count": 10,
   "id": "8d99c6d8",
   "metadata": {},
   "outputs": [
    {
     "data": {
      "text/plain": [
       "['MCG', 'mcg', 'TVCG', 'tvcg']"
      ]
     },
     "execution_count": 10,
     "metadata": {},
     "output_type": "execute_result"
    }
   ],
   "source": [
    "# getting the list of unique journal code\n",
    "journal_code_unique = list(set(journal_code_list))\n",
    "journal_code_unique"
   ]
  },
  {
   "cell_type": "code",
   "execution_count": 11,
   "id": "bfcfd118",
   "metadata": {},
   "outputs": [],
   "source": [
    "# initiate a list of dictionary containing journal code name and count\n",
    "journal_code_dict_list = []"
   ]
  },
  {
   "cell_type": "code",
   "execution_count": 12,
   "id": "c806d49f",
   "metadata": {},
   "outputs": [
    {
     "data": {
      "text/html": [
       "<div>\n",
       "<style scoped>\n",
       "    .dataframe tbody tr th:only-of-type {\n",
       "        vertical-align: middle;\n",
       "    }\n",
       "\n",
       "    .dataframe tbody tr th {\n",
       "        vertical-align: top;\n",
       "    }\n",
       "\n",
       "    .dataframe thead th {\n",
       "        text-align: right;\n",
       "    }\n",
       "</style>\n",
       "<table border=\"1\" class=\"dataframe\">\n",
       "  <thead>\n",
       "    <tr style=\"text-align: right;\">\n",
       "      <th></th>\n",
       "      <th>Journal Code</th>\n",
       "      <th>Count</th>\n",
       "    </tr>\n",
       "  </thead>\n",
       "  <tbody>\n",
       "  </tbody>\n",
       "</table>\n",
       "</div>"
      ],
      "text/plain": [
       "Empty DataFrame\n",
       "Columns: [Journal Code, Count]\n",
       "Index: []"
      ]
     },
     "execution_count": 12,
     "metadata": {},
     "output_type": "execute_result"
    }
   ],
   "source": [
    "journal_code_df = pd.DataFrame(columns = [\"Journal Code\", \"Count\"])\n",
    "journal_code_df"
   ]
  },
  {
   "cell_type": "code",
   "execution_count": 13,
   "id": "caa7c4e1",
   "metadata": {},
   "outputs": [],
   "source": [
    "# for each unique journal code, get the name and the count, format it as a dict and add this dict to \n",
    "# journal_code_dict_list\n",
    "for i in journal_code_unique: \n",
    "    journal_code_dict = {'Journal Code': i, 'Count': journal_code_list.count(i)} \n",
    "    journal_code_dict_list.append(journal_code_dict)"
   ]
  },
  {
   "cell_type": "code",
   "execution_count": 14,
   "id": "df103244",
   "metadata": {},
   "outputs": [
    {
     "data": {
      "text/plain": [
       "[{'Journal Code': 'MCG', 'Count': 1},\n",
       " {'Journal Code': 'mcg', 'Count': 10},\n",
       " {'Journal Code': 'TVCG', 'Count': 26},\n",
       " {'Journal Code': 'tvcg', 'Count': 133}]"
      ]
     },
     "execution_count": 14,
     "metadata": {},
     "output_type": "execute_result"
    }
   ],
   "source": [
    "journal_code_dict_list"
   ]
  },
  {
   "cell_type": "code",
   "execution_count": 15,
   "id": "5a5f8033",
   "metadata": {},
   "outputs": [],
   "source": [
    "for i in journal_code_dict_list:\n",
    "    df1 = pd.DataFrame([i])\n",
    "    journal_code_df = journal_code_df.append(df1, ignore_index = True)"
   ]
  },
  {
   "cell_type": "code",
   "execution_count": 16,
   "id": "46feaa7d",
   "metadata": {},
   "outputs": [
    {
     "data": {
      "text/html": [
       "<div>\n",
       "<style scoped>\n",
       "    .dataframe tbody tr th:only-of-type {\n",
       "        vertical-align: middle;\n",
       "    }\n",
       "\n",
       "    .dataframe tbody tr th {\n",
       "        vertical-align: top;\n",
       "    }\n",
       "\n",
       "    .dataframe thead th {\n",
       "        text-align: right;\n",
       "    }\n",
       "</style>\n",
       "<table border=\"1\" class=\"dataframe\">\n",
       "  <thead>\n",
       "    <tr style=\"text-align: right;\">\n",
       "      <th></th>\n",
       "      <th>Journal Code</th>\n",
       "      <th>Count</th>\n",
       "    </tr>\n",
       "  </thead>\n",
       "  <tbody>\n",
       "    <tr>\n",
       "      <th>0</th>\n",
       "      <td>MCG</td>\n",
       "      <td>1</td>\n",
       "    </tr>\n",
       "    <tr>\n",
       "      <th>1</th>\n",
       "      <td>mcg</td>\n",
       "      <td>10</td>\n",
       "    </tr>\n",
       "    <tr>\n",
       "      <th>2</th>\n",
       "      <td>TVCG</td>\n",
       "      <td>26</td>\n",
       "    </tr>\n",
       "    <tr>\n",
       "      <th>3</th>\n",
       "      <td>tvcg</td>\n",
       "      <td>133</td>\n",
       "    </tr>\n",
       "  </tbody>\n",
       "</table>\n",
       "</div>"
      ],
      "text/plain": [
       "  Journal Code Count\n",
       "0          MCG     1\n",
       "1          mcg    10\n",
       "2         TVCG    26\n",
       "3         tvcg   133"
      ]
     },
     "execution_count": 16,
     "metadata": {},
     "output_type": "execute_result"
    }
   ],
   "source": [
    "journal_code_df"
   ]
  },
  {
   "cell_type": "code",
   "execution_count": 17,
   "id": "5690df81",
   "metadata": {},
   "outputs": [
    {
     "data": {
      "text/html": [
       "<div>\n",
       "<style scoped>\n",
       "    .dataframe tbody tr th:only-of-type {\n",
       "        vertical-align: middle;\n",
       "    }\n",
       "\n",
       "    .dataframe tbody tr th {\n",
       "        vertical-align: top;\n",
       "    }\n",
       "\n",
       "    .dataframe thead th {\n",
       "        text-align: right;\n",
       "    }\n",
       "</style>\n",
       "<table border=\"1\" class=\"dataframe\">\n",
       "  <thead>\n",
       "    <tr style=\"text-align: right;\">\n",
       "      <th></th>\n",
       "      <th>Conference</th>\n",
       "      <th>Year</th>\n",
       "      <th>Title</th>\n",
       "      <th>DOI</th>\n",
       "    </tr>\n",
       "  </thead>\n",
       "  <tbody>\n",
       "    <tr>\n",
       "      <th>41</th>\n",
       "      <td>VIS</td>\n",
       "      <td>2021</td>\n",
       "      <td>Data Badges: Making an Academic Profile throug...</td>\n",
       "      <td>10.1109/mcg.2020.3025504</td>\n",
       "    </tr>\n",
       "    <tr>\n",
       "      <th>42</th>\n",
       "      <td>VIS</td>\n",
       "      <td>2021</td>\n",
       "      <td>Move&amp;Find: The value of kinesthetic experience...</td>\n",
       "      <td>10.1109/mcg.2020.3025385</td>\n",
       "    </tr>\n",
       "    <tr>\n",
       "      <th>43</th>\n",
       "      <td>VIS</td>\n",
       "      <td>2021</td>\n",
       "      <td>Slave Voyages:reflections on data sculptures</td>\n",
       "      <td>10.1109/mcg.2020.3025183</td>\n",
       "    </tr>\n",
       "    <tr>\n",
       "      <th>44</th>\n",
       "      <td>VIS</td>\n",
       "      <td>2021</td>\n",
       "      <td>Narrative Physicalisation: Supporting Interact...</td>\n",
       "      <td>10.1109/mcg.2020.3025078</td>\n",
       "    </tr>\n",
       "    <tr>\n",
       "      <th>45</th>\n",
       "      <td>VIS</td>\n",
       "      <td>2021</td>\n",
       "      <td>Data Clothing and BigBarChart: designing physi...</td>\n",
       "      <td>10.1109/mcg.2020.3025322</td>\n",
       "    </tr>\n",
       "    <tr>\n",
       "      <th>64</th>\n",
       "      <td>VIS</td>\n",
       "      <td>2021</td>\n",
       "      <td>Dynamic 3D Visualization of Climate Model Deve...</td>\n",
       "      <td>10.1109/mcg.2020.3042587</td>\n",
       "    </tr>\n",
       "    <tr>\n",
       "      <th>65</th>\n",
       "      <td>VIS</td>\n",
       "      <td>2021</td>\n",
       "      <td>Exploring the Design Space of Sankey Diagrams ...</td>\n",
       "      <td>10.1109/mcg.2019.2927556</td>\n",
       "    </tr>\n",
       "    <tr>\n",
       "      <th>66</th>\n",
       "      <td>VIS</td>\n",
       "      <td>2021</td>\n",
       "      <td>QuteVis: Visually Studying Transportation Patt...</td>\n",
       "      <td>10.1109/mcg.2019.2911230</td>\n",
       "    </tr>\n",
       "    <tr>\n",
       "      <th>67</th>\n",
       "      <td>VIS</td>\n",
       "      <td>2021</td>\n",
       "      <td>Many Views Are Not Enough: Designing for Synop...</td>\n",
       "      <td>10.1109/mcg.2020.2985368</td>\n",
       "    </tr>\n",
       "    <tr>\n",
       "      <th>68</th>\n",
       "      <td>VIS</td>\n",
       "      <td>2021</td>\n",
       "      <td>CLEVis: A Semantic Driven Visual Analytics Sys...</td>\n",
       "      <td>10.1109/mcg.2020.2973939</td>\n",
       "    </tr>\n",
       "  </tbody>\n",
       "</table>\n",
       "</div>"
      ],
      "text/plain": [
       "   Conference  Year                                              Title  \\\n",
       "41        VIS  2021  Data Badges: Making an Academic Profile throug...   \n",
       "42        VIS  2021  Move&Find: The value of kinesthetic experience...   \n",
       "43        VIS  2021       Slave Voyages:reflections on data sculptures   \n",
       "44        VIS  2021  Narrative Physicalisation: Supporting Interact...   \n",
       "45        VIS  2021  Data Clothing and BigBarChart: designing physi...   \n",
       "64        VIS  2021  Dynamic 3D Visualization of Climate Model Deve...   \n",
       "65        VIS  2021  Exploring the Design Space of Sankey Diagrams ...   \n",
       "66        VIS  2021  QuteVis: Visually Studying Transportation Patt...   \n",
       "67        VIS  2021  Many Views Are Not Enough: Designing for Synop...   \n",
       "68        VIS  2021  CLEVis: A Semantic Driven Visual Analytics Sys...   \n",
       "\n",
       "                         DOI  \n",
       "41  10.1109/mcg.2020.3025504  \n",
       "42  10.1109/mcg.2020.3025385  \n",
       "43  10.1109/mcg.2020.3025183  \n",
       "44  10.1109/mcg.2020.3025078  \n",
       "45  10.1109/mcg.2020.3025322  \n",
       "64  10.1109/mcg.2020.3042587  \n",
       "65  10.1109/mcg.2019.2927556  \n",
       "66  10.1109/mcg.2019.2911230  \n",
       "67  10.1109/mcg.2020.2985368  \n",
       "68  10.1109/mcg.2020.2973939  "
      ]
     },
     "execution_count": 17,
     "metadata": {},
     "output_type": "execute_result"
    }
   ],
   "source": [
    "dois_2021[dois_2021.DOI.str.contains('mcg')]"
   ]
  },
  {
   "cell_type": "markdown",
   "id": "27b7d11e",
   "metadata": {},
   "source": [
    "## Checking title duplicates\n",
    "\n",
    "I checked whether there are duplicate papers."
   ]
  },
  {
   "cell_type": "code",
   "execution_count": 18,
   "id": "62ff5b5d",
   "metadata": {},
   "outputs": [],
   "source": [
    "titles_2021 = dois_2021.Title.tolist()"
   ]
  },
  {
   "cell_type": "code",
   "execution_count": 19,
   "id": "7cfaa620",
   "metadata": {},
   "outputs": [
    {
     "data": {
      "text/plain": [
       "170"
      ]
     },
     "execution_count": 19,
     "metadata": {},
     "output_type": "execute_result"
    }
   ],
   "source": [
    "len(titles_2021)"
   ]
  },
  {
   "cell_type": "code",
   "execution_count": 20,
   "id": "7f11f91b",
   "metadata": {},
   "outputs": [
    {
     "data": {
      "text/plain": [
       "[]"
      ]
     },
     "execution_count": 20,
     "metadata": {},
     "output_type": "execute_result"
    }
   ],
   "source": [
    "# it turns out there are no duplicate papers. \n",
    "titles_2021_duplicates = list(set([x for x in titles_2021 if titles_2021.count(x) > 1]))\n",
    "titles_2021_duplicates"
   ]
  }
 ],
 "metadata": {
  "kernelspec": {
   "display_name": "Python 3 (ipykernel)",
   "language": "python",
   "name": "python3"
  },
  "language_info": {
   "codemirror_mode": {
    "name": "ipython",
    "version": 3
   },
   "file_extension": ".py",
   "mimetype": "text/x-python",
   "name": "python",
   "nbconvert_exporter": "python",
   "pygments_lexer": "ipython3",
   "version": "3.8.12"
  }
 },
 "nbformat": 4,
 "nbformat_minor": 5
}
