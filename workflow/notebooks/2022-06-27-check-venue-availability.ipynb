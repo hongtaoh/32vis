{
 "cells": [
  {
   "cell_type": "markdown",
   "id": "abb8eb3e",
   "metadata": {},
   "source": [
    "## Aim\n",
    "\n",
    "The aim of this notebook is to check the availability of venue info. "
   ]
  },
  {
   "cell_type": "code",
   "execution_count": 54,
   "id": "4ba37411",
   "metadata": {},
   "outputs": [],
   "source": [
    "import pandas as pd"
   ]
  },
  {
   "cell_type": "code",
   "execution_count": 63,
   "id": "bfd30ad2",
   "metadata": {},
   "outputs": [],
   "source": [
    "REF_DF = pd.read_csv('../../data/processed/openalex_reference_paper_df_unique.csv')"
   ]
  },
  {
   "cell_type": "code",
   "execution_count": 111,
   "id": "576d215e",
   "metadata": {},
   "outputs": [],
   "source": [
    "CIT_DF = pd.read_csv('../../data/processed/large/openalex_citation_concept_df.csv')\n",
    "CIT_ID_NAME = 'Citation Paper OpenAlex ID'"
   ]
  },
  {
   "cell_type": "code",
   "execution_count": 112,
   "id": "9aa67587",
   "metadata": {},
   "outputs": [
    {
     "data": {
      "text/html": [
       "<div>\n",
       "<style scoped>\n",
       "    .dataframe tbody tr th:only-of-type {\n",
       "        vertical-align: middle;\n",
       "    }\n",
       "\n",
       "    .dataframe tbody tr th {\n",
       "        vertical-align: top;\n",
       "    }\n",
       "\n",
       "    .dataframe thead th {\n",
       "        text-align: right;\n",
       "    }\n",
       "</style>\n",
       "<table border=\"1\" class=\"dataframe\">\n",
       "  <thead>\n",
       "    <tr style=\"text-align: right;\">\n",
       "      <th></th>\n",
       "      <th>Cited Ppaer Year</th>\n",
       "      <th>Cited Paper DOI</th>\n",
       "      <th>Cited Paper Title</th>\n",
       "      <th>Cited Paper OpenAlex ID</th>\n",
       "      <th>Citation Paper Year</th>\n",
       "      <th>Citation Paper OpenAlex ID</th>\n",
       "      <th>Citation Ppaer OpenAlex Title</th>\n",
       "      <th>Citation Paper OpenAlex DOI</th>\n",
       "      <th>Number of Concepts</th>\n",
       "      <th>Index of Concept</th>\n",
       "      <th>Concept</th>\n",
       "      <th>Concept ID</th>\n",
       "      <th>Wikidata</th>\n",
       "      <th>Level</th>\n",
       "      <th>Score</th>\n",
       "    </tr>\n",
       "  </thead>\n",
       "  <tbody>\n",
       "  </tbody>\n",
       "</table>\n",
       "</div>"
      ],
      "text/plain": [
       "Empty DataFrame\n",
       "Columns: [Cited Ppaer Year, Cited Paper DOI, Cited Paper Title, Cited Paper OpenAlex ID, Citation Paper Year, Citation Paper OpenAlex ID, Citation Ppaer OpenAlex Title, Citation Paper OpenAlex DOI, Number of Concepts, Index of Concept, Concept, Concept ID, Wikidata, Level, Score]\n",
       "Index: []"
      ]
     },
     "execution_count": 112,
     "metadata": {},
     "output_type": "execute_result"
    }
   ],
   "source": [
    "CIT_DF[CIT_DF[CIT_ID_NAME] == 'W3211836602']"
   ]
  },
  {
   "cell_type": "code",
   "execution_count": 76,
   "id": "2c8ed4ba",
   "metadata": {},
   "outputs": [],
   "source": [
    "CIT_DF = CIT_DF[CIT_DF[CIT_ID_NAME].notnull()]"
   ]
  },
  {
   "cell_type": "code",
   "execution_count": 77,
   "id": "e7d3f29c",
   "metadata": {},
   "outputs": [],
   "source": [
    "cit_unique = CIT_DF.iloc[:, 4:].drop_duplicates()"
   ]
  },
  {
   "cell_type": "code",
   "execution_count": 78,
   "id": "cb0b6d0d",
   "metadata": {},
   "outputs": [
    {
     "data": {
      "text/plain": [
       "60272"
      ]
     },
     "execution_count": 78,
     "metadata": {},
     "output_type": "execute_result"
    }
   ],
   "source": [
    "cit_ids = cit_unique['Citation Paper OpenAlex ID'].tolist()\n",
    "len(list(set(cit_ids)))"
   ]
  },
  {
   "cell_type": "code",
   "execution_count": 108,
   "id": "b8f84648",
   "metadata": {},
   "outputs": [],
   "source": [
    "CIT_DF_ORIGINAL = pd.read_csv('../../data/processed/openalex_citation_paper_df.csv')"
   ]
  },
  {
   "cell_type": "code",
   "execution_count": 88,
   "id": "da97dc72",
   "metadata": {},
   "outputs": [],
   "source": [
    "CIT_DF = CIT_DF_ORIGINAL[CIT_DF_ORIGINAL['Citation Paper OpenAlex ID'].notnull()].iloc[:, 4:]"
   ]
  },
  {
   "cell_type": "code",
   "execution_count": 89,
   "id": "a26e4fc5",
   "metadata": {},
   "outputs": [
    {
     "data": {
      "text/plain": [
       "(153397, 18)"
      ]
     },
     "execution_count": 89,
     "metadata": {},
     "output_type": "execute_result"
    }
   ],
   "source": [
    "CIT_DF.shape"
   ]
  },
  {
   "cell_type": "code",
   "execution_count": 90,
   "id": "5232323b",
   "metadata": {},
   "outputs": [],
   "source": [
    "CIT_DF = CIT_DF.drop_duplicates()"
   ]
  },
  {
   "cell_type": "code",
   "execution_count": 91,
   "id": "19b44288",
   "metadata": {},
   "outputs": [
    {
     "data": {
      "text/plain": [
       "(60447, 18)"
      ]
     },
     "execution_count": 91,
     "metadata": {},
     "output_type": "execute_result"
    }
   ],
   "source": [
    "CIT_DF.shape"
   ]
  },
  {
   "cell_type": "code",
   "execution_count": 92,
   "id": "ac6ba348",
   "metadata": {},
   "outputs": [],
   "source": [
    "cit_paper_ids = list(set(CIT_DF['Citation Paper OpenAlex ID']))"
   ]
  },
  {
   "cell_type": "code",
   "execution_count": 93,
   "id": "8abef7f6",
   "metadata": {},
   "outputs": [
    {
     "data": {
      "text/plain": [
       "60274"
      ]
     },
     "execution_count": 93,
     "metadata": {},
     "output_type": "execute_result"
    }
   ],
   "source": [
    "len(cit_paper_ids)"
   ]
  },
  {
   "cell_type": "code",
   "execution_count": 95,
   "id": "be9249a8",
   "metadata": {},
   "outputs": [
    {
     "data": {
      "text/plain": [
       "['W3211836602', 'W4210838542']"
      ]
     },
     "execution_count": 95,
     "metadata": {},
     "output_type": "execute_result"
    }
   ],
   "source": [
    "diff_ids = list(set(CIT_DF['Citation Paper OpenAlex ID']) - set(cit_ids))\n",
    "diff_ids"
   ]
  },
  {
   "cell_type": "code",
   "execution_count": 96,
   "id": "18a14107",
   "metadata": {},
   "outputs": [
    {
     "data": {
      "text/html": [
       "<div>\n",
       "<style scoped>\n",
       "    .dataframe tbody tr th:only-of-type {\n",
       "        vertical-align: middle;\n",
       "    }\n",
       "\n",
       "    .dataframe tbody tr th {\n",
       "        vertical-align: top;\n",
       "    }\n",
       "\n",
       "    .dataframe thead th {\n",
       "        text-align: right;\n",
       "    }\n",
       "</style>\n",
       "<table border=\"1\" class=\"dataframe\">\n",
       "  <thead>\n",
       "    <tr style=\"text-align: right;\">\n",
       "      <th></th>\n",
       "      <th>Cited Ppaer Year</th>\n",
       "      <th>Cited Paper DOI</th>\n",
       "      <th>Cited Paper Title</th>\n",
       "      <th>Cited Paper OpenAlex ID</th>\n",
       "      <th>OpenAlex Year</th>\n",
       "      <th>OpenAlex Publication Date</th>\n",
       "      <th>Citation Paper OpenAlex ID</th>\n",
       "      <th>Citation Paper OpenAlex Title</th>\n",
       "      <th>Citation Paper OpenAlex DOI</th>\n",
       "      <th>Citation Paper OpenAlex URL</th>\n",
       "      <th>...</th>\n",
       "      <th>OpenAlex Publisher</th>\n",
       "      <th>Publication Type</th>\n",
       "      <th>OpenAlex First Page</th>\n",
       "      <th>OpenAlex Last Page</th>\n",
       "      <th>Number of References</th>\n",
       "      <th>Number of Authors</th>\n",
       "      <th>Number of Concepts</th>\n",
       "      <th>Number of Citations</th>\n",
       "      <th>Citation API URL</th>\n",
       "      <th>Number of Citation API URLs</th>\n",
       "    </tr>\n",
       "  </thead>\n",
       "  <tbody>\n",
       "    <tr>\n",
       "      <th>49460</th>\n",
       "      <td>2005</td>\n",
       "      <td>10.1109/INFVIS.2005.1532152</td>\n",
       "      <td>Interactive Sankey diagrams</td>\n",
       "      <td>W1932144848</td>\n",
       "      <td>2022.0</td>\n",
       "      <td>2022-01-01</td>\n",
       "      <td>W3211836602</td>\n",
       "      <td>Investigating the Trinity Between Sustainabili...</td>\n",
       "      <td>https://doi.org/10.1007/978-3-030-79450-7_33</td>\n",
       "      <td>https://link.springer.com/chapter/10.1007/978-...</td>\n",
       "      <td>...</td>\n",
       "      <td>Springer, Cham</td>\n",
       "      <td>NaN</td>\n",
       "      <td>441</td>\n",
       "      <td>457</td>\n",
       "      <td>20.0</td>\n",
       "      <td>3.0</td>\n",
       "      <td>0.0</td>\n",
       "      <td>0.0</td>\n",
       "      <td>https://api.openalex.org/works?filter=cites:W3...</td>\n",
       "      <td>1.0</td>\n",
       "    </tr>\n",
       "  </tbody>\n",
       "</table>\n",
       "<p>1 rows × 22 columns</p>\n",
       "</div>"
      ],
      "text/plain": [
       "       Cited Ppaer Year              Cited Paper DOI  \\\n",
       "49460              2005  10.1109/INFVIS.2005.1532152   \n",
       "\n",
       "                 Cited Paper Title Cited Paper OpenAlex ID  OpenAlex Year  \\\n",
       "49460  Interactive Sankey diagrams             W1932144848         2022.0   \n",
       "\n",
       "      OpenAlex Publication Date Citation Paper OpenAlex ID  \\\n",
       "49460                2022-01-01                W3211836602   \n",
       "\n",
       "                           Citation Paper OpenAlex Title  \\\n",
       "49460  Investigating the Trinity Between Sustainabili...   \n",
       "\n",
       "                        Citation Paper OpenAlex DOI  \\\n",
       "49460  https://doi.org/10.1007/978-3-030-79450-7_33   \n",
       "\n",
       "                             Citation Paper OpenAlex URL  ...  \\\n",
       "49460  https://link.springer.com/chapter/10.1007/978-...  ...   \n",
       "\n",
       "      OpenAlex Publisher Publication Type OpenAlex First Page  \\\n",
       "49460     Springer, Cham              NaN                 441   \n",
       "\n",
       "      OpenAlex Last Page Number of References Number of Authors  \\\n",
       "49460                457                 20.0               3.0   \n",
       "\n",
       "       Number of Concepts  Number of Citations  \\\n",
       "49460                 0.0                  0.0   \n",
       "\n",
       "                                        Citation API URL  \\\n",
       "49460  https://api.openalex.org/works?filter=cites:W3...   \n",
       "\n",
       "       Number of Citation API URLs  \n",
       "49460                          1.0  \n",
       "\n",
       "[1 rows x 22 columns]"
      ]
     },
     "execution_count": 96,
     "metadata": {},
     "output_type": "execute_result"
    }
   ],
   "source": [
    "CIT_DF_ORIGINAL[CIT_DF_ORIGINAL[CIT_ID_NAME] == diff_ids[0]]"
   ]
  },
  {
   "cell_type": "code",
   "execution_count": 97,
   "id": "1a15492f",
   "metadata": {},
   "outputs": [
    {
     "data": {
      "text/html": [
       "<div>\n",
       "<style scoped>\n",
       "    .dataframe tbody tr th:only-of-type {\n",
       "        vertical-align: middle;\n",
       "    }\n",
       "\n",
       "    .dataframe tbody tr th {\n",
       "        vertical-align: top;\n",
       "    }\n",
       "\n",
       "    .dataframe thead th {\n",
       "        text-align: right;\n",
       "    }\n",
       "</style>\n",
       "<table border=\"1\" class=\"dataframe\">\n",
       "  <thead>\n",
       "    <tr style=\"text-align: right;\">\n",
       "      <th></th>\n",
       "      <th>Cited Ppaer Year</th>\n",
       "      <th>Cited Paper DOI</th>\n",
       "      <th>Cited Paper Title</th>\n",
       "      <th>Cited Paper OpenAlex ID</th>\n",
       "      <th>OpenAlex Year</th>\n",
       "      <th>OpenAlex Publication Date</th>\n",
       "      <th>Citation Paper OpenAlex ID</th>\n",
       "      <th>Citation Paper OpenAlex Title</th>\n",
       "      <th>Citation Paper OpenAlex DOI</th>\n",
       "      <th>Citation Paper OpenAlex URL</th>\n",
       "      <th>...</th>\n",
       "      <th>OpenAlex Publisher</th>\n",
       "      <th>Publication Type</th>\n",
       "      <th>OpenAlex First Page</th>\n",
       "      <th>OpenAlex Last Page</th>\n",
       "      <th>Number of References</th>\n",
       "      <th>Number of Authors</th>\n",
       "      <th>Number of Concepts</th>\n",
       "      <th>Number of Citations</th>\n",
       "      <th>Citation API URL</th>\n",
       "      <th>Number of Citation API URLs</th>\n",
       "    </tr>\n",
       "  </thead>\n",
       "  <tbody>\n",
       "    <tr>\n",
       "      <th>82851</th>\n",
       "      <td>2013</td>\n",
       "      <td>10.1109/TVCG.2013.192</td>\n",
       "      <td>SoccerStories: A Kick-off for Visual Soccer An...</td>\n",
       "      <td>W2058878000</td>\n",
       "      <td>2022.0</td>\n",
       "      <td>2022-02-08</td>\n",
       "      <td>W4210838542</td>\n",
       "      <td>The collection, analysis and exploitation of f...</td>\n",
       "      <td>https://doi.org/10.3233/jsa-200554</td>\n",
       "      <td>https://doi.org/10.3233/jsa-200554</td>\n",
       "      <td>...</td>\n",
       "      <td>IOS Press</td>\n",
       "      <td>journal-article</td>\n",
       "      <td>1</td>\n",
       "      <td>37</td>\n",
       "      <td>98.0</td>\n",
       "      <td>3.0</td>\n",
       "      <td>0.0</td>\n",
       "      <td>0.0</td>\n",
       "      <td>https://api.openalex.org/works?filter=cites:W4...</td>\n",
       "      <td>1.0</td>\n",
       "    </tr>\n",
       "    <tr>\n",
       "      <th>132648</th>\n",
       "      <td>2017</td>\n",
       "      <td>10.1109/TVCG.2017.2745181</td>\n",
       "      <td>Bring It to the Pitch: Combining Video and Mov...</td>\n",
       "      <td>W2753693229</td>\n",
       "      <td>2022.0</td>\n",
       "      <td>2022-02-08</td>\n",
       "      <td>W4210838542</td>\n",
       "      <td>The collection, analysis and exploitation of f...</td>\n",
       "      <td>https://doi.org/10.3233/jsa-200554</td>\n",
       "      <td>https://doi.org/10.3233/jsa-200554</td>\n",
       "      <td>...</td>\n",
       "      <td>IOS Press</td>\n",
       "      <td>journal-article</td>\n",
       "      <td>1</td>\n",
       "      <td>37</td>\n",
       "      <td>98.0</td>\n",
       "      <td>3.0</td>\n",
       "      <td>0.0</td>\n",
       "      <td>0.0</td>\n",
       "      <td>https://api.openalex.org/works?filter=cites:W4...</td>\n",
       "      <td>1.0</td>\n",
       "    </tr>\n",
       "  </tbody>\n",
       "</table>\n",
       "<p>2 rows × 22 columns</p>\n",
       "</div>"
      ],
      "text/plain": [
       "        Cited Ppaer Year            Cited Paper DOI  \\\n",
       "82851               2013      10.1109/TVCG.2013.192   \n",
       "132648              2017  10.1109/TVCG.2017.2745181   \n",
       "\n",
       "                                        Cited Paper Title  \\\n",
       "82851   SoccerStories: A Kick-off for Visual Soccer An...   \n",
       "132648  Bring It to the Pitch: Combining Video and Mov...   \n",
       "\n",
       "       Cited Paper OpenAlex ID  OpenAlex Year OpenAlex Publication Date  \\\n",
       "82851              W2058878000         2022.0                2022-02-08   \n",
       "132648             W2753693229         2022.0                2022-02-08   \n",
       "\n",
       "       Citation Paper OpenAlex ID  \\\n",
       "82851                 W4210838542   \n",
       "132648                W4210838542   \n",
       "\n",
       "                            Citation Paper OpenAlex Title  \\\n",
       "82851   The collection, analysis and exploitation of f...   \n",
       "132648  The collection, analysis and exploitation of f...   \n",
       "\n",
       "               Citation Paper OpenAlex DOI  \\\n",
       "82851   https://doi.org/10.3233/jsa-200554   \n",
       "132648  https://doi.org/10.3233/jsa-200554   \n",
       "\n",
       "               Citation Paper OpenAlex URL  ... OpenAlex Publisher  \\\n",
       "82851   https://doi.org/10.3233/jsa-200554  ...          IOS Press   \n",
       "132648  https://doi.org/10.3233/jsa-200554  ...          IOS Press   \n",
       "\n",
       "       Publication Type OpenAlex First Page OpenAlex Last Page  \\\n",
       "82851   journal-article                   1                 37   \n",
       "132648  journal-article                   1                 37   \n",
       "\n",
       "       Number of References Number of Authors  Number of Concepts  \\\n",
       "82851                  98.0               3.0                 0.0   \n",
       "132648                 98.0               3.0                 0.0   \n",
       "\n",
       "        Number of Citations  \\\n",
       "82851                   0.0   \n",
       "132648                  0.0   \n",
       "\n",
       "                                         Citation API URL  \\\n",
       "82851   https://api.openalex.org/works?filter=cites:W4...   \n",
       "132648  https://api.openalex.org/works?filter=cites:W4...   \n",
       "\n",
       "        Number of Citation API URLs  \n",
       "82851                           1.0  \n",
       "132648                          1.0  \n",
       "\n",
       "[2 rows x 22 columns]"
      ]
     },
     "execution_count": 97,
     "metadata": {},
     "output_type": "execute_result"
    }
   ],
   "source": [
    "CIT_DF_ORIGINAL[CIT_DF_ORIGINAL[CIT_ID_NAME] == diff_ids[1]]"
   ]
  },
  {
   "cell_type": "markdown",
   "id": "9e79338c",
   "metadata": {},
   "source": [
    "### Conclusion\n",
    "\n",
    "It seems that `openalex_citation_paper_df.csv` contains two citation papers that were not included in `openalex_citaiton_concept_df.csv`. I don't know why this happend. "
   ]
  },
  {
   "cell_type": "markdown",
   "id": "96bac668",
   "metadata": {},
   "source": [
    "## I want to look at whether number of citations for each paper is the same as the number of citation papers each VIS paper has in the concept data df. "
   ]
  },
  {
   "cell_type": "code",
   "execution_count": 114,
   "id": "85ecd935",
   "metadata": {},
   "outputs": [
    {
     "data": {
      "text/html": [
       "<div>\n",
       "<style scoped>\n",
       "    .dataframe tbody tr th:only-of-type {\n",
       "        vertical-align: middle;\n",
       "    }\n",
       "\n",
       "    .dataframe tbody tr th {\n",
       "        vertical-align: top;\n",
       "    }\n",
       "\n",
       "    .dataframe thead th {\n",
       "        text-align: right;\n",
       "    }\n",
       "</style>\n",
       "<table border=\"1\" class=\"dataframe\">\n",
       "  <thead>\n",
       "    <tr style=\"text-align: right;\">\n",
       "      <th></th>\n",
       "      <th>Year</th>\n",
       "      <th>DOI</th>\n",
       "      <th>Title</th>\n",
       "      <th>OpenAlex Year</th>\n",
       "      <th>OpenAlex Publication Date</th>\n",
       "      <th>OpenAlex ID</th>\n",
       "      <th>OpenAlex Title</th>\n",
       "      <th>OpenAlex DOI</th>\n",
       "      <th>OpenAlex URL</th>\n",
       "      <th>OpenAlex Venue ID</th>\n",
       "      <th>...</th>\n",
       "      <th>Publication Type</th>\n",
       "      <th>OpenAlex First Page</th>\n",
       "      <th>OpenAlex Last Page</th>\n",
       "      <th>Number of Pages</th>\n",
       "      <th>Number of References</th>\n",
       "      <th>Number of Authors</th>\n",
       "      <th>Number of Concepts</th>\n",
       "      <th>Number of Citations</th>\n",
       "      <th>Citation API URL</th>\n",
       "      <th>Number of Citation API URLs</th>\n",
       "    </tr>\n",
       "  </thead>\n",
       "  <tbody>\n",
       "    <tr>\n",
       "      <th>0</th>\n",
       "      <td>2011</td>\n",
       "      <td>10.1109/TVCG.2011.185</td>\n",
       "      <td>D³ Data-Driven Documents</td>\n",
       "      <td>2011</td>\n",
       "      <td>2011-12-01</td>\n",
       "      <td>W2135415614</td>\n",
       "      <td>D³ Data-Driven Documents</td>\n",
       "      <td>https://doi.org/10.1109/tvcg.2011.185</td>\n",
       "      <td>https://doi.org/10.1109/tvcg.2011.185</td>\n",
       "      <td>https://openalex.org/V84775595</td>\n",
       "      <td>...</td>\n",
       "      <td>journal-article</td>\n",
       "      <td>2301.0</td>\n",
       "      <td>2309.0</td>\n",
       "      <td>9.0</td>\n",
       "      <td>27</td>\n",
       "      <td>3</td>\n",
       "      <td>15</td>\n",
       "      <td>2239</td>\n",
       "      <td>https://api.openalex.org/works?filter=cites:W2...</td>\n",
       "      <td>1</td>\n",
       "    </tr>\n",
       "  </tbody>\n",
       "</table>\n",
       "<p>1 rows × 22 columns</p>\n",
       "</div>"
      ],
      "text/plain": [
       "   Year                    DOI                     Title  OpenAlex Year  \\\n",
       "0  2011  10.1109/TVCG.2011.185  D³ Data-Driven Documents           2011   \n",
       "\n",
       "  OpenAlex Publication Date  OpenAlex ID            OpenAlex Title  \\\n",
       "0                2011-12-01  W2135415614  D³ Data-Driven Documents   \n",
       "\n",
       "                            OpenAlex DOI  \\\n",
       "0  https://doi.org/10.1109/tvcg.2011.185   \n",
       "\n",
       "                            OpenAlex URL               OpenAlex Venue ID  ...  \\\n",
       "0  https://doi.org/10.1109/tvcg.2011.185  https://openalex.org/V84775595  ...   \n",
       "\n",
       "  Publication Type OpenAlex First Page OpenAlex Last Page  Number of Pages  \\\n",
       "0  journal-article              2301.0             2309.0              9.0   \n",
       "\n",
       "   Number of References  Number of Authors  Number of Concepts  \\\n",
       "0                    27                  3                  15   \n",
       "\n",
       "   Number of Citations                                   Citation API URL  \\\n",
       "0                 2239  https://api.openalex.org/works?filter=cites:W2...   \n",
       "\n",
       "   Number of Citation API URLs  \n",
       "0                            1  \n",
       "\n",
       "[1 rows x 22 columns]"
      ]
     },
     "execution_count": 114,
     "metadata": {},
     "output_type": "execute_result"
    }
   ],
   "source": [
    "df = pd.read_csv('../../data/processed/openalex_paper_df.csv')\n",
    "df.head(1)"
   ]
  },
  {
   "cell_type": "code",
   "execution_count": 117,
   "id": "d1b59ff7",
   "metadata": {},
   "outputs": [],
   "source": [
    "visdoi_citation_count_dic = dict(zip(df.DOI, df['Number of Citations']))"
   ]
  },
  {
   "cell_type": "code",
   "execution_count": 118,
   "id": "fcf17dc3",
   "metadata": {},
   "outputs": [],
   "source": [
    "cit_concept_df = pd.read_csv('../../data/processed/large/openalex_citation_concept_df.csv')"
   ]
  },
  {
   "cell_type": "code",
   "execution_count": 119,
   "id": "3c5940ae",
   "metadata": {},
   "outputs": [
    {
     "data": {
      "text/html": [
       "<div>\n",
       "<style scoped>\n",
       "    .dataframe tbody tr th:only-of-type {\n",
       "        vertical-align: middle;\n",
       "    }\n",
       "\n",
       "    .dataframe tbody tr th {\n",
       "        vertical-align: top;\n",
       "    }\n",
       "\n",
       "    .dataframe thead th {\n",
       "        text-align: right;\n",
       "    }\n",
       "</style>\n",
       "<table border=\"1\" class=\"dataframe\">\n",
       "  <thead>\n",
       "    <tr style=\"text-align: right;\">\n",
       "      <th></th>\n",
       "      <th>Cited Ppaer Year</th>\n",
       "      <th>Cited Paper DOI</th>\n",
       "      <th>Cited Paper Title</th>\n",
       "      <th>Cited Paper OpenAlex ID</th>\n",
       "      <th>Citation Paper Year</th>\n",
       "      <th>Citation Paper OpenAlex ID</th>\n",
       "      <th>Citation Ppaer OpenAlex Title</th>\n",
       "      <th>Citation Paper OpenAlex DOI</th>\n",
       "      <th>Number of Concepts</th>\n",
       "      <th>Index of Concept</th>\n",
       "      <th>Concept</th>\n",
       "      <th>Concept ID</th>\n",
       "      <th>Wikidata</th>\n",
       "      <th>Level</th>\n",
       "      <th>Score</th>\n",
       "    </tr>\n",
       "  </thead>\n",
       "  <tbody>\n",
       "    <tr>\n",
       "      <th>0</th>\n",
       "      <td>2011</td>\n",
       "      <td>10.1109/TVCG.2011.185</td>\n",
       "      <td>D³ Data-Driven Documents</td>\n",
       "      <td>W2135415614</td>\n",
       "      <td>2022.0</td>\n",
       "      <td>W4281736408</td>\n",
       "      <td>DramatVis Personae: Visual Text Analytics for ...</td>\n",
       "      <td>https://doi.org/10.1145/3532106.3533526</td>\n",
       "      <td>8.0</td>\n",
       "      <td>1.0</td>\n",
       "      <td>Analytics</td>\n",
       "      <td>https://openalex.org/C79158427</td>\n",
       "      <td>https://www.wikidata.org/wiki/Q485396</td>\n",
       "      <td>2.0</td>\n",
       "      <td>0.704162</td>\n",
       "    </tr>\n",
       "    <tr>\n",
       "      <th>1</th>\n",
       "      <td>2011</td>\n",
       "      <td>10.1109/TVCG.2011.185</td>\n",
       "      <td>D³ Data-Driven Documents</td>\n",
       "      <td>W2135415614</td>\n",
       "      <td>2022.0</td>\n",
       "      <td>W4281736408</td>\n",
       "      <td>DramatVis Personae: Visual Text Analytics for ...</td>\n",
       "      <td>https://doi.org/10.1145/3532106.3533526</td>\n",
       "      <td>8.0</td>\n",
       "      <td>2.0</td>\n",
       "      <td>Computer science</td>\n",
       "      <td>https://openalex.org/C41008148</td>\n",
       "      <td>https://www.wikidata.org/wiki/Q21198</td>\n",
       "      <td>0.0</td>\n",
       "      <td>0.703784</td>\n",
       "    </tr>\n",
       "  </tbody>\n",
       "</table>\n",
       "</div>"
      ],
      "text/plain": [
       "   Cited Ppaer Year        Cited Paper DOI         Cited Paper Title  \\\n",
       "0              2011  10.1109/TVCG.2011.185  D³ Data-Driven Documents   \n",
       "1              2011  10.1109/TVCG.2011.185  D³ Data-Driven Documents   \n",
       "\n",
       "  Cited Paper OpenAlex ID  Citation Paper Year Citation Paper OpenAlex ID  \\\n",
       "0             W2135415614               2022.0                W4281736408   \n",
       "1             W2135415614               2022.0                W4281736408   \n",
       "\n",
       "                       Citation Ppaer OpenAlex Title  \\\n",
       "0  DramatVis Personae: Visual Text Analytics for ...   \n",
       "1  DramatVis Personae: Visual Text Analytics for ...   \n",
       "\n",
       "               Citation Paper OpenAlex DOI  Number of Concepts  \\\n",
       "0  https://doi.org/10.1145/3532106.3533526                 8.0   \n",
       "1  https://doi.org/10.1145/3532106.3533526                 8.0   \n",
       "\n",
       "   Index of Concept           Concept                      Concept ID  \\\n",
       "0               1.0         Analytics  https://openalex.org/C79158427   \n",
       "1               2.0  Computer science  https://openalex.org/C41008148   \n",
       "\n",
       "                                Wikidata  Level     Score  \n",
       "0  https://www.wikidata.org/wiki/Q485396    2.0  0.704162  \n",
       "1   https://www.wikidata.org/wiki/Q21198    0.0  0.703784  "
      ]
     },
     "execution_count": 119,
     "metadata": {},
     "output_type": "execute_result"
    }
   ],
   "source": [
    "cit_concept_df.head(2)"
   ]
  },
  {
   "cell_type": "code",
   "execution_count": 135,
   "id": "6272494c",
   "metadata": {},
   "outputs": [],
   "source": [
    "visdoi_citation_count_dic_to_check = {}\n",
    "# to keep only cited paper doi and citation paper id. This is because if I simply groupby cited paper doi,\n",
    "# then there will be multiple entries for each citation paper because this is a concept df!\n",
    "visdoi_citid_df = cit_concept_df[['Cited Paper DOI', 'Citation Paper OpenAlex ID']]\n",
    "visdoi_citid_df = visdoi_citid_df.drop_duplicates()\n",
    "for visdoi, group in visdoi_citid_df.groupby('Cited Paper DOI'):\n",
    "    visdoi_citation_count_dic_to_check[visdoi] = group.shape[0]"
   ]
  },
  {
   "cell_type": "code",
   "execution_count": 138,
   "id": "40d5875c",
   "metadata": {},
   "outputs": [
    {
     "name": "stdout",
     "output_type": "stream",
     "text": [
      "2717\n"
     ]
    }
   ],
   "source": [
    "x = visdoi_citation_count_dic \n",
    "y = visdoi_citation_count_dic_to_check\n",
    "shared_items = {k: x[k] for k in x if k in y and x[k] == y[k]}\n",
    "diff_items = {k: x[k] for k in x if k in y and x[k] != y[k]}\n",
    "print(len(shared_items))\n",
    "# What???"
   ]
  },
  {
   "cell_type": "code",
   "execution_count": 155,
   "id": "e58665d2",
   "metadata": {},
   "outputs": [
    {
     "name": "stdout",
     "output_type": "stream",
     "text": [
      "523\n"
     ]
    }
   ],
   "source": [
    "print(len(diff_items))"
   ]
  },
  {
   "cell_type": "code",
   "execution_count": 142,
   "id": "0fc9dee0",
   "metadata": {},
   "outputs": [],
   "source": [
    "diff_visdois = list(diff_items.keys())"
   ]
  },
  {
   "cell_type": "code",
   "execution_count": 152,
   "id": "f4c0d62e",
   "metadata": {},
   "outputs": [
    {
     "name": "stderr",
     "output_type": "stream",
     "text": [
      "/var/folders/z2/5kr96fyn63z_tj_bwr33t5dw0000gn/T/ipykernel_33131/350390832.py:2: UserWarning: Pandas doesn't allow columns to be created via a new attribute name - see https://pandas.pydata.org/pandas-docs/stable/indexing.html#attribute-access\n",
      "  diff_df.visdoi = diff_visdois\n"
     ]
    }
   ],
   "source": [
    "diff_df = pd.DataFrame()\n",
    "diff_df.visdoi = diff_visdois\n",
    "diff_df['paper_df_cit_count'] = [visdoi_citation_count_dic[x] for x in diff_visdois]\n",
    "diff_df['concept_df_cit_count'] = [visdoi_citation_count_dic_to_check[x] for x in diff_visdois]\n",
    "diff_df['difference'] = diff_df['paper_df_cit_count'] - diff_df['concept_df_cit_count']\n",
    "diff_df['difference_relative'] = abs(diff_df['paper_df_cit_count'] - diff_df['concept_df_cit_count'])"
   ]
  },
  {
   "cell_type": "code",
   "execution_count": 154,
   "id": "2dfb0870",
   "metadata": {},
   "outputs": [
    {
     "data": {
      "text/plain": [
       "631"
      ]
     },
     "execution_count": 154,
     "metadata": {},
     "output_type": "execute_result"
    }
   ],
   "source": [
    "diff_df.difference_relative.sum()"
   ]
  },
  {
   "cell_type": "code",
   "execution_count": 153,
   "id": "d360f4b2",
   "metadata": {},
   "outputs": [
    {
     "data": {
      "text/plain": [
       "157"
      ]
     },
     "execution_count": 153,
     "metadata": {},
     "output_type": "execute_result"
    }
   ],
   "source": [
    "diff_df.difference.sum()"
   ]
  },
  {
   "cell_type": "markdown",
   "id": "3c88f275",
   "metadata": {},
   "source": [
    "### Further conclusion\n",
    "\n",
    "I concluded that this difference is negligible. I guess this is because the API might take some time to update everything. It shows that the total absolute difference in terms of citation counts is 631, occurring in 523 papers. If I sum all the relative differences up, it will be 157, meaning that the total citation counts in paper_df is bigger than that in concept_df. **This is good news. As I used paper_df in citation analysis.**\n",
    "\n",
    "Also, the above analysis shows that only 2 citation papers in paper_df were not found in concept_df. This is not a big deal at all, as I am analyzing over 60K citation papers' concepts.  "
   ]
  },
  {
   "cell_type": "markdown",
   "id": "d1fbd821",
   "metadata": {},
   "source": [
    "# Checking venue info availability"
   ]
  },
  {
   "cell_type": "code",
   "execution_count": 99,
   "id": "967b7f81",
   "metadata": {},
   "outputs": [
    {
     "data": {
      "text/plain": [
       "(9, 22)"
      ]
     },
     "execution_count": 99,
     "metadata": {},
     "output_type": "execute_result"
    }
   ],
   "source": [
    "df[df['OpenAlex Venue Name'].isnull()].shape"
   ]
  },
  {
   "cell_type": "code",
   "execution_count": 100,
   "id": "b0953598",
   "metadata": {},
   "outputs": [
    {
     "data": {
      "text/plain": [
       "(39817, 19)"
      ]
     },
     "execution_count": 100,
     "metadata": {},
     "output_type": "execute_result"
    }
   ],
   "source": [
    "REF_DF.shape"
   ]
  },
  {
   "cell_type": "code",
   "execution_count": 101,
   "id": "293b7ebc",
   "metadata": {},
   "outputs": [
    {
     "data": {
      "text/plain": [
       "(3299, 19)"
      ]
     },
     "execution_count": 101,
     "metadata": {},
     "output_type": "execute_result"
    }
   ],
   "source": [
    "REF_DF[REF_DF['OpenAlex Venue Name'].isnull()].shape"
   ]
  },
  {
   "cell_type": "code",
   "execution_count": 103,
   "id": "a7d50f57",
   "metadata": {},
   "outputs": [
    {
     "data": {
      "text/plain": [
       "0.08285405731220333"
      ]
     },
     "execution_count": 103,
     "metadata": {},
     "output_type": "execute_result"
    }
   ],
   "source": [
    "REF_DF[REF_DF['OpenAlex Venue Name'].isnull()].shape[0]/REF_DF.shape[0]"
   ]
  },
  {
   "cell_type": "code",
   "execution_count": 107,
   "id": "18d4a549",
   "metadata": {},
   "outputs": [
    {
     "data": {
      "text/plain": [
       "(60447, 18)"
      ]
     },
     "execution_count": 107,
     "metadata": {},
     "output_type": "execute_result"
    }
   ],
   "source": [
    "CIT_DF.shape"
   ]
  },
  {
   "cell_type": "code",
   "execution_count": 110,
   "id": "e7daaa4d",
   "metadata": {},
   "outputs": [
    {
     "data": {
      "text/plain": [
       "60272"
      ]
     },
     "execution_count": 110,
     "metadata": {},
     "output_type": "execute_result"
    }
   ],
   "source": [
    "len(list(set(cit_ids)))"
   ]
  },
  {
   "cell_type": "code",
   "execution_count": 104,
   "id": "cc02ec39",
   "metadata": {},
   "outputs": [
    {
     "data": {
      "text/plain": [
       "(5915, 18)"
      ]
     },
     "execution_count": 104,
     "metadata": {},
     "output_type": "execute_result"
    }
   ],
   "source": [
    "CIT_DF[CIT_DF['OpenAlex Venue Name'].isnull()].shape"
   ]
  },
  {
   "cell_type": "code",
   "execution_count": 109,
   "id": "54c32266",
   "metadata": {},
   "outputs": [
    {
     "data": {
      "text/plain": [
       "0.09813843907618795"
      ]
     },
     "execution_count": 109,
     "metadata": {},
     "output_type": "execute_result"
    }
   ],
   "source": [
    "CIT_DF[CIT_DF['OpenAlex Venue Name'].isnull()].shape[0]/len(list(set(cit_ids)))"
   ]
  }
 ],
 "metadata": {
  "kernelspec": {
   "display_name": "Python 3 (ipykernel)",
   "language": "python",
   "name": "python3"
  },
  "language_info": {
   "codemirror_mode": {
    "name": "ipython",
    "version": 3
   },
   "file_extension": ".py",
   "mimetype": "text/x-python",
   "name": "python",
   "nbconvert_exporter": "python",
   "pygments_lexer": "ipython3",
   "version": "3.8.12"
  }
 },
 "nbformat": 4,
 "nbformat_minor": 5
}
