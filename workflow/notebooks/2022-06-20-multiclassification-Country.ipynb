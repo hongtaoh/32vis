{
 "cells": [
  {
   "cell_type": "code",
   "execution_count": 72,
   "id": "726af4a8",
   "metadata": {},
   "outputs": [
    {
     "name": "stderr",
     "output_type": "stream",
     "text": [
      "[nltk_data] Downloading package stopwords to\n",
      "[nltk_data]     /Users/hongtaoh/nltk_data...\n",
      "[nltk_data]   Package stopwords is already up-to-date!\n"
     ]
    }
   ],
   "source": [
    "# https://medium.com/@gk_/text-classification-using-neural-networks-f5cd7b8765c6\n",
    "# https://towardsdatascience.com/multi-class-text-classification-model-comparison-and-selection-5eb066197568\n",
    "\n",
    "import logging\n",
    "import pandas as pd\n",
    "from io import StringIO\n",
    "import numpy as np\n",
    "from numpy import random\n",
    "import nltk\n",
    "nltk.download('stopwords')\n",
    "from nltk.corpus import stopwords\n",
    "from sklearn.model_selection import train_test_split\n",
    "from sklearn.feature_extraction.text import CountVectorizer, TfidfVectorizer\n",
    "from sklearn.metrics import accuracy_score, confusion_matrix\n",
    "import matplotlib.pyplot as plt\n",
    "import re\n",
    "from bs4 import BeautifulSoup\n",
    "from html.parser import HTMLParser\n",
    "\n",
    "%matplotlib inline"
   ]
  },
  {
   "cell_type": "code",
   "execution_count": 73,
   "id": "823a1090",
   "metadata": {},
   "outputs": [],
   "source": [
    "CIT_AUTHOR = '../../data/processed/large/openalex_citation_author_df.csv'\n",
    "REF_AUTHOR = '../../data/processed/openalex_reference_author_df_unique.csv'\n",
    "# openalex author df for VIS papers:\n",
    "OA_AUTHOR = '../../data/interim/openalex_author_df.csv'"
   ]
  },
  {
   "cell_type": "code",
   "execution_count": 74,
   "id": "478c809a",
   "metadata": {},
   "outputs": [],
   "source": [
    "def get_simple_df(fname):\n",
    "    \"\"\"\n",
    "        - remove nan, \n",
    "        - get only two target columns, i.e., raw string and country code\n",
    "        - drop duplicates\n",
    "    \"\"\"\n",
    "    raw_string = 'Raw Affiliation String'\n",
    "    cntry_code = 'First Institution Country Code'\n",
    "    df = pd.read_csv(fname)\n",
    "    df = df[(df[raw_string].notnull()) & (df[cntry_code].notnull())]\n",
    "    df = df[[raw_string, cntry_code]]\n",
    "    df = df.drop_duplicates()\n",
    "    return df\n",
    "\n",
    "def get_df(cit_author, ref_author, oa_author):\n",
    "    \"\"\"concatenate, drop_duplicates, reset index, rename columns,\n",
    "        factorize label_raw\n",
    "\n",
    "    Returns:\n",
    "        the df used for model training and testing. It contains three columns:\n",
    "            1. aff, which is pre-processed strings of affiliations\n",
    "            2. label_raw, which is country codes in strings,\n",
    "            3. label: which is factorized version of country codes\n",
    "    \"\"\"\n",
    "\n",
    "    df = pd.concat(\n",
    "        [oa_author, ref_author, cit_author], ignore_index = True\n",
    "        ).drop_duplicates().reset_index(drop=True)\n",
    "    df.columns = ['aff', 'label_raw']\n",
    "    df = df.assign(label = pd.factorize(df['label_raw'])[0])\n",
    "    return df "
   ]
  },
  {
   "cell_type": "code",
   "execution_count": 75,
   "id": "6ae9a7b3",
   "metadata": {},
   "outputs": [],
   "source": [
    "def get_dicts(df):\n",
    "    \"\"\"get two dicts, one for cntry to id, and the other for id to cntry\n",
    "    \"\"\"\n",
    "    label_num_df = df[\n",
    "        ['label_raw', 'label']].drop_duplicates().sort_values(by='label')\n",
    "    countries = label_num_df['label_raw'].tolist()\n",
    "    ids = label_num_df['label'].tolist()\n",
    "    cntry_to_id = dict(zip(countries, ids))\n",
    "    id_to_cntry = dict(zip(ids, countries))\n",
    "    return cntry_to_id, id_to_cntry\n",
    "\n",
    "# scrip html tags and entities in titles\n",
    "# source: https://stackoverflow.com/a/925630\n",
    "class MLStripper(HTMLParser):\n",
    "    def __init__(self):\n",
    "        super().__init__()\n",
    "        self.reset()\n",
    "        self.strict = False\n",
    "        self.convert_charrefs= True\n",
    "        self.text = StringIO()\n",
    "    def handle_data(self, d):\n",
    "        self.text.write(d)\n",
    "    def get_data(self):\n",
    "        return self.text.getvalue()\n",
    "\n",
    "def strip_tags(html):\n",
    "    s = MLStripper()\n",
    "    s.feed(html)\n",
    "    return s.get_data()\n",
    "\n",
    "\n",
    "def clean_text(text):\n",
    "    \"\"\"\n",
    "    Returns:\n",
    "        affs, which is cleaned version ready for trainig and testing.\n",
    "            type: list of (cleaned) strings\n",
    "    \"\"\"\n",
    "    STOPWORDS = set(stopwords.words('english'))\n",
    "    # lowercase, remove html tags, remove nonsense, remove non-letter\n",
    "    aff = text.lower()\n",
    "    aff = strip_tags(aff) \n",
    "    aff = re.sub(r'xa0|#n#‡#n#|#tab#|#r#|\\[|\\]', \"\", aff)\n",
    "    aff = re.sub(r'[^A-Za-z]+', ' ', aff)\n",
    "    aff = ' '.join(word for word in aff.split() if word not in STOPWORDS)\n",
    "    return aff"
   ]
  },
  {
   "cell_type": "code",
   "execution_count": 76,
   "id": "81a1045c",
   "metadata": {},
   "outputs": [],
   "source": [
    "cit_author = get_simple_df(CIT_AUTHOR)\n",
    "ref_author = get_simple_df(REF_AUTHOR)\n",
    "oa_author = get_simple_df(OA_AUTHOR)"
   ]
  },
  {
   "cell_type": "code",
   "execution_count": 77,
   "id": "603c09c8",
   "metadata": {},
   "outputs": [],
   "source": [
    "df = get_df(cit_author, ref_author, oa_author)"
   ]
  },
  {
   "cell_type": "code",
   "execution_count": 78,
   "id": "2d1ebb1a",
   "metadata": {},
   "outputs": [
    {
     "data": {
      "text/html": [
       "<div>\n",
       "<style scoped>\n",
       "    .dataframe tbody tr th:only-of-type {\n",
       "        vertical-align: middle;\n",
       "    }\n",
       "\n",
       "    .dataframe tbody tr th {\n",
       "        vertical-align: top;\n",
       "    }\n",
       "\n",
       "    .dataframe thead th {\n",
       "        text-align: right;\n",
       "    }\n",
       "</style>\n",
       "<table border=\"1\" class=\"dataframe\">\n",
       "  <thead>\n",
       "    <tr style=\"text-align: right;\">\n",
       "      <th></th>\n",
       "      <th>aff</th>\n",
       "      <th>label_raw</th>\n",
       "      <th>label</th>\n",
       "    </tr>\n",
       "  </thead>\n",
       "  <tbody>\n",
       "    <tr>\n",
       "      <th>0</th>\n",
       "      <td>Computer Science Department, Stanford Universi...</td>\n",
       "      <td>US</td>\n",
       "      <td>0</td>\n",
       "    </tr>\n",
       "    <tr>\n",
       "      <th>1</th>\n",
       "      <td>Dept. of Comput Sci., Maryland Univ., College ...</td>\n",
       "      <td>US</td>\n",
       "      <td>0</td>\n",
       "    </tr>\n",
       "    <tr>\n",
       "      <th>2</th>\n",
       "      <td>IBM Sci. Center, Los Angeles, CA, USA</td>\n",
       "      <td>US</td>\n",
       "      <td>0</td>\n",
       "    </tr>\n",
       "    <tr>\n",
       "      <th>3</th>\n",
       "      <td>Technische Univ. Eindhoven</td>\n",
       "      <td>NL</td>\n",
       "      <td>1</td>\n",
       "    </tr>\n",
       "    <tr>\n",
       "      <th>4</th>\n",
       "      <td>Los Alamos National Laboratory and Lawrence Li...</td>\n",
       "      <td>US</td>\n",
       "      <td>0</td>\n",
       "    </tr>\n",
       "    <tr>\n",
       "      <th>5</th>\n",
       "      <td>Los Alamos national Laboratory</td>\n",
       "      <td>US</td>\n",
       "      <td>0</td>\n",
       "    </tr>\n",
       "    <tr>\n",
       "      <th>6</th>\n",
       "      <td>Lawrence livermore National Laboratory</td>\n",
       "      <td>US</td>\n",
       "      <td>0</td>\n",
       "    </tr>\n",
       "    <tr>\n",
       "      <th>7</th>\n",
       "      <td>Rwth Aachen</td>\n",
       "      <td>DE</td>\n",
       "      <td>2</td>\n",
       "    </tr>\n",
       "    <tr>\n",
       "      <th>8</th>\n",
       "      <td>Comput. Sci. Div., California Univ., Berkeley, CA</td>\n",
       "      <td>US</td>\n",
       "      <td>0</td>\n",
       "    </tr>\n",
       "    <tr>\n",
       "      <th>9</th>\n",
       "      <td>School of Information Management and Systems, ...</td>\n",
       "      <td>US</td>\n",
       "      <td>0</td>\n",
       "    </tr>\n",
       "  </tbody>\n",
       "</table>\n",
       "</div>"
      ],
      "text/plain": [
       "                                                 aff label_raw  label\n",
       "0  Computer Science Department, Stanford Universi...        US      0\n",
       "1  Dept. of Comput Sci., Maryland Univ., College ...        US      0\n",
       "2              IBM Sci. Center, Los Angeles, CA, USA        US      0\n",
       "3                         Technische Univ. Eindhoven        NL      1\n",
       "4  Los Alamos National Laboratory and Lawrence Li...        US      0\n",
       "5                     Los Alamos national Laboratory        US      0\n",
       "6             Lawrence livermore National Laboratory        US      0\n",
       "7                                        Rwth Aachen        DE      2\n",
       "8  Comput. Sci. Div., California Univ., Berkeley, CA        US      0\n",
       "9  School of Information Management and Systems, ...        US      0"
      ]
     },
     "execution_count": 78,
     "metadata": {},
     "output_type": "execute_result"
    }
   ],
   "source": [
    "df.head(10)"
   ]
  },
  {
   "cell_type": "code",
   "execution_count": 79,
   "id": "b96e590e",
   "metadata": {},
   "outputs": [
    {
     "data": {
      "text/plain": [
       "811555"
      ]
     },
     "execution_count": 79,
     "metadata": {},
     "output_type": "execute_result"
    }
   ],
   "source": [
    "df['aff'].apply(lambda x: len(x.split(' '))).sum()"
   ]
  },
  {
   "cell_type": "code",
   "execution_count": 80,
   "id": "9e81a8c0",
   "metadata": {},
   "outputs": [
    {
     "data": {
      "text/plain": [
       "['NG',\n",
       " 'CM',\n",
       " 'PR',\n",
       " 'QA',\n",
       " 'OM',\n",
       " 'LV',\n",
       " 'MD',\n",
       " 'RS',\n",
       " 'ET',\n",
       " 'PY',\n",
       " 'MX',\n",
       " 'EC',\n",
       " 'MT',\n",
       " 'RO',\n",
       " 'PE',\n",
       " 'MC',\n",
       " 'DO',\n",
       " 'LI',\n",
       " 'KR',\n",
       " 'BJ',\n",
       " 'KY',\n",
       " 'VN',\n",
       " 'EE',\n",
       " 'CD',\n",
       " 'JM',\n",
       " 'SE',\n",
       " 'TR',\n",
       " 'MA',\n",
       " 'LK',\n",
       " 'AT',\n",
       " 'MY',\n",
       " 'NL',\n",
       " 'CY',\n",
       " 'MU',\n",
       " 'YE',\n",
       " 'NE',\n",
       " 'SA',\n",
       " 'NP',\n",
       " 'AG',\n",
       " 'LA',\n",
       " 'DK',\n",
       " 'EG',\n",
       " 'PH',\n",
       " 'CN',\n",
       " 'GP',\n",
       " 'MZ',\n",
       " 'ZW',\n",
       " 'JP',\n",
       " 'IN',\n",
       " 'NZ',\n",
       " 'LU',\n",
       " 'UY',\n",
       " 'BO',\n",
       " 'FJ',\n",
       " 'AU',\n",
       " 'GT',\n",
       " 'AR',\n",
       " 'VE',\n",
       " 'LY',\n",
       " 'ES',\n",
       " 'DZ',\n",
       " 'VG',\n",
       " 'SD',\n",
       " 'SS',\n",
       " 'CU',\n",
       " 'TW',\n",
       " 'US',\n",
       " 'HK',\n",
       " 'NC',\n",
       " 'BY',\n",
       " 'PT',\n",
       " 'TH',\n",
       " 'BA',\n",
       " 'AM',\n",
       " 'UZ',\n",
       " 'BE',\n",
       " 'CA',\n",
       " 'ID',\n",
       " 'TZ',\n",
       " 'KE',\n",
       " 'AD',\n",
       " 'FR',\n",
       " 'BI',\n",
       " 'AZ',\n",
       " 'SK',\n",
       " 'GR',\n",
       " 'CH',\n",
       " 'ZM',\n",
       " 'KH',\n",
       " 'BM',\n",
       " 'LT',\n",
       " 'RE',\n",
       " 'MG',\n",
       " 'UG',\n",
       " 'BG',\n",
       " 'GE',\n",
       " 'HU',\n",
       " 'AL',\n",
       " 'ML',\n",
       " 'GD',\n",
       " 'AF',\n",
       " 'SN',\n",
       " 'UA',\n",
       " 'MK',\n",
       " 'IE',\n",
       " 'MM',\n",
       " 'BD',\n",
       " 'KW',\n",
       " 'BN',\n",
       " 'AE',\n",
       " 'IR',\n",
       " 'IT',\n",
       " 'GH',\n",
       " 'CZ',\n",
       " 'JO',\n",
       " 'BH',\n",
       " 'PL',\n",
       " 'PS',\n",
       " 'CL',\n",
       " 'SY',\n",
       " 'IL',\n",
       " 'SG',\n",
       " 'IQ',\n",
       " 'ZA',\n",
       " 'DE',\n",
       " 'PK',\n",
       " 'TN',\n",
       " 'PA',\n",
       " 'MN',\n",
       " 'CR',\n",
       " 'CO',\n",
       " 'SI',\n",
       " 'BR',\n",
       " 'TJ',\n",
       " 'LB',\n",
       " 'GB',\n",
       " 'FI',\n",
       " 'HR',\n",
       " 'NO',\n",
       " 'IS',\n",
       " 'BW',\n",
       " 'ME',\n",
       " 'TT',\n",
       " 'KZ',\n",
       " 'AO',\n",
       " 'RU']"
      ]
     },
     "execution_count": 80,
     "metadata": {},
     "output_type": "execute_result"
    }
   ],
   "source": [
    "my_labels = list(set(df.label_raw))\n",
    "my_labels"
   ]
  },
  {
   "cell_type": "code",
   "execution_count": 81,
   "id": "69db149e",
   "metadata": {},
   "outputs": [
    {
     "data": {
      "text/plain": [
       "<AxesSubplot:>"
      ]
     },
     "execution_count": 81,
     "metadata": {},
     "output_type": "execute_result"
    },
    {
     "data": {
      "image/png": "[encoded data removed]",
      "text/plain": [
       "<Figure size 720x288 with 1 Axes>"
      ]
     },
     "metadata": {
      "needs_background": "light"
     },
     "output_type": "display_data"
    }
   ],
   "source": [
    "plt.figure(figsize = (10,4))\n",
    "df.label_raw.value_counts().plot(kind=\"bar\")"
   ]
  },
  {
   "cell_type": "code",
   "execution_count": 82,
   "id": "ba0a7a88",
   "metadata": {},
   "outputs": [],
   "source": [
    "df['aff'] = df['aff'].apply(clean_text)"
   ]
  },
  {
   "cell_type": "code",
   "execution_count": 83,
   "id": "12ea025a",
   "metadata": {},
   "outputs": [
    {
     "data": {
      "text/plain": [
       "680993"
      ]
     },
     "execution_count": 83,
     "metadata": {},
     "output_type": "execute_result"
    }
   ],
   "source": [
    "df['aff'].apply(lambda x: len(x.split(' '))).sum()"
   ]
  },
  {
   "cell_type": "code",
   "execution_count": 84,
   "id": "a10a6e8a",
   "metadata": {},
   "outputs": [],
   "source": [
    "X = df.aff\n",
    "y = df.label\n",
    "X_train, X_test, y_train, y_test = train_test_split(X, y, test_size=0.2, random_state = 42)"
   ]
  },
  {
   "cell_type": "markdown",
   "id": "131a3551",
   "metadata": {},
   "source": [
    "### Naive Bayes classifier for multinomial models"
   ]
  },
  {
   "cell_type": "code",
   "execution_count": 85,
   "id": "fd6a8c8f",
   "metadata": {},
   "outputs": [
    {
     "data": {
      "text/plain": [
       "Pipeline(steps=[('vect', CountVectorizer()), ('tfidf', TfidfTransformer()),\n",
       "                ('clf', MultinomialNB())])"
      ]
     },
     "execution_count": 85,
     "metadata": {},
     "output_type": "execute_result"
    }
   ],
   "source": [
    "from sklearn.naive_bayes import MultinomialNB\n",
    "from sklearn.pipeline import Pipeline\n",
    "from sklearn.feature_extraction.text import TfidfTransformer\n",
    "\n",
    "nb = Pipeline([('vect', CountVectorizer()),\n",
    "               ('tfidf', TfidfTransformer()),\n",
    "               ('clf', MultinomialNB()),\n",
    "              ])\n",
    "nb.fit(X_train, y_train)"
   ]
  },
  {
   "cell_type": "code",
   "execution_count": 86,
   "id": "8938bc09",
   "metadata": {},
   "outputs": [
    {
     "name": "stdout",
     "output_type": "stream",
     "text": [
      "accuracy 0.8185664828824208\n",
      "CPU times: user 248 ms, sys: 47.7 ms, total: 295 ms\n",
      "Wall time: 295 ms\n"
     ]
    }
   ],
   "source": [
    "%%time\n",
    "from sklearn.metrics import classification_report\n",
    "y_pred = nb.predict(X_test)\n",
    "\n",
    "print('accuracy %s' % accuracy_score(y_pred, y_test))"
   ]
  },
  {
   "cell_type": "markdown",
   "id": "52acbd8d",
   "metadata": {},
   "source": [
    "## Linear support vector machine"
   ]
  },
  {
   "cell_type": "code",
   "execution_count": 91,
   "id": "954a9628",
   "metadata": {},
   "outputs": [
    {
     "data": {
      "text/plain": [
       "Pipeline(steps=[('vect', CountVectorizer(min_df=2)),\n",
       "                ('tfidf', TfidfTransformer()),\n",
       "                ('clf',\n",
       "                 SGDClassifier(alpha=0.001, max_iter=5, random_state=42,\n",
       "                               tol=None))])"
      ]
     },
     "execution_count": 91,
     "metadata": {},
     "output_type": "execute_result"
    }
   ],
   "source": [
    "from sklearn.linear_model import SGDClassifier\n",
    "\n",
    "sgd = Pipeline([('vect', CountVectorizer(min_df = 2)),\n",
    "                ('tfidf', TfidfTransformer()),\n",
    "                ('clf', SGDClassifier(loss='hinge', penalty='l2',alpha=1e-3, random_state=42, max_iter=5, tol=None)),\n",
    "               ])\n",
    "sgd.fit(X_train, y_train)"
   ]
  },
  {
   "cell_type": "code",
   "execution_count": 92,
   "id": "3b5d78c6",
   "metadata": {},
   "outputs": [
    {
     "name": "stdout",
     "output_type": "stream",
     "text": [
      "accuracy 0.9217848442107962\n",
      "CPU times: user 320 ms, sys: 44.2 ms, total: 364 ms\n",
      "Wall time: 294 ms\n"
     ]
    }
   ],
   "source": [
    "%%time\n",
    "\n",
    "y_pred = sgd.predict(X_test)\n",
    "\n",
    "print('accuracy %s' % accuracy_score(y_pred, y_test))"
   ]
  },
  {
   "cell_type": "markdown",
   "id": "0f2b9369",
   "metadata": {},
   "source": [
    "## Logistic regression"
   ]
  },
  {
   "cell_type": "code",
   "execution_count": 93,
   "id": "d2ddf3b5",
   "metadata": {},
   "outputs": [
    {
     "data": {
      "text/plain": [
       "Pipeline(steps=[('vect', CountVectorizer(min_df=2)),\n",
       "                ('tfidf', TfidfTransformer()),\n",
       "                ('clf', LogisticRegression(max_iter=800))])"
      ]
     },
     "execution_count": 93,
     "metadata": {},
     "output_type": "execute_result"
    }
   ],
   "source": [
    "from sklearn.linear_model import LogisticRegression\n",
    "\n",
    "logreg = Pipeline([('vect', CountVectorizer(min_df = 2)),\n",
    "                ('tfidf', TfidfTransformer()),\n",
    "                ('clf', LogisticRegression(max_iter=800)),\n",
    "               ])\n",
    "logreg.fit(X_train, y_train)"
   ]
  },
  {
   "cell_type": "code",
   "execution_count": 94,
   "id": "3d12a0f6",
   "metadata": {},
   "outputs": [
    {
     "name": "stdout",
     "output_type": "stream",
     "text": [
      "accuracy 0.9310809078086935\n",
      "CPU times: user 246 ms, sys: 70.8 ms, total: 317 ms\n",
      "Wall time: 320 ms\n"
     ]
    }
   ],
   "source": [
    "%%time\n",
    "\n",
    "y_pred = logreg.predict(X_test)\n",
    "\n",
    "print('accuracy %s' % accuracy_score(y_pred, y_test))"
   ]
  },
  {
   "cell_type": "markdown",
   "id": "9f109f88",
   "metadata": {},
   "source": [
    "## Neural networks"
   ]
  },
  {
   "cell_type": "code",
   "execution_count": 57,
   "id": "c1bf1ec5",
   "metadata": {},
   "outputs": [],
   "source": [
    "import itertools\n",
    "import os\n",
    "\n",
    "%matplotlib inline\n",
    "import matplotlib.pyplot as plt\n",
    "import numpy as np\n",
    "import pandas as pd\n",
    "import tensorflow as tf\n",
    "\n",
    "from sklearn.preprocessing import LabelBinarizer, LabelEncoder\n",
    "from sklearn.metrics import confusion_matrix\n",
    "\n",
    "from tensorflow.keras.models import Sequential\n",
    "from tensorflow.keras.layers import Dense, Activation, Dropout\n",
    "from tensorflow.keras.preprocessing import text, sequence\n",
    "from tensorflow.keras import utils"
   ]
  },
  {
   "cell_type": "code",
   "execution_count": 58,
   "id": "ad6a7a9c",
   "metadata": {},
   "outputs": [
    {
     "name": "stdout",
     "output_type": "stream",
     "text": [
      "Train size: 62390\n",
      "Test size: 15598\n"
     ]
    }
   ],
   "source": [
    "train_size = int(len(df) * .8)\n",
    "print (\"Train size: %d\" % train_size)\n",
    "print (\"Test size: %d\" % (len(df) - train_size))"
   ]
  },
  {
   "cell_type": "code",
   "execution_count": 59,
   "id": "5afec74c",
   "metadata": {},
   "outputs": [
    {
     "data": {
      "text/html": [
       "<div>\n",
       "<style scoped>\n",
       "    .dataframe tbody tr th:only-of-type {\n",
       "        vertical-align: middle;\n",
       "    }\n",
       "\n",
       "    .dataframe tbody tr th {\n",
       "        vertical-align: top;\n",
       "    }\n",
       "\n",
       "    .dataframe thead th {\n",
       "        text-align: right;\n",
       "    }\n",
       "</style>\n",
       "<table border=\"1\" class=\"dataframe\">\n",
       "  <thead>\n",
       "    <tr style=\"text-align: right;\">\n",
       "      <th></th>\n",
       "      <th>aff</th>\n",
       "      <th>label_raw</th>\n",
       "      <th>label</th>\n",
       "    </tr>\n",
       "  </thead>\n",
       "  <tbody>\n",
       "    <tr>\n",
       "      <th>0</th>\n",
       "      <td>computer science department stanford universit...</td>\n",
       "      <td>US</td>\n",
       "      <td>0</td>\n",
       "    </tr>\n",
       "  </tbody>\n",
       "</table>\n",
       "</div>"
      ],
      "text/plain": [
       "                                                 aff label_raw  label\n",
       "0  computer science department stanford universit...        US      0"
      ]
     },
     "execution_count": 59,
     "metadata": {},
     "output_type": "execute_result"
    }
   ],
   "source": [
    "df.head(1)"
   ]
  },
  {
   "cell_type": "code",
   "execution_count": 60,
   "id": "05e39693",
   "metadata": {},
   "outputs": [],
   "source": [
    "train_affs = df['aff'][:train_size]\n",
    "train_labels = df['label'][:train_size]\n",
    "\n",
    "test_affs = df['aff'][train_size:]\n",
    "test_labels = df['label'][train_size:]"
   ]
  },
  {
   "cell_type": "code",
   "execution_count": 61,
   "id": "0dd96f35",
   "metadata": {},
   "outputs": [],
   "source": [
    "max_words = 1000\n",
    "tokenize = text.Tokenizer(num_words=max_words, char_level=False)"
   ]
  },
  {
   "cell_type": "code",
   "execution_count": 62,
   "id": "ce678604",
   "metadata": {},
   "outputs": [],
   "source": [
    "tokenize.fit_on_texts(train_affs) # only fit on train\n",
    "x_train = tokenize.texts_to_matrix(train_affs)\n",
    "x_test = tokenize.texts_to_matrix(test_affs)"
   ]
  },
  {
   "cell_type": "code",
   "execution_count": 63,
   "id": "f386fee3",
   "metadata": {},
   "outputs": [],
   "source": [
    "encoder = LabelEncoder()\n",
    "encoder.fit(df.label)\n",
    "y_train = encoder.transform(train_labels)\n",
    "y_test = encoder.transform(test_labels)"
   ]
  },
  {
   "cell_type": "code",
   "execution_count": 64,
   "id": "17d16495",
   "metadata": {},
   "outputs": [],
   "source": [
    "all_label_encoded = encoder.transform(df.label)"
   ]
  },
  {
   "cell_type": "code",
   "execution_count": 65,
   "id": "d16b6112",
   "metadata": {},
   "outputs": [],
   "source": [
    "num_classes = np.max(all_label_encoded) + 1\n",
    "y_train = utils.to_categorical(y_train, num_classes)\n",
    "y_test = utils.to_categorical(y_test, num_classes)"
   ]
  },
  {
   "cell_type": "code",
   "execution_count": 66,
   "id": "5e2429cf",
   "metadata": {},
   "outputs": [
    {
     "name": "stdout",
     "output_type": "stream",
     "text": [
      "x_train shape: (62390, 1000)\n",
      "x_test shape: (15598, 1000)\n",
      "y_train shape: (62390, 146)\n",
      "y_test shape: (15598, 146)\n"
     ]
    }
   ],
   "source": [
    "print('x_train shape:', x_train.shape)\n",
    "print('x_test shape:', x_test.shape)\n",
    "print('y_train shape:', y_train.shape)\n",
    "print('y_test shape:', y_test.shape)"
   ]
  },
  {
   "cell_type": "code",
   "execution_count": 67,
   "id": "708f9d50",
   "metadata": {},
   "outputs": [],
   "source": [
    "batch_size = 32\n",
    "epochs = 20"
   ]
  },
  {
   "cell_type": "code",
   "execution_count": 68,
   "id": "3f602b5b",
   "metadata": {},
   "outputs": [
    {
     "name": "stderr",
     "output_type": "stream",
     "text": [
      "2022-06-21 11:13:44.614892: I tensorflow/core/platform/cpu_feature_guard.cc:193] This TensorFlow binary is optimized with oneAPI Deep Neural Network Library (oneDNN) to use the following CPU instructions in performance-critical operations:  AVX2 FMA\n",
      "To enable them in other operations, rebuild TensorFlow with the appropriate compiler flags.\n"
     ]
    }
   ],
   "source": [
    "# Build the model\n",
    "model = Sequential()\n",
    "model.add(Dense(512, input_shape=(max_words,)))\n",
    "model.add(Activation('relu'))\n",
    "model.add(Dropout(0.5))\n",
    "model.add(Dense(num_classes))\n",
    "model.add(Activation('softmax'))\n",
    "\n",
    "model.compile(loss='categorical_crossentropy',\n",
    "              optimizer='adam',\n",
    "              metrics=['accuracy'])"
   ]
  },
  {
   "cell_type": "code",
   "execution_count": 69,
   "id": "82b36b55",
   "metadata": {},
   "outputs": [
    {
     "name": "stdout",
     "output_type": "stream",
     "text": [
      "Epoch 1/20\n",
      "1755/1755 [==============================] - 11s 6ms/step - loss: 0.7186 - accuracy: 0.8644 - val_loss: 0.5302 - val_accuracy: 0.8973\n",
      "Epoch 2/20\n",
      "1755/1755 [==============================] - 11s 6ms/step - loss: 0.3976 - accuracy: 0.9179 - val_loss: 0.5072 - val_accuracy: 0.8987\n",
      "Epoch 3/20\n",
      "1755/1755 [==============================] - 10s 6ms/step - loss: 0.3446 - accuracy: 0.9238 - val_loss: 0.5070 - val_accuracy: 0.8998\n",
      "Epoch 4/20\n",
      "1755/1755 [==============================] - 10s 6ms/step - loss: 0.3067 - accuracy: 0.9284 - val_loss: 0.5039 - val_accuracy: 0.8998\n",
      "Epoch 5/20\n",
      "1755/1755 [==============================] - 11s 6ms/step - loss: 0.2818 - accuracy: 0.9314 - val_loss: 0.5151 - val_accuracy: 0.8993\n",
      "Epoch 6/20\n",
      "1755/1755 [==============================] - 10s 6ms/step - loss: 0.2578 - accuracy: 0.9351 - val_loss: 0.5238 - val_accuracy: 0.8995\n",
      "Epoch 7/20\n",
      "1755/1755 [==============================] - 11s 6ms/step - loss: 0.2422 - accuracy: 0.9376 - val_loss: 0.5425 - val_accuracy: 0.9001\n",
      "Epoch 8/20\n",
      "1755/1755 [==============================] - 10s 6ms/step - loss: 0.2252 - accuracy: 0.9409 - val_loss: 0.5697 - val_accuracy: 0.9001\n",
      "Epoch 9/20\n",
      "1755/1755 [==============================] - 11s 6ms/step - loss: 0.2139 - accuracy: 0.9432 - val_loss: 0.5861 - val_accuracy: 0.8984\n",
      "Epoch 10/20\n",
      "1755/1755 [==============================] - 10s 6ms/step - loss: 0.2046 - accuracy: 0.9459 - val_loss: 0.5988 - val_accuracy: 0.8995\n",
      "Epoch 11/20\n",
      "1755/1755 [==============================] - 10s 6ms/step - loss: 0.1968 - accuracy: 0.9469 - val_loss: 0.6149 - val_accuracy: 0.9000\n",
      "Epoch 12/20\n",
      "1755/1755 [==============================] - 10s 6ms/step - loss: 0.1869 - accuracy: 0.9492 - val_loss: 0.6432 - val_accuracy: 0.8989\n",
      "Epoch 13/20\n",
      "1755/1755 [==============================] - 10s 6ms/step - loss: 0.1836 - accuracy: 0.9499 - val_loss: 0.6582 - val_accuracy: 0.8998\n",
      "Epoch 14/20\n",
      "1755/1755 [==============================] - 10s 6ms/step - loss: 0.1757 - accuracy: 0.9513 - val_loss: 0.6743 - val_accuracy: 0.8989\n",
      "Epoch 15/20\n",
      "1755/1755 [==============================] - 10s 6ms/step - loss: 0.1714 - accuracy: 0.9539 - val_loss: 0.7009 - val_accuracy: 0.8965\n",
      "Epoch 16/20\n",
      "1755/1755 [==============================] - 9s 5ms/step - loss: 0.1671 - accuracy: 0.9545 - val_loss: 0.7038 - val_accuracy: 0.8990\n",
      "Epoch 17/20\n",
      "1755/1755 [==============================] - 10s 6ms/step - loss: 0.1627 - accuracy: 0.9555 - val_loss: 0.7216 - val_accuracy: 0.8973\n",
      "Epoch 18/20\n",
      "1755/1755 [==============================] - 10s 5ms/step - loss: 0.1593 - accuracy: 0.9558 - val_loss: 0.7485 - val_accuracy: 0.8979\n",
      "Epoch 19/20\n",
      "1755/1755 [==============================] - 10s 5ms/step - loss: 0.1565 - accuracy: 0.9569 - val_loss: 0.7664 - val_accuracy: 0.8968\n",
      "Epoch 20/20\n",
      "1755/1755 [==============================] - 9s 5ms/step - loss: 0.1544 - accuracy: 0.9579 - val_loss: 0.7682 - val_accuracy: 0.8981\n"
     ]
    }
   ],
   "source": [
    "history = model.fit(x_train, y_train,\n",
    "                    batch_size=batch_size,\n",
    "                    epochs=epochs,\n",
    "                    verbose=1,\n",
    "                    validation_split=0.1)"
   ]
  },
  {
   "cell_type": "code",
   "execution_count": 70,
   "id": "be06592b",
   "metadata": {},
   "outputs": [
    {
     "name": "stdout",
     "output_type": "stream",
     "text": [
      "488/488 [==============================] - 1s 3ms/step - loss: 0.8344 - accuracy: 0.8983\n",
      "Test accuracy: 0.8983203172683716\n"
     ]
    }
   ],
   "source": [
    "score = model.evaluate(x_test, y_test,\n",
    "                       batch_size=batch_size, verbose=1)\n",
    "print('Test accuracy:', score[1])"
   ]
  }
 ],
 "metadata": {
  "kernelspec": {
   "display_name": "Python 3 (ipykernel)",
   "language": "python",
   "name": "python3"
  },
  "language_info": {
   "codemirror_mode": {
    "name": "ipython",
    "version": 3
   },
   "file_extension": ".py",
   "mimetype": "text/x-python",
   "name": "python",
   "nbconvert_exporter": "python",
   "pygments_lexer": "ipython3",
   "version": "3.8.12"
  }
 },
 "nbformat": 4,
 "nbformat_minor": 5
}
