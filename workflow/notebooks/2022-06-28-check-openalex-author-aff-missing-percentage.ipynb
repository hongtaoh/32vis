{
 "cells": [
  {
   "cell_type": "markdown",
   "id": "4796178f",
   "metadata": {},
   "source": [
    "## Aim\n",
    "\n",
    "This is to check how many authors miss aff/country codes/types. "
   ]
  },
  {
   "cell_type": "code",
   "execution_count": 1,
   "id": "2f13473f",
   "metadata": {},
   "outputs": [],
   "source": [
    "import pandas as pd"
   ]
  },
  {
   "cell_type": "code",
   "execution_count": 2,
   "id": "31fd77d9",
   "metadata": {},
   "outputs": [],
   "source": [
    "df = pd.read_csv('../../data/interim/openalex_author_df.csv')"
   ]
  },
  {
   "cell_type": "code",
   "execution_count": 4,
   "id": "f03e7e2a",
   "metadata": {},
   "outputs": [
    {
     "data": {
      "text/plain": [
       "12413"
      ]
     },
     "execution_count": 4,
     "metadata": {},
     "output_type": "execute_result"
    }
   ],
   "source": [
    "df.shape[0]"
   ]
  },
  {
   "cell_type": "code",
   "execution_count": 6,
   "id": "ea71144c",
   "metadata": {},
   "outputs": [
    {
     "data": {
      "text/plain": [
       "832"
      ]
     },
     "execution_count": 6,
     "metadata": {},
     "output_type": "execute_result"
    }
   ],
   "source": [
    "df[df['Raw Affiliation String'].isnull()].shape[0]"
   ]
  },
  {
   "cell_type": "code",
   "execution_count": 10,
   "id": "c4c92f23",
   "metadata": {},
   "outputs": [
    {
     "data": {
      "text/plain": [
       "0.06702650447111899"
      ]
     },
     "execution_count": 10,
     "metadata": {},
     "output_type": "execute_result"
    }
   ],
   "source": [
    "df[df['Raw Affiliation String'].isnull()].shape[0] / df.shape[0]"
   ]
  },
  {
   "cell_type": "code",
   "execution_count": 8,
   "id": "8bc0a886",
   "metadata": {},
   "outputs": [
    {
     "data": {
      "text/plain": [
       "2243"
      ]
     },
     "execution_count": 8,
     "metadata": {},
     "output_type": "execute_result"
    }
   ],
   "source": [
    "df[df['First Institution Country Code'].isnull()].shape[0]"
   ]
  },
  {
   "cell_type": "code",
   "execution_count": 11,
   "id": "8d91c143",
   "metadata": {},
   "outputs": [
    {
     "data": {
      "text/plain": [
       "0.18069765568355756"
      ]
     },
     "execution_count": 11,
     "metadata": {},
     "output_type": "execute_result"
    }
   ],
   "source": [
    "df[df['First Institution Country Code'].isnull()].shape[0] / df.shape[0]"
   ]
  },
  {
   "cell_type": "code",
   "execution_count": 9,
   "id": "6fa1c28d",
   "metadata": {},
   "outputs": [
    {
     "data": {
      "text/plain": [
       "2413"
      ]
     },
     "execution_count": 9,
     "metadata": {},
     "output_type": "execute_result"
    }
   ],
   "source": [
    "df[df['First Institution Type'].isnull()].shape[0]"
   ]
  },
  {
   "cell_type": "code",
   "execution_count": 12,
   "id": "87e453ee",
   "metadata": {},
   "outputs": [
    {
     "data": {
      "text/plain": [
       "0.19439297510674294"
      ]
     },
     "execution_count": 12,
     "metadata": {},
     "output_type": "execute_result"
    }
   ],
   "source": [
    "df[df['First Institution Type'].isnull()].shape[0] / df.shape[0]"
   ]
  },
  {
   "cell_type": "code",
   "execution_count": 13,
   "id": "8c701aad",
   "metadata": {},
   "outputs": [],
   "source": [
    "ieee = pd.read_csv('../../data/interim/ieee_author_df.csv')"
   ]
  },
  {
   "cell_type": "code",
   "execution_count": 18,
   "id": "d63663e8",
   "metadata": {},
   "outputs": [
    {
     "data": {
      "text/plain": [
       "0.9865571923045963"
      ]
     },
     "execution_count": 18,
     "metadata": {},
     "output_type": "execute_result"
    }
   ],
   "source": [
    "ieee[ieee['Author Affiliation'].notnull()].shape[0] / ieee.shape[0]"
   ]
  },
  {
   "cell_type": "code",
   "execution_count": null,
   "id": "afd5ac8c",
   "metadata": {},
   "outputs": [],
   "source": []
  }
 ],
 "metadata": {
  "kernelspec": {
   "display_name": "Python 3 (ipykernel)",
   "language": "python",
   "name": "python3"
  },
  "language_info": {
   "codemirror_mode": {
    "name": "ipython",
    "version": 3
   },
   "file_extension": ".py",
   "mimetype": "text/x-python",
   "name": "python",
   "nbconvert_exporter": "python",
   "pygments_lexer": "ipython3",
   "version": "3.8.12"
  }
 },
 "nbformat": 4,
 "nbformat_minor": 5
}
