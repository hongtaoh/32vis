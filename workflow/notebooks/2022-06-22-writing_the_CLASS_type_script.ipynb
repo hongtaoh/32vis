{
 "cells": [
  {
   "cell_type": "code",
   "execution_count": 27,
   "id": "09294d9b",
   "metadata": {},
   "outputs": [],
   "source": [
    "import sys\n",
    "import pandas as pd\n",
    "import numpy as np\n",
    "import re\n",
    "from io import StringIO\n",
    "from html.parser import HTMLParser\n",
    "from sklearn.model_selection import train_test_split\n",
    "from sklearn.feature_extraction.text import CountVectorizer\n",
    "from sklearn.metrics import accuracy_score, classification_report\n",
    "from sklearn.pipeline import Pipeline\n",
    "from sklearn.linear_model import LogisticRegression\n",
    "from sklearn.metrics import precision_recall_fscore_support as multi_score\n",
    "from collections import Counter\n",
    "from bs4 import BeautifulSoup"
   ]
  },
  {
   "cell_type": "code",
   "execution_count": 6,
   "id": "1f059b08",
   "metadata": {},
   "outputs": [],
   "source": [
    "CIT_AUTHOR = '../../data/processed/large/openalex_citation_author_df.csv'\n",
    "REF_AUTHOR = '../../data/processed/openalex_reference_author_df_unique.csv'\n",
    "# openalex author df for VIS papers:\n",
    "OA_AUTHOR = '../../data/interim/openalex_author_df.csv'"
   ]
  },
  {
   "cell_type": "code",
   "execution_count": 7,
   "id": "38bca0ef",
   "metadata": {},
   "outputs": [],
   "source": [
    "def get_simple_df(fname):\n",
    "\t\"\"\"\n",
    "\t\t- remove nan, \n",
    "\t\t- get only two target columns, i.e., raw string and aff type\n",
    "\t\t- drop duplicates\n",
    "\t\"\"\"\n",
    "\traw_string = 'Raw Affiliation String'\n",
    "\taff_type = 'First Institution Type'\n",
    "\tdf = pd.read_csv(fname)\n",
    "\tdf = df[(df[raw_string].notnull()) & (df[aff_type].notnull())]\n",
    "\tdf = df[[raw_string, aff_type]]\n",
    "\tdf = df.drop_duplicates()\n",
    "\treturn df"
   ]
  },
  {
   "cell_type": "code",
   "execution_count": 8,
   "id": "eee3e7ae",
   "metadata": {},
   "outputs": [],
   "source": [
    "def get_df(cit_author, ref_author, oa_author):\n",
    "\t\"\"\"concatenate, drop_duplicates, reset index, rename columns,\n",
    "\t\tfactorize label_raw\n",
    "\n",
    "\tReturns:\n",
    "\t\tthe df used for model training and testing. It contains five columns:\n",
    "\t\t\t1. aff, which is pre-processed strings of affiliations\n",
    "\t\t\t2. label_raw, which is country codes in strings,\n",
    "\t\t\t3. label: which is factorized version of country codes\n",
    "\t\t\t4. binary_label_raw\n",
    "\t\t\t5. binary_label\n",
    "\t\"\"\"\n",
    "\n",
    "\tdf = pd.concat(\n",
    "\t\t[oa_author, ref_author, cit_author], ignore_index = True\n",
    "\t\t).drop_duplicates().reset_index(drop=True)\n",
    "\tdf.columns = ['aff', 'label_raw']\n",
    "\tdf = df.assign(label = pd.factorize(df['label_raw'])[0])\n",
    "\tdf = df.assign(binary_label_raw = np.where(\n",
    "\t\tdf.label_raw == 'education', 'education', 'non-education'))\n",
    "\tdf = df.assign(binary_label = pd.factorize(df['binary_label_raw'])[0])\n",
    "\treturn df "
   ]
  },
  {
   "cell_type": "code",
   "execution_count": 9,
   "id": "13e49449",
   "metadata": {},
   "outputs": [],
   "source": [
    "def get_dicts(df):\n",
    "\t\"\"\"get four dicts; id <--> type, for both binary and multiclass\n",
    "\t\"\"\"\n",
    "\tmulti_type_to_id = dict(zip(df.label_raw, df.label))\n",
    "\tid_to_multi_type = dict(zip(df.label, df.label_raw))\n",
    "\tbinary_type_to_id = dict(zip(df.binary_label_raw, df.binary_label))\n",
    "\tid_to_binary_type = dict(zip(df.binary_label, df.binary_label_raw))\n",
    "\treturn multi_type_to_id, id_to_multi_type, binary_type_to_id, id_to_binary_type"
   ]
  },
  {
   "cell_type": "code",
   "execution_count": 10,
   "id": "746e28df",
   "metadata": {},
   "outputs": [],
   "source": [
    "cit_author = get_simple_df(CIT_AUTHOR)\n",
    "ref_author = get_simple_df(REF_AUTHOR)\n",
    "oa_author = get_simple_df(OA_AUTHOR)"
   ]
  },
  {
   "cell_type": "code",
   "execution_count": 11,
   "id": "8bb97df5",
   "metadata": {},
   "outputs": [],
   "source": [
    "df = get_df(cit_author, ref_author, oa_author)"
   ]
  },
  {
   "cell_type": "code",
   "execution_count": 12,
   "id": "75f3ffa9",
   "metadata": {},
   "outputs": [
    {
     "data": {
      "text/html": [
       "<div>\n",
       "<style scoped>\n",
       "    .dataframe tbody tr th:only-of-type {\n",
       "        vertical-align: middle;\n",
       "    }\n",
       "\n",
       "    .dataframe tbody tr th {\n",
       "        vertical-align: top;\n",
       "    }\n",
       "\n",
       "    .dataframe thead th {\n",
       "        text-align: right;\n",
       "    }\n",
       "</style>\n",
       "<table border=\"1\" class=\"dataframe\">\n",
       "  <thead>\n",
       "    <tr style=\"text-align: right;\">\n",
       "      <th></th>\n",
       "      <th>aff</th>\n",
       "      <th>label_raw</th>\n",
       "      <th>label</th>\n",
       "      <th>binary_label_raw</th>\n",
       "      <th>binary_label</th>\n",
       "    </tr>\n",
       "  </thead>\n",
       "  <tbody>\n",
       "    <tr>\n",
       "      <th>32493</th>\n",
       "      <td>Western Carolina Univ., Cullowhee NC US</td>\n",
       "      <td>education</td>\n",
       "      <td>0</td>\n",
       "      <td>education</td>\n",
       "      <td>0</td>\n",
       "    </tr>\n",
       "    <tr>\n",
       "      <th>54116</th>\n",
       "      <td>Fraunhofer IDM@NTU, Singapore, Singapore</td>\n",
       "      <td>education</td>\n",
       "      <td>0</td>\n",
       "      <td>education</td>\n",
       "      <td>0</td>\n",
       "    </tr>\n",
       "    <tr>\n",
       "      <th>74508</th>\n",
       "      <td>Intelligent Media Laboratory, Department of So...</td>\n",
       "      <td>education</td>\n",
       "      <td>0</td>\n",
       "      <td>education</td>\n",
       "      <td>0</td>\n",
       "    </tr>\n",
       "    <tr>\n",
       "      <th>32069</th>\n",
       "      <td>Center for Bioinformatics, Harvard Center for ...</td>\n",
       "      <td>education</td>\n",
       "      <td>0</td>\n",
       "      <td>education</td>\n",
       "      <td>0</td>\n",
       "    </tr>\n",
       "    <tr>\n",
       "      <th>5988</th>\n",
       "      <td>Department of Mathematics, University Of South...</td>\n",
       "      <td>education</td>\n",
       "      <td>0</td>\n",
       "      <td>education</td>\n",
       "      <td>0</td>\n",
       "    </tr>\n",
       "    <tr>\n",
       "      <th>48783</th>\n",
       "      <td>Department of Psychological Sciences, Purdue U...</td>\n",
       "      <td>education</td>\n",
       "      <td>0</td>\n",
       "      <td>education</td>\n",
       "      <td>0</td>\n",
       "    </tr>\n",
       "    <tr>\n",
       "      <th>13627</th>\n",
       "      <td>Behavioral Medicine Research Group, School of ...</td>\n",
       "      <td>education</td>\n",
       "      <td>0</td>\n",
       "      <td>education</td>\n",
       "      <td>0</td>\n",
       "    </tr>\n",
       "    <tr>\n",
       "      <th>39968</th>\n",
       "      <td>Department of Software Engineering, Faculty of...</td>\n",
       "      <td>education</td>\n",
       "      <td>0</td>\n",
       "      <td>education</td>\n",
       "      <td>0</td>\n",
       "    </tr>\n",
       "    <tr>\n",
       "      <th>27543</th>\n",
       "      <td>INRIA Moais research team, CNRS LIG Laboratory...</td>\n",
       "      <td>education</td>\n",
       "      <td>0</td>\n",
       "      <td>education</td>\n",
       "      <td>0</td>\n",
       "    </tr>\n",
       "    <tr>\n",
       "      <th>26435</th>\n",
       "      <td>Brown University, CS Dept., Box 1910, Providen...</td>\n",
       "      <td>education</td>\n",
       "      <td>0</td>\n",
       "      <td>education</td>\n",
       "      <td>0</td>\n",
       "    </tr>\n",
       "  </tbody>\n",
       "</table>\n",
       "</div>"
      ],
      "text/plain": [
       "                                                     aff  label_raw  label  \\\n",
       "32493            Western Carolina Univ., Cullowhee NC US  education      0   \n",
       "54116           Fraunhofer IDM@NTU, Singapore, Singapore  education      0   \n",
       "74508  Intelligent Media Laboratory, Department of So...  education      0   \n",
       "32069  Center for Bioinformatics, Harvard Center for ...  education      0   \n",
       "5988   Department of Mathematics, University Of South...  education      0   \n",
       "48783  Department of Psychological Sciences, Purdue U...  education      0   \n",
       "13627  Behavioral Medicine Research Group, School of ...  education      0   \n",
       "39968  Department of Software Engineering, Faculty of...  education      0   \n",
       "27543  INRIA Moais research team, CNRS LIG Laboratory...  education      0   \n",
       "26435  Brown University, CS Dept., Box 1910, Providen...  education      0   \n",
       "\n",
       "      binary_label_raw  binary_label  \n",
       "32493        education             0  \n",
       "54116        education             0  \n",
       "74508        education             0  \n",
       "32069        education             0  \n",
       "5988         education             0  \n",
       "48783        education             0  \n",
       "13627        education             0  \n",
       "39968        education             0  \n",
       "27543        education             0  \n",
       "26435        education             0  "
      ]
     },
     "execution_count": 12,
     "metadata": {},
     "output_type": "execute_result"
    }
   ],
   "source": [
    "df.sample(10)"
   ]
  },
  {
   "cell_type": "code",
   "execution_count": 13,
   "id": "84e35247",
   "metadata": {},
   "outputs": [],
   "source": [
    "multi_type_to_id, id_to_multi_type, binary_type_to_id, id_to_binary_type = get_dicts(df)"
   ]
  },
  {
   "cell_type": "code",
   "execution_count": 15,
   "id": "65253ebb",
   "metadata": {},
   "outputs": [],
   "source": [
    "def clean_text(text):\n",
    "    \"\"\"\n",
    "    Takes a string and returns a string\n",
    "    \"\"\"\n",
    "    # remove html tags, lowercase, remove nonsense, remove non-letter\n",
    "    aff = BeautifulSoup(text, \"lxml\").text \n",
    "    aff = aff.lower()\n",
    "    aff = re.sub(r'xa0|#n#‡#n#|#tab#|#r#|\\[|\\]', \"\", aff)\n",
    "    aff = re.sub(r'[^a-z]+', ' ', aff)\n",
    "    return aff"
   ]
  },
  {
   "cell_type": "code",
   "execution_count": 16,
   "id": "e040a24f",
   "metadata": {},
   "outputs": [
    {
     "data": {
      "text/plain": [
       "787865"
      ]
     },
     "execution_count": 16,
     "metadata": {},
     "output_type": "execute_result"
    }
   ],
   "source": [
    "df['aff'].apply(lambda x: len(x.split(' '))).sum()"
   ]
  },
  {
   "cell_type": "code",
   "execution_count": 17,
   "id": "2d986486",
   "metadata": {},
   "outputs": [],
   "source": [
    "df['aff'] = df['aff'].apply(clean_text)"
   ]
  },
  {
   "cell_type": "code",
   "execution_count": 19,
   "id": "316df271",
   "metadata": {},
   "outputs": [
    {
     "data": {
      "text/plain": [
       "806619"
      ]
     },
     "execution_count": 19,
     "metadata": {},
     "output_type": "execute_result"
    }
   ],
   "source": [
    "df['aff'].apply(lambda x: len(x.split(' '))).sum()"
   ]
  },
  {
   "cell_type": "markdown",
   "id": "590558bb",
   "metadata": {},
   "source": [
    "## Binary"
   ]
  },
  {
   "cell_type": "code",
   "execution_count": 20,
   "id": "28d43991",
   "metadata": {},
   "outputs": [],
   "source": [
    "X = df.aff\n",
    "y = df.binary_label\n",
    "X_train, X_test, y_train, y_test = train_test_split(X, y, test_size=0.2, random_state = 42)"
   ]
  },
  {
   "cell_type": "code",
   "execution_count": 21,
   "id": "a3b084c1",
   "metadata": {},
   "outputs": [
    {
     "data": {
      "text/plain": [
       "Pipeline(steps=[('vect', CountVectorizer(min_df=5, stop_words='english')),\n",
       "                ('clf', LogisticRegression(max_iter=600))])"
      ]
     },
     "execution_count": 21,
     "metadata": {},
     "output_type": "execute_result"
    }
   ],
   "source": [
    "logreg_binary = Pipeline([('vect', CountVectorizer(stop_words='english', min_df = 5)),\n",
    "                ('clf', LogisticRegression(max_iter=600)),\n",
    "               ])\n",
    "logreg_binary.fit(X_train, y_train)"
   ]
  },
  {
   "cell_type": "code",
   "execution_count": 22,
   "id": "5a9f41a4",
   "metadata": {},
   "outputs": [
    {
     "name": "stdout",
     "output_type": "stream",
     "text": [
      "accuracy 0.9505436223813312\n",
      "               precision    recall  f1-score   support\n",
      "\n",
      "    education       0.96      0.98      0.97     11682\n",
      "non-education       0.91      0.87      0.89      3402\n",
      "\n",
      "     accuracy                           0.95     15084\n",
      "    macro avg       0.94      0.92      0.93     15084\n",
      " weighted avg       0.95      0.95      0.95     15084\n",
      "\n",
      "CPU times: user 261 ms, sys: 5.56 ms, total: 266 ms\n",
      "Wall time: 270 ms\n"
     ]
    }
   ],
   "source": [
    "%%time\n",
    "\n",
    "y_pred = logreg_binary.predict(X_test)\n",
    "\n",
    "print('accuracy %s' % accuracy_score(y_pred, y_test))\n",
    "print(classification_report(y_test, y_pred,target_names=list(set(df.binary_label_raw))))"
   ]
  },
  {
   "cell_type": "markdown",
   "id": "5f4e787d",
   "metadata": {},
   "source": [
    "## Multi"
   ]
  },
  {
   "cell_type": "code",
   "execution_count": 23,
   "id": "1c9e5aa7",
   "metadata": {},
   "outputs": [],
   "source": [
    "X = df.aff\n",
    "y = df.label\n",
    "X_train, X_test, y_train, y_test = train_test_split(X, y, test_size=0.2, random_state = 42)"
   ]
  },
  {
   "cell_type": "code",
   "execution_count": 24,
   "id": "a74be036",
   "metadata": {},
   "outputs": [
    {
     "data": {
      "text/plain": [
       "Pipeline(steps=[('vect', CountVectorizer(min_df=5, stop_words='english')),\n",
       "                ('clf', LogisticRegression(max_iter=600))])"
      ]
     },
     "execution_count": 24,
     "metadata": {},
     "output_type": "execute_result"
    }
   ],
   "source": [
    "logreg_multi = Pipeline([('vect', CountVectorizer(stop_words='english', min_df = 5)),\n",
    "                ('clf', LogisticRegression(max_iter=600)),\n",
    "               ])\n",
    "logreg_multi.fit(X_train, y_train)"
   ]
  },
  {
   "cell_type": "code",
   "execution_count": 25,
   "id": "7d298a08",
   "metadata": {},
   "outputs": [
    {
     "name": "stdout",
     "output_type": "stream",
     "text": [
      "accuracy 0.9231636170776982\n",
      "              precision    recall  f1-score   support\n",
      "\n",
      "       other       0.96      0.98      0.97     11682\n",
      "   education       0.82      0.85      0.83       768\n",
      "   nonprofit       0.79      0.70      0.74      1138\n",
      "     company       0.74      0.70      0.72       558\n",
      "  healthcare       0.81      0.64      0.71       318\n",
      "    facility       0.87      0.33      0.47        80\n",
      "  government       0.81      0.72      0.76       503\n",
      "     archive       0.96      0.73      0.83        37\n",
      "\n",
      "    accuracy                           0.92     15084\n",
      "   macro avg       0.84      0.71      0.76     15084\n",
      "weighted avg       0.92      0.92      0.92     15084\n",
      "\n",
      "CPU times: user 285 ms, sys: 15.9 ms, total: 301 ms\n",
      "Wall time: 313 ms\n"
     ]
    }
   ],
   "source": [
    "%%time\n",
    "\n",
    "y_pred = logreg_multi.predict(X_test)\n",
    "\n",
    "print('accuracy %s' % accuracy_score(y_pred, y_test))\n",
    "print(classification_report(y_test, y_pred,target_names=list(set(df.label_raw))))"
   ]
  },
  {
   "cell_type": "markdown",
   "id": "72e86c33",
   "metadata": {},
   "source": [
    "## Predict"
   ]
  },
  {
   "cell_type": "code",
   "execution_count": 156,
   "id": "73e6a0e1",
   "metadata": {},
   "outputs": [],
   "source": [
    "MERGED_AUTHOR = '../../data/processed/merged_author_df.csv'"
   ]
  },
  {
   "cell_type": "code",
   "execution_count": 157,
   "id": "fbc8be81",
   "metadata": {},
   "outputs": [],
   "source": [
    "merged = pd.read_csv(MERGED_AUTHOR)"
   ]
  },
  {
   "cell_type": "code",
   "execution_count": 160,
   "id": "19e9d35d",
   "metadata": {},
   "outputs": [
    {
     "data": {
      "text/plain": [
       "Counter({0: 9259, 1: 3169})"
      ]
     },
     "execution_count": 160,
     "metadata": {},
     "output_type": "execute_result"
    }
   ],
   "source": [
    "pred = logreg.predict(merged['IEEE Author Affiliation Filled'])\n",
    "Counter(pred)"
   ]
  },
  {
   "cell_type": "code",
   "execution_count": 161,
   "id": "1932b788",
   "metadata": {},
   "outputs": [
    {
     "data": {
      "text/plain": [
       "84150"
      ]
     },
     "execution_count": 161,
     "metadata": {},
     "output_type": "execute_result"
    }
   ],
   "source": [
    "merged['IEEE Author Affiliation Filled'].apply(lambda x: len(x.split(' '))).sum()"
   ]
  },
  {
   "cell_type": "code",
   "execution_count": 162,
   "id": "6b749336",
   "metadata": {},
   "outputs": [],
   "source": [
    "merged['IEEE Author Affiliation Filled'] = merged['IEEE Author Affiliation Filled'].apply(clean_text)"
   ]
  },
  {
   "cell_type": "code",
   "execution_count": 163,
   "id": "ef296c7f",
   "metadata": {},
   "outputs": [
    {
     "data": {
      "text/plain": [
       "86344"
      ]
     },
     "execution_count": 163,
     "metadata": {},
     "output_type": "execute_result"
    }
   ],
   "source": [
    "merged['IEEE Author Affiliation Filled'].apply(lambda x: len(x.split(' '))).sum()"
   ]
  },
  {
   "cell_type": "code",
   "execution_count": 174,
   "id": "3474c73f",
   "metadata": {},
   "outputs": [
    {
     "data": {
      "text/plain": [
       "Counter({'education': 9396, 'non-education': 3032})"
      ]
     },
     "execution_count": 174,
     "metadata": {},
     "output_type": "execute_result"
    }
   ],
   "source": [
    "pred_binary = logreg_binary.predict(merged['IEEE Author Affiliation Filled'])\n",
    "pred_binary_type = [id_to_binary_type[x] for x in pred_binary]\n",
    "Counter(pred_binary_type)"
   ]
  },
  {
   "cell_type": "code",
   "execution_count": 176,
   "id": "336331a7",
   "metadata": {},
   "outputs": [
    {
     "data": {
      "text/plain": [
       "Counter({'education': 9534,\n",
       "         'company': 1342,\n",
       "         'facility': 1090,\n",
       "         'government': 247,\n",
       "         'healthcare': 140,\n",
       "         'archive': 14,\n",
       "         'other': 11,\n",
       "         'nonprofit': 50})"
      ]
     },
     "execution_count": 176,
     "metadata": {},
     "output_type": "execute_result"
    }
   ],
   "source": [
    "pred_multi = logreg_multi.predict(merged['IEEE Author Affiliation Filled'])\n",
    "pred_multi_type = [id_to_multi_type[x] for x in pred_multi]\n",
    "Counter(pred_multi_type)"
   ]
  },
  {
   "cell_type": "code",
   "execution_count": 177,
   "id": "a3e62945",
   "metadata": {},
   "outputs": [],
   "source": [
    "good = 'label_raw'"
   ]
  },
  {
   "cell_type": "code",
   "execution_count": 178,
   "id": "e81e50ce",
   "metadata": {},
   "outputs": [
    {
     "data": {
      "text/plain": [
       "0        education\n",
       "1        education\n",
       "2          company\n",
       "3        education\n",
       "4         facility\n",
       "           ...    \n",
       "75412    education\n",
       "75413    education\n",
       "75414    education\n",
       "75415    education\n",
       "75416    education\n",
       "Name: label_raw, Length: 75417, dtype: object"
      ]
     },
     "execution_count": 178,
     "metadata": {},
     "output_type": "execute_result"
    }
   ],
   "source": [
    "df[good]"
   ]
  },
  {
   "cell_type": "code",
   "execution_count": null,
   "id": "56c78b3a",
   "metadata": {},
   "outputs": [],
   "source": []
  }
 ],
 "metadata": {
  "kernelspec": {
   "display_name": "Python 3 (ipykernel)",
   "language": "python",
   "name": "python3"
  },
  "language_info": {
   "codemirror_mode": {
    "name": "ipython",
    "version": 3
   },
   "file_extension": ".py",
   "mimetype": "text/x-python",
   "name": "python",
   "nbconvert_exporter": "python",
   "pygments_lexer": "ipython3",
   "version": "3.8.12"
  }
 },
 "nbformat": 4,
 "nbformat_minor": 5
}
