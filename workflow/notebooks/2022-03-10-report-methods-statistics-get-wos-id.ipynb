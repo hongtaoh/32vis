{
 "cells": [
  {
   "cell_type": "code",
   "execution_count": 30,
   "id": "91a845c4",
   "metadata": {},
   "outputs": [],
   "source": [
    "import pandas as pd\n",
    "import urllib\n",
    "import requests\n",
    "from bs4 import BeautifulSoup\n",
    "import re\n",
    "import csv\n",
    "import random\n",
    "import numpy as np\n",
    "import time"
   ]
  },
  {
   "cell_type": "code",
   "execution_count": 31,
   "id": "3406a467",
   "metadata": {},
   "outputs": [],
   "source": [
    "url = 'http://ws.isiknowledge.com/cps/openurl/service?url_ver=Z39.88-2004&rft_id=info:doi/10.1109/TVCG.2021.3114787'\n",
    "headers = {\n",
    "    \"user-agent\": \"Mozilla/5.0 (Windows NT 6.1) AppleWebKit/537.36 (KHTML, like Gecko) Chrome/55.0.2883.87 Safari/537.36\",\n",
    "}\n",
    "response = requests.get(url=url, headers=headers)"
   ]
  },
  {
   "cell_type": "code",
   "execution_count": 32,
   "id": "d81c37a5",
   "metadata": {},
   "outputs": [
    {
     "name": "stdout",
     "output_type": "stream",
     "text": [
      "Request was redirected\n",
      "302 http://ws.isiknowledge.com/cps/openurl/service?url_ver=Z39.88-2004&rft_id=info:doi/10.1109/TVCG.2021.3114787\n",
      "302 http://gateway.webofknowledge.com/gateway/Gateway.cgi?GWVersion=2&SrcApp=PARTNER_APP&SrcAuth=LinksAMR&KeyUT=WOS:000733959000058&DestLinkType=FullRecord&DestApp=ALL_WOS&UsrCustomerID=8703b88d69db6b417a9c0dc510538f44\n",
      "302 http://www.webofknowledge.com?DestApp=WOSNX&DestParams=%2Fwos%2Fwoscc%2Ffull-record%2FWOS%3A000733959000058%3F&&DestFail=http%3A%2F%2Fwww.webofknowledge.com\n",
      "Final destination:\n",
      "200 https://access.clarivate.com/login?app=wos&detectSession=true&referrer=TARGET%3Dhttps%253A%252F%252Fwww.webofscience.com%252Fwos%253FIsProductCode%253DYes%2526Init%253DYes%2526DestParams%253D%25252Fwos%25252Fwoscc%25252Ffull-record%25252FWOS%25253A000733959000058%25253F%2526DestApp%253DWOSNX%2526Func%253DFrame%2526DestFail%253Dhttp%25253A%25252F%25252Fwww.webofknowledge.com%2526SrcApp%253DCR%2526SID%253D7Ev6Y2vwi12I4kEUu8M%26DestFail%3Dhttp%253A%252F%252Fwww.webofknowledge.com%26SID%3D7Ev6Y2vwi12I4kEUu8M%26detectSessionComplete%3Dtrue\n"
     ]
    }
   ],
   "source": [
    "if response.history:\n",
    "    print(\"Request was redirected\")\n",
    "    for resp in response.history:\n",
    "        print(resp.status_code, resp.url)\n",
    "    print(\"Final destination:\")\n",
    "    print(response.status_code, response.url)\n",
    "else:\n",
    "    print(\"Request was not redirected\")"
   ]
  },
  {
   "cell_type": "code",
   "execution_count": 33,
   "id": "44a018f8",
   "metadata": {},
   "outputs": [],
   "source": [
    "url = response.history[-1].url"
   ]
  },
  {
   "cell_type": "code",
   "execution_count": 34,
   "id": "57c1c962",
   "metadata": {},
   "outputs": [
    {
     "data": {
      "text/plain": [
       "'http://www.webofknowledge.com?DestApp=WOSNX&DestParams=%2Fwos%2Fwoscc%2Ffull-record%2FWOS%3A000733959000058%3F&&DestFail=http%3A%2F%2Fwww.webofknowledge.com'"
      ]
     },
     "execution_count": 34,
     "metadata": {},
     "output_type": "execute_result"
    }
   ],
   "source": [
    "url"
   ]
  },
  {
   "cell_type": "code",
   "execution_count": 35,
   "id": "3cdf146e",
   "metadata": {},
   "outputs": [
    {
     "data": {
      "text/plain": [
       "'000733959000058'"
      ]
     },
     "execution_count": 35,
     "metadata": {},
     "output_type": "execute_result"
    }
   ],
   "source": [
    "re.findall(r'(?<=2FWOS%3A)(.*)(?=%3F)', url)[0]"
   ]
  },
  {
   "cell_type": "code",
   "execution_count": 36,
   "id": "0d7cc2c0",
   "metadata": {},
   "outputs": [],
   "source": [
    "doi_wos_dict_list = []"
   ]
  },
  {
   "cell_type": "code",
   "execution_count": 37,
   "id": "21642059",
   "metadata": {},
   "outputs": [],
   "source": [
    "def get_wos_id_from_doi(doi):\n",
    "    url = 'http://ws.isiknowledge.com/cps/openurl/service?url_ver=Z39.88-2004&rft_id=info:doi/' + doi\n",
    "    headers = {\n",
    "        \"user-agent\": \"Mozilla/5.0 (Windows NT 6.1) AppleWebKit/537.36 (KHTML, like Gecko) Chrome/55.0.2883.87 Safari/537.36\",\n",
    "    }\n",
    "    response = requests.get(url=url, headers=headers)\n",
    "    wos_url = response.history[-1].url\n",
    "    wos_id_list = re.findall(r'(?<=2FWOS%3A)(.*)(?=%3F)', wos_url)\n",
    "    if wos_id_list:\n",
    "        wos_id = wos_id_list[0]\n",
    "    else:\n",
    "        wos_id = np.NaN\n",
    "    doi_wos_dict = {\n",
    "        'DOI': doi,\n",
    "        'WOS ID': wos_id\n",
    "    }\n",
    "    doi_wos_dict_list.append(doi_wos_dict)"
   ]
  },
  {
   "cell_type": "code",
   "execution_count": 38,
   "id": "5f15b945",
   "metadata": {},
   "outputs": [],
   "source": [
    "\"\"\"Open `good_dois` and convert it to a list\n",
    "\"\"\"\n",
    "\n",
    "good_dois = open(\"../../data/processed/papers_to_study.txt\", 'r')\n",
    "reader = csv.reader(good_dois)\n",
    "allRows = [row for row in reader]\n",
    "dois = [i[0] for i in allRows]"
   ]
  },
  {
   "cell_type": "code",
   "execution_count": 39,
   "id": "95ae1806",
   "metadata": {},
   "outputs": [],
   "source": [
    "\"\"\"randomly select 100 dois\n",
    "\"\"\"\n",
    "random.seed(1234)\n",
    "random_dois = random.sample(dois, 100)"
   ]
  },
  {
   "cell_type": "code",
   "execution_count": 40,
   "id": "6484a762",
   "metadata": {},
   "outputs": [
    {
     "data": {
      "text/plain": [
       "'10.1109/tvcg.2021.3114761'"
      ]
     },
     "execution_count": 40,
     "metadata": {},
     "output_type": "execute_result"
    }
   ],
   "source": [
    "random_dois[0]"
   ]
  },
  {
   "cell_type": "code",
   "execution_count": 41,
   "id": "e792da9b",
   "metadata": {},
   "outputs": [
    {
     "name": "stdout",
     "output_type": "stream",
     "text": [
      "1 is done\n",
      "2 is done\n",
      "3 is done\n",
      "4 is done\n",
      "5 is done\n",
      "6 is done\n",
      "7 is done\n",
      "8 is done\n",
      "9 is done\n",
      "10 is done\n",
      "11 is done\n"
     ]
    },
    {
     "ename": "KeyboardInterrupt",
     "evalue": "",
     "output_type": "error",
     "traceback": [
      "\u001b[0;31m---------------------------------------------------------------------------\u001b[0m",
      "\u001b[0;31mKeyboardInterrupt\u001b[0m                         Traceback (most recent call last)",
      "\u001b[0;32m/var/folders/z2/5kr96fyn63z_tj_bwr33t5dw0000gn/T/ipykernel_47629/3001547661.py\u001b[0m in \u001b[0;36m<module>\u001b[0;34m\u001b[0m\n\u001b[1;32m      1\u001b[0m \u001b[0;32mfor\u001b[0m \u001b[0mdoi\u001b[0m \u001b[0;32min\u001b[0m \u001b[0mdois\u001b[0m\u001b[0;34m:\u001b[0m\u001b[0;34m\u001b[0m\u001b[0;34m\u001b[0m\u001b[0m\n\u001b[1;32m      2\u001b[0m     \u001b[0mget_wos_id_from_doi\u001b[0m\u001b[0;34m(\u001b[0m\u001b[0mdoi\u001b[0m\u001b[0;34m)\u001b[0m\u001b[0;34m\u001b[0m\u001b[0;34m\u001b[0m\u001b[0m\n\u001b[0;32m----> 3\u001b[0;31m     \u001b[0mtime\u001b[0m\u001b[0;34m.\u001b[0m\u001b[0msleep\u001b[0m\u001b[0;34m(\u001b[0m\u001b[0;36m2\u001b[0m\u001b[0;34m+\u001b[0m\u001b[0mrandom\u001b[0m\u001b[0;34m.\u001b[0m\u001b[0muniform\u001b[0m\u001b[0;34m(\u001b[0m\u001b[0;36m0\u001b[0m\u001b[0;34m,\u001b[0m \u001b[0;36m2\u001b[0m\u001b[0;34m)\u001b[0m\u001b[0;34m)\u001b[0m\u001b[0;34m\u001b[0m\u001b[0;34m\u001b[0m\u001b[0m\n\u001b[0m\u001b[1;32m      4\u001b[0m     \u001b[0mprint\u001b[0m\u001b[0;34m(\u001b[0m\u001b[0;34mf'{dois.index(doi) + 1} is done'\u001b[0m\u001b[0;34m)\u001b[0m\u001b[0;34m\u001b[0m\u001b[0;34m\u001b[0m\u001b[0m\n",
      "\u001b[0;31mKeyboardInterrupt\u001b[0m: "
     ]
    }
   ],
   "source": [
    "for doi in dois:\n",
    "    get_wos_id_from_doi(doi)\n",
    "    time.sleep(2+random.uniform(0, 2))\n",
    "    print(f'{dois.index(doi) + 1} is done')"
   ]
  },
  {
   "cell_type": "code",
   "execution_count": null,
   "id": "4feaed8c",
   "metadata": {},
   "outputs": [],
   "source": [
    "# initiate a dataframe \n",
    "doi_wos_df_initiate = pd.DataFrame(columns=['DOI', 'WOS ID'])"
   ]
  },
  {
   "cell_type": "code",
   "execution_count": null,
   "id": "0df64a9a",
   "metadata": {},
   "outputs": [],
   "source": [
    "def build_df_from_dict_list(df, dict_list):\n",
    "    \"\"\"build df from a list of dictionaries\n",
    "    \n",
    "    Arguments:\n",
    "       df: an empty df you just initiated\n",
    "       \n",
    "       dict_list: a list of dictionaries containing data you want to form a df\n",
    "    \n",
    "    Returns:\n",
    "      The updated df\n",
    "    \"\"\"\n",
    "    for i in dict_list:\n",
    "        df_1 = pd.DataFrame([i])\n",
    "        df = df.append(df_1, ignore_index=True)\n",
    "    return df"
   ]
  },
  {
   "cell_type": "code",
   "execution_count": null,
   "id": "2e4b7768",
   "metadata": {},
   "outputs": [],
   "source": [
    "doi_wos_df = build_df_from_dict_list(doi_wos_df_initiate, doi_wos_dict_list)"
   ]
  },
  {
   "cell_type": "code",
   "execution_count": null,
   "id": "e378be17",
   "metadata": {},
   "outputs": [],
   "source": [
    "doi_wos_df"
   ]
  },
  {
   "cell_type": "code",
   "execution_count": null,
   "id": "260efa22",
   "metadata": {},
   "outputs": [],
   "source": [
    "na_rows = doi_wos_df[doi_wos_df.isnull().any(axis=1)]\n",
    "na_rows"
   ]
  },
  {
   "cell_type": "code",
   "execution_count": null,
   "id": "687239ad",
   "metadata": {},
   "outputs": [],
   "source": [
    "len(na_rows)"
   ]
  }
 ],
 "metadata": {
  "kernelspec": {
   "display_name": "Python 3 (ipykernel)",
   "language": "python",
   "name": "python3"
  },
  "language_info": {
   "codemirror_mode": {
    "name": "ipython",
    "version": 3
   },
   "file_extension": ".py",
   "mimetype": "text/x-python",
   "name": "python",
   "nbconvert_exporter": "python",
   "pygments_lexer": "ipython3",
   "version": "3.8.12"
  }
 },
 "nbformat": 4,
 "nbformat_minor": 5
}
