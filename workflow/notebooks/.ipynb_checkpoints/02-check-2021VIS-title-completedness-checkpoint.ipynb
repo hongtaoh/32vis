{
 "cells": [
  {
   "cell_type": "markdown",
   "id": "3a069bc3",
   "metadata": {},
   "source": [
    "What this notebook checked is whether all titles in `data/processed/titles_2021.csv` appeared in `data/processed/vispubdata_plus.csv`. They did. "
   ]
  },
  {
   "cell_type": "code",
   "execution_count": 1,
   "id": "810a87dc",
   "metadata": {},
   "outputs": [],
   "source": [
    "import pandas as pd"
   ]
  },
  {
   "cell_type": "code",
   "execution_count": 15,
   "id": "4caf4373",
   "metadata": {},
   "outputs": [],
   "source": [
    "# df = pd.read_csv('../../data/ht_class/ht_cleaned_paper_df.csv')\n",
    "df = pd.read_csv('../../data/processed/vispubdata_plus.csv')"
   ]
  },
  {
   "cell_type": "code",
   "execution_count": 18,
   "id": "41bbd946",
   "metadata": {},
   "outputs": [],
   "source": [
    "df_2021 = df[df.Year == 2021]"
   ]
  },
  {
   "cell_type": "code",
   "execution_count": 26,
   "id": "313205e1",
   "metadata": {},
   "outputs": [
    {
     "data": {
      "text/html": [
       "<div>\n",
       "<style scoped>\n",
       "    .dataframe tbody tr th:only-of-type {\n",
       "        vertical-align: middle;\n",
       "    }\n",
       "\n",
       "    .dataframe tbody tr th {\n",
       "        vertical-align: top;\n",
       "    }\n",
       "\n",
       "    .dataframe thead th {\n",
       "        text-align: right;\n",
       "    }\n",
       "</style>\n",
       "<table border=\"1\" class=\"dataframe\">\n",
       "  <thead>\n",
       "    <tr style=\"text-align: right;\">\n",
       "      <th></th>\n",
       "      <th>Conference</th>\n",
       "      <th>Year</th>\n",
       "      <th>Title</th>\n",
       "      <th>DOI</th>\n",
       "      <th>Link</th>\n",
       "      <th>FirstPage</th>\n",
       "      <th>LastPage</th>\n",
       "      <th>PaperType</th>\n",
       "      <th>Abstract</th>\n",
       "      <th>AuthorNames-Deduped</th>\n",
       "      <th>AuthorNames</th>\n",
       "      <th>AuthorAffiliation</th>\n",
       "      <th>InternalReferences</th>\n",
       "      <th>AuthorKeywords</th>\n",
       "      <th>AminerCitationCount_04-2020</th>\n",
       "      <th>XploreCitationCount - 2021-02</th>\n",
       "      <th>PubsCited</th>\n",
       "      <th>Award</th>\n",
       "    </tr>\n",
       "  </thead>\n",
       "  <tbody>\n",
       "    <tr>\n",
       "      <th>3394</th>\n",
       "      <td>VIS</td>\n",
       "      <td>2021</td>\n",
       "      <td>Simultaneous Matrix Orderings for Graph Collec...</td>\n",
       "      <td>10.1109/tvcg.2021.3114773</td>\n",
       "      <td>NaN</td>\n",
       "      <td>NaN</td>\n",
       "      <td>NaN</td>\n",
       "      <td>NaN</td>\n",
       "      <td>NaN</td>\n",
       "      <td>NaN</td>\n",
       "      <td>NaN</td>\n",
       "      <td>NaN</td>\n",
       "      <td>NaN</td>\n",
       "      <td>NaN</td>\n",
       "      <td>NaN</td>\n",
       "      <td>NaN</td>\n",
       "      <td>NaN</td>\n",
       "      <td>NaN</td>\n",
       "    </tr>\n",
       "    <tr>\n",
       "      <th>3395</th>\n",
       "      <td>VIS</td>\n",
       "      <td>2021</td>\n",
       "      <td>IRVINE: A Design Study on Analyzing Correlatio...</td>\n",
       "      <td>10.1109/tvcg.2021.3114797</td>\n",
       "      <td>NaN</td>\n",
       "      <td>NaN</td>\n",
       "      <td>NaN</td>\n",
       "      <td>NaN</td>\n",
       "      <td>NaN</td>\n",
       "      <td>NaN</td>\n",
       "      <td>NaN</td>\n",
       "      <td>NaN</td>\n",
       "      <td>NaN</td>\n",
       "      <td>NaN</td>\n",
       "      <td>NaN</td>\n",
       "      <td>NaN</td>\n",
       "      <td>NaN</td>\n",
       "      <td>NaN</td>\n",
       "    </tr>\n",
       "    <tr>\n",
       "      <th>3396</th>\n",
       "      <td>VIS</td>\n",
       "      <td>2021</td>\n",
       "      <td>Perception! Immersion! Empowerment! Superpower...</td>\n",
       "      <td>10.1109/tvcg.2021.3114844</td>\n",
       "      <td>NaN</td>\n",
       "      <td>NaN</td>\n",
       "      <td>NaN</td>\n",
       "      <td>NaN</td>\n",
       "      <td>NaN</td>\n",
       "      <td>NaN</td>\n",
       "      <td>NaN</td>\n",
       "      <td>NaN</td>\n",
       "      <td>NaN</td>\n",
       "      <td>NaN</td>\n",
       "      <td>NaN</td>\n",
       "      <td>NaN</td>\n",
       "      <td>NaN</td>\n",
       "      <td>NaN</td>\n",
       "    </tr>\n",
       "    <tr>\n",
       "      <th>3397</th>\n",
       "      <td>VIS</td>\n",
       "      <td>2021</td>\n",
       "      <td>Feature Curves and Surfaces of 3D Asymmetric T...</td>\n",
       "      <td>10.1109/tvcg.2021.3114808</td>\n",
       "      <td>NaN</td>\n",
       "      <td>NaN</td>\n",
       "      <td>NaN</td>\n",
       "      <td>NaN</td>\n",
       "      <td>NaN</td>\n",
       "      <td>NaN</td>\n",
       "      <td>NaN</td>\n",
       "      <td>NaN</td>\n",
       "      <td>NaN</td>\n",
       "      <td>NaN</td>\n",
       "      <td>NaN</td>\n",
       "      <td>NaN</td>\n",
       "      <td>NaN</td>\n",
       "      <td>NaN</td>\n",
       "    </tr>\n",
       "    <tr>\n",
       "      <th>3398</th>\n",
       "      <td>VIS</td>\n",
       "      <td>2021</td>\n",
       "      <td>AffectiveTDA: Using Topological Data Analysis ...</td>\n",
       "      <td>10.1109/tvcg.2021.3114784</td>\n",
       "      <td>NaN</td>\n",
       "      <td>NaN</td>\n",
       "      <td>NaN</td>\n",
       "      <td>NaN</td>\n",
       "      <td>NaN</td>\n",
       "      <td>NaN</td>\n",
       "      <td>NaN</td>\n",
       "      <td>NaN</td>\n",
       "      <td>NaN</td>\n",
       "      <td>NaN</td>\n",
       "      <td>NaN</td>\n",
       "      <td>NaN</td>\n",
       "      <td>NaN</td>\n",
       "      <td>NaN</td>\n",
       "    </tr>\n",
       "  </tbody>\n",
       "</table>\n",
       "</div>"
      ],
      "text/plain": [
       "     Conference  Year                                              Title  \\\n",
       "3394        VIS  2021  Simultaneous Matrix Orderings for Graph Collec...   \n",
       "3395        VIS  2021  IRVINE: A Design Study on Analyzing Correlatio...   \n",
       "3396        VIS  2021  Perception! Immersion! Empowerment! Superpower...   \n",
       "3397        VIS  2021  Feature Curves and Surfaces of 3D Asymmetric T...   \n",
       "3398        VIS  2021  AffectiveTDA: Using Topological Data Analysis ...   \n",
       "\n",
       "                            DOI Link FirstPage LastPage PaperType Abstract  \\\n",
       "3394  10.1109/tvcg.2021.3114773  NaN       NaN      NaN       NaN      NaN   \n",
       "3395  10.1109/tvcg.2021.3114797  NaN       NaN      NaN       NaN      NaN   \n",
       "3396  10.1109/tvcg.2021.3114844  NaN       NaN      NaN       NaN      NaN   \n",
       "3397  10.1109/tvcg.2021.3114808  NaN       NaN      NaN       NaN      NaN   \n",
       "3398  10.1109/tvcg.2021.3114784  NaN       NaN      NaN       NaN      NaN   \n",
       "\n",
       "     AuthorNames-Deduped AuthorNames AuthorAffiliation InternalReferences  \\\n",
       "3394                 NaN         NaN               NaN                NaN   \n",
       "3395                 NaN         NaN               NaN                NaN   \n",
       "3396                 NaN         NaN               NaN                NaN   \n",
       "3397                 NaN         NaN               NaN                NaN   \n",
       "3398                 NaN         NaN               NaN                NaN   \n",
       "\n",
       "     AuthorKeywords  AminerCitationCount_04-2020  \\\n",
       "3394            NaN                          NaN   \n",
       "3395            NaN                          NaN   \n",
       "3396            NaN                          NaN   \n",
       "3397            NaN                          NaN   \n",
       "3398            NaN                          NaN   \n",
       "\n",
       "      XploreCitationCount - 2021-02  PubsCited Award  \n",
       "3394                            NaN        NaN   NaN  \n",
       "3395                            NaN        NaN   NaN  \n",
       "3396                            NaN        NaN   NaN  \n",
       "3397                            NaN        NaN   NaN  \n",
       "3398                            NaN        NaN   NaN  "
      ]
     },
     "execution_count": 26,
     "metadata": {},
     "output_type": "execute_result"
    }
   ],
   "source": [
    "df_2021.head()"
   ]
  },
  {
   "cell_type": "code",
   "execution_count": 27,
   "id": "6f8a59d5",
   "metadata": {},
   "outputs": [
    {
     "data": {
      "text/html": [
       "<div>\n",
       "<style scoped>\n",
       "    .dataframe tbody tr th:only-of-type {\n",
       "        vertical-align: middle;\n",
       "    }\n",
       "\n",
       "    .dataframe tbody tr th {\n",
       "        vertical-align: top;\n",
       "    }\n",
       "\n",
       "    .dataframe thead th {\n",
       "        text-align: right;\n",
       "    }\n",
       "</style>\n",
       "<table border=\"1\" class=\"dataframe\">\n",
       "  <thead>\n",
       "    <tr style=\"text-align: right;\">\n",
       "      <th></th>\n",
       "      <th>title</th>\n",
       "    </tr>\n",
       "  </thead>\n",
       "  <tbody>\n",
       "    <tr>\n",
       "      <th>0</th>\n",
       "      <td>Simultaneous Matrix Orderings for Graph Collec...</td>\n",
       "    </tr>\n",
       "    <tr>\n",
       "      <th>1</th>\n",
       "      <td>IRVINE: A Design Study on Analyzing Correlatio...</td>\n",
       "    </tr>\n",
       "    <tr>\n",
       "      <th>2</th>\n",
       "      <td>Perception! Immersion! Empowerment! Superpower...</td>\n",
       "    </tr>\n",
       "    <tr>\n",
       "      <th>3</th>\n",
       "      <td>Feature Curves and Surfaces of 3D Asymmetric T...</td>\n",
       "    </tr>\n",
       "    <tr>\n",
       "      <th>4</th>\n",
       "      <td>AffectiveTDA: Using Topological Data Analysis ...</td>\n",
       "    </tr>\n",
       "  </tbody>\n",
       "</table>\n",
       "</div>"
      ],
      "text/plain": [
       "                                               title\n",
       "0  Simultaneous Matrix Orderings for Graph Collec...\n",
       "1  IRVINE: A Design Study on Analyzing Correlatio...\n",
       "2  Perception! Immersion! Empowerment! Superpower...\n",
       "3  Feature Curves and Surfaces of 3D Asymmetric T...\n",
       "4  AffectiveTDA: Using Topological Data Analysis ..."
      ]
     },
     "execution_count": 27,
     "metadata": {},
     "output_type": "execute_result"
    }
   ],
   "source": [
    "df1 = pd.read_csv('../../data/processed/titles_2021.csv')\n",
    "df1.head()"
   ]
  },
  {
   "cell_type": "code",
   "execution_count": 55,
   "id": "ef4f6016",
   "metadata": {},
   "outputs": [],
   "source": [
    "original_titles = df1.title.tolist()\n",
    "# sort, so that i can compare it with df_2021_titles later\n",
    "original_titles.sort()"
   ]
  },
  {
   "cell_type": "code",
   "execution_count": 56,
   "id": "102ffe29",
   "metadata": {},
   "outputs": [
    {
     "data": {
      "text/plain": [
       "170"
      ]
     },
     "execution_count": 56,
     "metadata": {},
     "output_type": "execute_result"
    }
   ],
   "source": [
    "len(original_titles)"
   ]
  },
  {
   "cell_type": "code",
   "execution_count": 57,
   "id": "1f847d5f",
   "metadata": {},
   "outputs": [],
   "source": [
    "df_2021_titles = df_2021.Title.tolist()\n",
    "df_2021_titles.sort()"
   ]
  },
  {
   "cell_type": "code",
   "execution_count": 58,
   "id": "d736068d",
   "metadata": {},
   "outputs": [
    {
     "data": {
      "text/plain": [
       "170"
      ]
     },
     "execution_count": 58,
     "metadata": {},
     "output_type": "execute_result"
    }
   ],
   "source": [
    "len(df_2021_titles)"
   ]
  },
  {
   "cell_type": "code",
   "execution_count": 60,
   "id": "931aec55",
   "metadata": {},
   "outputs": [],
   "source": [
    "for idx, title in enumerate(original_titles):\n",
    "    if title != df_2021_titles[idx]:\n",
    "        print(idx)\n",
    "# Empty, which means all original titles appeared in vispubdata_plust"
   ]
  }
 ],
 "metadata": {
  "kernelspec": {
   "display_name": "Python 3 (ipykernel)",
   "language": "python",
   "name": "python3"
  },
  "language_info": {
   "codemirror_mode": {
    "name": "ipython",
    "version": 3
   },
   "file_extension": ".py",
   "mimetype": "text/x-python",
   "name": "python",
   "nbconvert_exporter": "python",
   "pygments_lexer": "ipython3",
   "version": "3.8.12"
  }
 },
 "nbformat": 4,
 "nbformat_minor": 5
}
