{
 "cells": [
  {
   "cell_type": "code",
   "execution_count": 181,
   "id": "726af4a8",
   "metadata": {},
   "outputs": [
    {
     "name": "stderr",
     "output_type": "stream",
     "text": [
      "[nltk_data] Downloading package stopwords to\n",
      "[nltk_data]     /Users/hongtaoh/nltk_data...\n",
      "[nltk_data]   Package stopwords is already up-to-date!\n"
     ]
    }
   ],
   "source": [
    "# https://medium.com/@gk_/text-classification-using-neural-networks-f5cd7b8765c6\n",
    "# https://towardsdatascience.com/multi-class-text-classification-model-comparison-and-selection-5eb066197568\n",
    "\n",
    "import logging\n",
    "import pandas as pd\n",
    "from io import StringIO\n",
    "import numpy as np\n",
    "from numpy import random\n",
    "import nltk\n",
    "nltk.download('stopwords')\n",
    "from sklearn.model_selection import train_test_split\n",
    "from sklearn.feature_extraction.text import CountVectorizer, TfidfVectorizer\n",
    "from sklearn.metrics import accuracy_score, confusion_matrix\n",
    "import matplotlib.pyplot as plt\n",
    "import re\n",
    "from bs4 import BeautifulSoup\n",
    "from html.parser import HTMLParser\n",
    "\n",
    "%matplotlib inline"
   ]
  },
  {
   "cell_type": "code",
   "execution_count": 182,
   "id": "823a1090",
   "metadata": {},
   "outputs": [],
   "source": [
    "CIT_AUTHOR = '../../data/processed/large/openalex_citation_author_df.csv'\n",
    "REF_AUTHOR = '../../data/processed/openalex_reference_author_df_unique.csv'\n",
    "# openalex author df for VIS papers:\n",
    "OA_AUTHOR = '../../data/interim/openalex_author_df.csv'"
   ]
  },
  {
   "cell_type": "code",
   "execution_count": 183,
   "id": "7c233ad8",
   "metadata": {},
   "outputs": [],
   "source": [
    "def get_binary_label_raw(x):\n",
    "    if x == 'education':\n",
    "        return 'education'\n",
    "    else:\n",
    "        return 'non-education'"
   ]
  },
  {
   "cell_type": "code",
   "execution_count": 184,
   "id": "20ab6abd",
   "metadata": {},
   "outputs": [],
   "source": [
    "def get_binary_label(x):\n",
    "    if x == 0:\n",
    "        return 0\n",
    "    else:\n",
    "        return 1"
   ]
  },
  {
   "cell_type": "code",
   "execution_count": 185,
   "id": "478c809a",
   "metadata": {},
   "outputs": [],
   "source": [
    "def get_simple_df(fname):\n",
    "    \"\"\"\n",
    "        - remove nan, \n",
    "        - get only two target columns, i.e., raw string and country code\n",
    "        - drop duplicates\n",
    "    \"\"\"\n",
    "    raw_string = 'Raw Affiliation String'\n",
    "    aff_type = 'First Institution Type'\n",
    "    df = pd.read_csv(fname)\n",
    "    df = df[(df[raw_string].notnull()) & (df[aff_type].notnull())]\n",
    "    df = df[[raw_string, aff_type]]\n",
    "    df = df.drop_duplicates()\n",
    "    return df\n",
    "\n",
    "def get_df(cit_author, ref_author, oa_author):\n",
    "    \"\"\"concatenate, drop_duplicates, reset index, rename columns,\n",
    "        factorize label_raw\n",
    "\n",
    "    Returns:\n",
    "        the df used for model training and testing. It contains three columns:\n",
    "            1. aff, which is pre-processed strings of affiliations\n",
    "            2. label_raw, which is country codes in strings,\n",
    "            3. label: which is factorized version of country codes\n",
    "    \"\"\"\n",
    "\n",
    "    df = pd.concat(\n",
    "        [oa_author, ref_author, cit_author], ignore_index = True\n",
    "        ).drop_duplicates().reset_index(drop=True)\n",
    "    df.columns = ['aff', 'label_raw']\n",
    "    df = df.assign(label = pd.factorize(df['label_raw'])[0])\n",
    "    df = df.assign(binary_label_raw = df.label_raw.apply(get_binary_label_raw))\n",
    "    df = df.assign(binary_label = df.label.apply(get_binary_label))\n",
    "    return df "
   ]
  },
  {
   "cell_type": "code",
   "execution_count": 186,
   "id": "6ae9a7b3",
   "metadata": {},
   "outputs": [],
   "source": [
    "def get_dicts(df):\n",
    "    \"\"\"get two dicts, one for cntry to id, and the other for id to cntry\n",
    "    \"\"\"\n",
    "    label_num_df = df[\n",
    "        ['label_raw', 'label']].drop_duplicates().sort_values(by='label')\n",
    "    countries = label_num_df['label_raw'].tolist()\n",
    "    ids = label_num_df['label'].tolist()\n",
    "    cntry_to_id = dict(zip(countries, ids))\n",
    "    id_to_cntry = dict(zip(ids, countries))\n",
    "    return cntry_to_id, id_to_cntry\n",
    "\n",
    "# scrip html tags and entities in titles\n",
    "# source: https://stackoverflow.com/a/925630\n",
    "class MLStripper(HTMLParser):\n",
    "    def __init__(self):\n",
    "        super().__init__()\n",
    "        self.reset()\n",
    "        self.strict = False\n",
    "        self.convert_charrefs= True\n",
    "        self.text = StringIO()\n",
    "    def handle_data(self, d):\n",
    "        self.text.write(d)\n",
    "    def get_data(self):\n",
    "        return self.text.getvalue()\n",
    "\n",
    "def strip_tags(html):\n",
    "    s = MLStripper()\n",
    "    s.feed(html)\n",
    "    return s.get_data()\n",
    "\n",
    "\n",
    "def clean_text(text):\n",
    "    \"\"\"\n",
    "    Returns:\n",
    "        affs, which is cleaned version ready for trainig and testing.\n",
    "            type: list of (cleaned) strings\n",
    "    \"\"\"\n",
    "    STOPWORDS = set(stopwords.words('english'))\n",
    "    # lowercase, remove html tags, remove nonsense, remove non-letter\n",
    "    aff = text.lower()\n",
    "    aff = strip_tags(aff) \n",
    "    aff = re.sub(r'xa0|#n#‡#n#|#tab#|#r#|\\[|\\]', \"\", aff)\n",
    "    aff = re.sub(r'[^A-Za-z]+', ' ', aff)\n",
    "    aff = ' '.join(word for word in aff.split() if word not in STOPWORDS)\n",
    "    return aff"
   ]
  },
  {
   "cell_type": "code",
   "execution_count": 187,
   "id": "81a1045c",
   "metadata": {},
   "outputs": [],
   "source": [
    "cit_author = get_simple_df(CIT_AUTHOR)\n",
    "ref_author = get_simple_df(REF_AUTHOR)\n",
    "oa_author = get_simple_df(OA_AUTHOR)"
   ]
  },
  {
   "cell_type": "code",
   "execution_count": 188,
   "id": "603c09c8",
   "metadata": {},
   "outputs": [],
   "source": [
    "df = get_df(cit_author, ref_author, oa_author)"
   ]
  },
  {
   "cell_type": "code",
   "execution_count": 189,
   "id": "2d1ebb1a",
   "metadata": {},
   "outputs": [
    {
     "data": {
      "text/html": [
       "<div>\n",
       "<style scoped>\n",
       "    .dataframe tbody tr th:only-of-type {\n",
       "        vertical-align: middle;\n",
       "    }\n",
       "\n",
       "    .dataframe tbody tr th {\n",
       "        vertical-align: top;\n",
       "    }\n",
       "\n",
       "    .dataframe thead th {\n",
       "        text-align: right;\n",
       "    }\n",
       "</style>\n",
       "<table border=\"1\" class=\"dataframe\">\n",
       "  <thead>\n",
       "    <tr style=\"text-align: right;\">\n",
       "      <th></th>\n",
       "      <th>aff</th>\n",
       "      <th>label_raw</th>\n",
       "      <th>label</th>\n",
       "      <th>binary_label_raw</th>\n",
       "      <th>binary_label</th>\n",
       "    </tr>\n",
       "  </thead>\n",
       "  <tbody>\n",
       "    <tr>\n",
       "      <th>0</th>\n",
       "      <td>Computer Science Department, Stanford Universi...</td>\n",
       "      <td>education</td>\n",
       "      <td>0</td>\n",
       "      <td>education</td>\n",
       "      <td>0</td>\n",
       "    </tr>\n",
       "    <tr>\n",
       "      <th>1</th>\n",
       "      <td>Dept. of Comput Sci., Maryland Univ., College ...</td>\n",
       "      <td>education</td>\n",
       "      <td>0</td>\n",
       "      <td>education</td>\n",
       "      <td>0</td>\n",
       "    </tr>\n",
       "    <tr>\n",
       "      <th>2</th>\n",
       "      <td>IBM Sci. Center, Los Angeles, CA, USA</td>\n",
       "      <td>company</td>\n",
       "      <td>1</td>\n",
       "      <td>non-education</td>\n",
       "      <td>1</td>\n",
       "    </tr>\n",
       "    <tr>\n",
       "      <th>3</th>\n",
       "      <td>Technische Univ. Eindhoven</td>\n",
       "      <td>education</td>\n",
       "      <td>0</td>\n",
       "      <td>education</td>\n",
       "      <td>0</td>\n",
       "    </tr>\n",
       "    <tr>\n",
       "      <th>4</th>\n",
       "      <td>Los Alamos National Laboratory and Lawrence Li...</td>\n",
       "      <td>facility</td>\n",
       "      <td>2</td>\n",
       "      <td>non-education</td>\n",
       "      <td>1</td>\n",
       "    </tr>\n",
       "    <tr>\n",
       "      <th>5</th>\n",
       "      <td>Los Alamos national Laboratory</td>\n",
       "      <td>facility</td>\n",
       "      <td>2</td>\n",
       "      <td>non-education</td>\n",
       "      <td>1</td>\n",
       "    </tr>\n",
       "    <tr>\n",
       "      <th>6</th>\n",
       "      <td>Lawrence livermore National Laboratory</td>\n",
       "      <td>facility</td>\n",
       "      <td>2</td>\n",
       "      <td>non-education</td>\n",
       "      <td>1</td>\n",
       "    </tr>\n",
       "    <tr>\n",
       "      <th>7</th>\n",
       "      <td>Rwth Aachen</td>\n",
       "      <td>education</td>\n",
       "      <td>0</td>\n",
       "      <td>education</td>\n",
       "      <td>0</td>\n",
       "    </tr>\n",
       "    <tr>\n",
       "      <th>8</th>\n",
       "      <td>Comput. Sci. Div., California Univ., Berkeley, CA</td>\n",
       "      <td>education</td>\n",
       "      <td>0</td>\n",
       "      <td>education</td>\n",
       "      <td>0</td>\n",
       "    </tr>\n",
       "    <tr>\n",
       "      <th>9</th>\n",
       "      <td>School of Information Management and Systems, ...</td>\n",
       "      <td>education</td>\n",
       "      <td>0</td>\n",
       "      <td>education</td>\n",
       "      <td>0</td>\n",
       "    </tr>\n",
       "  </tbody>\n",
       "</table>\n",
       "</div>"
      ],
      "text/plain": [
       "                                                 aff  label_raw  label  \\\n",
       "0  Computer Science Department, Stanford Universi...  education      0   \n",
       "1  Dept. of Comput Sci., Maryland Univ., College ...  education      0   \n",
       "2              IBM Sci. Center, Los Angeles, CA, USA    company      1   \n",
       "3                         Technische Univ. Eindhoven  education      0   \n",
       "4  Los Alamos National Laboratory and Lawrence Li...   facility      2   \n",
       "5                     Los Alamos national Laboratory   facility      2   \n",
       "6             Lawrence livermore National Laboratory   facility      2   \n",
       "7                                        Rwth Aachen  education      0   \n",
       "8  Comput. Sci. Div., California Univ., Berkeley, CA  education      0   \n",
       "9  School of Information Management and Systems, ...  education      0   \n",
       "\n",
       "  binary_label_raw  binary_label  \n",
       "0        education             0  \n",
       "1        education             0  \n",
       "2    non-education             1  \n",
       "3        education             0  \n",
       "4    non-education             1  \n",
       "5    non-education             1  \n",
       "6    non-education             1  \n",
       "7        education             0  \n",
       "8        education             0  \n",
       "9        education             0  "
      ]
     },
     "execution_count": 189,
     "metadata": {},
     "output_type": "execute_result"
    }
   ],
   "source": [
    "df.head(10)"
   ]
  },
  {
   "cell_type": "code",
   "execution_count": 190,
   "id": "b96e590e",
   "metadata": {},
   "outputs": [
    {
     "data": {
      "text/plain": [
       "787865"
      ]
     },
     "execution_count": 190,
     "metadata": {},
     "output_type": "execute_result"
    }
   ],
   "source": [
    "df['aff'].apply(lambda x: len(x.split(' '))).sum()"
   ]
  },
  {
   "cell_type": "code",
   "execution_count": 191,
   "id": "9e81a8c0",
   "metadata": {},
   "outputs": [
    {
     "data": {
      "text/plain": [
       "['government',\n",
       " 'healthcare',\n",
       " 'education',\n",
       " 'nonprofit',\n",
       " 'archive',\n",
       " 'facility',\n",
       " 'other',\n",
       " 'company']"
      ]
     },
     "execution_count": 191,
     "metadata": {},
     "output_type": "execute_result"
    }
   ],
   "source": [
    "my_labels = list(set(df.label_raw))\n",
    "my_labels"
   ]
  },
  {
   "cell_type": "code",
   "execution_count": 192,
   "id": "69db149e",
   "metadata": {},
   "outputs": [
    {
     "data": {
      "text/plain": [
       "<AxesSubplot:>"
      ]
     },
     "execution_count": 192,
     "metadata": {},
     "output_type": "execute_result"
    },
    {
     "data": {
      "image/png": "[encoded data removed]",
      "text/plain": [
       "<Figure size 720x288 with 1 Axes>"
      ]
     },
     "metadata": {
      "needs_background": "light"
     },
     "output_type": "display_data"
    }
   ],
   "source": [
    "plt.figure(figsize = (10,4))\n",
    "df.label_raw.value_counts().plot(kind=\"bar\")"
   ]
  },
  {
   "cell_type": "code",
   "execution_count": 193,
   "id": "ba0a7a88",
   "metadata": {},
   "outputs": [],
   "source": [
    "df['aff'] = df['aff'].apply(clean_text)"
   ]
  },
  {
   "cell_type": "code",
   "execution_count": 194,
   "id": "12ea025a",
   "metadata": {},
   "outputs": [
    {
     "data": {
      "text/plain": [
       "660309"
      ]
     },
     "execution_count": 194,
     "metadata": {},
     "output_type": "execute_result"
    }
   ],
   "source": [
    "df['aff'].apply(lambda x: len(x.split(' '))).sum()"
   ]
  },
  {
   "cell_type": "code",
   "execution_count": 195,
   "id": "302f908c",
   "metadata": {},
   "outputs": [],
   "source": [
    "df.to_csv('affiliation_type_classification_data.csv')"
   ]
  },
  {
   "cell_type": "code",
   "execution_count": 196,
   "id": "a10a6e8a",
   "metadata": {},
   "outputs": [],
   "source": [
    "X = df.aff\n",
    "y = df.label\n",
    "X_train, X_test, y_train, y_test = train_test_split(X, y, test_size=0.2, random_state = 42)"
   ]
  },
  {
   "cell_type": "markdown",
   "id": "131a3551",
   "metadata": {},
   "source": [
    "### Naive Bayes classifier for multinomial models"
   ]
  },
  {
   "cell_type": "code",
   "execution_count": 197,
   "id": "fd6a8c8f",
   "metadata": {},
   "outputs": [
    {
     "data": {
      "text/plain": [
       "Pipeline(steps=[('vect', CountVectorizer()), ('tfidf', TfidfTransformer()),\n",
       "                ('clf', MultinomialNB())])"
      ]
     },
     "execution_count": 197,
     "metadata": {},
     "output_type": "execute_result"
    }
   ],
   "source": [
    "from sklearn.naive_bayes import MultinomialNB\n",
    "from sklearn.pipeline import Pipeline\n",
    "from sklearn.feature_extraction.text import TfidfTransformer\n",
    "\n",
    "nb = Pipeline([('vect', CountVectorizer()),\n",
    "               ('tfidf', TfidfTransformer()),\n",
    "               ('clf', MultinomialNB()),\n",
    "              ])\n",
    "nb.fit(X_train, y_train)"
   ]
  },
  {
   "cell_type": "code",
   "execution_count": 198,
   "id": "8938bc09",
   "metadata": {},
   "outputs": [
    {
     "name": "stdout",
     "output_type": "stream",
     "text": [
      "accuracy 0.8335985149827632\n",
      "              precision    recall  f1-score   support\n",
      "\n",
      "  government       0.83      1.00      0.91     11682\n",
      "  healthcare       0.95      0.42      0.58       768\n",
      "   education       0.85      0.38      0.52      1138\n",
      "   nonprofit       0.79      0.14      0.24       558\n",
      "     archive       0.93      0.04      0.08       318\n",
      "    facility       0.00      0.00      0.00        80\n",
      "       other       0.98      0.13      0.23       503\n",
      "     company       0.00      0.00      0.00        37\n",
      "\n",
      "    accuracy                           0.83     15084\n",
      "   macro avg       0.67      0.26      0.32     15084\n",
      "weighted avg       0.84      0.83      0.79     15084\n",
      "\n",
      "CPU times: user 400 ms, sys: 17.2 ms, total: 417 ms\n",
      "Wall time: 771 ms\n"
     ]
    },
    {
     "name": "stderr",
     "output_type": "stream",
     "text": [
      "/opt/anaconda3/envs/31vis/lib/python3.8/site-packages/sklearn/metrics/_classification.py:1318: UndefinedMetricWarning: Precision and F-score are ill-defined and being set to 0.0 in labels with no predicted samples. Use `zero_division` parameter to control this behavior.\n",
      "  _warn_prf(average, modifier, msg_start, len(result))\n",
      "/opt/anaconda3/envs/31vis/lib/python3.8/site-packages/sklearn/metrics/_classification.py:1318: UndefinedMetricWarning: Precision and F-score are ill-defined and being set to 0.0 in labels with no predicted samples. Use `zero_division` parameter to control this behavior.\n",
      "  _warn_prf(average, modifier, msg_start, len(result))\n",
      "/opt/anaconda3/envs/31vis/lib/python3.8/site-packages/sklearn/metrics/_classification.py:1318: UndefinedMetricWarning: Precision and F-score are ill-defined and being set to 0.0 in labels with no predicted samples. Use `zero_division` parameter to control this behavior.\n",
      "  _warn_prf(average, modifier, msg_start, len(result))\n"
     ]
    }
   ],
   "source": [
    "%%time\n",
    "from sklearn.metrics import classification_report\n",
    "y_pred = nb.predict(X_test)\n",
    "\n",
    "print('accuracy %s' % accuracy_score(y_pred, y_test))\n",
    "print(classification_report(y_test, y_pred,target_names=my_labels))"
   ]
  },
  {
   "cell_type": "markdown",
   "id": "52acbd8d",
   "metadata": {},
   "source": [
    "## Linear support vector machine"
   ]
  },
  {
   "cell_type": "code",
   "execution_count": 199,
   "id": "954a9628",
   "metadata": {},
   "outputs": [
    {
     "data": {
      "text/plain": [
       "Pipeline(steps=[('vect', CountVectorizer()), ('tfidf', TfidfTransformer()),\n",
       "                ('clf',\n",
       "                 SGDClassifier(alpha=0.001, max_iter=5, random_state=42,\n",
       "                               tol=None))])"
      ]
     },
     "execution_count": 199,
     "metadata": {},
     "output_type": "execute_result"
    }
   ],
   "source": [
    "from sklearn.linear_model import SGDClassifier\n",
    "\n",
    "sgd = Pipeline([('vect', CountVectorizer()),\n",
    "                ('tfidf', TfidfTransformer()),\n",
    "                ('clf', SGDClassifier(loss='hinge', penalty='l2',alpha=1e-3, random_state=42, max_iter=5, tol=None)),\n",
    "               ])\n",
    "sgd.fit(X_train, y_train)"
   ]
  },
  {
   "cell_type": "code",
   "execution_count": 200,
   "id": "3b5d78c6",
   "metadata": {},
   "outputs": [
    {
     "name": "stdout",
     "output_type": "stream",
     "text": [
      "accuracy 0.8107928931317953\n",
      "              precision    recall  f1-score   support\n",
      "\n",
      "  government       0.81      1.00      0.89     11682\n",
      "  healthcare       0.84      0.26      0.39       768\n",
      "   education       0.97      0.20      0.33      1138\n",
      "   nonprofit       0.79      0.08      0.14       558\n",
      "     archive       0.66      0.07      0.13       318\n",
      "    facility       0.00      0.00      0.00        80\n",
      "       other       0.89      0.16      0.27       503\n",
      "     company       0.00      0.00      0.00        37\n",
      "\n",
      "    accuracy                           0.81     15084\n",
      "   macro avg       0.62      0.22      0.27     15084\n",
      "weighted avg       0.81      0.81      0.75     15084\n",
      "\n",
      "CPU times: user 390 ms, sys: 18.2 ms, total: 408 ms\n",
      "Wall time: 849 ms\n"
     ]
    },
    {
     "name": "stderr",
     "output_type": "stream",
     "text": [
      "/opt/anaconda3/envs/31vis/lib/python3.8/site-packages/sklearn/metrics/_classification.py:1318: UndefinedMetricWarning: Precision and F-score are ill-defined and being set to 0.0 in labels with no predicted samples. Use `zero_division` parameter to control this behavior.\n",
      "  _warn_prf(average, modifier, msg_start, len(result))\n",
      "/opt/anaconda3/envs/31vis/lib/python3.8/site-packages/sklearn/metrics/_classification.py:1318: UndefinedMetricWarning: Precision and F-score are ill-defined and being set to 0.0 in labels with no predicted samples. Use `zero_division` parameter to control this behavior.\n",
      "  _warn_prf(average, modifier, msg_start, len(result))\n",
      "/opt/anaconda3/envs/31vis/lib/python3.8/site-packages/sklearn/metrics/_classification.py:1318: UndefinedMetricWarning: Precision and F-score are ill-defined and being set to 0.0 in labels with no predicted samples. Use `zero_division` parameter to control this behavior.\n",
      "  _warn_prf(average, modifier, msg_start, len(result))\n"
     ]
    }
   ],
   "source": [
    "%%time\n",
    "\n",
    "y_pred = sgd.predict(X_test)\n",
    "\n",
    "print('accuracy %s' % accuracy_score(y_pred, y_test))\n",
    "print(classification_report(y_test, y_pred,target_names=my_labels))"
   ]
  },
  {
   "cell_type": "code",
   "execution_count": 201,
   "id": "d2ddf3b5",
   "metadata": {},
   "outputs": [
    {
     "data": {
      "text/plain": [
       "Pipeline(steps=[('vect', CountVectorizer()), ('tfidf', TfidfTransformer()),\n",
       "                ('clf', LogisticRegression(max_iter=1000))])"
      ]
     },
     "execution_count": 201,
     "metadata": {},
     "output_type": "execute_result"
    }
   ],
   "source": [
    "from sklearn.linear_model import LogisticRegression\n",
    "\n",
    "logreg = Pipeline([('vect', CountVectorizer()),\n",
    "                ('tfidf', TfidfTransformer()),\n",
    "                ('clf', LogisticRegression(max_iter=1000)),\n",
    "               ])\n",
    "logreg.fit(X_train, y_train)"
   ]
  },
  {
   "cell_type": "code",
   "execution_count": 202,
   "id": "3d12a0f6",
   "metadata": {},
   "outputs": [
    {
     "name": "stdout",
     "output_type": "stream",
     "text": [
      "accuracy 0.9152744630071599\n",
      "              precision    recall  f1-score   support\n",
      "\n",
      "  government       0.94      0.99      0.96     11682\n",
      "  healthcare       0.90      0.78      0.84       768\n",
      "   education       0.80      0.67      0.73      1138\n",
      "   nonprofit       0.76      0.63      0.69       558\n",
      "     archive       0.84      0.56      0.68       318\n",
      "    facility       0.87      0.16      0.27        80\n",
      "       other       0.80      0.66      0.72       503\n",
      "     company       0.96      0.68      0.79        37\n",
      "\n",
      "    accuracy                           0.92     15084\n",
      "   macro avg       0.86      0.64      0.71     15084\n",
      "weighted avg       0.91      0.92      0.91     15084\n",
      "\n",
      "CPU times: user 325 ms, sys: 59.5 ms, total: 384 ms\n",
      "Wall time: 607 ms\n"
     ]
    }
   ],
   "source": [
    "%%time\n",
    "\n",
    "y_pred = logreg.predict(X_test)\n",
    "\n",
    "print('accuracy %s' % accuracy_score(y_pred, y_test))\n",
    "print(classification_report(y_test, y_pred,target_names=my_labels))"
   ]
  },
  {
   "cell_type": "markdown",
   "id": "9f109f88",
   "metadata": {},
   "source": [
    "## Neural networks"
   ]
  },
  {
   "cell_type": "code",
   "execution_count": 203,
   "id": "bca60ea4",
   "metadata": {},
   "outputs": [
    {
     "data": {
      "text/plain": [
       "CountVectorizer(stop_words='english')"
      ]
     },
     "execution_count": 203,
     "metadata": {},
     "output_type": "execute_result"
    }
   ],
   "source": [
    "vectorizer = CountVectorizer(stop_words='english')\n",
    "vectorizer.fit(X_train)"
   ]
  },
  {
   "cell_type": "code",
   "execution_count": 204,
   "id": "691682db",
   "metadata": {},
   "outputs": [
    {
     "data": {
      "text/plain": [
       "<60333x22624 sparse matrix of type '<class 'numpy.int64'>'\n",
       "\twith 473173 stored elements in Compressed Sparse Row format>"
      ]
     },
     "execution_count": 204,
     "metadata": {},
     "output_type": "execute_result"
    }
   ],
   "source": [
    "X_train = vectorizer.transform(X_train)\n",
    "X_train"
   ]
  },
  {
   "cell_type": "code",
   "execution_count": null,
   "id": "3115bc93",
   "metadata": {},
   "outputs": [],
   "source": []
  }
 ],
 "metadata": {
  "kernelspec": {
   "display_name": "Python 3 (ipykernel)",
   "language": "python",
   "name": "python3"
  },
  "language_info": {
   "codemirror_mode": {
    "name": "ipython",
    "version": 3
   },
   "file_extension": ".py",
   "mimetype": "text/x-python",
   "name": "python",
   "nbconvert_exporter": "python",
   "pygments_lexer": "ipython3",
   "version": "3.8.12"
  }
 },
 "nbformat": 4,
 "nbformat_minor": 5
}
