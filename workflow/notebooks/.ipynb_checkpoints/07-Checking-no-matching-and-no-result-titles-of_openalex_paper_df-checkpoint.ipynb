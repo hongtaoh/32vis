{
 "cells": [
  {
   "cell_type": "markdown",
   "id": "1798fad7",
   "metadata": {},
   "source": [
    "## Aim\n",
    "\n",
    "In this notebook, I aim to see:\n",
    "\n",
    "- How many papers in `data/interim/title_query_empty_doi_query_404_dfs.txt` can be identified if I modify the queried title slightly\n",
    "- How many papers that are successfully identified (those in `data/processed/openalex_paper_df.csv`) do not have the same title and are not the same paper. \n",
    "\n",
    "## Conclusion\n",
    "\n",
    "I conclude that the strategy I used in `get_openalex_dfs.py` works. "
   ]
  },
  {
   "cell_type": "code",
   "execution_count": 1,
   "id": "265f1147",
   "metadata": {},
   "outputs": [],
   "source": [
    "import requests\n",
    "import pandas as pd\n",
    "import csv\n",
    "import re\n",
    "pd.options.display.max_colwidth = 200\n",
    "pd.set_option('display.max_rows', 500)\n",
    "import numpy as np"
   ]
  },
  {
   "cell_type": "code",
   "execution_count": 2,
   "id": "347f99d7",
   "metadata": {},
   "outputs": [],
   "source": [
    "def read_txt(INPUT):\n",
    "    \"\"\"read txt files and return a list\n",
    "    \"\"\"\n",
    "    raw = open(INPUT, \"r\")\n",
    "    reader = csv.reader(raw)\n",
    "    allRows = [row for row in reader]\n",
    "    data = [i[0] for i in allRows]\n",
    "    return data"
   ]
  },
  {
   "cell_type": "code",
   "execution_count": 3,
   "id": "3fa43cc5",
   "metadata": {},
   "outputs": [],
   "source": [
    "# where title query fails\n",
    "no_matching = read_txt(\"../../data/interim/checking/title_query_404_dfs.txt\")"
   ]
  },
  {
   "cell_type": "code",
   "execution_count": 4,
   "id": "641c2369",
   "metadata": {},
   "outputs": [],
   "source": [
    "# title query has empty results and doi query fails\n",
    "no_result = read_txt(\"../../data/interim/checking/title_query_empty_doi_query_404_dfs.txt\")"
   ]
  },
  {
   "cell_type": "code",
   "execution_count": 5,
   "id": "54bd28a2",
   "metadata": {},
   "outputs": [],
   "source": [
    "# doi query fails\n",
    "failed_doi = read_txt(\"../../data/interim/checking/doi_query_404_dfs.txt\")"
   ]
  },
  {
   "cell_type": "code",
   "execution_count": 6,
   "id": "72fa5817",
   "metadata": {},
   "outputs": [
    {
     "data": {
      "text/plain": [
       "[]"
      ]
     },
     "execution_count": 6,
     "metadata": {},
     "output_type": "execute_result"
    }
   ],
   "source": [
    "# failed doi is the result of failed query for dois in `to_query_by_doi`. \n",
    "failed_doi"
   ]
  },
  {
   "cell_type": "code",
   "execution_count": 7,
   "id": "e05c9acf",
   "metadata": {},
   "outputs": [],
   "source": [
    "# create dicts to convert doi and title, and vice versa\n",
    "vispd_plus = pd.read_csv(\"../../data/processed/vispubdata_plus.csv\")\n",
    "dois = vispd_plus.loc[:, \"DOI\"].tolist()\n",
    "titles = vispd_plus.loc[:, \"Title\"].tolist()\n",
    "doi_title_dict = dict(zip(dois, titles))\n",
    "title_doi_dict = dict(zip(titles, dois))"
   ]
  },
  {
   "cell_type": "code",
   "execution_count": 8,
   "id": "7987fc83",
   "metadata": {},
   "outputs": [],
   "source": [
    "# checking no matching.\n",
    "no_matching_titles = [doi_title_dict[doi] for doi in no_matching]"
   ]
  },
  {
   "cell_type": "code",
   "execution_count": 9,
   "id": "721a4c87",
   "metadata": {},
   "outputs": [],
   "source": [
    "no_matching_titles_transformed = [re.sub(r'\\:|\\?|\\,|\\#|\\&', '', title) for title in no_matching_titles]"
   ]
  },
  {
   "cell_type": "code",
   "execution_count": 10,
   "id": "346eeac4",
   "metadata": {},
   "outputs": [
    {
     "data": {
      "text/plain": [
       "[]"
      ]
     },
     "execution_count": 10,
     "metadata": {},
     "output_type": "execute_result"
    }
   ],
   "source": [
    "# empty, which means that every paper can be mathced. \n",
    "no_matching_titles"
   ]
  },
  {
   "cell_type": "code",
   "execution_count": 11,
   "id": "632fc59c",
   "metadata": {},
   "outputs": [
    {
     "data": {
      "text/plain": [
       "[]"
      ]
     },
     "execution_count": 11,
     "metadata": {},
     "output_type": "execute_result"
    }
   ],
   "source": [
    "no_matching_titles_transformed"
   ]
  },
  {
   "cell_type": "code",
   "execution_count": 12,
   "id": "8f25f885",
   "metadata": {},
   "outputs": [],
   "source": [
    "## checking no result titles\n",
    "## By `no_result`, I mean that for these papers, title queries were successful\n",
    "## However, the query does not show any result. For example:\n",
    "## https://api.openalex.org/works?filter=title.search:Generation of Transfer Functions with Stochastic Search Technique\n",
    "no_result_titles = [doi_title_dict[doi] for doi in no_result]\n",
    "no_result_titles\n",
    "no_result_titles_transformed = [re.sub(r'\\:|\\?|\\,|\\#|\\&', '', title) for title in no_result_titles]\n",
    "no_result_dois = [title_doi_dict[title] for title in no_result_titles]"
   ]
  },
  {
   "cell_type": "code",
   "execution_count": 13,
   "id": "cf84fef9",
   "metadata": {},
   "outputs": [
    {
     "data": {
      "text/plain": [
       "[]"
      ]
     },
     "execution_count": 13,
     "metadata": {},
     "output_type": "execute_result"
    }
   ],
   "source": [
    "no_result_titles_transformed"
   ]
  },
  {
   "cell_type": "code",
   "execution_count": 14,
   "id": "881df6e2",
   "metadata": {},
   "outputs": [],
   "source": [
    "# build a df to show no result doi and title side by side, this is clearer\n",
    "no_result_df = pd.DataFrame(columns = ['DOI', 'Title'])"
   ]
  },
  {
   "cell_type": "code",
   "execution_count": 15,
   "id": "ca85efc4",
   "metadata": {},
   "outputs": [],
   "source": [
    "no_result_df['DOI'] = no_result_dois\n",
    "no_result_df['Title'] = no_result_titles"
   ]
  },
  {
   "cell_type": "code",
   "execution_count": 16,
   "id": "2fe3c988",
   "metadata": {},
   "outputs": [
    {
     "data": {
      "text/html": [
       "<div>\n",
       "<style scoped>\n",
       "    .dataframe tbody tr th:only-of-type {\n",
       "        vertical-align: middle;\n",
       "    }\n",
       "\n",
       "    .dataframe tbody tr th {\n",
       "        vertical-align: top;\n",
       "    }\n",
       "\n",
       "    .dataframe thead th {\n",
       "        text-align: right;\n",
       "    }\n",
       "</style>\n",
       "<table border=\"1\" class=\"dataframe\">\n",
       "  <thead>\n",
       "    <tr style=\"text-align: right;\">\n",
       "      <th></th>\n",
       "      <th>DOI</th>\n",
       "      <th>Title</th>\n",
       "    </tr>\n",
       "  </thead>\n",
       "  <tbody>\n",
       "  </tbody>\n",
       "</table>\n",
       "</div>"
      ],
      "text/plain": [
       "Empty DataFrame\n",
       "Columns: [DOI, Title]\n",
       "Index: []"
      ]
     },
     "execution_count": 16,
     "metadata": {},
     "output_type": "execute_result"
    }
   ],
   "source": [
    "no_result_df"
   ]
  },
  {
   "cell_type": "markdown",
   "id": "e394ad47",
   "metadata": {},
   "source": [
    "## Checking `openalex_paper_df.csv`"
   ]
  },
  {
   "cell_type": "code",
   "execution_count": 17,
   "id": "967a9210",
   "metadata": {},
   "outputs": [],
   "source": [
    "df = pd.read_csv(\"../../data/processed/openalex_paper_df.csv\")\n",
    "# df.Title != df['OpenAlex Title']) & "
   ]
  },
  {
   "cell_type": "code",
   "execution_count": 18,
   "id": "e2748f38",
   "metadata": {},
   "outputs": [
    {
     "data": {
      "text/plain": [
       "'https://doi.org/10.5555/949607.949654'"
      ]
     },
     "execution_count": 18,
     "metadata": {},
     "output_type": "execute_result"
    }
   ],
   "source": [
    "df.DOI[1]\n",
    "df['OpenAlex DOI'][1]"
   ]
  },
  {
   "cell_type": "markdown",
   "id": "1f13ff26",
   "metadata": {},
   "source": [
    "## Checking the results where title queries were successful"
   ]
  },
  {
   "cell_type": "code",
   "execution_count": 19,
   "id": "91b01552",
   "metadata": {},
   "outputs": [
    {
     "data": {
      "text/plain": [
       "0"
      ]
     },
     "execution_count": 19,
     "metadata": {},
     "output_type": "execute_result"
    }
   ],
   "source": [
    "# checking how many papers do not have openalex id; that is, how many failed. \n",
    "# i want to see whether the number match the total of no_result and no_match\n",
    "\n",
    "df[df['OpenAlex ID'].isnull()].shape[0]\n",
    "\n",
    "# Yes, it is correct"
   ]
  },
  {
   "cell_type": "code",
   "execution_count": 20,
   "id": "ecf56dd7",
   "metadata": {},
   "outputs": [
    {
     "data": {
      "text/html": [
       "<div>\n",
       "<style scoped>\n",
       "    .dataframe tbody tr th:only-of-type {\n",
       "        vertical-align: middle;\n",
       "    }\n",
       "\n",
       "    .dataframe tbody tr th {\n",
       "        vertical-align: top;\n",
       "    }\n",
       "\n",
       "    .dataframe thead th {\n",
       "        text-align: right;\n",
       "    }\n",
       "</style>\n",
       "<table border=\"1\" class=\"dataframe\">\n",
       "  <thead>\n",
       "    <tr style=\"text-align: right;\">\n",
       "      <th></th>\n",
       "      <th>Year</th>\n",
       "      <th>DOI</th>\n",
       "      <th>Title</th>\n",
       "      <th>OpenAlex Year</th>\n",
       "      <th>OpenAlex Publication Date</th>\n",
       "      <th>OpenAlex ID</th>\n",
       "      <th>OpenAlex Title</th>\n",
       "      <th>OpenAlex DOI</th>\n",
       "      <th>OpenAlex URL</th>\n",
       "      <th>OpenAlex Venue ID</th>\n",
       "      <th>...</th>\n",
       "      <th>OpenAlex First Page</th>\n",
       "      <th>OpenAlex Last Page</th>\n",
       "      <th>Number of Pages</th>\n",
       "      <th>Number of References</th>\n",
       "      <th>Number of Authors</th>\n",
       "      <th>Number of Concepts</th>\n",
       "      <th>Number of Citations</th>\n",
       "      <th>Citation API URL</th>\n",
       "      <th>Number of Citation API URLs</th>\n",
       "      <th>DOI_URL</th>\n",
       "    </tr>\n",
       "  </thead>\n",
       "  <tbody>\n",
       "  </tbody>\n",
       "</table>\n",
       "<p>0 rows × 23 columns</p>\n",
       "</div>"
      ],
      "text/plain": [
       "Empty DataFrame\n",
       "Columns: [Year, DOI, Title, OpenAlex Year, OpenAlex Publication Date, OpenAlex ID, OpenAlex Title, OpenAlex DOI, OpenAlex URL, OpenAlex Venue ID, OpenAlex Venue Name, OpenAlex Publisher, Publication Type, OpenAlex First Page, OpenAlex Last Page, Number of Pages, Number of References, Number of Authors, Number of Concepts, Number of Citations, Citation API URL, Number of Citation API URLs, DOI_URL]\n",
       "Index: []\n",
       "\n",
       "[0 rows x 23 columns]"
      ]
     },
     "execution_count": 20,
     "metadata": {},
     "output_type": "execute_result"
    }
   ],
   "source": [
    "# first, filter out those without openalex id\n",
    "no_nan_df = df.dropna(subset=['OpenAlex ID'])\n",
    "# create a new column based on DOI; the purpose is to compare it with OpenAlex DOI\n",
    "no_nan_df = no_nan_df.assign(DOI_URL = [re.sub(r'^', 'https://doi.org/', doi) for doi in no_nan_df.DOI])\n",
    "# then, show rows where both title and doi do not match\n",
    "no_nan_df[(no_nan_df.Title.str.lower() != no_nan_df['OpenAlex Title'].str.lower()) & (\n",
    "    no_nan_df['OpenAlex DOI'].str.lower() != no_nan_df['DOI_URL'].str.lower()\n",
    ")]"
   ]
  },
  {
   "cell_type": "code",
   "execution_count": 21,
   "id": "7093de43",
   "metadata": {},
   "outputs": [],
   "source": [
    "# all papers above are matched correctly\n",
    "# EVERYTHING CORRECT\n",
    "wrong_match_dois = [\n",
    "]"
   ]
  },
  {
   "cell_type": "code",
   "execution_count": 22,
   "id": "ea365421",
   "metadata": {},
   "outputs": [
    {
     "data": {
      "text/plain": [
       "(3240, 22)"
      ]
     },
     "execution_count": 22,
     "metadata": {},
     "output_type": "execute_result"
    }
   ],
   "source": [
    "# there are a totle of 3,240 papers, correct\n",
    "df.shape"
   ]
  },
  {
   "cell_type": "code",
   "execution_count": null,
   "id": "50928395",
   "metadata": {},
   "outputs": [],
   "source": []
  }
 ],
 "metadata": {
  "kernelspec": {
   "display_name": "Python 3 (ipykernel)",
   "language": "python",
   "name": "python3"
  },
  "language_info": {
   "codemirror_mode": {
    "name": "ipython",
    "version": 3
   },
   "file_extension": ".py",
   "mimetype": "text/x-python",
   "name": "python",
   "nbconvert_exporter": "python",
   "pygments_lexer": "ipython3",
   "version": "3.8.12"
  }
 },
 "nbformat": 4,
 "nbformat_minor": 5
}
