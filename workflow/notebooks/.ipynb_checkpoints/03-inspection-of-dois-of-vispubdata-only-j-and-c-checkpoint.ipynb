{
 "cells": [
  {
   "cell_type": "markdown",
   "id": "58b30815",
   "metadata": {},
   "source": [
    "# Analyzing the validity of paper DOIs in VisPubData\n",
    "\n",
    "**REMEMBER THAT THERE ARE AT LEAST TWO PAPERS THAT CANNOT BE ACCESSED ON IEEE!**\n",
    "\n",
    "Vispubdata:\n",
    "  - [paper](https://ieeexplore.ieee.org/abstract/document/7583708)\n",
    "  - [dataset website](https://sites.google.com/site/vispubdata/home)\n",
    "  - [raw data in Google Spreadsheet](https://docs.google.com/spreadsheets/d/1xgoOPu28dQSSGPIp_HHQs0uvvcyLNdkMF9XtRajhhxU/edit#gid=939249534)\n",
    "  \n",
    "I've downloaded the raw data of VisPubData into a csv file: `vispubdata`, located in `Data/Raw/Vispubdata.csv`.\n",
    "\n",
    "## Log:\n",
    "\n",
    "- 2022-01-09: This is the date when the notebook was created. \n",
    "\n",
    "- 2022-01-15: I updated this notebook. I added '10.1109/VIS.1999.10000' to good_urls. For duplicates, I delete DOIS that are not accessible on OpenAlex. Specifically, I deleted two DOIs. The final output is a `txt` file containing 3390 DOIs. I changed the txt filename to `vispd_good_dois.txt`.\n",
    "\n",
    "- 2022-01-29: I removed papers with type of 'M' and redid the analysis. "
   ]
  },
  {
   "cell_type": "code",
   "execution_count": 1,
   "id": "b5711499",
   "metadata": {},
   "outputs": [],
   "source": [
    "# loading pacakges\n",
    "import pandas as pd\n",
    "import numpy as np\n",
    "import re\n",
    "from functools import reduce\n",
    "import random"
   ]
  },
  {
   "cell_type": "code",
   "execution_count": 2,
   "id": "859ec558",
   "metadata": {
    "scrolled": false
   },
   "outputs": [
    {
     "data": {
      "text/html": [
       "<div>\n",
       "<style scoped>\n",
       "    .dataframe tbody tr th:only-of-type {\n",
       "        vertical-align: middle;\n",
       "    }\n",
       "\n",
       "    .dataframe tbody tr th {\n",
       "        vertical-align: top;\n",
       "    }\n",
       "\n",
       "    .dataframe thead th {\n",
       "        text-align: right;\n",
       "    }\n",
       "</style>\n",
       "<table border=\"1\" class=\"dataframe\">\n",
       "  <thead>\n",
       "    <tr style=\"text-align: right;\">\n",
       "      <th></th>\n",
       "      <th>Conference</th>\n",
       "      <th>Year</th>\n",
       "      <th>Title</th>\n",
       "      <th>DOI</th>\n",
       "      <th>Link</th>\n",
       "      <th>FirstPage</th>\n",
       "      <th>LastPage</th>\n",
       "      <th>PaperType</th>\n",
       "      <th>Abstract</th>\n",
       "      <th>AuthorNames-Deduped</th>\n",
       "      <th>AuthorNames</th>\n",
       "      <th>AuthorAffiliation</th>\n",
       "      <th>InternalReferences</th>\n",
       "      <th>AuthorKeywords</th>\n",
       "      <th>AminerCitationCount_04-2020</th>\n",
       "      <th>XploreCitationCount - 2021-02</th>\n",
       "      <th>PubsCited</th>\n",
       "      <th>Award</th>\n",
       "    </tr>\n",
       "  </thead>\n",
       "  <tbody>\n",
       "    <tr>\n",
       "      <th>0</th>\n",
       "      <td>InfoVis</td>\n",
       "      <td>2011</td>\n",
       "      <td>D³ Data-Driven Documents</td>\n",
       "      <td>10.1109/TVCG.2011.185</td>\n",
       "      <td>http://dx.doi.org/10.1109/TVCG.2011.185</td>\n",
       "      <td>2301</td>\n",
       "      <td>2309</td>\n",
       "      <td>J</td>\n",
       "      <td>Data-Driven Documents (D3) is a novel represen...</td>\n",
       "      <td>Michael Bostock;Vadim Ogievetsky;Jeffrey Heer</td>\n",
       "      <td>Michael Bostock;Vadim Ogievetsky;Jeffrey Heer</td>\n",
       "      <td>NaN</td>\n",
       "      <td>10.1109/INFVIS.2000.885091;10.1109/INFVIS.2000...</td>\n",
       "      <td>Information visualization, user interfaces, to...</td>\n",
       "      <td>1537.0</td>\n",
       "      <td>1197.0</td>\n",
       "      <td>41.0</td>\n",
       "      <td>NaN</td>\n",
       "    </tr>\n",
       "    <tr>\n",
       "      <th>1</th>\n",
       "      <td>Vis</td>\n",
       "      <td>1991</td>\n",
       "      <td>Tree-maps: a space-filling approach to the vis...</td>\n",
       "      <td>10.1109/VISUAL.1991.175815</td>\n",
       "      <td>http://dx.doi.org/10.1109/VISUAL.1991.175815</td>\n",
       "      <td>284</td>\n",
       "      <td>291</td>\n",
       "      <td>C</td>\n",
       "      <td>A method for visualizing hierarchically struct...</td>\n",
       "      <td>Brian Johnson;Ben Shneiderman</td>\n",
       "      <td>B. Johnson;B. Shneiderman</td>\n",
       "      <td>Dept. of Comput. Sci., Maryland Univ., College...</td>\n",
       "      <td>NaN</td>\n",
       "      <td>NaN</td>\n",
       "      <td>1132.0</td>\n",
       "      <td>423.0</td>\n",
       "      <td>23.0</td>\n",
       "      <td>NaN</td>\n",
       "    </tr>\n",
       "    <tr>\n",
       "      <th>2</th>\n",
       "      <td>Vis</td>\n",
       "      <td>1990</td>\n",
       "      <td>Parallel coordinates: a tool for visualizing m...</td>\n",
       "      <td>10.1109/VISUAL.1990.146402</td>\n",
       "      <td>http://dx.doi.org/10.1109/VISUAL.1990.146402</td>\n",
       "      <td>361</td>\n",
       "      <td>378</td>\n",
       "      <td>C</td>\n",
       "      <td>A methodology for visualizing analytic and syn...</td>\n",
       "      <td>Alfred Inselberg;Bernard Dimsdale</td>\n",
       "      <td>A. Inselberg;B. Dimsdale</td>\n",
       "      <td>IBM Sci. Center, Los Angeles, CA, USA;IBM Sci....</td>\n",
       "      <td>NaN</td>\n",
       "      <td>NaN</td>\n",
       "      <td>963.0</td>\n",
       "      <td>373.0</td>\n",
       "      <td>47.0</td>\n",
       "      <td>NaN</td>\n",
       "    </tr>\n",
       "    <tr>\n",
       "      <th>3</th>\n",
       "      <td>InfoVis</td>\n",
       "      <td>2006</td>\n",
       "      <td>Hierarchical Edge Bundles: Visualization of Ad...</td>\n",
       "      <td>10.1109/TVCG.2006.147</td>\n",
       "      <td>http://dx.doi.org/10.1109/TVCG.2006.147</td>\n",
       "      <td>741</td>\n",
       "      <td>748</td>\n",
       "      <td>J</td>\n",
       "      <td>A compound graph is a frequently encountered t...</td>\n",
       "      <td>Danny Holten</td>\n",
       "      <td>Danny Holten</td>\n",
       "      <td>NaN</td>\n",
       "      <td>10.1109/INFVIS.2004.1;10.1109/INFVIS.2003.1249...</td>\n",
       "      <td>Network visualization, edge bundling, edge agg...</td>\n",
       "      <td>700.0</td>\n",
       "      <td>507.0</td>\n",
       "      <td>33.0</td>\n",
       "      <td>TT;BP</td>\n",
       "    </tr>\n",
       "    <tr>\n",
       "      <th>4</th>\n",
       "      <td>Vis</td>\n",
       "      <td>1997</td>\n",
       "      <td>ROAMing terrain: Real-time Optimally Adapting ...</td>\n",
       "      <td>10.1109/VISUAL.1997.663860</td>\n",
       "      <td>http://dx.doi.org/10.1109/VISUAL.1997.663860</td>\n",
       "      <td>81</td>\n",
       "      <td>88</td>\n",
       "      <td>C</td>\n",
       "      <td>Terrain visualization is a difficult problem f...</td>\n",
       "      <td>Mark A. Duchaineau;Murray Wolinsky;David E. Si...</td>\n",
       "      <td>M. Duchaineau;M. Wolinsky;D.E. Sigeti;M.C. Mil...</td>\n",
       "      <td>Los Alamos Nat. Lab., NM, USA</td>\n",
       "      <td>10.1109/VISUAL.1996.567600;10.1109/VISUAL.1996...</td>\n",
       "      <td>triangle bintree, view-dependent mesh, frame-t...</td>\n",
       "      <td>615.0</td>\n",
       "      <td>207.0</td>\n",
       "      <td>19.0</td>\n",
       "      <td>NaN</td>\n",
       "    </tr>\n",
       "    <tr>\n",
       "      <th>...</th>\n",
       "      <td>...</td>\n",
       "      <td>...</td>\n",
       "      <td>...</td>\n",
       "      <td>...</td>\n",
       "      <td>...</td>\n",
       "      <td>...</td>\n",
       "      <td>...</td>\n",
       "      <td>...</td>\n",
       "      <td>...</td>\n",
       "      <td>...</td>\n",
       "      <td>...</td>\n",
       "      <td>...</td>\n",
       "      <td>...</td>\n",
       "      <td>...</td>\n",
       "      <td>...</td>\n",
       "      <td>...</td>\n",
       "      <td>...</td>\n",
       "      <td>...</td>\n",
       "    </tr>\n",
       "    <tr>\n",
       "      <th>3389</th>\n",
       "      <td>VAST</td>\n",
       "      <td>2020</td>\n",
       "      <td>Visual Analytics of Multivariate Event Sequenc...</td>\n",
       "      <td>10.1109/VAST50239.2020.00009</td>\n",
       "      <td>http://dx.doi.org/10.1109/VAST50239.2020.00009</td>\n",
       "      <td>36</td>\n",
       "      <td>47</td>\n",
       "      <td>C</td>\n",
       "      <td>In this work, we propose a generic visual anal...</td>\n",
       "      <td>Jiang Wu;Ziyang Guo;Zuobin Wang;Qingyang Xu;Yi...</td>\n",
       "      <td>Jiang Wu;Ziyang Guo;Zuobin Wang;Qingyang Xu;Yi...</td>\n",
       "      <td>Zhejiang University,The State Key Lab of CAD&amp;C...</td>\n",
       "      <td>10.1109/TVCG.2019.2934209,10.1109/TVCG.2017.27...</td>\n",
       "      <td>Sports Analytics,Event Sequence,Multivariate D...</td>\n",
       "      <td>NaN</td>\n",
       "      <td>0.0</td>\n",
       "      <td>55.0</td>\n",
       "      <td>NaN</td>\n",
       "    </tr>\n",
       "    <tr>\n",
       "      <th>3390</th>\n",
       "      <td>VAST</td>\n",
       "      <td>2020</td>\n",
       "      <td>Visual Causality Analysis of Event Sequence Data</td>\n",
       "      <td>10.1109/TVCG.2020.3030465</td>\n",
       "      <td>http://dx.doi.org/10.1109/TVCG.2020.3030465</td>\n",
       "      <td>1343</td>\n",
       "      <td>1352</td>\n",
       "      <td>J</td>\n",
       "      <td>Causality is crucial to understanding the mech...</td>\n",
       "      <td>Zhuochen Jin;Shunan Guo;Nan Chen;Daniel Weisko...</td>\n",
       "      <td>Zhuochen Jin;Shunan Guo;Nan Chen;Daniel Weisko...</td>\n",
       "      <td>iDVx Lab at Tongji University;iDVx Lab at Tong...</td>\n",
       "      <td>10.1109/INFVIS.2003.1249025,10.1109/TVCG.2014....</td>\n",
       "      <td>Event sequence data,causality analysis,visual ...</td>\n",
       "      <td>NaN</td>\n",
       "      <td>0.0</td>\n",
       "      <td>53.0</td>\n",
       "      <td>NaN</td>\n",
       "    </tr>\n",
       "    <tr>\n",
       "      <th>3391</th>\n",
       "      <td>VAST</td>\n",
       "      <td>2020</td>\n",
       "      <td>Visual cohort comparison for spatial single-ce...</td>\n",
       "      <td>10.1109/TVCG.2020.3030336</td>\n",
       "      <td>http://dx.doi.org/10.1109/TVCG.2020.3030336</td>\n",
       "      <td>733</td>\n",
       "      <td>743</td>\n",
       "      <td>J</td>\n",
       "      <td>Spatially-resolved omics-data enable researche...</td>\n",
       "      <td>Antonios Somarakis;Marieke E. Ijsselsteijn;Sie...</td>\n",
       "      <td>Antonios Somarakis;Marieke E. Ijsselsteijn;Sie...</td>\n",
       "      <td>Department of Radiology, Division of Image Pro...</td>\n",
       "      <td>10.1109/TVCG.2013.124,10.1109/TVCG.2018.286490...</td>\n",
       "      <td>Visual analytics,Imaging Mass Cytometry,Vectra...</td>\n",
       "      <td>NaN</td>\n",
       "      <td>0.0</td>\n",
       "      <td>58.0</td>\n",
       "      <td>NaN</td>\n",
       "    </tr>\n",
       "    <tr>\n",
       "      <th>3392</th>\n",
       "      <td>VAST</td>\n",
       "      <td>2020</td>\n",
       "      <td>Visual Neural Decomposition to Explain Multiva...</td>\n",
       "      <td>10.1109/TVCG.2020.3030420</td>\n",
       "      <td>http://dx.doi.org/10.1109/TVCG.2020.3030420</td>\n",
       "      <td>1374</td>\n",
       "      <td>1384</td>\n",
       "      <td>J</td>\n",
       "      <td>Investigating relationships between variables ...</td>\n",
       "      <td>Johannes Knittel;Andres Lalama;Steffen Koch;Th...</td>\n",
       "      <td>Johannes Knittel;Andres Lalama;Steffen Koch;Th...</td>\n",
       "      <td>University of Stuttgart;University of Stuttgar...</td>\n",
       "      <td>10.1109/INFVIS.2004.68,10.1109/VAST.2008.46773...</td>\n",
       "      <td>Visual Analytics,Multivariate Data Analysis,Ma...</td>\n",
       "      <td>NaN</td>\n",
       "      <td>0.0</td>\n",
       "      <td>64.0</td>\n",
       "      <td>NaN</td>\n",
       "    </tr>\n",
       "    <tr>\n",
       "      <th>3393</th>\n",
       "      <td>VAST</td>\n",
       "      <td>2020</td>\n",
       "      <td>VizCommender: Computing Text-Based Similarity ...</td>\n",
       "      <td>10.1109/TVCG.2020.3030387</td>\n",
       "      <td>http://dx.doi.org/10.1109/TVCG.2020.3030387</td>\n",
       "      <td>495</td>\n",
       "      <td>505</td>\n",
       "      <td>J</td>\n",
       "      <td>Cloud-based visualization services have made v...</td>\n",
       "      <td>Michael Oppermann;Robert Kincaid;Tamara Munzner</td>\n",
       "      <td>Michael Oppermann;Robert Kincaid;Tamara Munzner</td>\n",
       "      <td>Tableau Research and the University of British...</td>\n",
       "      <td>10.1109/TVCG.2015.2467757,10.1109/TVCG.2014.23...</td>\n",
       "      <td>visualization recommendation,content-based fil...</td>\n",
       "      <td>NaN</td>\n",
       "      <td>0.0</td>\n",
       "      <td>82.0</td>\n",
       "      <td>NaN</td>\n",
       "    </tr>\n",
       "  </tbody>\n",
       "</table>\n",
       "<p>3394 rows × 18 columns</p>\n",
       "</div>"
      ],
      "text/plain": [
       "     Conference  Year                                              Title  \\\n",
       "0       InfoVis  2011                           D³ Data-Driven Documents   \n",
       "1           Vis  1991  Tree-maps: a space-filling approach to the vis...   \n",
       "2           Vis  1990  Parallel coordinates: a tool for visualizing m...   \n",
       "3       InfoVis  2006  Hierarchical Edge Bundles: Visualization of Ad...   \n",
       "4           Vis  1997  ROAMing terrain: Real-time Optimally Adapting ...   \n",
       "...         ...   ...                                                ...   \n",
       "3389       VAST  2020  Visual Analytics of Multivariate Event Sequenc...   \n",
       "3390       VAST  2020   Visual Causality Analysis of Event Sequence Data   \n",
       "3391       VAST  2020  Visual cohort comparison for spatial single-ce...   \n",
       "3392       VAST  2020  Visual Neural Decomposition to Explain Multiva...   \n",
       "3393       VAST  2020  VizCommender: Computing Text-Based Similarity ...   \n",
       "\n",
       "                               DOI  \\\n",
       "0            10.1109/TVCG.2011.185   \n",
       "1       10.1109/VISUAL.1991.175815   \n",
       "2       10.1109/VISUAL.1990.146402   \n",
       "3            10.1109/TVCG.2006.147   \n",
       "4       10.1109/VISUAL.1997.663860   \n",
       "...                            ...   \n",
       "3389  10.1109/VAST50239.2020.00009   \n",
       "3390     10.1109/TVCG.2020.3030465   \n",
       "3391     10.1109/TVCG.2020.3030336   \n",
       "3392     10.1109/TVCG.2020.3030420   \n",
       "3393     10.1109/TVCG.2020.3030387   \n",
       "\n",
       "                                                Link FirstPage LastPage  \\\n",
       "0            http://dx.doi.org/10.1109/TVCG.2011.185      2301     2309   \n",
       "1       http://dx.doi.org/10.1109/VISUAL.1991.175815       284      291   \n",
       "2       http://dx.doi.org/10.1109/VISUAL.1990.146402       361      378   \n",
       "3            http://dx.doi.org/10.1109/TVCG.2006.147       741      748   \n",
       "4       http://dx.doi.org/10.1109/VISUAL.1997.663860        81       88   \n",
       "...                                              ...       ...      ...   \n",
       "3389  http://dx.doi.org/10.1109/VAST50239.2020.00009        36       47   \n",
       "3390     http://dx.doi.org/10.1109/TVCG.2020.3030465      1343     1352   \n",
       "3391     http://dx.doi.org/10.1109/TVCG.2020.3030336       733      743   \n",
       "3392     http://dx.doi.org/10.1109/TVCG.2020.3030420      1374     1384   \n",
       "3393     http://dx.doi.org/10.1109/TVCG.2020.3030387       495      505   \n",
       "\n",
       "     PaperType                                           Abstract  \\\n",
       "0            J  Data-Driven Documents (D3) is a novel represen...   \n",
       "1            C  A method for visualizing hierarchically struct...   \n",
       "2            C  A methodology for visualizing analytic and syn...   \n",
       "3            J  A compound graph is a frequently encountered t...   \n",
       "4            C  Terrain visualization is a difficult problem f...   \n",
       "...        ...                                                ...   \n",
       "3389         C  In this work, we propose a generic visual anal...   \n",
       "3390         J  Causality is crucial to understanding the mech...   \n",
       "3391         J  Spatially-resolved omics-data enable researche...   \n",
       "3392         J  Investigating relationships between variables ...   \n",
       "3393         J  Cloud-based visualization services have made v...   \n",
       "\n",
       "                                    AuthorNames-Deduped  \\\n",
       "0         Michael Bostock;Vadim Ogievetsky;Jeffrey Heer   \n",
       "1                         Brian Johnson;Ben Shneiderman   \n",
       "2                     Alfred Inselberg;Bernard Dimsdale   \n",
       "3                                          Danny Holten   \n",
       "4     Mark A. Duchaineau;Murray Wolinsky;David E. Si...   \n",
       "...                                                 ...   \n",
       "3389  Jiang Wu;Ziyang Guo;Zuobin Wang;Qingyang Xu;Yi...   \n",
       "3390  Zhuochen Jin;Shunan Guo;Nan Chen;Daniel Weisko...   \n",
       "3391  Antonios Somarakis;Marieke E. Ijsselsteijn;Sie...   \n",
       "3392  Johannes Knittel;Andres Lalama;Steffen Koch;Th...   \n",
       "3393    Michael Oppermann;Robert Kincaid;Tamara Munzner   \n",
       "\n",
       "                                            AuthorNames  \\\n",
       "0         Michael Bostock;Vadim Ogievetsky;Jeffrey Heer   \n",
       "1                             B. Johnson;B. Shneiderman   \n",
       "2                              A. Inselberg;B. Dimsdale   \n",
       "3                                          Danny Holten   \n",
       "4     M. Duchaineau;M. Wolinsky;D.E. Sigeti;M.C. Mil...   \n",
       "...                                                 ...   \n",
       "3389  Jiang Wu;Ziyang Guo;Zuobin Wang;Qingyang Xu;Yi...   \n",
       "3390  Zhuochen Jin;Shunan Guo;Nan Chen;Daniel Weisko...   \n",
       "3391  Antonios Somarakis;Marieke E. Ijsselsteijn;Sie...   \n",
       "3392  Johannes Knittel;Andres Lalama;Steffen Koch;Th...   \n",
       "3393    Michael Oppermann;Robert Kincaid;Tamara Munzner   \n",
       "\n",
       "                                      AuthorAffiliation  \\\n",
       "0                                                   NaN   \n",
       "1     Dept. of Comput. Sci., Maryland Univ., College...   \n",
       "2     IBM Sci. Center, Los Angeles, CA, USA;IBM Sci....   \n",
       "3                                                   NaN   \n",
       "4                         Los Alamos Nat. Lab., NM, USA   \n",
       "...                                                 ...   \n",
       "3389  Zhejiang University,The State Key Lab of CAD&C...   \n",
       "3390  iDVx Lab at Tongji University;iDVx Lab at Tong...   \n",
       "3391  Department of Radiology, Division of Image Pro...   \n",
       "3392  University of Stuttgart;University of Stuttgar...   \n",
       "3393  Tableau Research and the University of British...   \n",
       "\n",
       "                                     InternalReferences  \\\n",
       "0     10.1109/INFVIS.2000.885091;10.1109/INFVIS.2000...   \n",
       "1                                                   NaN   \n",
       "2                                                   NaN   \n",
       "3     10.1109/INFVIS.2004.1;10.1109/INFVIS.2003.1249...   \n",
       "4     10.1109/VISUAL.1996.567600;10.1109/VISUAL.1996...   \n",
       "...                                                 ...   \n",
       "3389  10.1109/TVCG.2019.2934209,10.1109/TVCG.2017.27...   \n",
       "3390  10.1109/INFVIS.2003.1249025,10.1109/TVCG.2014....   \n",
       "3391  10.1109/TVCG.2013.124,10.1109/TVCG.2018.286490...   \n",
       "3392  10.1109/INFVIS.2004.68,10.1109/VAST.2008.46773...   \n",
       "3393  10.1109/TVCG.2015.2467757,10.1109/TVCG.2014.23...   \n",
       "\n",
       "                                         AuthorKeywords  \\\n",
       "0     Information visualization, user interfaces, to...   \n",
       "1                                                   NaN   \n",
       "2                                                   NaN   \n",
       "3     Network visualization, edge bundling, edge agg...   \n",
       "4     triangle bintree, view-dependent mesh, frame-t...   \n",
       "...                                                 ...   \n",
       "3389  Sports Analytics,Event Sequence,Multivariate D...   \n",
       "3390  Event sequence data,causality analysis,visual ...   \n",
       "3391  Visual analytics,Imaging Mass Cytometry,Vectra...   \n",
       "3392  Visual Analytics,Multivariate Data Analysis,Ma...   \n",
       "3393  visualization recommendation,content-based fil...   \n",
       "\n",
       "      AminerCitationCount_04-2020  XploreCitationCount - 2021-02  PubsCited  \\\n",
       "0                          1537.0                         1197.0       41.0   \n",
       "1                          1132.0                          423.0       23.0   \n",
       "2                           963.0                          373.0       47.0   \n",
       "3                           700.0                          507.0       33.0   \n",
       "4                           615.0                          207.0       19.0   \n",
       "...                           ...                            ...        ...   \n",
       "3389                          NaN                            0.0       55.0   \n",
       "3390                          NaN                            0.0       53.0   \n",
       "3391                          NaN                            0.0       58.0   \n",
       "3392                          NaN                            0.0       64.0   \n",
       "3393                          NaN                            0.0       82.0   \n",
       "\n",
       "      Award  \n",
       "0       NaN  \n",
       "1       NaN  \n",
       "2       NaN  \n",
       "3     TT;BP  \n",
       "4       NaN  \n",
       "...     ...  \n",
       "3389    NaN  \n",
       "3390    NaN  \n",
       "3391    NaN  \n",
       "3392    NaN  \n",
       "3393    NaN  \n",
       "\n",
       "[3394 rows x 18 columns]"
      ]
     },
     "execution_count": 2,
     "metadata": {},
     "output_type": "execute_result"
    }
   ],
   "source": [
    "# import raw data\n",
    "vispd = pd.read_csv(\"../../data/raw/vispubdata.csv\")\n",
    "vispd"
   ]
  },
  {
   "cell_type": "code",
   "execution_count": 3,
   "id": "65ae82d7",
   "metadata": {},
   "outputs": [
    {
     "data": {
      "text/plain": [
       "(3394, 18)"
      ]
     },
     "execution_count": 3,
     "metadata": {},
     "output_type": "execute_result"
    }
   ],
   "source": [
    "vispd.shape"
   ]
  },
  {
   "cell_type": "code",
   "execution_count": 4,
   "id": "b0ba44e7",
   "metadata": {},
   "outputs": [],
   "source": [
    "# paper types I want\n",
    "jc = ['J', 'C']"
   ]
  },
  {
   "cell_type": "code",
   "execution_count": 5,
   "id": "6fe359c9",
   "metadata": {},
   "outputs": [],
   "source": [
    "# only include papers with the paper type of 'J' or 'C'\n",
    "vispd = vispd[vispd['PaperType'].isin(jc)]"
   ]
  },
  {
   "cell_type": "markdown",
   "id": "2f036224",
   "metadata": {},
   "source": [
    "## Number of papers"
   ]
  },
  {
   "cell_type": "code",
   "execution_count": 6,
   "id": "90c3980d",
   "metadata": {},
   "outputs": [
    {
     "name": "stdout",
     "output_type": "stream",
     "text": [
      "The dataset contains 3073 publications.\n"
     ]
    }
   ],
   "source": [
    "num_pub = vispd.shape[0]\n",
    "print(f'The dataset contains {num_pub} publications.')"
   ]
  },
  {
   "cell_type": "markdown",
   "id": "0a9884f1",
   "metadata": {},
   "source": [
    "## Title duplicates checking"
   ]
  },
  {
   "cell_type": "code",
   "execution_count": 9,
   "id": "2fadce26",
   "metadata": {},
   "outputs": [
    {
     "data": {
      "text/plain": [
       "True"
      ]
     },
     "execution_count": 9,
     "metadata": {},
     "output_type": "execute_result"
    }
   ],
   "source": [
    "## This result indicates that there are no duplicates in titles\n",
    "len(list(set(vispd.Title))) == vispd.shape[0]"
   ]
  },
  {
   "cell_type": "markdown",
   "id": "f16ddd18",
   "metadata": {},
   "source": [
    "## Extract the DOI"
   ]
  },
  {
   "cell_type": "code",
   "execution_count": 9,
   "id": "0282dbeb",
   "metadata": {},
   "outputs": [
    {
     "data": {
      "text/plain": [
       "['10.1109/VAST.2011.6102448',\n",
       " '10.1109/TVCG.2007.70604',\n",
       " '10.1109/INFVIS.2002.1173154',\n",
       " '10.1109/TVCG.2006.197',\n",
       " '10.1109/TVCG.2011.214',\n",
       " '10.1109/VAST.2014.7042494',\n",
       " '10.1109/INFVIS.2002.1173162',\n",
       " '10.1109/TVCG.2010.186',\n",
       " '10.1109/INFVIS.1997.636789',\n",
       " '10.1109/TVCG.2015.2467413']"
      ]
     },
     "execution_count": 9,
     "metadata": {},
     "output_type": "execute_result"
    }
   ],
   "source": [
    "dois = vispd.loc[:, \"DOI\"].tolist()\n",
    "random.sample(dois, 10)"
   ]
  },
  {
   "cell_type": "markdown",
   "id": "12e04dd5",
   "metadata": {},
   "source": [
    "We can see that most papers have this pattern: '10.1109' followed by 'TVCG', 'VAST', 'VISUAL', 'SciVis', or 'INFVIS', and then some random numbers. "
   ]
  },
  {
   "cell_type": "markdown",
   "id": "9a3b0513",
   "metadata": {},
   "source": [
    "### Identifying invalid DOI \n",
    "\n",
    "I know that there are several invalid paper DOIs. I want to find out what and where they are. Most papers have the string of `10.1109`, which indicates the journal of IEEE Visualization conference, I guess. Then, papers that do not contain this string must be different, if not invalid. \n",
    "\n",
    "To find out whether every paper DOI contains `10.1109`, I first extracted the string before the first `/` in each DOI using regular experession and put the output into a list, and then find out the unique elements in that list. "
   ]
  },
  {
   "cell_type": "code",
   "execution_count": 10,
   "id": "4029e5ef",
   "metadata": {},
   "outputs": [
    {
     "data": {
      "text/plain": [
       "'10.1109'"
      ]
     },
     "execution_count": 10,
     "metadata": {},
     "output_type": "execute_result"
    }
   ],
   "source": [
    "# first_num here indicates the first number before `/` in each doi. \n",
    "first_num_list = [re.sub('\\/(.*)', '', i) for i in dois] \n",
    "# credit of the above code goes to: https://stackoverflow.com/a/4419021\n",
    "first_num_list[1]"
   ]
  },
  {
   "cell_type": "code",
   "execution_count": 11,
   "id": "6dd32060",
   "metadata": {},
   "outputs": [
    {
     "data": {
      "text/plain": [
       "{'10.1109': None, '10.0000': None}"
      ]
     },
     "execution_count": 11,
     "metadata": {},
     "output_type": "execute_result"
    }
   ],
   "source": [
    "# Find out unique strings in first_num_list\n",
    "# Method 1: `dict.fromkeys()`\n",
    "dict.fromkeys(first_num_list)"
   ]
  },
  {
   "cell_type": "code",
   "execution_count": 12,
   "id": "3e1ab922",
   "metadata": {},
   "outputs": [
    {
     "data": {
      "text/plain": [
       "['10.1109', '10.0000']"
      ]
     },
     "execution_count": 12,
     "metadata": {},
     "output_type": "execute_result"
    }
   ],
   "source": [
    "unique = list(dict.fromkeys(first_num_list))\n",
    "unique"
   ]
  },
  {
   "cell_type": "code",
   "execution_count": 13,
   "id": "1d3a2525",
   "metadata": {},
   "outputs": [
    {
     "data": {
      "text/plain": [
       "['10.0000', '10.1109']"
      ]
     },
     "execution_count": 13,
     "metadata": {},
     "output_type": "execute_result"
    }
   ],
   "source": [
    "# Method 2: set\n",
    "unique = list(set(first_num_list))\n",
    "unique"
   ]
  },
  {
   "cell_type": "markdown",
   "id": "fad07687",
   "metadata": {},
   "source": [
    "I now know there are only two unique strings. I want to know the count of the \"irregular\" string: '10.0000'"
   ]
  },
  {
   "cell_type": "code",
   "execution_count": 15,
   "id": "d13d168d",
   "metadata": {},
   "outputs": [
    {
     "data": {
      "text/plain": [
       "1"
      ]
     },
     "execution_count": 15,
     "metadata": {},
     "output_type": "execute_result"
    }
   ],
   "source": [
    "first_num_list.count('10.0000')"
   ]
  },
  {
   "cell_type": "markdown",
   "id": "38fdd02f",
   "metadata": {},
   "source": [
    "## False papers' information"
   ]
  },
  {
   "cell_type": "markdown",
   "id": "854477ee",
   "metadata": {},
   "source": [
    "Now I know there are only one paper that contain the irregular string of '10.0000'. I want to which paper it is:"
   ]
  },
  {
   "cell_type": "code",
   "execution_count": 16,
   "id": "e12f82da",
   "metadata": {},
   "outputs": [
    {
     "name": "stdout",
     "output_type": "stream",
     "text": [
      "10.0000/00000001\n"
     ]
    }
   ],
   "source": [
    "## These two papers' full doi:\n",
    "for doi in dois:\n",
    "    if '10.0000' in doi:\n",
    "        print(doi)"
   ]
  },
  {
   "cell_type": "code",
   "execution_count": 17,
   "id": "58f6f816",
   "metadata": {},
   "outputs": [
    {
     "data": {
      "text/html": [
       "<div>\n",
       "<style scoped>\n",
       "    .dataframe tbody tr th:only-of-type {\n",
       "        vertical-align: middle;\n",
       "    }\n",
       "\n",
       "    .dataframe tbody tr th {\n",
       "        vertical-align: top;\n",
       "    }\n",
       "\n",
       "    .dataframe thead th {\n",
       "        text-align: right;\n",
       "    }\n",
       "</style>\n",
       "<table border=\"1\" class=\"dataframe\">\n",
       "  <thead>\n",
       "    <tr style=\"text-align: right;\">\n",
       "      <th></th>\n",
       "      <th>Conference</th>\n",
       "      <th>Year</th>\n",
       "      <th>Title</th>\n",
       "      <th>DOI</th>\n",
       "      <th>Link</th>\n",
       "      <th>FirstPage</th>\n",
       "      <th>LastPage</th>\n",
       "      <th>PaperType</th>\n",
       "      <th>Abstract</th>\n",
       "      <th>AuthorNames-Deduped</th>\n",
       "      <th>AuthorNames</th>\n",
       "      <th>AuthorAffiliation</th>\n",
       "      <th>InternalReferences</th>\n",
       "      <th>AuthorKeywords</th>\n",
       "      <th>AminerCitationCount_04-2020</th>\n",
       "      <th>XploreCitationCount - 2021-02</th>\n",
       "      <th>PubsCited</th>\n",
       "      <th>Award</th>\n",
       "    </tr>\n",
       "  </thead>\n",
       "  <tbody>\n",
       "    <tr>\n",
       "      <th>1493</th>\n",
       "      <td>InfoVis</td>\n",
       "      <td>2000</td>\n",
       "      <td>Using Visualization to Detect Plagiarism in Co...</td>\n",
       "      <td>10.0000/00000001</td>\n",
       "      <td>http://dl.acm.org/citation.cfm?id=857699</td>\n",
       "      <td>173</td>\n",
       "      <td>NaN</td>\n",
       "      <td>C</td>\n",
       "      <td>NaN</td>\n",
       "      <td>Randy L. Ribler;Marc Abrams</td>\n",
       "      <td>NaN</td>\n",
       "      <td>NaN</td>\n",
       "      <td>10.1109/VISUAL.1993.398883;10.1109/VISUAL.1995...</td>\n",
       "      <td>NaN</td>\n",
       "      <td>23.0</td>\n",
       "      <td>NaN</td>\n",
       "      <td>NaN</td>\n",
       "      <td>NaN</td>\n",
       "    </tr>\n",
       "  </tbody>\n",
       "</table>\n",
       "</div>"
      ],
      "text/plain": [
       "     Conference  Year                                              Title  \\\n",
       "1493    InfoVis  2000  Using Visualization to Detect Plagiarism in Co...   \n",
       "\n",
       "                   DOI                                      Link FirstPage  \\\n",
       "1493  10.0000/00000001  http://dl.acm.org/citation.cfm?id=857699       173   \n",
       "\n",
       "     LastPage PaperType Abstract          AuthorNames-Deduped AuthorNames  \\\n",
       "1493      NaN         C      NaN  Randy L. Ribler;Marc Abrams         NaN   \n",
       "\n",
       "     AuthorAffiliation                                 InternalReferences  \\\n",
       "1493               NaN  10.1109/VISUAL.1993.398883;10.1109/VISUAL.1995...   \n",
       "\n",
       "     AuthorKeywords  AminerCitationCount_04-2020  \\\n",
       "1493            NaN                         23.0   \n",
       "\n",
       "      XploreCitationCount - 2021-02  PubsCited Award  \n",
       "1493                            NaN        NaN   NaN  "
      ]
     },
     "execution_count": 17,
     "metadata": {},
     "output_type": "execute_result"
    }
   ],
   "source": [
    "# Here is this paper's full information\n",
    "false_paper = vispd[vispd['DOI'].str.contains(\"10.0000\")]\n",
    "false_paper"
   ]
  },
  {
   "cell_type": "markdown",
   "id": "59b733e4",
   "metadata": {},
   "source": [
    "Its title is:\n",
    "  - *Using Visualization to Detect Plagiarism in Computer Science Classes*, \n",
    "  \n",
    "The first paper, *Using visualization to ...* exists, and there is the link: http://citeseerx.ist.psu.edu/viewdoc/download?doi=10.1.1.118.9516&rep=rep1&type=pdf. "
   ]
  },
  {
   "cell_type": "markdown",
   "id": "6e17f148",
   "metadata": {},
   "source": [
    "## Analyzing Journal Code\n",
    "\n",
    "By \"Journal Code\", I mean strings like 'TVCG', 'VAST', 'VISUAL', 'SciVis', or 'INFVIS that follow '10.1109'. "
   ]
  },
  {
   "cell_type": "code",
   "execution_count": 18,
   "id": "361a93d1",
   "metadata": {},
   "outputs": [
    {
     "data": {
      "text/plain": [
       "['VISUAL.1996.567609',\n",
       " 'TVCG.2017.2743958',\n",
       " 'VISUAL.1990.146379',\n",
       " 'TVCG.2009.141',\n",
       " 'TVCG.2018.2864827',\n",
       " 'INFVIS.1997.636778',\n",
       " 'TVCG.2006.154',\n",
       " 'VISUAL.2005.1532812',\n",
       " 'INFVIS.2001.963274',\n",
       " 'TVCG.2020.3030452']"
      ]
     },
     "execution_count": 18,
     "metadata": {},
     "output_type": "execute_result"
    }
   ],
   "source": [
    "# I first strip '10.1109/' or '10.0000/' off each doi\n",
    "doi_main = [re.sub(r'10.1109/|10.0000/', '', i) for i in dois]\n",
    "random.sample(doi_main, 10)\n",
    "# len(doi_main) = 3394"
   ]
  },
  {
   "cell_type": "code",
   "execution_count": 20,
   "id": "92601d7b",
   "metadata": {},
   "outputs": [
    {
     "name": "stdout",
     "output_type": "stream",
     "text": [
      "00000001\n"
     ]
    }
   ],
   "source": [
    "# I am interested in the outcome of the irregular DOI\n",
    "for i in doi_main:\n",
    "    if '00000002' in i or '00000001' in i:\n",
    "        print(i)"
   ]
  },
  {
   "cell_type": "code",
   "execution_count": 21,
   "id": "dbbcc6c9",
   "metadata": {},
   "outputs": [
    {
     "data": {
      "text/plain": [
       "['VISUAL',\n",
       " 'VISUAL',\n",
       " 'TVCG',\n",
       " 'TVCG',\n",
       " 'VISUAL',\n",
       " 'VISUAL',\n",
       " 'TVCG',\n",
       " 'TVCG',\n",
       " 'INFVIS',\n",
       " 'VISUAL']"
      ]
     },
     "execution_count": 21,
     "metadata": {},
     "output_type": "execute_result"
    }
   ],
   "source": [
    "# Then strip off everything after the dot following the journal code in doi_main\n",
    "journal_code_list = [re.sub('\\.(.*)', '', i) for i in doi_main] \n",
    "random.sample(journal_code_list, 10)"
   ]
  },
  {
   "cell_type": "code",
   "execution_count": 22,
   "id": "8d99c6d8",
   "metadata": {},
   "outputs": [
    {
     "data": {
      "text/plain": [
       "['TVCG',\n",
       " 'VAST47406',\n",
       " '00000001',\n",
       " 'SciVis',\n",
       " 'VAST50239',\n",
       " 'VIS',\n",
       " 'VISUAL',\n",
       " 'VAST',\n",
       " 'INFVIS']"
      ]
     },
     "execution_count": 22,
     "metadata": {},
     "output_type": "execute_result"
    }
   ],
   "source": [
    "# getting the list of unique journal code\n",
    "journal_code_unique = list(set(journal_code_list))\n",
    "journal_code_unique"
   ]
  },
  {
   "cell_type": "code",
   "execution_count": 23,
   "id": "bfcfd118",
   "metadata": {},
   "outputs": [],
   "source": [
    "# initiate a list of dictionary containing journal code name and count\n",
    "journal_code_dict_list = []"
   ]
  },
  {
   "cell_type": "code",
   "execution_count": 24,
   "id": "c806d49f",
   "metadata": {},
   "outputs": [
    {
     "data": {
      "text/html": [
       "<div>\n",
       "<style scoped>\n",
       "    .dataframe tbody tr th:only-of-type {\n",
       "        vertical-align: middle;\n",
       "    }\n",
       "\n",
       "    .dataframe tbody tr th {\n",
       "        vertical-align: top;\n",
       "    }\n",
       "\n",
       "    .dataframe thead th {\n",
       "        text-align: right;\n",
       "    }\n",
       "</style>\n",
       "<table border=\"1\" class=\"dataframe\">\n",
       "  <thead>\n",
       "    <tr style=\"text-align: right;\">\n",
       "      <th></th>\n",
       "      <th>Journal Code</th>\n",
       "      <th>Count</th>\n",
       "    </tr>\n",
       "  </thead>\n",
       "  <tbody>\n",
       "  </tbody>\n",
       "</table>\n",
       "</div>"
      ],
      "text/plain": [
       "Empty DataFrame\n",
       "Columns: [Journal Code, Count]\n",
       "Index: []"
      ]
     },
     "execution_count": 24,
     "metadata": {},
     "output_type": "execute_result"
    }
   ],
   "source": [
    "journal_code_df = pd.DataFrame(columns = [\"Journal Code\", \"Count\"])\n",
    "journal_code_df"
   ]
  },
  {
   "cell_type": "code",
   "execution_count": 25,
   "id": "caa7c4e1",
   "metadata": {},
   "outputs": [],
   "source": [
    "# for each unique journal code, get the name and the count, format it as a dict and add this dict to \n",
    "# journal_code_dict_list\n",
    "for i in journal_code_unique: \n",
    "    journal_code_dict = {'Journal Code': i, 'Count': journal_code_list.count(i)} \n",
    "    journal_code_dict_list.append(journal_code_dict)"
   ]
  },
  {
   "cell_type": "code",
   "execution_count": 26,
   "id": "df103244",
   "metadata": {},
   "outputs": [
    {
     "data": {
      "text/plain": [
       "[{'Journal Code': 'TVCG', 'Count': 1514},\n",
       " {'Journal Code': 'VAST47406', 'Count': 9},\n",
       " {'Journal Code': '00000001', 'Count': 1},\n",
       " {'Journal Code': 'SciVis', 'Count': 9},\n",
       " {'Journal Code': 'VAST50239', 'Count': 10},\n",
       " {'Journal Code': 'VIS', 'Count': 1},\n",
       " {'Journal Code': 'VISUAL', 'Count': 1054},\n",
       " {'Journal Code': 'VAST', 'Count': 241},\n",
       " {'Journal Code': 'INFVIS', 'Count': 234}]"
      ]
     },
     "execution_count": 26,
     "metadata": {},
     "output_type": "execute_result"
    }
   ],
   "source": [
    "journal_code_dict_list"
   ]
  },
  {
   "cell_type": "code",
   "execution_count": 27,
   "id": "5a5f8033",
   "metadata": {},
   "outputs": [],
   "source": [
    "for i in journal_code_dict_list:\n",
    "    df1 = pd.DataFrame([i])\n",
    "    journal_code_df = journal_code_df.append(df1, ignore_index = True)"
   ]
  },
  {
   "cell_type": "code",
   "execution_count": 28,
   "id": "46feaa7d",
   "metadata": {},
   "outputs": [
    {
     "data": {
      "text/html": [
       "<div>\n",
       "<style scoped>\n",
       "    .dataframe tbody tr th:only-of-type {\n",
       "        vertical-align: middle;\n",
       "    }\n",
       "\n",
       "    .dataframe tbody tr th {\n",
       "        vertical-align: top;\n",
       "    }\n",
       "\n",
       "    .dataframe thead th {\n",
       "        text-align: right;\n",
       "    }\n",
       "</style>\n",
       "<table border=\"1\" class=\"dataframe\">\n",
       "  <thead>\n",
       "    <tr style=\"text-align: right;\">\n",
       "      <th></th>\n",
       "      <th>Journal Code</th>\n",
       "      <th>Count</th>\n",
       "    </tr>\n",
       "  </thead>\n",
       "  <tbody>\n",
       "    <tr>\n",
       "      <th>0</th>\n",
       "      <td>TVCG</td>\n",
       "      <td>1514</td>\n",
       "    </tr>\n",
       "    <tr>\n",
       "      <th>1</th>\n",
       "      <td>VAST47406</td>\n",
       "      <td>9</td>\n",
       "    </tr>\n",
       "    <tr>\n",
       "      <th>2</th>\n",
       "      <td>00000001</td>\n",
       "      <td>1</td>\n",
       "    </tr>\n",
       "    <tr>\n",
       "      <th>3</th>\n",
       "      <td>SciVis</td>\n",
       "      <td>9</td>\n",
       "    </tr>\n",
       "    <tr>\n",
       "      <th>4</th>\n",
       "      <td>VAST50239</td>\n",
       "      <td>10</td>\n",
       "    </tr>\n",
       "    <tr>\n",
       "      <th>5</th>\n",
       "      <td>VIS</td>\n",
       "      <td>1</td>\n",
       "    </tr>\n",
       "    <tr>\n",
       "      <th>6</th>\n",
       "      <td>VISUAL</td>\n",
       "      <td>1054</td>\n",
       "    </tr>\n",
       "    <tr>\n",
       "      <th>7</th>\n",
       "      <td>VAST</td>\n",
       "      <td>241</td>\n",
       "    </tr>\n",
       "    <tr>\n",
       "      <th>8</th>\n",
       "      <td>INFVIS</td>\n",
       "      <td>234</td>\n",
       "    </tr>\n",
       "  </tbody>\n",
       "</table>\n",
       "</div>"
      ],
      "text/plain": [
       "  Journal Code Count\n",
       "0         TVCG  1514\n",
       "1    VAST47406     9\n",
       "2     00000001     1\n",
       "3       SciVis     9\n",
       "4    VAST50239    10\n",
       "5          VIS     1\n",
       "6       VISUAL  1054\n",
       "7         VAST   241\n",
       "8       INFVIS   234"
      ]
     },
     "execution_count": 28,
     "metadata": {},
     "output_type": "execute_result"
    }
   ],
   "source": [
    "journal_code_df"
   ]
  },
  {
   "cell_type": "markdown",
   "id": "be2a079e",
   "metadata": {},
   "source": [
    "The above dataframe displays the journal code and its count. `00000001` is the false paper. I am interested in `VAST50239`, `VIS`, `SciVis` and `VAST47406`. I want to see whether they are also false papers. "
   ]
  },
  {
   "cell_type": "code",
   "execution_count": 29,
   "id": "6bcf3134",
   "metadata": {},
   "outputs": [
    {
     "name": "stdout",
     "output_type": "stream",
     "text": [
      "10.1109/SciVis.2015.7429492\n",
      "10.1109/SciVis.2015.7429487\n",
      "10.1109/SciVis.2015.7429485\n",
      "10.1109/SciVis.2015.7429489\n",
      "10.1109/SciVis.2015.7429491\n",
      "10.1109/SciVis.2015.7429493\n",
      "10.1109/SciVis.2015.7429488\n",
      "10.1109/SciVis.2015.7429486\n",
      "10.1109/SciVis.2015.7429490\n"
     ]
    }
   ],
   "source": [
    "for i in dois:\n",
    "    if 'SciVis' in i:\n",
    "        print(i)"
   ]
  },
  {
   "cell_type": "code",
   "execution_count": 30,
   "id": "42fe44d9",
   "metadata": {},
   "outputs": [
    {
     "name": "stdout",
     "output_type": "stream",
     "text": [
      "10.1109/VAST50239.2020.00008\n",
      "10.1109/VAST50239.2020.00010\n",
      "10.1109/VAST50239.2020.00006\n",
      "10.1109/VAST50239.2020.00007\n",
      "10.1109/VAST50239.2020.00013\n",
      "10.1109/VAST50239.2020.00014\n",
      "10.1109/VAST50239.2020.00015\n",
      "10.1109/VAST50239.2020.00012\n",
      "10.1109/VAST50239.2020.00011\n",
      "10.1109/VAST50239.2020.00009\n"
     ]
    }
   ],
   "source": [
    "for i in dois:\n",
    "    if 'VAST50239' in i:\n",
    "        print(i)"
   ]
  },
  {
   "cell_type": "code",
   "execution_count": 31,
   "id": "b2c4eda1",
   "metadata": {},
   "outputs": [
    {
     "name": "stdout",
     "output_type": "stream",
     "text": [
      "10.1109/VAST47406.2019.8986948\n",
      "10.1109/VAST47406.2019.8986934\n",
      "10.1109/VAST47406.2019.8986917\n",
      "10.1109/VAST47406.2019.8986918\n",
      "10.1109/VAST47406.2019.8986940\n",
      "10.1109/VAST47406.2019.8986923\n",
      "10.1109/VAST47406.2019.8986943\n",
      "10.1109/VAST47406.2019.8986909\n",
      "10.1109/VAST47406.2019.8986922\n"
     ]
    }
   ],
   "source": [
    "for i in dois:\n",
    "    if 'VAST47406' in i:\n",
    "        print(i)"
   ]
  },
  {
   "cell_type": "markdown",
   "id": "5b3e92ce",
   "metadata": {},
   "source": [
    "2022-01-29: I manually checked all of the dois. All of them are woking: they direct me to IEEE website. "
   ]
  },
  {
   "cell_type": "code",
   "execution_count": 32,
   "id": "03fe1fd8",
   "metadata": {},
   "outputs": [
    {
     "data": {
      "text/plain": [
       "'10.1109/VIS.1999.10000'"
      ]
     },
     "execution_count": 32,
     "metadata": {},
     "output_type": "execute_result"
    }
   ],
   "source": [
    "dois[journal_code_list.index('VIS')]\n",
    "# This one directs me to computer.org rather than ieee.org"
   ]
  },
  {
   "cell_type": "markdown",
   "id": "5d4a2eac",
   "metadata": {},
   "source": [
    "## Conclusion"
   ]
  },
  {
   "cell_type": "markdown",
   "id": "019afaae",
   "metadata": {},
   "source": [
    "There are two \"irregular\" DOIs:\n",
    "\n",
    "- '10.1109/VIS.1999.10000', this is a **VALID** DOI but it [directs us to computer.org](https://www.computer.org/csdl/proceedings-article/ieee-vis/1999/58970011/12OmNCgrDbG). It is a real paper and we [can access it](https://www.tau.ac.il/~levin/vis99-dco.pdf). It has citations on [Google Scholars](https://scholar.google.com/scholar?hl=en&as_sdt=0%2C50&q=%2710.1109%2FVIS.1999.10000%27&btnG=) and [Web of Science](https://www.webofscience.com/wos/woscc/summary/61385074-41fd-4374-9268-a7aa4f43aa92-1dbf4526/date-descending/1). \n",
    "\n",
    "- '10.0000/00000001' (*Using Visualization to Detect Plagiarism in Computer Science Classes*), this is an **INVALID** DOI. The paper [does exists](http://citeseerx.ist.psu.edu/viewdoc/download?doi=10.1.1.118.9516&rep=rep1&type=pdf), and have citaions on [Google Scholar](https://scholar.google.com/scholar?hl=en&as_sdt=0%2C50&q=Using+Visualization+to+Detect+Plagiarism+in+Computer+Science+Classes&btnG=) and [Web of Science](https://www.webofscience.com/wos/woscc/summary/2bbca800-6664-4f81-a13f-5f30eb2df28e-1dbf5333/date-descending/1). \n",
    "\n",
    "<!-- If we include these two papers, we have to collect the information about this paper, like its authors and citation manually.  -->\n",
    "\n",
    "I checked the availability of these two papers on OpenAlex. These two can be identified via title serach. For the first paper, the first two authors' affiliation info is missing and the last author's info is complete. In fact, I can fill the missing part with the last author's info because they are from the same department. For the second paper, author info is complete. "
   ]
  },
  {
   "cell_type": "code",
   "execution_count": 33,
   "id": "5e4db4df",
   "metadata": {},
   "outputs": [],
   "source": [
    "bad_dois = ['10.0000/00000001']"
   ]
  },
  {
   "cell_type": "code",
   "execution_count": 34,
   "id": "6b5721b6",
   "metadata": {},
   "outputs": [
    {
     "data": {
      "text/html": [
       "<div>\n",
       "<style scoped>\n",
       "    .dataframe tbody tr th:only-of-type {\n",
       "        vertical-align: middle;\n",
       "    }\n",
       "\n",
       "    .dataframe tbody tr th {\n",
       "        vertical-align: top;\n",
       "    }\n",
       "\n",
       "    .dataframe thead th {\n",
       "        text-align: right;\n",
       "    }\n",
       "</style>\n",
       "<table border=\"1\" class=\"dataframe\">\n",
       "  <thead>\n",
       "    <tr style=\"text-align: right;\">\n",
       "      <th></th>\n",
       "      <th>Conference</th>\n",
       "      <th>Year</th>\n",
       "      <th>Title</th>\n",
       "      <th>DOI</th>\n",
       "      <th>Link</th>\n",
       "      <th>FirstPage</th>\n",
       "      <th>LastPage</th>\n",
       "      <th>PaperType</th>\n",
       "      <th>Abstract</th>\n",
       "      <th>AuthorNames-Deduped</th>\n",
       "      <th>AuthorNames</th>\n",
       "      <th>AuthorAffiliation</th>\n",
       "      <th>InternalReferences</th>\n",
       "      <th>AuthorKeywords</th>\n",
       "      <th>AminerCitationCount_04-2020</th>\n",
       "      <th>XploreCitationCount - 2021-02</th>\n",
       "      <th>PubsCited</th>\n",
       "      <th>Award</th>\n",
       "    </tr>\n",
       "  </thead>\n",
       "  <tbody>\n",
       "    <tr>\n",
       "      <th>1493</th>\n",
       "      <td>InfoVis</td>\n",
       "      <td>2000</td>\n",
       "      <td>Using Visualization to Detect Plagiarism in Co...</td>\n",
       "      <td>10.0000/00000001</td>\n",
       "      <td>http://dl.acm.org/citation.cfm?id=857699</td>\n",
       "      <td>173</td>\n",
       "      <td>NaN</td>\n",
       "      <td>C</td>\n",
       "      <td>NaN</td>\n",
       "      <td>Randy L. Ribler;Marc Abrams</td>\n",
       "      <td>NaN</td>\n",
       "      <td>NaN</td>\n",
       "      <td>10.1109/VISUAL.1993.398883;10.1109/VISUAL.1995...</td>\n",
       "      <td>NaN</td>\n",
       "      <td>23.0</td>\n",
       "      <td>NaN</td>\n",
       "      <td>NaN</td>\n",
       "      <td>NaN</td>\n",
       "    </tr>\n",
       "  </tbody>\n",
       "</table>\n",
       "</div>"
      ],
      "text/plain": [
       "     Conference  Year                                              Title  \\\n",
       "1493    InfoVis  2000  Using Visualization to Detect Plagiarism in Co...   \n",
       "\n",
       "                   DOI                                      Link FirstPage  \\\n",
       "1493  10.0000/00000001  http://dl.acm.org/citation.cfm?id=857699       173   \n",
       "\n",
       "     LastPage PaperType Abstract          AuthorNames-Deduped AuthorNames  \\\n",
       "1493      NaN         C      NaN  Randy L. Ribler;Marc Abrams         NaN   \n",
       "\n",
       "     AuthorAffiliation                                 InternalReferences  \\\n",
       "1493               NaN  10.1109/VISUAL.1993.398883;10.1109/VISUAL.1995...   \n",
       "\n",
       "     AuthorKeywords  AminerCitationCount_04-2020  \\\n",
       "1493            NaN                         23.0   \n",
       "\n",
       "      XploreCitationCount - 2021-02  PubsCited Award  \n",
       "1493                            NaN        NaN   NaN  "
      ]
     },
     "execution_count": 34,
     "metadata": {},
     "output_type": "execute_result"
    }
   ],
   "source": [
    "vispd[vispd.DOI.isin(bad_dois)]"
   ]
  },
  {
   "cell_type": "code",
   "execution_count": 35,
   "id": "051d5d00",
   "metadata": {},
   "outputs": [],
   "source": [
    "vispd_good_dois = [doi for doi in dois if doi not in bad_dois]"
   ]
  },
  {
   "cell_type": "code",
   "execution_count": 36,
   "id": "7c260f83",
   "metadata": {},
   "outputs": [
    {
     "data": {
      "text/plain": [
       "3072"
      ]
     },
     "execution_count": 36,
     "metadata": {},
     "output_type": "execute_result"
    }
   ],
   "source": [
    "len(vispd_good_dois)"
   ]
  },
  {
   "cell_type": "markdown",
   "id": "27b7d11e",
   "metadata": {},
   "source": [
    "## Checking title duplicates\n",
    "\n",
    "I checked whether there are duplicate papers."
   ]
  },
  {
   "cell_type": "code",
   "execution_count": 47,
   "id": "62ff5b5d",
   "metadata": {},
   "outputs": [],
   "source": [
    "vispd_titles = vispd.Title.tolist()"
   ]
  },
  {
   "cell_type": "code",
   "execution_count": 48,
   "id": "7cfaa620",
   "metadata": {},
   "outputs": [
    {
     "data": {
      "text/plain": [
       "3073"
      ]
     },
     "execution_count": 48,
     "metadata": {},
     "output_type": "execute_result"
    }
   ],
   "source": [
    "len(vispd_titles)"
   ]
  },
  {
   "cell_type": "code",
   "execution_count": 49,
   "id": "7f11f91b",
   "metadata": {},
   "outputs": [
    {
     "data": {
      "text/plain": [
       "[]"
      ]
     },
     "execution_count": 49,
     "metadata": {},
     "output_type": "execute_result"
    }
   ],
   "source": [
    "# it turns out there are no duplicate papers. \n",
    "vispd_titles_duplicates = list(set([x for x in vispd_titles if vispd_titles.count(x) > 1]))\n",
    "vispd_titles_duplicates"
   ]
  }
 ],
 "metadata": {
  "kernelspec": {
   "display_name": "Python 3 (ipykernel)",
   "language": "python",
   "name": "python3"
  },
  "language_info": {
   "codemirror_mode": {
    "name": "ipython",
    "version": 3
   },
   "file_extension": ".py",
   "mimetype": "text/x-python",
   "name": "python",
   "nbconvert_exporter": "python",
   "pygments_lexer": "ipython3",
   "version": "3.8.12"
  }
 },
 "nbformat": 4,
 "nbformat_minor": 5
}
