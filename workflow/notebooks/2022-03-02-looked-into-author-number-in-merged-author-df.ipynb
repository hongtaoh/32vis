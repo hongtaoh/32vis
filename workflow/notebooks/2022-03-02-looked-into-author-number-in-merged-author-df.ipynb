{
 "cells": [
  {
   "cell_type": "markdown",
   "id": "b73e12a6",
   "metadata": {},
   "source": [
    "## Aim\n",
    "\n",
    "In this notebook, I want to check whether the author number in merged_author_df is the same as ieee_author_df"
   ]
  },
  {
   "cell_type": "code",
   "execution_count": 4,
   "id": "e0f06717",
   "metadata": {},
   "outputs": [],
   "source": [
    "import pandas as pd\n",
    "pd.set_option('display.max_rows', 500)"
   ]
  },
  {
   "cell_type": "code",
   "execution_count": 5,
   "id": "4de672bc",
   "metadata": {},
   "outputs": [
    {
     "data": {
      "text/plain": [
       "(12408, 9)"
      ]
     },
     "execution_count": 5,
     "metadata": {},
     "output_type": "execute_result"
    }
   ],
   "source": [
    "ieee = pd.read_csv('../../data/interim/ieee_author_df.csv')\n",
    "ieee.shape"
   ]
  },
  {
   "cell_type": "code",
   "execution_count": 6,
   "id": "8253a8e0",
   "metadata": {},
   "outputs": [
    {
     "data": {
      "text/plain": [
       "(12413, 24)"
      ]
     },
     "execution_count": 6,
     "metadata": {},
     "output_type": "execute_result"
    }
   ],
   "source": [
    "df = pd.read_csv('../../data/processed/merged_author_df.csv')\n",
    "df.shape"
   ]
  },
  {
   "cell_type": "code",
   "execution_count": 7,
   "id": "3f28b48c",
   "metadata": {},
   "outputs": [],
   "source": [
    "diff_df = df[df['IEEE Number of Authors'] != df['Number of Authors']][[\n",
    "    'DOI', 'IEEE Number of Authors', 'Number of Authors']]"
   ]
  },
  {
   "cell_type": "code",
   "execution_count": 8,
   "id": "83d897f2",
   "metadata": {},
   "outputs": [
    {
     "data": {
      "text/plain": [
       "[]"
      ]
     },
     "execution_count": 8,
     "metadata": {},
     "output_type": "execute_result"
    }
   ],
   "source": [
    "list(set(diff_df.DOI))"
   ]
  },
  {
   "cell_type": "code",
   "execution_count": 9,
   "id": "755600cb",
   "metadata": {},
   "outputs": [
    {
     "data": {
      "text/html": [
       "<div>\n",
       "<style scoped>\n",
       "    .dataframe tbody tr th:only-of-type {\n",
       "        vertical-align: middle;\n",
       "    }\n",
       "\n",
       "    .dataframe tbody tr th {\n",
       "        vertical-align: top;\n",
       "    }\n",
       "\n",
       "    .dataframe thead th {\n",
       "        text-align: right;\n",
       "    }\n",
       "</style>\n",
       "<table border=\"1\" class=\"dataframe\">\n",
       "  <thead>\n",
       "    <tr style=\"text-align: right;\">\n",
       "      <th></th>\n",
       "      <th>DOI</th>\n",
       "      <th>IEEE Number of Authors</th>\n",
       "      <th>Number of Authors</th>\n",
       "    </tr>\n",
       "  </thead>\n",
       "  <tbody>\n",
       "  </tbody>\n",
       "</table>\n",
       "</div>"
      ],
      "text/plain": [
       "Empty DataFrame\n",
       "Columns: [DOI, IEEE Number of Authors, Number of Authors]\n",
       "Index: []"
      ]
     },
     "execution_count": 9,
     "metadata": {},
     "output_type": "execute_result"
    }
   ],
   "source": [
    "diff_df"
   ]
  },
  {
   "cell_type": "code",
   "execution_count": null,
   "id": "9226dc42",
   "metadata": {},
   "outputs": [],
   "source": []
  }
 ],
 "metadata": {
  "kernelspec": {
   "display_name": "Python 3 (ipykernel)",
   "language": "python",
   "name": "python3"
  },
  "language_info": {
   "codemirror_mode": {
    "name": "ipython",
    "version": 3
   },
   "file_extension": ".py",
   "mimetype": "text/x-python",
   "name": "python",
   "nbconvert_exporter": "python",
   "pygments_lexer": "ipython3",
   "version": "3.8.12"
  }
 },
 "nbformat": 4,
 "nbformat_minor": 5
}
