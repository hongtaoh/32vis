{
 "cells": [
  {
   "cell_type": "markdown",
   "id": "64e066b7",
   "metadata": {},
   "source": [
    "## Aim\n",
    "\n",
    "In this notebook, I want to check how many first affiliation names miss Type and Country Code. \n",
    "\n",
    "## Results\n",
    "\n",
    "- 717 rows (or, 233 papers) miss \"first institution name\". \n",
    "- Around 1650 rows (or 818 papers) have \"first institution name\", but miss miss Type or Country Code.\n",
    "\n",
    "- In sum, for 1/3 of all the 3274 papers, we don't have data for their affiliation type or country code. "
   ]
  },
  {
   "cell_type": "code",
   "execution_count": 2,
   "id": "bc2ad15d",
   "metadata": {},
   "outputs": [],
   "source": [
    "import pandas as pd"
   ]
  },
  {
   "cell_type": "code",
   "execution_count": 9,
   "id": "5cd376cb",
   "metadata": {},
   "outputs": [
    {
     "data": {
      "text/plain": [
       "(12571, 16)"
      ]
     },
     "execution_count": 9,
     "metadata": {},
     "output_type": "execute_result"
    }
   ],
   "source": [
    "# In total, there are 12,571 observations. \n",
    "df_alex = pd.read_csv('../../data/processed/openalex_author_df.csv')\n",
    "df_alex.shape"
   ]
  },
  {
   "cell_type": "code",
   "execution_count": 12,
   "id": "0f08b928",
   "metadata": {},
   "outputs": [
    {
     "data": {
      "text/plain": [
       "(717, 16)"
      ]
     },
     "execution_count": 12,
     "metadata": {},
     "output_type": "execute_result"
    }
   ],
   "source": [
    "# How many observations miss first institution name?\n",
    "df_alex[df_alex['First Institution Name'].isnull()].shape\n",
    "# Only 717 observations miss first institution name. It's not a big deal. "
   ]
  },
  {
   "cell_type": "code",
   "execution_count": 24,
   "id": "d2f06228",
   "metadata": {},
   "outputs": [
    {
     "data": {
      "text/plain": [
       "233"
      ]
     },
     "execution_count": 24,
     "metadata": {},
     "output_type": "execute_result"
    }
   ],
   "source": [
    "# How many unique DOIs/papers miss first institution name?\n",
    "dois_miss_affili_name = df_alex[df_alex['First Institution Name'].isnull()].DOI.tolist()\n",
    "len(list(set(dois_miss_affili_name)))\n",
    "# 233 papers"
   ]
  },
  {
   "cell_type": "code",
   "execution_count": 13,
   "id": "c92cb8e0",
   "metadata": {},
   "outputs": [],
   "source": [
    "# First, drop rows where first institution name is missing\n",
    "df_alex_affli_name_notna = df_alex.dropna(subset=['First Institution Name'])"
   ]
  },
  {
   "cell_type": "code",
   "execution_count": 15,
   "id": "d035b452",
   "metadata": {},
   "outputs": [
    {
     "data": {
      "text/plain": [
       "(1648, 16)"
      ]
     },
     "execution_count": 15,
     "metadata": {},
     "output_type": "execute_result"
    }
   ],
   "source": [
    "# For rows where \"first institution name\" exist, how many rows/observations miss Type or Country Code?\n",
    "df_alex_affli_name_notna[(df_alex_affli_name_notna[\n",
    "    'First Institution Type'].isnull()) | (df_alex_affli_name_notna[\n",
    "    'First Institution Country Code'].isnull())].shape"
   ]
  },
  {
   "cell_type": "code",
   "execution_count": 18,
   "id": "23ba72d9",
   "metadata": {},
   "outputs": [
    {
     "data": {
      "text/plain": [
       "(1648, 16)"
      ]
     },
     "execution_count": 18,
     "metadata": {},
     "output_type": "execute_result"
    }
   ],
   "source": [
    "# For rows where \"first institution name\" exist, how many rows/observations miss Type?\n",
    "df_alex_affli_name_notna[(df_alex_affli_name_notna[\n",
    "    'First Institution Type'].isnull())].shape"
   ]
  },
  {
   "cell_type": "code",
   "execution_count": 19,
   "id": "d19577be",
   "metadata": {},
   "outputs": [
    {
     "data": {
      "text/plain": [
       "(1523, 16)"
      ]
     },
     "execution_count": 19,
     "metadata": {},
     "output_type": "execute_result"
    }
   ],
   "source": [
    "# For rows where \"first institution name\" exist, how many rows/observations miss Country Code?\n",
    "df_alex_affli_name_notna[(df_alex_affli_name_notna[\n",
    "    'First Institution Country Code'].isnull())].shape"
   ]
  },
  {
   "cell_type": "code",
   "execution_count": 22,
   "id": "922d67a4",
   "metadata": {},
   "outputs": [
    {
     "data": {
      "text/plain": [
       "818"
      ]
     },
     "execution_count": 22,
     "metadata": {},
     "output_type": "execute_result"
    }
   ],
   "source": [
    "# How many unique DOIs/papers have affiliation name but miss type and/or country code?\n",
    "dois_yes_name_no_type_or_cntry = df_alex_affli_name_notna[(df_alex_affli_name_notna[\n",
    "    'First Institution Type'].isnull()) | (df_alex_affli_name_notna[\n",
    "    'First Institution Country Code'].isnull())].DOI.tolist()\n",
    "len(list(set(dois_yes_name_no_type_or_cntry)))"
   ]
  }
 ],
 "metadata": {
  "kernelspec": {
   "display_name": "Python 3 (ipykernel)",
   "language": "python",
   "name": "python3"
  },
  "language_info": {
   "codemirror_mode": {
    "name": "ipython",
    "version": 3
   },
   "file_extension": ".py",
   "mimetype": "text/x-python",
   "name": "python",
   "nbconvert_exporter": "python",
   "pygments_lexer": "ipython3",
   "version": "3.8.12"
  }
 },
 "nbformat": 4,
 "nbformat_minor": 5
}
