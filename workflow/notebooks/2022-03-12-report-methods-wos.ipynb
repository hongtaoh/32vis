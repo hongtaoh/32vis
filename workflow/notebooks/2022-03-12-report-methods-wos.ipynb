{
 "cells": [
  {
   "cell_type": "markdown",
   "id": "e42ee6af",
   "metadata": {},
   "source": [
    "In this notebook, I want to see how many IEEE VIS papers can be identified via DOI query on Web of Sciecne. "
   ]
  },
  {
   "cell_type": "code",
   "execution_count": 1,
   "id": "9e6a3a90",
   "metadata": {},
   "outputs": [],
   "source": [
    "import pandas as pd"
   ]
  },
  {
   "cell_type": "code",
   "execution_count": 6,
   "id": "d85dab16",
   "metadata": {},
   "outputs": [
    {
     "data": {
      "text/plain": [
       "(3242, 2)"
      ]
     },
     "execution_count": 6,
     "metadata": {},
     "output_type": "execute_result"
    }
   ],
   "source": [
    "df = pd.read_csv('../../data/interim/methods_reporting/wos_id.csv')\n",
    "df.shape"
   ]
  },
  {
   "cell_type": "code",
   "execution_count": 8,
   "id": "18a5e400",
   "metadata": {},
   "outputs": [
    {
     "data": {
      "text/plain": [
       "0.25077112893275755"
      ]
     },
     "execution_count": 8,
     "metadata": {},
     "output_type": "execute_result"
    }
   ],
   "source": [
    "df[df['WOS ID'].isnull()].shape[0] / df.shape[0]"
   ]
  },
  {
   "cell_type": "code",
   "execution_count": null,
   "id": "536a23af",
   "metadata": {},
   "outputs": [],
   "source": []
  }
 ],
 "metadata": {
  "kernelspec": {
   "display_name": "Python 3 (ipykernel)",
   "language": "python",
   "name": "python3"
  },
  "language_info": {
   "codemirror_mode": {
    "name": "ipython",
    "version": 3
   },
   "file_extension": ".py",
   "mimetype": "text/x-python",
   "name": "python",
   "nbconvert_exporter": "python",
   "pygments_lexer": "ipython3",
   "version": "3.8.12"
  }
 },
 "nbformat": 4,
 "nbformat_minor": 5
}
