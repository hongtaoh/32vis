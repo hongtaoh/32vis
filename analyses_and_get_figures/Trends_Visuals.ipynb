{
 "cells": [
  {
   "cell_type": "markdown",
   "id": "8f8dc678",
   "metadata": {},
   "source": [
    "This notebook contains codes to produce plots in General Trends section. "
   ]
  },
  {
   "cell_type": "code",
   "execution_count": 1,
   "id": "3e4cae91",
   "metadata": {},
   "outputs": [],
   "source": [
    "import pandas as pd\n",
    "import matplotlib.pyplot as plt\n",
    "from collections import Counter\n",
    "import seaborn as sns\n",
    "import matplotlib\n",
    "font = {'family' : 'Arial',\n",
    "        'weight' : 'normal',\n",
    "        'size'   : 14}\n",
    "matplotlib.rc('font', **font)\n",
    "# matplotlib.rcParams['figure.dpi']= 200\n",
    "import altair as alt\n",
    "pd.set_option('display.max_rows', 500)\n",
    "import numpy as np\n",
    "import plotnine as p9\n",
    "from plotnine import ggplot, geom_point, aes, stat_smooth, facet_wrap\n",
    "import selenium"
   ]
  },
  {
   "cell_type": "code",
   "execution_count": 2,
   "id": "0971910b",
   "metadata": {},
   "outputs": [],
   "source": [
    "author = pd.read_csv('../data/ht_class/ht_cleaned_author_df.csv')\n",
    "paper = pd.read_csv('../data/ht_class/ht_cleaned_paper_df.csv')"
   ]
  },
  {
   "cell_type": "code",
   "execution_count": 3,
   "id": "00569b4d",
   "metadata": {},
   "outputs": [
    {
     "data": {
      "text/html": [
       "<svg  width=\"550\" height=\"55\"><rect x=\"0\" y=\"0\" width=\"55\" height=\"55\" style=\"fill:#1f77b4;stroke-width:2;stroke:rgb(255,255,255)\"/><rect x=\"55\" y=\"0\" width=\"55\" height=\"55\" style=\"fill:#ff7f0e;stroke-width:2;stroke:rgb(255,255,255)\"/><rect x=\"110\" y=\"0\" width=\"55\" height=\"55\" style=\"fill:#2ca02c;stroke-width:2;stroke:rgb(255,255,255)\"/><rect x=\"165\" y=\"0\" width=\"55\" height=\"55\" style=\"fill:#d62728;stroke-width:2;stroke:rgb(255,255,255)\"/><rect x=\"220\" y=\"0\" width=\"55\" height=\"55\" style=\"fill:#9467bd;stroke-width:2;stroke:rgb(255,255,255)\"/><rect x=\"275\" y=\"0\" width=\"55\" height=\"55\" style=\"fill:#8c564b;stroke-width:2;stroke:rgb(255,255,255)\"/><rect x=\"330\" y=\"0\" width=\"55\" height=\"55\" style=\"fill:#e377c2;stroke-width:2;stroke:rgb(255,255,255)\"/><rect x=\"385\" y=\"0\" width=\"55\" height=\"55\" style=\"fill:#7f7f7f;stroke-width:2;stroke:rgb(255,255,255)\"/><rect x=\"440\" y=\"0\" width=\"55\" height=\"55\" style=\"fill:#bcbd22;stroke-width:2;stroke:rgb(255,255,255)\"/><rect x=\"495\" y=\"0\" width=\"55\" height=\"55\" style=\"fill:#17becf;stroke-width:2;stroke:rgb(255,255,255)\"/></svg>"
      ],
      "text/plain": [
       "[(0.12156862745098039, 0.4666666666666667, 0.7058823529411765),\n",
       " (1.0, 0.4980392156862745, 0.054901960784313725),\n",
       " (0.17254901960784313, 0.6274509803921569, 0.17254901960784313),\n",
       " (0.8392156862745098, 0.15294117647058825, 0.1568627450980392),\n",
       " (0.5803921568627451, 0.403921568627451, 0.7411764705882353),\n",
       " (0.5490196078431373, 0.33725490196078434, 0.29411764705882354),\n",
       " (0.8901960784313725, 0.4666666666666667, 0.7607843137254902),\n",
       " (0.4980392156862745, 0.4980392156862745, 0.4980392156862745),\n",
       " (0.7372549019607844, 0.7411764705882353, 0.13333333333333333),\n",
       " (0.09019607843137255, 0.7450980392156863, 0.8117647058823529)]"
      ]
     },
     "execution_count": 3,
     "metadata": {},
     "output_type": "execute_result"
    }
   ],
   "source": [
    "colors = [\n",
    "    \"#1f77b4\",\n",
    "    \"#ff7f0e\",\n",
    "    \"#2ca02c\",\n",
    "    \"#d62728\",\n",
    "    \"#9467bd\",\n",
    "    \"#8c564b\",\n",
    "    \"#e377c2\",\n",
    "    \"#7f7f7f\",\n",
    "    \"#bcbd22\",\n",
    "    \"#17becf\",\n",
    "]\n",
    "sns.color_palette(colors)"
   ]
  },
  {
   "cell_type": "markdown",
   "id": "c84ba6cd",
   "metadata": {},
   "source": [
    "### Tracks"
   ]
  },
  {
   "cell_type": "code",
   "execution_count": 4,
   "id": "8c7f23b6",
   "metadata": {},
   "outputs": [],
   "source": [
    "dic = dict(Counter(paper[paper.Year < 2021].Conference))\n",
    "conf_df = pd.DataFrame(\n",
    "    dic.items(), \n",
    "    columns = ['Conference track', 'Number of publications'])\n",
    "conf_df.sort_values(by='Number of publications', inplace = True)"
   ]
  },
  {
   "cell_type": "code",
   "execution_count": 5,
   "id": "b88a38e9",
   "metadata": {},
   "outputs": [
    {
     "data": {
      "text/html": [
       "<div>\n",
       "<style scoped>\n",
       "    .dataframe tbody tr th:only-of-type {\n",
       "        vertical-align: middle;\n",
       "    }\n",
       "\n",
       "    .dataframe tbody tr th {\n",
       "        vertical-align: top;\n",
       "    }\n",
       "\n",
       "    .dataframe thead th {\n",
       "        text-align: right;\n",
       "    }\n",
       "</style>\n",
       "<table border=\"1\" class=\"dataframe\">\n",
       "  <thead>\n",
       "    <tr style=\"text-align: right;\">\n",
       "      <th></th>\n",
       "      <th>Conference track</th>\n",
       "      <th>Number of publications</th>\n",
       "    </tr>\n",
       "  </thead>\n",
       "  <tbody>\n",
       "    <tr>\n",
       "      <th>3</th>\n",
       "      <td>SciVis</td>\n",
       "      <td>291</td>\n",
       "    </tr>\n",
       "    <tr>\n",
       "      <th>2</th>\n",
       "      <td>VAST</td>\n",
       "      <td>572</td>\n",
       "    </tr>\n",
       "    <tr>\n",
       "      <th>0</th>\n",
       "      <td>InfoVis</td>\n",
       "      <td>834</td>\n",
       "    </tr>\n",
       "    <tr>\n",
       "      <th>1</th>\n",
       "      <td>Vis</td>\n",
       "      <td>1373</td>\n",
       "    </tr>\n",
       "  </tbody>\n",
       "</table>\n",
       "</div>"
      ],
      "text/plain": [
       "  Conference track  Number of publications\n",
       "3           SciVis                     291\n",
       "2             VAST                     572\n",
       "0          InfoVis                     834\n",
       "1              Vis                    1373"
      ]
     },
     "execution_count": 5,
     "metadata": {},
     "output_type": "execute_result"
    }
   ],
   "source": [
    "conf_df"
   ]
  },
  {
   "cell_type": "code",
   "execution_count": 6,
   "id": "34c4893f",
   "metadata": {},
   "outputs": [
    {
     "data": {
      "image/png": "[encoded data removed]",
      "text/plain": [
       "<Figure size 432x288 with 1 Axes>"
      ]
     },
     "metadata": {
      "needs_background": "light"
     },
     "output_type": "display_data"
    }
   ],
   "source": [
    "sns.color_palette(colors)\n",
    "sns.countplot(x = 'Conference', data = paper)\n",
    "plt.grid(axis = 'y')"
   ]
  },
  {
   "cell_type": "code",
   "execution_count": 7,
   "id": "7d99284e",
   "metadata": {},
   "outputs": [
    {
     "data": {
      "text/html": [
       "\n",
       "<div id=\"altair-viz-3d5b5e2179f94be5a49763d934bb2c59\"></div>\n",
       "<script type=\"text/javascript\">\n",
       "  var VEGA_DEBUG = (typeof VEGA_DEBUG == \"undefined\") ? {} : VEGA_DEBUG;\n",
       "  (function(spec, embedOpt){\n",
       "    let outputDiv = document.currentScript.previousElementSibling;\n",
       "    if (outputDiv.id !== \"altair-viz-3d5b5e2179f94be5a49763d934bb2c59\") {\n",
       "      outputDiv = document.getElementById(\"altair-viz-3d5b5e2179f94be5a49763d934bb2c59\");\n",
       "    }\n",
       "    const paths = {\n",
       "      \"vega\": \"https://cdn.jsdelivr.net/npm//vega@5?noext\",\n",
       "      \"vega-lib\": \"https://cdn.jsdelivr.net/npm//vega-lib?noext\",\n",
       "      \"vega-lite\": \"https://cdn.jsdelivr.net/npm//vega-lite@4.17.0?noext\",\n",
       "      \"vega-embed\": \"https://cdn.jsdelivr.net/npm//vega-embed@6?noext\",\n",
       "    };\n",
       "\n",
       "    function maybeLoadScript(lib, version) {\n",
       "      var key = `${lib.replace(\"-\", \"\")}_version`;\n",
       "      return (VEGA_DEBUG[key] == version) ?\n",
       "        Promise.resolve(paths[lib]) :\n",
       "        new Promise(function(resolve, reject) {\n",
       "          var s = document.createElement('script');\n",
       "          document.getElementsByTagName(\"head\")[0].appendChild(s);\n",
       "          s.async = true;\n",
       "          s.onload = () => {\n",
       "            VEGA_DEBUG[key] = version;\n",
       "            return resolve(paths[lib]);\n",
       "          };\n",
       "          s.onerror = () => reject(`Error loading script: ${paths[lib]}`);\n",
       "          s.src = paths[lib];\n",
       "        });\n",
       "    }\n",
       "\n",
       "    function showError(err) {\n",
       "      outputDiv.innerHTML = `<div class=\"error\" style=\"color:red;\">${err}</div>`;\n",
       "      throw err;\n",
       "    }\n",
       "\n",
       "    function displayChart(vegaEmbed) {\n",
       "      vegaEmbed(outputDiv, spec, embedOpt)\n",
       "        .catch(err => showError(`Javascript Error: ${err.message}<br>This usually means there's a typo in your chart specification. See the javascript console for the full traceback.`));\n",
       "    }\n",
       "\n",
       "    if(typeof define === \"function\" && define.amd) {\n",
       "      requirejs.config({paths});\n",
       "      require([\"vega-embed\"], displayChart, err => showError(`Error loading script: ${err.message}`));\n",
       "    } else {\n",
       "      maybeLoadScript(\"vega\", \"5\")\n",
       "        .then(() => maybeLoadScript(\"vega-lite\", \"4.17.0\"))\n",
       "        .then(() => maybeLoadScript(\"vega-embed\", \"6\"))\n",
       "        .catch(showError)\n",
       "        .then(() => displayChart(vegaEmbed));\n",
       "    }\n",
       "  })({\"config\": {\"view\": {\"continuousWidth\": 400, \"continuousHeight\": 300}}, \"data\": {\"name\": \"data-18cbb5ade9a8290bcfa8aeff8a667c69\"}, \"mark\": \"bar\", \"encoding\": {\"color\": {\"field\": \"Conference track\", \"type\": \"nominal\"}, \"x\": {\"field\": \"Conference track\", \"sort\": [\"VIS\", \"SciVis\", \"VAST\", \"InfoVis\", \"Vis\"], \"type\": \"nominal\"}, \"y\": {\"field\": \"Number of publications\", \"type\": \"quantitative\"}}, \"$schema\": \"https://vega.github.io/schema/vega-lite/v4.17.0.json\", \"datasets\": {\"data-18cbb5ade9a8290bcfa8aeff8a667c69\": [{\"Conference track\": \"SciVis\", \"Number of publications\": 291}, {\"Conference track\": \"VAST\", \"Number of publications\": 572}, {\"Conference track\": \"InfoVis\", \"Number of publications\": 834}, {\"Conference track\": \"Vis\", \"Number of publications\": 1373}]}}, {\"mode\": \"vega-lite\"});\n",
       "</script>"
      ],
      "text/plain": [
       "alt.Chart(...)"
      ]
     },
     "execution_count": 7,
     "metadata": {},
     "output_type": "execute_result"
    }
   ],
   "source": [
    "alt.Chart(conf_df).mark_bar().encode(\n",
    "    x = alt.X(\n",
    "        'Conference track',\n",
    "        sort = [\n",
    "            'VIS',\n",
    "            'SciVis',\n",
    "            'VAST',\n",
    "            'InfoVis',\n",
    "            'Vis',\n",
    "        ]\n",
    "    ),\n",
    "    y = 'Number of publications',\n",
    "    color = 'Conference track'\n",
    ")"
   ]
  },
  {
   "cell_type": "markdown",
   "id": "42e9ac39",
   "metadata": {},
   "source": [
    "### Number of publications by year"
   ]
  },
  {
   "cell_type": "code",
   "execution_count": 8,
   "id": "9fb3665c",
   "metadata": {},
   "outputs": [
    {
     "data": {
      "text/html": [
       "<div>\n",
       "<style scoped>\n",
       "    .dataframe tbody tr th:only-of-type {\n",
       "        vertical-align: middle;\n",
       "    }\n",
       "\n",
       "    .dataframe tbody tr th {\n",
       "        vertical-align: top;\n",
       "    }\n",
       "\n",
       "    .dataframe thead th {\n",
       "        text-align: right;\n",
       "    }\n",
       "</style>\n",
       "<table border=\"1\" class=\"dataframe\">\n",
       "  <thead>\n",
       "    <tr style=\"text-align: right;\">\n",
       "      <th></th>\n",
       "      <th>Year</th>\n",
       "      <th>Number of Publications</th>\n",
       "    </tr>\n",
       "  </thead>\n",
       "  <tbody>\n",
       "    <tr>\n",
       "      <th>0</th>\n",
       "      <td>1990-01-01</td>\n",
       "      <td>52</td>\n",
       "    </tr>\n",
       "    <tr>\n",
       "      <th>1</th>\n",
       "      <td>1991-01-01</td>\n",
       "      <td>50</td>\n",
       "    </tr>\n",
       "    <tr>\n",
       "      <th>2</th>\n",
       "      <td>1992-01-01</td>\n",
       "      <td>53</td>\n",
       "    </tr>\n",
       "    <tr>\n",
       "      <th>3</th>\n",
       "      <td>1993-01-01</td>\n",
       "      <td>55</td>\n",
       "    </tr>\n",
       "    <tr>\n",
       "      <th>4</th>\n",
       "      <td>1994-01-01</td>\n",
       "      <td>53</td>\n",
       "    </tr>\n",
       "  </tbody>\n",
       "</table>\n",
       "</div>"
      ],
      "text/plain": [
       "        Year  Number of Publications\n",
       "0 1990-01-01                      52\n",
       "1 1991-01-01                      50\n",
       "2 1992-01-01                      53\n",
       "3 1993-01-01                      55\n",
       "4 1994-01-01                      53"
      ]
     },
     "execution_count": 8,
     "metadata": {},
     "output_type": "execute_result"
    }
   ],
   "source": [
    "pub_num_df = paper.groupby(\n",
    "    'Year').size().reset_index(name = 'Number of Publications')\n",
    "pub_num_df['Year'] = pd.to_datetime(\n",
    "    pub_num_df['Year'], format=\"%Y\"\n",
    ")\n",
    "pub_num_df.head()"
   ]
  },
  {
   "cell_type": "code",
   "execution_count": 9,
   "id": "0ea279d9",
   "metadata": {
    "scrolled": true
   },
   "outputs": [
    {
     "data": {
      "text/html": [
       "<div>\n",
       "<style scoped>\n",
       "    .dataframe tbody tr th:only-of-type {\n",
       "        vertical-align: middle;\n",
       "    }\n",
       "\n",
       "    .dataframe tbody tr th {\n",
       "        vertical-align: top;\n",
       "    }\n",
       "\n",
       "    .dataframe thead th {\n",
       "        text-align: right;\n",
       "    }\n",
       "</style>\n",
       "<table border=\"1\" class=\"dataframe\">\n",
       "  <thead>\n",
       "    <tr style=\"text-align: right;\">\n",
       "      <th></th>\n",
       "      <th>Year</th>\n",
       "      <th>Number of Publications</th>\n",
       "    </tr>\n",
       "  </thead>\n",
       "  <tbody>\n",
       "    <tr>\n",
       "      <th>27</th>\n",
       "      <td>2017-01-01</td>\n",
       "      <td>114</td>\n",
       "    </tr>\n",
       "    <tr>\n",
       "      <th>28</th>\n",
       "      <td>2018-01-01</td>\n",
       "      <td>127</td>\n",
       "    </tr>\n",
       "    <tr>\n",
       "      <th>29</th>\n",
       "      <td>2019-01-01</td>\n",
       "      <td>129</td>\n",
       "    </tr>\n",
       "    <tr>\n",
       "      <th>30</th>\n",
       "      <td>2020-01-01</td>\n",
       "      <td>157</td>\n",
       "    </tr>\n",
       "    <tr>\n",
       "      <th>31</th>\n",
       "      <td>2021-01-01</td>\n",
       "      <td>170</td>\n",
       "    </tr>\n",
       "  </tbody>\n",
       "</table>\n",
       "</div>"
      ],
      "text/plain": [
       "         Year  Number of Publications\n",
       "27 2017-01-01                     114\n",
       "28 2018-01-01                     127\n",
       "29 2019-01-01                     129\n",
       "30 2020-01-01                     157\n",
       "31 2021-01-01                     170"
      ]
     },
     "execution_count": 9,
     "metadata": {},
     "output_type": "execute_result"
    }
   ],
   "source": [
    "pub_num_df.tail()"
   ]
  },
  {
   "cell_type": "code",
   "execution_count": 10,
   "id": "c942eac6",
   "metadata": {},
   "outputs": [
    {
     "data": {
      "image/png": "[encoded data removed]",
      "text/plain": [
       "<Figure size 432x288 with 1 Axes>"
      ]
     },
     "metadata": {
      "needs_background": "light"
     },
     "output_type": "display_data"
    }
   ],
   "source": [
    "g = sns.lineplot(x = 'Year', y = 'Number of Publications', data = pub_num_df)\n",
    "g.set_ylim(0,)\n",
    "plt.grid()"
   ]
  },
  {
   "cell_type": "code",
   "execution_count": 11,
   "id": "e6a92d98",
   "metadata": {},
   "outputs": [
    {
     "data": {
      "text/html": [
       "\n",
       "<div id=\"altair-viz-68d12df1d6e7450980bc6c6c1513775e\"></div>\n",
       "<script type=\"text/javascript\">\n",
       "  var VEGA_DEBUG = (typeof VEGA_DEBUG == \"undefined\") ? {} : VEGA_DEBUG;\n",
       "  (function(spec, embedOpt){\n",
       "    let outputDiv = document.currentScript.previousElementSibling;\n",
       "    if (outputDiv.id !== \"altair-viz-68d12df1d6e7450980bc6c6c1513775e\") {\n",
       "      outputDiv = document.getElementById(\"altair-viz-68d12df1d6e7450980bc6c6c1513775e\");\n",
       "    }\n",
       "    const paths = {\n",
       "      \"vega\": \"https://cdn.jsdelivr.net/npm//vega@5?noext\",\n",
       "      \"vega-lib\": \"https://cdn.jsdelivr.net/npm//vega-lib?noext\",\n",
       "      \"vega-lite\": \"https://cdn.jsdelivr.net/npm//vega-lite@4.17.0?noext\",\n",
       "      \"vega-embed\": \"https://cdn.jsdelivr.net/npm//vega-embed@6?noext\",\n",
       "    };\n",
       "\n",
       "    function maybeLoadScript(lib, version) {\n",
       "      var key = `${lib.replace(\"-\", \"\")}_version`;\n",
       "      return (VEGA_DEBUG[key] == version) ?\n",
       "        Promise.resolve(paths[lib]) :\n",
       "        new Promise(function(resolve, reject) {\n",
       "          var s = document.createElement('script');\n",
       "          document.getElementsByTagName(\"head\")[0].appendChild(s);\n",
       "          s.async = true;\n",
       "          s.onload = () => {\n",
       "            VEGA_DEBUG[key] = version;\n",
       "            return resolve(paths[lib]);\n",
       "          };\n",
       "          s.onerror = () => reject(`Error loading script: ${paths[lib]}`);\n",
       "          s.src = paths[lib];\n",
       "        });\n",
       "    }\n",
       "\n",
       "    function showError(err) {\n",
       "      outputDiv.innerHTML = `<div class=\"error\" style=\"color:red;\">${err}</div>`;\n",
       "      throw err;\n",
       "    }\n",
       "\n",
       "    function displayChart(vegaEmbed) {\n",
       "      vegaEmbed(outputDiv, spec, embedOpt)\n",
       "        .catch(err => showError(`Javascript Error: ${err.message}<br>This usually means there's a typo in your chart specification. See the javascript console for the full traceback.`));\n",
       "    }\n",
       "\n",
       "    if(typeof define === \"function\" && define.amd) {\n",
       "      requirejs.config({paths});\n",
       "      require([\"vega-embed\"], displayChart, err => showError(`Error loading script: ${err.message}`));\n",
       "    } else {\n",
       "      maybeLoadScript(\"vega\", \"5\")\n",
       "        .then(() => maybeLoadScript(\"vega-lite\", \"4.17.0\"))\n",
       "        .then(() => maybeLoadScript(\"vega-embed\", \"6\"))\n",
       "        .catch(showError)\n",
       "        .then(() => displayChart(vegaEmbed));\n",
       "    }\n",
       "  })({\"config\": {\"view\": {\"continuousWidth\": 400, \"continuousHeight\": 300}}, \"data\": {\"name\": \"data-bcbb612dd2e1839e4b52a066ab50d933\"}, \"mark\": \"line\", \"encoding\": {\"x\": {\"field\": \"Year\", \"type\": \"temporal\"}, \"y\": {\"field\": \"Number of Publications\", \"title\": \"Number of publications\", \"type\": \"quantitative\"}}, \"$schema\": \"https://vega.github.io/schema/vega-lite/v4.17.0.json\", \"datasets\": {\"data-bcbb612dd2e1839e4b52a066ab50d933\": [{\"Year\": \"1990-01-01T00:00:00\", \"Number of Publications\": 52}, {\"Year\": \"1991-01-01T00:00:00\", \"Number of Publications\": 50}, {\"Year\": \"1992-01-01T00:00:00\", \"Number of Publications\": 53}, {\"Year\": \"1993-01-01T00:00:00\", \"Number of Publications\": 55}, {\"Year\": \"1994-01-01T00:00:00\", \"Number of Publications\": 53}, {\"Year\": \"1995-01-01T00:00:00\", \"Number of Publications\": 74}, {\"Year\": \"1996-01-01T00:00:00\", \"Number of Publications\": 77}, {\"Year\": \"1997-01-01T00:00:00\", \"Number of Publications\": 88}, {\"Year\": \"1998-01-01T00:00:00\", \"Number of Publications\": 90}, {\"Year\": \"1999-01-01T00:00:00\", \"Number of Publications\": 88}, {\"Year\": \"2000-01-01T00:00:00\", \"Number of Publications\": 92}, {\"Year\": \"2001-01-01T00:00:00\", \"Number of Publications\": 96}, {\"Year\": \"2002-01-01T00:00:00\", \"Number of Publications\": 101}, {\"Year\": \"2003-01-01T00:00:00\", \"Number of Publications\": 102}, {\"Year\": \"2004-01-01T00:00:00\", \"Number of Publications\": 97}, {\"Year\": \"2005-01-01T00:00:00\", \"Number of Publications\": 119}, {\"Year\": \"2006-01-01T00:00:00\", \"Number of Publications\": 113}, {\"Year\": \"2007-01-01T00:00:00\", \"Number of Publications\": 107}, {\"Year\": \"2008-01-01T00:00:00\", \"Number of Publications\": 99}, {\"Year\": \"2009-01-01T00:00:00\", \"Number of Publications\": 117}, {\"Year\": \"2010-01-01T00:00:00\", \"Number of Publications\": 109}, {\"Year\": \"2011-01-01T00:00:00\", \"Number of Publications\": 119}, {\"Year\": \"2012-01-01T00:00:00\", \"Number of Publications\": 116}, {\"Year\": \"2013-01-01T00:00:00\", \"Number of Publications\": 101}, {\"Year\": \"2014-01-01T00:00:00\", \"Number of Publications\": 133}, {\"Year\": \"2015-01-01T00:00:00\", \"Number of Publications\": 127}, {\"Year\": \"2016-01-01T00:00:00\", \"Number of Publications\": 115}, {\"Year\": \"2017-01-01T00:00:00\", \"Number of Publications\": 114}, {\"Year\": \"2018-01-01T00:00:00\", \"Number of Publications\": 127}, {\"Year\": \"2019-01-01T00:00:00\", \"Number of Publications\": 129}, {\"Year\": \"2020-01-01T00:00:00\", \"Number of Publications\": 157}, {\"Year\": \"2021-01-01T00:00:00\", \"Number of Publications\": 170}]}}, {\"mode\": \"vega-lite\"});\n",
       "</script>"
      ],
      "text/plain": [
       "alt.Chart(...)"
      ]
     },
     "execution_count": 11,
     "metadata": {},
     "output_type": "execute_result"
    }
   ],
   "source": [
    "pub_num = alt.Chart(pub_num_df).mark_line().encode(\n",
    "    x = 'Year',\n",
    "    y = alt.Y(\n",
    "        'Number of Publications',\n",
    "        title = 'Number of publications'\n",
    "    )\n",
    ")\n",
    "\n",
    "pub_num"
   ]
  },
  {
   "cell_type": "code",
   "execution_count": 12,
   "id": "cf521a1c",
   "metadata": {},
   "outputs": [],
   "source": [
    "# (ggplot(pub_num_df, aes('Year', 'Number of Publications'))\n",
    "#  + p9.theme_bw()\n",
    "#  + p9.geom_line() \n",
    "# )"
   ]
  },
  {
   "cell_type": "markdown",
   "id": "c9dcdf7e",
   "metadata": {},
   "source": [
    "### Number of unique authors"
   ]
  },
  {
   "cell_type": "code",
   "execution_count": 13,
   "id": "6a7720df",
   "metadata": {},
   "outputs": [
    {
     "data": {
      "text/plain": [
       "110"
      ]
     },
     "execution_count": 13,
     "metadata": {},
     "output_type": "execute_result"
    }
   ],
   "source": [
    "# how many rows miss openalex author id\n",
    "author[author['OpenAlex Author ID'].isnull()].shape[0]"
   ]
  },
  {
   "cell_type": "code",
   "execution_count": 14,
   "id": "d9e673ed",
   "metadata": {},
   "outputs": [],
   "source": [
    "author_with_author_id = author[\n",
    "    author['OpenAlex Author ID'].notnull()]"
   ]
  },
  {
   "cell_type": "code",
   "execution_count": 15,
   "id": "4b7f4338",
   "metadata": {},
   "outputs": [
    {
     "data": {
      "text/html": [
       "<div>\n",
       "<style scoped>\n",
       "    .dataframe tbody tr th:only-of-type {\n",
       "        vertical-align: middle;\n",
       "    }\n",
       "\n",
       "    .dataframe tbody tr th {\n",
       "        vertical-align: top;\n",
       "    }\n",
       "\n",
       "    .dataframe thead th {\n",
       "        text-align: right;\n",
       "    }\n",
       "</style>\n",
       "<table border=\"1\" class=\"dataframe\">\n",
       "  <thead>\n",
       "    <tr style=\"text-align: right;\">\n",
       "      <th></th>\n",
       "      <th>Year</th>\n",
       "      <th>Number of Unique Authors</th>\n",
       "    </tr>\n",
       "  </thead>\n",
       "  <tbody>\n",
       "    <tr>\n",
       "      <th>0</th>\n",
       "      <td>1990-01-01</td>\n",
       "      <td>118</td>\n",
       "    </tr>\n",
       "    <tr>\n",
       "      <th>1</th>\n",
       "      <td>1991-01-01</td>\n",
       "      <td>126</td>\n",
       "    </tr>\n",
       "    <tr>\n",
       "      <th>2</th>\n",
       "      <td>1992-01-01</td>\n",
       "      <td>121</td>\n",
       "    </tr>\n",
       "    <tr>\n",
       "      <th>3</th>\n",
       "      <td>1993-01-01</td>\n",
       "      <td>117</td>\n",
       "    </tr>\n",
       "    <tr>\n",
       "      <th>4</th>\n",
       "      <td>1994-01-01</td>\n",
       "      <td>130</td>\n",
       "    </tr>\n",
       "  </tbody>\n",
       "</table>\n",
       "</div>"
      ],
      "text/plain": [
       "        Year  Number of Unique Authors\n",
       "0 1990-01-01                       118\n",
       "1 1991-01-01                       126\n",
       "2 1992-01-01                       121\n",
       "3 1993-01-01                       117\n",
       "4 1994-01-01                       130"
      ]
     },
     "execution_count": 15,
     "metadata": {},
     "output_type": "execute_result"
    }
   ],
   "source": [
    "unique_author_num_df = author_with_author_id.groupby(\n",
    "    'Year')['OpenAlex Author ID'].nunique().reset_index(\n",
    "    name = 'Number of Unique Authors')\n",
    "unique_author_num_df['Year'] = pd.to_datetime(\n",
    "    unique_author_num_df['Year'], format=\"%Y\",\n",
    ")\n",
    "unique_author_num_df.head()"
   ]
  },
  {
   "cell_type": "code",
   "execution_count": 16,
   "id": "99ecb59d",
   "metadata": {},
   "outputs": [
    {
     "data": {
      "text/html": [
       "<div>\n",
       "<style scoped>\n",
       "    .dataframe tbody tr th:only-of-type {\n",
       "        vertical-align: middle;\n",
       "    }\n",
       "\n",
       "    .dataframe tbody tr th {\n",
       "        vertical-align: top;\n",
       "    }\n",
       "\n",
       "    .dataframe thead th {\n",
       "        text-align: right;\n",
       "    }\n",
       "</style>\n",
       "<table border=\"1\" class=\"dataframe\">\n",
       "  <thead>\n",
       "    <tr style=\"text-align: right;\">\n",
       "      <th></th>\n",
       "      <th>Year</th>\n",
       "      <th>Number of Unique Authors</th>\n",
       "    </tr>\n",
       "  </thead>\n",
       "  <tbody>\n",
       "    <tr>\n",
       "      <th>27</th>\n",
       "      <td>2017-01-01</td>\n",
       "      <td>455</td>\n",
       "    </tr>\n",
       "    <tr>\n",
       "      <th>28</th>\n",
       "      <td>2018-01-01</td>\n",
       "      <td>494</td>\n",
       "    </tr>\n",
       "    <tr>\n",
       "      <th>29</th>\n",
       "      <td>2019-01-01</td>\n",
       "      <td>551</td>\n",
       "    </tr>\n",
       "    <tr>\n",
       "      <th>30</th>\n",
       "      <td>2020-01-01</td>\n",
       "      <td>640</td>\n",
       "    </tr>\n",
       "    <tr>\n",
       "      <th>31</th>\n",
       "      <td>2021-01-01</td>\n",
       "      <td>670</td>\n",
       "    </tr>\n",
       "  </tbody>\n",
       "</table>\n",
       "</div>"
      ],
      "text/plain": [
       "         Year  Number of Unique Authors\n",
       "27 2017-01-01                       455\n",
       "28 2018-01-01                       494\n",
       "29 2019-01-01                       551\n",
       "30 2020-01-01                       640\n",
       "31 2021-01-01                       670"
      ]
     },
     "execution_count": 16,
     "metadata": {},
     "output_type": "execute_result"
    }
   ],
   "source": [
    "unique_author_num_df.tail()"
   ]
  },
  {
   "cell_type": "code",
   "execution_count": 17,
   "id": "fc5291c5",
   "metadata": {},
   "outputs": [
    {
     "data": {
      "image/png": "[encoded data removed]",
      "text/plain": [
       "<Figure size 432x288 with 1 Axes>"
      ]
     },
     "metadata": {
      "needs_background": "light"
     },
     "output_type": "display_data"
    }
   ],
   "source": [
    "g = sns.lineplot(x = 'Year', \n",
    "                 y= 'Number of Unique Authors', \n",
    "                 data = unique_author_num_df\n",
    "                )\n",
    "g.set_ylim(0,)\n",
    "plt.grid()"
   ]
  },
  {
   "cell_type": "code",
   "execution_count": 18,
   "id": "91f49774",
   "metadata": {},
   "outputs": [
    {
     "data": {
      "text/html": [
       "\n",
       "<div id=\"altair-viz-0c3878ae4c0049f4b8b57ced7960449a\"></div>\n",
       "<script type=\"text/javascript\">\n",
       "  var VEGA_DEBUG = (typeof VEGA_DEBUG == \"undefined\") ? {} : VEGA_DEBUG;\n",
       "  (function(spec, embedOpt){\n",
       "    let outputDiv = document.currentScript.previousElementSibling;\n",
       "    if (outputDiv.id !== \"altair-viz-0c3878ae4c0049f4b8b57ced7960449a\") {\n",
       "      outputDiv = document.getElementById(\"altair-viz-0c3878ae4c0049f4b8b57ced7960449a\");\n",
       "    }\n",
       "    const paths = {\n",
       "      \"vega\": \"https://cdn.jsdelivr.net/npm//vega@5?noext\",\n",
       "      \"vega-lib\": \"https://cdn.jsdelivr.net/npm//vega-lib?noext\",\n",
       "      \"vega-lite\": \"https://cdn.jsdelivr.net/npm//vega-lite@4.17.0?noext\",\n",
       "      \"vega-embed\": \"https://cdn.jsdelivr.net/npm//vega-embed@6?noext\",\n",
       "    };\n",
       "\n",
       "    function maybeLoadScript(lib, version) {\n",
       "      var key = `${lib.replace(\"-\", \"\")}_version`;\n",
       "      return (VEGA_DEBUG[key] == version) ?\n",
       "        Promise.resolve(paths[lib]) :\n",
       "        new Promise(function(resolve, reject) {\n",
       "          var s = document.createElement('script');\n",
       "          document.getElementsByTagName(\"head\")[0].appendChild(s);\n",
       "          s.async = true;\n",
       "          s.onload = () => {\n",
       "            VEGA_DEBUG[key] = version;\n",
       "            return resolve(paths[lib]);\n",
       "          };\n",
       "          s.onerror = () => reject(`Error loading script: ${paths[lib]}`);\n",
       "          s.src = paths[lib];\n",
       "        });\n",
       "    }\n",
       "\n",
       "    function showError(err) {\n",
       "      outputDiv.innerHTML = `<div class=\"error\" style=\"color:red;\">${err}</div>`;\n",
       "      throw err;\n",
       "    }\n",
       "\n",
       "    function displayChart(vegaEmbed) {\n",
       "      vegaEmbed(outputDiv, spec, embedOpt)\n",
       "        .catch(err => showError(`Javascript Error: ${err.message}<br>This usually means there's a typo in your chart specification. See the javascript console for the full traceback.`));\n",
       "    }\n",
       "\n",
       "    if(typeof define === \"function\" && define.amd) {\n",
       "      requirejs.config({paths});\n",
       "      require([\"vega-embed\"], displayChart, err => showError(`Error loading script: ${err.message}`));\n",
       "    } else {\n",
       "      maybeLoadScript(\"vega\", \"5\")\n",
       "        .then(() => maybeLoadScript(\"vega-lite\", \"4.17.0\"))\n",
       "        .then(() => maybeLoadScript(\"vega-embed\", \"6\"))\n",
       "        .catch(showError)\n",
       "        .then(() => displayChart(vegaEmbed));\n",
       "    }\n",
       "  })({\"config\": {\"view\": {\"continuousWidth\": 400, \"continuousHeight\": 300}}, \"data\": {\"name\": \"data-6ceec6ad84a14b2f28097442ba84d375\"}, \"mark\": \"line\", \"encoding\": {\"x\": {\"field\": \"Year\", \"type\": \"temporal\"}, \"y\": {\"field\": \"Number of Unique Authors\", \"title\": \"Number of unique authors\", \"type\": \"quantitative\"}}, \"$schema\": \"https://vega.github.io/schema/vega-lite/v4.17.0.json\", \"datasets\": {\"data-6ceec6ad84a14b2f28097442ba84d375\": [{\"Year\": \"1990-01-01T00:00:00\", \"Number of Unique Authors\": 118}, {\"Year\": \"1991-01-01T00:00:00\", \"Number of Unique Authors\": 126}, {\"Year\": \"1992-01-01T00:00:00\", \"Number of Unique Authors\": 121}, {\"Year\": \"1993-01-01T00:00:00\", \"Number of Unique Authors\": 117}, {\"Year\": \"1994-01-01T00:00:00\", \"Number of Unique Authors\": 130}, {\"Year\": \"1995-01-01T00:00:00\", \"Number of Unique Authors\": 184}, {\"Year\": \"1996-01-01T00:00:00\", \"Number of Unique Authors\": 229}, {\"Year\": \"1997-01-01T00:00:00\", \"Number of Unique Authors\": 224}, {\"Year\": \"1998-01-01T00:00:00\", \"Number of Unique Authors\": 232}, {\"Year\": \"1999-01-01T00:00:00\", \"Number of Unique Authors\": 245}, {\"Year\": \"2000-01-01T00:00:00\", \"Number of Unique Authors\": 276}, {\"Year\": \"2001-01-01T00:00:00\", \"Number of Unique Authors\": 285}, {\"Year\": \"2002-01-01T00:00:00\", \"Number of Unique Authors\": 270}, {\"Year\": \"2003-01-01T00:00:00\", \"Number of Unique Authors\": 283}, {\"Year\": \"2004-01-01T00:00:00\", \"Number of Unique Authors\": 287}, {\"Year\": \"2005-01-01T00:00:00\", \"Number of Unique Authors\": 374}, {\"Year\": \"2006-01-01T00:00:00\", \"Number of Unique Authors\": 326}, {\"Year\": \"2007-01-01T00:00:00\", \"Number of Unique Authors\": 342}, {\"Year\": \"2008-01-01T00:00:00\", \"Number of Unique Authors\": 335}, {\"Year\": \"2009-01-01T00:00:00\", \"Number of Unique Authors\": 375}, {\"Year\": \"2010-01-01T00:00:00\", \"Number of Unique Authors\": 369}, {\"Year\": \"2011-01-01T00:00:00\", \"Number of Unique Authors\": 412}, {\"Year\": \"2012-01-01T00:00:00\", \"Number of Unique Authors\": 422}, {\"Year\": \"2013-01-01T00:00:00\", \"Number of Unique Authors\": 351}, {\"Year\": \"2014-01-01T00:00:00\", \"Number of Unique Authors\": 506}, {\"Year\": \"2015-01-01T00:00:00\", \"Number of Unique Authors\": 495}, {\"Year\": \"2016-01-01T00:00:00\", \"Number of Unique Authors\": 445}, {\"Year\": \"2017-01-01T00:00:00\", \"Number of Unique Authors\": 455}, {\"Year\": \"2018-01-01T00:00:00\", \"Number of Unique Authors\": 494}, {\"Year\": \"2019-01-01T00:00:00\", \"Number of Unique Authors\": 551}, {\"Year\": \"2020-01-01T00:00:00\", \"Number of Unique Authors\": 640}, {\"Year\": \"2021-01-01T00:00:00\", \"Number of Unique Authors\": 670}]}}, {\"mode\": \"vega-lite\"});\n",
       "</script>"
      ],
      "text/plain": [
       "alt.Chart(...)"
      ]
     },
     "execution_count": 18,
     "metadata": {},
     "output_type": "execute_result"
    }
   ],
   "source": [
    "unique_authors = alt.Chart(unique_author_num_df).mark_line().encode(\n",
    "    x = 'Year',\n",
    "    y = alt.Y(\n",
    "        'Number of Unique Authors',\n",
    "        title = 'Number of unique authors'\n",
    "    )\n",
    ")\n",
    "\n",
    "unique_authors"
   ]
  },
  {
   "cell_type": "code",
   "execution_count": 19,
   "id": "de88a859",
   "metadata": {},
   "outputs": [],
   "source": [
    "# alt.layer(\n",
    "#     pub_num,\n",
    "#     unique_authors\n",
    "# )"
   ]
  },
  {
   "cell_type": "code",
   "execution_count": 20,
   "id": "120cd52c",
   "metadata": {},
   "outputs": [],
   "source": [
    "# (ggplot(unique_author_num_df, aes('Year', 'Number of Unique Authors'))\n",
    "#  + p9.theme_bw()\n",
    "#  + p9.geom_line() \n",
    "# )"
   ]
  },
  {
   "cell_type": "markdown",
   "id": "7ccec819",
   "metadata": {},
   "source": [
    "### Average number of authors"
   ]
  },
  {
   "cell_type": "code",
   "execution_count": 21,
   "id": "77852a1a",
   "metadata": {},
   "outputs": [
    {
     "data": {
      "text/html": [
       "<div>\n",
       "<style scoped>\n",
       "    .dataframe tbody tr th:only-of-type {\n",
       "        vertical-align: middle;\n",
       "    }\n",
       "\n",
       "    .dataframe tbody tr th {\n",
       "        vertical-align: top;\n",
       "    }\n",
       "\n",
       "    .dataframe thead th {\n",
       "        text-align: right;\n",
       "    }\n",
       "</style>\n",
       "<table border=\"1\" class=\"dataframe\">\n",
       "  <thead>\n",
       "    <tr style=\"text-align: right;\">\n",
       "      <th></th>\n",
       "      <th>Year</th>\n",
       "      <th>Number of Authors</th>\n",
       "    </tr>\n",
       "  </thead>\n",
       "  <tbody>\n",
       "    <tr>\n",
       "      <th>27</th>\n",
       "      <td>2017</td>\n",
       "      <td>4.728070</td>\n",
       "    </tr>\n",
       "    <tr>\n",
       "      <th>28</th>\n",
       "      <td>2018</td>\n",
       "      <td>4.629921</td>\n",
       "    </tr>\n",
       "    <tr>\n",
       "      <th>29</th>\n",
       "      <td>2019</td>\n",
       "      <td>5.255814</td>\n",
       "    </tr>\n",
       "    <tr>\n",
       "      <th>30</th>\n",
       "      <td>2020</td>\n",
       "      <td>5.050955</td>\n",
       "    </tr>\n",
       "    <tr>\n",
       "      <th>31</th>\n",
       "      <td>2021</td>\n",
       "      <td>4.970588</td>\n",
       "    </tr>\n",
       "  </tbody>\n",
       "</table>\n",
       "</div>"
      ],
      "text/plain": [
       "    Year  Number of Authors\n",
       "27  2017           4.728070\n",
       "28  2018           4.629921\n",
       "29  2019           5.255814\n",
       "30  2020           5.050955\n",
       "31  2021           4.970588"
      ]
     },
     "execution_count": 21,
     "metadata": {},
     "output_type": "execute_result"
    }
   ],
   "source": [
    "author_num_df = paper.groupby(\n",
    "    'Year')['Number of Authors'].mean().to_frame().reset_index()\n",
    "author_num_df.tail()"
   ]
  },
  {
   "cell_type": "code",
   "execution_count": 22,
   "id": "1ae1208a",
   "metadata": {},
   "outputs": [
    {
     "data": {
      "image/png": "[encoded data removed]",
      "text/plain": [
       "<Figure size 432x288 with 1 Axes>"
      ]
     },
     "metadata": {
      "needs_background": "light"
     },
     "output_type": "display_data"
    }
   ],
   "source": [
    "g = sns.lineplot(x='Year', \n",
    "                 y='Number of Authors', \n",
    "                 data = author_num_df)\n",
    "g.set_ylim(0,)\n",
    "g.set_ylabel('Average Number of Authors')\n",
    "plt.grid()\n",
    "plt.savefig('../results/supp/ave_author_num.pdf')"
   ]
  },
  {
   "cell_type": "code",
   "execution_count": 23,
   "id": "b06620f4",
   "metadata": {},
   "outputs": [],
   "source": [
    "# (ggplot(author_num_df, aes('Year', 'Number of Authors'))\n",
    "#  + p9.geom_line() \n",
    "# )"
   ]
  },
  {
   "cell_type": "code",
   "execution_count": 24,
   "id": "2e60ba60",
   "metadata": {},
   "outputs": [],
   "source": [
    "def get_total_and_ratio_by_year(DF, BY, subgroup_par):\n",
    "    tuples = []\n",
    "    for group in DF.groupby(BY):\n",
    "        year = group[0]\n",
    "        total = group[1].shape[0]\n",
    "        for subgroup in group[1].groupby(subgroup_par):\n",
    "            subtype = 'Yes' if subgroup[0] else 'No'\n",
    "            count = subgroup[1].shape[0]\n",
    "            ratio = count / total\n",
    "            tuples.append((year, subtype, count, ratio))\n",
    "    dff = pd.DataFrame(\n",
    "        list(tuples), columns=['year', 'type', 'count', 'ratio']) \n",
    "    return dff"
   ]
  },
  {
   "cell_type": "markdown",
   "id": "6c2ac73d",
   "metadata": {},
   "source": [
    "### Cross-country collaboration"
   ]
  },
  {
   "cell_type": "code",
   "execution_count": 25,
   "id": "41a24f62",
   "metadata": {},
   "outputs": [],
   "source": [
    "cross_country = get_total_and_ratio_by_year(\n",
    "    paper, \n",
    "    'Year',\n",
    "    'Cross-country Collaboration'\n",
    ")\n",
    "cross_country['year'] = pd.to_datetime(\n",
    "    cross_country['year'], format=\"%Y\"\n",
    ")"
   ]
  },
  {
   "cell_type": "code",
   "execution_count": 26,
   "id": "474137de",
   "metadata": {},
   "outputs": [
    {
     "data": {
      "image/png": "[encoded data removed]",
      "text/plain": [
       "<Figure size 432x288 with 1 Axes>"
      ]
     },
     "metadata": {
      "needs_background": "light"
     },
     "output_type": "display_data"
    }
   ],
   "source": [
    "g = sns.lineplot(x='year',\n",
    "                 y='ratio',\n",
    "                 hue='type', \n",
    "                 data = cross_country\n",
    "                )\n",
    "g.set_title('changes in ratio of cross-country collaboration over 32 years')\n",
    "plt.grid()"
   ]
  },
  {
   "cell_type": "code",
   "execution_count": 27,
   "id": "c5a966c1",
   "metadata": {},
   "outputs": [
    {
     "data": {
      "image/png": "[encoded data removed]",
      "text/plain": [
       "<Figure size 432x288 with 1 Axes>"
      ]
     },
     "metadata": {
      "needs_background": "light"
     },
     "output_type": "display_data"
    }
   ],
   "source": [
    "g = sns.lineplot(x='year',\n",
    "                 y='count',\n",
    "                 hue='type', \n",
    "                 data = cross_country\n",
    "                )\n",
    "g.set_title('changes in number of cross-country collaboration over 32 years')\n",
    "plt.grid()"
   ]
  },
  {
   "cell_type": "code",
   "execution_count": 28,
   "id": "edb58f1b",
   "metadata": {},
   "outputs": [],
   "source": [
    "# (ggplot(cross_country, aes('year', 'count', color='type'))\n",
    "#  + p9.theme_bw()\n",
    "#  + p9.geom_line() \n",
    "# )"
   ]
  },
  {
   "cell_type": "code",
   "execution_count": 29,
   "id": "16e00a45",
   "metadata": {},
   "outputs": [
    {
     "data": {
      "text/html": [
       "\n",
       "<div id=\"altair-viz-f29b202e015e4a7c8fd28ae3619db3f5\"></div>\n",
       "<script type=\"text/javascript\">\n",
       "  var VEGA_DEBUG = (typeof VEGA_DEBUG == \"undefined\") ? {} : VEGA_DEBUG;\n",
       "  (function(spec, embedOpt){\n",
       "    let outputDiv = document.currentScript.previousElementSibling;\n",
       "    if (outputDiv.id !== \"altair-viz-f29b202e015e4a7c8fd28ae3619db3f5\") {\n",
       "      outputDiv = document.getElementById(\"altair-viz-f29b202e015e4a7c8fd28ae3619db3f5\");\n",
       "    }\n",
       "    const paths = {\n",
       "      \"vega\": \"https://cdn.jsdelivr.net/npm//vega@5?noext\",\n",
       "      \"vega-lib\": \"https://cdn.jsdelivr.net/npm//vega-lib?noext\",\n",
       "      \"vega-lite\": \"https://cdn.jsdelivr.net/npm//vega-lite@4.17.0?noext\",\n",
       "      \"vega-embed\": \"https://cdn.jsdelivr.net/npm//vega-embed@6?noext\",\n",
       "    };\n",
       "\n",
       "    function maybeLoadScript(lib, version) {\n",
       "      var key = `${lib.replace(\"-\", \"\")}_version`;\n",
       "      return (VEGA_DEBUG[key] == version) ?\n",
       "        Promise.resolve(paths[lib]) :\n",
       "        new Promise(function(resolve, reject) {\n",
       "          var s = document.createElement('script');\n",
       "          document.getElementsByTagName(\"head\")[0].appendChild(s);\n",
       "          s.async = true;\n",
       "          s.onload = () => {\n",
       "            VEGA_DEBUG[key] = version;\n",
       "            return resolve(paths[lib]);\n",
       "          };\n",
       "          s.onerror = () => reject(`Error loading script: ${paths[lib]}`);\n",
       "          s.src = paths[lib];\n",
       "        });\n",
       "    }\n",
       "\n",
       "    function showError(err) {\n",
       "      outputDiv.innerHTML = `<div class=\"error\" style=\"color:red;\">${err}</div>`;\n",
       "      throw err;\n",
       "    }\n",
       "\n",
       "    function displayChart(vegaEmbed) {\n",
       "      vegaEmbed(outputDiv, spec, embedOpt)\n",
       "        .catch(err => showError(`Javascript Error: ${err.message}<br>This usually means there's a typo in your chart specification. See the javascript console for the full traceback.`));\n",
       "    }\n",
       "\n",
       "    if(typeof define === \"function\" && define.amd) {\n",
       "      requirejs.config({paths});\n",
       "      require([\"vega-embed\"], displayChart, err => showError(`Error loading script: ${err.message}`));\n",
       "    } else {\n",
       "      maybeLoadScript(\"vega\", \"5\")\n",
       "        .then(() => maybeLoadScript(\"vega-lite\", \"4.17.0\"))\n",
       "        .then(() => maybeLoadScript(\"vega-embed\", \"6\"))\n",
       "        .catch(showError)\n",
       "        .then(() => displayChart(vegaEmbed));\n",
       "    }\n",
       "  })({\"config\": {\"view\": {\"continuousWidth\": 400, \"continuousHeight\": 300}}, \"data\": {\"name\": \"data-13dc27e4ecc591ee8fd381db4be435d5\"}, \"mark\": \"line\", \"encoding\": {\"color\": {\"field\": \"type\", \"scale\": {\"domain\": [\"Yes\", \"No\"], \"range\": [\"steelblue\", \"orange\"]}, \"sort\": [\"Yes\", \"No\"], \"title\": \"Cross-country collab.\", \"type\": \"nominal\"}, \"x\": {\"field\": \"year\", \"type\": \"temporal\"}, \"y\": {\"field\": \"ratio\", \"title\": \"Ratio\", \"type\": \"quantitative\"}}, \"$schema\": \"https://vega.github.io/schema/vega-lite/v4.17.0.json\", \"datasets\": {\"data-13dc27e4ecc591ee8fd381db4be435d5\": [{\"year\": \"1990-01-01T00:00:00\", \"type\": \"No\", \"count\": 50, \"ratio\": 0.9615384615384616}, {\"year\": \"1990-01-01T00:00:00\", \"type\": \"Yes\", \"count\": 2, \"ratio\": 0.038461538461538464}, {\"year\": \"1991-01-01T00:00:00\", \"type\": \"No\", \"count\": 49, \"ratio\": 0.98}, {\"year\": \"1991-01-01T00:00:00\", \"type\": \"Yes\", \"count\": 1, \"ratio\": 0.02}, {\"year\": \"1992-01-01T00:00:00\", \"type\": \"No\", \"count\": 47, \"ratio\": 0.8867924528301887}, {\"year\": \"1992-01-01T00:00:00\", \"type\": \"Yes\", \"count\": 6, \"ratio\": 0.11320754716981132}, {\"year\": \"1993-01-01T00:00:00\", \"type\": \"No\", \"count\": 51, \"ratio\": 0.9272727272727272}, {\"year\": \"1993-01-01T00:00:00\", \"type\": \"Yes\", \"count\": 4, \"ratio\": 0.07272727272727272}, {\"year\": \"1994-01-01T00:00:00\", \"type\": \"No\", \"count\": 49, \"ratio\": 0.9245283018867925}, {\"year\": \"1994-01-01T00:00:00\", \"type\": \"Yes\", \"count\": 4, \"ratio\": 0.07547169811320754}, {\"year\": \"1995-01-01T00:00:00\", \"type\": \"No\", \"count\": 69, \"ratio\": 0.9324324324324325}, {\"year\": \"1995-01-01T00:00:00\", \"type\": \"Yes\", \"count\": 5, \"ratio\": 0.06756756756756757}, {\"year\": \"1996-01-01T00:00:00\", \"type\": \"No\", \"count\": 69, \"ratio\": 0.8961038961038961}, {\"year\": \"1996-01-01T00:00:00\", \"type\": \"Yes\", \"count\": 8, \"ratio\": 0.1038961038961039}, {\"year\": \"1997-01-01T00:00:00\", \"type\": \"No\", \"count\": 82, \"ratio\": 0.9318181818181818}, {\"year\": \"1997-01-01T00:00:00\", \"type\": \"Yes\", \"count\": 6, \"ratio\": 0.06818181818181818}, {\"year\": \"1998-01-01T00:00:00\", \"type\": \"No\", \"count\": 83, \"ratio\": 0.9222222222222223}, {\"year\": \"1998-01-01T00:00:00\", \"type\": \"Yes\", \"count\": 7, \"ratio\": 0.07777777777777778}, {\"year\": \"1999-01-01T00:00:00\", \"type\": \"No\", \"count\": 83, \"ratio\": 0.9431818181818182}, {\"year\": \"1999-01-01T00:00:00\", \"type\": \"Yes\", \"count\": 5, \"ratio\": 0.056818181818181816}, {\"year\": \"2000-01-01T00:00:00\", \"type\": \"No\", \"count\": 81, \"ratio\": 0.8804347826086957}, {\"year\": \"2000-01-01T00:00:00\", \"type\": \"Yes\", \"count\": 11, \"ratio\": 0.11956521739130435}, {\"year\": \"2001-01-01T00:00:00\", \"type\": \"No\", \"count\": 83, \"ratio\": 0.8645833333333334}, {\"year\": \"2001-01-01T00:00:00\", \"type\": \"Yes\", \"count\": 13, \"ratio\": 0.13541666666666666}, {\"year\": \"2002-01-01T00:00:00\", \"type\": \"No\", \"count\": 86, \"ratio\": 0.8514851485148515}, {\"year\": \"2002-01-01T00:00:00\", \"type\": \"Yes\", \"count\": 15, \"ratio\": 0.1485148514851485}, {\"year\": \"2003-01-01T00:00:00\", \"type\": \"No\", \"count\": 91, \"ratio\": 0.8921568627450981}, {\"year\": \"2003-01-01T00:00:00\", \"type\": \"Yes\", \"count\": 11, \"ratio\": 0.10784313725490197}, {\"year\": \"2004-01-01T00:00:00\", \"type\": \"No\", \"count\": 79, \"ratio\": 0.8144329896907216}, {\"year\": \"2004-01-01T00:00:00\", \"type\": \"Yes\", \"count\": 18, \"ratio\": 0.18556701030927836}, {\"year\": \"2005-01-01T00:00:00\", \"type\": \"No\", \"count\": 98, \"ratio\": 0.8235294117647058}, {\"year\": \"2005-01-01T00:00:00\", \"type\": \"Yes\", \"count\": 21, \"ratio\": 0.17647058823529413}, {\"year\": \"2006-01-01T00:00:00\", \"type\": \"No\", \"count\": 90, \"ratio\": 0.7964601769911505}, {\"year\": \"2006-01-01T00:00:00\", \"type\": \"Yes\", \"count\": 23, \"ratio\": 0.20353982300884957}, {\"year\": \"2007-01-01T00:00:00\", \"type\": \"No\", \"count\": 75, \"ratio\": 0.7009345794392523}, {\"year\": \"2007-01-01T00:00:00\", \"type\": \"Yes\", \"count\": 32, \"ratio\": 0.29906542056074764}, {\"year\": \"2008-01-01T00:00:00\", \"type\": \"No\", \"count\": 75, \"ratio\": 0.7575757575757576}, {\"year\": \"2008-01-01T00:00:00\", \"type\": \"Yes\", \"count\": 24, \"ratio\": 0.24242424242424243}, {\"year\": \"2009-01-01T00:00:00\", \"type\": \"No\", \"count\": 90, \"ratio\": 0.7692307692307693}, {\"year\": \"2009-01-01T00:00:00\", \"type\": \"Yes\", \"count\": 27, \"ratio\": 0.23076923076923078}, {\"year\": \"2010-01-01T00:00:00\", \"type\": \"No\", \"count\": 79, \"ratio\": 0.7247706422018348}, {\"year\": \"2010-01-01T00:00:00\", \"type\": \"Yes\", \"count\": 30, \"ratio\": 0.27522935779816515}, {\"year\": \"2011-01-01T00:00:00\", \"type\": \"No\", \"count\": 91, \"ratio\": 0.7647058823529411}, {\"year\": \"2011-01-01T00:00:00\", \"type\": \"Yes\", \"count\": 28, \"ratio\": 0.23529411764705882}, {\"year\": \"2012-01-01T00:00:00\", \"type\": \"No\", \"count\": 74, \"ratio\": 0.6379310344827587}, {\"year\": \"2012-01-01T00:00:00\", \"type\": \"Yes\", \"count\": 42, \"ratio\": 0.3620689655172414}, {\"year\": \"2013-01-01T00:00:00\", \"type\": \"No\", \"count\": 75, \"ratio\": 0.7425742574257426}, {\"year\": \"2013-01-01T00:00:00\", \"type\": \"Yes\", \"count\": 26, \"ratio\": 0.25742574257425743}, {\"year\": \"2014-01-01T00:00:00\", \"type\": \"No\", \"count\": 85, \"ratio\": 0.6390977443609023}, {\"year\": \"2014-01-01T00:00:00\", \"type\": \"Yes\", \"count\": 48, \"ratio\": 0.3609022556390977}, {\"year\": \"2015-01-01T00:00:00\", \"type\": \"No\", \"count\": 80, \"ratio\": 0.6299212598425197}, {\"year\": \"2015-01-01T00:00:00\", \"type\": \"Yes\", \"count\": 47, \"ratio\": 0.3700787401574803}, {\"year\": \"2016-01-01T00:00:00\", \"type\": \"No\", \"count\": 66, \"ratio\": 0.5739130434782609}, {\"year\": \"2016-01-01T00:00:00\", \"type\": \"Yes\", \"count\": 49, \"ratio\": 0.4260869565217391}, {\"year\": \"2017-01-01T00:00:00\", \"type\": \"No\", \"count\": 65, \"ratio\": 0.5701754385964912}, {\"year\": \"2017-01-01T00:00:00\", \"type\": \"Yes\", \"count\": 49, \"ratio\": 0.4298245614035088}, {\"year\": \"2018-01-01T00:00:00\", \"type\": \"No\", \"count\": 82, \"ratio\": 0.6456692913385826}, {\"year\": \"2018-01-01T00:00:00\", \"type\": \"Yes\", \"count\": 45, \"ratio\": 0.3543307086614173}, {\"year\": \"2019-01-01T00:00:00\", \"type\": \"No\", \"count\": 81, \"ratio\": 0.627906976744186}, {\"year\": \"2019-01-01T00:00:00\", \"type\": \"Yes\", \"count\": 48, \"ratio\": 0.37209302325581395}, {\"year\": \"2020-01-01T00:00:00\", \"type\": \"No\", \"count\": 93, \"ratio\": 0.5923566878980892}, {\"year\": \"2020-01-01T00:00:00\", \"type\": \"Yes\", \"count\": 64, \"ratio\": 0.40764331210191085}, {\"year\": \"2021-01-01T00:00:00\", \"type\": \"No\", \"count\": 94, \"ratio\": 0.5529411764705883}, {\"year\": \"2021-01-01T00:00:00\", \"type\": \"Yes\", \"count\": 76, \"ratio\": 0.4470588235294118}]}}, {\"mode\": \"vega-lite\"});\n",
       "</script>"
      ],
      "text/plain": [
       "alt.Chart(...)"
      ]
     },
     "execution_count": 29,
     "metadata": {},
     "output_type": "execute_result"
    }
   ],
   "source": [
    "cross_country_ratio = alt.Chart(cross_country).mark_line().encode(\n",
    "    x = 'year',\n",
    "    y = alt.Y(\n",
    "        'ratio',\n",
    "        title = 'Ratio'\n",
    "    ),\n",
    "    color = alt.Color(\n",
    "        'type',\n",
    "        title = 'Cross-country collab.',\n",
    "        sort = ['Yes', 'No'],\n",
    "        scale=alt.Scale(domain=['Yes', 'No'],\n",
    "                      range=['steelblue', 'orange'])\n",
    "    )\n",
    ")\n",
    "\n",
    "cross_country_ratio"
   ]
  },
  {
   "cell_type": "code",
   "execution_count": 30,
   "id": "9c6e4073",
   "metadata": {},
   "outputs": [
    {
     "data": {
      "text/html": [
       "\n",
       "<div id=\"altair-viz-e3e32b5d827f47cdbdb2ff2a8dcff03b\"></div>\n",
       "<script type=\"text/javascript\">\n",
       "  var VEGA_DEBUG = (typeof VEGA_DEBUG == \"undefined\") ? {} : VEGA_DEBUG;\n",
       "  (function(spec, embedOpt){\n",
       "    let outputDiv = document.currentScript.previousElementSibling;\n",
       "    if (outputDiv.id !== \"altair-viz-e3e32b5d827f47cdbdb2ff2a8dcff03b\") {\n",
       "      outputDiv = document.getElementById(\"altair-viz-e3e32b5d827f47cdbdb2ff2a8dcff03b\");\n",
       "    }\n",
       "    const paths = {\n",
       "      \"vega\": \"https://cdn.jsdelivr.net/npm//vega@5?noext\",\n",
       "      \"vega-lib\": \"https://cdn.jsdelivr.net/npm//vega-lib?noext\",\n",
       "      \"vega-lite\": \"https://cdn.jsdelivr.net/npm//vega-lite@4.17.0?noext\",\n",
       "      \"vega-embed\": \"https://cdn.jsdelivr.net/npm//vega-embed@6?noext\",\n",
       "    };\n",
       "\n",
       "    function maybeLoadScript(lib, version) {\n",
       "      var key = `${lib.replace(\"-\", \"\")}_version`;\n",
       "      return (VEGA_DEBUG[key] == version) ?\n",
       "        Promise.resolve(paths[lib]) :\n",
       "        new Promise(function(resolve, reject) {\n",
       "          var s = document.createElement('script');\n",
       "          document.getElementsByTagName(\"head\")[0].appendChild(s);\n",
       "          s.async = true;\n",
       "          s.onload = () => {\n",
       "            VEGA_DEBUG[key] = version;\n",
       "            return resolve(paths[lib]);\n",
       "          };\n",
       "          s.onerror = () => reject(`Error loading script: ${paths[lib]}`);\n",
       "          s.src = paths[lib];\n",
       "        });\n",
       "    }\n",
       "\n",
       "    function showError(err) {\n",
       "      outputDiv.innerHTML = `<div class=\"error\" style=\"color:red;\">${err}</div>`;\n",
       "      throw err;\n",
       "    }\n",
       "\n",
       "    function displayChart(vegaEmbed) {\n",
       "      vegaEmbed(outputDiv, spec, embedOpt)\n",
       "        .catch(err => showError(`Javascript Error: ${err.message}<br>This usually means there's a typo in your chart specification. See the javascript console for the full traceback.`));\n",
       "    }\n",
       "\n",
       "    if(typeof define === \"function\" && define.amd) {\n",
       "      requirejs.config({paths});\n",
       "      require([\"vega-embed\"], displayChart, err => showError(`Error loading script: ${err.message}`));\n",
       "    } else {\n",
       "      maybeLoadScript(\"vega\", \"5\")\n",
       "        .then(() => maybeLoadScript(\"vega-lite\", \"4.17.0\"))\n",
       "        .then(() => maybeLoadScript(\"vega-embed\", \"6\"))\n",
       "        .catch(showError)\n",
       "        .then(() => displayChart(vegaEmbed));\n",
       "    }\n",
       "  })({\"config\": {\"view\": {\"continuousWidth\": 400, \"continuousHeight\": 300}}, \"data\": {\"name\": \"data-13dc27e4ecc591ee8fd381db4be435d5\"}, \"mark\": \"line\", \"encoding\": {\"color\": {\"field\": \"type\", \"sort\": [\"Yes\", \"No\"], \"title\": \"Cross-country collab.\", \"type\": \"nominal\"}, \"x\": {\"field\": \"year\", \"type\": \"temporal\"}, \"y\": {\"field\": \"count\", \"title\": \"Number of publications\", \"type\": \"quantitative\"}}, \"$schema\": \"https://vega.github.io/schema/vega-lite/v4.17.0.json\", \"datasets\": {\"data-13dc27e4ecc591ee8fd381db4be435d5\": [{\"year\": \"1990-01-01T00:00:00\", \"type\": \"No\", \"count\": 50, \"ratio\": 0.9615384615384616}, {\"year\": \"1990-01-01T00:00:00\", \"type\": \"Yes\", \"count\": 2, \"ratio\": 0.038461538461538464}, {\"year\": \"1991-01-01T00:00:00\", \"type\": \"No\", \"count\": 49, \"ratio\": 0.98}, {\"year\": \"1991-01-01T00:00:00\", \"type\": \"Yes\", \"count\": 1, \"ratio\": 0.02}, {\"year\": \"1992-01-01T00:00:00\", \"type\": \"No\", \"count\": 47, \"ratio\": 0.8867924528301887}, {\"year\": \"1992-01-01T00:00:00\", \"type\": \"Yes\", \"count\": 6, \"ratio\": 0.11320754716981132}, {\"year\": \"1993-01-01T00:00:00\", \"type\": \"No\", \"count\": 51, \"ratio\": 0.9272727272727272}, {\"year\": \"1993-01-01T00:00:00\", \"type\": \"Yes\", \"count\": 4, \"ratio\": 0.07272727272727272}, {\"year\": \"1994-01-01T00:00:00\", \"type\": \"No\", \"count\": 49, \"ratio\": 0.9245283018867925}, {\"year\": \"1994-01-01T00:00:00\", \"type\": \"Yes\", \"count\": 4, \"ratio\": 0.07547169811320754}, {\"year\": \"1995-01-01T00:00:00\", \"type\": \"No\", \"count\": 69, \"ratio\": 0.9324324324324325}, {\"year\": \"1995-01-01T00:00:00\", \"type\": \"Yes\", \"count\": 5, \"ratio\": 0.06756756756756757}, {\"year\": \"1996-01-01T00:00:00\", \"type\": \"No\", \"count\": 69, \"ratio\": 0.8961038961038961}, {\"year\": \"1996-01-01T00:00:00\", \"type\": \"Yes\", \"count\": 8, \"ratio\": 0.1038961038961039}, {\"year\": \"1997-01-01T00:00:00\", \"type\": \"No\", \"count\": 82, \"ratio\": 0.9318181818181818}, {\"year\": \"1997-01-01T00:00:00\", \"type\": \"Yes\", \"count\": 6, \"ratio\": 0.06818181818181818}, {\"year\": \"1998-01-01T00:00:00\", \"type\": \"No\", \"count\": 83, \"ratio\": 0.9222222222222223}, {\"year\": \"1998-01-01T00:00:00\", \"type\": \"Yes\", \"count\": 7, \"ratio\": 0.07777777777777778}, {\"year\": \"1999-01-01T00:00:00\", \"type\": \"No\", \"count\": 83, \"ratio\": 0.9431818181818182}, {\"year\": \"1999-01-01T00:00:00\", \"type\": \"Yes\", \"count\": 5, \"ratio\": 0.056818181818181816}, {\"year\": \"2000-01-01T00:00:00\", \"type\": \"No\", \"count\": 81, \"ratio\": 0.8804347826086957}, {\"year\": \"2000-01-01T00:00:00\", \"type\": \"Yes\", \"count\": 11, \"ratio\": 0.11956521739130435}, {\"year\": \"2001-01-01T00:00:00\", \"type\": \"No\", \"count\": 83, \"ratio\": 0.8645833333333334}, {\"year\": \"2001-01-01T00:00:00\", \"type\": \"Yes\", \"count\": 13, \"ratio\": 0.13541666666666666}, {\"year\": \"2002-01-01T00:00:00\", \"type\": \"No\", \"count\": 86, \"ratio\": 0.8514851485148515}, {\"year\": \"2002-01-01T00:00:00\", \"type\": \"Yes\", \"count\": 15, \"ratio\": 0.1485148514851485}, {\"year\": \"2003-01-01T00:00:00\", \"type\": \"No\", \"count\": 91, \"ratio\": 0.8921568627450981}, {\"year\": \"2003-01-01T00:00:00\", \"type\": \"Yes\", \"count\": 11, \"ratio\": 0.10784313725490197}, {\"year\": \"2004-01-01T00:00:00\", \"type\": \"No\", \"count\": 79, \"ratio\": 0.8144329896907216}, {\"year\": \"2004-01-01T00:00:00\", \"type\": \"Yes\", \"count\": 18, \"ratio\": 0.18556701030927836}, {\"year\": \"2005-01-01T00:00:00\", \"type\": \"No\", \"count\": 98, \"ratio\": 0.8235294117647058}, {\"year\": \"2005-01-01T00:00:00\", \"type\": \"Yes\", \"count\": 21, \"ratio\": 0.17647058823529413}, {\"year\": \"2006-01-01T00:00:00\", \"type\": \"No\", \"count\": 90, \"ratio\": 0.7964601769911505}, {\"year\": \"2006-01-01T00:00:00\", \"type\": \"Yes\", \"count\": 23, \"ratio\": 0.20353982300884957}, {\"year\": \"2007-01-01T00:00:00\", \"type\": \"No\", \"count\": 75, \"ratio\": 0.7009345794392523}, {\"year\": \"2007-01-01T00:00:00\", \"type\": \"Yes\", \"count\": 32, \"ratio\": 0.29906542056074764}, {\"year\": \"2008-01-01T00:00:00\", \"type\": \"No\", \"count\": 75, \"ratio\": 0.7575757575757576}, {\"year\": \"2008-01-01T00:00:00\", \"type\": \"Yes\", \"count\": 24, \"ratio\": 0.24242424242424243}, {\"year\": \"2009-01-01T00:00:00\", \"type\": \"No\", \"count\": 90, \"ratio\": 0.7692307692307693}, {\"year\": \"2009-01-01T00:00:00\", \"type\": \"Yes\", \"count\": 27, \"ratio\": 0.23076923076923078}, {\"year\": \"2010-01-01T00:00:00\", \"type\": \"No\", \"count\": 79, \"ratio\": 0.7247706422018348}, {\"year\": \"2010-01-01T00:00:00\", \"type\": \"Yes\", \"count\": 30, \"ratio\": 0.27522935779816515}, {\"year\": \"2011-01-01T00:00:00\", \"type\": \"No\", \"count\": 91, \"ratio\": 0.7647058823529411}, {\"year\": \"2011-01-01T00:00:00\", \"type\": \"Yes\", \"count\": 28, \"ratio\": 0.23529411764705882}, {\"year\": \"2012-01-01T00:00:00\", \"type\": \"No\", \"count\": 74, \"ratio\": 0.6379310344827587}, {\"year\": \"2012-01-01T00:00:00\", \"type\": \"Yes\", \"count\": 42, \"ratio\": 0.3620689655172414}, {\"year\": \"2013-01-01T00:00:00\", \"type\": \"No\", \"count\": 75, \"ratio\": 0.7425742574257426}, {\"year\": \"2013-01-01T00:00:00\", \"type\": \"Yes\", \"count\": 26, \"ratio\": 0.25742574257425743}, {\"year\": \"2014-01-01T00:00:00\", \"type\": \"No\", \"count\": 85, \"ratio\": 0.6390977443609023}, {\"year\": \"2014-01-01T00:00:00\", \"type\": \"Yes\", \"count\": 48, \"ratio\": 0.3609022556390977}, {\"year\": \"2015-01-01T00:00:00\", \"type\": \"No\", \"count\": 80, \"ratio\": 0.6299212598425197}, {\"year\": \"2015-01-01T00:00:00\", \"type\": \"Yes\", \"count\": 47, \"ratio\": 0.3700787401574803}, {\"year\": \"2016-01-01T00:00:00\", \"type\": \"No\", \"count\": 66, \"ratio\": 0.5739130434782609}, {\"year\": \"2016-01-01T00:00:00\", \"type\": \"Yes\", \"count\": 49, \"ratio\": 0.4260869565217391}, {\"year\": \"2017-01-01T00:00:00\", \"type\": \"No\", \"count\": 65, \"ratio\": 0.5701754385964912}, {\"year\": \"2017-01-01T00:00:00\", \"type\": \"Yes\", \"count\": 49, \"ratio\": 0.4298245614035088}, {\"year\": \"2018-01-01T00:00:00\", \"type\": \"No\", \"count\": 82, \"ratio\": 0.6456692913385826}, {\"year\": \"2018-01-01T00:00:00\", \"type\": \"Yes\", \"count\": 45, \"ratio\": 0.3543307086614173}, {\"year\": \"2019-01-01T00:00:00\", \"type\": \"No\", \"count\": 81, \"ratio\": 0.627906976744186}, {\"year\": \"2019-01-01T00:00:00\", \"type\": \"Yes\", \"count\": 48, \"ratio\": 0.37209302325581395}, {\"year\": \"2020-01-01T00:00:00\", \"type\": \"No\", \"count\": 93, \"ratio\": 0.5923566878980892}, {\"year\": \"2020-01-01T00:00:00\", \"type\": \"Yes\", \"count\": 64, \"ratio\": 0.40764331210191085}, {\"year\": \"2021-01-01T00:00:00\", \"type\": \"No\", \"count\": 94, \"ratio\": 0.5529411764705883}, {\"year\": \"2021-01-01T00:00:00\", \"type\": \"Yes\", \"count\": 76, \"ratio\": 0.4470588235294118}]}}, {\"mode\": \"vega-lite\"});\n",
       "</script>"
      ],
      "text/plain": [
       "alt.Chart(...)"
      ]
     },
     "execution_count": 30,
     "metadata": {},
     "output_type": "execute_result"
    }
   ],
   "source": [
    "cross_country_count = alt.Chart(cross_country).mark_line().encode(\n",
    "    x = 'year',\n",
    "    y = alt.Y(\n",
    "        'count',\n",
    "        title = 'Number of publications'\n",
    "    ),\n",
    "    color = alt.Color(\n",
    "        'type',\n",
    "        title = 'Cross-country collab.',\n",
    "        sort = ['Yes', 'No']\n",
    "    )\n",
    ")\n",
    "\n",
    "cross_country_count "
   ]
  },
  {
   "cell_type": "markdown",
   "id": "894215ed",
   "metadata": {},
   "source": [
    "### Cross-type collaboration"
   ]
  },
  {
   "cell_type": "code",
   "execution_count": 31,
   "id": "2a961172",
   "metadata": {},
   "outputs": [
    {
     "data": {
      "text/html": [
       "<div>\n",
       "<style scoped>\n",
       "    .dataframe tbody tr th:only-of-type {\n",
       "        vertical-align: middle;\n",
       "    }\n",
       "\n",
       "    .dataframe tbody tr th {\n",
       "        vertical-align: top;\n",
       "    }\n",
       "\n",
       "    .dataframe thead th {\n",
       "        text-align: right;\n",
       "    }\n",
       "</style>\n",
       "<table border=\"1\" class=\"dataframe\">\n",
       "  <thead>\n",
       "    <tr style=\"text-align: right;\">\n",
       "      <th></th>\n",
       "      <th>year</th>\n",
       "      <th>type</th>\n",
       "      <th>count</th>\n",
       "      <th>ratio</th>\n",
       "    </tr>\n",
       "  </thead>\n",
       "  <tbody>\n",
       "    <tr>\n",
       "      <th>0</th>\n",
       "      <td>1990-01-01</td>\n",
       "      <td>No</td>\n",
       "      <td>47</td>\n",
       "      <td>0.903846</td>\n",
       "    </tr>\n",
       "    <tr>\n",
       "      <th>1</th>\n",
       "      <td>1990-01-01</td>\n",
       "      <td>Yes</td>\n",
       "      <td>5</td>\n",
       "      <td>0.096154</td>\n",
       "    </tr>\n",
       "    <tr>\n",
       "      <th>2</th>\n",
       "      <td>1991-01-01</td>\n",
       "      <td>No</td>\n",
       "      <td>43</td>\n",
       "      <td>0.860000</td>\n",
       "    </tr>\n",
       "    <tr>\n",
       "      <th>3</th>\n",
       "      <td>1991-01-01</td>\n",
       "      <td>Yes</td>\n",
       "      <td>7</td>\n",
       "      <td>0.140000</td>\n",
       "    </tr>\n",
       "    <tr>\n",
       "      <th>4</th>\n",
       "      <td>1992-01-01</td>\n",
       "      <td>No</td>\n",
       "      <td>43</td>\n",
       "      <td>0.811321</td>\n",
       "    </tr>\n",
       "  </tbody>\n",
       "</table>\n",
       "</div>"
      ],
      "text/plain": [
       "        year type  count     ratio\n",
       "0 1990-01-01   No     47  0.903846\n",
       "1 1990-01-01  Yes      5  0.096154\n",
       "2 1991-01-01   No     43  0.860000\n",
       "3 1991-01-01  Yes      7  0.140000\n",
       "4 1992-01-01   No     43  0.811321"
      ]
     },
     "execution_count": 31,
     "metadata": {},
     "output_type": "execute_result"
    }
   ],
   "source": [
    "cross_type = get_total_and_ratio_by_year(\n",
    "    paper, \n",
    "    'Year',\n",
    "    'Cross-type Collaboration'\n",
    ")\n",
    "cross_type['year'] = pd.to_datetime(\n",
    "    cross_type['year'], format=\"%Y\"\n",
    ")\n",
    "cross_type.head()"
   ]
  },
  {
   "cell_type": "code",
   "execution_count": 32,
   "id": "eca165eb",
   "metadata": {},
   "outputs": [
    {
     "data": {
      "image/png": "[encoded data removed]",
      "text/plain": [
       "<Figure size 432x288 with 1 Axes>"
      ]
     },
     "metadata": {
      "needs_background": "light"
     },
     "output_type": "display_data"
    }
   ],
   "source": [
    "g = sns.lineplot(x='year',\n",
    "                 y='ratio',\n",
    "                 hue='type', \n",
    "                 data = cross_type\n",
    "                )\n",
    "g.set_title('changes in ratio of cross-type collaboration over 32 years')\n",
    "plt.grid()"
   ]
  },
  {
   "cell_type": "code",
   "execution_count": 33,
   "id": "c8a87f18",
   "metadata": {},
   "outputs": [
    {
     "data": {
      "image/png": "[encoded data removed]",
      "text/plain": [
       "<Figure size 432x288 with 1 Axes>"
      ]
     },
     "metadata": {
      "needs_background": "light"
     },
     "output_type": "display_data"
    }
   ],
   "source": [
    "g = sns.lineplot(x='year',\n",
    "                 y='count',\n",
    "                 hue='type', \n",
    "                 data = cross_type\n",
    "                )\n",
    "g.set_title('changes in number of cross-type collaboration over 32 years')\n",
    "plt.grid()"
   ]
  },
  {
   "cell_type": "code",
   "execution_count": 34,
   "id": "6b51e516",
   "metadata": {
    "scrolled": false
   },
   "outputs": [
    {
     "data": {
      "text/html": [
       "\n",
       "<div id=\"altair-viz-858d5ceefa2d42fbb37854485b4cc99d\"></div>\n",
       "<script type=\"text/javascript\">\n",
       "  var VEGA_DEBUG = (typeof VEGA_DEBUG == \"undefined\") ? {} : VEGA_DEBUG;\n",
       "  (function(spec, embedOpt){\n",
       "    let outputDiv = document.currentScript.previousElementSibling;\n",
       "    if (outputDiv.id !== \"altair-viz-858d5ceefa2d42fbb37854485b4cc99d\") {\n",
       "      outputDiv = document.getElementById(\"altair-viz-858d5ceefa2d42fbb37854485b4cc99d\");\n",
       "    }\n",
       "    const paths = {\n",
       "      \"vega\": \"https://cdn.jsdelivr.net/npm//vega@5?noext\",\n",
       "      \"vega-lib\": \"https://cdn.jsdelivr.net/npm//vega-lib?noext\",\n",
       "      \"vega-lite\": \"https://cdn.jsdelivr.net/npm//vega-lite@4.17.0?noext\",\n",
       "      \"vega-embed\": \"https://cdn.jsdelivr.net/npm//vega-embed@6?noext\",\n",
       "    };\n",
       "\n",
       "    function maybeLoadScript(lib, version) {\n",
       "      var key = `${lib.replace(\"-\", \"\")}_version`;\n",
       "      return (VEGA_DEBUG[key] == version) ?\n",
       "        Promise.resolve(paths[lib]) :\n",
       "        new Promise(function(resolve, reject) {\n",
       "          var s = document.createElement('script');\n",
       "          document.getElementsByTagName(\"head\")[0].appendChild(s);\n",
       "          s.async = true;\n",
       "          s.onload = () => {\n",
       "            VEGA_DEBUG[key] = version;\n",
       "            return resolve(paths[lib]);\n",
       "          };\n",
       "          s.onerror = () => reject(`Error loading script: ${paths[lib]}`);\n",
       "          s.src = paths[lib];\n",
       "        });\n",
       "    }\n",
       "\n",
       "    function showError(err) {\n",
       "      outputDiv.innerHTML = `<div class=\"error\" style=\"color:red;\">${err}</div>`;\n",
       "      throw err;\n",
       "    }\n",
       "\n",
       "    function displayChart(vegaEmbed) {\n",
       "      vegaEmbed(outputDiv, spec, embedOpt)\n",
       "        .catch(err => showError(`Javascript Error: ${err.message}<br>This usually means there's a typo in your chart specification. See the javascript console for the full traceback.`));\n",
       "    }\n",
       "\n",
       "    if(typeof define === \"function\" && define.amd) {\n",
       "      requirejs.config({paths});\n",
       "      require([\"vega-embed\"], displayChart, err => showError(`Error loading script: ${err.message}`));\n",
       "    } else {\n",
       "      maybeLoadScript(\"vega\", \"5\")\n",
       "        .then(() => maybeLoadScript(\"vega-lite\", \"4.17.0\"))\n",
       "        .then(() => maybeLoadScript(\"vega-embed\", \"6\"))\n",
       "        .catch(showError)\n",
       "        .then(() => displayChart(vegaEmbed));\n",
       "    }\n",
       "  })({\"config\": {\"view\": {\"continuousWidth\": 400, \"continuousHeight\": 300}}, \"data\": {\"name\": \"data-9828840f8f199db131f1eea3ca3d2229\"}, \"mark\": \"line\", \"encoding\": {\"color\": {\"field\": \"type\", \"scale\": {\"domain\": [\"No\", \"Yes\"], \"range\": [\"purple\", \"green\"]}, \"sort\": [\"Yes\", \"No\"], \"title\": \"Cross-type collab.\", \"type\": \"nominal\"}, \"x\": {\"field\": \"year\", \"type\": \"temporal\"}, \"y\": {\"field\": \"ratio\", \"title\": \"Ratio\", \"type\": \"quantitative\"}}, \"$schema\": \"https://vega.github.io/schema/vega-lite/v4.17.0.json\", \"datasets\": {\"data-9828840f8f199db131f1eea3ca3d2229\": [{\"year\": \"1990-01-01T00:00:00\", \"type\": \"No\", \"count\": 47, \"ratio\": 0.9038461538461539}, {\"year\": \"1990-01-01T00:00:00\", \"type\": \"Yes\", \"count\": 5, \"ratio\": 0.09615384615384616}, {\"year\": \"1991-01-01T00:00:00\", \"type\": \"No\", \"count\": 43, \"ratio\": 0.86}, {\"year\": \"1991-01-01T00:00:00\", \"type\": \"Yes\", \"count\": 7, \"ratio\": 0.14}, {\"year\": \"1992-01-01T00:00:00\", \"type\": \"No\", \"count\": 43, \"ratio\": 0.8113207547169812}, {\"year\": \"1992-01-01T00:00:00\", \"type\": \"Yes\", \"count\": 10, \"ratio\": 0.18867924528301888}, {\"year\": \"1993-01-01T00:00:00\", \"type\": \"No\", \"count\": 46, \"ratio\": 0.8363636363636363}, {\"year\": \"1993-01-01T00:00:00\", \"type\": \"Yes\", \"count\": 9, \"ratio\": 0.16363636363636364}, {\"year\": \"1994-01-01T00:00:00\", \"type\": \"No\", \"count\": 48, \"ratio\": 0.9056603773584906}, {\"year\": \"1994-01-01T00:00:00\", \"type\": \"Yes\", \"count\": 5, \"ratio\": 0.09433962264150944}, {\"year\": \"1995-01-01T00:00:00\", \"type\": \"No\", \"count\": 64, \"ratio\": 0.8648648648648649}, {\"year\": \"1995-01-01T00:00:00\", \"type\": \"Yes\", \"count\": 10, \"ratio\": 0.13513513513513514}, {\"year\": \"1996-01-01T00:00:00\", \"type\": \"No\", \"count\": 59, \"ratio\": 0.7662337662337663}, {\"year\": \"1996-01-01T00:00:00\", \"type\": \"Yes\", \"count\": 18, \"ratio\": 0.23376623376623376}, {\"year\": \"1997-01-01T00:00:00\", \"type\": \"No\", \"count\": 78, \"ratio\": 0.8863636363636364}, {\"year\": \"1997-01-01T00:00:00\", \"type\": \"Yes\", \"count\": 10, \"ratio\": 0.11363636363636363}, {\"year\": \"1998-01-01T00:00:00\", \"type\": \"No\", \"count\": 77, \"ratio\": 0.8555555555555555}, {\"year\": \"1998-01-01T00:00:00\", \"type\": \"Yes\", \"count\": 13, \"ratio\": 0.14444444444444443}, {\"year\": \"1999-01-01T00:00:00\", \"type\": \"No\", \"count\": 72, \"ratio\": 0.8181818181818182}, {\"year\": \"1999-01-01T00:00:00\", \"type\": \"Yes\", \"count\": 16, \"ratio\": 0.18181818181818182}, {\"year\": \"2000-01-01T00:00:00\", \"type\": \"No\", \"count\": 71, \"ratio\": 0.7717391304347826}, {\"year\": \"2000-01-01T00:00:00\", \"type\": \"Yes\", \"count\": 21, \"ratio\": 0.22826086956521738}, {\"year\": \"2001-01-01T00:00:00\", \"type\": \"No\", \"count\": 68, \"ratio\": 0.7083333333333334}, {\"year\": \"2001-01-01T00:00:00\", \"type\": \"Yes\", \"count\": 28, \"ratio\": 0.2916666666666667}, {\"year\": \"2002-01-01T00:00:00\", \"type\": \"No\", \"count\": 84, \"ratio\": 0.8316831683168316}, {\"year\": \"2002-01-01T00:00:00\", \"type\": \"Yes\", \"count\": 17, \"ratio\": 0.16831683168316833}, {\"year\": \"2003-01-01T00:00:00\", \"type\": \"No\", \"count\": 82, \"ratio\": 0.803921568627451}, {\"year\": \"2003-01-01T00:00:00\", \"type\": \"Yes\", \"count\": 20, \"ratio\": 0.19607843137254902}, {\"year\": \"2004-01-01T00:00:00\", \"type\": \"No\", \"count\": 73, \"ratio\": 0.7525773195876289}, {\"year\": \"2004-01-01T00:00:00\", \"type\": \"Yes\", \"count\": 24, \"ratio\": 0.24742268041237114}, {\"year\": \"2005-01-01T00:00:00\", \"type\": \"No\", \"count\": 97, \"ratio\": 0.8151260504201681}, {\"year\": \"2005-01-01T00:00:00\", \"type\": \"Yes\", \"count\": 22, \"ratio\": 0.18487394957983194}, {\"year\": \"2006-01-01T00:00:00\", \"type\": \"No\", \"count\": 90, \"ratio\": 0.7964601769911505}, {\"year\": \"2006-01-01T00:00:00\", \"type\": \"Yes\", \"count\": 23, \"ratio\": 0.20353982300884957}, {\"year\": \"2007-01-01T00:00:00\", \"type\": \"No\", \"count\": 69, \"ratio\": 0.6448598130841121}, {\"year\": \"2007-01-01T00:00:00\", \"type\": \"Yes\", \"count\": 38, \"ratio\": 0.35514018691588783}, {\"year\": \"2008-01-01T00:00:00\", \"type\": \"No\", \"count\": 70, \"ratio\": 0.7070707070707071}, {\"year\": \"2008-01-01T00:00:00\", \"type\": \"Yes\", \"count\": 29, \"ratio\": 0.29292929292929293}, {\"year\": \"2009-01-01T00:00:00\", \"type\": \"No\", \"count\": 84, \"ratio\": 0.717948717948718}, {\"year\": \"2009-01-01T00:00:00\", \"type\": \"Yes\", \"count\": 33, \"ratio\": 0.28205128205128205}, {\"year\": \"2010-01-01T00:00:00\", \"type\": \"No\", \"count\": 82, \"ratio\": 0.7522935779816514}, {\"year\": \"2010-01-01T00:00:00\", \"type\": \"Yes\", \"count\": 27, \"ratio\": 0.24770642201834864}, {\"year\": \"2011-01-01T00:00:00\", \"type\": \"No\", \"count\": 91, \"ratio\": 0.7647058823529411}, {\"year\": \"2011-01-01T00:00:00\", \"type\": \"Yes\", \"count\": 28, \"ratio\": 0.23529411764705882}, {\"year\": \"2012-01-01T00:00:00\", \"type\": \"No\", \"count\": 80, \"ratio\": 0.6896551724137931}, {\"year\": \"2012-01-01T00:00:00\", \"type\": \"Yes\", \"count\": 36, \"ratio\": 0.3103448275862069}, {\"year\": \"2013-01-01T00:00:00\", \"type\": \"No\", \"count\": 74, \"ratio\": 0.7326732673267327}, {\"year\": \"2013-01-01T00:00:00\", \"type\": \"Yes\", \"count\": 27, \"ratio\": 0.26732673267326734}, {\"year\": \"2014-01-01T00:00:00\", \"type\": \"No\", \"count\": 87, \"ratio\": 0.6541353383458647}, {\"year\": \"2014-01-01T00:00:00\", \"type\": \"Yes\", \"count\": 46, \"ratio\": 0.3458646616541353}, {\"year\": \"2015-01-01T00:00:00\", \"type\": \"No\", \"count\": 79, \"ratio\": 0.6220472440944882}, {\"year\": \"2015-01-01T00:00:00\", \"type\": \"Yes\", \"count\": 48, \"ratio\": 0.3779527559055118}, {\"year\": \"2016-01-01T00:00:00\", \"type\": \"No\", \"count\": 75, \"ratio\": 0.6521739130434783}, {\"year\": \"2016-01-01T00:00:00\", \"type\": \"Yes\", \"count\": 40, \"ratio\": 0.34782608695652173}, {\"year\": \"2017-01-01T00:00:00\", \"type\": \"No\", \"count\": 71, \"ratio\": 0.6228070175438597}, {\"year\": \"2017-01-01T00:00:00\", \"type\": \"Yes\", \"count\": 43, \"ratio\": 0.37719298245614036}, {\"year\": \"2018-01-01T00:00:00\", \"type\": \"No\", \"count\": 69, \"ratio\": 0.5433070866141733}, {\"year\": \"2018-01-01T00:00:00\", \"type\": \"Yes\", \"count\": 58, \"ratio\": 0.4566929133858268}, {\"year\": \"2019-01-01T00:00:00\", \"type\": \"No\", \"count\": 86, \"ratio\": 0.6666666666666666}, {\"year\": \"2019-01-01T00:00:00\", \"type\": \"Yes\", \"count\": 43, \"ratio\": 0.3333333333333333}, {\"year\": \"2020-01-01T00:00:00\", \"type\": \"No\", \"count\": 108, \"ratio\": 0.6878980891719745}, {\"year\": \"2020-01-01T00:00:00\", \"type\": \"Yes\", \"count\": 49, \"ratio\": 0.31210191082802546}, {\"year\": \"2021-01-01T00:00:00\", \"type\": \"No\", \"count\": 116, \"ratio\": 0.6823529411764706}, {\"year\": \"2021-01-01T00:00:00\", \"type\": \"Yes\", \"count\": 54, \"ratio\": 0.3176470588235294}]}}, {\"mode\": \"vega-lite\"});\n",
       "</script>"
      ],
      "text/plain": [
       "alt.Chart(...)"
      ]
     },
     "execution_count": 34,
     "metadata": {},
     "output_type": "execute_result"
    }
   ],
   "source": [
    "#         scale=alt.Scale(scheme='set1')\n",
    "cross_type_ratio = alt.Chart(cross_type).mark_line().encode(\n",
    "    x = 'year',\n",
    "    y = alt.Y(\n",
    "        'ratio',\n",
    "        title = 'Ratio'\n",
    "    ),\n",
    "    color = alt.Color(\n",
    "        'type',\n",
    "        title = 'Cross-type collab.',\n",
    "        sort = ['Yes', 'No'],\n",
    "        scale=alt.Scale(domain=['No', 'Yes'],\n",
    "                      range=['purple', 'green'])\n",
    "    ),\n",
    ")\n",
    "\n",
    "cross_type_ratio"
   ]
  },
  {
   "cell_type": "code",
   "execution_count": 35,
   "id": "172a5f94",
   "metadata": {},
   "outputs": [
    {
     "data": {
      "text/html": [
       "\n",
       "<div id=\"altair-viz-17e75be35d314171afe093adc33e02b5\"></div>\n",
       "<script type=\"text/javascript\">\n",
       "  var VEGA_DEBUG = (typeof VEGA_DEBUG == \"undefined\") ? {} : VEGA_DEBUG;\n",
       "  (function(spec, embedOpt){\n",
       "    let outputDiv = document.currentScript.previousElementSibling;\n",
       "    if (outputDiv.id !== \"altair-viz-17e75be35d314171afe093adc33e02b5\") {\n",
       "      outputDiv = document.getElementById(\"altair-viz-17e75be35d314171afe093adc33e02b5\");\n",
       "    }\n",
       "    const paths = {\n",
       "      \"vega\": \"https://cdn.jsdelivr.net/npm//vega@5?noext\",\n",
       "      \"vega-lib\": \"https://cdn.jsdelivr.net/npm//vega-lib?noext\",\n",
       "      \"vega-lite\": \"https://cdn.jsdelivr.net/npm//vega-lite@4.17.0?noext\",\n",
       "      \"vega-embed\": \"https://cdn.jsdelivr.net/npm//vega-embed@6?noext\",\n",
       "    };\n",
       "\n",
       "    function maybeLoadScript(lib, version) {\n",
       "      var key = `${lib.replace(\"-\", \"\")}_version`;\n",
       "      return (VEGA_DEBUG[key] == version) ?\n",
       "        Promise.resolve(paths[lib]) :\n",
       "        new Promise(function(resolve, reject) {\n",
       "          var s = document.createElement('script');\n",
       "          document.getElementsByTagName(\"head\")[0].appendChild(s);\n",
       "          s.async = true;\n",
       "          s.onload = () => {\n",
       "            VEGA_DEBUG[key] = version;\n",
       "            return resolve(paths[lib]);\n",
       "          };\n",
       "          s.onerror = () => reject(`Error loading script: ${paths[lib]}`);\n",
       "          s.src = paths[lib];\n",
       "        });\n",
       "    }\n",
       "\n",
       "    function showError(err) {\n",
       "      outputDiv.innerHTML = `<div class=\"error\" style=\"color:red;\">${err}</div>`;\n",
       "      throw err;\n",
       "    }\n",
       "\n",
       "    function displayChart(vegaEmbed) {\n",
       "      vegaEmbed(outputDiv, spec, embedOpt)\n",
       "        .catch(err => showError(`Javascript Error: ${err.message}<br>This usually means there's a typo in your chart specification. See the javascript console for the full traceback.`));\n",
       "    }\n",
       "\n",
       "    if(typeof define === \"function\" && define.amd) {\n",
       "      requirejs.config({paths});\n",
       "      require([\"vega-embed\"], displayChart, err => showError(`Error loading script: ${err.message}`));\n",
       "    } else {\n",
       "      maybeLoadScript(\"vega\", \"5\")\n",
       "        .then(() => maybeLoadScript(\"vega-lite\", \"4.17.0\"))\n",
       "        .then(() => maybeLoadScript(\"vega-embed\", \"6\"))\n",
       "        .catch(showError)\n",
       "        .then(() => displayChart(vegaEmbed));\n",
       "    }\n",
       "  })({\"config\": {\"view\": {\"continuousWidth\": 400, \"continuousHeight\": 300}}, \"data\": {\"name\": \"data-9828840f8f199db131f1eea3ca3d2229\"}, \"mark\": {\"type\": \"line\", \"point\": {\"filled\": false, \"fill\": \"white\"}, \"strokeDash\": [1, 2]}, \"encoding\": {\"color\": {\"field\": \"type\", \"scale\": {\"domain\": [\"No\", \"Yes\"], \"range\": [\"purple\", \"green\"]}, \"sort\": [\"Yes\", \"No\"], \"title\": \"Cross-type collab.\", \"type\": \"nominal\"}, \"x\": {\"field\": \"year\", \"type\": \"temporal\"}, \"y\": {\"field\": \"count\", \"title\": \"Number of authors\", \"type\": \"quantitative\"}}, \"$schema\": \"https://vega.github.io/schema/vega-lite/v4.17.0.json\", \"datasets\": {\"data-9828840f8f199db131f1eea3ca3d2229\": [{\"year\": \"1990-01-01T00:00:00\", \"type\": \"No\", \"count\": 47, \"ratio\": 0.9038461538461539}, {\"year\": \"1990-01-01T00:00:00\", \"type\": \"Yes\", \"count\": 5, \"ratio\": 0.09615384615384616}, {\"year\": \"1991-01-01T00:00:00\", \"type\": \"No\", \"count\": 43, \"ratio\": 0.86}, {\"year\": \"1991-01-01T00:00:00\", \"type\": \"Yes\", \"count\": 7, \"ratio\": 0.14}, {\"year\": \"1992-01-01T00:00:00\", \"type\": \"No\", \"count\": 43, \"ratio\": 0.8113207547169812}, {\"year\": \"1992-01-01T00:00:00\", \"type\": \"Yes\", \"count\": 10, \"ratio\": 0.18867924528301888}, {\"year\": \"1993-01-01T00:00:00\", \"type\": \"No\", \"count\": 46, \"ratio\": 0.8363636363636363}, {\"year\": \"1993-01-01T00:00:00\", \"type\": \"Yes\", \"count\": 9, \"ratio\": 0.16363636363636364}, {\"year\": \"1994-01-01T00:00:00\", \"type\": \"No\", \"count\": 48, \"ratio\": 0.9056603773584906}, {\"year\": \"1994-01-01T00:00:00\", \"type\": \"Yes\", \"count\": 5, \"ratio\": 0.09433962264150944}, {\"year\": \"1995-01-01T00:00:00\", \"type\": \"No\", \"count\": 64, \"ratio\": 0.8648648648648649}, {\"year\": \"1995-01-01T00:00:00\", \"type\": \"Yes\", \"count\": 10, \"ratio\": 0.13513513513513514}, {\"year\": \"1996-01-01T00:00:00\", \"type\": \"No\", \"count\": 59, \"ratio\": 0.7662337662337663}, {\"year\": \"1996-01-01T00:00:00\", \"type\": \"Yes\", \"count\": 18, \"ratio\": 0.23376623376623376}, {\"year\": \"1997-01-01T00:00:00\", \"type\": \"No\", \"count\": 78, \"ratio\": 0.8863636363636364}, {\"year\": \"1997-01-01T00:00:00\", \"type\": \"Yes\", \"count\": 10, \"ratio\": 0.11363636363636363}, {\"year\": \"1998-01-01T00:00:00\", \"type\": \"No\", \"count\": 77, \"ratio\": 0.8555555555555555}, {\"year\": \"1998-01-01T00:00:00\", \"type\": \"Yes\", \"count\": 13, \"ratio\": 0.14444444444444443}, {\"year\": \"1999-01-01T00:00:00\", \"type\": \"No\", \"count\": 72, \"ratio\": 0.8181818181818182}, {\"year\": \"1999-01-01T00:00:00\", \"type\": \"Yes\", \"count\": 16, \"ratio\": 0.18181818181818182}, {\"year\": \"2000-01-01T00:00:00\", \"type\": \"No\", \"count\": 71, \"ratio\": 0.7717391304347826}, {\"year\": \"2000-01-01T00:00:00\", \"type\": \"Yes\", \"count\": 21, \"ratio\": 0.22826086956521738}, {\"year\": \"2001-01-01T00:00:00\", \"type\": \"No\", \"count\": 68, \"ratio\": 0.7083333333333334}, {\"year\": \"2001-01-01T00:00:00\", \"type\": \"Yes\", \"count\": 28, \"ratio\": 0.2916666666666667}, {\"year\": \"2002-01-01T00:00:00\", \"type\": \"No\", \"count\": 84, \"ratio\": 0.8316831683168316}, {\"year\": \"2002-01-01T00:00:00\", \"type\": \"Yes\", \"count\": 17, \"ratio\": 0.16831683168316833}, {\"year\": \"2003-01-01T00:00:00\", \"type\": \"No\", \"count\": 82, \"ratio\": 0.803921568627451}, {\"year\": \"2003-01-01T00:00:00\", \"type\": \"Yes\", \"count\": 20, \"ratio\": 0.19607843137254902}, {\"year\": \"2004-01-01T00:00:00\", \"type\": \"No\", \"count\": 73, \"ratio\": 0.7525773195876289}, {\"year\": \"2004-01-01T00:00:00\", \"type\": \"Yes\", \"count\": 24, \"ratio\": 0.24742268041237114}, {\"year\": \"2005-01-01T00:00:00\", \"type\": \"No\", \"count\": 97, \"ratio\": 0.8151260504201681}, {\"year\": \"2005-01-01T00:00:00\", \"type\": \"Yes\", \"count\": 22, \"ratio\": 0.18487394957983194}, {\"year\": \"2006-01-01T00:00:00\", \"type\": \"No\", \"count\": 90, \"ratio\": 0.7964601769911505}, {\"year\": \"2006-01-01T00:00:00\", \"type\": \"Yes\", \"count\": 23, \"ratio\": 0.20353982300884957}, {\"year\": \"2007-01-01T00:00:00\", \"type\": \"No\", \"count\": 69, \"ratio\": 0.6448598130841121}, {\"year\": \"2007-01-01T00:00:00\", \"type\": \"Yes\", \"count\": 38, \"ratio\": 0.35514018691588783}, {\"year\": \"2008-01-01T00:00:00\", \"type\": \"No\", \"count\": 70, \"ratio\": 0.7070707070707071}, {\"year\": \"2008-01-01T00:00:00\", \"type\": \"Yes\", \"count\": 29, \"ratio\": 0.29292929292929293}, {\"year\": \"2009-01-01T00:00:00\", \"type\": \"No\", \"count\": 84, \"ratio\": 0.717948717948718}, {\"year\": \"2009-01-01T00:00:00\", \"type\": \"Yes\", \"count\": 33, \"ratio\": 0.28205128205128205}, {\"year\": \"2010-01-01T00:00:00\", \"type\": \"No\", \"count\": 82, \"ratio\": 0.7522935779816514}, {\"year\": \"2010-01-01T00:00:00\", \"type\": \"Yes\", \"count\": 27, \"ratio\": 0.24770642201834864}, {\"year\": \"2011-01-01T00:00:00\", \"type\": \"No\", \"count\": 91, \"ratio\": 0.7647058823529411}, {\"year\": \"2011-01-01T00:00:00\", \"type\": \"Yes\", \"count\": 28, \"ratio\": 0.23529411764705882}, {\"year\": \"2012-01-01T00:00:00\", \"type\": \"No\", \"count\": 80, \"ratio\": 0.6896551724137931}, {\"year\": \"2012-01-01T00:00:00\", \"type\": \"Yes\", \"count\": 36, \"ratio\": 0.3103448275862069}, {\"year\": \"2013-01-01T00:00:00\", \"type\": \"No\", \"count\": 74, \"ratio\": 0.7326732673267327}, {\"year\": \"2013-01-01T00:00:00\", \"type\": \"Yes\", \"count\": 27, \"ratio\": 0.26732673267326734}, {\"year\": \"2014-01-01T00:00:00\", \"type\": \"No\", \"count\": 87, \"ratio\": 0.6541353383458647}, {\"year\": \"2014-01-01T00:00:00\", \"type\": \"Yes\", \"count\": 46, \"ratio\": 0.3458646616541353}, {\"year\": \"2015-01-01T00:00:00\", \"type\": \"No\", \"count\": 79, \"ratio\": 0.6220472440944882}, {\"year\": \"2015-01-01T00:00:00\", \"type\": \"Yes\", \"count\": 48, \"ratio\": 0.3779527559055118}, {\"year\": \"2016-01-01T00:00:00\", \"type\": \"No\", \"count\": 75, \"ratio\": 0.6521739130434783}, {\"year\": \"2016-01-01T00:00:00\", \"type\": \"Yes\", \"count\": 40, \"ratio\": 0.34782608695652173}, {\"year\": \"2017-01-01T00:00:00\", \"type\": \"No\", \"count\": 71, \"ratio\": 0.6228070175438597}, {\"year\": \"2017-01-01T00:00:00\", \"type\": \"Yes\", \"count\": 43, \"ratio\": 0.37719298245614036}, {\"year\": \"2018-01-01T00:00:00\", \"type\": \"No\", \"count\": 69, \"ratio\": 0.5433070866141733}, {\"year\": \"2018-01-01T00:00:00\", \"type\": \"Yes\", \"count\": 58, \"ratio\": 0.4566929133858268}, {\"year\": \"2019-01-01T00:00:00\", \"type\": \"No\", \"count\": 86, \"ratio\": 0.6666666666666666}, {\"year\": \"2019-01-01T00:00:00\", \"type\": \"Yes\", \"count\": 43, \"ratio\": 0.3333333333333333}, {\"year\": \"2020-01-01T00:00:00\", \"type\": \"No\", \"count\": 108, \"ratio\": 0.6878980891719745}, {\"year\": \"2020-01-01T00:00:00\", \"type\": \"Yes\", \"count\": 49, \"ratio\": 0.31210191082802546}, {\"year\": \"2021-01-01T00:00:00\", \"type\": \"No\", \"count\": 116, \"ratio\": 0.6823529411764706}, {\"year\": \"2021-01-01T00:00:00\", \"type\": \"Yes\", \"count\": 54, \"ratio\": 0.3176470588235294}]}}, {\"mode\": \"vega-lite\"});\n",
       "</script>"
      ],
      "text/plain": [
       "alt.Chart(...)"
      ]
     },
     "execution_count": 35,
     "metadata": {},
     "output_type": "execute_result"
    }
   ],
   "source": [
    "#         scale=alt.Scale(scheme='set1')\n",
    "cross_type_count = alt.Chart(cross_type).mark_line(\n",
    "    point={\n",
    "      \"filled\": False,\n",
    "      \"fill\": \"white\"\n",
    "    },\n",
    "    strokeDash=[1,2]\n",
    ").encode(\n",
    "    x = 'year',\n",
    "    y = alt.Y(\n",
    "        'count',\n",
    "        title = 'Number of authors'\n",
    "    ),\n",
    "    color = alt.Color(\n",
    "        'type',\n",
    "        title = 'Cross-type collab.',\n",
    "        sort = ['Yes', 'No'],\n",
    "        scale=alt.Scale(domain=['No', 'Yes'],\n",
    "                      range=['purple', 'green'])\n",
    "    ),\n",
    ")\n",
    "\n",
    "cross_type_count"
   ]
  },
  {
   "cell_type": "code",
   "execution_count": 36,
   "id": "114a1992",
   "metadata": {},
   "outputs": [
    {
     "data": {
      "text/html": [
       "\n",
       "<div id=\"altair-viz-9788c711be1f4dbabe4425fa247e6eba\"></div>\n",
       "<script type=\"text/javascript\">\n",
       "  var VEGA_DEBUG = (typeof VEGA_DEBUG == \"undefined\") ? {} : VEGA_DEBUG;\n",
       "  (function(spec, embedOpt){\n",
       "    let outputDiv = document.currentScript.previousElementSibling;\n",
       "    if (outputDiv.id !== \"altair-viz-9788c711be1f4dbabe4425fa247e6eba\") {\n",
       "      outputDiv = document.getElementById(\"altair-viz-9788c711be1f4dbabe4425fa247e6eba\");\n",
       "    }\n",
       "    const paths = {\n",
       "      \"vega\": \"https://cdn.jsdelivr.net/npm//vega@5?noext\",\n",
       "      \"vega-lib\": \"https://cdn.jsdelivr.net/npm//vega-lib?noext\",\n",
       "      \"vega-lite\": \"https://cdn.jsdelivr.net/npm//vega-lite@4.17.0?noext\",\n",
       "      \"vega-embed\": \"https://cdn.jsdelivr.net/npm//vega-embed@6?noext\",\n",
       "    };\n",
       "\n",
       "    function maybeLoadScript(lib, version) {\n",
       "      var key = `${lib.replace(\"-\", \"\")}_version`;\n",
       "      return (VEGA_DEBUG[key] == version) ?\n",
       "        Promise.resolve(paths[lib]) :\n",
       "        new Promise(function(resolve, reject) {\n",
       "          var s = document.createElement('script');\n",
       "          document.getElementsByTagName(\"head\")[0].appendChild(s);\n",
       "          s.async = true;\n",
       "          s.onload = () => {\n",
       "            VEGA_DEBUG[key] = version;\n",
       "            return resolve(paths[lib]);\n",
       "          };\n",
       "          s.onerror = () => reject(`Error loading script: ${paths[lib]}`);\n",
       "          s.src = paths[lib];\n",
       "        });\n",
       "    }\n",
       "\n",
       "    function showError(err) {\n",
       "      outputDiv.innerHTML = `<div class=\"error\" style=\"color:red;\">${err}</div>`;\n",
       "      throw err;\n",
       "    }\n",
       "\n",
       "    function displayChart(vegaEmbed) {\n",
       "      vegaEmbed(outputDiv, spec, embedOpt)\n",
       "        .catch(err => showError(`Javascript Error: ${err.message}<br>This usually means there's a typo in your chart specification. See the javascript console for the full traceback.`));\n",
       "    }\n",
       "\n",
       "    if(typeof define === \"function\" && define.amd) {\n",
       "      requirejs.config({paths});\n",
       "      require([\"vega-embed\"], displayChart, err => showError(`Error loading script: ${err.message}`));\n",
       "    } else {\n",
       "      maybeLoadScript(\"vega\", \"5\")\n",
       "        .then(() => maybeLoadScript(\"vega-lite\", \"4.17.0\"))\n",
       "        .then(() => maybeLoadScript(\"vega-embed\", \"6\"))\n",
       "        .catch(showError)\n",
       "        .then(() => displayChart(vegaEmbed));\n",
       "    }\n",
       "  })({\"config\": {\"view\": {\"continuousWidth\": 400, \"continuousHeight\": 300}}, \"layer\": [{\"data\": {\"name\": \"data-9828840f8f199db131f1eea3ca3d2229\"}, \"mark\": {\"type\": \"line\", \"point\": {\"filled\": false, \"fill\": \"white\"}, \"strokeDash\": [1, 2]}, \"encoding\": {\"color\": {\"field\": \"type\", \"scale\": {\"domain\": [\"No\", \"Yes\"], \"range\": [\"purple\", \"green\"]}, \"sort\": [\"Yes\", \"No\"], \"title\": \"Cross-type collab.\", \"type\": \"nominal\"}, \"x\": {\"field\": \"year\", \"type\": \"temporal\"}, \"y\": {\"field\": \"count\", \"title\": \"Number of authors\", \"type\": \"quantitative\"}}}, {\"data\": {\"name\": \"data-13dc27e4ecc591ee8fd381db4be435d5\"}, \"mark\": \"line\", \"encoding\": {\"color\": {\"field\": \"type\", \"sort\": [\"Yes\", \"No\"], \"title\": \"Cross-country collab.\", \"type\": \"nominal\"}, \"x\": {\"field\": \"year\", \"type\": \"temporal\"}, \"y\": {\"field\": \"count\", \"title\": \"Number of publications\", \"type\": \"quantitative\"}}}], \"resolve\": {\"scale\": {\"color\": \"independent\"}}, \"$schema\": \"https://vega.github.io/schema/vega-lite/v4.17.0.json\", \"datasets\": {\"data-9828840f8f199db131f1eea3ca3d2229\": [{\"year\": \"1990-01-01T00:00:00\", \"type\": \"No\", \"count\": 47, \"ratio\": 0.9038461538461539}, {\"year\": \"1990-01-01T00:00:00\", \"type\": \"Yes\", \"count\": 5, \"ratio\": 0.09615384615384616}, {\"year\": \"1991-01-01T00:00:00\", \"type\": \"No\", \"count\": 43, \"ratio\": 0.86}, {\"year\": \"1991-01-01T00:00:00\", \"type\": \"Yes\", \"count\": 7, \"ratio\": 0.14}, {\"year\": \"1992-01-01T00:00:00\", \"type\": \"No\", \"count\": 43, \"ratio\": 0.8113207547169812}, {\"year\": \"1992-01-01T00:00:00\", \"type\": \"Yes\", \"count\": 10, \"ratio\": 0.18867924528301888}, {\"year\": \"1993-01-01T00:00:00\", \"type\": \"No\", \"count\": 46, \"ratio\": 0.8363636363636363}, {\"year\": \"1993-01-01T00:00:00\", \"type\": \"Yes\", \"count\": 9, \"ratio\": 0.16363636363636364}, {\"year\": \"1994-01-01T00:00:00\", \"type\": \"No\", \"count\": 48, \"ratio\": 0.9056603773584906}, {\"year\": \"1994-01-01T00:00:00\", \"type\": \"Yes\", \"count\": 5, \"ratio\": 0.09433962264150944}, {\"year\": \"1995-01-01T00:00:00\", \"type\": \"No\", \"count\": 64, \"ratio\": 0.8648648648648649}, {\"year\": \"1995-01-01T00:00:00\", \"type\": \"Yes\", \"count\": 10, \"ratio\": 0.13513513513513514}, {\"year\": \"1996-01-01T00:00:00\", \"type\": \"No\", \"count\": 59, \"ratio\": 0.7662337662337663}, {\"year\": \"1996-01-01T00:00:00\", \"type\": \"Yes\", \"count\": 18, \"ratio\": 0.23376623376623376}, {\"year\": \"1997-01-01T00:00:00\", \"type\": \"No\", \"count\": 78, \"ratio\": 0.8863636363636364}, {\"year\": \"1997-01-01T00:00:00\", \"type\": \"Yes\", \"count\": 10, \"ratio\": 0.11363636363636363}, {\"year\": \"1998-01-01T00:00:00\", \"type\": \"No\", \"count\": 77, \"ratio\": 0.8555555555555555}, {\"year\": \"1998-01-01T00:00:00\", \"type\": \"Yes\", \"count\": 13, \"ratio\": 0.14444444444444443}, {\"year\": \"1999-01-01T00:00:00\", \"type\": \"No\", \"count\": 72, \"ratio\": 0.8181818181818182}, {\"year\": \"1999-01-01T00:00:00\", \"type\": \"Yes\", \"count\": 16, \"ratio\": 0.18181818181818182}, {\"year\": \"2000-01-01T00:00:00\", \"type\": \"No\", \"count\": 71, \"ratio\": 0.7717391304347826}, {\"year\": \"2000-01-01T00:00:00\", \"type\": \"Yes\", \"count\": 21, \"ratio\": 0.22826086956521738}, {\"year\": \"2001-01-01T00:00:00\", \"type\": \"No\", \"count\": 68, \"ratio\": 0.7083333333333334}, {\"year\": \"2001-01-01T00:00:00\", \"type\": \"Yes\", \"count\": 28, \"ratio\": 0.2916666666666667}, {\"year\": \"2002-01-01T00:00:00\", \"type\": \"No\", \"count\": 84, \"ratio\": 0.8316831683168316}, {\"year\": \"2002-01-01T00:00:00\", \"type\": \"Yes\", \"count\": 17, \"ratio\": 0.16831683168316833}, {\"year\": \"2003-01-01T00:00:00\", \"type\": \"No\", \"count\": 82, \"ratio\": 0.803921568627451}, {\"year\": \"2003-01-01T00:00:00\", \"type\": \"Yes\", \"count\": 20, \"ratio\": 0.19607843137254902}, {\"year\": \"2004-01-01T00:00:00\", \"type\": \"No\", \"count\": 73, \"ratio\": 0.7525773195876289}, {\"year\": \"2004-01-01T00:00:00\", \"type\": \"Yes\", \"count\": 24, \"ratio\": 0.24742268041237114}, {\"year\": \"2005-01-01T00:00:00\", \"type\": \"No\", \"count\": 97, \"ratio\": 0.8151260504201681}, {\"year\": \"2005-01-01T00:00:00\", \"type\": \"Yes\", \"count\": 22, \"ratio\": 0.18487394957983194}, {\"year\": \"2006-01-01T00:00:00\", \"type\": \"No\", \"count\": 90, \"ratio\": 0.7964601769911505}, {\"year\": \"2006-01-01T00:00:00\", \"type\": \"Yes\", \"count\": 23, \"ratio\": 0.20353982300884957}, {\"year\": \"2007-01-01T00:00:00\", \"type\": \"No\", \"count\": 69, \"ratio\": 0.6448598130841121}, {\"year\": \"2007-01-01T00:00:00\", \"type\": \"Yes\", \"count\": 38, \"ratio\": 0.35514018691588783}, {\"year\": \"2008-01-01T00:00:00\", \"type\": \"No\", \"count\": 70, \"ratio\": 0.7070707070707071}, {\"year\": \"2008-01-01T00:00:00\", \"type\": \"Yes\", \"count\": 29, \"ratio\": 0.29292929292929293}, {\"year\": \"2009-01-01T00:00:00\", \"type\": \"No\", \"count\": 84, \"ratio\": 0.717948717948718}, {\"year\": \"2009-01-01T00:00:00\", \"type\": \"Yes\", \"count\": 33, \"ratio\": 0.28205128205128205}, {\"year\": \"2010-01-01T00:00:00\", \"type\": \"No\", \"count\": 82, \"ratio\": 0.7522935779816514}, {\"year\": \"2010-01-01T00:00:00\", \"type\": \"Yes\", \"count\": 27, \"ratio\": 0.24770642201834864}, {\"year\": \"2011-01-01T00:00:00\", \"type\": \"No\", \"count\": 91, \"ratio\": 0.7647058823529411}, {\"year\": \"2011-01-01T00:00:00\", \"type\": \"Yes\", \"count\": 28, \"ratio\": 0.23529411764705882}, {\"year\": \"2012-01-01T00:00:00\", \"type\": \"No\", \"count\": 80, \"ratio\": 0.6896551724137931}, {\"year\": \"2012-01-01T00:00:00\", \"type\": \"Yes\", \"count\": 36, \"ratio\": 0.3103448275862069}, {\"year\": \"2013-01-01T00:00:00\", \"type\": \"No\", \"count\": 74, \"ratio\": 0.7326732673267327}, {\"year\": \"2013-01-01T00:00:00\", \"type\": \"Yes\", \"count\": 27, \"ratio\": 0.26732673267326734}, {\"year\": \"2014-01-01T00:00:00\", \"type\": \"No\", \"count\": 87, \"ratio\": 0.6541353383458647}, {\"year\": \"2014-01-01T00:00:00\", \"type\": \"Yes\", \"count\": 46, \"ratio\": 0.3458646616541353}, {\"year\": \"2015-01-01T00:00:00\", \"type\": \"No\", \"count\": 79, \"ratio\": 0.6220472440944882}, {\"year\": \"2015-01-01T00:00:00\", \"type\": \"Yes\", \"count\": 48, \"ratio\": 0.3779527559055118}, {\"year\": \"2016-01-01T00:00:00\", \"type\": \"No\", \"count\": 75, \"ratio\": 0.6521739130434783}, {\"year\": \"2016-01-01T00:00:00\", \"type\": \"Yes\", \"count\": 40, \"ratio\": 0.34782608695652173}, {\"year\": \"2017-01-01T00:00:00\", \"type\": \"No\", \"count\": 71, \"ratio\": 0.6228070175438597}, {\"year\": \"2017-01-01T00:00:00\", \"type\": \"Yes\", \"count\": 43, \"ratio\": 0.37719298245614036}, {\"year\": \"2018-01-01T00:00:00\", \"type\": \"No\", \"count\": 69, \"ratio\": 0.5433070866141733}, {\"year\": \"2018-01-01T00:00:00\", \"type\": \"Yes\", \"count\": 58, \"ratio\": 0.4566929133858268}, {\"year\": \"2019-01-01T00:00:00\", \"type\": \"No\", \"count\": 86, \"ratio\": 0.6666666666666666}, {\"year\": \"2019-01-01T00:00:00\", \"type\": \"Yes\", \"count\": 43, \"ratio\": 0.3333333333333333}, {\"year\": \"2020-01-01T00:00:00\", \"type\": \"No\", \"count\": 108, \"ratio\": 0.6878980891719745}, {\"year\": \"2020-01-01T00:00:00\", \"type\": \"Yes\", \"count\": 49, \"ratio\": 0.31210191082802546}, {\"year\": \"2021-01-01T00:00:00\", \"type\": \"No\", \"count\": 116, \"ratio\": 0.6823529411764706}, {\"year\": \"2021-01-01T00:00:00\", \"type\": \"Yes\", \"count\": 54, \"ratio\": 0.3176470588235294}], \"data-13dc27e4ecc591ee8fd381db4be435d5\": [{\"year\": \"1990-01-01T00:00:00\", \"type\": \"No\", \"count\": 50, \"ratio\": 0.9615384615384616}, {\"year\": \"1990-01-01T00:00:00\", \"type\": \"Yes\", \"count\": 2, \"ratio\": 0.038461538461538464}, {\"year\": \"1991-01-01T00:00:00\", \"type\": \"No\", \"count\": 49, \"ratio\": 0.98}, {\"year\": \"1991-01-01T00:00:00\", \"type\": \"Yes\", \"count\": 1, \"ratio\": 0.02}, {\"year\": \"1992-01-01T00:00:00\", \"type\": \"No\", \"count\": 47, \"ratio\": 0.8867924528301887}, {\"year\": \"1992-01-01T00:00:00\", \"type\": \"Yes\", \"count\": 6, \"ratio\": 0.11320754716981132}, {\"year\": \"1993-01-01T00:00:00\", \"type\": \"No\", \"count\": 51, \"ratio\": 0.9272727272727272}, {\"year\": \"1993-01-01T00:00:00\", \"type\": \"Yes\", \"count\": 4, \"ratio\": 0.07272727272727272}, {\"year\": \"1994-01-01T00:00:00\", \"type\": \"No\", \"count\": 49, \"ratio\": 0.9245283018867925}, {\"year\": \"1994-01-01T00:00:00\", \"type\": \"Yes\", \"count\": 4, \"ratio\": 0.07547169811320754}, {\"year\": \"1995-01-01T00:00:00\", \"type\": \"No\", \"count\": 69, \"ratio\": 0.9324324324324325}, {\"year\": \"1995-01-01T00:00:00\", \"type\": \"Yes\", \"count\": 5, \"ratio\": 0.06756756756756757}, {\"year\": \"1996-01-01T00:00:00\", \"type\": \"No\", \"count\": 69, \"ratio\": 0.8961038961038961}, {\"year\": \"1996-01-01T00:00:00\", \"type\": \"Yes\", \"count\": 8, \"ratio\": 0.1038961038961039}, {\"year\": \"1997-01-01T00:00:00\", \"type\": \"No\", \"count\": 82, \"ratio\": 0.9318181818181818}, {\"year\": \"1997-01-01T00:00:00\", \"type\": \"Yes\", \"count\": 6, \"ratio\": 0.06818181818181818}, {\"year\": \"1998-01-01T00:00:00\", \"type\": \"No\", \"count\": 83, \"ratio\": 0.9222222222222223}, {\"year\": \"1998-01-01T00:00:00\", \"type\": \"Yes\", \"count\": 7, \"ratio\": 0.07777777777777778}, {\"year\": \"1999-01-01T00:00:00\", \"type\": \"No\", \"count\": 83, \"ratio\": 0.9431818181818182}, {\"year\": \"1999-01-01T00:00:00\", \"type\": \"Yes\", \"count\": 5, \"ratio\": 0.056818181818181816}, {\"year\": \"2000-01-01T00:00:00\", \"type\": \"No\", \"count\": 81, \"ratio\": 0.8804347826086957}, {\"year\": \"2000-01-01T00:00:00\", \"type\": \"Yes\", \"count\": 11, \"ratio\": 0.11956521739130435}, {\"year\": \"2001-01-01T00:00:00\", \"type\": \"No\", \"count\": 83, \"ratio\": 0.8645833333333334}, {\"year\": \"2001-01-01T00:00:00\", \"type\": \"Yes\", \"count\": 13, \"ratio\": 0.13541666666666666}, {\"year\": \"2002-01-01T00:00:00\", \"type\": \"No\", \"count\": 86, \"ratio\": 0.8514851485148515}, {\"year\": \"2002-01-01T00:00:00\", \"type\": \"Yes\", \"count\": 15, \"ratio\": 0.1485148514851485}, {\"year\": \"2003-01-01T00:00:00\", \"type\": \"No\", \"count\": 91, \"ratio\": 0.8921568627450981}, {\"year\": \"2003-01-01T00:00:00\", \"type\": \"Yes\", \"count\": 11, \"ratio\": 0.10784313725490197}, {\"year\": \"2004-01-01T00:00:00\", \"type\": \"No\", \"count\": 79, \"ratio\": 0.8144329896907216}, {\"year\": \"2004-01-01T00:00:00\", \"type\": \"Yes\", \"count\": 18, \"ratio\": 0.18556701030927836}, {\"year\": \"2005-01-01T00:00:00\", \"type\": \"No\", \"count\": 98, \"ratio\": 0.8235294117647058}, {\"year\": \"2005-01-01T00:00:00\", \"type\": \"Yes\", \"count\": 21, \"ratio\": 0.17647058823529413}, {\"year\": \"2006-01-01T00:00:00\", \"type\": \"No\", \"count\": 90, \"ratio\": 0.7964601769911505}, {\"year\": \"2006-01-01T00:00:00\", \"type\": \"Yes\", \"count\": 23, \"ratio\": 0.20353982300884957}, {\"year\": \"2007-01-01T00:00:00\", \"type\": \"No\", \"count\": 75, \"ratio\": 0.7009345794392523}, {\"year\": \"2007-01-01T00:00:00\", \"type\": \"Yes\", \"count\": 32, \"ratio\": 0.29906542056074764}, {\"year\": \"2008-01-01T00:00:00\", \"type\": \"No\", \"count\": 75, \"ratio\": 0.7575757575757576}, {\"year\": \"2008-01-01T00:00:00\", \"type\": \"Yes\", \"count\": 24, \"ratio\": 0.24242424242424243}, {\"year\": \"2009-01-01T00:00:00\", \"type\": \"No\", \"count\": 90, \"ratio\": 0.7692307692307693}, {\"year\": \"2009-01-01T00:00:00\", \"type\": \"Yes\", \"count\": 27, \"ratio\": 0.23076923076923078}, {\"year\": \"2010-01-01T00:00:00\", \"type\": \"No\", \"count\": 79, \"ratio\": 0.7247706422018348}, {\"year\": \"2010-01-01T00:00:00\", \"type\": \"Yes\", \"count\": 30, \"ratio\": 0.27522935779816515}, {\"year\": \"2011-01-01T00:00:00\", \"type\": \"No\", \"count\": 91, \"ratio\": 0.7647058823529411}, {\"year\": \"2011-01-01T00:00:00\", \"type\": \"Yes\", \"count\": 28, \"ratio\": 0.23529411764705882}, {\"year\": \"2012-01-01T00:00:00\", \"type\": \"No\", \"count\": 74, \"ratio\": 0.6379310344827587}, {\"year\": \"2012-01-01T00:00:00\", \"type\": \"Yes\", \"count\": 42, \"ratio\": 0.3620689655172414}, {\"year\": \"2013-01-01T00:00:00\", \"type\": \"No\", \"count\": 75, \"ratio\": 0.7425742574257426}, {\"year\": \"2013-01-01T00:00:00\", \"type\": \"Yes\", \"count\": 26, \"ratio\": 0.25742574257425743}, {\"year\": \"2014-01-01T00:00:00\", \"type\": \"No\", \"count\": 85, \"ratio\": 0.6390977443609023}, {\"year\": \"2014-01-01T00:00:00\", \"type\": \"Yes\", \"count\": 48, \"ratio\": 0.3609022556390977}, {\"year\": \"2015-01-01T00:00:00\", \"type\": \"No\", \"count\": 80, \"ratio\": 0.6299212598425197}, {\"year\": \"2015-01-01T00:00:00\", \"type\": \"Yes\", \"count\": 47, \"ratio\": 0.3700787401574803}, {\"year\": \"2016-01-01T00:00:00\", \"type\": \"No\", \"count\": 66, \"ratio\": 0.5739130434782609}, {\"year\": \"2016-01-01T00:00:00\", \"type\": \"Yes\", \"count\": 49, \"ratio\": 0.4260869565217391}, {\"year\": \"2017-01-01T00:00:00\", \"type\": \"No\", \"count\": 65, \"ratio\": 0.5701754385964912}, {\"year\": \"2017-01-01T00:00:00\", \"type\": \"Yes\", \"count\": 49, \"ratio\": 0.4298245614035088}, {\"year\": \"2018-01-01T00:00:00\", \"type\": \"No\", \"count\": 82, \"ratio\": 0.6456692913385826}, {\"year\": \"2018-01-01T00:00:00\", \"type\": \"Yes\", \"count\": 45, \"ratio\": 0.3543307086614173}, {\"year\": \"2019-01-01T00:00:00\", \"type\": \"No\", \"count\": 81, \"ratio\": 0.627906976744186}, {\"year\": \"2019-01-01T00:00:00\", \"type\": \"Yes\", \"count\": 48, \"ratio\": 0.37209302325581395}, {\"year\": \"2020-01-01T00:00:00\", \"type\": \"No\", \"count\": 93, \"ratio\": 0.5923566878980892}, {\"year\": \"2020-01-01T00:00:00\", \"type\": \"Yes\", \"count\": 64, \"ratio\": 0.40764331210191085}, {\"year\": \"2021-01-01T00:00:00\", \"type\": \"No\", \"count\": 94, \"ratio\": 0.5529411764705883}, {\"year\": \"2021-01-01T00:00:00\", \"type\": \"Yes\", \"count\": 76, \"ratio\": 0.4470588235294118}]}}, {\"mode\": \"vega-lite\"});\n",
       "</script>"
      ],
      "text/plain": [
       "alt.LayerChart(...)"
      ]
     },
     "execution_count": 36,
     "metadata": {},
     "output_type": "execute_result"
    }
   ],
   "source": [
    "alt.layer(\n",
    "    cross_type_count,\n",
    "    cross_country_count\n",
    ").resolve_scale(\n",
    "    color='independent'\n",
    ")"
   ]
  },
  {
   "cell_type": "code",
   "execution_count": 37,
   "id": "191b818c",
   "metadata": {},
   "outputs": [
    {
     "data": {
      "text/html": [
       "\n",
       "<div id=\"altair-viz-1162aee65a5546eabdd74afb6b8ff541\"></div>\n",
       "<script type=\"text/javascript\">\n",
       "  var VEGA_DEBUG = (typeof VEGA_DEBUG == \"undefined\") ? {} : VEGA_DEBUG;\n",
       "  (function(spec, embedOpt){\n",
       "    let outputDiv = document.currentScript.previousElementSibling;\n",
       "    if (outputDiv.id !== \"altair-viz-1162aee65a5546eabdd74afb6b8ff541\") {\n",
       "      outputDiv = document.getElementById(\"altair-viz-1162aee65a5546eabdd74afb6b8ff541\");\n",
       "    }\n",
       "    const paths = {\n",
       "      \"vega\": \"https://cdn.jsdelivr.net/npm//vega@5?noext\",\n",
       "      \"vega-lib\": \"https://cdn.jsdelivr.net/npm//vega-lib?noext\",\n",
       "      \"vega-lite\": \"https://cdn.jsdelivr.net/npm//vega-lite@4.17.0?noext\",\n",
       "      \"vega-embed\": \"https://cdn.jsdelivr.net/npm//vega-embed@6?noext\",\n",
       "    };\n",
       "\n",
       "    function maybeLoadScript(lib, version) {\n",
       "      var key = `${lib.replace(\"-\", \"\")}_version`;\n",
       "      return (VEGA_DEBUG[key] == version) ?\n",
       "        Promise.resolve(paths[lib]) :\n",
       "        new Promise(function(resolve, reject) {\n",
       "          var s = document.createElement('script');\n",
       "          document.getElementsByTagName(\"head\")[0].appendChild(s);\n",
       "          s.async = true;\n",
       "          s.onload = () => {\n",
       "            VEGA_DEBUG[key] = version;\n",
       "            return resolve(paths[lib]);\n",
       "          };\n",
       "          s.onerror = () => reject(`Error loading script: ${paths[lib]}`);\n",
       "          s.src = paths[lib];\n",
       "        });\n",
       "    }\n",
       "\n",
       "    function showError(err) {\n",
       "      outputDiv.innerHTML = `<div class=\"error\" style=\"color:red;\">${err}</div>`;\n",
       "      throw err;\n",
       "    }\n",
       "\n",
       "    function displayChart(vegaEmbed) {\n",
       "      vegaEmbed(outputDiv, spec, embedOpt)\n",
       "        .catch(err => showError(`Javascript Error: ${err.message}<br>This usually means there's a typo in your chart specification. See the javascript console for the full traceback.`));\n",
       "    }\n",
       "\n",
       "    if(typeof define === \"function\" && define.amd) {\n",
       "      requirejs.config({paths});\n",
       "      require([\"vega-embed\"], displayChart, err => showError(`Error loading script: ${err.message}`));\n",
       "    } else {\n",
       "      maybeLoadScript(\"vega\", \"5\")\n",
       "        .then(() => maybeLoadScript(\"vega-lite\", \"4.17.0\"))\n",
       "        .then(() => maybeLoadScript(\"vega-embed\", \"6\"))\n",
       "        .catch(showError)\n",
       "        .then(() => displayChart(vegaEmbed));\n",
       "    }\n",
       "  })({\"config\": {\"view\": {\"continuousWidth\": 400, \"continuousHeight\": 300}}, \"layer\": [{\"data\": {\"name\": \"data-9828840f8f199db131f1eea3ca3d2229\"}, \"mark\": \"line\", \"encoding\": {\"color\": {\"field\": \"type\", \"scale\": {\"domain\": [\"No\", \"Yes\"], \"range\": [\"purple\", \"green\"]}, \"sort\": [\"Yes\", \"No\"], \"title\": \"Cross-type collab.\", \"type\": \"nominal\"}, \"x\": {\"field\": \"year\", \"type\": \"temporal\"}, \"y\": {\"field\": \"ratio\", \"title\": \"Ratio\", \"type\": \"quantitative\"}}}, {\"data\": {\"name\": \"data-13dc27e4ecc591ee8fd381db4be435d5\"}, \"mark\": \"line\", \"encoding\": {\"color\": {\"field\": \"type\", \"scale\": {\"domain\": [\"Yes\", \"No\"], \"range\": [\"steelblue\", \"orange\"]}, \"sort\": [\"Yes\", \"No\"], \"title\": \"Cross-country collab.\", \"type\": \"nominal\"}, \"x\": {\"field\": \"year\", \"type\": \"temporal\"}, \"y\": {\"field\": \"ratio\", \"title\": \"Ratio\", \"type\": \"quantitative\"}}}], \"resolve\": {\"scale\": {\"color\": \"independent\"}}, \"$schema\": \"https://vega.github.io/schema/vega-lite/v4.17.0.json\", \"datasets\": {\"data-9828840f8f199db131f1eea3ca3d2229\": [{\"year\": \"1990-01-01T00:00:00\", \"type\": \"No\", \"count\": 47, \"ratio\": 0.9038461538461539}, {\"year\": \"1990-01-01T00:00:00\", \"type\": \"Yes\", \"count\": 5, \"ratio\": 0.09615384615384616}, {\"year\": \"1991-01-01T00:00:00\", \"type\": \"No\", \"count\": 43, \"ratio\": 0.86}, {\"year\": \"1991-01-01T00:00:00\", \"type\": \"Yes\", \"count\": 7, \"ratio\": 0.14}, {\"year\": \"1992-01-01T00:00:00\", \"type\": \"No\", \"count\": 43, \"ratio\": 0.8113207547169812}, {\"year\": \"1992-01-01T00:00:00\", \"type\": \"Yes\", \"count\": 10, \"ratio\": 0.18867924528301888}, {\"year\": \"1993-01-01T00:00:00\", \"type\": \"No\", \"count\": 46, \"ratio\": 0.8363636363636363}, {\"year\": \"1993-01-01T00:00:00\", \"type\": \"Yes\", \"count\": 9, \"ratio\": 0.16363636363636364}, {\"year\": \"1994-01-01T00:00:00\", \"type\": \"No\", \"count\": 48, \"ratio\": 0.9056603773584906}, {\"year\": \"1994-01-01T00:00:00\", \"type\": \"Yes\", \"count\": 5, \"ratio\": 0.09433962264150944}, {\"year\": \"1995-01-01T00:00:00\", \"type\": \"No\", \"count\": 64, \"ratio\": 0.8648648648648649}, {\"year\": \"1995-01-01T00:00:00\", \"type\": \"Yes\", \"count\": 10, \"ratio\": 0.13513513513513514}, {\"year\": \"1996-01-01T00:00:00\", \"type\": \"No\", \"count\": 59, \"ratio\": 0.7662337662337663}, {\"year\": \"1996-01-01T00:00:00\", \"type\": \"Yes\", \"count\": 18, \"ratio\": 0.23376623376623376}, {\"year\": \"1997-01-01T00:00:00\", \"type\": \"No\", \"count\": 78, \"ratio\": 0.8863636363636364}, {\"year\": \"1997-01-01T00:00:00\", \"type\": \"Yes\", \"count\": 10, \"ratio\": 0.11363636363636363}, {\"year\": \"1998-01-01T00:00:00\", \"type\": \"No\", \"count\": 77, \"ratio\": 0.8555555555555555}, {\"year\": \"1998-01-01T00:00:00\", \"type\": \"Yes\", \"count\": 13, \"ratio\": 0.14444444444444443}, {\"year\": \"1999-01-01T00:00:00\", \"type\": \"No\", \"count\": 72, \"ratio\": 0.8181818181818182}, {\"year\": \"1999-01-01T00:00:00\", \"type\": \"Yes\", \"count\": 16, \"ratio\": 0.18181818181818182}, {\"year\": \"2000-01-01T00:00:00\", \"type\": \"No\", \"count\": 71, \"ratio\": 0.7717391304347826}, {\"year\": \"2000-01-01T00:00:00\", \"type\": \"Yes\", \"count\": 21, \"ratio\": 0.22826086956521738}, {\"year\": \"2001-01-01T00:00:00\", \"type\": \"No\", \"count\": 68, \"ratio\": 0.7083333333333334}, {\"year\": \"2001-01-01T00:00:00\", \"type\": \"Yes\", \"count\": 28, \"ratio\": 0.2916666666666667}, {\"year\": \"2002-01-01T00:00:00\", \"type\": \"No\", \"count\": 84, \"ratio\": 0.8316831683168316}, {\"year\": \"2002-01-01T00:00:00\", \"type\": \"Yes\", \"count\": 17, \"ratio\": 0.16831683168316833}, {\"year\": \"2003-01-01T00:00:00\", \"type\": \"No\", \"count\": 82, \"ratio\": 0.803921568627451}, {\"year\": \"2003-01-01T00:00:00\", \"type\": \"Yes\", \"count\": 20, \"ratio\": 0.19607843137254902}, {\"year\": \"2004-01-01T00:00:00\", \"type\": \"No\", \"count\": 73, \"ratio\": 0.7525773195876289}, {\"year\": \"2004-01-01T00:00:00\", \"type\": \"Yes\", \"count\": 24, \"ratio\": 0.24742268041237114}, {\"year\": \"2005-01-01T00:00:00\", \"type\": \"No\", \"count\": 97, \"ratio\": 0.8151260504201681}, {\"year\": \"2005-01-01T00:00:00\", \"type\": \"Yes\", \"count\": 22, \"ratio\": 0.18487394957983194}, {\"year\": \"2006-01-01T00:00:00\", \"type\": \"No\", \"count\": 90, \"ratio\": 0.7964601769911505}, {\"year\": \"2006-01-01T00:00:00\", \"type\": \"Yes\", \"count\": 23, \"ratio\": 0.20353982300884957}, {\"year\": \"2007-01-01T00:00:00\", \"type\": \"No\", \"count\": 69, \"ratio\": 0.6448598130841121}, {\"year\": \"2007-01-01T00:00:00\", \"type\": \"Yes\", \"count\": 38, \"ratio\": 0.35514018691588783}, {\"year\": \"2008-01-01T00:00:00\", \"type\": \"No\", \"count\": 70, \"ratio\": 0.7070707070707071}, {\"year\": \"2008-01-01T00:00:00\", \"type\": \"Yes\", \"count\": 29, \"ratio\": 0.29292929292929293}, {\"year\": \"2009-01-01T00:00:00\", \"type\": \"No\", \"count\": 84, \"ratio\": 0.717948717948718}, {\"year\": \"2009-01-01T00:00:00\", \"type\": \"Yes\", \"count\": 33, \"ratio\": 0.28205128205128205}, {\"year\": \"2010-01-01T00:00:00\", \"type\": \"No\", \"count\": 82, \"ratio\": 0.7522935779816514}, {\"year\": \"2010-01-01T00:00:00\", \"type\": \"Yes\", \"count\": 27, \"ratio\": 0.24770642201834864}, {\"year\": \"2011-01-01T00:00:00\", \"type\": \"No\", \"count\": 91, \"ratio\": 0.7647058823529411}, {\"year\": \"2011-01-01T00:00:00\", \"type\": \"Yes\", \"count\": 28, \"ratio\": 0.23529411764705882}, {\"year\": \"2012-01-01T00:00:00\", \"type\": \"No\", \"count\": 80, \"ratio\": 0.6896551724137931}, {\"year\": \"2012-01-01T00:00:00\", \"type\": \"Yes\", \"count\": 36, \"ratio\": 0.3103448275862069}, {\"year\": \"2013-01-01T00:00:00\", \"type\": \"No\", \"count\": 74, \"ratio\": 0.7326732673267327}, {\"year\": \"2013-01-01T00:00:00\", \"type\": \"Yes\", \"count\": 27, \"ratio\": 0.26732673267326734}, {\"year\": \"2014-01-01T00:00:00\", \"type\": \"No\", \"count\": 87, \"ratio\": 0.6541353383458647}, {\"year\": \"2014-01-01T00:00:00\", \"type\": \"Yes\", \"count\": 46, \"ratio\": 0.3458646616541353}, {\"year\": \"2015-01-01T00:00:00\", \"type\": \"No\", \"count\": 79, \"ratio\": 0.6220472440944882}, {\"year\": \"2015-01-01T00:00:00\", \"type\": \"Yes\", \"count\": 48, \"ratio\": 0.3779527559055118}, {\"year\": \"2016-01-01T00:00:00\", \"type\": \"No\", \"count\": 75, \"ratio\": 0.6521739130434783}, {\"year\": \"2016-01-01T00:00:00\", \"type\": \"Yes\", \"count\": 40, \"ratio\": 0.34782608695652173}, {\"year\": \"2017-01-01T00:00:00\", \"type\": \"No\", \"count\": 71, \"ratio\": 0.6228070175438597}, {\"year\": \"2017-01-01T00:00:00\", \"type\": \"Yes\", \"count\": 43, \"ratio\": 0.37719298245614036}, {\"year\": \"2018-01-01T00:00:00\", \"type\": \"No\", \"count\": 69, \"ratio\": 0.5433070866141733}, {\"year\": \"2018-01-01T00:00:00\", \"type\": \"Yes\", \"count\": 58, \"ratio\": 0.4566929133858268}, {\"year\": \"2019-01-01T00:00:00\", \"type\": \"No\", \"count\": 86, \"ratio\": 0.6666666666666666}, {\"year\": \"2019-01-01T00:00:00\", \"type\": \"Yes\", \"count\": 43, \"ratio\": 0.3333333333333333}, {\"year\": \"2020-01-01T00:00:00\", \"type\": \"No\", \"count\": 108, \"ratio\": 0.6878980891719745}, {\"year\": \"2020-01-01T00:00:00\", \"type\": \"Yes\", \"count\": 49, \"ratio\": 0.31210191082802546}, {\"year\": \"2021-01-01T00:00:00\", \"type\": \"No\", \"count\": 116, \"ratio\": 0.6823529411764706}, {\"year\": \"2021-01-01T00:00:00\", \"type\": \"Yes\", \"count\": 54, \"ratio\": 0.3176470588235294}], \"data-13dc27e4ecc591ee8fd381db4be435d5\": [{\"year\": \"1990-01-01T00:00:00\", \"type\": \"No\", \"count\": 50, \"ratio\": 0.9615384615384616}, {\"year\": \"1990-01-01T00:00:00\", \"type\": \"Yes\", \"count\": 2, \"ratio\": 0.038461538461538464}, {\"year\": \"1991-01-01T00:00:00\", \"type\": \"No\", \"count\": 49, \"ratio\": 0.98}, {\"year\": \"1991-01-01T00:00:00\", \"type\": \"Yes\", \"count\": 1, \"ratio\": 0.02}, {\"year\": \"1992-01-01T00:00:00\", \"type\": \"No\", \"count\": 47, \"ratio\": 0.8867924528301887}, {\"year\": \"1992-01-01T00:00:00\", \"type\": \"Yes\", \"count\": 6, \"ratio\": 0.11320754716981132}, {\"year\": \"1993-01-01T00:00:00\", \"type\": \"No\", \"count\": 51, \"ratio\": 0.9272727272727272}, {\"year\": \"1993-01-01T00:00:00\", \"type\": \"Yes\", \"count\": 4, \"ratio\": 0.07272727272727272}, {\"year\": \"1994-01-01T00:00:00\", \"type\": \"No\", \"count\": 49, \"ratio\": 0.9245283018867925}, {\"year\": \"1994-01-01T00:00:00\", \"type\": \"Yes\", \"count\": 4, \"ratio\": 0.07547169811320754}, {\"year\": \"1995-01-01T00:00:00\", \"type\": \"No\", \"count\": 69, \"ratio\": 0.9324324324324325}, {\"year\": \"1995-01-01T00:00:00\", \"type\": \"Yes\", \"count\": 5, \"ratio\": 0.06756756756756757}, {\"year\": \"1996-01-01T00:00:00\", \"type\": \"No\", \"count\": 69, \"ratio\": 0.8961038961038961}, {\"year\": \"1996-01-01T00:00:00\", \"type\": \"Yes\", \"count\": 8, \"ratio\": 0.1038961038961039}, {\"year\": \"1997-01-01T00:00:00\", \"type\": \"No\", \"count\": 82, \"ratio\": 0.9318181818181818}, {\"year\": \"1997-01-01T00:00:00\", \"type\": \"Yes\", \"count\": 6, \"ratio\": 0.06818181818181818}, {\"year\": \"1998-01-01T00:00:00\", \"type\": \"No\", \"count\": 83, \"ratio\": 0.9222222222222223}, {\"year\": \"1998-01-01T00:00:00\", \"type\": \"Yes\", \"count\": 7, \"ratio\": 0.07777777777777778}, {\"year\": \"1999-01-01T00:00:00\", \"type\": \"No\", \"count\": 83, \"ratio\": 0.9431818181818182}, {\"year\": \"1999-01-01T00:00:00\", \"type\": \"Yes\", \"count\": 5, \"ratio\": 0.056818181818181816}, {\"year\": \"2000-01-01T00:00:00\", \"type\": \"No\", \"count\": 81, \"ratio\": 0.8804347826086957}, {\"year\": \"2000-01-01T00:00:00\", \"type\": \"Yes\", \"count\": 11, \"ratio\": 0.11956521739130435}, {\"year\": \"2001-01-01T00:00:00\", \"type\": \"No\", \"count\": 83, \"ratio\": 0.8645833333333334}, {\"year\": \"2001-01-01T00:00:00\", \"type\": \"Yes\", \"count\": 13, \"ratio\": 0.13541666666666666}, {\"year\": \"2002-01-01T00:00:00\", \"type\": \"No\", \"count\": 86, \"ratio\": 0.8514851485148515}, {\"year\": \"2002-01-01T00:00:00\", \"type\": \"Yes\", \"count\": 15, \"ratio\": 0.1485148514851485}, {\"year\": \"2003-01-01T00:00:00\", \"type\": \"No\", \"count\": 91, \"ratio\": 0.8921568627450981}, {\"year\": \"2003-01-01T00:00:00\", \"type\": \"Yes\", \"count\": 11, \"ratio\": 0.10784313725490197}, {\"year\": \"2004-01-01T00:00:00\", \"type\": \"No\", \"count\": 79, \"ratio\": 0.8144329896907216}, {\"year\": \"2004-01-01T00:00:00\", \"type\": \"Yes\", \"count\": 18, \"ratio\": 0.18556701030927836}, {\"year\": \"2005-01-01T00:00:00\", \"type\": \"No\", \"count\": 98, \"ratio\": 0.8235294117647058}, {\"year\": \"2005-01-01T00:00:00\", \"type\": \"Yes\", \"count\": 21, \"ratio\": 0.17647058823529413}, {\"year\": \"2006-01-01T00:00:00\", \"type\": \"No\", \"count\": 90, \"ratio\": 0.7964601769911505}, {\"year\": \"2006-01-01T00:00:00\", \"type\": \"Yes\", \"count\": 23, \"ratio\": 0.20353982300884957}, {\"year\": \"2007-01-01T00:00:00\", \"type\": \"No\", \"count\": 75, \"ratio\": 0.7009345794392523}, {\"year\": \"2007-01-01T00:00:00\", \"type\": \"Yes\", \"count\": 32, \"ratio\": 0.29906542056074764}, {\"year\": \"2008-01-01T00:00:00\", \"type\": \"No\", \"count\": 75, \"ratio\": 0.7575757575757576}, {\"year\": \"2008-01-01T00:00:00\", \"type\": \"Yes\", \"count\": 24, \"ratio\": 0.24242424242424243}, {\"year\": \"2009-01-01T00:00:00\", \"type\": \"No\", \"count\": 90, \"ratio\": 0.7692307692307693}, {\"year\": \"2009-01-01T00:00:00\", \"type\": \"Yes\", \"count\": 27, \"ratio\": 0.23076923076923078}, {\"year\": \"2010-01-01T00:00:00\", \"type\": \"No\", \"count\": 79, \"ratio\": 0.7247706422018348}, {\"year\": \"2010-01-01T00:00:00\", \"type\": \"Yes\", \"count\": 30, \"ratio\": 0.27522935779816515}, {\"year\": \"2011-01-01T00:00:00\", \"type\": \"No\", \"count\": 91, \"ratio\": 0.7647058823529411}, {\"year\": \"2011-01-01T00:00:00\", \"type\": \"Yes\", \"count\": 28, \"ratio\": 0.23529411764705882}, {\"year\": \"2012-01-01T00:00:00\", \"type\": \"No\", \"count\": 74, \"ratio\": 0.6379310344827587}, {\"year\": \"2012-01-01T00:00:00\", \"type\": \"Yes\", \"count\": 42, \"ratio\": 0.3620689655172414}, {\"year\": \"2013-01-01T00:00:00\", \"type\": \"No\", \"count\": 75, \"ratio\": 0.7425742574257426}, {\"year\": \"2013-01-01T00:00:00\", \"type\": \"Yes\", \"count\": 26, \"ratio\": 0.25742574257425743}, {\"year\": \"2014-01-01T00:00:00\", \"type\": \"No\", \"count\": 85, \"ratio\": 0.6390977443609023}, {\"year\": \"2014-01-01T00:00:00\", \"type\": \"Yes\", \"count\": 48, \"ratio\": 0.3609022556390977}, {\"year\": \"2015-01-01T00:00:00\", \"type\": \"No\", \"count\": 80, \"ratio\": 0.6299212598425197}, {\"year\": \"2015-01-01T00:00:00\", \"type\": \"Yes\", \"count\": 47, \"ratio\": 0.3700787401574803}, {\"year\": \"2016-01-01T00:00:00\", \"type\": \"No\", \"count\": 66, \"ratio\": 0.5739130434782609}, {\"year\": \"2016-01-01T00:00:00\", \"type\": \"Yes\", \"count\": 49, \"ratio\": 0.4260869565217391}, {\"year\": \"2017-01-01T00:00:00\", \"type\": \"No\", \"count\": 65, \"ratio\": 0.5701754385964912}, {\"year\": \"2017-01-01T00:00:00\", \"type\": \"Yes\", \"count\": 49, \"ratio\": 0.4298245614035088}, {\"year\": \"2018-01-01T00:00:00\", \"type\": \"No\", \"count\": 82, \"ratio\": 0.6456692913385826}, {\"year\": \"2018-01-01T00:00:00\", \"type\": \"Yes\", \"count\": 45, \"ratio\": 0.3543307086614173}, {\"year\": \"2019-01-01T00:00:00\", \"type\": \"No\", \"count\": 81, \"ratio\": 0.627906976744186}, {\"year\": \"2019-01-01T00:00:00\", \"type\": \"Yes\", \"count\": 48, \"ratio\": 0.37209302325581395}, {\"year\": \"2020-01-01T00:00:00\", \"type\": \"No\", \"count\": 93, \"ratio\": 0.5923566878980892}, {\"year\": \"2020-01-01T00:00:00\", \"type\": \"Yes\", \"count\": 64, \"ratio\": 0.40764331210191085}, {\"year\": \"2021-01-01T00:00:00\", \"type\": \"No\", \"count\": 94, \"ratio\": 0.5529411764705883}, {\"year\": \"2021-01-01T00:00:00\", \"type\": \"Yes\", \"count\": 76, \"ratio\": 0.4470588235294118}]}}, {\"mode\": \"vega-lite\"});\n",
       "</script>"
      ],
      "text/plain": [
       "alt.LayerChart(...)"
      ]
     },
     "execution_count": 37,
     "metadata": {},
     "output_type": "execute_result"
    }
   ],
   "source": [
    "alt.layer(\n",
    "    cross_type_ratio,\n",
    "    cross_country_ratio\n",
    ").resolve_scale(\n",
    "    color='independent'\n",
    ")"
   ]
  },
  {
   "cell_type": "markdown",
   "id": "7ee320f1",
   "metadata": {},
   "source": [
    "### Non-VIS VS VIS citations"
   ]
  },
  {
   "cell_type": "code",
   "execution_count": 38,
   "id": "8703debb",
   "metadata": {},
   "outputs": [
    {
     "data": {
      "text/plain": [
       "True"
      ]
     },
     "execution_count": 38,
     "metadata": {},
     "output_type": "execute_result"
    }
   ],
   "source": [
    "# VIS PAPERS' OPENALEX IDS\n",
    "ids = paper['OpenAlex ID'].tolist()\n",
    "len(list(set(ids))) == paper.shape[0]"
   ]
  },
  {
   "cell_type": "code",
   "execution_count": 39,
   "id": "cdfb32a1",
   "metadata": {},
   "outputs": [],
   "source": [
    "ref = pd.read_csv('../data/processed/openalex_reference_paper_df.csv')\n",
    "ref = ref[ref['OpenAlex ID'].notnull()]"
   ]
  },
  {
   "cell_type": "code",
   "execution_count": 40,
   "id": "018e85e5",
   "metadata": {},
   "outputs": [],
   "source": [
    "cit = pd.read_csv('../data/processed/openalex_citation_paper_df.csv')\n",
    "cit = cit[cit['Citation Paper OpenAlex ID'].notnull()]"
   ]
  },
  {
   "cell_type": "code",
   "execution_count": 41,
   "id": "6eafa09e",
   "metadata": {},
   "outputs": [],
   "source": [
    "ref['VIS'] = ref['OpenAlex ID'].apply(\n",
    "    lambda x: 'Yes' if x in ids else 'No'\n",
    ")"
   ]
  },
  {
   "cell_type": "code",
   "execution_count": 42,
   "id": "254f342a",
   "metadata": {},
   "outputs": [],
   "source": [
    "cit['VIS'] = cit['Citation Paper OpenAlex ID'].apply(\n",
    "    lambda x: 'Yes' if x in ids else 'No'\n",
    ")"
   ]
  },
  {
   "cell_type": "code",
   "execution_count": 43,
   "id": "b46ace38",
   "metadata": {},
   "outputs": [],
   "source": [
    "tuples = []\n",
    "for group in cit.groupby('OpenAlex Year'):\n",
    "    year = group[0]\n",
    "    total = group[1].shape[0]\n",
    "    for subgroup in group[1].groupby('VIS'):\n",
    "        type_of_paper = subgroup[0] # true or false\n",
    "        count = subgroup[1].shape[0]\n",
    "        ratio = count / total\n",
    "        tuples.append((year, type_of_paper, count, ratio))"
   ]
  },
  {
   "cell_type": "code",
   "execution_count": 44,
   "id": "6b9f35c8",
   "metadata": {},
   "outputs": [],
   "source": [
    "cit_df = pd.DataFrame(list(tuples), columns=['year', 'type', 'count', 'ratio']) "
   ]
  },
  {
   "cell_type": "code",
   "execution_count": 45,
   "id": "de361c34",
   "metadata": {},
   "outputs": [
    {
     "data": {
      "text/html": [
       "<div>\n",
       "<style scoped>\n",
       "    .dataframe tbody tr th:only-of-type {\n",
       "        vertical-align: middle;\n",
       "    }\n",
       "\n",
       "    .dataframe tbody tr th {\n",
       "        vertical-align: top;\n",
       "    }\n",
       "\n",
       "    .dataframe thead th {\n",
       "        text-align: right;\n",
       "    }\n",
       "</style>\n",
       "<table border=\"1\" class=\"dataframe\">\n",
       "  <thead>\n",
       "    <tr style=\"text-align: right;\">\n",
       "      <th></th>\n",
       "      <th>year</th>\n",
       "      <th>type</th>\n",
       "      <th>count</th>\n",
       "      <th>ratio</th>\n",
       "      <th>Year</th>\n",
       "    </tr>\n",
       "  </thead>\n",
       "  <tbody>\n",
       "    <tr>\n",
       "      <th>3</th>\n",
       "      <td>1990.0</td>\n",
       "      <td>Non-VIS</td>\n",
       "      <td>6</td>\n",
       "      <td>0.750000</td>\n",
       "      <td>1990-01-01</td>\n",
       "    </tr>\n",
       "    <tr>\n",
       "      <th>4</th>\n",
       "      <td>1990.0</td>\n",
       "      <td>VIS</td>\n",
       "      <td>2</td>\n",
       "      <td>0.250000</td>\n",
       "      <td>1990-01-01</td>\n",
       "    </tr>\n",
       "    <tr>\n",
       "      <th>5</th>\n",
       "      <td>1991.0</td>\n",
       "      <td>Non-VIS</td>\n",
       "      <td>56</td>\n",
       "      <td>0.736842</td>\n",
       "      <td>1991-01-01</td>\n",
       "    </tr>\n",
       "    <tr>\n",
       "      <th>6</th>\n",
       "      <td>1991.0</td>\n",
       "      <td>VIS</td>\n",
       "      <td>20</td>\n",
       "      <td>0.263158</td>\n",
       "      <td>1991-01-01</td>\n",
       "    </tr>\n",
       "    <tr>\n",
       "      <th>7</th>\n",
       "      <td>1992.0</td>\n",
       "      <td>Non-VIS</td>\n",
       "      <td>113</td>\n",
       "      <td>0.710692</td>\n",
       "      <td>1992-01-01</td>\n",
       "    </tr>\n",
       "  </tbody>\n",
       "</table>\n",
       "</div>"
      ],
      "text/plain": [
       "     year     type  count     ratio       Year\n",
       "3  1990.0  Non-VIS      6  0.750000 1990-01-01\n",
       "4  1990.0      VIS      2  0.250000 1990-01-01\n",
       "5  1991.0  Non-VIS     56  0.736842 1991-01-01\n",
       "6  1991.0      VIS     20  0.263158 1991-01-01\n",
       "7  1992.0  Non-VIS    113  0.710692 1992-01-01"
      ]
     },
     "execution_count": 45,
     "metadata": {},
     "output_type": "execute_result"
    }
   ],
   "source": [
    "cit_df = cit_df[(cit_df.year >= 1990) & (cit_df.year <= 2021)]\n",
    "cit_df['Year'] = pd.to_datetime(cit_df['year'], format='%Y')\n",
    "cit_df.replace({'Yes': 'VIS', 'No': 'Non-VIS'}, inplace=True)\n",
    "cit_df.head()"
   ]
  },
  {
   "cell_type": "code",
   "execution_count": 46,
   "id": "2e95b823",
   "metadata": {},
   "outputs": [
    {
     "data": {
      "text/html": [
       "<div>\n",
       "<style scoped>\n",
       "    .dataframe tbody tr th:only-of-type {\n",
       "        vertical-align: middle;\n",
       "    }\n",
       "\n",
       "    .dataframe tbody tr th {\n",
       "        vertical-align: top;\n",
       "    }\n",
       "\n",
       "    .dataframe thead th {\n",
       "        text-align: right;\n",
       "    }\n",
       "</style>\n",
       "<table border=\"1\" class=\"dataframe\">\n",
       "  <thead>\n",
       "    <tr style=\"text-align: right;\">\n",
       "      <th></th>\n",
       "      <th>year</th>\n",
       "      <th>type</th>\n",
       "      <th>count</th>\n",
       "      <th>ratio</th>\n",
       "      <th>Year</th>\n",
       "    </tr>\n",
       "  </thead>\n",
       "  <tbody>\n",
       "    <tr>\n",
       "      <th>45</th>\n",
       "      <td>2011.0</td>\n",
       "      <td>Non-VIS</td>\n",
       "      <td>6091</td>\n",
       "      <td>0.888938</td>\n",
       "      <td>2011-01-01</td>\n",
       "    </tr>\n",
       "    <tr>\n",
       "      <th>46</th>\n",
       "      <td>2011.0</td>\n",
       "      <td>VIS</td>\n",
       "      <td>761</td>\n",
       "      <td>0.111062</td>\n",
       "      <td>2011-01-01</td>\n",
       "    </tr>\n",
       "    <tr>\n",
       "      <th>65</th>\n",
       "      <td>2021.0</td>\n",
       "      <td>Non-VIS</td>\n",
       "      <td>11309</td>\n",
       "      <td>0.843703</td>\n",
       "      <td>2021-01-01</td>\n",
       "    </tr>\n",
       "    <tr>\n",
       "      <th>66</th>\n",
       "      <td>2021.0</td>\n",
       "      <td>VIS</td>\n",
       "      <td>2095</td>\n",
       "      <td>0.156297</td>\n",
       "      <td>2021-01-01</td>\n",
       "    </tr>\n",
       "  </tbody>\n",
       "</table>\n",
       "</div>"
      ],
      "text/plain": [
       "      year     type  count     ratio       Year\n",
       "45  2011.0  Non-VIS   6091  0.888938 2011-01-01\n",
       "46  2011.0      VIS    761  0.111062 2011-01-01\n",
       "65  2021.0  Non-VIS  11309  0.843703 2021-01-01\n",
       "66  2021.0      VIS   2095  0.156297 2021-01-01"
      ]
     },
     "execution_count": 46,
     "metadata": {},
     "output_type": "execute_result"
    }
   ],
   "source": [
    "cit_df[cit_df.year.isin([2021, 2011])]"
   ]
  },
  {
   "cell_type": "code",
   "execution_count": 47,
   "id": "7d91aa0a",
   "metadata": {},
   "outputs": [
    {
     "data": {
      "text/plain": [
       "Text(0, 0.5, 'Ratio')"
      ]
     },
     "execution_count": 47,
     "metadata": {},
     "output_type": "execute_result"
    },
    {
     "data": {
      "image/png": "[encoded data removed]",
      "text/plain": [
       "<Figure size 432x288 with 1 Axes>"
      ]
     },
     "metadata": {
      "needs_background": "light"
     },
     "output_type": "display_data"
    }
   ],
   "source": [
    "g = sns.lineplot(x='year', y='ratio', hue='type', data = cit_df)\n",
    "g.set_xlim(1990,2021)\n",
    "g.legend(title = 'Papers citing VIS', labels = ['Non-VIS', 'VIS'])\n",
    "g.set_xlabel('Year')\n",
    "g.set_ylabel('Ratio')"
   ]
  },
  {
   "cell_type": "code",
   "execution_count": 48,
   "id": "f8fc1970",
   "metadata": {},
   "outputs": [],
   "source": [
    "to_plot_stackarea = []\n",
    "for type_group in cit_df.groupby('type'):\n",
    "    a_list = type_group[1]['count'].tolist()\n",
    "    to_plot_stackarea.append(a_list)"
   ]
  },
  {
   "cell_type": "code",
   "execution_count": 49,
   "id": "d18e44c3",
   "metadata": {},
   "outputs": [
    {
     "data": {
      "text/plain": [
       "True"
      ]
     },
     "execution_count": 49,
     "metadata": {},
     "output_type": "execute_result"
    }
   ],
   "source": [
    "len(to_plot_stackarea[0]) == len(to_plot_stackarea[1])"
   ]
  },
  {
   "cell_type": "code",
   "execution_count": 50,
   "id": "2ce550f6",
   "metadata": {},
   "outputs": [
    {
     "data": {
      "image/png": "[encoded data removed]",
      "text/plain": [
       "<Figure size 432x288 with 1 Axes>"
      ]
     },
     "metadata": {
      "needs_background": "light"
     },
     "output_type": "display_data"
    }
   ],
   "source": [
    "plt.stackplot(range(1990, 2022), to_plot_stackarea, \n",
    "              labels=['Non-VIS', 'VIS'])\n",
    "plt.legend(title= 'Papers citing VIS', loc='upper left')\n",
    "plt.xlabel('Year')\n",
    "plt.ylabel('Number of Publications')\n",
    "plt.show()"
   ]
  },
  {
   "cell_type": "code",
   "execution_count": 51,
   "id": "5196338c",
   "metadata": {},
   "outputs": [
    {
     "data": {
      "text/html": [
       "\n",
       "<div id=\"altair-viz-be5899b6954742cba54004f2fb45bbdf\"></div>\n",
       "<script type=\"text/javascript\">\n",
       "  var VEGA_DEBUG = (typeof VEGA_DEBUG == \"undefined\") ? {} : VEGA_DEBUG;\n",
       "  (function(spec, embedOpt){\n",
       "    let outputDiv = document.currentScript.previousElementSibling;\n",
       "    if (outputDiv.id !== \"altair-viz-be5899b6954742cba54004f2fb45bbdf\") {\n",
       "      outputDiv = document.getElementById(\"altair-viz-be5899b6954742cba54004f2fb45bbdf\");\n",
       "    }\n",
       "    const paths = {\n",
       "      \"vega\": \"https://cdn.jsdelivr.net/npm//vega@5?noext\",\n",
       "      \"vega-lib\": \"https://cdn.jsdelivr.net/npm//vega-lib?noext\",\n",
       "      \"vega-lite\": \"https://cdn.jsdelivr.net/npm//vega-lite@4.17.0?noext\",\n",
       "      \"vega-embed\": \"https://cdn.jsdelivr.net/npm//vega-embed@6?noext\",\n",
       "    };\n",
       "\n",
       "    function maybeLoadScript(lib, version) {\n",
       "      var key = `${lib.replace(\"-\", \"\")}_version`;\n",
       "      return (VEGA_DEBUG[key] == version) ?\n",
       "        Promise.resolve(paths[lib]) :\n",
       "        new Promise(function(resolve, reject) {\n",
       "          var s = document.createElement('script');\n",
       "          document.getElementsByTagName(\"head\")[0].appendChild(s);\n",
       "          s.async = true;\n",
       "          s.onload = () => {\n",
       "            VEGA_DEBUG[key] = version;\n",
       "            return resolve(paths[lib]);\n",
       "          };\n",
       "          s.onerror = () => reject(`Error loading script: ${paths[lib]}`);\n",
       "          s.src = paths[lib];\n",
       "        });\n",
       "    }\n",
       "\n",
       "    function showError(err) {\n",
       "      outputDiv.innerHTML = `<div class=\"error\" style=\"color:red;\">${err}</div>`;\n",
       "      throw err;\n",
       "    }\n",
       "\n",
       "    function displayChart(vegaEmbed) {\n",
       "      vegaEmbed(outputDiv, spec, embedOpt)\n",
       "        .catch(err => showError(`Javascript Error: ${err.message}<br>This usually means there's a typo in your chart specification. See the javascript console for the full traceback.`));\n",
       "    }\n",
       "\n",
       "    if(typeof define === \"function\" && define.amd) {\n",
       "      requirejs.config({paths});\n",
       "      require([\"vega-embed\"], displayChart, err => showError(`Error loading script: ${err.message}`));\n",
       "    } else {\n",
       "      maybeLoadScript(\"vega\", \"5\")\n",
       "        .then(() => maybeLoadScript(\"vega-lite\", \"4.17.0\"))\n",
       "        .then(() => maybeLoadScript(\"vega-embed\", \"6\"))\n",
       "        .catch(showError)\n",
       "        .then(() => displayChart(vegaEmbed));\n",
       "    }\n",
       "  })({\"config\": {\"view\": {\"continuousWidth\": 400, \"continuousHeight\": 300}}, \"hconcat\": [{\"mark\": \"area\", \"encoding\": {\"color\": {\"field\": \"type\", \"scale\": {\"domain\": [\"VIS\", \"Non-VIS\"], \"range\": [\"skyblue\", \"pink\"]}, \"title\": \"Type\", \"type\": \"nominal\"}, \"x\": {\"field\": \"Year\", \"type\": \"temporal\"}, \"y\": {\"field\": \"count\", \"type\": \"quantitative\"}}}, {\"mark\": \"line\", \"encoding\": {\"color\": {\"field\": \"type\", \"scale\": {\"domain\": [\"VIS\", \"Non-VIS\"], \"range\": [\"green\", \"purple\"]}, \"title\": \"Type\", \"type\": \"nominal\"}, \"x\": {\"field\": \"Year\", \"type\": \"temporal\"}, \"y\": {\"field\": \"ratio\", \"type\": \"quantitative\"}}}], \"data\": {\"name\": \"data-caf6a8430b2373eb8cd48a7a77ac4916\"}, \"$schema\": \"https://vega.github.io/schema/vega-lite/v4.17.0.json\", \"datasets\": {\"data-caf6a8430b2373eb8cd48a7a77ac4916\": [{\"year\": 1990.0, \"type\": \"Non-VIS\", \"count\": 6, \"ratio\": 0.75, \"Year\": \"1990-01-01T00:00:00\"}, {\"year\": 1990.0, \"type\": \"VIS\", \"count\": 2, \"ratio\": 0.25, \"Year\": \"1990-01-01T00:00:00\"}, {\"year\": 1991.0, \"type\": \"Non-VIS\", \"count\": 56, \"ratio\": 0.7368421052631579, \"Year\": \"1991-01-01T00:00:00\"}, {\"year\": 1991.0, \"type\": \"VIS\", \"count\": 20, \"ratio\": 0.2631578947368421, \"Year\": \"1991-01-01T00:00:00\"}, {\"year\": 1992.0, \"type\": \"Non-VIS\", \"count\": 113, \"ratio\": 0.710691823899371, \"Year\": \"1992-01-01T00:00:00\"}, {\"year\": 1992.0, \"type\": \"VIS\", \"count\": 46, \"ratio\": 0.2893081761006289, \"Year\": \"1992-01-01T00:00:00\"}, {\"year\": 1993.0, \"type\": \"Non-VIS\", \"count\": 202, \"ratio\": 0.8015873015873016, \"Year\": \"1993-01-01T00:00:00\"}, {\"year\": 1993.0, \"type\": \"VIS\", \"count\": 50, \"ratio\": 0.1984126984126984, \"Year\": \"1993-01-01T00:00:00\"}, {\"year\": 1994.0, \"type\": \"Non-VIS\", \"count\": 285, \"ratio\": 0.7894736842105263, \"Year\": \"1994-01-01T00:00:00\"}, {\"year\": 1994.0, \"type\": \"VIS\", \"count\": 76, \"ratio\": 0.21052631578947367, \"Year\": \"1994-01-01T00:00:00\"}, {\"year\": 1995.0, \"type\": \"Non-VIS\", \"count\": 454, \"ratio\": 0.8092691622103387, \"Year\": \"1995-01-01T00:00:00\"}, {\"year\": 1995.0, \"type\": \"VIS\", \"count\": 107, \"ratio\": 0.19073083778966132, \"Year\": \"1995-01-01T00:00:00\"}, {\"year\": 1996.0, \"type\": \"Non-VIS\", \"count\": 485, \"ratio\": 0.8220338983050848, \"Year\": \"1996-01-01T00:00:00\"}, {\"year\": 1996.0, \"type\": \"VIS\", \"count\": 105, \"ratio\": 0.17796610169491525, \"Year\": \"1996-01-01T00:00:00\"}, {\"year\": 1997.0, \"type\": \"Non-VIS\", \"count\": 766, \"ratio\": 0.829004329004329, \"Year\": \"1997-01-01T00:00:00\"}, {\"year\": 1997.0, \"type\": \"VIS\", \"count\": 158, \"ratio\": 0.170995670995671, \"Year\": \"1997-01-01T00:00:00\"}, {\"year\": 1998.0, \"type\": \"Non-VIS\", \"count\": 809, \"ratio\": 0.7884990253411306, \"Year\": \"1998-01-01T00:00:00\"}, {\"year\": 1998.0, \"type\": \"VIS\", \"count\": 217, \"ratio\": 0.21150097465886938, \"Year\": \"1998-01-01T00:00:00\"}, {\"year\": 1999.0, \"type\": \"Non-VIS\", \"count\": 1079, \"ratio\": 0.8396887159533074, \"Year\": \"1999-01-01T00:00:00\"}, {\"year\": 1999.0, \"type\": \"VIS\", \"count\": 206, \"ratio\": 0.16031128404669262, \"Year\": \"1999-01-01T00:00:00\"}, {\"year\": 2000.0, \"type\": \"Non-VIS\", \"count\": 1355, \"ratio\": 0.8479349186483104, \"Year\": \"2000-01-01T00:00:00\"}, {\"year\": 2000.0, \"type\": \"VIS\", \"count\": 243, \"ratio\": 0.1520650813516896, \"Year\": \"2000-01-01T00:00:00\"}, {\"year\": 2001.0, \"type\": \"Non-VIS\", \"count\": 1664, \"ratio\": 0.8917470525187567, \"Year\": \"2001-01-01T00:00:00\"}, {\"year\": 2001.0, \"type\": \"VIS\", \"count\": 202, \"ratio\": 0.1082529474812433, \"Year\": \"2001-01-01T00:00:00\"}, {\"year\": 2002.0, \"type\": \"Non-VIS\", \"count\": 2159, \"ratio\": 0.8895756077461887, \"Year\": \"2002-01-01T00:00:00\"}, {\"year\": 2002.0, \"type\": \"VIS\", \"count\": 268, \"ratio\": 0.11042439225381129, \"Year\": \"2002-01-01T00:00:00\"}, {\"year\": 2003.0, \"type\": \"Non-VIS\", \"count\": 2746, \"ratio\": 0.8988543371522095, \"Year\": \"2003-01-01T00:00:00\"}, {\"year\": 2003.0, \"type\": \"VIS\", \"count\": 309, \"ratio\": 0.1011456628477905, \"Year\": \"2003-01-01T00:00:00\"}, {\"year\": 2004.0, \"type\": \"Non-VIS\", \"count\": 3354, \"ratio\": 0.8920212765957447, \"Year\": \"2004-01-01T00:00:00\"}, {\"year\": 2004.0, \"type\": \"VIS\", \"count\": 406, \"ratio\": 0.10797872340425532, \"Year\": \"2004-01-01T00:00:00\"}, {\"year\": 2005.0, \"type\": \"Non-VIS\", \"count\": 3862, \"ratio\": 0.9019149929939281, \"Year\": \"2005-01-01T00:00:00\"}, {\"year\": 2005.0, \"type\": \"VIS\", \"count\": 420, \"ratio\": 0.09808500700607192, \"Year\": \"2005-01-01T00:00:00\"}, {\"year\": 2006.0, \"type\": \"Non-VIS\", \"count\": 4075, \"ratio\": 0.8995584988962473, \"Year\": \"2006-01-01T00:00:00\"}, {\"year\": 2006.0, \"type\": \"VIS\", \"count\": 455, \"ratio\": 0.10044150110375276, \"Year\": \"2006-01-01T00:00:00\"}, {\"year\": 2007.0, \"type\": \"Non-VIS\", \"count\": 4321, \"ratio\": 0.9054903604358759, \"Year\": \"2007-01-01T00:00:00\"}, {\"year\": 2007.0, \"type\": \"VIS\", \"count\": 451, \"ratio\": 0.09450963956412406, \"Year\": \"2007-01-01T00:00:00\"}, {\"year\": 2008.0, \"type\": \"Non-VIS\", \"count\": 4708, \"ratio\": 0.9094069924666796, \"Year\": \"2008-01-01T00:00:00\"}, {\"year\": 2008.0, \"type\": \"VIS\", \"count\": 469, \"ratio\": 0.09059300753332046, \"Year\": \"2008-01-01T00:00:00\"}, {\"year\": 2009.0, \"type\": \"Non-VIS\", \"count\": 4822, \"ratio\": 0.8829884636513459, \"Year\": \"2009-01-01T00:00:00\"}, {\"year\": 2009.0, \"type\": \"VIS\", \"count\": 639, \"ratio\": 0.11701153634865409, \"Year\": \"2009-01-01T00:00:00\"}, {\"year\": 2010.0, \"type\": \"Non-VIS\", \"count\": 5093, \"ratio\": 0.8911636045494313, \"Year\": \"2010-01-01T00:00:00\"}, {\"year\": 2010.0, \"type\": \"VIS\", \"count\": 622, \"ratio\": 0.10883639545056868, \"Year\": \"2010-01-01T00:00:00\"}, {\"year\": 2011.0, \"type\": \"Non-VIS\", \"count\": 6091, \"ratio\": 0.8889375364856976, \"Year\": \"2011-01-01T00:00:00\"}, {\"year\": 2011.0, \"type\": \"VIS\", \"count\": 761, \"ratio\": 0.11106246351430239, \"Year\": \"2011-01-01T00:00:00\"}, {\"year\": 2012.0, \"type\": \"Non-VIS\", \"count\": 6427, \"ratio\": 0.9067437923250564, \"Year\": \"2012-01-01T00:00:00\"}, {\"year\": 2012.0, \"type\": \"VIS\", \"count\": 661, \"ratio\": 0.09325620767494357, \"Year\": \"2012-01-01T00:00:00\"}, {\"year\": 2013.0, \"type\": \"Non-VIS\", \"count\": 6896, \"ratio\": 0.9103630363036304, \"Year\": \"2013-01-01T00:00:00\"}, {\"year\": 2013.0, \"type\": \"VIS\", \"count\": 679, \"ratio\": 0.08963696369636964, \"Year\": \"2013-01-01T00:00:00\"}, {\"year\": 2014.0, \"type\": \"Non-VIS\", \"count\": 7458, \"ratio\": 0.8837539992890153, \"Year\": \"2014-01-01T00:00:00\"}, {\"year\": 2014.0, \"type\": \"VIS\", \"count\": 981, \"ratio\": 0.11624600071098472, \"Year\": \"2014-01-01T00:00:00\"}, {\"year\": 2015.0, \"type\": \"Non-VIS\", \"count\": 7318, \"ratio\": 0.9834699637145545, \"Year\": \"2015-01-01T00:00:00\"}, {\"year\": 2015.0, \"type\": \"VIS\", \"count\": 123, \"ratio\": 0.016530036285445505, \"Year\": \"2015-01-01T00:00:00\"}, {\"year\": 2016.0, \"type\": \"Non-VIS\", \"count\": 8313, \"ratio\": 0.893390650188071, \"Year\": \"2016-01-01T00:00:00\"}, {\"year\": 2016.0, \"type\": \"VIS\", \"count\": 992, \"ratio\": 0.10660934981192907, \"Year\": \"2016-01-01T00:00:00\"}, {\"year\": 2017.0, \"type\": \"Non-VIS\", \"count\": 8338, \"ratio\": 0.8957885689729265, \"Year\": \"2017-01-01T00:00:00\"}, {\"year\": 2017.0, \"type\": \"VIS\", \"count\": 970, \"ratio\": 0.10421143102707349, \"Year\": \"2017-01-01T00:00:00\"}, {\"year\": 2018.0, \"type\": \"Non-VIS\", \"count\": 8628, \"ratio\": 0.8963224600041554, \"Year\": \"2018-01-01T00:00:00\"}, {\"year\": 2018.0, \"type\": \"VIS\", \"count\": 998, \"ratio\": 0.10367753999584459, \"Year\": \"2018-01-01T00:00:00\"}, {\"year\": 2019.0, \"type\": \"Non-VIS\", \"count\": 10013, \"ratio\": 0.8898071625344353, \"Year\": \"2019-01-01T00:00:00\"}, {\"year\": 2019.0, \"type\": \"VIS\", \"count\": 1240, \"ratio\": 0.11019283746556474, \"Year\": \"2019-01-01T00:00:00\"}, {\"year\": 2020.0, \"type\": \"Non-VIS\", \"count\": 11514, \"ratio\": 0.890762803651555, \"Year\": \"2020-01-01T00:00:00\"}, {\"year\": 2020.0, \"type\": \"VIS\", \"count\": 1412, \"ratio\": 0.10923719634844499, \"Year\": \"2020-01-01T00:00:00\"}, {\"year\": 2021.0, \"type\": \"Non-VIS\", \"count\": 11309, \"ratio\": 0.8437033721277231, \"Year\": \"2021-01-01T00:00:00\"}, {\"year\": 2021.0, \"type\": \"VIS\", \"count\": 2095, \"ratio\": 0.15629662787227694, \"Year\": \"2021-01-01T00:00:00\"}]}}, {\"mode\": \"vega-lite\"});\n",
       "</script>"
      ],
      "text/plain": [
       "alt.HConcatChart(...)"
      ]
     },
     "execution_count": 51,
     "metadata": {},
     "output_type": "execute_result"
    }
   ],
   "source": [
    "# Using Altair\n",
    "\n",
    "source = cit_df\n",
    "\n",
    "chart1 = alt.Chart(source).mark_area().encode(\n",
    "    x=\"Year:T\",\n",
    "    y=\"count:Q\",\n",
    "    color=alt.Color(\n",
    "        \"type:N\",\n",
    "        title = 'Type',\n",
    "        scale=alt.Scale(\n",
    "            domain=['VIS', 'Non-VIS'],\n",
    "            range=['skyblue', 'pink']\n",
    "        )\n",
    "        \n",
    "    )\n",
    ")\n",
    "\n",
    "chart12 = alt.Chart(source).mark_line().encode(\n",
    "    x='Year',\n",
    "    y='ratio',\n",
    "    color=alt.Color(\n",
    "        \"type:N\",\n",
    "        title = 'Type',\n",
    "        scale=alt.Scale(\n",
    "            domain=['VIS', 'Non-VIS'],\n",
    "            range=['green', 'purple']\n",
    "        )\n",
    "        \n",
    "    )\n",
    ")\n",
    "\n",
    "alt.hconcat(chart1, chart12)\n"
   ]
  },
  {
   "cell_type": "markdown",
   "id": "ad1725f4",
   "metadata": {},
   "source": [
    "### Non-VIS VS VIS References"
   ]
  },
  {
   "cell_type": "code",
   "execution_count": 52,
   "id": "6a690f94",
   "metadata": {},
   "outputs": [
    {
     "data": {
      "text/html": [
       "<div>\n",
       "<style scoped>\n",
       "    .dataframe tbody tr th:only-of-type {\n",
       "        vertical-align: middle;\n",
       "    }\n",
       "\n",
       "    .dataframe tbody tr th {\n",
       "        vertical-align: top;\n",
       "    }\n",
       "\n",
       "    .dataframe thead th {\n",
       "        text-align: right;\n",
       "    }\n",
       "</style>\n",
       "<table border=\"1\" class=\"dataframe\">\n",
       "  <thead>\n",
       "    <tr style=\"text-align: right;\">\n",
       "      <th></th>\n",
       "      <th>Year</th>\n",
       "      <th>DOI</th>\n",
       "      <th>Title</th>\n",
       "      <th>Number of References</th>\n",
       "      <th>Index of Reference</th>\n",
       "      <th>Reference</th>\n",
       "      <th>OpenAlex Year</th>\n",
       "      <th>OpenAlex Publication Date</th>\n",
       "      <th>OpenAlex ID</th>\n",
       "      <th>OpenAlex Title</th>\n",
       "      <th>...</th>\n",
       "      <th>Publication Type</th>\n",
       "      <th>OpenAlex First Page</th>\n",
       "      <th>OpenAlex Last Page</th>\n",
       "      <th>Number of References for Reference paper</th>\n",
       "      <th>Number of Citations</th>\n",
       "      <th>Number of Authors</th>\n",
       "      <th>Number of Concepts</th>\n",
       "      <th>Citation API URL</th>\n",
       "      <th>Number of Citation API URLs</th>\n",
       "      <th>VIS</th>\n",
       "    </tr>\n",
       "  </thead>\n",
       "  <tbody>\n",
       "    <tr>\n",
       "      <th>0</th>\n",
       "      <td>2011</td>\n",
       "      <td>10.1109/TVCG.2011.185</td>\n",
       "      <td>D³ Data-Driven Documents</td>\n",
       "      <td>27.0</td>\n",
       "      <td>1.0</td>\n",
       "      <td>https://openalex.org/W146699588</td>\n",
       "      <td>2005.0</td>\n",
       "      <td>2005-07-01</td>\n",
       "      <td>W146699588</td>\n",
       "      <td>The Grammar of Graphics (Statistics and Comput...</td>\n",
       "      <td>...</td>\n",
       "      <td>book</td>\n",
       "      <td>NaN</td>\n",
       "      <td>NaN</td>\n",
       "      <td>0.0</td>\n",
       "      <td>113.0</td>\n",
       "      <td>1.0</td>\n",
       "      <td>4.0</td>\n",
       "      <td>https://api.openalex.org/works?filter=cites:W1...</td>\n",
       "      <td>1.0</td>\n",
       "      <td>No</td>\n",
       "    </tr>\n",
       "    <tr>\n",
       "      <th>1</th>\n",
       "      <td>2011</td>\n",
       "      <td>10.1109/TVCG.2011.185</td>\n",
       "      <td>D³ Data-Driven Documents</td>\n",
       "      <td>27.0</td>\n",
       "      <td>2.0</td>\n",
       "      <td>https://openalex.org/W1516293359</td>\n",
       "      <td>1999.0</td>\n",
       "      <td>1999-01-01</td>\n",
       "      <td>W1516293359</td>\n",
       "      <td>Readings in Information Visualization: Using V...</td>\n",
       "      <td>...</td>\n",
       "      <td>book</td>\n",
       "      <td>NaN</td>\n",
       "      <td>NaN</td>\n",
       "      <td>0.0</td>\n",
       "      <td>3082.0</td>\n",
       "      <td>3.0</td>\n",
       "      <td>13.0</td>\n",
       "      <td>https://api.openalex.org/works?filter=cites:W1...</td>\n",
       "      <td>1.0</td>\n",
       "      <td>No</td>\n",
       "    </tr>\n",
       "    <tr>\n",
       "      <th>2</th>\n",
       "      <td>2011</td>\n",
       "      <td>10.1109/TVCG.2011.185</td>\n",
       "      <td>D³ Data-Driven Documents</td>\n",
       "      <td>27.0</td>\n",
       "      <td>3.0</td>\n",
       "      <td>https://openalex.org/W1587026990</td>\n",
       "      <td>2009.0</td>\n",
       "      <td>2009-08-13</td>\n",
       "      <td>W1587026990</td>\n",
       "      <td>ggplot2: Elegant Graphics for Data Analysis</td>\n",
       "      <td>...</td>\n",
       "      <td>book</td>\n",
       "      <td>NaN</td>\n",
       "      <td>NaN</td>\n",
       "      <td>0.0</td>\n",
       "      <td>18282.0</td>\n",
       "      <td>1.0</td>\n",
       "      <td>10.0</td>\n",
       "      <td>https://api.openalex.org/works?filter=cites:W1...</td>\n",
       "      <td>1.0</td>\n",
       "      <td>No</td>\n",
       "    </tr>\n",
       "  </tbody>\n",
       "</table>\n",
       "<p>3 rows × 25 columns</p>\n",
       "</div>"
      ],
      "text/plain": [
       "   Year                    DOI                     Title  \\\n",
       "0  2011  10.1109/TVCG.2011.185  D³ Data-Driven Documents   \n",
       "1  2011  10.1109/TVCG.2011.185  D³ Data-Driven Documents   \n",
       "2  2011  10.1109/TVCG.2011.185  D³ Data-Driven Documents   \n",
       "\n",
       "   Number of References  Index of Reference                         Reference  \\\n",
       "0                  27.0                 1.0   https://openalex.org/W146699588   \n",
       "1                  27.0                 2.0  https://openalex.org/W1516293359   \n",
       "2                  27.0                 3.0  https://openalex.org/W1587026990   \n",
       "\n",
       "   OpenAlex Year OpenAlex Publication Date  OpenAlex ID  \\\n",
       "0         2005.0                2005-07-01   W146699588   \n",
       "1         1999.0                1999-01-01  W1516293359   \n",
       "2         2009.0                2009-08-13  W1587026990   \n",
       "\n",
       "                                      OpenAlex Title  ... Publication Type  \\\n",
       "0  The Grammar of Graphics (Statistics and Comput...  ...             book   \n",
       "1  Readings in Information Visualization: Using V...  ...             book   \n",
       "2        ggplot2: Elegant Graphics for Data Analysis  ...             book   \n",
       "\n",
       "  OpenAlex First Page OpenAlex Last Page  \\\n",
       "0                 NaN                NaN   \n",
       "1                 NaN                NaN   \n",
       "2                 NaN                NaN   \n",
       "\n",
       "  Number of References for Reference paper Number of Citations  \\\n",
       "0                                      0.0               113.0   \n",
       "1                                      0.0              3082.0   \n",
       "2                                      0.0             18282.0   \n",
       "\n",
       "  Number of Authors Number of Concepts  \\\n",
       "0               1.0                4.0   \n",
       "1               3.0               13.0   \n",
       "2               1.0               10.0   \n",
       "\n",
       "                                    Citation API URL  \\\n",
       "0  https://api.openalex.org/works?filter=cites:W1...   \n",
       "1  https://api.openalex.org/works?filter=cites:W1...   \n",
       "2  https://api.openalex.org/works?filter=cites:W1...   \n",
       "\n",
       "   Number of Citation API URLs  VIS  \n",
       "0                          1.0   No  \n",
       "1                          1.0   No  \n",
       "2                          1.0   No  \n",
       "\n",
       "[3 rows x 25 columns]"
      ]
     },
     "execution_count": 52,
     "metadata": {},
     "output_type": "execute_result"
    }
   ],
   "source": [
    "ref.head(3)"
   ]
  },
  {
   "cell_type": "code",
   "execution_count": 53,
   "id": "5d9df9e7",
   "metadata": {},
   "outputs": [],
   "source": [
    "tuples = []\n",
    "for group in ref.groupby('Year'):\n",
    "    year = group[0]\n",
    "    total = group[1].shape[0]\n",
    "    for subgroup in group[1].groupby('VIS'):\n",
    "        type_of_paper = subgroup[0] \n",
    "        count = subgroup[1].shape[0]\n",
    "        ratio = count / total\n",
    "        tuples.append((year, type_of_paper, count, ratio))"
   ]
  },
  {
   "cell_type": "code",
   "execution_count": 54,
   "id": "08b33717",
   "metadata": {},
   "outputs": [],
   "source": [
    "ref_df = pd.DataFrame(list(tuples), columns=['year', 'type', 'count', 'ratio']) "
   ]
  },
  {
   "cell_type": "code",
   "execution_count": 55,
   "id": "cb1e9c79",
   "metadata": {},
   "outputs": [
    {
     "data": {
      "text/html": [
       "<div>\n",
       "<style scoped>\n",
       "    .dataframe tbody tr th:only-of-type {\n",
       "        vertical-align: middle;\n",
       "    }\n",
       "\n",
       "    .dataframe tbody tr th {\n",
       "        vertical-align: top;\n",
       "    }\n",
       "\n",
       "    .dataframe thead th {\n",
       "        text-align: right;\n",
       "    }\n",
       "</style>\n",
       "<table border=\"1\" class=\"dataframe\">\n",
       "  <thead>\n",
       "    <tr style=\"text-align: right;\">\n",
       "      <th></th>\n",
       "      <th>year</th>\n",
       "      <th>type</th>\n",
       "      <th>count</th>\n",
       "      <th>ratio</th>\n",
       "      <th>Year</th>\n",
       "    </tr>\n",
       "  </thead>\n",
       "  <tbody>\n",
       "    <tr>\n",
       "      <th>0</th>\n",
       "      <td>1990</td>\n",
       "      <td>Non-VIS</td>\n",
       "      <td>590</td>\n",
       "      <td>0.996622</td>\n",
       "      <td>1990-01-01</td>\n",
       "    </tr>\n",
       "    <tr>\n",
       "      <th>1</th>\n",
       "      <td>1990</td>\n",
       "      <td>VIS</td>\n",
       "      <td>2</td>\n",
       "      <td>0.003378</td>\n",
       "      <td>1990-01-01</td>\n",
       "    </tr>\n",
       "    <tr>\n",
       "      <th>2</th>\n",
       "      <td>1991</td>\n",
       "      <td>Non-VIS</td>\n",
       "      <td>402</td>\n",
       "      <td>0.952607</td>\n",
       "      <td>1991-01-01</td>\n",
       "    </tr>\n",
       "    <tr>\n",
       "      <th>3</th>\n",
       "      <td>1991</td>\n",
       "      <td>VIS</td>\n",
       "      <td>20</td>\n",
       "      <td>0.047393</td>\n",
       "      <td>1991-01-01</td>\n",
       "    </tr>\n",
       "    <tr>\n",
       "      <th>4</th>\n",
       "      <td>1992</td>\n",
       "      <td>Non-VIS</td>\n",
       "      <td>528</td>\n",
       "      <td>0.919861</td>\n",
       "      <td>1992-01-01</td>\n",
       "    </tr>\n",
       "  </tbody>\n",
       "</table>\n",
       "</div>"
      ],
      "text/plain": [
       "   year     type  count     ratio       Year\n",
       "0  1990  Non-VIS    590  0.996622 1990-01-01\n",
       "1  1990      VIS      2  0.003378 1990-01-01\n",
       "2  1991  Non-VIS    402  0.952607 1991-01-01\n",
       "3  1991      VIS     20  0.047393 1991-01-01\n",
       "4  1992  Non-VIS    528  0.919861 1992-01-01"
      ]
     },
     "execution_count": 55,
     "metadata": {},
     "output_type": "execute_result"
    }
   ],
   "source": [
    "ref_df = ref_df[(ref_df.year >= 1990) & (ref_df.year <= 2021)]\n",
    "ref_df['Year'] = pd.to_datetime(ref_df['year'], format='%Y')\n",
    "ref_df.replace({'No': 'Non-VIS', 'Yes': 'VIS'}, inplace = True)\n",
    "ref_df.head()"
   ]
  },
  {
   "cell_type": "code",
   "execution_count": 56,
   "id": "d133e8df",
   "metadata": {},
   "outputs": [
    {
     "data": {
      "text/plain": [
       "Text(0, 0.5, 'Ratio')"
      ]
     },
     "execution_count": 56,
     "metadata": {},
     "output_type": "execute_result"
    },
    {
     "data": {
      "image/png": "[encoded data removed]",
      "text/plain": [
       "<Figure size 432x288 with 1 Axes>"
      ]
     },
     "metadata": {
      "needs_background": "light"
     },
     "output_type": "display_data"
    }
   ],
   "source": [
    "g = sns.lineplot(x='year', y='ratio', hue='type', data = ref_df)\n",
    "# g.set_xlim(1990,2021)\n",
    "g.legend(title = 'Papers cited in VIS', labels = ['Non-VIS', 'VIS'])\n",
    "g.set_xlabel('Year')\n",
    "g.set_ylabel('Ratio')"
   ]
  },
  {
   "cell_type": "code",
   "execution_count": 57,
   "id": "847c07a5",
   "metadata": {},
   "outputs": [
    {
     "data": {
      "text/html": [
       "\n",
       "<div id=\"altair-viz-a748245e28df4577a99818c8a438880c\"></div>\n",
       "<script type=\"text/javascript\">\n",
       "  var VEGA_DEBUG = (typeof VEGA_DEBUG == \"undefined\") ? {} : VEGA_DEBUG;\n",
       "  (function(spec, embedOpt){\n",
       "    let outputDiv = document.currentScript.previousElementSibling;\n",
       "    if (outputDiv.id !== \"altair-viz-a748245e28df4577a99818c8a438880c\") {\n",
       "      outputDiv = document.getElementById(\"altair-viz-a748245e28df4577a99818c8a438880c\");\n",
       "    }\n",
       "    const paths = {\n",
       "      \"vega\": \"https://cdn.jsdelivr.net/npm//vega@5?noext\",\n",
       "      \"vega-lib\": \"https://cdn.jsdelivr.net/npm//vega-lib?noext\",\n",
       "      \"vega-lite\": \"https://cdn.jsdelivr.net/npm//vega-lite@4.17.0?noext\",\n",
       "      \"vega-embed\": \"https://cdn.jsdelivr.net/npm//vega-embed@6?noext\",\n",
       "    };\n",
       "\n",
       "    function maybeLoadScript(lib, version) {\n",
       "      var key = `${lib.replace(\"-\", \"\")}_version`;\n",
       "      return (VEGA_DEBUG[key] == version) ?\n",
       "        Promise.resolve(paths[lib]) :\n",
       "        new Promise(function(resolve, reject) {\n",
       "          var s = document.createElement('script');\n",
       "          document.getElementsByTagName(\"head\")[0].appendChild(s);\n",
       "          s.async = true;\n",
       "          s.onload = () => {\n",
       "            VEGA_DEBUG[key] = version;\n",
       "            return resolve(paths[lib]);\n",
       "          };\n",
       "          s.onerror = () => reject(`Error loading script: ${paths[lib]}`);\n",
       "          s.src = paths[lib];\n",
       "        });\n",
       "    }\n",
       "\n",
       "    function showError(err) {\n",
       "      outputDiv.innerHTML = `<div class=\"error\" style=\"color:red;\">${err}</div>`;\n",
       "      throw err;\n",
       "    }\n",
       "\n",
       "    function displayChart(vegaEmbed) {\n",
       "      vegaEmbed(outputDiv, spec, embedOpt)\n",
       "        .catch(err => showError(`Javascript Error: ${err.message}<br>This usually means there's a typo in your chart specification. See the javascript console for the full traceback.`));\n",
       "    }\n",
       "\n",
       "    if(typeof define === \"function\" && define.amd) {\n",
       "      requirejs.config({paths});\n",
       "      require([\"vega-embed\"], displayChart, err => showError(`Error loading script: ${err.message}`));\n",
       "    } else {\n",
       "      maybeLoadScript(\"vega\", \"5\")\n",
       "        .then(() => maybeLoadScript(\"vega-lite\", \"4.17.0\"))\n",
       "        .then(() => maybeLoadScript(\"vega-embed\", \"6\"))\n",
       "        .catch(showError)\n",
       "        .then(() => displayChart(vegaEmbed));\n",
       "    }\n",
       "  })({\"config\": {\"view\": {\"continuousWidth\": 400, \"continuousHeight\": 300}, \"axis\": {\"labelFontSize\": 13, \"titleFontSize\": 14}}, \"hconcat\": [{\"mark\": \"area\", \"encoding\": {\"color\": {\"field\": \"type\", \"type\": \"nominal\"}, \"x\": {\"axis\": {\"title\": \"Year\"}, \"field\": \"Year\", \"type\": \"temporal\"}, \"y\": {\"axis\": {\"title\": \"Raio\"}, \"field\": \"count\", \"type\": \"quantitative\"}}}, {\"mark\": \"line\", \"encoding\": {\"color\": {\"field\": \"type\", \"type\": \"nominal\"}, \"x\": {\"axis\": {\"title\": \"Year\"}, \"field\": \"Year\", \"type\": \"temporal\"}, \"y\": {\"axis\": {\"title\": \"Raio\"}, \"field\": \"ratio\", \"type\": \"quantitative\"}}}], \"data\": {\"name\": \"data-e1eb1706bbda09e5b5767506b936f4b1\"}, \"$schema\": \"https://vega.github.io/schema/vega-lite/v4.17.0.json\", \"datasets\": {\"data-e1eb1706bbda09e5b5767506b936f4b1\": [{\"year\": 1990, \"type\": \"Non-VIS\", \"count\": 590, \"ratio\": 0.9966216216216216, \"Year\": \"1990-01-01T00:00:00\"}, {\"year\": 1990, \"type\": \"VIS\", \"count\": 2, \"ratio\": 0.0033783783783783786, \"Year\": \"1990-01-01T00:00:00\"}, {\"year\": 1991, \"type\": \"Non-VIS\", \"count\": 402, \"ratio\": 0.95260663507109, \"Year\": \"1991-01-01T00:00:00\"}, {\"year\": 1991, \"type\": \"VIS\", \"count\": 20, \"ratio\": 0.04739336492890995, \"Year\": \"1991-01-01T00:00:00\"}, {\"year\": 1992, \"type\": \"Non-VIS\", \"count\": 528, \"ratio\": 0.9198606271777003, \"Year\": \"1992-01-01T00:00:00\"}, {\"year\": 1992, \"type\": \"VIS\", \"count\": 46, \"ratio\": 0.08013937282229965, \"Year\": \"1992-01-01T00:00:00\"}, {\"year\": 1993, \"type\": \"Non-VIS\", \"count\": 510, \"ratio\": 0.9107142857142857, \"Year\": \"1993-01-01T00:00:00\"}, {\"year\": 1993, \"type\": \"VIS\", \"count\": 50, \"ratio\": 0.08928571428571429, \"Year\": \"1993-01-01T00:00:00\"}, {\"year\": 1994, \"type\": \"Non-VIS\", \"count\": 547, \"ratio\": 0.8752, \"Year\": \"1994-01-01T00:00:00\"}, {\"year\": 1994, \"type\": \"VIS\", \"count\": 78, \"ratio\": 0.1248, \"Year\": \"1994-01-01T00:00:00\"}, {\"year\": 1995, \"type\": \"Non-VIS\", \"count\": 826, \"ratio\": 0.8815368196371398, \"Year\": \"1995-01-01T00:00:00\"}, {\"year\": 1995, \"type\": \"VIS\", \"count\": 111, \"ratio\": 0.11846318036286019, \"Year\": \"1995-01-01T00:00:00\"}, {\"year\": 1996, \"type\": \"Non-VIS\", \"count\": 886, \"ratio\": 0.8931451612903226, \"Year\": \"1996-01-01T00:00:00\"}, {\"year\": 1996, \"type\": \"VIS\", \"count\": 106, \"ratio\": 0.10685483870967742, \"Year\": \"1996-01-01T00:00:00\"}, {\"year\": 1997, \"type\": \"Non-VIS\", \"count\": 1142, \"ratio\": 0.8791377983063895, \"Year\": \"1997-01-01T00:00:00\"}, {\"year\": 1997, \"type\": \"VIS\", \"count\": 157, \"ratio\": 0.12086220169361046, \"Year\": \"1997-01-01T00:00:00\"}, {\"year\": 1998, \"type\": \"Non-VIS\", \"count\": 1287, \"ratio\": 0.8591455273698264, \"Year\": \"1998-01-01T00:00:00\"}, {\"year\": 1998, \"type\": \"VIS\", \"count\": 211, \"ratio\": 0.14085447263017356, \"Year\": \"1998-01-01T00:00:00\"}, {\"year\": 1999, \"type\": \"Non-VIS\", \"count\": 1110, \"ratio\": 0.8434650455927052, \"Year\": \"1999-01-01T00:00:00\"}, {\"year\": 1999, \"type\": \"VIS\", \"count\": 206, \"ratio\": 0.15653495440729484, \"Year\": \"1999-01-01T00:00:00\"}, {\"year\": 2000, \"type\": \"Non-VIS\", \"count\": 1403, \"ratio\": 0.8523693803159174, \"Year\": \"2000-01-01T00:00:00\"}, {\"year\": 2000, \"type\": \"VIS\", \"count\": 243, \"ratio\": 0.14763061968408261, \"Year\": \"2000-01-01T00:00:00\"}, {\"year\": 2001, \"type\": \"Non-VIS\", \"count\": 1485, \"ratio\": 0.8802608180201541, \"Year\": \"2001-01-01T00:00:00\"}, {\"year\": 2001, \"type\": \"VIS\", \"count\": 202, \"ratio\": 0.11973918197984589, \"Year\": \"2001-01-01T00:00:00\"}, {\"year\": 2002, \"type\": \"Non-VIS\", \"count\": 1697, \"ratio\": 0.8640529531568228, \"Year\": \"2002-01-01T00:00:00\"}, {\"year\": 2002, \"type\": \"VIS\", \"count\": 267, \"ratio\": 0.13594704684317718, \"Year\": \"2002-01-01T00:00:00\"}, {\"year\": 2003, \"type\": \"Non-VIS\", \"count\": 2143, \"ratio\": 0.8711382113821138, \"Year\": \"2003-01-01T00:00:00\"}, {\"year\": 2003, \"type\": \"VIS\", \"count\": 317, \"ratio\": 0.1288617886178862, \"Year\": \"2003-01-01T00:00:00\"}, {\"year\": 2004, \"type\": \"Non-VIS\", \"count\": 2034, \"ratio\": 0.8356614626129828, \"Year\": \"2004-01-01T00:00:00\"}, {\"year\": 2004, \"type\": \"VIS\", \"count\": 400, \"ratio\": 0.16433853738701726, \"Year\": \"2004-01-01T00:00:00\"}, {\"year\": 2005, \"type\": \"Non-VIS\", \"count\": 2345, \"ratio\": 0.8490224475018103, \"Year\": \"2005-01-01T00:00:00\"}, {\"year\": 2005, \"type\": \"VIS\", \"count\": 417, \"ratio\": 0.15097755249818973, \"Year\": \"2005-01-01T00:00:00\"}, {\"year\": 2006, \"type\": \"Non-VIS\", \"count\": 2472, \"ratio\": 0.8439740525776716, \"Year\": \"2006-01-01T00:00:00\"}, {\"year\": 2006, \"type\": \"VIS\", \"count\": 457, \"ratio\": 0.15602594742232845, \"Year\": \"2006-01-01T00:00:00\"}, {\"year\": 2007, \"type\": \"Non-VIS\", \"count\": 2616, \"ratio\": 0.8521172638436482, \"Year\": \"2007-01-01T00:00:00\"}, {\"year\": 2007, \"type\": \"VIS\", \"count\": 454, \"ratio\": 0.14788273615635178, \"Year\": \"2007-01-01T00:00:00\"}, {\"year\": 2008, \"type\": \"Non-VIS\", \"count\": 2120, \"ratio\": 0.8144448713023434, \"Year\": \"2008-01-01T00:00:00\"}, {\"year\": 2008, \"type\": \"VIS\", \"count\": 483, \"ratio\": 0.18555512869765656, \"Year\": \"2008-01-01T00:00:00\"}, {\"year\": 2009, \"type\": \"Non-VIS\", \"count\": 2660, \"ratio\": 0.811222933821287, \"Year\": \"2009-01-01T00:00:00\"}, {\"year\": 2009, \"type\": \"VIS\", \"count\": 619, \"ratio\": 0.188777066178713, \"Year\": \"2009-01-01T00:00:00\"}, {\"year\": 2010, \"type\": \"Non-VIS\", \"count\": 2738, \"ratio\": 0.8146385004462957, \"Year\": \"2010-01-01T00:00:00\"}, {\"year\": 2010, \"type\": \"VIS\", \"count\": 623, \"ratio\": 0.18536149955370426, \"Year\": \"2010-01-01T00:00:00\"}, {\"year\": 2011, \"type\": \"Non-VIS\", \"count\": 3266, \"ratio\": 0.8110255773528682, \"Year\": \"2011-01-01T00:00:00\"}, {\"year\": 2011, \"type\": \"VIS\", \"count\": 761, \"ratio\": 0.18897442264713185, \"Year\": \"2011-01-01T00:00:00\"}, {\"year\": 2012, \"type\": \"Non-VIS\", \"count\": 3175, \"ratio\": 0.8279009126466753, \"Year\": \"2012-01-01T00:00:00\"}, {\"year\": 2012, \"type\": \"VIS\", \"count\": 660, \"ratio\": 0.17209908735332463, \"Year\": \"2012-01-01T00:00:00\"}, {\"year\": 2013, \"type\": \"Non-VIS\", \"count\": 3100, \"ratio\": 0.8203228367292935, \"Year\": \"2013-01-01T00:00:00\"}, {\"year\": 2013, \"type\": \"VIS\", \"count\": 679, \"ratio\": 0.17967716327070654, \"Year\": \"2013-01-01T00:00:00\"}, {\"year\": 2014, \"type\": \"Non-VIS\", \"count\": 3987, \"ratio\": 0.802536231884058, \"Year\": \"2014-01-01T00:00:00\"}, {\"year\": 2014, \"type\": \"VIS\", \"count\": 981, \"ratio\": 0.19746376811594202, \"Year\": \"2014-01-01T00:00:00\"}, {\"year\": 2015, \"type\": \"Non-VIS\", \"count\": 4009, \"ratio\": 0.8005191693290735, \"Year\": \"2015-01-01T00:00:00\"}, {\"year\": 2015, \"type\": \"VIS\", \"count\": 999, \"ratio\": 0.1994808306709265, \"Year\": \"2015-01-01T00:00:00\"}, {\"year\": 2016, \"type\": \"Non-VIS\", \"count\": 3860, \"ratio\": 0.8034970857618651, \"Year\": \"2016-01-01T00:00:00\"}, {\"year\": 2016, \"type\": \"VIS\", \"count\": 944, \"ratio\": 0.1965029142381349, \"Year\": \"2016-01-01T00:00:00\"}, {\"year\": 2017, \"type\": \"Non-VIS\", \"count\": 4564, \"ratio\": 0.8131124176019954, \"Year\": \"2017-01-01T00:00:00\"}, {\"year\": 2017, \"type\": \"VIS\", \"count\": 1049, \"ratio\": 0.18688758239800463, \"Year\": \"2017-01-01T00:00:00\"}, {\"year\": 2018, \"type\": \"Non-VIS\", \"count\": 4998, \"ratio\": 0.80198973042362, \"Year\": \"2018-01-01T00:00:00\"}, {\"year\": 2018, \"type\": \"VIS\", \"count\": 1234, \"ratio\": 0.19801026957638, \"Year\": \"2018-01-01T00:00:00\"}, {\"year\": 2019, \"type\": \"Non-VIS\", \"count\": 5453, \"ratio\": 0.8147318093530554, \"Year\": \"2019-01-01T00:00:00\"}, {\"year\": 2019, \"type\": \"VIS\", \"count\": 1240, \"ratio\": 0.18526819064694458, \"Year\": \"2019-01-01T00:00:00\"}, {\"year\": 2020, \"type\": \"Non-VIS\", \"count\": 6176, \"ratio\": 0.8126315789473684, \"Year\": \"2020-01-01T00:00:00\"}, {\"year\": 2020, \"type\": \"VIS\", \"count\": 1424, \"ratio\": 0.18736842105263157, \"Year\": \"2020-01-01T00:00:00\"}, {\"year\": 2021, \"type\": \"Non-VIS\", \"count\": 4109, \"ratio\": 0.8138245197068726, \"Year\": \"2021-01-01T00:00:00\"}, {\"year\": 2021, \"type\": \"VIS\", \"count\": 940, \"ratio\": 0.18617548029312736, \"Year\": \"2021-01-01T00:00:00\"}]}}, {\"mode\": \"vega-lite\"});\n",
       "</script>"
      ],
      "text/plain": [
       "alt.HConcatChart(...)"
      ]
     },
     "execution_count": 57,
     "metadata": {},
     "output_type": "execute_result"
    }
   ],
   "source": [
    "# Using Altair\n",
    "\n",
    "source = ref_df\n",
    "\n",
    "chart1 = alt.Chart(source).mark_area().encode(\n",
    "#     x=\"Year:T\",\n",
    "    alt.X('Year:T', axis=alt.Axis(title=\"Year\")),\n",
    "    alt.Y('count:Q', axis=alt.Axis(title=\"Raio\")),\n",
    "    color=\"type:N\"\n",
    ")\n",
    "\n",
    "chart22 = alt.Chart(source).mark_line().encode(\n",
    "    alt.X('Year:T', axis=alt.Axis(title=\"Year\")),\n",
    "    alt.Y('ratio:Q', axis=alt.Axis(title=\"Raio\")),\n",
    "    color='type',\n",
    ")\n",
    "\n",
    "alt.hconcat(chart1, chart22).configure_axis(\n",
    "    labelFontSize=13,\n",
    "    titleFontSize=14,\n",
    ")"
   ]
  },
  {
   "cell_type": "code",
   "execution_count": 58,
   "id": "c629ae27",
   "metadata": {},
   "outputs": [
    {
     "data": {
      "text/html": [
       "\n",
       "<div id=\"altair-viz-75777e4472184c6c877f7faf5502d0bd\"></div>\n",
       "<script type=\"text/javascript\">\n",
       "  var VEGA_DEBUG = (typeof VEGA_DEBUG == \"undefined\") ? {} : VEGA_DEBUG;\n",
       "  (function(spec, embedOpt){\n",
       "    let outputDiv = document.currentScript.previousElementSibling;\n",
       "    if (outputDiv.id !== \"altair-viz-75777e4472184c6c877f7faf5502d0bd\") {\n",
       "      outputDiv = document.getElementById(\"altair-viz-75777e4472184c6c877f7faf5502d0bd\");\n",
       "    }\n",
       "    const paths = {\n",
       "      \"vega\": \"https://cdn.jsdelivr.net/npm//vega@5?noext\",\n",
       "      \"vega-lib\": \"https://cdn.jsdelivr.net/npm//vega-lib?noext\",\n",
       "      \"vega-lite\": \"https://cdn.jsdelivr.net/npm//vega-lite@4.17.0?noext\",\n",
       "      \"vega-embed\": \"https://cdn.jsdelivr.net/npm//vega-embed@6?noext\",\n",
       "    };\n",
       "\n",
       "    function maybeLoadScript(lib, version) {\n",
       "      var key = `${lib.replace(\"-\", \"\")}_version`;\n",
       "      return (VEGA_DEBUG[key] == version) ?\n",
       "        Promise.resolve(paths[lib]) :\n",
       "        new Promise(function(resolve, reject) {\n",
       "          var s = document.createElement('script');\n",
       "          document.getElementsByTagName(\"head\")[0].appendChild(s);\n",
       "          s.async = true;\n",
       "          s.onload = () => {\n",
       "            VEGA_DEBUG[key] = version;\n",
       "            return resolve(paths[lib]);\n",
       "          };\n",
       "          s.onerror = () => reject(`Error loading script: ${paths[lib]}`);\n",
       "          s.src = paths[lib];\n",
       "        });\n",
       "    }\n",
       "\n",
       "    function showError(err) {\n",
       "      outputDiv.innerHTML = `<div class=\"error\" style=\"color:red;\">${err}</div>`;\n",
       "      throw err;\n",
       "    }\n",
       "\n",
       "    function displayChart(vegaEmbed) {\n",
       "      vegaEmbed(outputDiv, spec, embedOpt)\n",
       "        .catch(err => showError(`Javascript Error: ${err.message}<br>This usually means there's a typo in your chart specification. See the javascript console for the full traceback.`));\n",
       "    }\n",
       "\n",
       "    if(typeof define === \"function\" && define.amd) {\n",
       "      requirejs.config({paths});\n",
       "      require([\"vega-embed\"], displayChart, err => showError(`Error loading script: ${err.message}`));\n",
       "    } else {\n",
       "      maybeLoadScript(\"vega\", \"5\")\n",
       "        .then(() => maybeLoadScript(\"vega-lite\", \"4.17.0\"))\n",
       "        .then(() => maybeLoadScript(\"vega-embed\", \"6\"))\n",
       "        .catch(showError)\n",
       "        .then(() => displayChart(vegaEmbed));\n",
       "    }\n",
       "  })({\"config\": {\"view\": {\"continuousWidth\": 400, \"continuousHeight\": 300}}, \"layer\": [{\"data\": {\"name\": \"data-caf6a8430b2373eb8cd48a7a77ac4916\"}, \"mark\": \"line\", \"encoding\": {\"color\": {\"field\": \"type\", \"scale\": {\"domain\": [\"VIS\", \"Non-VIS\"], \"range\": [\"green\", \"purple\"]}, \"title\": \"Type\", \"type\": \"nominal\"}, \"x\": {\"field\": \"Year\", \"type\": \"temporal\"}, \"y\": {\"field\": \"ratio\", \"type\": \"quantitative\"}}}, {\"data\": {\"name\": \"data-e1eb1706bbda09e5b5767506b936f4b1\"}, \"mark\": \"line\", \"encoding\": {\"color\": {\"field\": \"type\", \"type\": \"nominal\"}, \"x\": {\"axis\": {\"title\": \"Year\"}, \"field\": \"Year\", \"type\": \"temporal\"}, \"y\": {\"axis\": {\"title\": \"Raio\"}, \"field\": \"ratio\", \"type\": \"quantitative\"}}}], \"resolve\": {\"scale\": {\"color\": \"independent\"}}, \"$schema\": \"https://vega.github.io/schema/vega-lite/v4.17.0.json\", \"datasets\": {\"data-caf6a8430b2373eb8cd48a7a77ac4916\": [{\"year\": 1990.0, \"type\": \"Non-VIS\", \"count\": 6, \"ratio\": 0.75, \"Year\": \"1990-01-01T00:00:00\"}, {\"year\": 1990.0, \"type\": \"VIS\", \"count\": 2, \"ratio\": 0.25, \"Year\": \"1990-01-01T00:00:00\"}, {\"year\": 1991.0, \"type\": \"Non-VIS\", \"count\": 56, \"ratio\": 0.7368421052631579, \"Year\": \"1991-01-01T00:00:00\"}, {\"year\": 1991.0, \"type\": \"VIS\", \"count\": 20, \"ratio\": 0.2631578947368421, \"Year\": \"1991-01-01T00:00:00\"}, {\"year\": 1992.0, \"type\": \"Non-VIS\", \"count\": 113, \"ratio\": 0.710691823899371, \"Year\": \"1992-01-01T00:00:00\"}, {\"year\": 1992.0, \"type\": \"VIS\", \"count\": 46, \"ratio\": 0.2893081761006289, \"Year\": \"1992-01-01T00:00:00\"}, {\"year\": 1993.0, \"type\": \"Non-VIS\", \"count\": 202, \"ratio\": 0.8015873015873016, \"Year\": \"1993-01-01T00:00:00\"}, {\"year\": 1993.0, \"type\": \"VIS\", \"count\": 50, \"ratio\": 0.1984126984126984, \"Year\": \"1993-01-01T00:00:00\"}, {\"year\": 1994.0, \"type\": \"Non-VIS\", \"count\": 285, \"ratio\": 0.7894736842105263, \"Year\": \"1994-01-01T00:00:00\"}, {\"year\": 1994.0, \"type\": \"VIS\", \"count\": 76, \"ratio\": 0.21052631578947367, \"Year\": \"1994-01-01T00:00:00\"}, {\"year\": 1995.0, \"type\": \"Non-VIS\", \"count\": 454, \"ratio\": 0.8092691622103387, \"Year\": \"1995-01-01T00:00:00\"}, {\"year\": 1995.0, \"type\": \"VIS\", \"count\": 107, \"ratio\": 0.19073083778966132, \"Year\": \"1995-01-01T00:00:00\"}, {\"year\": 1996.0, \"type\": \"Non-VIS\", \"count\": 485, \"ratio\": 0.8220338983050848, \"Year\": \"1996-01-01T00:00:00\"}, {\"year\": 1996.0, \"type\": \"VIS\", \"count\": 105, \"ratio\": 0.17796610169491525, \"Year\": \"1996-01-01T00:00:00\"}, {\"year\": 1997.0, \"type\": \"Non-VIS\", \"count\": 766, \"ratio\": 0.829004329004329, \"Year\": \"1997-01-01T00:00:00\"}, {\"year\": 1997.0, \"type\": \"VIS\", \"count\": 158, \"ratio\": 0.170995670995671, \"Year\": \"1997-01-01T00:00:00\"}, {\"year\": 1998.0, \"type\": \"Non-VIS\", \"count\": 809, \"ratio\": 0.7884990253411306, \"Year\": \"1998-01-01T00:00:00\"}, {\"year\": 1998.0, \"type\": \"VIS\", \"count\": 217, \"ratio\": 0.21150097465886938, \"Year\": \"1998-01-01T00:00:00\"}, {\"year\": 1999.0, \"type\": \"Non-VIS\", \"count\": 1079, \"ratio\": 0.8396887159533074, \"Year\": \"1999-01-01T00:00:00\"}, {\"year\": 1999.0, \"type\": \"VIS\", \"count\": 206, \"ratio\": 0.16031128404669262, \"Year\": \"1999-01-01T00:00:00\"}, {\"year\": 2000.0, \"type\": \"Non-VIS\", \"count\": 1355, \"ratio\": 0.8479349186483104, \"Year\": \"2000-01-01T00:00:00\"}, {\"year\": 2000.0, \"type\": \"VIS\", \"count\": 243, \"ratio\": 0.1520650813516896, \"Year\": \"2000-01-01T00:00:00\"}, {\"year\": 2001.0, \"type\": \"Non-VIS\", \"count\": 1664, \"ratio\": 0.8917470525187567, \"Year\": \"2001-01-01T00:00:00\"}, {\"year\": 2001.0, \"type\": \"VIS\", \"count\": 202, \"ratio\": 0.1082529474812433, \"Year\": \"2001-01-01T00:00:00\"}, {\"year\": 2002.0, \"type\": \"Non-VIS\", \"count\": 2159, \"ratio\": 0.8895756077461887, \"Year\": \"2002-01-01T00:00:00\"}, {\"year\": 2002.0, \"type\": \"VIS\", \"count\": 268, \"ratio\": 0.11042439225381129, \"Year\": \"2002-01-01T00:00:00\"}, {\"year\": 2003.0, \"type\": \"Non-VIS\", \"count\": 2746, \"ratio\": 0.8988543371522095, \"Year\": \"2003-01-01T00:00:00\"}, {\"year\": 2003.0, \"type\": \"VIS\", \"count\": 309, \"ratio\": 0.1011456628477905, \"Year\": \"2003-01-01T00:00:00\"}, {\"year\": 2004.0, \"type\": \"Non-VIS\", \"count\": 3354, \"ratio\": 0.8920212765957447, \"Year\": \"2004-01-01T00:00:00\"}, {\"year\": 2004.0, \"type\": \"VIS\", \"count\": 406, \"ratio\": 0.10797872340425532, \"Year\": \"2004-01-01T00:00:00\"}, {\"year\": 2005.0, \"type\": \"Non-VIS\", \"count\": 3862, \"ratio\": 0.9019149929939281, \"Year\": \"2005-01-01T00:00:00\"}, {\"year\": 2005.0, \"type\": \"VIS\", \"count\": 420, \"ratio\": 0.09808500700607192, \"Year\": \"2005-01-01T00:00:00\"}, {\"year\": 2006.0, \"type\": \"Non-VIS\", \"count\": 4075, \"ratio\": 0.8995584988962473, \"Year\": \"2006-01-01T00:00:00\"}, {\"year\": 2006.0, \"type\": \"VIS\", \"count\": 455, \"ratio\": 0.10044150110375276, \"Year\": \"2006-01-01T00:00:00\"}, {\"year\": 2007.0, \"type\": \"Non-VIS\", \"count\": 4321, \"ratio\": 0.9054903604358759, \"Year\": \"2007-01-01T00:00:00\"}, {\"year\": 2007.0, \"type\": \"VIS\", \"count\": 451, \"ratio\": 0.09450963956412406, \"Year\": \"2007-01-01T00:00:00\"}, {\"year\": 2008.0, \"type\": \"Non-VIS\", \"count\": 4708, \"ratio\": 0.9094069924666796, \"Year\": \"2008-01-01T00:00:00\"}, {\"year\": 2008.0, \"type\": \"VIS\", \"count\": 469, \"ratio\": 0.09059300753332046, \"Year\": \"2008-01-01T00:00:00\"}, {\"year\": 2009.0, \"type\": \"Non-VIS\", \"count\": 4822, \"ratio\": 0.8829884636513459, \"Year\": \"2009-01-01T00:00:00\"}, {\"year\": 2009.0, \"type\": \"VIS\", \"count\": 639, \"ratio\": 0.11701153634865409, \"Year\": \"2009-01-01T00:00:00\"}, {\"year\": 2010.0, \"type\": \"Non-VIS\", \"count\": 5093, \"ratio\": 0.8911636045494313, \"Year\": \"2010-01-01T00:00:00\"}, {\"year\": 2010.0, \"type\": \"VIS\", \"count\": 622, \"ratio\": 0.10883639545056868, \"Year\": \"2010-01-01T00:00:00\"}, {\"year\": 2011.0, \"type\": \"Non-VIS\", \"count\": 6091, \"ratio\": 0.8889375364856976, \"Year\": \"2011-01-01T00:00:00\"}, {\"year\": 2011.0, \"type\": \"VIS\", \"count\": 761, \"ratio\": 0.11106246351430239, \"Year\": \"2011-01-01T00:00:00\"}, {\"year\": 2012.0, \"type\": \"Non-VIS\", \"count\": 6427, \"ratio\": 0.9067437923250564, \"Year\": \"2012-01-01T00:00:00\"}, {\"year\": 2012.0, \"type\": \"VIS\", \"count\": 661, \"ratio\": 0.09325620767494357, \"Year\": \"2012-01-01T00:00:00\"}, {\"year\": 2013.0, \"type\": \"Non-VIS\", \"count\": 6896, \"ratio\": 0.9103630363036304, \"Year\": \"2013-01-01T00:00:00\"}, {\"year\": 2013.0, \"type\": \"VIS\", \"count\": 679, \"ratio\": 0.08963696369636964, \"Year\": \"2013-01-01T00:00:00\"}, {\"year\": 2014.0, \"type\": \"Non-VIS\", \"count\": 7458, \"ratio\": 0.8837539992890153, \"Year\": \"2014-01-01T00:00:00\"}, {\"year\": 2014.0, \"type\": \"VIS\", \"count\": 981, \"ratio\": 0.11624600071098472, \"Year\": \"2014-01-01T00:00:00\"}, {\"year\": 2015.0, \"type\": \"Non-VIS\", \"count\": 7318, \"ratio\": 0.9834699637145545, \"Year\": \"2015-01-01T00:00:00\"}, {\"year\": 2015.0, \"type\": \"VIS\", \"count\": 123, \"ratio\": 0.016530036285445505, \"Year\": \"2015-01-01T00:00:00\"}, {\"year\": 2016.0, \"type\": \"Non-VIS\", \"count\": 8313, \"ratio\": 0.893390650188071, \"Year\": \"2016-01-01T00:00:00\"}, {\"year\": 2016.0, \"type\": \"VIS\", \"count\": 992, \"ratio\": 0.10660934981192907, \"Year\": \"2016-01-01T00:00:00\"}, {\"year\": 2017.0, \"type\": \"Non-VIS\", \"count\": 8338, \"ratio\": 0.8957885689729265, \"Year\": \"2017-01-01T00:00:00\"}, {\"year\": 2017.0, \"type\": \"VIS\", \"count\": 970, \"ratio\": 0.10421143102707349, \"Year\": \"2017-01-01T00:00:00\"}, {\"year\": 2018.0, \"type\": \"Non-VIS\", \"count\": 8628, \"ratio\": 0.8963224600041554, \"Year\": \"2018-01-01T00:00:00\"}, {\"year\": 2018.0, \"type\": \"VIS\", \"count\": 998, \"ratio\": 0.10367753999584459, \"Year\": \"2018-01-01T00:00:00\"}, {\"year\": 2019.0, \"type\": \"Non-VIS\", \"count\": 10013, \"ratio\": 0.8898071625344353, \"Year\": \"2019-01-01T00:00:00\"}, {\"year\": 2019.0, \"type\": \"VIS\", \"count\": 1240, \"ratio\": 0.11019283746556474, \"Year\": \"2019-01-01T00:00:00\"}, {\"year\": 2020.0, \"type\": \"Non-VIS\", \"count\": 11514, \"ratio\": 0.890762803651555, \"Year\": \"2020-01-01T00:00:00\"}, {\"year\": 2020.0, \"type\": \"VIS\", \"count\": 1412, \"ratio\": 0.10923719634844499, \"Year\": \"2020-01-01T00:00:00\"}, {\"year\": 2021.0, \"type\": \"Non-VIS\", \"count\": 11309, \"ratio\": 0.8437033721277231, \"Year\": \"2021-01-01T00:00:00\"}, {\"year\": 2021.0, \"type\": \"VIS\", \"count\": 2095, \"ratio\": 0.15629662787227694, \"Year\": \"2021-01-01T00:00:00\"}], \"data-e1eb1706bbda09e5b5767506b936f4b1\": [{\"year\": 1990, \"type\": \"Non-VIS\", \"count\": 590, \"ratio\": 0.9966216216216216, \"Year\": \"1990-01-01T00:00:00\"}, {\"year\": 1990, \"type\": \"VIS\", \"count\": 2, \"ratio\": 0.0033783783783783786, \"Year\": \"1990-01-01T00:00:00\"}, {\"year\": 1991, \"type\": \"Non-VIS\", \"count\": 402, \"ratio\": 0.95260663507109, \"Year\": \"1991-01-01T00:00:00\"}, {\"year\": 1991, \"type\": \"VIS\", \"count\": 20, \"ratio\": 0.04739336492890995, \"Year\": \"1991-01-01T00:00:00\"}, {\"year\": 1992, \"type\": \"Non-VIS\", \"count\": 528, \"ratio\": 0.9198606271777003, \"Year\": \"1992-01-01T00:00:00\"}, {\"year\": 1992, \"type\": \"VIS\", \"count\": 46, \"ratio\": 0.08013937282229965, \"Year\": \"1992-01-01T00:00:00\"}, {\"year\": 1993, \"type\": \"Non-VIS\", \"count\": 510, \"ratio\": 0.9107142857142857, \"Year\": \"1993-01-01T00:00:00\"}, {\"year\": 1993, \"type\": \"VIS\", \"count\": 50, \"ratio\": 0.08928571428571429, \"Year\": \"1993-01-01T00:00:00\"}, {\"year\": 1994, \"type\": \"Non-VIS\", \"count\": 547, \"ratio\": 0.8752, \"Year\": \"1994-01-01T00:00:00\"}, {\"year\": 1994, \"type\": \"VIS\", \"count\": 78, \"ratio\": 0.1248, \"Year\": \"1994-01-01T00:00:00\"}, {\"year\": 1995, \"type\": \"Non-VIS\", \"count\": 826, \"ratio\": 0.8815368196371398, \"Year\": \"1995-01-01T00:00:00\"}, {\"year\": 1995, \"type\": \"VIS\", \"count\": 111, \"ratio\": 0.11846318036286019, \"Year\": \"1995-01-01T00:00:00\"}, {\"year\": 1996, \"type\": \"Non-VIS\", \"count\": 886, \"ratio\": 0.8931451612903226, \"Year\": \"1996-01-01T00:00:00\"}, {\"year\": 1996, \"type\": \"VIS\", \"count\": 106, \"ratio\": 0.10685483870967742, \"Year\": \"1996-01-01T00:00:00\"}, {\"year\": 1997, \"type\": \"Non-VIS\", \"count\": 1142, \"ratio\": 0.8791377983063895, \"Year\": \"1997-01-01T00:00:00\"}, {\"year\": 1997, \"type\": \"VIS\", \"count\": 157, \"ratio\": 0.12086220169361046, \"Year\": \"1997-01-01T00:00:00\"}, {\"year\": 1998, \"type\": \"Non-VIS\", \"count\": 1287, \"ratio\": 0.8591455273698264, \"Year\": \"1998-01-01T00:00:00\"}, {\"year\": 1998, \"type\": \"VIS\", \"count\": 211, \"ratio\": 0.14085447263017356, \"Year\": \"1998-01-01T00:00:00\"}, {\"year\": 1999, \"type\": \"Non-VIS\", \"count\": 1110, \"ratio\": 0.8434650455927052, \"Year\": \"1999-01-01T00:00:00\"}, {\"year\": 1999, \"type\": \"VIS\", \"count\": 206, \"ratio\": 0.15653495440729484, \"Year\": \"1999-01-01T00:00:00\"}, {\"year\": 2000, \"type\": \"Non-VIS\", \"count\": 1403, \"ratio\": 0.8523693803159174, \"Year\": \"2000-01-01T00:00:00\"}, {\"year\": 2000, \"type\": \"VIS\", \"count\": 243, \"ratio\": 0.14763061968408261, \"Year\": \"2000-01-01T00:00:00\"}, {\"year\": 2001, \"type\": \"Non-VIS\", \"count\": 1485, \"ratio\": 0.8802608180201541, \"Year\": \"2001-01-01T00:00:00\"}, {\"year\": 2001, \"type\": \"VIS\", \"count\": 202, \"ratio\": 0.11973918197984589, \"Year\": \"2001-01-01T00:00:00\"}, {\"year\": 2002, \"type\": \"Non-VIS\", \"count\": 1697, \"ratio\": 0.8640529531568228, \"Year\": \"2002-01-01T00:00:00\"}, {\"year\": 2002, \"type\": \"VIS\", \"count\": 267, \"ratio\": 0.13594704684317718, \"Year\": \"2002-01-01T00:00:00\"}, {\"year\": 2003, \"type\": \"Non-VIS\", \"count\": 2143, \"ratio\": 0.8711382113821138, \"Year\": \"2003-01-01T00:00:00\"}, {\"year\": 2003, \"type\": \"VIS\", \"count\": 317, \"ratio\": 0.1288617886178862, \"Year\": \"2003-01-01T00:00:00\"}, {\"year\": 2004, \"type\": \"Non-VIS\", \"count\": 2034, \"ratio\": 0.8356614626129828, \"Year\": \"2004-01-01T00:00:00\"}, {\"year\": 2004, \"type\": \"VIS\", \"count\": 400, \"ratio\": 0.16433853738701726, \"Year\": \"2004-01-01T00:00:00\"}, {\"year\": 2005, \"type\": \"Non-VIS\", \"count\": 2345, \"ratio\": 0.8490224475018103, \"Year\": \"2005-01-01T00:00:00\"}, {\"year\": 2005, \"type\": \"VIS\", \"count\": 417, \"ratio\": 0.15097755249818973, \"Year\": \"2005-01-01T00:00:00\"}, {\"year\": 2006, \"type\": \"Non-VIS\", \"count\": 2472, \"ratio\": 0.8439740525776716, \"Year\": \"2006-01-01T00:00:00\"}, {\"year\": 2006, \"type\": \"VIS\", \"count\": 457, \"ratio\": 0.15602594742232845, \"Year\": \"2006-01-01T00:00:00\"}, {\"year\": 2007, \"type\": \"Non-VIS\", \"count\": 2616, \"ratio\": 0.8521172638436482, \"Year\": \"2007-01-01T00:00:00\"}, {\"year\": 2007, \"type\": \"VIS\", \"count\": 454, \"ratio\": 0.14788273615635178, \"Year\": \"2007-01-01T00:00:00\"}, {\"year\": 2008, \"type\": \"Non-VIS\", \"count\": 2120, \"ratio\": 0.8144448713023434, \"Year\": \"2008-01-01T00:00:00\"}, {\"year\": 2008, \"type\": \"VIS\", \"count\": 483, \"ratio\": 0.18555512869765656, \"Year\": \"2008-01-01T00:00:00\"}, {\"year\": 2009, \"type\": \"Non-VIS\", \"count\": 2660, \"ratio\": 0.811222933821287, \"Year\": \"2009-01-01T00:00:00\"}, {\"year\": 2009, \"type\": \"VIS\", \"count\": 619, \"ratio\": 0.188777066178713, \"Year\": \"2009-01-01T00:00:00\"}, {\"year\": 2010, \"type\": \"Non-VIS\", \"count\": 2738, \"ratio\": 0.8146385004462957, \"Year\": \"2010-01-01T00:00:00\"}, {\"year\": 2010, \"type\": \"VIS\", \"count\": 623, \"ratio\": 0.18536149955370426, \"Year\": \"2010-01-01T00:00:00\"}, {\"year\": 2011, \"type\": \"Non-VIS\", \"count\": 3266, \"ratio\": 0.8110255773528682, \"Year\": \"2011-01-01T00:00:00\"}, {\"year\": 2011, \"type\": \"VIS\", \"count\": 761, \"ratio\": 0.18897442264713185, \"Year\": \"2011-01-01T00:00:00\"}, {\"year\": 2012, \"type\": \"Non-VIS\", \"count\": 3175, \"ratio\": 0.8279009126466753, \"Year\": \"2012-01-01T00:00:00\"}, {\"year\": 2012, \"type\": \"VIS\", \"count\": 660, \"ratio\": 0.17209908735332463, \"Year\": \"2012-01-01T00:00:00\"}, {\"year\": 2013, \"type\": \"Non-VIS\", \"count\": 3100, \"ratio\": 0.8203228367292935, \"Year\": \"2013-01-01T00:00:00\"}, {\"year\": 2013, \"type\": \"VIS\", \"count\": 679, \"ratio\": 0.17967716327070654, \"Year\": \"2013-01-01T00:00:00\"}, {\"year\": 2014, \"type\": \"Non-VIS\", \"count\": 3987, \"ratio\": 0.802536231884058, \"Year\": \"2014-01-01T00:00:00\"}, {\"year\": 2014, \"type\": \"VIS\", \"count\": 981, \"ratio\": 0.19746376811594202, \"Year\": \"2014-01-01T00:00:00\"}, {\"year\": 2015, \"type\": \"Non-VIS\", \"count\": 4009, \"ratio\": 0.8005191693290735, \"Year\": \"2015-01-01T00:00:00\"}, {\"year\": 2015, \"type\": \"VIS\", \"count\": 999, \"ratio\": 0.1994808306709265, \"Year\": \"2015-01-01T00:00:00\"}, {\"year\": 2016, \"type\": \"Non-VIS\", \"count\": 3860, \"ratio\": 0.8034970857618651, \"Year\": \"2016-01-01T00:00:00\"}, {\"year\": 2016, \"type\": \"VIS\", \"count\": 944, \"ratio\": 0.1965029142381349, \"Year\": \"2016-01-01T00:00:00\"}, {\"year\": 2017, \"type\": \"Non-VIS\", \"count\": 4564, \"ratio\": 0.8131124176019954, \"Year\": \"2017-01-01T00:00:00\"}, {\"year\": 2017, \"type\": \"VIS\", \"count\": 1049, \"ratio\": 0.18688758239800463, \"Year\": \"2017-01-01T00:00:00\"}, {\"year\": 2018, \"type\": \"Non-VIS\", \"count\": 4998, \"ratio\": 0.80198973042362, \"Year\": \"2018-01-01T00:00:00\"}, {\"year\": 2018, \"type\": \"VIS\", \"count\": 1234, \"ratio\": 0.19801026957638, \"Year\": \"2018-01-01T00:00:00\"}, {\"year\": 2019, \"type\": \"Non-VIS\", \"count\": 5453, \"ratio\": 0.8147318093530554, \"Year\": \"2019-01-01T00:00:00\"}, {\"year\": 2019, \"type\": \"VIS\", \"count\": 1240, \"ratio\": 0.18526819064694458, \"Year\": \"2019-01-01T00:00:00\"}, {\"year\": 2020, \"type\": \"Non-VIS\", \"count\": 6176, \"ratio\": 0.8126315789473684, \"Year\": \"2020-01-01T00:00:00\"}, {\"year\": 2020, \"type\": \"VIS\", \"count\": 1424, \"ratio\": 0.18736842105263157, \"Year\": \"2020-01-01T00:00:00\"}, {\"year\": 2021, \"type\": \"Non-VIS\", \"count\": 4109, \"ratio\": 0.8138245197068726, \"Year\": \"2021-01-01T00:00:00\"}, {\"year\": 2021, \"type\": \"VIS\", \"count\": 940, \"ratio\": 0.18617548029312736, \"Year\": \"2021-01-01T00:00:00\"}]}}, {\"mode\": \"vega-lite\"});\n",
       "</script>"
      ],
      "text/plain": [
       "alt.LayerChart(...)"
      ]
     },
     "execution_count": 58,
     "metadata": {},
     "output_type": "execute_result"
    }
   ],
   "source": [
    "alt.layer(\n",
    "    chart12,\n",
    "    chart22\n",
    ").resolve_scale(\n",
    "    color='independent'\n",
    ")"
   ]
  },
  {
   "cell_type": "markdown",
   "id": "46d758cf",
   "metadata": {},
   "source": [
    "## Subplots"
   ]
  },
  {
   "cell_type": "markdown",
   "id": "89537551",
   "metadata": {},
   "source": [
    "To include eight charts:\n",
    "\n",
    "- conference track\n",
    "- number of pubs\n",
    "- number of unique authors\n",
    "- vis vs non-vis citations\n",
    "- citation & reference ratio changes\n",
    "- cross-country collab., ratio\n",
    "- cross-type collab., ratio\n",
    "- cross-country & cross-type, absolute count"
   ]
  },
  {
   "cell_type": "code",
   "execution_count": 59,
   "id": "1fe77673",
   "metadata": {},
   "outputs": [
    {
     "data": {
      "text/html": [
       "\n",
       "<div id=\"altair-viz-2d1eea750c454ad1a1e84c64a7d6aeb4\"></div>\n",
       "<script type=\"text/javascript\">\n",
       "  var VEGA_DEBUG = (typeof VEGA_DEBUG == \"undefined\") ? {} : VEGA_DEBUG;\n",
       "  (function(spec, embedOpt){\n",
       "    let outputDiv = document.currentScript.previousElementSibling;\n",
       "    if (outputDiv.id !== \"altair-viz-2d1eea750c454ad1a1e84c64a7d6aeb4\") {\n",
       "      outputDiv = document.getElementById(\"altair-viz-2d1eea750c454ad1a1e84c64a7d6aeb4\");\n",
       "    }\n",
       "    const paths = {\n",
       "      \"vega\": \"https://cdn.jsdelivr.net/npm//vega@5?noext\",\n",
       "      \"vega-lib\": \"https://cdn.jsdelivr.net/npm//vega-lib?noext\",\n",
       "      \"vega-lite\": \"https://cdn.jsdelivr.net/npm//vega-lite@4.17.0?noext\",\n",
       "      \"vega-embed\": \"https://cdn.jsdelivr.net/npm//vega-embed@6?noext\",\n",
       "    };\n",
       "\n",
       "    function maybeLoadScript(lib, version) {\n",
       "      var key = `${lib.replace(\"-\", \"\")}_version`;\n",
       "      return (VEGA_DEBUG[key] == version) ?\n",
       "        Promise.resolve(paths[lib]) :\n",
       "        new Promise(function(resolve, reject) {\n",
       "          var s = document.createElement('script');\n",
       "          document.getElementsByTagName(\"head\")[0].appendChild(s);\n",
       "          s.async = true;\n",
       "          s.onload = () => {\n",
       "            VEGA_DEBUG[key] = version;\n",
       "            return resolve(paths[lib]);\n",
       "          };\n",
       "          s.onerror = () => reject(`Error loading script: ${paths[lib]}`);\n",
       "          s.src = paths[lib];\n",
       "        });\n",
       "    }\n",
       "\n",
       "    function showError(err) {\n",
       "      outputDiv.innerHTML = `<div class=\"error\" style=\"color:red;\">${err}</div>`;\n",
       "      throw err;\n",
       "    }\n",
       "\n",
       "    function displayChart(vegaEmbed) {\n",
       "      vegaEmbed(outputDiv, spec, embedOpt)\n",
       "        .catch(err => showError(`Javascript Error: ${err.message}<br>This usually means there's a typo in your chart specification. See the javascript console for the full traceback.`));\n",
       "    }\n",
       "\n",
       "    if(typeof define === \"function\" && define.amd) {\n",
       "      requirejs.config({paths});\n",
       "      require([\"vega-embed\"], displayChart, err => showError(`Error loading script: ${err.message}`));\n",
       "    } else {\n",
       "      maybeLoadScript(\"vega\", \"5\")\n",
       "        .then(() => maybeLoadScript(\"vega-lite\", \"4.17.0\"))\n",
       "        .then(() => maybeLoadScript(\"vega-embed\", \"6\"))\n",
       "        .catch(showError)\n",
       "        .then(() => displayChart(vegaEmbed));\n",
       "    }\n",
       "  })({\"config\": {\"view\": {\"continuousWidth\": 400, \"continuousHeight\": 300}, \"axis\": {\"labelFontSize\": 15, \"titleFontSize\": 20}, \"legend\": {\"labelFontSize\": 16, \"titleFontSize\": 14}, \"title\": {\"anchor\": \"start\", \"fontSize\": 22}}, \"hconcat\": [{\"data\": {\"name\": \"data-18cbb5ade9a8290bcfa8aeff8a667c69\"}, \"mark\": \"bar\", \"encoding\": {\"color\": {\"field\": \"Conference track\", \"legend\": null, \"type\": \"nominal\"}, \"x\": {\"axis\": {\"labelAngle\": -20}, \"field\": \"Conference track\", \"sort\": [\"VIS\", \"SciVis\", \"VAST\", \"InfoVis\", \"Vis\"], \"type\": \"nominal\"}, \"y\": {\"field\": \"Number of publications\", \"type\": \"quantitative\"}}, \"title\": \"a\", \"width\": 200}, {\"data\": {\"name\": \"data-bcbb612dd2e1839e4b52a066ab50d933\"}, \"mark\": \"line\", \"encoding\": {\"x\": {\"field\": \"Year\", \"type\": \"temporal\"}, \"y\": {\"field\": \"Number of Publications\", \"title\": \"Number of publications\", \"type\": \"quantitative\"}}, \"title\": \"b\", \"width\": 300}, {\"data\": {\"name\": \"data-6ceec6ad84a14b2f28097442ba84d375\"}, \"mark\": \"line\", \"encoding\": {\"x\": {\"field\": \"Year\", \"type\": \"temporal\"}, \"y\": {\"field\": \"Number of Unique Authors\", \"title\": \"Number of unique authors\", \"type\": \"quantitative\"}}, \"title\": \"c\", \"width\": 300}, {\"data\": {\"name\": \"data-caf6a8430b2373eb8cd48a7a77ac4916\"}, \"mark\": \"area\", \"encoding\": {\"color\": {\"field\": \"type\", \"legend\": {\"orient\": \"top-left\"}, \"scale\": {\"domain\": [\"Non-VIS\", \"VIS\"], \"range\": [\"hotpink\", \"skyblue\"]}, \"title\": \"Who cited VIS\", \"type\": \"nominal\"}, \"x\": {\"field\": \"Year\", \"type\": \"temporal\"}, \"y\": {\"field\": \"count\", \"title\": \"Number of citations\", \"type\": \"quantitative\"}}, \"title\": \"d\", \"width\": 300}], \"resolve\": {\"scale\": {\"color\": \"independent\"}}, \"$schema\": \"https://vega.github.io/schema/vega-lite/v4.17.0.json\", \"datasets\": {\"data-18cbb5ade9a8290bcfa8aeff8a667c69\": [{\"Conference track\": \"SciVis\", \"Number of publications\": 291}, {\"Conference track\": \"VAST\", \"Number of publications\": 572}, {\"Conference track\": \"InfoVis\", \"Number of publications\": 834}, {\"Conference track\": \"Vis\", \"Number of publications\": 1373}], \"data-bcbb612dd2e1839e4b52a066ab50d933\": [{\"Year\": \"1990-01-01T00:00:00\", \"Number of Publications\": 52}, {\"Year\": \"1991-01-01T00:00:00\", \"Number of Publications\": 50}, {\"Year\": \"1992-01-01T00:00:00\", \"Number of Publications\": 53}, {\"Year\": \"1993-01-01T00:00:00\", \"Number of Publications\": 55}, {\"Year\": \"1994-01-01T00:00:00\", \"Number of Publications\": 53}, {\"Year\": \"1995-01-01T00:00:00\", \"Number of Publications\": 74}, {\"Year\": \"1996-01-01T00:00:00\", \"Number of Publications\": 77}, {\"Year\": \"1997-01-01T00:00:00\", \"Number of Publications\": 88}, {\"Year\": \"1998-01-01T00:00:00\", \"Number of Publications\": 90}, {\"Year\": \"1999-01-01T00:00:00\", \"Number of Publications\": 88}, {\"Year\": \"2000-01-01T00:00:00\", \"Number of Publications\": 92}, {\"Year\": \"2001-01-01T00:00:00\", \"Number of Publications\": 96}, {\"Year\": \"2002-01-01T00:00:00\", \"Number of Publications\": 101}, {\"Year\": \"2003-01-01T00:00:00\", \"Number of Publications\": 102}, {\"Year\": \"2004-01-01T00:00:00\", \"Number of Publications\": 97}, {\"Year\": \"2005-01-01T00:00:00\", \"Number of Publications\": 119}, {\"Year\": \"2006-01-01T00:00:00\", \"Number of Publications\": 113}, {\"Year\": \"2007-01-01T00:00:00\", \"Number of Publications\": 107}, {\"Year\": \"2008-01-01T00:00:00\", \"Number of Publications\": 99}, {\"Year\": \"2009-01-01T00:00:00\", \"Number of Publications\": 117}, {\"Year\": \"2010-01-01T00:00:00\", \"Number of Publications\": 109}, {\"Year\": \"2011-01-01T00:00:00\", \"Number of Publications\": 119}, {\"Year\": \"2012-01-01T00:00:00\", \"Number of Publications\": 116}, {\"Year\": \"2013-01-01T00:00:00\", \"Number of Publications\": 101}, {\"Year\": \"2014-01-01T00:00:00\", \"Number of Publications\": 133}, {\"Year\": \"2015-01-01T00:00:00\", \"Number of Publications\": 127}, {\"Year\": \"2016-01-01T00:00:00\", \"Number of Publications\": 115}, {\"Year\": \"2017-01-01T00:00:00\", \"Number of Publications\": 114}, {\"Year\": \"2018-01-01T00:00:00\", \"Number of Publications\": 127}, {\"Year\": \"2019-01-01T00:00:00\", \"Number of Publications\": 129}, {\"Year\": \"2020-01-01T00:00:00\", \"Number of Publications\": 157}, {\"Year\": \"2021-01-01T00:00:00\", \"Number of Publications\": 170}], \"data-6ceec6ad84a14b2f28097442ba84d375\": [{\"Year\": \"1990-01-01T00:00:00\", \"Number of Unique Authors\": 118}, {\"Year\": \"1991-01-01T00:00:00\", \"Number of Unique Authors\": 126}, {\"Year\": \"1992-01-01T00:00:00\", \"Number of Unique Authors\": 121}, {\"Year\": \"1993-01-01T00:00:00\", \"Number of Unique Authors\": 117}, {\"Year\": \"1994-01-01T00:00:00\", \"Number of Unique Authors\": 130}, {\"Year\": \"1995-01-01T00:00:00\", \"Number of Unique Authors\": 184}, {\"Year\": \"1996-01-01T00:00:00\", \"Number of Unique Authors\": 229}, {\"Year\": \"1997-01-01T00:00:00\", \"Number of Unique Authors\": 224}, {\"Year\": \"1998-01-01T00:00:00\", \"Number of Unique Authors\": 232}, {\"Year\": \"1999-01-01T00:00:00\", \"Number of Unique Authors\": 245}, {\"Year\": \"2000-01-01T00:00:00\", \"Number of Unique Authors\": 276}, {\"Year\": \"2001-01-01T00:00:00\", \"Number of Unique Authors\": 285}, {\"Year\": \"2002-01-01T00:00:00\", \"Number of Unique Authors\": 270}, {\"Year\": \"2003-01-01T00:00:00\", \"Number of Unique Authors\": 283}, {\"Year\": \"2004-01-01T00:00:00\", \"Number of Unique Authors\": 287}, {\"Year\": \"2005-01-01T00:00:00\", \"Number of Unique Authors\": 374}, {\"Year\": \"2006-01-01T00:00:00\", \"Number of Unique Authors\": 326}, {\"Year\": \"2007-01-01T00:00:00\", \"Number of Unique Authors\": 342}, {\"Year\": \"2008-01-01T00:00:00\", \"Number of Unique Authors\": 335}, {\"Year\": \"2009-01-01T00:00:00\", \"Number of Unique Authors\": 375}, {\"Year\": \"2010-01-01T00:00:00\", \"Number of Unique Authors\": 369}, {\"Year\": \"2011-01-01T00:00:00\", \"Number of Unique Authors\": 412}, {\"Year\": \"2012-01-01T00:00:00\", \"Number of Unique Authors\": 422}, {\"Year\": \"2013-01-01T00:00:00\", \"Number of Unique Authors\": 351}, {\"Year\": \"2014-01-01T00:00:00\", \"Number of Unique Authors\": 506}, {\"Year\": \"2015-01-01T00:00:00\", \"Number of Unique Authors\": 495}, {\"Year\": \"2016-01-01T00:00:00\", \"Number of Unique Authors\": 445}, {\"Year\": \"2017-01-01T00:00:00\", \"Number of Unique Authors\": 455}, {\"Year\": \"2018-01-01T00:00:00\", \"Number of Unique Authors\": 494}, {\"Year\": \"2019-01-01T00:00:00\", \"Number of Unique Authors\": 551}, {\"Year\": \"2020-01-01T00:00:00\", \"Number of Unique Authors\": 640}, {\"Year\": \"2021-01-01T00:00:00\", \"Number of Unique Authors\": 670}], \"data-caf6a8430b2373eb8cd48a7a77ac4916\": [{\"year\": 1990.0, \"type\": \"Non-VIS\", \"count\": 6, \"ratio\": 0.75, \"Year\": \"1990-01-01T00:00:00\"}, {\"year\": 1990.0, \"type\": \"VIS\", \"count\": 2, \"ratio\": 0.25, \"Year\": \"1990-01-01T00:00:00\"}, {\"year\": 1991.0, \"type\": \"Non-VIS\", \"count\": 56, \"ratio\": 0.7368421052631579, \"Year\": \"1991-01-01T00:00:00\"}, {\"year\": 1991.0, \"type\": \"VIS\", \"count\": 20, \"ratio\": 0.2631578947368421, \"Year\": \"1991-01-01T00:00:00\"}, {\"year\": 1992.0, \"type\": \"Non-VIS\", \"count\": 113, \"ratio\": 0.710691823899371, \"Year\": \"1992-01-01T00:00:00\"}, {\"year\": 1992.0, \"type\": \"VIS\", \"count\": 46, \"ratio\": 0.2893081761006289, \"Year\": \"1992-01-01T00:00:00\"}, {\"year\": 1993.0, \"type\": \"Non-VIS\", \"count\": 202, \"ratio\": 0.8015873015873016, \"Year\": \"1993-01-01T00:00:00\"}, {\"year\": 1993.0, \"type\": \"VIS\", \"count\": 50, \"ratio\": 0.1984126984126984, \"Year\": \"1993-01-01T00:00:00\"}, {\"year\": 1994.0, \"type\": \"Non-VIS\", \"count\": 285, \"ratio\": 0.7894736842105263, \"Year\": \"1994-01-01T00:00:00\"}, {\"year\": 1994.0, \"type\": \"VIS\", \"count\": 76, \"ratio\": 0.21052631578947367, \"Year\": \"1994-01-01T00:00:00\"}, {\"year\": 1995.0, \"type\": \"Non-VIS\", \"count\": 454, \"ratio\": 0.8092691622103387, \"Year\": \"1995-01-01T00:00:00\"}, {\"year\": 1995.0, \"type\": \"VIS\", \"count\": 107, \"ratio\": 0.19073083778966132, \"Year\": \"1995-01-01T00:00:00\"}, {\"year\": 1996.0, \"type\": \"Non-VIS\", \"count\": 485, \"ratio\": 0.8220338983050848, \"Year\": \"1996-01-01T00:00:00\"}, {\"year\": 1996.0, \"type\": \"VIS\", \"count\": 105, \"ratio\": 0.17796610169491525, \"Year\": \"1996-01-01T00:00:00\"}, {\"year\": 1997.0, \"type\": \"Non-VIS\", \"count\": 766, \"ratio\": 0.829004329004329, \"Year\": \"1997-01-01T00:00:00\"}, {\"year\": 1997.0, \"type\": \"VIS\", \"count\": 158, \"ratio\": 0.170995670995671, \"Year\": \"1997-01-01T00:00:00\"}, {\"year\": 1998.0, \"type\": \"Non-VIS\", \"count\": 809, \"ratio\": 0.7884990253411306, \"Year\": \"1998-01-01T00:00:00\"}, {\"year\": 1998.0, \"type\": \"VIS\", \"count\": 217, \"ratio\": 0.21150097465886938, \"Year\": \"1998-01-01T00:00:00\"}, {\"year\": 1999.0, \"type\": \"Non-VIS\", \"count\": 1079, \"ratio\": 0.8396887159533074, \"Year\": \"1999-01-01T00:00:00\"}, {\"year\": 1999.0, \"type\": \"VIS\", \"count\": 206, \"ratio\": 0.16031128404669262, \"Year\": \"1999-01-01T00:00:00\"}, {\"year\": 2000.0, \"type\": \"Non-VIS\", \"count\": 1355, \"ratio\": 0.8479349186483104, \"Year\": \"2000-01-01T00:00:00\"}, {\"year\": 2000.0, \"type\": \"VIS\", \"count\": 243, \"ratio\": 0.1520650813516896, \"Year\": \"2000-01-01T00:00:00\"}, {\"year\": 2001.0, \"type\": \"Non-VIS\", \"count\": 1664, \"ratio\": 0.8917470525187567, \"Year\": \"2001-01-01T00:00:00\"}, {\"year\": 2001.0, \"type\": \"VIS\", \"count\": 202, \"ratio\": 0.1082529474812433, \"Year\": \"2001-01-01T00:00:00\"}, {\"year\": 2002.0, \"type\": \"Non-VIS\", \"count\": 2159, \"ratio\": 0.8895756077461887, \"Year\": \"2002-01-01T00:00:00\"}, {\"year\": 2002.0, \"type\": \"VIS\", \"count\": 268, \"ratio\": 0.11042439225381129, \"Year\": \"2002-01-01T00:00:00\"}, {\"year\": 2003.0, \"type\": \"Non-VIS\", \"count\": 2746, \"ratio\": 0.8988543371522095, \"Year\": \"2003-01-01T00:00:00\"}, {\"year\": 2003.0, \"type\": \"VIS\", \"count\": 309, \"ratio\": 0.1011456628477905, \"Year\": \"2003-01-01T00:00:00\"}, {\"year\": 2004.0, \"type\": \"Non-VIS\", \"count\": 3354, \"ratio\": 0.8920212765957447, \"Year\": \"2004-01-01T00:00:00\"}, {\"year\": 2004.0, \"type\": \"VIS\", \"count\": 406, \"ratio\": 0.10797872340425532, \"Year\": \"2004-01-01T00:00:00\"}, {\"year\": 2005.0, \"type\": \"Non-VIS\", \"count\": 3862, \"ratio\": 0.9019149929939281, \"Year\": \"2005-01-01T00:00:00\"}, {\"year\": 2005.0, \"type\": \"VIS\", \"count\": 420, \"ratio\": 0.09808500700607192, \"Year\": \"2005-01-01T00:00:00\"}, {\"year\": 2006.0, \"type\": \"Non-VIS\", \"count\": 4075, \"ratio\": 0.8995584988962473, \"Year\": \"2006-01-01T00:00:00\"}, {\"year\": 2006.0, \"type\": \"VIS\", \"count\": 455, \"ratio\": 0.10044150110375276, \"Year\": \"2006-01-01T00:00:00\"}, {\"year\": 2007.0, \"type\": \"Non-VIS\", \"count\": 4321, \"ratio\": 0.9054903604358759, \"Year\": \"2007-01-01T00:00:00\"}, {\"year\": 2007.0, \"type\": \"VIS\", \"count\": 451, \"ratio\": 0.09450963956412406, \"Year\": \"2007-01-01T00:00:00\"}, {\"year\": 2008.0, \"type\": \"Non-VIS\", \"count\": 4708, \"ratio\": 0.9094069924666796, \"Year\": \"2008-01-01T00:00:00\"}, {\"year\": 2008.0, \"type\": \"VIS\", \"count\": 469, \"ratio\": 0.09059300753332046, \"Year\": \"2008-01-01T00:00:00\"}, {\"year\": 2009.0, \"type\": \"Non-VIS\", \"count\": 4822, \"ratio\": 0.8829884636513459, \"Year\": \"2009-01-01T00:00:00\"}, {\"year\": 2009.0, \"type\": \"VIS\", \"count\": 639, \"ratio\": 0.11701153634865409, \"Year\": \"2009-01-01T00:00:00\"}, {\"year\": 2010.0, \"type\": \"Non-VIS\", \"count\": 5093, \"ratio\": 0.8911636045494313, \"Year\": \"2010-01-01T00:00:00\"}, {\"year\": 2010.0, \"type\": \"VIS\", \"count\": 622, \"ratio\": 0.10883639545056868, \"Year\": \"2010-01-01T00:00:00\"}, {\"year\": 2011.0, \"type\": \"Non-VIS\", \"count\": 6091, \"ratio\": 0.8889375364856976, \"Year\": \"2011-01-01T00:00:00\"}, {\"year\": 2011.0, \"type\": \"VIS\", \"count\": 761, \"ratio\": 0.11106246351430239, \"Year\": \"2011-01-01T00:00:00\"}, {\"year\": 2012.0, \"type\": \"Non-VIS\", \"count\": 6427, \"ratio\": 0.9067437923250564, \"Year\": \"2012-01-01T00:00:00\"}, {\"year\": 2012.0, \"type\": \"VIS\", \"count\": 661, \"ratio\": 0.09325620767494357, \"Year\": \"2012-01-01T00:00:00\"}, {\"year\": 2013.0, \"type\": \"Non-VIS\", \"count\": 6896, \"ratio\": 0.9103630363036304, \"Year\": \"2013-01-01T00:00:00\"}, {\"year\": 2013.0, \"type\": \"VIS\", \"count\": 679, \"ratio\": 0.08963696369636964, \"Year\": \"2013-01-01T00:00:00\"}, {\"year\": 2014.0, \"type\": \"Non-VIS\", \"count\": 7458, \"ratio\": 0.8837539992890153, \"Year\": \"2014-01-01T00:00:00\"}, {\"year\": 2014.0, \"type\": \"VIS\", \"count\": 981, \"ratio\": 0.11624600071098472, \"Year\": \"2014-01-01T00:00:00\"}, {\"year\": 2015.0, \"type\": \"Non-VIS\", \"count\": 7318, \"ratio\": 0.9834699637145545, \"Year\": \"2015-01-01T00:00:00\"}, {\"year\": 2015.0, \"type\": \"VIS\", \"count\": 123, \"ratio\": 0.016530036285445505, \"Year\": \"2015-01-01T00:00:00\"}, {\"year\": 2016.0, \"type\": \"Non-VIS\", \"count\": 8313, \"ratio\": 0.893390650188071, \"Year\": \"2016-01-01T00:00:00\"}, {\"year\": 2016.0, \"type\": \"VIS\", \"count\": 992, \"ratio\": 0.10660934981192907, \"Year\": \"2016-01-01T00:00:00\"}, {\"year\": 2017.0, \"type\": \"Non-VIS\", \"count\": 8338, \"ratio\": 0.8957885689729265, \"Year\": \"2017-01-01T00:00:00\"}, {\"year\": 2017.0, \"type\": \"VIS\", \"count\": 970, \"ratio\": 0.10421143102707349, \"Year\": \"2017-01-01T00:00:00\"}, {\"year\": 2018.0, \"type\": \"Non-VIS\", \"count\": 8628, \"ratio\": 0.8963224600041554, \"Year\": \"2018-01-01T00:00:00\"}, {\"year\": 2018.0, \"type\": \"VIS\", \"count\": 998, \"ratio\": 0.10367753999584459, \"Year\": \"2018-01-01T00:00:00\"}, {\"year\": 2019.0, \"type\": \"Non-VIS\", \"count\": 10013, \"ratio\": 0.8898071625344353, \"Year\": \"2019-01-01T00:00:00\"}, {\"year\": 2019.0, \"type\": \"VIS\", \"count\": 1240, \"ratio\": 0.11019283746556474, \"Year\": \"2019-01-01T00:00:00\"}, {\"year\": 2020.0, \"type\": \"Non-VIS\", \"count\": 11514, \"ratio\": 0.890762803651555, \"Year\": \"2020-01-01T00:00:00\"}, {\"year\": 2020.0, \"type\": \"VIS\", \"count\": 1412, \"ratio\": 0.10923719634844499, \"Year\": \"2020-01-01T00:00:00\"}, {\"year\": 2021.0, \"type\": \"Non-VIS\", \"count\": 11309, \"ratio\": 0.8437033721277231, \"Year\": \"2021-01-01T00:00:00\"}, {\"year\": 2021.0, \"type\": \"VIS\", \"count\": 2095, \"ratio\": 0.15629662787227694, \"Year\": \"2021-01-01T00:00:00\"}]}}, {\"mode\": \"vega-lite\"});\n",
       "</script>"
      ],
      "text/plain": [
       "alt.HConcatChart(...)"
      ]
     },
     "execution_count": 59,
     "metadata": {},
     "output_type": "execute_result"
    }
   ],
   "source": [
    "conf = alt.Chart(conf_df).mark_bar().encode(\n",
    "    x = alt.X(\n",
    "        'Conference track',\n",
    "        sort = [\n",
    "            'VIS',\n",
    "            'SciVis',\n",
    "            'VAST',\n",
    "            'InfoVis',\n",
    "            'Vis',\n",
    "        ],\n",
    "        axis=alt.Axis(labelAngle=-20)\n",
    "    ),\n",
    "    y = 'Number of publications',\n",
    "    color = alt.Color(\n",
    "        'Conference track',\n",
    "        legend=None,\n",
    "    )\n",
    ").properties(\n",
    "    title = 'a',\n",
    "    width=200\n",
    ")\n",
    "\n",
    "conf\n",
    "\n",
    "pub_num = alt.Chart(pub_num_df).mark_line().encode(\n",
    "    x = 'Year',\n",
    "    y = alt.Y(\n",
    "        'Number of Publications',\n",
    "        title = 'Number of publications'\n",
    "    )\n",
    ").properties(\n",
    "    title = 'b',\n",
    "    width=300\n",
    ")\n",
    "\n",
    "pub_num\n",
    "\n",
    "unique_authors = alt.Chart(unique_author_num_df).mark_line().encode(\n",
    "    x = 'Year',\n",
    "    y = alt.Y(\n",
    "        'Number of Unique Authors',\n",
    "        title = 'Number of unique authors'\n",
    "    )\n",
    ").properties(\n",
    "    title = 'c',\n",
    "    width=300,\n",
    ")\n",
    "\n",
    "unique_authors\n",
    "\n",
    "vis_cit = alt.Chart(cit_df).mark_area().encode(\n",
    "    x=\"Year:T\",\n",
    "    y = alt.Y(\n",
    "        \"count:Q\",\n",
    "        title = 'Number of citations'\n",
    "    ),\n",
    "    color=alt.Color(\n",
    "        \"type:N\",\n",
    "        title = 'Who cited VIS',\n",
    "        scale=alt.Scale(\n",
    "            domain=['Non-VIS', 'VIS'],\n",
    "            range=['hotpink', 'skyblue']\n",
    "        ),\n",
    "        legend=alt.Legend(\n",
    "            orient='top-left',\n",
    "#             legendX=60, legendY=-40,\n",
    "#             direction='horizontal',\n",
    "#             titleAnchor='middle'\n",
    "    )\n",
    "        \n",
    "    )\n",
    ").properties(\n",
    "    title = 'd',\n",
    "    width=300,\n",
    ")\n",
    "\n",
    "vis_cit\n",
    "\n",
    "trends1 = alt.hconcat(\n",
    "    conf,\n",
    "    pub_num,\n",
    "    unique_authors,\n",
    "    vis_cit\n",
    ").resolve_scale(\n",
    "    color = 'independent'\n",
    ").configure_axis(\n",
    "    labelFontSize=15,\n",
    "    titleFontSize=20\n",
    ").configure_legend(\n",
    "    titleFontSize=14,\n",
    "    labelFontSize=16\n",
    ").configure_title(\n",
    "    anchor='start',\n",
    "    fontSize=22)\n",
    "\n",
    "trends1"
   ]
  },
  {
   "cell_type": "code",
   "execution_count": 60,
   "id": "73a84207",
   "metadata": {},
   "outputs": [],
   "source": [
    "# trends1.save('chart.png')"
   ]
  },
  {
   "cell_type": "code",
   "execution_count": 61,
   "id": "1ea1bbf6",
   "metadata": {},
   "outputs": [],
   "source": [
    "ratio_wording = 'Proportion'"
   ]
  },
  {
   "cell_type": "code",
   "execution_count": 62,
   "id": "ab34de7f",
   "metadata": {},
   "outputs": [
    {
     "data": {
      "text/html": [
       "\n",
       "<div id=\"altair-viz-6379539e4d8f4d4ea82a9414946b56c5\"></div>\n",
       "<script type=\"text/javascript\">\n",
       "  var VEGA_DEBUG = (typeof VEGA_DEBUG == \"undefined\") ? {} : VEGA_DEBUG;\n",
       "  (function(spec, embedOpt){\n",
       "    let outputDiv = document.currentScript.previousElementSibling;\n",
       "    if (outputDiv.id !== \"altair-viz-6379539e4d8f4d4ea82a9414946b56c5\") {\n",
       "      outputDiv = document.getElementById(\"altair-viz-6379539e4d8f4d4ea82a9414946b56c5\");\n",
       "    }\n",
       "    const paths = {\n",
       "      \"vega\": \"https://cdn.jsdelivr.net/npm//vega@5?noext\",\n",
       "      \"vega-lib\": \"https://cdn.jsdelivr.net/npm//vega-lib?noext\",\n",
       "      \"vega-lite\": \"https://cdn.jsdelivr.net/npm//vega-lite@4.17.0?noext\",\n",
       "      \"vega-embed\": \"https://cdn.jsdelivr.net/npm//vega-embed@6?noext\",\n",
       "    };\n",
       "\n",
       "    function maybeLoadScript(lib, version) {\n",
       "      var key = `${lib.replace(\"-\", \"\")}_version`;\n",
       "      return (VEGA_DEBUG[key] == version) ?\n",
       "        Promise.resolve(paths[lib]) :\n",
       "        new Promise(function(resolve, reject) {\n",
       "          var s = document.createElement('script');\n",
       "          document.getElementsByTagName(\"head\")[0].appendChild(s);\n",
       "          s.async = true;\n",
       "          s.onload = () => {\n",
       "            VEGA_DEBUG[key] = version;\n",
       "            return resolve(paths[lib]);\n",
       "          };\n",
       "          s.onerror = () => reject(`Error loading script: ${paths[lib]}`);\n",
       "          s.src = paths[lib];\n",
       "        });\n",
       "    }\n",
       "\n",
       "    function showError(err) {\n",
       "      outputDiv.innerHTML = `<div class=\"error\" style=\"color:red;\">${err}</div>`;\n",
       "      throw err;\n",
       "    }\n",
       "\n",
       "    function displayChart(vegaEmbed) {\n",
       "      vegaEmbed(outputDiv, spec, embedOpt)\n",
       "        .catch(err => showError(`Javascript Error: ${err.message}<br>This usually means there's a typo in your chart specification. See the javascript console for the full traceback.`));\n",
       "    }\n",
       "\n",
       "    if(typeof define === \"function\" && define.amd) {\n",
       "      requirejs.config({paths});\n",
       "      require([\"vega-embed\"], displayChart, err => showError(`Error loading script: ${err.message}`));\n",
       "    } else {\n",
       "      maybeLoadScript(\"vega\", \"5\")\n",
       "        .then(() => maybeLoadScript(\"vega-lite\", \"4.17.0\"))\n",
       "        .then(() => maybeLoadScript(\"vega-embed\", \"6\"))\n",
       "        .catch(showError)\n",
       "        .then(() => displayChart(vegaEmbed));\n",
       "    }\n",
       "  })({\"config\": {\"view\": {\"continuousWidth\": 400, \"continuousHeight\": 300}, \"axis\": {\"labelFontSize\": 15, \"titleFontSize\": 20}, \"legend\": {\"labelFontSize\": 16, \"titleFontSize\": 16}, \"title\": {\"anchor\": \"start\", \"fontSize\": 22}}, \"hconcat\": [{\"layer\": [{\"data\": {\"name\": \"data-caf6a8430b2373eb8cd48a7a77ac4916\"}, \"mark\": {\"type\": \"line\", \"point\": {\"filled\": false, \"fill\": \"white\"}, \"strokeDash\": [1, 2]}, \"encoding\": {\"color\": {\"field\": \"type\", \"legend\": {\"direction\": \"horizontal\", \"legendX\": 0, \"legendY\": -40, \"orient\": \"none\", \"titleAnchor\": \"middle\"}, \"scale\": {\"domain\": [\"Non-VIS\", \"VIS\"], \"range\": [\"purple\", \"green\"]}, \"title\": \"Who cited VIS\", \"type\": \"nominal\"}, \"x\": {\"field\": \"Year\", \"type\": \"temporal\"}, \"y\": {\"field\": \"ratio\", \"title\": \"Proportion\", \"type\": \"quantitative\"}}}, {\"data\": {\"name\": \"data-e1eb1706bbda09e5b5767506b936f4b1\"}, \"mark\": \"line\", \"encoding\": {\"color\": {\"field\": \"type\", \"legend\": {\"direction\": \"horizontal\", \"legendX\": 150, \"legendY\": -40, \"orient\": \"none\", \"titleAnchor\": \"middle\"}, \"scale\": {\"domain\": [\"Non-VIS\", \"VIS\"], \"range\": [\"orange\", \"steelblue\"]}, \"title\": \"Whom VIS cited\", \"type\": \"nominal\"}, \"x\": {\"field\": \"Year\", \"type\": \"temporal\"}, \"y\": {\"field\": \"ratio\", \"title\": \"Proportion\", \"type\": \"quantitative\"}}}], \"resolve\": {\"scale\": {\"color\": \"independent\"}}, \"title\": \"e\", \"width\": 280}, {\"data\": {\"name\": \"data-13dc27e4ecc591ee8fd381db4be435d5\"}, \"mark\": \"line\", \"encoding\": {\"color\": {\"field\": \"type\", \"legend\": {\"direction\": \"horizontal\", \"legendX\": 80, \"legendY\": -40, \"orient\": \"none\", \"titleAnchor\": \"middle\"}, \"scale\": {\"domain\": [\"No\", \"Yes\"], \"range\": [\"orange\", \"steelblue\"]}, \"title\": \"Cross-country\", \"type\": \"nominal\"}, \"x\": {\"field\": \"year\", \"title\": \"Year\", \"type\": \"temporal\"}, \"y\": {\"field\": \"ratio\", \"title\": \"Proportion\", \"type\": \"quantitative\"}}, \"title\": \"f\", \"width\": 280}, {\"data\": {\"name\": \"data-9828840f8f199db131f1eea3ca3d2229\"}, \"mark\": \"line\", \"encoding\": {\"color\": {\"field\": \"type\", \"legend\": {\"direction\": \"horizontal\", \"legendX\": 90, \"legendY\": -40, \"orient\": \"none\", \"titleAnchor\": \"middle\"}, \"scale\": {\"domain\": [\"No\", \"Yes\"], \"range\": [\"purple\", \"green\"]}, \"title\": \"Cross-type\", \"type\": \"nominal\"}, \"x\": {\"field\": \"year\", \"title\": \"Year\", \"type\": \"temporal\"}, \"y\": {\"field\": \"ratio\", \"title\": \"Proportion\", \"type\": \"quantitative\"}}, \"title\": \"g\", \"width\": 280}, {\"layer\": [{\"data\": {\"name\": \"data-9828840f8f199db131f1eea3ca3d2229\"}, \"mark\": {\"type\": \"line\", \"point\": {\"filled\": false, \"fill\": \"white\"}, \"strokeDash\": [1, 2]}, \"encoding\": {\"color\": {\"field\": \"type\", \"legend\": {\"direction\": \"horizontal\", \"legendX\": 180, \"legendY\": -40, \"orient\": \"none\", \"titleAnchor\": \"middle\"}, \"scale\": {\"domain\": [\"No\", \"Yes\"], \"range\": [\"purple\", \"green\"]}, \"sort\": [\"Yes\", \"No\"], \"title\": \"Cross-type\", \"type\": \"nominal\"}, \"x\": {\"field\": \"year\", \"title\": \"Year\", \"type\": \"temporal\"}, \"y\": {\"field\": \"count\", \"title\": \"Number of publications\", \"type\": \"quantitative\"}}}, {\"data\": {\"name\": \"data-13dc27e4ecc591ee8fd381db4be435d5\"}, \"mark\": \"line\", \"encoding\": {\"color\": {\"field\": \"type\", \"legend\": {\"direction\": \"horizontal\", \"legendX\": 0, \"legendY\": -40, \"orient\": \"none\", \"titleAnchor\": \"middle\"}, \"scale\": {\"domain\": [\"No\", \"Yes\"], \"range\": [\"orange\", \"steelblue\"]}, \"title\": \"Cross-country\", \"type\": \"nominal\"}, \"x\": {\"field\": \"year\", \"title\": \"Year\", \"type\": \"temporal\"}, \"y\": {\"field\": \"count\", \"title\": \"Number of publications\", \"type\": \"quantitative\"}}}], \"resolve\": {\"scale\": {\"color\": \"independent\"}}, \"title\": \"h\", \"width\": 280}], \"resolve\": {\"scale\": {\"color\": \"independent\"}}, \"$schema\": \"https://vega.github.io/schema/vega-lite/v4.17.0.json\", \"datasets\": {\"data-caf6a8430b2373eb8cd48a7a77ac4916\": [{\"year\": 1990.0, \"type\": \"Non-VIS\", \"count\": 6, \"ratio\": 0.75, \"Year\": \"1990-01-01T00:00:00\"}, {\"year\": 1990.0, \"type\": \"VIS\", \"count\": 2, \"ratio\": 0.25, \"Year\": \"1990-01-01T00:00:00\"}, {\"year\": 1991.0, \"type\": \"Non-VIS\", \"count\": 56, \"ratio\": 0.7368421052631579, \"Year\": \"1991-01-01T00:00:00\"}, {\"year\": 1991.0, \"type\": \"VIS\", \"count\": 20, \"ratio\": 0.2631578947368421, \"Year\": \"1991-01-01T00:00:00\"}, {\"year\": 1992.0, \"type\": \"Non-VIS\", \"count\": 113, \"ratio\": 0.710691823899371, \"Year\": \"1992-01-01T00:00:00\"}, {\"year\": 1992.0, \"type\": \"VIS\", \"count\": 46, \"ratio\": 0.2893081761006289, \"Year\": \"1992-01-01T00:00:00\"}, {\"year\": 1993.0, \"type\": \"Non-VIS\", \"count\": 202, \"ratio\": 0.8015873015873016, \"Year\": \"1993-01-01T00:00:00\"}, {\"year\": 1993.0, \"type\": \"VIS\", \"count\": 50, \"ratio\": 0.1984126984126984, \"Year\": \"1993-01-01T00:00:00\"}, {\"year\": 1994.0, \"type\": \"Non-VIS\", \"count\": 285, \"ratio\": 0.7894736842105263, \"Year\": \"1994-01-01T00:00:00\"}, {\"year\": 1994.0, \"type\": \"VIS\", \"count\": 76, \"ratio\": 0.21052631578947367, \"Year\": \"1994-01-01T00:00:00\"}, {\"year\": 1995.0, \"type\": \"Non-VIS\", \"count\": 454, \"ratio\": 0.8092691622103387, \"Year\": \"1995-01-01T00:00:00\"}, {\"year\": 1995.0, \"type\": \"VIS\", \"count\": 107, \"ratio\": 0.19073083778966132, \"Year\": \"1995-01-01T00:00:00\"}, {\"year\": 1996.0, \"type\": \"Non-VIS\", \"count\": 485, \"ratio\": 0.8220338983050848, \"Year\": \"1996-01-01T00:00:00\"}, {\"year\": 1996.0, \"type\": \"VIS\", \"count\": 105, \"ratio\": 0.17796610169491525, \"Year\": \"1996-01-01T00:00:00\"}, {\"year\": 1997.0, \"type\": \"Non-VIS\", \"count\": 766, \"ratio\": 0.829004329004329, \"Year\": \"1997-01-01T00:00:00\"}, {\"year\": 1997.0, \"type\": \"VIS\", \"count\": 158, \"ratio\": 0.170995670995671, \"Year\": \"1997-01-01T00:00:00\"}, {\"year\": 1998.0, \"type\": \"Non-VIS\", \"count\": 809, \"ratio\": 0.7884990253411306, \"Year\": \"1998-01-01T00:00:00\"}, {\"year\": 1998.0, \"type\": \"VIS\", \"count\": 217, \"ratio\": 0.21150097465886938, \"Year\": \"1998-01-01T00:00:00\"}, {\"year\": 1999.0, \"type\": \"Non-VIS\", \"count\": 1079, \"ratio\": 0.8396887159533074, \"Year\": \"1999-01-01T00:00:00\"}, {\"year\": 1999.0, \"type\": \"VIS\", \"count\": 206, \"ratio\": 0.16031128404669262, \"Year\": \"1999-01-01T00:00:00\"}, {\"year\": 2000.0, \"type\": \"Non-VIS\", \"count\": 1355, \"ratio\": 0.8479349186483104, \"Year\": \"2000-01-01T00:00:00\"}, {\"year\": 2000.0, \"type\": \"VIS\", \"count\": 243, \"ratio\": 0.1520650813516896, \"Year\": \"2000-01-01T00:00:00\"}, {\"year\": 2001.0, \"type\": \"Non-VIS\", \"count\": 1664, \"ratio\": 0.8917470525187567, \"Year\": \"2001-01-01T00:00:00\"}, {\"year\": 2001.0, \"type\": \"VIS\", \"count\": 202, \"ratio\": 0.1082529474812433, \"Year\": \"2001-01-01T00:00:00\"}, {\"year\": 2002.0, \"type\": \"Non-VIS\", \"count\": 2159, \"ratio\": 0.8895756077461887, \"Year\": \"2002-01-01T00:00:00\"}, {\"year\": 2002.0, \"type\": \"VIS\", \"count\": 268, \"ratio\": 0.11042439225381129, \"Year\": \"2002-01-01T00:00:00\"}, {\"year\": 2003.0, \"type\": \"Non-VIS\", \"count\": 2746, \"ratio\": 0.8988543371522095, \"Year\": \"2003-01-01T00:00:00\"}, {\"year\": 2003.0, \"type\": \"VIS\", \"count\": 309, \"ratio\": 0.1011456628477905, \"Year\": \"2003-01-01T00:00:00\"}, {\"year\": 2004.0, \"type\": \"Non-VIS\", \"count\": 3354, \"ratio\": 0.8920212765957447, \"Year\": \"2004-01-01T00:00:00\"}, {\"year\": 2004.0, \"type\": \"VIS\", \"count\": 406, \"ratio\": 0.10797872340425532, \"Year\": \"2004-01-01T00:00:00\"}, {\"year\": 2005.0, \"type\": \"Non-VIS\", \"count\": 3862, \"ratio\": 0.9019149929939281, \"Year\": \"2005-01-01T00:00:00\"}, {\"year\": 2005.0, \"type\": \"VIS\", \"count\": 420, \"ratio\": 0.09808500700607192, \"Year\": \"2005-01-01T00:00:00\"}, {\"year\": 2006.0, \"type\": \"Non-VIS\", \"count\": 4075, \"ratio\": 0.8995584988962473, \"Year\": \"2006-01-01T00:00:00\"}, {\"year\": 2006.0, \"type\": \"VIS\", \"count\": 455, \"ratio\": 0.10044150110375276, \"Year\": \"2006-01-01T00:00:00\"}, {\"year\": 2007.0, \"type\": \"Non-VIS\", \"count\": 4321, \"ratio\": 0.9054903604358759, \"Year\": \"2007-01-01T00:00:00\"}, {\"year\": 2007.0, \"type\": \"VIS\", \"count\": 451, \"ratio\": 0.09450963956412406, \"Year\": \"2007-01-01T00:00:00\"}, {\"year\": 2008.0, \"type\": \"Non-VIS\", \"count\": 4708, \"ratio\": 0.9094069924666796, \"Year\": \"2008-01-01T00:00:00\"}, {\"year\": 2008.0, \"type\": \"VIS\", \"count\": 469, \"ratio\": 0.09059300753332046, \"Year\": \"2008-01-01T00:00:00\"}, {\"year\": 2009.0, \"type\": \"Non-VIS\", \"count\": 4822, \"ratio\": 0.8829884636513459, \"Year\": \"2009-01-01T00:00:00\"}, {\"year\": 2009.0, \"type\": \"VIS\", \"count\": 639, \"ratio\": 0.11701153634865409, \"Year\": \"2009-01-01T00:00:00\"}, {\"year\": 2010.0, \"type\": \"Non-VIS\", \"count\": 5093, \"ratio\": 0.8911636045494313, \"Year\": \"2010-01-01T00:00:00\"}, {\"year\": 2010.0, \"type\": \"VIS\", \"count\": 622, \"ratio\": 0.10883639545056868, \"Year\": \"2010-01-01T00:00:00\"}, {\"year\": 2011.0, \"type\": \"Non-VIS\", \"count\": 6091, \"ratio\": 0.8889375364856976, \"Year\": \"2011-01-01T00:00:00\"}, {\"year\": 2011.0, \"type\": \"VIS\", \"count\": 761, \"ratio\": 0.11106246351430239, \"Year\": \"2011-01-01T00:00:00\"}, {\"year\": 2012.0, \"type\": \"Non-VIS\", \"count\": 6427, \"ratio\": 0.9067437923250564, \"Year\": \"2012-01-01T00:00:00\"}, {\"year\": 2012.0, \"type\": \"VIS\", \"count\": 661, \"ratio\": 0.09325620767494357, \"Year\": \"2012-01-01T00:00:00\"}, {\"year\": 2013.0, \"type\": \"Non-VIS\", \"count\": 6896, \"ratio\": 0.9103630363036304, \"Year\": \"2013-01-01T00:00:00\"}, {\"year\": 2013.0, \"type\": \"VIS\", \"count\": 679, \"ratio\": 0.08963696369636964, \"Year\": \"2013-01-01T00:00:00\"}, {\"year\": 2014.0, \"type\": \"Non-VIS\", \"count\": 7458, \"ratio\": 0.8837539992890153, \"Year\": \"2014-01-01T00:00:00\"}, {\"year\": 2014.0, \"type\": \"VIS\", \"count\": 981, \"ratio\": 0.11624600071098472, \"Year\": \"2014-01-01T00:00:00\"}, {\"year\": 2015.0, \"type\": \"Non-VIS\", \"count\": 7318, \"ratio\": 0.9834699637145545, \"Year\": \"2015-01-01T00:00:00\"}, {\"year\": 2015.0, \"type\": \"VIS\", \"count\": 123, \"ratio\": 0.016530036285445505, \"Year\": \"2015-01-01T00:00:00\"}, {\"year\": 2016.0, \"type\": \"Non-VIS\", \"count\": 8313, \"ratio\": 0.893390650188071, \"Year\": \"2016-01-01T00:00:00\"}, {\"year\": 2016.0, \"type\": \"VIS\", \"count\": 992, \"ratio\": 0.10660934981192907, \"Year\": \"2016-01-01T00:00:00\"}, {\"year\": 2017.0, \"type\": \"Non-VIS\", \"count\": 8338, \"ratio\": 0.8957885689729265, \"Year\": \"2017-01-01T00:00:00\"}, {\"year\": 2017.0, \"type\": \"VIS\", \"count\": 970, \"ratio\": 0.10421143102707349, \"Year\": \"2017-01-01T00:00:00\"}, {\"year\": 2018.0, \"type\": \"Non-VIS\", \"count\": 8628, \"ratio\": 0.8963224600041554, \"Year\": \"2018-01-01T00:00:00\"}, {\"year\": 2018.0, \"type\": \"VIS\", \"count\": 998, \"ratio\": 0.10367753999584459, \"Year\": \"2018-01-01T00:00:00\"}, {\"year\": 2019.0, \"type\": \"Non-VIS\", \"count\": 10013, \"ratio\": 0.8898071625344353, \"Year\": \"2019-01-01T00:00:00\"}, {\"year\": 2019.0, \"type\": \"VIS\", \"count\": 1240, \"ratio\": 0.11019283746556474, \"Year\": \"2019-01-01T00:00:00\"}, {\"year\": 2020.0, \"type\": \"Non-VIS\", \"count\": 11514, \"ratio\": 0.890762803651555, \"Year\": \"2020-01-01T00:00:00\"}, {\"year\": 2020.0, \"type\": \"VIS\", \"count\": 1412, \"ratio\": 0.10923719634844499, \"Year\": \"2020-01-01T00:00:00\"}, {\"year\": 2021.0, \"type\": \"Non-VIS\", \"count\": 11309, \"ratio\": 0.8437033721277231, \"Year\": \"2021-01-01T00:00:00\"}, {\"year\": 2021.0, \"type\": \"VIS\", \"count\": 2095, \"ratio\": 0.15629662787227694, \"Year\": \"2021-01-01T00:00:00\"}], \"data-e1eb1706bbda09e5b5767506b936f4b1\": [{\"year\": 1990, \"type\": \"Non-VIS\", \"count\": 590, \"ratio\": 0.9966216216216216, \"Year\": \"1990-01-01T00:00:00\"}, {\"year\": 1990, \"type\": \"VIS\", \"count\": 2, \"ratio\": 0.0033783783783783786, \"Year\": \"1990-01-01T00:00:00\"}, {\"year\": 1991, \"type\": \"Non-VIS\", \"count\": 402, \"ratio\": 0.95260663507109, \"Year\": \"1991-01-01T00:00:00\"}, {\"year\": 1991, \"type\": \"VIS\", \"count\": 20, \"ratio\": 0.04739336492890995, \"Year\": \"1991-01-01T00:00:00\"}, {\"year\": 1992, \"type\": \"Non-VIS\", \"count\": 528, \"ratio\": 0.9198606271777003, \"Year\": \"1992-01-01T00:00:00\"}, {\"year\": 1992, \"type\": \"VIS\", \"count\": 46, \"ratio\": 0.08013937282229965, \"Year\": \"1992-01-01T00:00:00\"}, {\"year\": 1993, \"type\": \"Non-VIS\", \"count\": 510, \"ratio\": 0.9107142857142857, \"Year\": \"1993-01-01T00:00:00\"}, {\"year\": 1993, \"type\": \"VIS\", \"count\": 50, \"ratio\": 0.08928571428571429, \"Year\": \"1993-01-01T00:00:00\"}, {\"year\": 1994, \"type\": \"Non-VIS\", \"count\": 547, \"ratio\": 0.8752, \"Year\": \"1994-01-01T00:00:00\"}, {\"year\": 1994, \"type\": \"VIS\", \"count\": 78, \"ratio\": 0.1248, \"Year\": \"1994-01-01T00:00:00\"}, {\"year\": 1995, \"type\": \"Non-VIS\", \"count\": 826, \"ratio\": 0.8815368196371398, \"Year\": \"1995-01-01T00:00:00\"}, {\"year\": 1995, \"type\": \"VIS\", \"count\": 111, \"ratio\": 0.11846318036286019, \"Year\": \"1995-01-01T00:00:00\"}, {\"year\": 1996, \"type\": \"Non-VIS\", \"count\": 886, \"ratio\": 0.8931451612903226, \"Year\": \"1996-01-01T00:00:00\"}, {\"year\": 1996, \"type\": \"VIS\", \"count\": 106, \"ratio\": 0.10685483870967742, \"Year\": \"1996-01-01T00:00:00\"}, {\"year\": 1997, \"type\": \"Non-VIS\", \"count\": 1142, \"ratio\": 0.8791377983063895, \"Year\": \"1997-01-01T00:00:00\"}, {\"year\": 1997, \"type\": \"VIS\", \"count\": 157, \"ratio\": 0.12086220169361046, \"Year\": \"1997-01-01T00:00:00\"}, {\"year\": 1998, \"type\": \"Non-VIS\", \"count\": 1287, \"ratio\": 0.8591455273698264, \"Year\": \"1998-01-01T00:00:00\"}, {\"year\": 1998, \"type\": \"VIS\", \"count\": 211, \"ratio\": 0.14085447263017356, \"Year\": \"1998-01-01T00:00:00\"}, {\"year\": 1999, \"type\": \"Non-VIS\", \"count\": 1110, \"ratio\": 0.8434650455927052, \"Year\": \"1999-01-01T00:00:00\"}, {\"year\": 1999, \"type\": \"VIS\", \"count\": 206, \"ratio\": 0.15653495440729484, \"Year\": \"1999-01-01T00:00:00\"}, {\"year\": 2000, \"type\": \"Non-VIS\", \"count\": 1403, \"ratio\": 0.8523693803159174, \"Year\": \"2000-01-01T00:00:00\"}, {\"year\": 2000, \"type\": \"VIS\", \"count\": 243, \"ratio\": 0.14763061968408261, \"Year\": \"2000-01-01T00:00:00\"}, {\"year\": 2001, \"type\": \"Non-VIS\", \"count\": 1485, \"ratio\": 0.8802608180201541, \"Year\": \"2001-01-01T00:00:00\"}, {\"year\": 2001, \"type\": \"VIS\", \"count\": 202, \"ratio\": 0.11973918197984589, \"Year\": \"2001-01-01T00:00:00\"}, {\"year\": 2002, \"type\": \"Non-VIS\", \"count\": 1697, \"ratio\": 0.8640529531568228, \"Year\": \"2002-01-01T00:00:00\"}, {\"year\": 2002, \"type\": \"VIS\", \"count\": 267, \"ratio\": 0.13594704684317718, \"Year\": \"2002-01-01T00:00:00\"}, {\"year\": 2003, \"type\": \"Non-VIS\", \"count\": 2143, \"ratio\": 0.8711382113821138, \"Year\": \"2003-01-01T00:00:00\"}, {\"year\": 2003, \"type\": \"VIS\", \"count\": 317, \"ratio\": 0.1288617886178862, \"Year\": \"2003-01-01T00:00:00\"}, {\"year\": 2004, \"type\": \"Non-VIS\", \"count\": 2034, \"ratio\": 0.8356614626129828, \"Year\": \"2004-01-01T00:00:00\"}, {\"year\": 2004, \"type\": \"VIS\", \"count\": 400, \"ratio\": 0.16433853738701726, \"Year\": \"2004-01-01T00:00:00\"}, {\"year\": 2005, \"type\": \"Non-VIS\", \"count\": 2345, \"ratio\": 0.8490224475018103, \"Year\": \"2005-01-01T00:00:00\"}, {\"year\": 2005, \"type\": \"VIS\", \"count\": 417, \"ratio\": 0.15097755249818973, \"Year\": \"2005-01-01T00:00:00\"}, {\"year\": 2006, \"type\": \"Non-VIS\", \"count\": 2472, \"ratio\": 0.8439740525776716, \"Year\": \"2006-01-01T00:00:00\"}, {\"year\": 2006, \"type\": \"VIS\", \"count\": 457, \"ratio\": 0.15602594742232845, \"Year\": \"2006-01-01T00:00:00\"}, {\"year\": 2007, \"type\": \"Non-VIS\", \"count\": 2616, \"ratio\": 0.8521172638436482, \"Year\": \"2007-01-01T00:00:00\"}, {\"year\": 2007, \"type\": \"VIS\", \"count\": 454, \"ratio\": 0.14788273615635178, \"Year\": \"2007-01-01T00:00:00\"}, {\"year\": 2008, \"type\": \"Non-VIS\", \"count\": 2120, \"ratio\": 0.8144448713023434, \"Year\": \"2008-01-01T00:00:00\"}, {\"year\": 2008, \"type\": \"VIS\", \"count\": 483, \"ratio\": 0.18555512869765656, \"Year\": \"2008-01-01T00:00:00\"}, {\"year\": 2009, \"type\": \"Non-VIS\", \"count\": 2660, \"ratio\": 0.811222933821287, \"Year\": \"2009-01-01T00:00:00\"}, {\"year\": 2009, \"type\": \"VIS\", \"count\": 619, \"ratio\": 0.188777066178713, \"Year\": \"2009-01-01T00:00:00\"}, {\"year\": 2010, \"type\": \"Non-VIS\", \"count\": 2738, \"ratio\": 0.8146385004462957, \"Year\": \"2010-01-01T00:00:00\"}, {\"year\": 2010, \"type\": \"VIS\", \"count\": 623, \"ratio\": 0.18536149955370426, \"Year\": \"2010-01-01T00:00:00\"}, {\"year\": 2011, \"type\": \"Non-VIS\", \"count\": 3266, \"ratio\": 0.8110255773528682, \"Year\": \"2011-01-01T00:00:00\"}, {\"year\": 2011, \"type\": \"VIS\", \"count\": 761, \"ratio\": 0.18897442264713185, \"Year\": \"2011-01-01T00:00:00\"}, {\"year\": 2012, \"type\": \"Non-VIS\", \"count\": 3175, \"ratio\": 0.8279009126466753, \"Year\": \"2012-01-01T00:00:00\"}, {\"year\": 2012, \"type\": \"VIS\", \"count\": 660, \"ratio\": 0.17209908735332463, \"Year\": \"2012-01-01T00:00:00\"}, {\"year\": 2013, \"type\": \"Non-VIS\", \"count\": 3100, \"ratio\": 0.8203228367292935, \"Year\": \"2013-01-01T00:00:00\"}, {\"year\": 2013, \"type\": \"VIS\", \"count\": 679, \"ratio\": 0.17967716327070654, \"Year\": \"2013-01-01T00:00:00\"}, {\"year\": 2014, \"type\": \"Non-VIS\", \"count\": 3987, \"ratio\": 0.802536231884058, \"Year\": \"2014-01-01T00:00:00\"}, {\"year\": 2014, \"type\": \"VIS\", \"count\": 981, \"ratio\": 0.19746376811594202, \"Year\": \"2014-01-01T00:00:00\"}, {\"year\": 2015, \"type\": \"Non-VIS\", \"count\": 4009, \"ratio\": 0.8005191693290735, \"Year\": \"2015-01-01T00:00:00\"}, {\"year\": 2015, \"type\": \"VIS\", \"count\": 999, \"ratio\": 0.1994808306709265, \"Year\": \"2015-01-01T00:00:00\"}, {\"year\": 2016, \"type\": \"Non-VIS\", \"count\": 3860, \"ratio\": 0.8034970857618651, \"Year\": \"2016-01-01T00:00:00\"}, {\"year\": 2016, \"type\": \"VIS\", \"count\": 944, \"ratio\": 0.1965029142381349, \"Year\": \"2016-01-01T00:00:00\"}, {\"year\": 2017, \"type\": \"Non-VIS\", \"count\": 4564, \"ratio\": 0.8131124176019954, \"Year\": \"2017-01-01T00:00:00\"}, {\"year\": 2017, \"type\": \"VIS\", \"count\": 1049, \"ratio\": 0.18688758239800463, \"Year\": \"2017-01-01T00:00:00\"}, {\"year\": 2018, \"type\": \"Non-VIS\", \"count\": 4998, \"ratio\": 0.80198973042362, \"Year\": \"2018-01-01T00:00:00\"}, {\"year\": 2018, \"type\": \"VIS\", \"count\": 1234, \"ratio\": 0.19801026957638, \"Year\": \"2018-01-01T00:00:00\"}, {\"year\": 2019, \"type\": \"Non-VIS\", \"count\": 5453, \"ratio\": 0.8147318093530554, \"Year\": \"2019-01-01T00:00:00\"}, {\"year\": 2019, \"type\": \"VIS\", \"count\": 1240, \"ratio\": 0.18526819064694458, \"Year\": \"2019-01-01T00:00:00\"}, {\"year\": 2020, \"type\": \"Non-VIS\", \"count\": 6176, \"ratio\": 0.8126315789473684, \"Year\": \"2020-01-01T00:00:00\"}, {\"year\": 2020, \"type\": \"VIS\", \"count\": 1424, \"ratio\": 0.18736842105263157, \"Year\": \"2020-01-01T00:00:00\"}, {\"year\": 2021, \"type\": \"Non-VIS\", \"count\": 4109, \"ratio\": 0.8138245197068726, \"Year\": \"2021-01-01T00:00:00\"}, {\"year\": 2021, \"type\": \"VIS\", \"count\": 940, \"ratio\": 0.18617548029312736, \"Year\": \"2021-01-01T00:00:00\"}], \"data-13dc27e4ecc591ee8fd381db4be435d5\": [{\"year\": \"1990-01-01T00:00:00\", \"type\": \"No\", \"count\": 50, \"ratio\": 0.9615384615384616}, {\"year\": \"1990-01-01T00:00:00\", \"type\": \"Yes\", \"count\": 2, \"ratio\": 0.038461538461538464}, {\"year\": \"1991-01-01T00:00:00\", \"type\": \"No\", \"count\": 49, \"ratio\": 0.98}, {\"year\": \"1991-01-01T00:00:00\", \"type\": \"Yes\", \"count\": 1, \"ratio\": 0.02}, {\"year\": \"1992-01-01T00:00:00\", \"type\": \"No\", \"count\": 47, \"ratio\": 0.8867924528301887}, {\"year\": \"1992-01-01T00:00:00\", \"type\": \"Yes\", \"count\": 6, \"ratio\": 0.11320754716981132}, {\"year\": \"1993-01-01T00:00:00\", \"type\": \"No\", \"count\": 51, \"ratio\": 0.9272727272727272}, {\"year\": \"1993-01-01T00:00:00\", \"type\": \"Yes\", \"count\": 4, \"ratio\": 0.07272727272727272}, {\"year\": \"1994-01-01T00:00:00\", \"type\": \"No\", \"count\": 49, \"ratio\": 0.9245283018867925}, {\"year\": \"1994-01-01T00:00:00\", \"type\": \"Yes\", \"count\": 4, \"ratio\": 0.07547169811320754}, {\"year\": \"1995-01-01T00:00:00\", \"type\": \"No\", \"count\": 69, \"ratio\": 0.9324324324324325}, {\"year\": \"1995-01-01T00:00:00\", \"type\": \"Yes\", \"count\": 5, \"ratio\": 0.06756756756756757}, {\"year\": \"1996-01-01T00:00:00\", \"type\": \"No\", \"count\": 69, \"ratio\": 0.8961038961038961}, {\"year\": \"1996-01-01T00:00:00\", \"type\": \"Yes\", \"count\": 8, \"ratio\": 0.1038961038961039}, {\"year\": \"1997-01-01T00:00:00\", \"type\": \"No\", \"count\": 82, \"ratio\": 0.9318181818181818}, {\"year\": \"1997-01-01T00:00:00\", \"type\": \"Yes\", \"count\": 6, \"ratio\": 0.06818181818181818}, {\"year\": \"1998-01-01T00:00:00\", \"type\": \"No\", \"count\": 83, \"ratio\": 0.9222222222222223}, {\"year\": \"1998-01-01T00:00:00\", \"type\": \"Yes\", \"count\": 7, \"ratio\": 0.07777777777777778}, {\"year\": \"1999-01-01T00:00:00\", \"type\": \"No\", \"count\": 83, \"ratio\": 0.9431818181818182}, {\"year\": \"1999-01-01T00:00:00\", \"type\": \"Yes\", \"count\": 5, \"ratio\": 0.056818181818181816}, {\"year\": \"2000-01-01T00:00:00\", \"type\": \"No\", \"count\": 81, \"ratio\": 0.8804347826086957}, {\"year\": \"2000-01-01T00:00:00\", \"type\": \"Yes\", \"count\": 11, \"ratio\": 0.11956521739130435}, {\"year\": \"2001-01-01T00:00:00\", \"type\": \"No\", \"count\": 83, \"ratio\": 0.8645833333333334}, {\"year\": \"2001-01-01T00:00:00\", \"type\": \"Yes\", \"count\": 13, \"ratio\": 0.13541666666666666}, {\"year\": \"2002-01-01T00:00:00\", \"type\": \"No\", \"count\": 86, \"ratio\": 0.8514851485148515}, {\"year\": \"2002-01-01T00:00:00\", \"type\": \"Yes\", \"count\": 15, \"ratio\": 0.1485148514851485}, {\"year\": \"2003-01-01T00:00:00\", \"type\": \"No\", \"count\": 91, \"ratio\": 0.8921568627450981}, {\"year\": \"2003-01-01T00:00:00\", \"type\": \"Yes\", \"count\": 11, \"ratio\": 0.10784313725490197}, {\"year\": \"2004-01-01T00:00:00\", \"type\": \"No\", \"count\": 79, \"ratio\": 0.8144329896907216}, {\"year\": \"2004-01-01T00:00:00\", \"type\": \"Yes\", \"count\": 18, \"ratio\": 0.18556701030927836}, {\"year\": \"2005-01-01T00:00:00\", \"type\": \"No\", \"count\": 98, \"ratio\": 0.8235294117647058}, {\"year\": \"2005-01-01T00:00:00\", \"type\": \"Yes\", \"count\": 21, \"ratio\": 0.17647058823529413}, {\"year\": \"2006-01-01T00:00:00\", \"type\": \"No\", \"count\": 90, \"ratio\": 0.7964601769911505}, {\"year\": \"2006-01-01T00:00:00\", \"type\": \"Yes\", \"count\": 23, \"ratio\": 0.20353982300884957}, {\"year\": \"2007-01-01T00:00:00\", \"type\": \"No\", \"count\": 75, \"ratio\": 0.7009345794392523}, {\"year\": \"2007-01-01T00:00:00\", \"type\": \"Yes\", \"count\": 32, \"ratio\": 0.29906542056074764}, {\"year\": \"2008-01-01T00:00:00\", \"type\": \"No\", \"count\": 75, \"ratio\": 0.7575757575757576}, {\"year\": \"2008-01-01T00:00:00\", \"type\": \"Yes\", \"count\": 24, \"ratio\": 0.24242424242424243}, {\"year\": \"2009-01-01T00:00:00\", \"type\": \"No\", \"count\": 90, \"ratio\": 0.7692307692307693}, {\"year\": \"2009-01-01T00:00:00\", \"type\": \"Yes\", \"count\": 27, \"ratio\": 0.23076923076923078}, {\"year\": \"2010-01-01T00:00:00\", \"type\": \"No\", \"count\": 79, \"ratio\": 0.7247706422018348}, {\"year\": \"2010-01-01T00:00:00\", \"type\": \"Yes\", \"count\": 30, \"ratio\": 0.27522935779816515}, {\"year\": \"2011-01-01T00:00:00\", \"type\": \"No\", \"count\": 91, \"ratio\": 0.7647058823529411}, {\"year\": \"2011-01-01T00:00:00\", \"type\": \"Yes\", \"count\": 28, \"ratio\": 0.23529411764705882}, {\"year\": \"2012-01-01T00:00:00\", \"type\": \"No\", \"count\": 74, \"ratio\": 0.6379310344827587}, {\"year\": \"2012-01-01T00:00:00\", \"type\": \"Yes\", \"count\": 42, \"ratio\": 0.3620689655172414}, {\"year\": \"2013-01-01T00:00:00\", \"type\": \"No\", \"count\": 75, \"ratio\": 0.7425742574257426}, {\"year\": \"2013-01-01T00:00:00\", \"type\": \"Yes\", \"count\": 26, \"ratio\": 0.25742574257425743}, {\"year\": \"2014-01-01T00:00:00\", \"type\": \"No\", \"count\": 85, \"ratio\": 0.6390977443609023}, {\"year\": \"2014-01-01T00:00:00\", \"type\": \"Yes\", \"count\": 48, \"ratio\": 0.3609022556390977}, {\"year\": \"2015-01-01T00:00:00\", \"type\": \"No\", \"count\": 80, \"ratio\": 0.6299212598425197}, {\"year\": \"2015-01-01T00:00:00\", \"type\": \"Yes\", \"count\": 47, \"ratio\": 0.3700787401574803}, {\"year\": \"2016-01-01T00:00:00\", \"type\": \"No\", \"count\": 66, \"ratio\": 0.5739130434782609}, {\"year\": \"2016-01-01T00:00:00\", \"type\": \"Yes\", \"count\": 49, \"ratio\": 0.4260869565217391}, {\"year\": \"2017-01-01T00:00:00\", \"type\": \"No\", \"count\": 65, \"ratio\": 0.5701754385964912}, {\"year\": \"2017-01-01T00:00:00\", \"type\": \"Yes\", \"count\": 49, \"ratio\": 0.4298245614035088}, {\"year\": \"2018-01-01T00:00:00\", \"type\": \"No\", \"count\": 82, \"ratio\": 0.6456692913385826}, {\"year\": \"2018-01-01T00:00:00\", \"type\": \"Yes\", \"count\": 45, \"ratio\": 0.3543307086614173}, {\"year\": \"2019-01-01T00:00:00\", \"type\": \"No\", \"count\": 81, \"ratio\": 0.627906976744186}, {\"year\": \"2019-01-01T00:00:00\", \"type\": \"Yes\", \"count\": 48, \"ratio\": 0.37209302325581395}, {\"year\": \"2020-01-01T00:00:00\", \"type\": \"No\", \"count\": 93, \"ratio\": 0.5923566878980892}, {\"year\": \"2020-01-01T00:00:00\", \"type\": \"Yes\", \"count\": 64, \"ratio\": 0.40764331210191085}, {\"year\": \"2021-01-01T00:00:00\", \"type\": \"No\", \"count\": 94, \"ratio\": 0.5529411764705883}, {\"year\": \"2021-01-01T00:00:00\", \"type\": \"Yes\", \"count\": 76, \"ratio\": 0.4470588235294118}], \"data-9828840f8f199db131f1eea3ca3d2229\": [{\"year\": \"1990-01-01T00:00:00\", \"type\": \"No\", \"count\": 47, \"ratio\": 0.9038461538461539}, {\"year\": \"1990-01-01T00:00:00\", \"type\": \"Yes\", \"count\": 5, \"ratio\": 0.09615384615384616}, {\"year\": \"1991-01-01T00:00:00\", \"type\": \"No\", \"count\": 43, \"ratio\": 0.86}, {\"year\": \"1991-01-01T00:00:00\", \"type\": \"Yes\", \"count\": 7, \"ratio\": 0.14}, {\"year\": \"1992-01-01T00:00:00\", \"type\": \"No\", \"count\": 43, \"ratio\": 0.8113207547169812}, {\"year\": \"1992-01-01T00:00:00\", \"type\": \"Yes\", \"count\": 10, \"ratio\": 0.18867924528301888}, {\"year\": \"1993-01-01T00:00:00\", \"type\": \"No\", \"count\": 46, \"ratio\": 0.8363636363636363}, {\"year\": \"1993-01-01T00:00:00\", \"type\": \"Yes\", \"count\": 9, \"ratio\": 0.16363636363636364}, {\"year\": \"1994-01-01T00:00:00\", \"type\": \"No\", \"count\": 48, \"ratio\": 0.9056603773584906}, {\"year\": \"1994-01-01T00:00:00\", \"type\": \"Yes\", \"count\": 5, \"ratio\": 0.09433962264150944}, {\"year\": \"1995-01-01T00:00:00\", \"type\": \"No\", \"count\": 64, \"ratio\": 0.8648648648648649}, {\"year\": \"1995-01-01T00:00:00\", \"type\": \"Yes\", \"count\": 10, \"ratio\": 0.13513513513513514}, {\"year\": \"1996-01-01T00:00:00\", \"type\": \"No\", \"count\": 59, \"ratio\": 0.7662337662337663}, {\"year\": \"1996-01-01T00:00:00\", \"type\": \"Yes\", \"count\": 18, \"ratio\": 0.23376623376623376}, {\"year\": \"1997-01-01T00:00:00\", \"type\": \"No\", \"count\": 78, \"ratio\": 0.8863636363636364}, {\"year\": \"1997-01-01T00:00:00\", \"type\": \"Yes\", \"count\": 10, \"ratio\": 0.11363636363636363}, {\"year\": \"1998-01-01T00:00:00\", \"type\": \"No\", \"count\": 77, \"ratio\": 0.8555555555555555}, {\"year\": \"1998-01-01T00:00:00\", \"type\": \"Yes\", \"count\": 13, \"ratio\": 0.14444444444444443}, {\"year\": \"1999-01-01T00:00:00\", \"type\": \"No\", \"count\": 72, \"ratio\": 0.8181818181818182}, {\"year\": \"1999-01-01T00:00:00\", \"type\": \"Yes\", \"count\": 16, \"ratio\": 0.18181818181818182}, {\"year\": \"2000-01-01T00:00:00\", \"type\": \"No\", \"count\": 71, \"ratio\": 0.7717391304347826}, {\"year\": \"2000-01-01T00:00:00\", \"type\": \"Yes\", \"count\": 21, \"ratio\": 0.22826086956521738}, {\"year\": \"2001-01-01T00:00:00\", \"type\": \"No\", \"count\": 68, \"ratio\": 0.7083333333333334}, {\"year\": \"2001-01-01T00:00:00\", \"type\": \"Yes\", \"count\": 28, \"ratio\": 0.2916666666666667}, {\"year\": \"2002-01-01T00:00:00\", \"type\": \"No\", \"count\": 84, \"ratio\": 0.8316831683168316}, {\"year\": \"2002-01-01T00:00:00\", \"type\": \"Yes\", \"count\": 17, \"ratio\": 0.16831683168316833}, {\"year\": \"2003-01-01T00:00:00\", \"type\": \"No\", \"count\": 82, \"ratio\": 0.803921568627451}, {\"year\": \"2003-01-01T00:00:00\", \"type\": \"Yes\", \"count\": 20, \"ratio\": 0.19607843137254902}, {\"year\": \"2004-01-01T00:00:00\", \"type\": \"No\", \"count\": 73, \"ratio\": 0.7525773195876289}, {\"year\": \"2004-01-01T00:00:00\", \"type\": \"Yes\", \"count\": 24, \"ratio\": 0.24742268041237114}, {\"year\": \"2005-01-01T00:00:00\", \"type\": \"No\", \"count\": 97, \"ratio\": 0.8151260504201681}, {\"year\": \"2005-01-01T00:00:00\", \"type\": \"Yes\", \"count\": 22, \"ratio\": 0.18487394957983194}, {\"year\": \"2006-01-01T00:00:00\", \"type\": \"No\", \"count\": 90, \"ratio\": 0.7964601769911505}, {\"year\": \"2006-01-01T00:00:00\", \"type\": \"Yes\", \"count\": 23, \"ratio\": 0.20353982300884957}, {\"year\": \"2007-01-01T00:00:00\", \"type\": \"No\", \"count\": 69, \"ratio\": 0.6448598130841121}, {\"year\": \"2007-01-01T00:00:00\", \"type\": \"Yes\", \"count\": 38, \"ratio\": 0.35514018691588783}, {\"year\": \"2008-01-01T00:00:00\", \"type\": \"No\", \"count\": 70, \"ratio\": 0.7070707070707071}, {\"year\": \"2008-01-01T00:00:00\", \"type\": \"Yes\", \"count\": 29, \"ratio\": 0.29292929292929293}, {\"year\": \"2009-01-01T00:00:00\", \"type\": \"No\", \"count\": 84, \"ratio\": 0.717948717948718}, {\"year\": \"2009-01-01T00:00:00\", \"type\": \"Yes\", \"count\": 33, \"ratio\": 0.28205128205128205}, {\"year\": \"2010-01-01T00:00:00\", \"type\": \"No\", \"count\": 82, \"ratio\": 0.7522935779816514}, {\"year\": \"2010-01-01T00:00:00\", \"type\": \"Yes\", \"count\": 27, \"ratio\": 0.24770642201834864}, {\"year\": \"2011-01-01T00:00:00\", \"type\": \"No\", \"count\": 91, \"ratio\": 0.7647058823529411}, {\"year\": \"2011-01-01T00:00:00\", \"type\": \"Yes\", \"count\": 28, \"ratio\": 0.23529411764705882}, {\"year\": \"2012-01-01T00:00:00\", \"type\": \"No\", \"count\": 80, \"ratio\": 0.6896551724137931}, {\"year\": \"2012-01-01T00:00:00\", \"type\": \"Yes\", \"count\": 36, \"ratio\": 0.3103448275862069}, {\"year\": \"2013-01-01T00:00:00\", \"type\": \"No\", \"count\": 74, \"ratio\": 0.7326732673267327}, {\"year\": \"2013-01-01T00:00:00\", \"type\": \"Yes\", \"count\": 27, \"ratio\": 0.26732673267326734}, {\"year\": \"2014-01-01T00:00:00\", \"type\": \"No\", \"count\": 87, \"ratio\": 0.6541353383458647}, {\"year\": \"2014-01-01T00:00:00\", \"type\": \"Yes\", \"count\": 46, \"ratio\": 0.3458646616541353}, {\"year\": \"2015-01-01T00:00:00\", \"type\": \"No\", \"count\": 79, \"ratio\": 0.6220472440944882}, {\"year\": \"2015-01-01T00:00:00\", \"type\": \"Yes\", \"count\": 48, \"ratio\": 0.3779527559055118}, {\"year\": \"2016-01-01T00:00:00\", \"type\": \"No\", \"count\": 75, \"ratio\": 0.6521739130434783}, {\"year\": \"2016-01-01T00:00:00\", \"type\": \"Yes\", \"count\": 40, \"ratio\": 0.34782608695652173}, {\"year\": \"2017-01-01T00:00:00\", \"type\": \"No\", \"count\": 71, \"ratio\": 0.6228070175438597}, {\"year\": \"2017-01-01T00:00:00\", \"type\": \"Yes\", \"count\": 43, \"ratio\": 0.37719298245614036}, {\"year\": \"2018-01-01T00:00:00\", \"type\": \"No\", \"count\": 69, \"ratio\": 0.5433070866141733}, {\"year\": \"2018-01-01T00:00:00\", \"type\": \"Yes\", \"count\": 58, \"ratio\": 0.4566929133858268}, {\"year\": \"2019-01-01T00:00:00\", \"type\": \"No\", \"count\": 86, \"ratio\": 0.6666666666666666}, {\"year\": \"2019-01-01T00:00:00\", \"type\": \"Yes\", \"count\": 43, \"ratio\": 0.3333333333333333}, {\"year\": \"2020-01-01T00:00:00\", \"type\": \"No\", \"count\": 108, \"ratio\": 0.6878980891719745}, {\"year\": \"2020-01-01T00:00:00\", \"type\": \"Yes\", \"count\": 49, \"ratio\": 0.31210191082802546}, {\"year\": \"2021-01-01T00:00:00\", \"type\": \"No\", \"count\": 116, \"ratio\": 0.6823529411764706}, {\"year\": \"2021-01-01T00:00:00\", \"type\": \"Yes\", \"count\": 54, \"ratio\": 0.3176470588235294}]}}, {\"mode\": \"vega-lite\"});\n",
       "</script>"
      ],
      "text/plain": [
       "alt.HConcatChart(...)"
      ]
     },
     "execution_count": 62,
     "metadata": {},
     "output_type": "execute_result"
    }
   ],
   "source": [
    "cit_ratio = alt.Chart(cit_df).mark_line(\n",
    "    point={\n",
    "      \"filled\": False,\n",
    "      \"fill\": \"white\"\n",
    "    },\n",
    "    strokeDash=[1,2]\n",
    ").encode(\n",
    "    x='Year',\n",
    "    y=alt.Y(\n",
    "        'ratio',\n",
    "        title=ratio_wording\n",
    "    ),\n",
    "    color=alt.Color(\n",
    "        \"type:N\",\n",
    "        title = 'Who cited VIS',\n",
    "        scale=alt.Scale(\n",
    "            domain=['Non-VIS', 'VIS'],\n",
    "            range=['purple', 'green']\n",
    "        ),\n",
    "        legend=alt.Legend(\n",
    "            orient='none',\n",
    "            legendX=0, legendY=-40,\n",
    "            direction='horizontal',\n",
    "            titleAnchor='middle'\n",
    "        )\n",
    "    )\n",
    ")\n",
    "\n",
    "cit_ratio\n",
    "\n",
    "ref_ratio = alt.Chart(ref_df).mark_line(\n",
    ").encode(\n",
    "    x='Year',\n",
    "    y=alt.Y(\n",
    "        'ratio',\n",
    "        title = ratio_wording\n",
    "    ),\n",
    "    color=alt.Color(\n",
    "        \"type:N\",\n",
    "        title = 'Whom VIS cited',\n",
    "        scale=alt.Scale(\n",
    "            domain=['Non-VIS', 'VIS'],\n",
    "            range=['orange', 'steelblue']\n",
    "        ),\n",
    "        legend=alt.Legend(\n",
    "            orient='none',\n",
    "            legendX=150, legendY=-40,\n",
    "            direction='horizontal',\n",
    "            titleAnchor='middle'\n",
    "        ),\n",
    "    )\n",
    ")\n",
    "\n",
    "ref_ratio\n",
    "\n",
    "citation_ratio_compare = alt.layer(\n",
    "    cit_ratio,\n",
    "    ref_ratio,\n",
    ").resolve_scale(\n",
    "    color='independent'\n",
    ").properties(\n",
    "    title = 'e',\n",
    "    width=280\n",
    ")\n",
    "\n",
    "citation_ratio_compare\n",
    "\n",
    "cross_country_ratio = alt.Chart(cross_country).mark_line().encode(\n",
    "    x = alt.X('year', title='Year'),\n",
    "    y = alt.Y(\n",
    "        'ratio',\n",
    "        title = ratio_wording\n",
    "    ),\n",
    "    color = alt.Color(\n",
    "        'type',\n",
    "        title = 'Cross-country',\n",
    "        scale=alt.Scale(domain=['No', 'Yes'],\n",
    "                      range=['orange', 'steelblue']),\n",
    "        legend=alt.Legend(\n",
    "            orient='none',\n",
    "            legendX=80, legendY=-40,\n",
    "            direction='horizontal',\n",
    "            titleAnchor='middle'\n",
    "        )\n",
    "    )\n",
    ").properties(\n",
    "    title = 'f',\n",
    "    width=280\n",
    ")\n",
    "\n",
    "cross_country_ratio\n",
    "\n",
    "cross_type_ratio = alt.Chart(cross_type).mark_line().encode(\n",
    "    x = alt.X('year', title='Year'),\n",
    "    y = alt.Y(\n",
    "        'ratio',\n",
    "        title = ratio_wording\n",
    "    ),\n",
    "    color = alt.Color(\n",
    "        'type',\n",
    "        title = 'Cross-type',\n",
    "#         sort = ['Yes', 'No'],\n",
    "        scale=alt.Scale(domain=['No', 'Yes'],\n",
    "                      range=['purple', 'green']),\n",
    "        legend=alt.Legend(\n",
    "            orient='none',\n",
    "            legendX=90, legendY=-40,\n",
    "            direction='horizontal',\n",
    "            titleAnchor='middle'\n",
    "        )\n",
    "    )\n",
    ").properties(\n",
    "    title = 'g',\n",
    "    width=280\n",
    ")\n",
    "\n",
    "cross_type_ratio\n",
    "\n",
    "cross_country_count = alt.Chart(cross_country).mark_line(\n",
    ").encode(\n",
    "    x = alt.X('year', title='Year'),\n",
    "    y = alt.Y(\n",
    "        'count',\n",
    "        title = 'Number of publications'\n",
    "    ),\n",
    "    color = alt.Color(\n",
    "        'type',\n",
    "        title = 'Cross-country',\n",
    "        scale=alt.Scale(domain=['No', 'Yes'],\n",
    "                      range=['orange', 'steelblue']),\n",
    "        legend=alt.Legend(\n",
    "            orient='none',\n",
    "            legendX=0, legendY=-40,\n",
    "            direction='horizontal',\n",
    "            titleAnchor='middle'\n",
    "    )\n",
    "))\n",
    "\n",
    "cross_country_count \n",
    "\n",
    "cross_type_count = alt.Chart(cross_type).mark_line(\n",
    "    point={\n",
    "      \"filled\": False,\n",
    "      \"fill\": \"white\"\n",
    "    },\n",
    "    strokeDash=[1,2]\n",
    ").encode(\n",
    "    x = alt.X('year', title='Year'),\n",
    "    y = alt.Y(\n",
    "        'count',\n",
    "        title = 'Number of publications'\n",
    "    ),\n",
    "    color = alt.Color(\n",
    "        'type',\n",
    "        title = 'Cross-type',\n",
    "        sort = ['Yes', 'No'],\n",
    "        scale=alt.Scale(domain=['No', 'Yes'],\n",
    "                      range=['purple', 'green']),\n",
    "        legend=alt.Legend(\n",
    "            orient='none',\n",
    "            legendX=180, legendY=-40,\n",
    "            direction='horizontal',\n",
    "            titleAnchor='middle'\n",
    "    )),\n",
    ")\n",
    "\n",
    "cross_type_count\n",
    "\n",
    "count_compare = alt.layer(\n",
    "    cross_type_count,\n",
    "    cross_country_count\n",
    ").resolve_scale(\n",
    "    color='independent'\n",
    ").properties(\n",
    "    title = 'h',\n",
    "    width=280\n",
    ")\n",
    "\n",
    "count_compare\n",
    "\n",
    "trends2 = alt.hconcat(\n",
    "    citation_ratio_compare,\n",
    "    cross_country_ratio,\n",
    "    cross_type_ratio,\n",
    "    count_compare\n",
    ").resolve_scale(\n",
    "    color = 'independent'\n",
    ").configure_axis(\n",
    "    labelFontSize=15,\n",
    "    titleFontSize=20\n",
    ").configure_legend(\n",
    "    titleFontSize=16,\n",
    "    labelFontSize=16\n",
    ").configure_title(\n",
    "    anchor='start',\n",
    "    fontSize=22)\n",
    "\n",
    "trends2"
   ]
  },
  {
   "cell_type": "code",
   "execution_count": 63,
   "id": "ffd053a2",
   "metadata": {},
   "outputs": [],
   "source": [
    "# f, axs = plt.subplots(1,4,\n",
    "#                       figsize=(20, 5),\n",
    "#                       sharex=False,\n",
    "#                       sharey=False,\n",
    "#                       gridspec_kw=dict(width_ratios=[1,1,1,1]))\n",
    "# sns.set_style(\"whitegrid\")\n",
    "# sns.set_palette('Set1')\n",
    "# # sns.set_palette('bright')\n",
    "\n",
    "# # sns.set(font_scale=1.5)\n",
    "\n",
    "# ## Number of publications by year\n",
    "# g0 = sns.lineplot(\n",
    "#     x = 'Year', \n",
    "#     y = 'Number of Publications', \n",
    "#     data = pub_num_df,\n",
    "#     ax = axs[0]\n",
    "# )\n",
    "# g0.set_ylim(0,)\n",
    "# g0.text(-0.1, 1.1, 'A', transform=g0.transAxes, \n",
    "#             size=20, weight='bold')\n",
    "\n",
    "\n",
    "# # Number of unique authors by year\n",
    "# g1 = sns.lineplot(x = 'Year', \n",
    "#                  y= 'Number of Unique Authors', \n",
    "#                  data = unique_author_num_df,\n",
    "#                  ax = axs[1]\n",
    "#                 )\n",
    "# g1.set_ylim(0,)\n",
    "# g1.text(-0.1, 1.1, 'B', transform=g1.transAxes, \n",
    "#             size=20, weight='bold')\n",
    "\n",
    "# # cross-country\n",
    "# g2 = sns.lineplot(x='year',\n",
    "#                  y='ratio',\n",
    "#                  hue='type', \n",
    "#                  data = cross_country,\n",
    "#                  ax = axs[2],\n",
    "#                 )\n",
    "# g2.legend(title = 'Cross-country')\n",
    "# g2.set_xlabel('Year')\n",
    "# g2.set_ylabel('Ratio')\n",
    "# g2.text(-0.1, 1.1, 'C', transform=g2.transAxes, \n",
    "#             size=20, weight='bold')\n",
    "\n",
    "# # cross-type\n",
    "# g3 = sns.lineplot(x='year',\n",
    "#                  y='ratio',\n",
    "#                  hue='type', \n",
    "#                  data = cross_type,\n",
    "#                  ax = axs[3]\n",
    "#                 )\n",
    "# g3.legend(title = 'Cross-type')\n",
    "# g3.set_xlabel('Year')\n",
    "# g3.set_ylabel('Ratio')\n",
    "# g3.text(-0.1, 1.1, 'D', transform=g3.transAxes, \n",
    "#             size=20, weight='bold')\n",
    "\n",
    "# # # Citations from vis and non-vis papers\n",
    "# # plt.subplot(1,5,5)\n",
    "# # plt.stackplot(range(1990, 2022), \n",
    "# #               to_plot_stackarea, \n",
    "# #               labels=['Non-VIS', 'VIS'],\n",
    "# #              )\n",
    "# # plt.legend(title= 'Papers citing VIS', loc='upper left')\n",
    "# # plt.xlabel('Year')\n",
    "# # plt.ylabel('Number of Publications')\n",
    "\n",
    "# # plt.show()\n",
    "# f.tight_layout()\n",
    "# f.savefig('../results/figures/trends.png', dpi = 200)"
   ]
  }
 ],
 "metadata": {
  "kernelspec": {
   "display_name": "Python 3 (ipykernel)",
   "language": "python",
   "name": "python3"
  },
  "language_info": {
   "codemirror_mode": {
    "name": "ipython",
    "version": 3
   },
   "file_extension": ".py",
   "mimetype": "text/x-python",
   "name": "python",
   "nbconvert_exporter": "python",
   "pygments_lexer": "ipython3",
   "version": "3.8.12"
  }
 },
 "nbformat": 4,
 "nbformat_minor": 5
}
