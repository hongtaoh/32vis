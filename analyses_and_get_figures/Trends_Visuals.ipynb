{
 "cells": [
  {
   "cell_type": "markdown",
   "id": "8f8dc678",
   "metadata": {},
   "source": [
    "This notebook contains codes to produce plots in General Trends section. "
   ]
  },
  {
   "cell_type": "code",
   "execution_count": 69,
   "id": "3e4cae91",
   "metadata": {},
   "outputs": [],
   "source": [
    "import pandas as pd\n",
    "import matplotlib.pyplot as plt\n",
    "from collections import Counter\n",
    "import seaborn as sns\n",
    "import matplotlib\n",
    "font = {'family' : 'Arial',\n",
    "        'weight' : 'normal',\n",
    "        'size'   : 14}\n",
    "matplotlib.rc('font', **font)\n",
    "# matplotlib.rcParams['figure.dpi']= 200\n",
    "import altair as alt\n",
    "pd.set_option('display.max_rows', 500)\n",
    "import numpy as np\n",
    "import plotnine as p9\n",
    "from plotnine import ggplot, geom_point, aes, stat_smooth, facet_wrap\n",
    "import selenium"
   ]
  },
  {
   "cell_type": "code",
   "execution_count": 70,
   "id": "0971910b",
   "metadata": {},
   "outputs": [],
   "source": [
    "author = pd.read_csv('../data/ht_class/ht_cleaned_author_df.csv')\n",
    "paper = pd.read_csv('../data/ht_class/ht_cleaned_paper_df.csv')"
   ]
  },
  {
   "cell_type": "code",
   "execution_count": 71,
   "id": "00569b4d",
   "metadata": {},
   "outputs": [
    {
     "data": {
      "text/html": [
       "<svg  width=\"550\" height=\"55\"><rect x=\"0\" y=\"0\" width=\"55\" height=\"55\" style=\"fill:#1f77b4;stroke-width:2;stroke:rgb(255,255,255)\"/><rect x=\"55\" y=\"0\" width=\"55\" height=\"55\" style=\"fill:#ff7f0e;stroke-width:2;stroke:rgb(255,255,255)\"/><rect x=\"110\" y=\"0\" width=\"55\" height=\"55\" style=\"fill:#2ca02c;stroke-width:2;stroke:rgb(255,255,255)\"/><rect x=\"165\" y=\"0\" width=\"55\" height=\"55\" style=\"fill:#d62728;stroke-width:2;stroke:rgb(255,255,255)\"/><rect x=\"220\" y=\"0\" width=\"55\" height=\"55\" style=\"fill:#9467bd;stroke-width:2;stroke:rgb(255,255,255)\"/><rect x=\"275\" y=\"0\" width=\"55\" height=\"55\" style=\"fill:#8c564b;stroke-width:2;stroke:rgb(255,255,255)\"/><rect x=\"330\" y=\"0\" width=\"55\" height=\"55\" style=\"fill:#e377c2;stroke-width:2;stroke:rgb(255,255,255)\"/><rect x=\"385\" y=\"0\" width=\"55\" height=\"55\" style=\"fill:#7f7f7f;stroke-width:2;stroke:rgb(255,255,255)\"/><rect x=\"440\" y=\"0\" width=\"55\" height=\"55\" style=\"fill:#bcbd22;stroke-width:2;stroke:rgb(255,255,255)\"/><rect x=\"495\" y=\"0\" width=\"55\" height=\"55\" style=\"fill:#17becf;stroke-width:2;stroke:rgb(255,255,255)\"/></svg>"
      ],
      "text/plain": [
       "[(0.12156862745098039, 0.4666666666666667, 0.7058823529411765),\n",
       " (1.0, 0.4980392156862745, 0.054901960784313725),\n",
       " (0.17254901960784313, 0.6274509803921569, 0.17254901960784313),\n",
       " (0.8392156862745098, 0.15294117647058825, 0.1568627450980392),\n",
       " (0.5803921568627451, 0.403921568627451, 0.7411764705882353),\n",
       " (0.5490196078431373, 0.33725490196078434, 0.29411764705882354),\n",
       " (0.8901960784313725, 0.4666666666666667, 0.7607843137254902),\n",
       " (0.4980392156862745, 0.4980392156862745, 0.4980392156862745),\n",
       " (0.7372549019607844, 0.7411764705882353, 0.13333333333333333),\n",
       " (0.09019607843137255, 0.7450980392156863, 0.8117647058823529)]"
      ]
     },
     "execution_count": 71,
     "metadata": {},
     "output_type": "execute_result"
    }
   ],
   "source": [
    "colors = [\n",
    "    \"#1f77b4\",\n",
    "    \"#ff7f0e\",\n",
    "    \"#2ca02c\",\n",
    "    \"#d62728\",\n",
    "    \"#9467bd\",\n",
    "    \"#8c564b\",\n",
    "    \"#e377c2\",\n",
    "    \"#7f7f7f\",\n",
    "    \"#bcbd22\",\n",
    "    \"#17becf\",\n",
    "]\n",
    "sns.color_palette(colors)"
   ]
  },
  {
   "cell_type": "markdown",
   "id": "c84ba6cd",
   "metadata": {},
   "source": [
    "### Tracks"
   ]
  },
  {
   "cell_type": "code",
   "execution_count": 72,
   "id": "8c7f23b6",
   "metadata": {},
   "outputs": [],
   "source": [
    "dic = dict(Counter(paper[paper.Year < 2021].Conference))\n",
    "conf_df = pd.DataFrame(\n",
    "    dic.items(), \n",
    "    columns = ['Conference track', 'Number of publications'])\n",
    "conf_df.sort_values(by='Number of publications', inplace = True)"
   ]
  },
  {
   "cell_type": "code",
   "execution_count": 73,
   "id": "b88a38e9",
   "metadata": {},
   "outputs": [
    {
     "data": {
      "text/html": [
       "<div>\n",
       "<style scoped>\n",
       "    .dataframe tbody tr th:only-of-type {\n",
       "        vertical-align: middle;\n",
       "    }\n",
       "\n",
       "    .dataframe tbody tr th {\n",
       "        vertical-align: top;\n",
       "    }\n",
       "\n",
       "    .dataframe thead th {\n",
       "        text-align: right;\n",
       "    }\n",
       "</style>\n",
       "<table border=\"1\" class=\"dataframe\">\n",
       "  <thead>\n",
       "    <tr style=\"text-align: right;\">\n",
       "      <th></th>\n",
       "      <th>Conference track</th>\n",
       "      <th>Number of publications</th>\n",
       "    </tr>\n",
       "  </thead>\n",
       "  <tbody>\n",
       "    <tr>\n",
       "      <th>3</th>\n",
       "      <td>SciVis</td>\n",
       "      <td>290</td>\n",
       "    </tr>\n",
       "    <tr>\n",
       "      <th>2</th>\n",
       "      <td>VAST</td>\n",
       "      <td>572</td>\n",
       "    </tr>\n",
       "    <tr>\n",
       "      <th>0</th>\n",
       "      <td>InfoVis</td>\n",
       "      <td>834</td>\n",
       "    </tr>\n",
       "    <tr>\n",
       "      <th>1</th>\n",
       "      <td>Vis</td>\n",
       "      <td>1368</td>\n",
       "    </tr>\n",
       "  </tbody>\n",
       "</table>\n",
       "</div>"
      ],
      "text/plain": [
       "  Conference track  Number of publications\n",
       "3           SciVis                     290\n",
       "2             VAST                     572\n",
       "0          InfoVis                     834\n",
       "1              Vis                    1368"
      ]
     },
     "execution_count": 73,
     "metadata": {},
     "output_type": "execute_result"
    }
   ],
   "source": [
    "conf_df"
   ]
  },
  {
   "cell_type": "code",
   "execution_count": 74,
   "id": "34c4893f",
   "metadata": {},
   "outputs": [
    {
     "data": {
      "image/png": "[encoded data removed]",
      "text/plain": [
       "<Figure size 432x288 with 1 Axes>"
      ]
     },
     "metadata": {
      "needs_background": "light"
     },
     "output_type": "display_data"
    }
   ],
   "source": [
    "sns.color_palette(colors)\n",
    "sns.countplot(x = 'Conference', data = paper)\n",
    "plt.grid(axis = 'y')"
   ]
  },
  {
   "cell_type": "code",
   "execution_count": 75,
   "id": "7d99284e",
   "metadata": {},
   "outputs": [
    {
     "data": {
      "text/html": [
       "\n",
       "<div id=\"altair-viz-a61d9c0f95b446c2b5abcba34e4146b9\"></div>\n",
       "<script type=\"text/javascript\">\n",
       "  var VEGA_DEBUG = (typeof VEGA_DEBUG == \"undefined\") ? {} : VEGA_DEBUG;\n",
       "  (function(spec, embedOpt){\n",
       "    let outputDiv = document.currentScript.previousElementSibling;\n",
       "    if (outputDiv.id !== \"altair-viz-a61d9c0f95b446c2b5abcba34e4146b9\") {\n",
       "      outputDiv = document.getElementById(\"altair-viz-a61d9c0f95b446c2b5abcba34e4146b9\");\n",
       "    }\n",
       "    const paths = {\n",
       "      \"vega\": \"https://cdn.jsdelivr.net/npm//vega@5?noext\",\n",
       "      \"vega-lib\": \"https://cdn.jsdelivr.net/npm//vega-lib?noext\",\n",
       "      \"vega-lite\": \"https://cdn.jsdelivr.net/npm//vega-lite@4.17.0?noext\",\n",
       "      \"vega-embed\": \"https://cdn.jsdelivr.net/npm//vega-embed@6?noext\",\n",
       "    };\n",
       "\n",
       "    function maybeLoadScript(lib, version) {\n",
       "      var key = `${lib.replace(\"-\", \"\")}_version`;\n",
       "      return (VEGA_DEBUG[key] == version) ?\n",
       "        Promise.resolve(paths[lib]) :\n",
       "        new Promise(function(resolve, reject) {\n",
       "          var s = document.createElement('script');\n",
       "          document.getElementsByTagName(\"head\")[0].appendChild(s);\n",
       "          s.async = true;\n",
       "          s.onload = () => {\n",
       "            VEGA_DEBUG[key] = version;\n",
       "            return resolve(paths[lib]);\n",
       "          };\n",
       "          s.onerror = () => reject(`Error loading script: ${paths[lib]}`);\n",
       "          s.src = paths[lib];\n",
       "        });\n",
       "    }\n",
       "\n",
       "    function showError(err) {\n",
       "      outputDiv.innerHTML = `<div class=\"error\" style=\"color:red;\">${err}</div>`;\n",
       "      throw err;\n",
       "    }\n",
       "\n",
       "    function displayChart(vegaEmbed) {\n",
       "      vegaEmbed(outputDiv, spec, embedOpt)\n",
       "        .catch(err => showError(`Javascript Error: ${err.message}<br>This usually means there's a typo in your chart specification. See the javascript console for the full traceback.`));\n",
       "    }\n",
       "\n",
       "    if(typeof define === \"function\" && define.amd) {\n",
       "      requirejs.config({paths});\n",
       "      require([\"vega-embed\"], displayChart, err => showError(`Error loading script: ${err.message}`));\n",
       "    } else {\n",
       "      maybeLoadScript(\"vega\", \"5\")\n",
       "        .then(() => maybeLoadScript(\"vega-lite\", \"4.17.0\"))\n",
       "        .then(() => maybeLoadScript(\"vega-embed\", \"6\"))\n",
       "        .catch(showError)\n",
       "        .then(() => displayChart(vegaEmbed));\n",
       "    }\n",
       "  })({\"config\": {\"view\": {\"continuousWidth\": 400, \"continuousHeight\": 300}}, \"data\": {\"name\": \"data-c46cfe1b5eed49c06316254cf03684f7\"}, \"mark\": \"bar\", \"encoding\": {\"color\": {\"field\": \"Conference track\", \"type\": \"nominal\"}, \"x\": {\"field\": \"Conference track\", \"sort\": [\"VIS\", \"SciVis\", \"VAST\", \"InfoVis\", \"Vis\"], \"type\": \"nominal\"}, \"y\": {\"field\": \"Number of publications\", \"type\": \"quantitative\"}}, \"$schema\": \"https://vega.github.io/schema/vega-lite/v4.17.0.json\", \"datasets\": {\"data-c46cfe1b5eed49c06316254cf03684f7\": [{\"Conference track\": \"SciVis\", \"Number of publications\": 290}, {\"Conference track\": \"VAST\", \"Number of publications\": 572}, {\"Conference track\": \"InfoVis\", \"Number of publications\": 834}, {\"Conference track\": \"Vis\", \"Number of publications\": 1368}]}}, {\"mode\": \"vega-lite\"});\n",
       "</script>"
      ],
      "text/plain": [
       "alt.Chart(...)"
      ]
     },
     "execution_count": 75,
     "metadata": {},
     "output_type": "execute_result"
    }
   ],
   "source": [
    "alt.Chart(conf_df).mark_bar().encode(\n",
    "    x = alt.X(\n",
    "        'Conference track',\n",
    "        sort = [\n",
    "            'VIS',\n",
    "            'SciVis',\n",
    "            'VAST',\n",
    "            'InfoVis',\n",
    "            'Vis',\n",
    "        ]\n",
    "    ),\n",
    "    y = 'Number of publications',\n",
    "    color = 'Conference track'\n",
    ")"
   ]
  },
  {
   "cell_type": "markdown",
   "id": "42e9ac39",
   "metadata": {},
   "source": [
    "### Number of publications by year"
   ]
  },
  {
   "cell_type": "code",
   "execution_count": 76,
   "id": "9fb3665c",
   "metadata": {},
   "outputs": [
    {
     "data": {
      "text/html": [
       "<div>\n",
       "<style scoped>\n",
       "    .dataframe tbody tr th:only-of-type {\n",
       "        vertical-align: middle;\n",
       "    }\n",
       "\n",
       "    .dataframe tbody tr th {\n",
       "        vertical-align: top;\n",
       "    }\n",
       "\n",
       "    .dataframe thead th {\n",
       "        text-align: right;\n",
       "    }\n",
       "</style>\n",
       "<table border=\"1\" class=\"dataframe\">\n",
       "  <thead>\n",
       "    <tr style=\"text-align: right;\">\n",
       "      <th></th>\n",
       "      <th>Year</th>\n",
       "      <th>Number of Publications</th>\n",
       "    </tr>\n",
       "  </thead>\n",
       "  <tbody>\n",
       "    <tr>\n",
       "      <th>0</th>\n",
       "      <td>1990-01-01</td>\n",
       "      <td>52</td>\n",
       "    </tr>\n",
       "    <tr>\n",
       "      <th>1</th>\n",
       "      <td>1991-01-01</td>\n",
       "      <td>48</td>\n",
       "    </tr>\n",
       "    <tr>\n",
       "      <th>2</th>\n",
       "      <td>1992-01-01</td>\n",
       "      <td>51</td>\n",
       "    </tr>\n",
       "    <tr>\n",
       "      <th>3</th>\n",
       "      <td>1993-01-01</td>\n",
       "      <td>55</td>\n",
       "    </tr>\n",
       "    <tr>\n",
       "      <th>4</th>\n",
       "      <td>1994-01-01</td>\n",
       "      <td>52</td>\n",
       "    </tr>\n",
       "  </tbody>\n",
       "</table>\n",
       "</div>"
      ],
      "text/plain": [
       "        Year  Number of Publications\n",
       "0 1990-01-01                      52\n",
       "1 1991-01-01                      48\n",
       "2 1992-01-01                      51\n",
       "3 1993-01-01                      55\n",
       "4 1994-01-01                      52"
      ]
     },
     "execution_count": 76,
     "metadata": {},
     "output_type": "execute_result"
    }
   ],
   "source": [
    "pub_num_df = paper.groupby(\n",
    "    'Year').size().reset_index(name = 'Number of Publications')\n",
    "pub_num_df['Year'] = pd.to_datetime(\n",
    "    pub_num_df['Year'], format=\"%Y\"\n",
    ")\n",
    "pub_num_df.head()"
   ]
  },
  {
   "cell_type": "code",
   "execution_count": 77,
   "id": "0ea279d9",
   "metadata": {
    "scrolled": true
   },
   "outputs": [
    {
     "data": {
      "text/html": [
       "<div>\n",
       "<style scoped>\n",
       "    .dataframe tbody tr th:only-of-type {\n",
       "        vertical-align: middle;\n",
       "    }\n",
       "\n",
       "    .dataframe tbody tr th {\n",
       "        vertical-align: top;\n",
       "    }\n",
       "\n",
       "    .dataframe thead th {\n",
       "        text-align: right;\n",
       "    }\n",
       "</style>\n",
       "<table border=\"1\" class=\"dataframe\">\n",
       "  <thead>\n",
       "    <tr style=\"text-align: right;\">\n",
       "      <th></th>\n",
       "      <th>Year</th>\n",
       "      <th>Number of Publications</th>\n",
       "    </tr>\n",
       "  </thead>\n",
       "  <tbody>\n",
       "    <tr>\n",
       "      <th>27</th>\n",
       "      <td>2017-01-01</td>\n",
       "      <td>114</td>\n",
       "    </tr>\n",
       "    <tr>\n",
       "      <th>28</th>\n",
       "      <td>2018-01-01</td>\n",
       "      <td>127</td>\n",
       "    </tr>\n",
       "    <tr>\n",
       "      <th>29</th>\n",
       "      <td>2019-01-01</td>\n",
       "      <td>129</td>\n",
       "    </tr>\n",
       "    <tr>\n",
       "      <th>30</th>\n",
       "      <td>2020-01-01</td>\n",
       "      <td>157</td>\n",
       "    </tr>\n",
       "    <tr>\n",
       "      <th>31</th>\n",
       "      <td>2021-01-01</td>\n",
       "      <td>169</td>\n",
       "    </tr>\n",
       "  </tbody>\n",
       "</table>\n",
       "</div>"
      ],
      "text/plain": [
       "         Year  Number of Publications\n",
       "27 2017-01-01                     114\n",
       "28 2018-01-01                     127\n",
       "29 2019-01-01                     129\n",
       "30 2020-01-01                     157\n",
       "31 2021-01-01                     169"
      ]
     },
     "execution_count": 77,
     "metadata": {},
     "output_type": "execute_result"
    }
   ],
   "source": [
    "pub_num_df.tail()"
   ]
  },
  {
   "cell_type": "code",
   "execution_count": 78,
   "id": "c942eac6",
   "metadata": {},
   "outputs": [
    {
     "data": {
      "image/png": "[encoded data removed]",
      "text/plain": [
       "<Figure size 432x288 with 1 Axes>"
      ]
     },
     "metadata": {
      "needs_background": "light"
     },
     "output_type": "display_data"
    }
   ],
   "source": [
    "g = sns.lineplot(x = 'Year', y = 'Number of Publications', data = pub_num_df)\n",
    "g.set_ylim(0,)\n",
    "plt.grid()"
   ]
  },
  {
   "cell_type": "code",
   "execution_count": 79,
   "id": "e6a92d98",
   "metadata": {},
   "outputs": [
    {
     "data": {
      "text/html": [
       "\n",
       "<div id=\"altair-viz-68fef17e4c634a1590b6b81aa324990b\"></div>\n",
       "<script type=\"text/javascript\">\n",
       "  var VEGA_DEBUG = (typeof VEGA_DEBUG == \"undefined\") ? {} : VEGA_DEBUG;\n",
       "  (function(spec, embedOpt){\n",
       "    let outputDiv = document.currentScript.previousElementSibling;\n",
       "    if (outputDiv.id !== \"altair-viz-68fef17e4c634a1590b6b81aa324990b\") {\n",
       "      outputDiv = document.getElementById(\"altair-viz-68fef17e4c634a1590b6b81aa324990b\");\n",
       "    }\n",
       "    const paths = {\n",
       "      \"vega\": \"https://cdn.jsdelivr.net/npm//vega@5?noext\",\n",
       "      \"vega-lib\": \"https://cdn.jsdelivr.net/npm//vega-lib?noext\",\n",
       "      \"vega-lite\": \"https://cdn.jsdelivr.net/npm//vega-lite@4.17.0?noext\",\n",
       "      \"vega-embed\": \"https://cdn.jsdelivr.net/npm//vega-embed@6?noext\",\n",
       "    };\n",
       "\n",
       "    function maybeLoadScript(lib, version) {\n",
       "      var key = `${lib.replace(\"-\", \"\")}_version`;\n",
       "      return (VEGA_DEBUG[key] == version) ?\n",
       "        Promise.resolve(paths[lib]) :\n",
       "        new Promise(function(resolve, reject) {\n",
       "          var s = document.createElement('script');\n",
       "          document.getElementsByTagName(\"head\")[0].appendChild(s);\n",
       "          s.async = true;\n",
       "          s.onload = () => {\n",
       "            VEGA_DEBUG[key] = version;\n",
       "            return resolve(paths[lib]);\n",
       "          };\n",
       "          s.onerror = () => reject(`Error loading script: ${paths[lib]}`);\n",
       "          s.src = paths[lib];\n",
       "        });\n",
       "    }\n",
       "\n",
       "    function showError(err) {\n",
       "      outputDiv.innerHTML = `<div class=\"error\" style=\"color:red;\">${err}</div>`;\n",
       "      throw err;\n",
       "    }\n",
       "\n",
       "    function displayChart(vegaEmbed) {\n",
       "      vegaEmbed(outputDiv, spec, embedOpt)\n",
       "        .catch(err => showError(`Javascript Error: ${err.message}<br>This usually means there's a typo in your chart specification. See the javascript console for the full traceback.`));\n",
       "    }\n",
       "\n",
       "    if(typeof define === \"function\" && define.amd) {\n",
       "      requirejs.config({paths});\n",
       "      require([\"vega-embed\"], displayChart, err => showError(`Error loading script: ${err.message}`));\n",
       "    } else {\n",
       "      maybeLoadScript(\"vega\", \"5\")\n",
       "        .then(() => maybeLoadScript(\"vega-lite\", \"4.17.0\"))\n",
       "        .then(() => maybeLoadScript(\"vega-embed\", \"6\"))\n",
       "        .catch(showError)\n",
       "        .then(() => displayChart(vegaEmbed));\n",
       "    }\n",
       "  })({\"config\": {\"view\": {\"continuousWidth\": 400, \"continuousHeight\": 300}}, \"data\": {\"name\": \"data-b7f3aaa84c9a378b397f1bfa51787558\"}, \"mark\": \"line\", \"encoding\": {\"x\": {\"field\": \"Year\", \"type\": \"temporal\"}, \"y\": {\"field\": \"Number of Publications\", \"title\": \"Number of publications\", \"type\": \"quantitative\"}}, \"$schema\": \"https://vega.github.io/schema/vega-lite/v4.17.0.json\", \"datasets\": {\"data-b7f3aaa84c9a378b397f1bfa51787558\": [{\"Year\": \"1990-01-01T00:00:00\", \"Number of Publications\": 52}, {\"Year\": \"1991-01-01T00:00:00\", \"Number of Publications\": 48}, {\"Year\": \"1992-01-01T00:00:00\", \"Number of Publications\": 51}, {\"Year\": \"1993-01-01T00:00:00\", \"Number of Publications\": 55}, {\"Year\": \"1994-01-01T00:00:00\", \"Number of Publications\": 52}, {\"Year\": \"1995-01-01T00:00:00\", \"Number of Publications\": 74}, {\"Year\": \"1996-01-01T00:00:00\", \"Number of Publications\": 77}, {\"Year\": \"1997-01-01T00:00:00\", \"Number of Publications\": 88}, {\"Year\": \"1998-01-01T00:00:00\", \"Number of Publications\": 90}, {\"Year\": \"1999-01-01T00:00:00\", \"Number of Publications\": 88}, {\"Year\": \"2000-01-01T00:00:00\", \"Number of Publications\": 92}, {\"Year\": \"2001-01-01T00:00:00\", \"Number of Publications\": 96}, {\"Year\": \"2002-01-01T00:00:00\", \"Number of Publications\": 101}, {\"Year\": \"2003-01-01T00:00:00\", \"Number of Publications\": 102}, {\"Year\": \"2004-01-01T00:00:00\", \"Number of Publications\": 97}, {\"Year\": \"2005-01-01T00:00:00\", \"Number of Publications\": 119}, {\"Year\": \"2006-01-01T00:00:00\", \"Number of Publications\": 113}, {\"Year\": \"2007-01-01T00:00:00\", \"Number of Publications\": 107}, {\"Year\": \"2008-01-01T00:00:00\", \"Number of Publications\": 99}, {\"Year\": \"2009-01-01T00:00:00\", \"Number of Publications\": 117}, {\"Year\": \"2010-01-01T00:00:00\", \"Number of Publications\": 109}, {\"Year\": \"2011-01-01T00:00:00\", \"Number of Publications\": 119}, {\"Year\": \"2012-01-01T00:00:00\", \"Number of Publications\": 116}, {\"Year\": \"2013-01-01T00:00:00\", \"Number of Publications\": 101}, {\"Year\": \"2014-01-01T00:00:00\", \"Number of Publications\": 132}, {\"Year\": \"2015-01-01T00:00:00\", \"Number of Publications\": 127}, {\"Year\": \"2016-01-01T00:00:00\", \"Number of Publications\": 115}, {\"Year\": \"2017-01-01T00:00:00\", \"Number of Publications\": 114}, {\"Year\": \"2018-01-01T00:00:00\", \"Number of Publications\": 127}, {\"Year\": \"2019-01-01T00:00:00\", \"Number of Publications\": 129}, {\"Year\": \"2020-01-01T00:00:00\", \"Number of Publications\": 157}, {\"Year\": \"2021-01-01T00:00:00\", \"Number of Publications\": 169}]}}, {\"mode\": \"vega-lite\"});\n",
       "</script>"
      ],
      "text/plain": [
       "alt.Chart(...)"
      ]
     },
     "execution_count": 79,
     "metadata": {},
     "output_type": "execute_result"
    }
   ],
   "source": [
    "pub_num = alt.Chart(pub_num_df).mark_line().encode(\n",
    "    x = 'Year',\n",
    "    y = alt.Y(\n",
    "        'Number of Publications',\n",
    "        title = 'Number of publications'\n",
    "    )\n",
    ")\n",
    "\n",
    "pub_num"
   ]
  },
  {
   "cell_type": "code",
   "execution_count": 80,
   "id": "cf521a1c",
   "metadata": {},
   "outputs": [],
   "source": [
    "# (ggplot(pub_num_df, aes('Year', 'Number of Publications'))\n",
    "#  + p9.theme_bw()\n",
    "#  + p9.geom_line() \n",
    "# )"
   ]
  },
  {
   "cell_type": "markdown",
   "id": "c9dcdf7e",
   "metadata": {},
   "source": [
    "### Number of unique authors"
   ]
  },
  {
   "cell_type": "code",
   "execution_count": 81,
   "id": "6a7720df",
   "metadata": {},
   "outputs": [
    {
     "data": {
      "text/plain": [
       "101"
      ]
     },
     "execution_count": 81,
     "metadata": {},
     "output_type": "execute_result"
    }
   ],
   "source": [
    "# how many rows miss openalex author id\n",
    "author[author['OpenAlex Author ID'].isnull()].shape[0]"
   ]
  },
  {
   "cell_type": "code",
   "execution_count": 82,
   "id": "d9e673ed",
   "metadata": {},
   "outputs": [],
   "source": [
    "author_with_author_id = author[\n",
    "    author['OpenAlex Author ID'].notnull()]"
   ]
  },
  {
   "cell_type": "code",
   "execution_count": 83,
   "id": "4b7f4338",
   "metadata": {},
   "outputs": [
    {
     "data": {
      "text/html": [
       "<div>\n",
       "<style scoped>\n",
       "    .dataframe tbody tr th:only-of-type {\n",
       "        vertical-align: middle;\n",
       "    }\n",
       "\n",
       "    .dataframe tbody tr th {\n",
       "        vertical-align: top;\n",
       "    }\n",
       "\n",
       "    .dataframe thead th {\n",
       "        text-align: right;\n",
       "    }\n",
       "</style>\n",
       "<table border=\"1\" class=\"dataframe\">\n",
       "  <thead>\n",
       "    <tr style=\"text-align: right;\">\n",
       "      <th></th>\n",
       "      <th>Year</th>\n",
       "      <th>Number of Unique Authors</th>\n",
       "    </tr>\n",
       "  </thead>\n",
       "  <tbody>\n",
       "    <tr>\n",
       "      <th>0</th>\n",
       "      <td>1990-01-01</td>\n",
       "      <td>118</td>\n",
       "    </tr>\n",
       "    <tr>\n",
       "      <th>1</th>\n",
       "      <td>1991-01-01</td>\n",
       "      <td>120</td>\n",
       "    </tr>\n",
       "    <tr>\n",
       "      <th>2</th>\n",
       "      <td>1992-01-01</td>\n",
       "      <td>119</td>\n",
       "    </tr>\n",
       "    <tr>\n",
       "      <th>3</th>\n",
       "      <td>1993-01-01</td>\n",
       "      <td>116</td>\n",
       "    </tr>\n",
       "    <tr>\n",
       "      <th>4</th>\n",
       "      <td>1994-01-01</td>\n",
       "      <td>127</td>\n",
       "    </tr>\n",
       "  </tbody>\n",
       "</table>\n",
       "</div>"
      ],
      "text/plain": [
       "        Year  Number of Unique Authors\n",
       "0 1990-01-01                       118\n",
       "1 1991-01-01                       120\n",
       "2 1992-01-01                       119\n",
       "3 1993-01-01                       116\n",
       "4 1994-01-01                       127"
      ]
     },
     "execution_count": 83,
     "metadata": {},
     "output_type": "execute_result"
    }
   ],
   "source": [
    "unique_author_num_df = author_with_author_id.groupby(\n",
    "    'Year')['OpenAlex Author ID'].nunique().reset_index(\n",
    "    name = 'Number of Unique Authors')\n",
    "unique_author_num_df['Year'] = pd.to_datetime(\n",
    "    unique_author_num_df['Year'], format=\"%Y\",\n",
    ")\n",
    "unique_author_num_df.head()"
   ]
  },
  {
   "cell_type": "code",
   "execution_count": 84,
   "id": "99ecb59d",
   "metadata": {},
   "outputs": [
    {
     "data": {
      "text/html": [
       "<div>\n",
       "<style scoped>\n",
       "    .dataframe tbody tr th:only-of-type {\n",
       "        vertical-align: middle;\n",
       "    }\n",
       "\n",
       "    .dataframe tbody tr th {\n",
       "        vertical-align: top;\n",
       "    }\n",
       "\n",
       "    .dataframe thead th {\n",
       "        text-align: right;\n",
       "    }\n",
       "</style>\n",
       "<table border=\"1\" class=\"dataframe\">\n",
       "  <thead>\n",
       "    <tr style=\"text-align: right;\">\n",
       "      <th></th>\n",
       "      <th>Year</th>\n",
       "      <th>Number of Unique Authors</th>\n",
       "    </tr>\n",
       "  </thead>\n",
       "  <tbody>\n",
       "    <tr>\n",
       "      <th>27</th>\n",
       "      <td>2017-01-01</td>\n",
       "      <td>455</td>\n",
       "    </tr>\n",
       "    <tr>\n",
       "      <th>28</th>\n",
       "      <td>2018-01-01</td>\n",
       "      <td>494</td>\n",
       "    </tr>\n",
       "    <tr>\n",
       "      <th>29</th>\n",
       "      <td>2019-01-01</td>\n",
       "      <td>551</td>\n",
       "    </tr>\n",
       "    <tr>\n",
       "      <th>30</th>\n",
       "      <td>2020-01-01</td>\n",
       "      <td>639</td>\n",
       "    </tr>\n",
       "    <tr>\n",
       "      <th>31</th>\n",
       "      <td>2021-01-01</td>\n",
       "      <td>673</td>\n",
       "    </tr>\n",
       "  </tbody>\n",
       "</table>\n",
       "</div>"
      ],
      "text/plain": [
       "         Year  Number of Unique Authors\n",
       "27 2017-01-01                       455\n",
       "28 2018-01-01                       494\n",
       "29 2019-01-01                       551\n",
       "30 2020-01-01                       639\n",
       "31 2021-01-01                       673"
      ]
     },
     "execution_count": 84,
     "metadata": {},
     "output_type": "execute_result"
    }
   ],
   "source": [
    "unique_author_num_df.tail()"
   ]
  },
  {
   "cell_type": "code",
   "execution_count": 85,
   "id": "fc5291c5",
   "metadata": {},
   "outputs": [
    {
     "data": {
      "image/png": "[encoded data removed]",
      "text/plain": [
       "<Figure size 432x288 with 1 Axes>"
      ]
     },
     "metadata": {
      "needs_background": "light"
     },
     "output_type": "display_data"
    }
   ],
   "source": [
    "g = sns.lineplot(x = 'Year', \n",
    "                 y= 'Number of Unique Authors', \n",
    "                 data = unique_author_num_df\n",
    "                )\n",
    "g.set_ylim(0,)\n",
    "plt.grid()"
   ]
  },
  {
   "cell_type": "code",
   "execution_count": 86,
   "id": "91f49774",
   "metadata": {},
   "outputs": [
    {
     "data": {
      "text/html": [
       "\n",
       "<div id=\"altair-viz-83d28930d5bb4f4fbbd16cfd1232995b\"></div>\n",
       "<script type=\"text/javascript\">\n",
       "  var VEGA_DEBUG = (typeof VEGA_DEBUG == \"undefined\") ? {} : VEGA_DEBUG;\n",
       "  (function(spec, embedOpt){\n",
       "    let outputDiv = document.currentScript.previousElementSibling;\n",
       "    if (outputDiv.id !== \"altair-viz-83d28930d5bb4f4fbbd16cfd1232995b\") {\n",
       "      outputDiv = document.getElementById(\"altair-viz-83d28930d5bb4f4fbbd16cfd1232995b\");\n",
       "    }\n",
       "    const paths = {\n",
       "      \"vega\": \"https://cdn.jsdelivr.net/npm//vega@5?noext\",\n",
       "      \"vega-lib\": \"https://cdn.jsdelivr.net/npm//vega-lib?noext\",\n",
       "      \"vega-lite\": \"https://cdn.jsdelivr.net/npm//vega-lite@4.17.0?noext\",\n",
       "      \"vega-embed\": \"https://cdn.jsdelivr.net/npm//vega-embed@6?noext\",\n",
       "    };\n",
       "\n",
       "    function maybeLoadScript(lib, version) {\n",
       "      var key = `${lib.replace(\"-\", \"\")}_version`;\n",
       "      return (VEGA_DEBUG[key] == version) ?\n",
       "        Promise.resolve(paths[lib]) :\n",
       "        new Promise(function(resolve, reject) {\n",
       "          var s = document.createElement('script');\n",
       "          document.getElementsByTagName(\"head\")[0].appendChild(s);\n",
       "          s.async = true;\n",
       "          s.onload = () => {\n",
       "            VEGA_DEBUG[key] = version;\n",
       "            return resolve(paths[lib]);\n",
       "          };\n",
       "          s.onerror = () => reject(`Error loading script: ${paths[lib]}`);\n",
       "          s.src = paths[lib];\n",
       "        });\n",
       "    }\n",
       "\n",
       "    function showError(err) {\n",
       "      outputDiv.innerHTML = `<div class=\"error\" style=\"color:red;\">${err}</div>`;\n",
       "      throw err;\n",
       "    }\n",
       "\n",
       "    function displayChart(vegaEmbed) {\n",
       "      vegaEmbed(outputDiv, spec, embedOpt)\n",
       "        .catch(err => showError(`Javascript Error: ${err.message}<br>This usually means there's a typo in your chart specification. See the javascript console for the full traceback.`));\n",
       "    }\n",
       "\n",
       "    if(typeof define === \"function\" && define.amd) {\n",
       "      requirejs.config({paths});\n",
       "      require([\"vega-embed\"], displayChart, err => showError(`Error loading script: ${err.message}`));\n",
       "    } else {\n",
       "      maybeLoadScript(\"vega\", \"5\")\n",
       "        .then(() => maybeLoadScript(\"vega-lite\", \"4.17.0\"))\n",
       "        .then(() => maybeLoadScript(\"vega-embed\", \"6\"))\n",
       "        .catch(showError)\n",
       "        .then(() => displayChart(vegaEmbed));\n",
       "    }\n",
       "  })({\"config\": {\"view\": {\"continuousWidth\": 400, \"continuousHeight\": 300}}, \"data\": {\"name\": \"data-4ede2a93b1e02636ab017c3e423f7509\"}, \"mark\": \"line\", \"encoding\": {\"x\": {\"field\": \"Year\", \"type\": \"temporal\"}, \"y\": {\"field\": \"Number of Unique Authors\", \"title\": \"Number of unique authors\", \"type\": \"quantitative\"}}, \"$schema\": \"https://vega.github.io/schema/vega-lite/v4.17.0.json\", \"datasets\": {\"data-4ede2a93b1e02636ab017c3e423f7509\": [{\"Year\": \"1990-01-01T00:00:00\", \"Number of Unique Authors\": 118}, {\"Year\": \"1991-01-01T00:00:00\", \"Number of Unique Authors\": 120}, {\"Year\": \"1992-01-01T00:00:00\", \"Number of Unique Authors\": 119}, {\"Year\": \"1993-01-01T00:00:00\", \"Number of Unique Authors\": 116}, {\"Year\": \"1994-01-01T00:00:00\", \"Number of Unique Authors\": 127}, {\"Year\": \"1995-01-01T00:00:00\", \"Number of Unique Authors\": 184}, {\"Year\": \"1996-01-01T00:00:00\", \"Number of Unique Authors\": 227}, {\"Year\": \"1997-01-01T00:00:00\", \"Number of Unique Authors\": 226}, {\"Year\": \"1998-01-01T00:00:00\", \"Number of Unique Authors\": 231}, {\"Year\": \"1999-01-01T00:00:00\", \"Number of Unique Authors\": 244}, {\"Year\": \"2000-01-01T00:00:00\", \"Number of Unique Authors\": 269}, {\"Year\": \"2001-01-01T00:00:00\", \"Number of Unique Authors\": 288}, {\"Year\": \"2002-01-01T00:00:00\", \"Number of Unique Authors\": 270}, {\"Year\": \"2003-01-01T00:00:00\", \"Number of Unique Authors\": 283}, {\"Year\": \"2004-01-01T00:00:00\", \"Number of Unique Authors\": 287}, {\"Year\": \"2005-01-01T00:00:00\", \"Number of Unique Authors\": 366}, {\"Year\": \"2006-01-01T00:00:00\", \"Number of Unique Authors\": 326}, {\"Year\": \"2007-01-01T00:00:00\", \"Number of Unique Authors\": 342}, {\"Year\": \"2008-01-01T00:00:00\", \"Number of Unique Authors\": 335}, {\"Year\": \"2009-01-01T00:00:00\", \"Number of Unique Authors\": 375}, {\"Year\": \"2010-01-01T00:00:00\", \"Number of Unique Authors\": 369}, {\"Year\": \"2011-01-01T00:00:00\", \"Number of Unique Authors\": 412}, {\"Year\": \"2012-01-01T00:00:00\", \"Number of Unique Authors\": 422}, {\"Year\": \"2013-01-01T00:00:00\", \"Number of Unique Authors\": 351}, {\"Year\": \"2014-01-01T00:00:00\", \"Number of Unique Authors\": 502}, {\"Year\": \"2015-01-01T00:00:00\", \"Number of Unique Authors\": 495}, {\"Year\": \"2016-01-01T00:00:00\", \"Number of Unique Authors\": 445}, {\"Year\": \"2017-01-01T00:00:00\", \"Number of Unique Authors\": 455}, {\"Year\": \"2018-01-01T00:00:00\", \"Number of Unique Authors\": 494}, {\"Year\": \"2019-01-01T00:00:00\", \"Number of Unique Authors\": 551}, {\"Year\": \"2020-01-01T00:00:00\", \"Number of Unique Authors\": 639}, {\"Year\": \"2021-01-01T00:00:00\", \"Number of Unique Authors\": 673}]}}, {\"mode\": \"vega-lite\"});\n",
       "</script>"
      ],
      "text/plain": [
       "alt.Chart(...)"
      ]
     },
     "execution_count": 86,
     "metadata": {},
     "output_type": "execute_result"
    }
   ],
   "source": [
    "unique_authors = alt.Chart(unique_author_num_df).mark_line().encode(\n",
    "    x = 'Year',\n",
    "    y = alt.Y(\n",
    "        'Number of Unique Authors',\n",
    "        title = 'Number of unique authors'\n",
    "    )\n",
    ")\n",
    "\n",
    "unique_authors"
   ]
  },
  {
   "cell_type": "code",
   "execution_count": 87,
   "id": "de88a859",
   "metadata": {},
   "outputs": [],
   "source": [
    "# alt.layer(\n",
    "#     pub_num,\n",
    "#     unique_authors\n",
    "# )"
   ]
  },
  {
   "cell_type": "code",
   "execution_count": 88,
   "id": "120cd52c",
   "metadata": {},
   "outputs": [],
   "source": [
    "# (ggplot(unique_author_num_df, aes('Year', 'Number of Unique Authors'))\n",
    "#  + p9.theme_bw()\n",
    "#  + p9.geom_line() \n",
    "# )"
   ]
  },
  {
   "cell_type": "markdown",
   "id": "7ccec819",
   "metadata": {},
   "source": [
    "### Average number of authors"
   ]
  },
  {
   "cell_type": "code",
   "execution_count": 89,
   "id": "77852a1a",
   "metadata": {},
   "outputs": [
    {
     "data": {
      "text/html": [
       "<div>\n",
       "<style scoped>\n",
       "    .dataframe tbody tr th:only-of-type {\n",
       "        vertical-align: middle;\n",
       "    }\n",
       "\n",
       "    .dataframe tbody tr th {\n",
       "        vertical-align: top;\n",
       "    }\n",
       "\n",
       "    .dataframe thead th {\n",
       "        text-align: right;\n",
       "    }\n",
       "</style>\n",
       "<table border=\"1\" class=\"dataframe\">\n",
       "  <thead>\n",
       "    <tr style=\"text-align: right;\">\n",
       "      <th></th>\n",
       "      <th>Year</th>\n",
       "      <th>Number of Authors</th>\n",
       "    </tr>\n",
       "  </thead>\n",
       "  <tbody>\n",
       "    <tr>\n",
       "      <th>27</th>\n",
       "      <td>2017</td>\n",
       "      <td>4.728070</td>\n",
       "    </tr>\n",
       "    <tr>\n",
       "      <th>28</th>\n",
       "      <td>2018</td>\n",
       "      <td>4.629921</td>\n",
       "    </tr>\n",
       "    <tr>\n",
       "      <th>29</th>\n",
       "      <td>2019</td>\n",
       "      <td>5.255814</td>\n",
       "    </tr>\n",
       "    <tr>\n",
       "      <th>30</th>\n",
       "      <td>2020</td>\n",
       "      <td>5.050955</td>\n",
       "    </tr>\n",
       "    <tr>\n",
       "      <th>31</th>\n",
       "      <td>2021</td>\n",
       "      <td>4.988166</td>\n",
       "    </tr>\n",
       "  </tbody>\n",
       "</table>\n",
       "</div>"
      ],
      "text/plain": [
       "    Year  Number of Authors\n",
       "27  2017           4.728070\n",
       "28  2018           4.629921\n",
       "29  2019           5.255814\n",
       "30  2020           5.050955\n",
       "31  2021           4.988166"
      ]
     },
     "execution_count": 89,
     "metadata": {},
     "output_type": "execute_result"
    }
   ],
   "source": [
    "author_num_df = paper.groupby(\n",
    "    'Year')['Number of Authors'].mean().to_frame().reset_index()\n",
    "author_num_df.tail()"
   ]
  },
  {
   "cell_type": "code",
   "execution_count": 90,
   "id": "1ae1208a",
   "metadata": {},
   "outputs": [
    {
     "data": {
      "image/png": "[encoded data removed]",
      "text/plain": [
       "<Figure size 432x288 with 1 Axes>"
      ]
     },
     "metadata": {
      "needs_background": "light"
     },
     "output_type": "display_data"
    }
   ],
   "source": [
    "g = sns.lineplot(x='Year', \n",
    "                 y='Number of Authors', \n",
    "                 data = author_num_df)\n",
    "g.set_ylim(0,)\n",
    "g.set_ylabel('Average Number of Authors')\n",
    "plt.grid()\n",
    "plt.savefig('../results/supp/ave_author_num.pdf')"
   ]
  },
  {
   "cell_type": "code",
   "execution_count": 91,
   "id": "b06620f4",
   "metadata": {},
   "outputs": [],
   "source": [
    "# (ggplot(author_num_df, aes('Year', 'Number of Authors'))\n",
    "#  + p9.geom_line() \n",
    "# )"
   ]
  },
  {
   "cell_type": "code",
   "execution_count": 92,
   "id": "2e60ba60",
   "metadata": {},
   "outputs": [],
   "source": [
    "def get_total_and_ratio_by_year(DF, BY, subgroup_par):\n",
    "    tuples = []\n",
    "    for group in DF.groupby(BY):\n",
    "        year = group[0]\n",
    "        total = group[1].shape[0]\n",
    "        for subgroup in group[1].groupby(subgroup_par):\n",
    "            subtype = 'Yes' if subgroup[0] else 'No'\n",
    "            count = subgroup[1].shape[0]\n",
    "            ratio = count / total\n",
    "            tuples.append((year, subtype, count, ratio))\n",
    "    dff = pd.DataFrame(\n",
    "        list(tuples), columns=['year', 'type', 'count', 'ratio']) \n",
    "    return dff"
   ]
  },
  {
   "cell_type": "markdown",
   "id": "6c2ac73d",
   "metadata": {},
   "source": [
    "### Cross-country collaboration"
   ]
  },
  {
   "cell_type": "code",
   "execution_count": 93,
   "id": "41a24f62",
   "metadata": {},
   "outputs": [],
   "source": [
    "cross_country = get_total_and_ratio_by_year(\n",
    "    paper, \n",
    "    'Year',\n",
    "    'Cross-country Collaboration'\n",
    ")\n",
    "cross_country['year'] = pd.to_datetime(\n",
    "    cross_country['year'], format=\"%Y\"\n",
    ")"
   ]
  },
  {
   "cell_type": "code",
   "execution_count": 94,
   "id": "474137de",
   "metadata": {},
   "outputs": [
    {
     "data": {
      "image/png": "[encoded data removed]",
      "text/plain": [
       "<Figure size 432x288 with 1 Axes>"
      ]
     },
     "metadata": {
      "needs_background": "light"
     },
     "output_type": "display_data"
    }
   ],
   "source": [
    "g = sns.lineplot(x='year',\n",
    "                 y='ratio',\n",
    "                 hue='type', \n",
    "                 data = cross_country\n",
    "                )\n",
    "g.set_title('changes in ratio of cross-country collaboration over 32 years')\n",
    "plt.grid()"
   ]
  },
  {
   "cell_type": "code",
   "execution_count": 95,
   "id": "c5a966c1",
   "metadata": {},
   "outputs": [
    {
     "data": {
      "image/png": "[encoded data removed]",
      "text/plain": [
       "<Figure size 432x288 with 1 Axes>"
      ]
     },
     "metadata": {
      "needs_background": "light"
     },
     "output_type": "display_data"
    }
   ],
   "source": [
    "g = sns.lineplot(x='year',\n",
    "                 y='count',\n",
    "                 hue='type', \n",
    "                 data = cross_country\n",
    "                )\n",
    "g.set_title('changes in number of cross-country collaboration over 32 years')\n",
    "plt.grid()"
   ]
  },
  {
   "cell_type": "code",
   "execution_count": 96,
   "id": "edb58f1b",
   "metadata": {},
   "outputs": [],
   "source": [
    "# (ggplot(cross_country, aes('year', 'count', color='type'))\n",
    "#  + p9.theme_bw()\n",
    "#  + p9.geom_line() \n",
    "# )"
   ]
  },
  {
   "cell_type": "code",
   "execution_count": 97,
   "id": "16e00a45",
   "metadata": {},
   "outputs": [
    {
     "data": {
      "text/html": [
       "\n",
       "<div id=\"altair-viz-5f56e6cbcb4946179d7623a6311d0164\"></div>\n",
       "<script type=\"text/javascript\">\n",
       "  var VEGA_DEBUG = (typeof VEGA_DEBUG == \"undefined\") ? {} : VEGA_DEBUG;\n",
       "  (function(spec, embedOpt){\n",
       "    let outputDiv = document.currentScript.previousElementSibling;\n",
       "    if (outputDiv.id !== \"altair-viz-5f56e6cbcb4946179d7623a6311d0164\") {\n",
       "      outputDiv = document.getElementById(\"altair-viz-5f56e6cbcb4946179d7623a6311d0164\");\n",
       "    }\n",
       "    const paths = {\n",
       "      \"vega\": \"https://cdn.jsdelivr.net/npm//vega@5?noext\",\n",
       "      \"vega-lib\": \"https://cdn.jsdelivr.net/npm//vega-lib?noext\",\n",
       "      \"vega-lite\": \"https://cdn.jsdelivr.net/npm//vega-lite@4.17.0?noext\",\n",
       "      \"vega-embed\": \"https://cdn.jsdelivr.net/npm//vega-embed@6?noext\",\n",
       "    };\n",
       "\n",
       "    function maybeLoadScript(lib, version) {\n",
       "      var key = `${lib.replace(\"-\", \"\")}_version`;\n",
       "      return (VEGA_DEBUG[key] == version) ?\n",
       "        Promise.resolve(paths[lib]) :\n",
       "        new Promise(function(resolve, reject) {\n",
       "          var s = document.createElement('script');\n",
       "          document.getElementsByTagName(\"head\")[0].appendChild(s);\n",
       "          s.async = true;\n",
       "          s.onload = () => {\n",
       "            VEGA_DEBUG[key] = version;\n",
       "            return resolve(paths[lib]);\n",
       "          };\n",
       "          s.onerror = () => reject(`Error loading script: ${paths[lib]}`);\n",
       "          s.src = paths[lib];\n",
       "        });\n",
       "    }\n",
       "\n",
       "    function showError(err) {\n",
       "      outputDiv.innerHTML = `<div class=\"error\" style=\"color:red;\">${err}</div>`;\n",
       "      throw err;\n",
       "    }\n",
       "\n",
       "    function displayChart(vegaEmbed) {\n",
       "      vegaEmbed(outputDiv, spec, embedOpt)\n",
       "        .catch(err => showError(`Javascript Error: ${err.message}<br>This usually means there's a typo in your chart specification. See the javascript console for the full traceback.`));\n",
       "    }\n",
       "\n",
       "    if(typeof define === \"function\" && define.amd) {\n",
       "      requirejs.config({paths});\n",
       "      require([\"vega-embed\"], displayChart, err => showError(`Error loading script: ${err.message}`));\n",
       "    } else {\n",
       "      maybeLoadScript(\"vega\", \"5\")\n",
       "        .then(() => maybeLoadScript(\"vega-lite\", \"4.17.0\"))\n",
       "        .then(() => maybeLoadScript(\"vega-embed\", \"6\"))\n",
       "        .catch(showError)\n",
       "        .then(() => displayChart(vegaEmbed));\n",
       "    }\n",
       "  })({\"config\": {\"view\": {\"continuousWidth\": 400, \"continuousHeight\": 300}}, \"data\": {\"name\": \"data-40e384783310fb81a9bd53e818d8c686\"}, \"mark\": \"line\", \"encoding\": {\"color\": {\"field\": \"type\", \"scale\": {\"domain\": [\"Yes\", \"No\"], \"range\": [\"steelblue\", \"orange\"]}, \"sort\": [\"Yes\", \"No\"], \"title\": \"Cross-country collab.\", \"type\": \"nominal\"}, \"x\": {\"field\": \"year\", \"type\": \"temporal\"}, \"y\": {\"field\": \"ratio\", \"title\": \"Ratio\", \"type\": \"quantitative\"}}, \"$schema\": \"https://vega.github.io/schema/vega-lite/v4.17.0.json\", \"datasets\": {\"data-40e384783310fb81a9bd53e818d8c686\": [{\"year\": \"1990-01-01T00:00:00\", \"type\": \"No\", \"count\": 50, \"ratio\": 0.9615384615384616}, {\"year\": \"1990-01-01T00:00:00\", \"type\": \"Yes\", \"count\": 2, \"ratio\": 0.038461538461538464}, {\"year\": \"1991-01-01T00:00:00\", \"type\": \"No\", \"count\": 46, \"ratio\": 0.9583333333333334}, {\"year\": \"1991-01-01T00:00:00\", \"type\": \"Yes\", \"count\": 2, \"ratio\": 0.041666666666666664}, {\"year\": \"1992-01-01T00:00:00\", \"type\": \"No\", \"count\": 45, \"ratio\": 0.8823529411764706}, {\"year\": \"1992-01-01T00:00:00\", \"type\": \"Yes\", \"count\": 6, \"ratio\": 0.11764705882352941}, {\"year\": \"1993-01-01T00:00:00\", \"type\": \"No\", \"count\": 50, \"ratio\": 0.9090909090909091}, {\"year\": \"1993-01-01T00:00:00\", \"type\": \"Yes\", \"count\": 5, \"ratio\": 0.09090909090909091}, {\"year\": \"1994-01-01T00:00:00\", \"type\": \"No\", \"count\": 47, \"ratio\": 0.9038461538461539}, {\"year\": \"1994-01-01T00:00:00\", \"type\": \"Yes\", \"count\": 5, \"ratio\": 0.09615384615384616}, {\"year\": \"1995-01-01T00:00:00\", \"type\": \"No\", \"count\": 69, \"ratio\": 0.9324324324324325}, {\"year\": \"1995-01-01T00:00:00\", \"type\": \"Yes\", \"count\": 5, \"ratio\": 0.06756756756756757}, {\"year\": \"1996-01-01T00:00:00\", \"type\": \"No\", \"count\": 69, \"ratio\": 0.8961038961038961}, {\"year\": \"1996-01-01T00:00:00\", \"type\": \"Yes\", \"count\": 8, \"ratio\": 0.1038961038961039}, {\"year\": \"1997-01-01T00:00:00\", \"type\": \"No\", \"count\": 81, \"ratio\": 0.9204545454545454}, {\"year\": \"1997-01-01T00:00:00\", \"type\": \"Yes\", \"count\": 7, \"ratio\": 0.07954545454545454}, {\"year\": \"1998-01-01T00:00:00\", \"type\": \"No\", \"count\": 83, \"ratio\": 0.9222222222222223}, {\"year\": \"1998-01-01T00:00:00\", \"type\": \"Yes\", \"count\": 7, \"ratio\": 0.07777777777777778}, {\"year\": \"1999-01-01T00:00:00\", \"type\": \"No\", \"count\": 81, \"ratio\": 0.9204545454545454}, {\"year\": \"1999-01-01T00:00:00\", \"type\": \"Yes\", \"count\": 7, \"ratio\": 0.07954545454545454}, {\"year\": \"2000-01-01T00:00:00\", \"type\": \"No\", \"count\": 80, \"ratio\": 0.8695652173913043}, {\"year\": \"2000-01-01T00:00:00\", \"type\": \"Yes\", \"count\": 12, \"ratio\": 0.13043478260869565}, {\"year\": \"2001-01-01T00:00:00\", \"type\": \"No\", \"count\": 81, \"ratio\": 0.84375}, {\"year\": \"2001-01-01T00:00:00\", \"type\": \"Yes\", \"count\": 15, \"ratio\": 0.15625}, {\"year\": \"2002-01-01T00:00:00\", \"type\": \"No\", \"count\": 85, \"ratio\": 0.8415841584158416}, {\"year\": \"2002-01-01T00:00:00\", \"type\": \"Yes\", \"count\": 16, \"ratio\": 0.15841584158415842}, {\"year\": \"2003-01-01T00:00:00\", \"type\": \"No\", \"count\": 90, \"ratio\": 0.8823529411764706}, {\"year\": \"2003-01-01T00:00:00\", \"type\": \"Yes\", \"count\": 12, \"ratio\": 0.11764705882352941}, {\"year\": \"2004-01-01T00:00:00\", \"type\": \"No\", \"count\": 79, \"ratio\": 0.8144329896907216}, {\"year\": \"2004-01-01T00:00:00\", \"type\": \"Yes\", \"count\": 18, \"ratio\": 0.18556701030927836}, {\"year\": \"2005-01-01T00:00:00\", \"type\": \"No\", \"count\": 96, \"ratio\": 0.8067226890756303}, {\"year\": \"2005-01-01T00:00:00\", \"type\": \"Yes\", \"count\": 23, \"ratio\": 0.19327731092436976}, {\"year\": \"2006-01-01T00:00:00\", \"type\": \"No\", \"count\": 85, \"ratio\": 0.7522123893805309}, {\"year\": \"2006-01-01T00:00:00\", \"type\": \"Yes\", \"count\": 28, \"ratio\": 0.24778761061946902}, {\"year\": \"2007-01-01T00:00:00\", \"type\": \"No\", \"count\": 75, \"ratio\": 0.7009345794392523}, {\"year\": \"2007-01-01T00:00:00\", \"type\": \"Yes\", \"count\": 32, \"ratio\": 0.29906542056074764}, {\"year\": \"2008-01-01T00:00:00\", \"type\": \"No\", \"count\": 74, \"ratio\": 0.7474747474747475}, {\"year\": \"2008-01-01T00:00:00\", \"type\": \"Yes\", \"count\": 25, \"ratio\": 0.25252525252525254}, {\"year\": \"2009-01-01T00:00:00\", \"type\": \"No\", \"count\": 90, \"ratio\": 0.7692307692307693}, {\"year\": \"2009-01-01T00:00:00\", \"type\": \"Yes\", \"count\": 27, \"ratio\": 0.23076923076923078}, {\"year\": \"2010-01-01T00:00:00\", \"type\": \"No\", \"count\": 78, \"ratio\": 0.7155963302752294}, {\"year\": \"2010-01-01T00:00:00\", \"type\": \"Yes\", \"count\": 31, \"ratio\": 0.28440366972477066}, {\"year\": \"2011-01-01T00:00:00\", \"type\": \"No\", \"count\": 91, \"ratio\": 0.7647058823529411}, {\"year\": \"2011-01-01T00:00:00\", \"type\": \"Yes\", \"count\": 28, \"ratio\": 0.23529411764705882}, {\"year\": \"2012-01-01T00:00:00\", \"type\": \"No\", \"count\": 75, \"ratio\": 0.646551724137931}, {\"year\": \"2012-01-01T00:00:00\", \"type\": \"Yes\", \"count\": 41, \"ratio\": 0.35344827586206895}, {\"year\": \"2013-01-01T00:00:00\", \"type\": \"No\", \"count\": 75, \"ratio\": 0.7425742574257426}, {\"year\": \"2013-01-01T00:00:00\", \"type\": \"Yes\", \"count\": 26, \"ratio\": 0.25742574257425743}, {\"year\": \"2014-01-01T00:00:00\", \"type\": \"No\", \"count\": 84, \"ratio\": 0.6363636363636364}, {\"year\": \"2014-01-01T00:00:00\", \"type\": \"Yes\", \"count\": 48, \"ratio\": 0.36363636363636365}, {\"year\": \"2015-01-01T00:00:00\", \"type\": \"No\", \"count\": 80, \"ratio\": 0.6299212598425197}, {\"year\": \"2015-01-01T00:00:00\", \"type\": \"Yes\", \"count\": 47, \"ratio\": 0.3700787401574803}, {\"year\": \"2016-01-01T00:00:00\", \"type\": \"No\", \"count\": 67, \"ratio\": 0.5826086956521739}, {\"year\": \"2016-01-01T00:00:00\", \"type\": \"Yes\", \"count\": 48, \"ratio\": 0.41739130434782606}, {\"year\": \"2017-01-01T00:00:00\", \"type\": \"No\", \"count\": 65, \"ratio\": 0.5701754385964912}, {\"year\": \"2017-01-01T00:00:00\", \"type\": \"Yes\", \"count\": 49, \"ratio\": 0.4298245614035088}, {\"year\": \"2018-01-01T00:00:00\", \"type\": \"No\", \"count\": 81, \"ratio\": 0.6377952755905512}, {\"year\": \"2018-01-01T00:00:00\", \"type\": \"Yes\", \"count\": 46, \"ratio\": 0.36220472440944884}, {\"year\": \"2019-01-01T00:00:00\", \"type\": \"No\", \"count\": 80, \"ratio\": 0.6201550387596899}, {\"year\": \"2019-01-01T00:00:00\", \"type\": \"Yes\", \"count\": 49, \"ratio\": 0.3798449612403101}, {\"year\": \"2020-01-01T00:00:00\", \"type\": \"No\", \"count\": 95, \"ratio\": 0.6050955414012739}, {\"year\": \"2020-01-01T00:00:00\", \"type\": \"Yes\", \"count\": 62, \"ratio\": 0.39490445859872614}, {\"year\": \"2021-01-01T00:00:00\", \"type\": \"No\", \"count\": 93, \"ratio\": 0.5502958579881657}, {\"year\": \"2021-01-01T00:00:00\", \"type\": \"Yes\", \"count\": 76, \"ratio\": 0.44970414201183434}]}}, {\"mode\": \"vega-lite\"});\n",
       "</script>"
      ],
      "text/plain": [
       "alt.Chart(...)"
      ]
     },
     "execution_count": 97,
     "metadata": {},
     "output_type": "execute_result"
    }
   ],
   "source": [
    "cross_country_ratio = alt.Chart(cross_country).mark_line().encode(\n",
    "    x = 'year',\n",
    "    y = alt.Y(\n",
    "        'ratio',\n",
    "        title = 'Ratio'\n",
    "    ),\n",
    "    color = alt.Color(\n",
    "        'type',\n",
    "        title = 'Cross-country collab.',\n",
    "        sort = ['Yes', 'No'],\n",
    "        scale=alt.Scale(domain=['Yes', 'No'],\n",
    "                      range=['steelblue', 'orange'])\n",
    "    )\n",
    ")\n",
    "\n",
    "cross_country_ratio"
   ]
  },
  {
   "cell_type": "code",
   "execution_count": 98,
   "id": "9c6e4073",
   "metadata": {},
   "outputs": [
    {
     "data": {
      "text/html": [
       "\n",
       "<div id=\"altair-viz-8ae14349cef64e5c91a6d5ca8247b5e4\"></div>\n",
       "<script type=\"text/javascript\">\n",
       "  var VEGA_DEBUG = (typeof VEGA_DEBUG == \"undefined\") ? {} : VEGA_DEBUG;\n",
       "  (function(spec, embedOpt){\n",
       "    let outputDiv = document.currentScript.previousElementSibling;\n",
       "    if (outputDiv.id !== \"altair-viz-8ae14349cef64e5c91a6d5ca8247b5e4\") {\n",
       "      outputDiv = document.getElementById(\"altair-viz-8ae14349cef64e5c91a6d5ca8247b5e4\");\n",
       "    }\n",
       "    const paths = {\n",
       "      \"vega\": \"https://cdn.jsdelivr.net/npm//vega@5?noext\",\n",
       "      \"vega-lib\": \"https://cdn.jsdelivr.net/npm//vega-lib?noext\",\n",
       "      \"vega-lite\": \"https://cdn.jsdelivr.net/npm//vega-lite@4.17.0?noext\",\n",
       "      \"vega-embed\": \"https://cdn.jsdelivr.net/npm//vega-embed@6?noext\",\n",
       "    };\n",
       "\n",
       "    function maybeLoadScript(lib, version) {\n",
       "      var key = `${lib.replace(\"-\", \"\")}_version`;\n",
       "      return (VEGA_DEBUG[key] == version) ?\n",
       "        Promise.resolve(paths[lib]) :\n",
       "        new Promise(function(resolve, reject) {\n",
       "          var s = document.createElement('script');\n",
       "          document.getElementsByTagName(\"head\")[0].appendChild(s);\n",
       "          s.async = true;\n",
       "          s.onload = () => {\n",
       "            VEGA_DEBUG[key] = version;\n",
       "            return resolve(paths[lib]);\n",
       "          };\n",
       "          s.onerror = () => reject(`Error loading script: ${paths[lib]}`);\n",
       "          s.src = paths[lib];\n",
       "        });\n",
       "    }\n",
       "\n",
       "    function showError(err) {\n",
       "      outputDiv.innerHTML = `<div class=\"error\" style=\"color:red;\">${err}</div>`;\n",
       "      throw err;\n",
       "    }\n",
       "\n",
       "    function displayChart(vegaEmbed) {\n",
       "      vegaEmbed(outputDiv, spec, embedOpt)\n",
       "        .catch(err => showError(`Javascript Error: ${err.message}<br>This usually means there's a typo in your chart specification. See the javascript console for the full traceback.`));\n",
       "    }\n",
       "\n",
       "    if(typeof define === \"function\" && define.amd) {\n",
       "      requirejs.config({paths});\n",
       "      require([\"vega-embed\"], displayChart, err => showError(`Error loading script: ${err.message}`));\n",
       "    } else {\n",
       "      maybeLoadScript(\"vega\", \"5\")\n",
       "        .then(() => maybeLoadScript(\"vega-lite\", \"4.17.0\"))\n",
       "        .then(() => maybeLoadScript(\"vega-embed\", \"6\"))\n",
       "        .catch(showError)\n",
       "        .then(() => displayChart(vegaEmbed));\n",
       "    }\n",
       "  })({\"config\": {\"view\": {\"continuousWidth\": 400, \"continuousHeight\": 300}}, \"data\": {\"name\": \"data-40e384783310fb81a9bd53e818d8c686\"}, \"mark\": \"line\", \"encoding\": {\"color\": {\"field\": \"type\", \"sort\": [\"Yes\", \"No\"], \"title\": \"Cross-country collab.\", \"type\": \"nominal\"}, \"x\": {\"field\": \"year\", \"type\": \"temporal\"}, \"y\": {\"field\": \"count\", \"title\": \"Number of publications\", \"type\": \"quantitative\"}}, \"$schema\": \"https://vega.github.io/schema/vega-lite/v4.17.0.json\", \"datasets\": {\"data-40e384783310fb81a9bd53e818d8c686\": [{\"year\": \"1990-01-01T00:00:00\", \"type\": \"No\", \"count\": 50, \"ratio\": 0.9615384615384616}, {\"year\": \"1990-01-01T00:00:00\", \"type\": \"Yes\", \"count\": 2, \"ratio\": 0.038461538461538464}, {\"year\": \"1991-01-01T00:00:00\", \"type\": \"No\", \"count\": 46, \"ratio\": 0.9583333333333334}, {\"year\": \"1991-01-01T00:00:00\", \"type\": \"Yes\", \"count\": 2, \"ratio\": 0.041666666666666664}, {\"year\": \"1992-01-01T00:00:00\", \"type\": \"No\", \"count\": 45, \"ratio\": 0.8823529411764706}, {\"year\": \"1992-01-01T00:00:00\", \"type\": \"Yes\", \"count\": 6, \"ratio\": 0.11764705882352941}, {\"year\": \"1993-01-01T00:00:00\", \"type\": \"No\", \"count\": 50, \"ratio\": 0.9090909090909091}, {\"year\": \"1993-01-01T00:00:00\", \"type\": \"Yes\", \"count\": 5, \"ratio\": 0.09090909090909091}, {\"year\": \"1994-01-01T00:00:00\", \"type\": \"No\", \"count\": 47, \"ratio\": 0.9038461538461539}, {\"year\": \"1994-01-01T00:00:00\", \"type\": \"Yes\", \"count\": 5, \"ratio\": 0.09615384615384616}, {\"year\": \"1995-01-01T00:00:00\", \"type\": \"No\", \"count\": 69, \"ratio\": 0.9324324324324325}, {\"year\": \"1995-01-01T00:00:00\", \"type\": \"Yes\", \"count\": 5, \"ratio\": 0.06756756756756757}, {\"year\": \"1996-01-01T00:00:00\", \"type\": \"No\", \"count\": 69, \"ratio\": 0.8961038961038961}, {\"year\": \"1996-01-01T00:00:00\", \"type\": \"Yes\", \"count\": 8, \"ratio\": 0.1038961038961039}, {\"year\": \"1997-01-01T00:00:00\", \"type\": \"No\", \"count\": 81, \"ratio\": 0.9204545454545454}, {\"year\": \"1997-01-01T00:00:00\", \"type\": \"Yes\", \"count\": 7, \"ratio\": 0.07954545454545454}, {\"year\": \"1998-01-01T00:00:00\", \"type\": \"No\", \"count\": 83, \"ratio\": 0.9222222222222223}, {\"year\": \"1998-01-01T00:00:00\", \"type\": \"Yes\", \"count\": 7, \"ratio\": 0.07777777777777778}, {\"year\": \"1999-01-01T00:00:00\", \"type\": \"No\", \"count\": 81, \"ratio\": 0.9204545454545454}, {\"year\": \"1999-01-01T00:00:00\", \"type\": \"Yes\", \"count\": 7, \"ratio\": 0.07954545454545454}, {\"year\": \"2000-01-01T00:00:00\", \"type\": \"No\", \"count\": 80, \"ratio\": 0.8695652173913043}, {\"year\": \"2000-01-01T00:00:00\", \"type\": \"Yes\", \"count\": 12, \"ratio\": 0.13043478260869565}, {\"year\": \"2001-01-01T00:00:00\", \"type\": \"No\", \"count\": 81, \"ratio\": 0.84375}, {\"year\": \"2001-01-01T00:00:00\", \"type\": \"Yes\", \"count\": 15, \"ratio\": 0.15625}, {\"year\": \"2002-01-01T00:00:00\", \"type\": \"No\", \"count\": 85, \"ratio\": 0.8415841584158416}, {\"year\": \"2002-01-01T00:00:00\", \"type\": \"Yes\", \"count\": 16, \"ratio\": 0.15841584158415842}, {\"year\": \"2003-01-01T00:00:00\", \"type\": \"No\", \"count\": 90, \"ratio\": 0.8823529411764706}, {\"year\": \"2003-01-01T00:00:00\", \"type\": \"Yes\", \"count\": 12, \"ratio\": 0.11764705882352941}, {\"year\": \"2004-01-01T00:00:00\", \"type\": \"No\", \"count\": 79, \"ratio\": 0.8144329896907216}, {\"year\": \"2004-01-01T00:00:00\", \"type\": \"Yes\", \"count\": 18, \"ratio\": 0.18556701030927836}, {\"year\": \"2005-01-01T00:00:00\", \"type\": \"No\", \"count\": 96, \"ratio\": 0.8067226890756303}, {\"year\": \"2005-01-01T00:00:00\", \"type\": \"Yes\", \"count\": 23, \"ratio\": 0.19327731092436976}, {\"year\": \"2006-01-01T00:00:00\", \"type\": \"No\", \"count\": 85, \"ratio\": 0.7522123893805309}, {\"year\": \"2006-01-01T00:00:00\", \"type\": \"Yes\", \"count\": 28, \"ratio\": 0.24778761061946902}, {\"year\": \"2007-01-01T00:00:00\", \"type\": \"No\", \"count\": 75, \"ratio\": 0.7009345794392523}, {\"year\": \"2007-01-01T00:00:00\", \"type\": \"Yes\", \"count\": 32, \"ratio\": 0.29906542056074764}, {\"year\": \"2008-01-01T00:00:00\", \"type\": \"No\", \"count\": 74, \"ratio\": 0.7474747474747475}, {\"year\": \"2008-01-01T00:00:00\", \"type\": \"Yes\", \"count\": 25, \"ratio\": 0.25252525252525254}, {\"year\": \"2009-01-01T00:00:00\", \"type\": \"No\", \"count\": 90, \"ratio\": 0.7692307692307693}, {\"year\": \"2009-01-01T00:00:00\", \"type\": \"Yes\", \"count\": 27, \"ratio\": 0.23076923076923078}, {\"year\": \"2010-01-01T00:00:00\", \"type\": \"No\", \"count\": 78, \"ratio\": 0.7155963302752294}, {\"year\": \"2010-01-01T00:00:00\", \"type\": \"Yes\", \"count\": 31, \"ratio\": 0.28440366972477066}, {\"year\": \"2011-01-01T00:00:00\", \"type\": \"No\", \"count\": 91, \"ratio\": 0.7647058823529411}, {\"year\": \"2011-01-01T00:00:00\", \"type\": \"Yes\", \"count\": 28, \"ratio\": 0.23529411764705882}, {\"year\": \"2012-01-01T00:00:00\", \"type\": \"No\", \"count\": 75, \"ratio\": 0.646551724137931}, {\"year\": \"2012-01-01T00:00:00\", \"type\": \"Yes\", \"count\": 41, \"ratio\": 0.35344827586206895}, {\"year\": \"2013-01-01T00:00:00\", \"type\": \"No\", \"count\": 75, \"ratio\": 0.7425742574257426}, {\"year\": \"2013-01-01T00:00:00\", \"type\": \"Yes\", \"count\": 26, \"ratio\": 0.25742574257425743}, {\"year\": \"2014-01-01T00:00:00\", \"type\": \"No\", \"count\": 84, \"ratio\": 0.6363636363636364}, {\"year\": \"2014-01-01T00:00:00\", \"type\": \"Yes\", \"count\": 48, \"ratio\": 0.36363636363636365}, {\"year\": \"2015-01-01T00:00:00\", \"type\": \"No\", \"count\": 80, \"ratio\": 0.6299212598425197}, {\"year\": \"2015-01-01T00:00:00\", \"type\": \"Yes\", \"count\": 47, \"ratio\": 0.3700787401574803}, {\"year\": \"2016-01-01T00:00:00\", \"type\": \"No\", \"count\": 67, \"ratio\": 0.5826086956521739}, {\"year\": \"2016-01-01T00:00:00\", \"type\": \"Yes\", \"count\": 48, \"ratio\": 0.41739130434782606}, {\"year\": \"2017-01-01T00:00:00\", \"type\": \"No\", \"count\": 65, \"ratio\": 0.5701754385964912}, {\"year\": \"2017-01-01T00:00:00\", \"type\": \"Yes\", \"count\": 49, \"ratio\": 0.4298245614035088}, {\"year\": \"2018-01-01T00:00:00\", \"type\": \"No\", \"count\": 81, \"ratio\": 0.6377952755905512}, {\"year\": \"2018-01-01T00:00:00\", \"type\": \"Yes\", \"count\": 46, \"ratio\": 0.36220472440944884}, {\"year\": \"2019-01-01T00:00:00\", \"type\": \"No\", \"count\": 80, \"ratio\": 0.6201550387596899}, {\"year\": \"2019-01-01T00:00:00\", \"type\": \"Yes\", \"count\": 49, \"ratio\": 0.3798449612403101}, {\"year\": \"2020-01-01T00:00:00\", \"type\": \"No\", \"count\": 95, \"ratio\": 0.6050955414012739}, {\"year\": \"2020-01-01T00:00:00\", \"type\": \"Yes\", \"count\": 62, \"ratio\": 0.39490445859872614}, {\"year\": \"2021-01-01T00:00:00\", \"type\": \"No\", \"count\": 93, \"ratio\": 0.5502958579881657}, {\"year\": \"2021-01-01T00:00:00\", \"type\": \"Yes\", \"count\": 76, \"ratio\": 0.44970414201183434}]}}, {\"mode\": \"vega-lite\"});\n",
       "</script>"
      ],
      "text/plain": [
       "alt.Chart(...)"
      ]
     },
     "execution_count": 98,
     "metadata": {},
     "output_type": "execute_result"
    }
   ],
   "source": [
    "cross_country_count = alt.Chart(cross_country).mark_line().encode(\n",
    "    x = 'year',\n",
    "    y = alt.Y(\n",
    "        'count',\n",
    "        title = 'Number of publications'\n",
    "    ),\n",
    "    color = alt.Color(\n",
    "        'type',\n",
    "        title = 'Cross-country collab.',\n",
    "        sort = ['Yes', 'No']\n",
    "    )\n",
    ")\n",
    "\n",
    "cross_country_count "
   ]
  },
  {
   "cell_type": "markdown",
   "id": "894215ed",
   "metadata": {},
   "source": [
    "### Cross-type collaboration"
   ]
  },
  {
   "cell_type": "code",
   "execution_count": 99,
   "id": "2a961172",
   "metadata": {},
   "outputs": [
    {
     "data": {
      "text/html": [
       "<div>\n",
       "<style scoped>\n",
       "    .dataframe tbody tr th:only-of-type {\n",
       "        vertical-align: middle;\n",
       "    }\n",
       "\n",
       "    .dataframe tbody tr th {\n",
       "        vertical-align: top;\n",
       "    }\n",
       "\n",
       "    .dataframe thead th {\n",
       "        text-align: right;\n",
       "    }\n",
       "</style>\n",
       "<table border=\"1\" class=\"dataframe\">\n",
       "  <thead>\n",
       "    <tr style=\"text-align: right;\">\n",
       "      <th></th>\n",
       "      <th>year</th>\n",
       "      <th>type</th>\n",
       "      <th>count</th>\n",
       "      <th>ratio</th>\n",
       "    </tr>\n",
       "  </thead>\n",
       "  <tbody>\n",
       "    <tr>\n",
       "      <th>0</th>\n",
       "      <td>1990-01-01</td>\n",
       "      <td>No</td>\n",
       "      <td>47</td>\n",
       "      <td>0.903846</td>\n",
       "    </tr>\n",
       "    <tr>\n",
       "      <th>1</th>\n",
       "      <td>1990-01-01</td>\n",
       "      <td>Yes</td>\n",
       "      <td>5</td>\n",
       "      <td>0.096154</td>\n",
       "    </tr>\n",
       "    <tr>\n",
       "      <th>2</th>\n",
       "      <td>1991-01-01</td>\n",
       "      <td>No</td>\n",
       "      <td>40</td>\n",
       "      <td>0.833333</td>\n",
       "    </tr>\n",
       "    <tr>\n",
       "      <th>3</th>\n",
       "      <td>1991-01-01</td>\n",
       "      <td>Yes</td>\n",
       "      <td>8</td>\n",
       "      <td>0.166667</td>\n",
       "    </tr>\n",
       "    <tr>\n",
       "      <th>4</th>\n",
       "      <td>1992-01-01</td>\n",
       "      <td>No</td>\n",
       "      <td>39</td>\n",
       "      <td>0.764706</td>\n",
       "    </tr>\n",
       "  </tbody>\n",
       "</table>\n",
       "</div>"
      ],
      "text/plain": [
       "        year type  count     ratio\n",
       "0 1990-01-01   No     47  0.903846\n",
       "1 1990-01-01  Yes      5  0.096154\n",
       "2 1991-01-01   No     40  0.833333\n",
       "3 1991-01-01  Yes      8  0.166667\n",
       "4 1992-01-01   No     39  0.764706"
      ]
     },
     "execution_count": 99,
     "metadata": {},
     "output_type": "execute_result"
    }
   ],
   "source": [
    "cross_type = get_total_and_ratio_by_year(\n",
    "    paper, \n",
    "    'Year',\n",
    "    'Cross-type Collaboration'\n",
    ")\n",
    "cross_type['year'] = pd.to_datetime(\n",
    "    cross_type['year'], format=\"%Y\"\n",
    ")\n",
    "cross_type.head()"
   ]
  },
  {
   "cell_type": "code",
   "execution_count": 100,
   "id": "eca165eb",
   "metadata": {},
   "outputs": [
    {
     "data": {
      "image/png": "[encoded data removed]",
      "text/plain": [
       "<Figure size 432x288 with 1 Axes>"
      ]
     },
     "metadata": {
      "needs_background": "light"
     },
     "output_type": "display_data"
    }
   ],
   "source": [
    "g = sns.lineplot(x='year',\n",
    "                 y='ratio',\n",
    "                 hue='type', \n",
    "                 data = cross_type\n",
    "                )\n",
    "g.set_title('changes in ratio of cross-type collaboration over 32 years')\n",
    "plt.grid()"
   ]
  },
  {
   "cell_type": "code",
   "execution_count": 101,
   "id": "c8a87f18",
   "metadata": {},
   "outputs": [
    {
     "data": {
      "image/png": "[encoded data removed]",
      "text/plain": [
       "<Figure size 432x288 with 1 Axes>"
      ]
     },
     "metadata": {
      "needs_background": "light"
     },
     "output_type": "display_data"
    }
   ],
   "source": [
    "g = sns.lineplot(x='year',\n",
    "                 y='count',\n",
    "                 hue='type', \n",
    "                 data = cross_type\n",
    "                )\n",
    "g.set_title('changes in number of cross-type collaboration over 32 years')\n",
    "plt.grid()"
   ]
  },
  {
   "cell_type": "code",
   "execution_count": 102,
   "id": "6b51e516",
   "metadata": {
    "scrolled": false
   },
   "outputs": [
    {
     "data": {
      "text/html": [
       "\n",
       "<div id=\"altair-viz-3cde84ca943d419c9488943516debeb6\"></div>\n",
       "<script type=\"text/javascript\">\n",
       "  var VEGA_DEBUG = (typeof VEGA_DEBUG == \"undefined\") ? {} : VEGA_DEBUG;\n",
       "  (function(spec, embedOpt){\n",
       "    let outputDiv = document.currentScript.previousElementSibling;\n",
       "    if (outputDiv.id !== \"altair-viz-3cde84ca943d419c9488943516debeb6\") {\n",
       "      outputDiv = document.getElementById(\"altair-viz-3cde84ca943d419c9488943516debeb6\");\n",
       "    }\n",
       "    const paths = {\n",
       "      \"vega\": \"https://cdn.jsdelivr.net/npm//vega@5?noext\",\n",
       "      \"vega-lib\": \"https://cdn.jsdelivr.net/npm//vega-lib?noext\",\n",
       "      \"vega-lite\": \"https://cdn.jsdelivr.net/npm//vega-lite@4.17.0?noext\",\n",
       "      \"vega-embed\": \"https://cdn.jsdelivr.net/npm//vega-embed@6?noext\",\n",
       "    };\n",
       "\n",
       "    function maybeLoadScript(lib, version) {\n",
       "      var key = `${lib.replace(\"-\", \"\")}_version`;\n",
       "      return (VEGA_DEBUG[key] == version) ?\n",
       "        Promise.resolve(paths[lib]) :\n",
       "        new Promise(function(resolve, reject) {\n",
       "          var s = document.createElement('script');\n",
       "          document.getElementsByTagName(\"head\")[0].appendChild(s);\n",
       "          s.async = true;\n",
       "          s.onload = () => {\n",
       "            VEGA_DEBUG[key] = version;\n",
       "            return resolve(paths[lib]);\n",
       "          };\n",
       "          s.onerror = () => reject(`Error loading script: ${paths[lib]}`);\n",
       "          s.src = paths[lib];\n",
       "        });\n",
       "    }\n",
       "\n",
       "    function showError(err) {\n",
       "      outputDiv.innerHTML = `<div class=\"error\" style=\"color:red;\">${err}</div>`;\n",
       "      throw err;\n",
       "    }\n",
       "\n",
       "    function displayChart(vegaEmbed) {\n",
       "      vegaEmbed(outputDiv, spec, embedOpt)\n",
       "        .catch(err => showError(`Javascript Error: ${err.message}<br>This usually means there's a typo in your chart specification. See the javascript console for the full traceback.`));\n",
       "    }\n",
       "\n",
       "    if(typeof define === \"function\" && define.amd) {\n",
       "      requirejs.config({paths});\n",
       "      require([\"vega-embed\"], displayChart, err => showError(`Error loading script: ${err.message}`));\n",
       "    } else {\n",
       "      maybeLoadScript(\"vega\", \"5\")\n",
       "        .then(() => maybeLoadScript(\"vega-lite\", \"4.17.0\"))\n",
       "        .then(() => maybeLoadScript(\"vega-embed\", \"6\"))\n",
       "        .catch(showError)\n",
       "        .then(() => displayChart(vegaEmbed));\n",
       "    }\n",
       "  })({\"config\": {\"view\": {\"continuousWidth\": 400, \"continuousHeight\": 300}}, \"data\": {\"name\": \"data-6018ed2494c8d8420280e0ef8b3ed4ae\"}, \"mark\": \"line\", \"encoding\": {\"color\": {\"field\": \"type\", \"scale\": {\"domain\": [\"No\", \"Yes\"], \"range\": [\"purple\", \"green\"]}, \"sort\": [\"Yes\", \"No\"], \"title\": \"Cross-type collab.\", \"type\": \"nominal\"}, \"x\": {\"field\": \"year\", \"type\": \"temporal\"}, \"y\": {\"field\": \"ratio\", \"title\": \"Ratio\", \"type\": \"quantitative\"}}, \"$schema\": \"https://vega.github.io/schema/vega-lite/v4.17.0.json\", \"datasets\": {\"data-6018ed2494c8d8420280e0ef8b3ed4ae\": [{\"year\": \"1990-01-01T00:00:00\", \"type\": \"No\", \"count\": 47, \"ratio\": 0.9038461538461539}, {\"year\": \"1990-01-01T00:00:00\", \"type\": \"Yes\", \"count\": 5, \"ratio\": 0.09615384615384616}, {\"year\": \"1991-01-01T00:00:00\", \"type\": \"No\", \"count\": 40, \"ratio\": 0.8333333333333334}, {\"year\": \"1991-01-01T00:00:00\", \"type\": \"Yes\", \"count\": 8, \"ratio\": 0.16666666666666666}, {\"year\": \"1992-01-01T00:00:00\", \"type\": \"No\", \"count\": 39, \"ratio\": 0.7647058823529411}, {\"year\": \"1992-01-01T00:00:00\", \"type\": \"Yes\", \"count\": 12, \"ratio\": 0.23529411764705882}, {\"year\": \"1993-01-01T00:00:00\", \"type\": \"No\", \"count\": 47, \"ratio\": 0.8545454545454545}, {\"year\": \"1993-01-01T00:00:00\", \"type\": \"Yes\", \"count\": 8, \"ratio\": 0.14545454545454545}, {\"year\": \"1994-01-01T00:00:00\", \"type\": \"No\", \"count\": 47, \"ratio\": 0.9038461538461539}, {\"year\": \"1994-01-01T00:00:00\", \"type\": \"Yes\", \"count\": 5, \"ratio\": 0.09615384615384616}, {\"year\": \"1995-01-01T00:00:00\", \"type\": \"No\", \"count\": 67, \"ratio\": 0.9054054054054054}, {\"year\": \"1995-01-01T00:00:00\", \"type\": \"Yes\", \"count\": 7, \"ratio\": 0.0945945945945946}, {\"year\": \"1996-01-01T00:00:00\", \"type\": \"No\", \"count\": 60, \"ratio\": 0.7792207792207793}, {\"year\": \"1996-01-01T00:00:00\", \"type\": \"Yes\", \"count\": 17, \"ratio\": 0.22077922077922077}, {\"year\": \"1997-01-01T00:00:00\", \"type\": \"No\", \"count\": 79, \"ratio\": 0.8977272727272727}, {\"year\": \"1997-01-01T00:00:00\", \"type\": \"Yes\", \"count\": 9, \"ratio\": 0.10227272727272728}, {\"year\": \"1998-01-01T00:00:00\", \"type\": \"No\", \"count\": 77, \"ratio\": 0.8555555555555555}, {\"year\": \"1998-01-01T00:00:00\", \"type\": \"Yes\", \"count\": 13, \"ratio\": 0.14444444444444443}, {\"year\": \"1999-01-01T00:00:00\", \"type\": \"No\", \"count\": 72, \"ratio\": 0.8181818181818182}, {\"year\": \"1999-01-01T00:00:00\", \"type\": \"Yes\", \"count\": 16, \"ratio\": 0.18181818181818182}, {\"year\": \"2000-01-01T00:00:00\", \"type\": \"No\", \"count\": 69, \"ratio\": 0.75}, {\"year\": \"2000-01-01T00:00:00\", \"type\": \"Yes\", \"count\": 23, \"ratio\": 0.25}, {\"year\": \"2001-01-01T00:00:00\", \"type\": \"No\", \"count\": 69, \"ratio\": 0.71875}, {\"year\": \"2001-01-01T00:00:00\", \"type\": \"Yes\", \"count\": 27, \"ratio\": 0.28125}, {\"year\": \"2002-01-01T00:00:00\", \"type\": \"No\", \"count\": 86, \"ratio\": 0.8514851485148515}, {\"year\": \"2002-01-01T00:00:00\", \"type\": \"Yes\", \"count\": 15, \"ratio\": 0.1485148514851485}, {\"year\": \"2003-01-01T00:00:00\", \"type\": \"No\", \"count\": 84, \"ratio\": 0.8235294117647058}, {\"year\": \"2003-01-01T00:00:00\", \"type\": \"Yes\", \"count\": 18, \"ratio\": 0.17647058823529413}, {\"year\": \"2004-01-01T00:00:00\", \"type\": \"No\", \"count\": 78, \"ratio\": 0.8041237113402062}, {\"year\": \"2004-01-01T00:00:00\", \"type\": \"Yes\", \"count\": 19, \"ratio\": 0.1958762886597938}, {\"year\": \"2005-01-01T00:00:00\", \"type\": \"No\", \"count\": 96, \"ratio\": 0.8067226890756303}, {\"year\": \"2005-01-01T00:00:00\", \"type\": \"Yes\", \"count\": 23, \"ratio\": 0.19327731092436976}, {\"year\": \"2006-01-01T00:00:00\", \"type\": \"No\", \"count\": 93, \"ratio\": 0.8230088495575221}, {\"year\": \"2006-01-01T00:00:00\", \"type\": \"Yes\", \"count\": 20, \"ratio\": 0.17699115044247787}, {\"year\": \"2007-01-01T00:00:00\", \"type\": \"No\", \"count\": 72, \"ratio\": 0.6728971962616822}, {\"year\": \"2007-01-01T00:00:00\", \"type\": \"Yes\", \"count\": 35, \"ratio\": 0.32710280373831774}, {\"year\": \"2008-01-01T00:00:00\", \"type\": \"No\", \"count\": 73, \"ratio\": 0.7373737373737373}, {\"year\": \"2008-01-01T00:00:00\", \"type\": \"Yes\", \"count\": 26, \"ratio\": 0.26262626262626265}, {\"year\": \"2009-01-01T00:00:00\", \"type\": \"No\", \"count\": 84, \"ratio\": 0.717948717948718}, {\"year\": \"2009-01-01T00:00:00\", \"type\": \"Yes\", \"count\": 33, \"ratio\": 0.28205128205128205}, {\"year\": \"2010-01-01T00:00:00\", \"type\": \"No\", \"count\": 83, \"ratio\": 0.7614678899082569}, {\"year\": \"2010-01-01T00:00:00\", \"type\": \"Yes\", \"count\": 26, \"ratio\": 0.23853211009174313}, {\"year\": \"2011-01-01T00:00:00\", \"type\": \"No\", \"count\": 92, \"ratio\": 0.773109243697479}, {\"year\": \"2011-01-01T00:00:00\", \"type\": \"Yes\", \"count\": 27, \"ratio\": 0.226890756302521}, {\"year\": \"2012-01-01T00:00:00\", \"type\": \"No\", \"count\": 80, \"ratio\": 0.6896551724137931}, {\"year\": \"2012-01-01T00:00:00\", \"type\": \"Yes\", \"count\": 36, \"ratio\": 0.3103448275862069}, {\"year\": \"2013-01-01T00:00:00\", \"type\": \"No\", \"count\": 75, \"ratio\": 0.7425742574257426}, {\"year\": \"2013-01-01T00:00:00\", \"type\": \"Yes\", \"count\": 26, \"ratio\": 0.25742574257425743}, {\"year\": \"2014-01-01T00:00:00\", \"type\": \"No\", \"count\": 94, \"ratio\": 0.7121212121212122}, {\"year\": \"2014-01-01T00:00:00\", \"type\": \"Yes\", \"count\": 38, \"ratio\": 0.2878787878787879}, {\"year\": \"2015-01-01T00:00:00\", \"type\": \"No\", \"count\": 89, \"ratio\": 0.7007874015748031}, {\"year\": \"2015-01-01T00:00:00\", \"type\": \"Yes\", \"count\": 38, \"ratio\": 0.2992125984251969}, {\"year\": \"2016-01-01T00:00:00\", \"type\": \"No\", \"count\": 77, \"ratio\": 0.6695652173913044}, {\"year\": \"2016-01-01T00:00:00\", \"type\": \"Yes\", \"count\": 38, \"ratio\": 0.33043478260869563}, {\"year\": \"2017-01-01T00:00:00\", \"type\": \"No\", \"count\": 72, \"ratio\": 0.631578947368421}, {\"year\": \"2017-01-01T00:00:00\", \"type\": \"Yes\", \"count\": 42, \"ratio\": 0.3684210526315789}, {\"year\": \"2018-01-01T00:00:00\", \"type\": \"No\", \"count\": 72, \"ratio\": 0.5669291338582677}, {\"year\": \"2018-01-01T00:00:00\", \"type\": \"Yes\", \"count\": 55, \"ratio\": 0.4330708661417323}, {\"year\": \"2019-01-01T00:00:00\", \"type\": \"No\", \"count\": 92, \"ratio\": 0.7131782945736435}, {\"year\": \"2019-01-01T00:00:00\", \"type\": \"Yes\", \"count\": 37, \"ratio\": 0.2868217054263566}, {\"year\": \"2020-01-01T00:00:00\", \"type\": \"No\", \"count\": 113, \"ratio\": 0.7197452229299363}, {\"year\": \"2020-01-01T00:00:00\", \"type\": \"Yes\", \"count\": 44, \"ratio\": 0.2802547770700637}, {\"year\": \"2021-01-01T00:00:00\", \"type\": \"No\", \"count\": 119, \"ratio\": 0.7041420118343196}, {\"year\": \"2021-01-01T00:00:00\", \"type\": \"Yes\", \"count\": 50, \"ratio\": 0.2958579881656805}]}}, {\"mode\": \"vega-lite\"});\n",
       "</script>"
      ],
      "text/plain": [
       "alt.Chart(...)"
      ]
     },
     "execution_count": 102,
     "metadata": {},
     "output_type": "execute_result"
    }
   ],
   "source": [
    "#         scale=alt.Scale(scheme='set1')\n",
    "cross_type_ratio = alt.Chart(cross_type).mark_line().encode(\n",
    "    x = 'year',\n",
    "    y = alt.Y(\n",
    "        'ratio',\n",
    "        title = 'Ratio'\n",
    "    ),\n",
    "    color = alt.Color(\n",
    "        'type',\n",
    "        title = 'Cross-type collab.',\n",
    "        sort = ['Yes', 'No'],\n",
    "        scale=alt.Scale(domain=['No', 'Yes'],\n",
    "                      range=['purple', 'green'])\n",
    "    ),\n",
    ")\n",
    "\n",
    "cross_type_ratio"
   ]
  },
  {
   "cell_type": "code",
   "execution_count": 103,
   "id": "172a5f94",
   "metadata": {},
   "outputs": [
    {
     "data": {
      "text/html": [
       "\n",
       "<div id=\"altair-viz-e7e5ae7d5dc54481a7497896471cc245\"></div>\n",
       "<script type=\"text/javascript\">\n",
       "  var VEGA_DEBUG = (typeof VEGA_DEBUG == \"undefined\") ? {} : VEGA_DEBUG;\n",
       "  (function(spec, embedOpt){\n",
       "    let outputDiv = document.currentScript.previousElementSibling;\n",
       "    if (outputDiv.id !== \"altair-viz-e7e5ae7d5dc54481a7497896471cc245\") {\n",
       "      outputDiv = document.getElementById(\"altair-viz-e7e5ae7d5dc54481a7497896471cc245\");\n",
       "    }\n",
       "    const paths = {\n",
       "      \"vega\": \"https://cdn.jsdelivr.net/npm//vega@5?noext\",\n",
       "      \"vega-lib\": \"https://cdn.jsdelivr.net/npm//vega-lib?noext\",\n",
       "      \"vega-lite\": \"https://cdn.jsdelivr.net/npm//vega-lite@4.17.0?noext\",\n",
       "      \"vega-embed\": \"https://cdn.jsdelivr.net/npm//vega-embed@6?noext\",\n",
       "    };\n",
       "\n",
       "    function maybeLoadScript(lib, version) {\n",
       "      var key = `${lib.replace(\"-\", \"\")}_version`;\n",
       "      return (VEGA_DEBUG[key] == version) ?\n",
       "        Promise.resolve(paths[lib]) :\n",
       "        new Promise(function(resolve, reject) {\n",
       "          var s = document.createElement('script');\n",
       "          document.getElementsByTagName(\"head\")[0].appendChild(s);\n",
       "          s.async = true;\n",
       "          s.onload = () => {\n",
       "            VEGA_DEBUG[key] = version;\n",
       "            return resolve(paths[lib]);\n",
       "          };\n",
       "          s.onerror = () => reject(`Error loading script: ${paths[lib]}`);\n",
       "          s.src = paths[lib];\n",
       "        });\n",
       "    }\n",
       "\n",
       "    function showError(err) {\n",
       "      outputDiv.innerHTML = `<div class=\"error\" style=\"color:red;\">${err}</div>`;\n",
       "      throw err;\n",
       "    }\n",
       "\n",
       "    function displayChart(vegaEmbed) {\n",
       "      vegaEmbed(outputDiv, spec, embedOpt)\n",
       "        .catch(err => showError(`Javascript Error: ${err.message}<br>This usually means there's a typo in your chart specification. See the javascript console for the full traceback.`));\n",
       "    }\n",
       "\n",
       "    if(typeof define === \"function\" && define.amd) {\n",
       "      requirejs.config({paths});\n",
       "      require([\"vega-embed\"], displayChart, err => showError(`Error loading script: ${err.message}`));\n",
       "    } else {\n",
       "      maybeLoadScript(\"vega\", \"5\")\n",
       "        .then(() => maybeLoadScript(\"vega-lite\", \"4.17.0\"))\n",
       "        .then(() => maybeLoadScript(\"vega-embed\", \"6\"))\n",
       "        .catch(showError)\n",
       "        .then(() => displayChart(vegaEmbed));\n",
       "    }\n",
       "  })({\"config\": {\"view\": {\"continuousWidth\": 400, \"continuousHeight\": 300}}, \"data\": {\"name\": \"data-6018ed2494c8d8420280e0ef8b3ed4ae\"}, \"mark\": {\"type\": \"line\", \"point\": {\"filled\": false, \"fill\": \"white\"}, \"strokeDash\": [1, 2]}, \"encoding\": {\"color\": {\"field\": \"type\", \"scale\": {\"domain\": [\"No\", \"Yes\"], \"range\": [\"purple\", \"green\"]}, \"sort\": [\"Yes\", \"No\"], \"title\": \"Cross-type collab.\", \"type\": \"nominal\"}, \"x\": {\"field\": \"year\", \"type\": \"temporal\"}, \"y\": {\"field\": \"count\", \"title\": \"Number of authors\", \"type\": \"quantitative\"}}, \"$schema\": \"https://vega.github.io/schema/vega-lite/v4.17.0.json\", \"datasets\": {\"data-6018ed2494c8d8420280e0ef8b3ed4ae\": [{\"year\": \"1990-01-01T00:00:00\", \"type\": \"No\", \"count\": 47, \"ratio\": 0.9038461538461539}, {\"year\": \"1990-01-01T00:00:00\", \"type\": \"Yes\", \"count\": 5, \"ratio\": 0.09615384615384616}, {\"year\": \"1991-01-01T00:00:00\", \"type\": \"No\", \"count\": 40, \"ratio\": 0.8333333333333334}, {\"year\": \"1991-01-01T00:00:00\", \"type\": \"Yes\", \"count\": 8, \"ratio\": 0.16666666666666666}, {\"year\": \"1992-01-01T00:00:00\", \"type\": \"No\", \"count\": 39, \"ratio\": 0.7647058823529411}, {\"year\": \"1992-01-01T00:00:00\", \"type\": \"Yes\", \"count\": 12, \"ratio\": 0.23529411764705882}, {\"year\": \"1993-01-01T00:00:00\", \"type\": \"No\", \"count\": 47, \"ratio\": 0.8545454545454545}, {\"year\": \"1993-01-01T00:00:00\", \"type\": \"Yes\", \"count\": 8, \"ratio\": 0.14545454545454545}, {\"year\": \"1994-01-01T00:00:00\", \"type\": \"No\", \"count\": 47, \"ratio\": 0.9038461538461539}, {\"year\": \"1994-01-01T00:00:00\", \"type\": \"Yes\", \"count\": 5, \"ratio\": 0.09615384615384616}, {\"year\": \"1995-01-01T00:00:00\", \"type\": \"No\", \"count\": 67, \"ratio\": 0.9054054054054054}, {\"year\": \"1995-01-01T00:00:00\", \"type\": \"Yes\", \"count\": 7, \"ratio\": 0.0945945945945946}, {\"year\": \"1996-01-01T00:00:00\", \"type\": \"No\", \"count\": 60, \"ratio\": 0.7792207792207793}, {\"year\": \"1996-01-01T00:00:00\", \"type\": \"Yes\", \"count\": 17, \"ratio\": 0.22077922077922077}, {\"year\": \"1997-01-01T00:00:00\", \"type\": \"No\", \"count\": 79, \"ratio\": 0.8977272727272727}, {\"year\": \"1997-01-01T00:00:00\", \"type\": \"Yes\", \"count\": 9, \"ratio\": 0.10227272727272728}, {\"year\": \"1998-01-01T00:00:00\", \"type\": \"No\", \"count\": 77, \"ratio\": 0.8555555555555555}, {\"year\": \"1998-01-01T00:00:00\", \"type\": \"Yes\", \"count\": 13, \"ratio\": 0.14444444444444443}, {\"year\": \"1999-01-01T00:00:00\", \"type\": \"No\", \"count\": 72, \"ratio\": 0.8181818181818182}, {\"year\": \"1999-01-01T00:00:00\", \"type\": \"Yes\", \"count\": 16, \"ratio\": 0.18181818181818182}, {\"year\": \"2000-01-01T00:00:00\", \"type\": \"No\", \"count\": 69, \"ratio\": 0.75}, {\"year\": \"2000-01-01T00:00:00\", \"type\": \"Yes\", \"count\": 23, \"ratio\": 0.25}, {\"year\": \"2001-01-01T00:00:00\", \"type\": \"No\", \"count\": 69, \"ratio\": 0.71875}, {\"year\": \"2001-01-01T00:00:00\", \"type\": \"Yes\", \"count\": 27, \"ratio\": 0.28125}, {\"year\": \"2002-01-01T00:00:00\", \"type\": \"No\", \"count\": 86, \"ratio\": 0.8514851485148515}, {\"year\": \"2002-01-01T00:00:00\", \"type\": \"Yes\", \"count\": 15, \"ratio\": 0.1485148514851485}, {\"year\": \"2003-01-01T00:00:00\", \"type\": \"No\", \"count\": 84, \"ratio\": 0.8235294117647058}, {\"year\": \"2003-01-01T00:00:00\", \"type\": \"Yes\", \"count\": 18, \"ratio\": 0.17647058823529413}, {\"year\": \"2004-01-01T00:00:00\", \"type\": \"No\", \"count\": 78, \"ratio\": 0.8041237113402062}, {\"year\": \"2004-01-01T00:00:00\", \"type\": \"Yes\", \"count\": 19, \"ratio\": 0.1958762886597938}, {\"year\": \"2005-01-01T00:00:00\", \"type\": \"No\", \"count\": 96, \"ratio\": 0.8067226890756303}, {\"year\": \"2005-01-01T00:00:00\", \"type\": \"Yes\", \"count\": 23, \"ratio\": 0.19327731092436976}, {\"year\": \"2006-01-01T00:00:00\", \"type\": \"No\", \"count\": 93, \"ratio\": 0.8230088495575221}, {\"year\": \"2006-01-01T00:00:00\", \"type\": \"Yes\", \"count\": 20, \"ratio\": 0.17699115044247787}, {\"year\": \"2007-01-01T00:00:00\", \"type\": \"No\", \"count\": 72, \"ratio\": 0.6728971962616822}, {\"year\": \"2007-01-01T00:00:00\", \"type\": \"Yes\", \"count\": 35, \"ratio\": 0.32710280373831774}, {\"year\": \"2008-01-01T00:00:00\", \"type\": \"No\", \"count\": 73, \"ratio\": 0.7373737373737373}, {\"year\": \"2008-01-01T00:00:00\", \"type\": \"Yes\", \"count\": 26, \"ratio\": 0.26262626262626265}, {\"year\": \"2009-01-01T00:00:00\", \"type\": \"No\", \"count\": 84, \"ratio\": 0.717948717948718}, {\"year\": \"2009-01-01T00:00:00\", \"type\": \"Yes\", \"count\": 33, \"ratio\": 0.28205128205128205}, {\"year\": \"2010-01-01T00:00:00\", \"type\": \"No\", \"count\": 83, \"ratio\": 0.7614678899082569}, {\"year\": \"2010-01-01T00:00:00\", \"type\": \"Yes\", \"count\": 26, \"ratio\": 0.23853211009174313}, {\"year\": \"2011-01-01T00:00:00\", \"type\": \"No\", \"count\": 92, \"ratio\": 0.773109243697479}, {\"year\": \"2011-01-01T00:00:00\", \"type\": \"Yes\", \"count\": 27, \"ratio\": 0.226890756302521}, {\"year\": \"2012-01-01T00:00:00\", \"type\": \"No\", \"count\": 80, \"ratio\": 0.6896551724137931}, {\"year\": \"2012-01-01T00:00:00\", \"type\": \"Yes\", \"count\": 36, \"ratio\": 0.3103448275862069}, {\"year\": \"2013-01-01T00:00:00\", \"type\": \"No\", \"count\": 75, \"ratio\": 0.7425742574257426}, {\"year\": \"2013-01-01T00:00:00\", \"type\": \"Yes\", \"count\": 26, \"ratio\": 0.25742574257425743}, {\"year\": \"2014-01-01T00:00:00\", \"type\": \"No\", \"count\": 94, \"ratio\": 0.7121212121212122}, {\"year\": \"2014-01-01T00:00:00\", \"type\": \"Yes\", \"count\": 38, \"ratio\": 0.2878787878787879}, {\"year\": \"2015-01-01T00:00:00\", \"type\": \"No\", \"count\": 89, \"ratio\": 0.7007874015748031}, {\"year\": \"2015-01-01T00:00:00\", \"type\": \"Yes\", \"count\": 38, \"ratio\": 0.2992125984251969}, {\"year\": \"2016-01-01T00:00:00\", \"type\": \"No\", \"count\": 77, \"ratio\": 0.6695652173913044}, {\"year\": \"2016-01-01T00:00:00\", \"type\": \"Yes\", \"count\": 38, \"ratio\": 0.33043478260869563}, {\"year\": \"2017-01-01T00:00:00\", \"type\": \"No\", \"count\": 72, \"ratio\": 0.631578947368421}, {\"year\": \"2017-01-01T00:00:00\", \"type\": \"Yes\", \"count\": 42, \"ratio\": 0.3684210526315789}, {\"year\": \"2018-01-01T00:00:00\", \"type\": \"No\", \"count\": 72, \"ratio\": 0.5669291338582677}, {\"year\": \"2018-01-01T00:00:00\", \"type\": \"Yes\", \"count\": 55, \"ratio\": 0.4330708661417323}, {\"year\": \"2019-01-01T00:00:00\", \"type\": \"No\", \"count\": 92, \"ratio\": 0.7131782945736435}, {\"year\": \"2019-01-01T00:00:00\", \"type\": \"Yes\", \"count\": 37, \"ratio\": 0.2868217054263566}, {\"year\": \"2020-01-01T00:00:00\", \"type\": \"No\", \"count\": 113, \"ratio\": 0.7197452229299363}, {\"year\": \"2020-01-01T00:00:00\", \"type\": \"Yes\", \"count\": 44, \"ratio\": 0.2802547770700637}, {\"year\": \"2021-01-01T00:00:00\", \"type\": \"No\", \"count\": 119, \"ratio\": 0.7041420118343196}, {\"year\": \"2021-01-01T00:00:00\", \"type\": \"Yes\", \"count\": 50, \"ratio\": 0.2958579881656805}]}}, {\"mode\": \"vega-lite\"});\n",
       "</script>"
      ],
      "text/plain": [
       "alt.Chart(...)"
      ]
     },
     "execution_count": 103,
     "metadata": {},
     "output_type": "execute_result"
    }
   ],
   "source": [
    "#         scale=alt.Scale(scheme='set1')\n",
    "cross_type_count = alt.Chart(cross_type).mark_line(\n",
    "    point={\n",
    "      \"filled\": False,\n",
    "      \"fill\": \"white\"\n",
    "    },\n",
    "    strokeDash=[1,2]\n",
    ").encode(\n",
    "    x = 'year',\n",
    "    y = alt.Y(\n",
    "        'count',\n",
    "        title = 'Number of authors'\n",
    "    ),\n",
    "    color = alt.Color(\n",
    "        'type',\n",
    "        title = 'Cross-type collab.',\n",
    "        sort = ['Yes', 'No'],\n",
    "        scale=alt.Scale(domain=['No', 'Yes'],\n",
    "                      range=['purple', 'green'])\n",
    "    ),\n",
    ")\n",
    "\n",
    "cross_type_count"
   ]
  },
  {
   "cell_type": "code",
   "execution_count": 104,
   "id": "114a1992",
   "metadata": {},
   "outputs": [
    {
     "data": {
      "text/html": [
       "\n",
       "<div id=\"altair-viz-d058e309c4694a57910535d9691a7ac8\"></div>\n",
       "<script type=\"text/javascript\">\n",
       "  var VEGA_DEBUG = (typeof VEGA_DEBUG == \"undefined\") ? {} : VEGA_DEBUG;\n",
       "  (function(spec, embedOpt){\n",
       "    let outputDiv = document.currentScript.previousElementSibling;\n",
       "    if (outputDiv.id !== \"altair-viz-d058e309c4694a57910535d9691a7ac8\") {\n",
       "      outputDiv = document.getElementById(\"altair-viz-d058e309c4694a57910535d9691a7ac8\");\n",
       "    }\n",
       "    const paths = {\n",
       "      \"vega\": \"https://cdn.jsdelivr.net/npm//vega@5?noext\",\n",
       "      \"vega-lib\": \"https://cdn.jsdelivr.net/npm//vega-lib?noext\",\n",
       "      \"vega-lite\": \"https://cdn.jsdelivr.net/npm//vega-lite@4.17.0?noext\",\n",
       "      \"vega-embed\": \"https://cdn.jsdelivr.net/npm//vega-embed@6?noext\",\n",
       "    };\n",
       "\n",
       "    function maybeLoadScript(lib, version) {\n",
       "      var key = `${lib.replace(\"-\", \"\")}_version`;\n",
       "      return (VEGA_DEBUG[key] == version) ?\n",
       "        Promise.resolve(paths[lib]) :\n",
       "        new Promise(function(resolve, reject) {\n",
       "          var s = document.createElement('script');\n",
       "          document.getElementsByTagName(\"head\")[0].appendChild(s);\n",
       "          s.async = true;\n",
       "          s.onload = () => {\n",
       "            VEGA_DEBUG[key] = version;\n",
       "            return resolve(paths[lib]);\n",
       "          };\n",
       "          s.onerror = () => reject(`Error loading script: ${paths[lib]}`);\n",
       "          s.src = paths[lib];\n",
       "        });\n",
       "    }\n",
       "\n",
       "    function showError(err) {\n",
       "      outputDiv.innerHTML = `<div class=\"error\" style=\"color:red;\">${err}</div>`;\n",
       "      throw err;\n",
       "    }\n",
       "\n",
       "    function displayChart(vegaEmbed) {\n",
       "      vegaEmbed(outputDiv, spec, embedOpt)\n",
       "        .catch(err => showError(`Javascript Error: ${err.message}<br>This usually means there's a typo in your chart specification. See the javascript console for the full traceback.`));\n",
       "    }\n",
       "\n",
       "    if(typeof define === \"function\" && define.amd) {\n",
       "      requirejs.config({paths});\n",
       "      require([\"vega-embed\"], displayChart, err => showError(`Error loading script: ${err.message}`));\n",
       "    } else {\n",
       "      maybeLoadScript(\"vega\", \"5\")\n",
       "        .then(() => maybeLoadScript(\"vega-lite\", \"4.17.0\"))\n",
       "        .then(() => maybeLoadScript(\"vega-embed\", \"6\"))\n",
       "        .catch(showError)\n",
       "        .then(() => displayChart(vegaEmbed));\n",
       "    }\n",
       "  })({\"config\": {\"view\": {\"continuousWidth\": 400, \"continuousHeight\": 300}}, \"layer\": [{\"data\": {\"name\": \"data-6018ed2494c8d8420280e0ef8b3ed4ae\"}, \"mark\": {\"type\": \"line\", \"point\": {\"filled\": false, \"fill\": \"white\"}, \"strokeDash\": [1, 2]}, \"encoding\": {\"color\": {\"field\": \"type\", \"scale\": {\"domain\": [\"No\", \"Yes\"], \"range\": [\"purple\", \"green\"]}, \"sort\": [\"Yes\", \"No\"], \"title\": \"Cross-type collab.\", \"type\": \"nominal\"}, \"x\": {\"field\": \"year\", \"type\": \"temporal\"}, \"y\": {\"field\": \"count\", \"title\": \"Number of authors\", \"type\": \"quantitative\"}}}, {\"data\": {\"name\": \"data-40e384783310fb81a9bd53e818d8c686\"}, \"mark\": \"line\", \"encoding\": {\"color\": {\"field\": \"type\", \"sort\": [\"Yes\", \"No\"], \"title\": \"Cross-country collab.\", \"type\": \"nominal\"}, \"x\": {\"field\": \"year\", \"type\": \"temporal\"}, \"y\": {\"field\": \"count\", \"title\": \"Number of publications\", \"type\": \"quantitative\"}}}], \"resolve\": {\"scale\": {\"color\": \"independent\"}}, \"$schema\": \"https://vega.github.io/schema/vega-lite/v4.17.0.json\", \"datasets\": {\"data-6018ed2494c8d8420280e0ef8b3ed4ae\": [{\"year\": \"1990-01-01T00:00:00\", \"type\": \"No\", \"count\": 47, \"ratio\": 0.9038461538461539}, {\"year\": \"1990-01-01T00:00:00\", \"type\": \"Yes\", \"count\": 5, \"ratio\": 0.09615384615384616}, {\"year\": \"1991-01-01T00:00:00\", \"type\": \"No\", \"count\": 40, \"ratio\": 0.8333333333333334}, {\"year\": \"1991-01-01T00:00:00\", \"type\": \"Yes\", \"count\": 8, \"ratio\": 0.16666666666666666}, {\"year\": \"1992-01-01T00:00:00\", \"type\": \"No\", \"count\": 39, \"ratio\": 0.7647058823529411}, {\"year\": \"1992-01-01T00:00:00\", \"type\": \"Yes\", \"count\": 12, \"ratio\": 0.23529411764705882}, {\"year\": \"1993-01-01T00:00:00\", \"type\": \"No\", \"count\": 47, \"ratio\": 0.8545454545454545}, {\"year\": \"1993-01-01T00:00:00\", \"type\": \"Yes\", \"count\": 8, \"ratio\": 0.14545454545454545}, {\"year\": \"1994-01-01T00:00:00\", \"type\": \"No\", \"count\": 47, \"ratio\": 0.9038461538461539}, {\"year\": \"1994-01-01T00:00:00\", \"type\": \"Yes\", \"count\": 5, \"ratio\": 0.09615384615384616}, {\"year\": \"1995-01-01T00:00:00\", \"type\": \"No\", \"count\": 67, \"ratio\": 0.9054054054054054}, {\"year\": \"1995-01-01T00:00:00\", \"type\": \"Yes\", \"count\": 7, \"ratio\": 0.0945945945945946}, {\"year\": \"1996-01-01T00:00:00\", \"type\": \"No\", \"count\": 60, \"ratio\": 0.7792207792207793}, {\"year\": \"1996-01-01T00:00:00\", \"type\": \"Yes\", \"count\": 17, \"ratio\": 0.22077922077922077}, {\"year\": \"1997-01-01T00:00:00\", \"type\": \"No\", \"count\": 79, \"ratio\": 0.8977272727272727}, {\"year\": \"1997-01-01T00:00:00\", \"type\": \"Yes\", \"count\": 9, \"ratio\": 0.10227272727272728}, {\"year\": \"1998-01-01T00:00:00\", \"type\": \"No\", \"count\": 77, \"ratio\": 0.8555555555555555}, {\"year\": \"1998-01-01T00:00:00\", \"type\": \"Yes\", \"count\": 13, \"ratio\": 0.14444444444444443}, {\"year\": \"1999-01-01T00:00:00\", \"type\": \"No\", \"count\": 72, \"ratio\": 0.8181818181818182}, {\"year\": \"1999-01-01T00:00:00\", \"type\": \"Yes\", \"count\": 16, \"ratio\": 0.18181818181818182}, {\"year\": \"2000-01-01T00:00:00\", \"type\": \"No\", \"count\": 69, \"ratio\": 0.75}, {\"year\": \"2000-01-01T00:00:00\", \"type\": \"Yes\", \"count\": 23, \"ratio\": 0.25}, {\"year\": \"2001-01-01T00:00:00\", \"type\": \"No\", \"count\": 69, \"ratio\": 0.71875}, {\"year\": \"2001-01-01T00:00:00\", \"type\": \"Yes\", \"count\": 27, \"ratio\": 0.28125}, {\"year\": \"2002-01-01T00:00:00\", \"type\": \"No\", \"count\": 86, \"ratio\": 0.8514851485148515}, {\"year\": \"2002-01-01T00:00:00\", \"type\": \"Yes\", \"count\": 15, \"ratio\": 0.1485148514851485}, {\"year\": \"2003-01-01T00:00:00\", \"type\": \"No\", \"count\": 84, \"ratio\": 0.8235294117647058}, {\"year\": \"2003-01-01T00:00:00\", \"type\": \"Yes\", \"count\": 18, \"ratio\": 0.17647058823529413}, {\"year\": \"2004-01-01T00:00:00\", \"type\": \"No\", \"count\": 78, \"ratio\": 0.8041237113402062}, {\"year\": \"2004-01-01T00:00:00\", \"type\": \"Yes\", \"count\": 19, \"ratio\": 0.1958762886597938}, {\"year\": \"2005-01-01T00:00:00\", \"type\": \"No\", \"count\": 96, \"ratio\": 0.8067226890756303}, {\"year\": \"2005-01-01T00:00:00\", \"type\": \"Yes\", \"count\": 23, \"ratio\": 0.19327731092436976}, {\"year\": \"2006-01-01T00:00:00\", \"type\": \"No\", \"count\": 93, \"ratio\": 0.8230088495575221}, {\"year\": \"2006-01-01T00:00:00\", \"type\": \"Yes\", \"count\": 20, \"ratio\": 0.17699115044247787}, {\"year\": \"2007-01-01T00:00:00\", \"type\": \"No\", \"count\": 72, \"ratio\": 0.6728971962616822}, {\"year\": \"2007-01-01T00:00:00\", \"type\": \"Yes\", \"count\": 35, \"ratio\": 0.32710280373831774}, {\"year\": \"2008-01-01T00:00:00\", \"type\": \"No\", \"count\": 73, \"ratio\": 0.7373737373737373}, {\"year\": \"2008-01-01T00:00:00\", \"type\": \"Yes\", \"count\": 26, \"ratio\": 0.26262626262626265}, {\"year\": \"2009-01-01T00:00:00\", \"type\": \"No\", \"count\": 84, \"ratio\": 0.717948717948718}, {\"year\": \"2009-01-01T00:00:00\", \"type\": \"Yes\", \"count\": 33, \"ratio\": 0.28205128205128205}, {\"year\": \"2010-01-01T00:00:00\", \"type\": \"No\", \"count\": 83, \"ratio\": 0.7614678899082569}, {\"year\": \"2010-01-01T00:00:00\", \"type\": \"Yes\", \"count\": 26, \"ratio\": 0.23853211009174313}, {\"year\": \"2011-01-01T00:00:00\", \"type\": \"No\", \"count\": 92, \"ratio\": 0.773109243697479}, {\"year\": \"2011-01-01T00:00:00\", \"type\": \"Yes\", \"count\": 27, \"ratio\": 0.226890756302521}, {\"year\": \"2012-01-01T00:00:00\", \"type\": \"No\", \"count\": 80, \"ratio\": 0.6896551724137931}, {\"year\": \"2012-01-01T00:00:00\", \"type\": \"Yes\", \"count\": 36, \"ratio\": 0.3103448275862069}, {\"year\": \"2013-01-01T00:00:00\", \"type\": \"No\", \"count\": 75, \"ratio\": 0.7425742574257426}, {\"year\": \"2013-01-01T00:00:00\", \"type\": \"Yes\", \"count\": 26, \"ratio\": 0.25742574257425743}, {\"year\": \"2014-01-01T00:00:00\", \"type\": \"No\", \"count\": 94, \"ratio\": 0.7121212121212122}, {\"year\": \"2014-01-01T00:00:00\", \"type\": \"Yes\", \"count\": 38, \"ratio\": 0.2878787878787879}, {\"year\": \"2015-01-01T00:00:00\", \"type\": \"No\", \"count\": 89, \"ratio\": 0.7007874015748031}, {\"year\": \"2015-01-01T00:00:00\", \"type\": \"Yes\", \"count\": 38, \"ratio\": 0.2992125984251969}, {\"year\": \"2016-01-01T00:00:00\", \"type\": \"No\", \"count\": 77, \"ratio\": 0.6695652173913044}, {\"year\": \"2016-01-01T00:00:00\", \"type\": \"Yes\", \"count\": 38, \"ratio\": 0.33043478260869563}, {\"year\": \"2017-01-01T00:00:00\", \"type\": \"No\", \"count\": 72, \"ratio\": 0.631578947368421}, {\"year\": \"2017-01-01T00:00:00\", \"type\": \"Yes\", \"count\": 42, \"ratio\": 0.3684210526315789}, {\"year\": \"2018-01-01T00:00:00\", \"type\": \"No\", \"count\": 72, \"ratio\": 0.5669291338582677}, {\"year\": \"2018-01-01T00:00:00\", \"type\": \"Yes\", \"count\": 55, \"ratio\": 0.4330708661417323}, {\"year\": \"2019-01-01T00:00:00\", \"type\": \"No\", \"count\": 92, \"ratio\": 0.7131782945736435}, {\"year\": \"2019-01-01T00:00:00\", \"type\": \"Yes\", \"count\": 37, \"ratio\": 0.2868217054263566}, {\"year\": \"2020-01-01T00:00:00\", \"type\": \"No\", \"count\": 113, \"ratio\": 0.7197452229299363}, {\"year\": \"2020-01-01T00:00:00\", \"type\": \"Yes\", \"count\": 44, \"ratio\": 0.2802547770700637}, {\"year\": \"2021-01-01T00:00:00\", \"type\": \"No\", \"count\": 119, \"ratio\": 0.7041420118343196}, {\"year\": \"2021-01-01T00:00:00\", \"type\": \"Yes\", \"count\": 50, \"ratio\": 0.2958579881656805}], \"data-40e384783310fb81a9bd53e818d8c686\": [{\"year\": \"1990-01-01T00:00:00\", \"type\": \"No\", \"count\": 50, \"ratio\": 0.9615384615384616}, {\"year\": \"1990-01-01T00:00:00\", \"type\": \"Yes\", \"count\": 2, \"ratio\": 0.038461538461538464}, {\"year\": \"1991-01-01T00:00:00\", \"type\": \"No\", \"count\": 46, \"ratio\": 0.9583333333333334}, {\"year\": \"1991-01-01T00:00:00\", \"type\": \"Yes\", \"count\": 2, \"ratio\": 0.041666666666666664}, {\"year\": \"1992-01-01T00:00:00\", \"type\": \"No\", \"count\": 45, \"ratio\": 0.8823529411764706}, {\"year\": \"1992-01-01T00:00:00\", \"type\": \"Yes\", \"count\": 6, \"ratio\": 0.11764705882352941}, {\"year\": \"1993-01-01T00:00:00\", \"type\": \"No\", \"count\": 50, \"ratio\": 0.9090909090909091}, {\"year\": \"1993-01-01T00:00:00\", \"type\": \"Yes\", \"count\": 5, \"ratio\": 0.09090909090909091}, {\"year\": \"1994-01-01T00:00:00\", \"type\": \"No\", \"count\": 47, \"ratio\": 0.9038461538461539}, {\"year\": \"1994-01-01T00:00:00\", \"type\": \"Yes\", \"count\": 5, \"ratio\": 0.09615384615384616}, {\"year\": \"1995-01-01T00:00:00\", \"type\": \"No\", \"count\": 69, \"ratio\": 0.9324324324324325}, {\"year\": \"1995-01-01T00:00:00\", \"type\": \"Yes\", \"count\": 5, \"ratio\": 0.06756756756756757}, {\"year\": \"1996-01-01T00:00:00\", \"type\": \"No\", \"count\": 69, \"ratio\": 0.8961038961038961}, {\"year\": \"1996-01-01T00:00:00\", \"type\": \"Yes\", \"count\": 8, \"ratio\": 0.1038961038961039}, {\"year\": \"1997-01-01T00:00:00\", \"type\": \"No\", \"count\": 81, \"ratio\": 0.9204545454545454}, {\"year\": \"1997-01-01T00:00:00\", \"type\": \"Yes\", \"count\": 7, \"ratio\": 0.07954545454545454}, {\"year\": \"1998-01-01T00:00:00\", \"type\": \"No\", \"count\": 83, \"ratio\": 0.9222222222222223}, {\"year\": \"1998-01-01T00:00:00\", \"type\": \"Yes\", \"count\": 7, \"ratio\": 0.07777777777777778}, {\"year\": \"1999-01-01T00:00:00\", \"type\": \"No\", \"count\": 81, \"ratio\": 0.9204545454545454}, {\"year\": \"1999-01-01T00:00:00\", \"type\": \"Yes\", \"count\": 7, \"ratio\": 0.07954545454545454}, {\"year\": \"2000-01-01T00:00:00\", \"type\": \"No\", \"count\": 80, \"ratio\": 0.8695652173913043}, {\"year\": \"2000-01-01T00:00:00\", \"type\": \"Yes\", \"count\": 12, \"ratio\": 0.13043478260869565}, {\"year\": \"2001-01-01T00:00:00\", \"type\": \"No\", \"count\": 81, \"ratio\": 0.84375}, {\"year\": \"2001-01-01T00:00:00\", \"type\": \"Yes\", \"count\": 15, \"ratio\": 0.15625}, {\"year\": \"2002-01-01T00:00:00\", \"type\": \"No\", \"count\": 85, \"ratio\": 0.8415841584158416}, {\"year\": \"2002-01-01T00:00:00\", \"type\": \"Yes\", \"count\": 16, \"ratio\": 0.15841584158415842}, {\"year\": \"2003-01-01T00:00:00\", \"type\": \"No\", \"count\": 90, \"ratio\": 0.8823529411764706}, {\"year\": \"2003-01-01T00:00:00\", \"type\": \"Yes\", \"count\": 12, \"ratio\": 0.11764705882352941}, {\"year\": \"2004-01-01T00:00:00\", \"type\": \"No\", \"count\": 79, \"ratio\": 0.8144329896907216}, {\"year\": \"2004-01-01T00:00:00\", \"type\": \"Yes\", \"count\": 18, \"ratio\": 0.18556701030927836}, {\"year\": \"2005-01-01T00:00:00\", \"type\": \"No\", \"count\": 96, \"ratio\": 0.8067226890756303}, {\"year\": \"2005-01-01T00:00:00\", \"type\": \"Yes\", \"count\": 23, \"ratio\": 0.19327731092436976}, {\"year\": \"2006-01-01T00:00:00\", \"type\": \"No\", \"count\": 85, \"ratio\": 0.7522123893805309}, {\"year\": \"2006-01-01T00:00:00\", \"type\": \"Yes\", \"count\": 28, \"ratio\": 0.24778761061946902}, {\"year\": \"2007-01-01T00:00:00\", \"type\": \"No\", \"count\": 75, \"ratio\": 0.7009345794392523}, {\"year\": \"2007-01-01T00:00:00\", \"type\": \"Yes\", \"count\": 32, \"ratio\": 0.29906542056074764}, {\"year\": \"2008-01-01T00:00:00\", \"type\": \"No\", \"count\": 74, \"ratio\": 0.7474747474747475}, {\"year\": \"2008-01-01T00:00:00\", \"type\": \"Yes\", \"count\": 25, \"ratio\": 0.25252525252525254}, {\"year\": \"2009-01-01T00:00:00\", \"type\": \"No\", \"count\": 90, \"ratio\": 0.7692307692307693}, {\"year\": \"2009-01-01T00:00:00\", \"type\": \"Yes\", \"count\": 27, \"ratio\": 0.23076923076923078}, {\"year\": \"2010-01-01T00:00:00\", \"type\": \"No\", \"count\": 78, \"ratio\": 0.7155963302752294}, {\"year\": \"2010-01-01T00:00:00\", \"type\": \"Yes\", \"count\": 31, \"ratio\": 0.28440366972477066}, {\"year\": \"2011-01-01T00:00:00\", \"type\": \"No\", \"count\": 91, \"ratio\": 0.7647058823529411}, {\"year\": \"2011-01-01T00:00:00\", \"type\": \"Yes\", \"count\": 28, \"ratio\": 0.23529411764705882}, {\"year\": \"2012-01-01T00:00:00\", \"type\": \"No\", \"count\": 75, \"ratio\": 0.646551724137931}, {\"year\": \"2012-01-01T00:00:00\", \"type\": \"Yes\", \"count\": 41, \"ratio\": 0.35344827586206895}, {\"year\": \"2013-01-01T00:00:00\", \"type\": \"No\", \"count\": 75, \"ratio\": 0.7425742574257426}, {\"year\": \"2013-01-01T00:00:00\", \"type\": \"Yes\", \"count\": 26, \"ratio\": 0.25742574257425743}, {\"year\": \"2014-01-01T00:00:00\", \"type\": \"No\", \"count\": 84, \"ratio\": 0.6363636363636364}, {\"year\": \"2014-01-01T00:00:00\", \"type\": \"Yes\", \"count\": 48, \"ratio\": 0.36363636363636365}, {\"year\": \"2015-01-01T00:00:00\", \"type\": \"No\", \"count\": 80, \"ratio\": 0.6299212598425197}, {\"year\": \"2015-01-01T00:00:00\", \"type\": \"Yes\", \"count\": 47, \"ratio\": 0.3700787401574803}, {\"year\": \"2016-01-01T00:00:00\", \"type\": \"No\", \"count\": 67, \"ratio\": 0.5826086956521739}, {\"year\": \"2016-01-01T00:00:00\", \"type\": \"Yes\", \"count\": 48, \"ratio\": 0.41739130434782606}, {\"year\": \"2017-01-01T00:00:00\", \"type\": \"No\", \"count\": 65, \"ratio\": 0.5701754385964912}, {\"year\": \"2017-01-01T00:00:00\", \"type\": \"Yes\", \"count\": 49, \"ratio\": 0.4298245614035088}, {\"year\": \"2018-01-01T00:00:00\", \"type\": \"No\", \"count\": 81, \"ratio\": 0.6377952755905512}, {\"year\": \"2018-01-01T00:00:00\", \"type\": \"Yes\", \"count\": 46, \"ratio\": 0.36220472440944884}, {\"year\": \"2019-01-01T00:00:00\", \"type\": \"No\", \"count\": 80, \"ratio\": 0.6201550387596899}, {\"year\": \"2019-01-01T00:00:00\", \"type\": \"Yes\", \"count\": 49, \"ratio\": 0.3798449612403101}, {\"year\": \"2020-01-01T00:00:00\", \"type\": \"No\", \"count\": 95, \"ratio\": 0.6050955414012739}, {\"year\": \"2020-01-01T00:00:00\", \"type\": \"Yes\", \"count\": 62, \"ratio\": 0.39490445859872614}, {\"year\": \"2021-01-01T00:00:00\", \"type\": \"No\", \"count\": 93, \"ratio\": 0.5502958579881657}, {\"year\": \"2021-01-01T00:00:00\", \"type\": \"Yes\", \"count\": 76, \"ratio\": 0.44970414201183434}]}}, {\"mode\": \"vega-lite\"});\n",
       "</script>"
      ],
      "text/plain": [
       "alt.LayerChart(...)"
      ]
     },
     "execution_count": 104,
     "metadata": {},
     "output_type": "execute_result"
    }
   ],
   "source": [
    "alt.layer(\n",
    "    cross_type_count,\n",
    "    cross_country_count\n",
    ").resolve_scale(\n",
    "    color='independent'\n",
    ")"
   ]
  },
  {
   "cell_type": "code",
   "execution_count": 105,
   "id": "191b818c",
   "metadata": {},
   "outputs": [
    {
     "data": {
      "text/html": [
       "\n",
       "<div id=\"altair-viz-4b1519279dfb4bd68e71c914b214f339\"></div>\n",
       "<script type=\"text/javascript\">\n",
       "  var VEGA_DEBUG = (typeof VEGA_DEBUG == \"undefined\") ? {} : VEGA_DEBUG;\n",
       "  (function(spec, embedOpt){\n",
       "    let outputDiv = document.currentScript.previousElementSibling;\n",
       "    if (outputDiv.id !== \"altair-viz-4b1519279dfb4bd68e71c914b214f339\") {\n",
       "      outputDiv = document.getElementById(\"altair-viz-4b1519279dfb4bd68e71c914b214f339\");\n",
       "    }\n",
       "    const paths = {\n",
       "      \"vega\": \"https://cdn.jsdelivr.net/npm//vega@5?noext\",\n",
       "      \"vega-lib\": \"https://cdn.jsdelivr.net/npm//vega-lib?noext\",\n",
       "      \"vega-lite\": \"https://cdn.jsdelivr.net/npm//vega-lite@4.17.0?noext\",\n",
       "      \"vega-embed\": \"https://cdn.jsdelivr.net/npm//vega-embed@6?noext\",\n",
       "    };\n",
       "\n",
       "    function maybeLoadScript(lib, version) {\n",
       "      var key = `${lib.replace(\"-\", \"\")}_version`;\n",
       "      return (VEGA_DEBUG[key] == version) ?\n",
       "        Promise.resolve(paths[lib]) :\n",
       "        new Promise(function(resolve, reject) {\n",
       "          var s = document.createElement('script');\n",
       "          document.getElementsByTagName(\"head\")[0].appendChild(s);\n",
       "          s.async = true;\n",
       "          s.onload = () => {\n",
       "            VEGA_DEBUG[key] = version;\n",
       "            return resolve(paths[lib]);\n",
       "          };\n",
       "          s.onerror = () => reject(`Error loading script: ${paths[lib]}`);\n",
       "          s.src = paths[lib];\n",
       "        });\n",
       "    }\n",
       "\n",
       "    function showError(err) {\n",
       "      outputDiv.innerHTML = `<div class=\"error\" style=\"color:red;\">${err}</div>`;\n",
       "      throw err;\n",
       "    }\n",
       "\n",
       "    function displayChart(vegaEmbed) {\n",
       "      vegaEmbed(outputDiv, spec, embedOpt)\n",
       "        .catch(err => showError(`Javascript Error: ${err.message}<br>This usually means there's a typo in your chart specification. See the javascript console for the full traceback.`));\n",
       "    }\n",
       "\n",
       "    if(typeof define === \"function\" && define.amd) {\n",
       "      requirejs.config({paths});\n",
       "      require([\"vega-embed\"], displayChart, err => showError(`Error loading script: ${err.message}`));\n",
       "    } else {\n",
       "      maybeLoadScript(\"vega\", \"5\")\n",
       "        .then(() => maybeLoadScript(\"vega-lite\", \"4.17.0\"))\n",
       "        .then(() => maybeLoadScript(\"vega-embed\", \"6\"))\n",
       "        .catch(showError)\n",
       "        .then(() => displayChart(vegaEmbed));\n",
       "    }\n",
       "  })({\"config\": {\"view\": {\"continuousWidth\": 400, \"continuousHeight\": 300}}, \"layer\": [{\"data\": {\"name\": \"data-6018ed2494c8d8420280e0ef8b3ed4ae\"}, \"mark\": \"line\", \"encoding\": {\"color\": {\"field\": \"type\", \"scale\": {\"domain\": [\"No\", \"Yes\"], \"range\": [\"purple\", \"green\"]}, \"sort\": [\"Yes\", \"No\"], \"title\": \"Cross-type collab.\", \"type\": \"nominal\"}, \"x\": {\"field\": \"year\", \"type\": \"temporal\"}, \"y\": {\"field\": \"ratio\", \"title\": \"Ratio\", \"type\": \"quantitative\"}}}, {\"data\": {\"name\": \"data-40e384783310fb81a9bd53e818d8c686\"}, \"mark\": \"line\", \"encoding\": {\"color\": {\"field\": \"type\", \"scale\": {\"domain\": [\"Yes\", \"No\"], \"range\": [\"steelblue\", \"orange\"]}, \"sort\": [\"Yes\", \"No\"], \"title\": \"Cross-country collab.\", \"type\": \"nominal\"}, \"x\": {\"field\": \"year\", \"type\": \"temporal\"}, \"y\": {\"field\": \"ratio\", \"title\": \"Ratio\", \"type\": \"quantitative\"}}}], \"resolve\": {\"scale\": {\"color\": \"independent\"}}, \"$schema\": \"https://vega.github.io/schema/vega-lite/v4.17.0.json\", \"datasets\": {\"data-6018ed2494c8d8420280e0ef8b3ed4ae\": [{\"year\": \"1990-01-01T00:00:00\", \"type\": \"No\", \"count\": 47, \"ratio\": 0.9038461538461539}, {\"year\": \"1990-01-01T00:00:00\", \"type\": \"Yes\", \"count\": 5, \"ratio\": 0.09615384615384616}, {\"year\": \"1991-01-01T00:00:00\", \"type\": \"No\", \"count\": 40, \"ratio\": 0.8333333333333334}, {\"year\": \"1991-01-01T00:00:00\", \"type\": \"Yes\", \"count\": 8, \"ratio\": 0.16666666666666666}, {\"year\": \"1992-01-01T00:00:00\", \"type\": \"No\", \"count\": 39, \"ratio\": 0.7647058823529411}, {\"year\": \"1992-01-01T00:00:00\", \"type\": \"Yes\", \"count\": 12, \"ratio\": 0.23529411764705882}, {\"year\": \"1993-01-01T00:00:00\", \"type\": \"No\", \"count\": 47, \"ratio\": 0.8545454545454545}, {\"year\": \"1993-01-01T00:00:00\", \"type\": \"Yes\", \"count\": 8, \"ratio\": 0.14545454545454545}, {\"year\": \"1994-01-01T00:00:00\", \"type\": \"No\", \"count\": 47, \"ratio\": 0.9038461538461539}, {\"year\": \"1994-01-01T00:00:00\", \"type\": \"Yes\", \"count\": 5, \"ratio\": 0.09615384615384616}, {\"year\": \"1995-01-01T00:00:00\", \"type\": \"No\", \"count\": 67, \"ratio\": 0.9054054054054054}, {\"year\": \"1995-01-01T00:00:00\", \"type\": \"Yes\", \"count\": 7, \"ratio\": 0.0945945945945946}, {\"year\": \"1996-01-01T00:00:00\", \"type\": \"No\", \"count\": 60, \"ratio\": 0.7792207792207793}, {\"year\": \"1996-01-01T00:00:00\", \"type\": \"Yes\", \"count\": 17, \"ratio\": 0.22077922077922077}, {\"year\": \"1997-01-01T00:00:00\", \"type\": \"No\", \"count\": 79, \"ratio\": 0.8977272727272727}, {\"year\": \"1997-01-01T00:00:00\", \"type\": \"Yes\", \"count\": 9, \"ratio\": 0.10227272727272728}, {\"year\": \"1998-01-01T00:00:00\", \"type\": \"No\", \"count\": 77, \"ratio\": 0.8555555555555555}, {\"year\": \"1998-01-01T00:00:00\", \"type\": \"Yes\", \"count\": 13, \"ratio\": 0.14444444444444443}, {\"year\": \"1999-01-01T00:00:00\", \"type\": \"No\", \"count\": 72, \"ratio\": 0.8181818181818182}, {\"year\": \"1999-01-01T00:00:00\", \"type\": \"Yes\", \"count\": 16, \"ratio\": 0.18181818181818182}, {\"year\": \"2000-01-01T00:00:00\", \"type\": \"No\", \"count\": 69, \"ratio\": 0.75}, {\"year\": \"2000-01-01T00:00:00\", \"type\": \"Yes\", \"count\": 23, \"ratio\": 0.25}, {\"year\": \"2001-01-01T00:00:00\", \"type\": \"No\", \"count\": 69, \"ratio\": 0.71875}, {\"year\": \"2001-01-01T00:00:00\", \"type\": \"Yes\", \"count\": 27, \"ratio\": 0.28125}, {\"year\": \"2002-01-01T00:00:00\", \"type\": \"No\", \"count\": 86, \"ratio\": 0.8514851485148515}, {\"year\": \"2002-01-01T00:00:00\", \"type\": \"Yes\", \"count\": 15, \"ratio\": 0.1485148514851485}, {\"year\": \"2003-01-01T00:00:00\", \"type\": \"No\", \"count\": 84, \"ratio\": 0.8235294117647058}, {\"year\": \"2003-01-01T00:00:00\", \"type\": \"Yes\", \"count\": 18, \"ratio\": 0.17647058823529413}, {\"year\": \"2004-01-01T00:00:00\", \"type\": \"No\", \"count\": 78, \"ratio\": 0.8041237113402062}, {\"year\": \"2004-01-01T00:00:00\", \"type\": \"Yes\", \"count\": 19, \"ratio\": 0.1958762886597938}, {\"year\": \"2005-01-01T00:00:00\", \"type\": \"No\", \"count\": 96, \"ratio\": 0.8067226890756303}, {\"year\": \"2005-01-01T00:00:00\", \"type\": \"Yes\", \"count\": 23, \"ratio\": 0.19327731092436976}, {\"year\": \"2006-01-01T00:00:00\", \"type\": \"No\", \"count\": 93, \"ratio\": 0.8230088495575221}, {\"year\": \"2006-01-01T00:00:00\", \"type\": \"Yes\", \"count\": 20, \"ratio\": 0.17699115044247787}, {\"year\": \"2007-01-01T00:00:00\", \"type\": \"No\", \"count\": 72, \"ratio\": 0.6728971962616822}, {\"year\": \"2007-01-01T00:00:00\", \"type\": \"Yes\", \"count\": 35, \"ratio\": 0.32710280373831774}, {\"year\": \"2008-01-01T00:00:00\", \"type\": \"No\", \"count\": 73, \"ratio\": 0.7373737373737373}, {\"year\": \"2008-01-01T00:00:00\", \"type\": \"Yes\", \"count\": 26, \"ratio\": 0.26262626262626265}, {\"year\": \"2009-01-01T00:00:00\", \"type\": \"No\", \"count\": 84, \"ratio\": 0.717948717948718}, {\"year\": \"2009-01-01T00:00:00\", \"type\": \"Yes\", \"count\": 33, \"ratio\": 0.28205128205128205}, {\"year\": \"2010-01-01T00:00:00\", \"type\": \"No\", \"count\": 83, \"ratio\": 0.7614678899082569}, {\"year\": \"2010-01-01T00:00:00\", \"type\": \"Yes\", \"count\": 26, \"ratio\": 0.23853211009174313}, {\"year\": \"2011-01-01T00:00:00\", \"type\": \"No\", \"count\": 92, \"ratio\": 0.773109243697479}, {\"year\": \"2011-01-01T00:00:00\", \"type\": \"Yes\", \"count\": 27, \"ratio\": 0.226890756302521}, {\"year\": \"2012-01-01T00:00:00\", \"type\": \"No\", \"count\": 80, \"ratio\": 0.6896551724137931}, {\"year\": \"2012-01-01T00:00:00\", \"type\": \"Yes\", \"count\": 36, \"ratio\": 0.3103448275862069}, {\"year\": \"2013-01-01T00:00:00\", \"type\": \"No\", \"count\": 75, \"ratio\": 0.7425742574257426}, {\"year\": \"2013-01-01T00:00:00\", \"type\": \"Yes\", \"count\": 26, \"ratio\": 0.25742574257425743}, {\"year\": \"2014-01-01T00:00:00\", \"type\": \"No\", \"count\": 94, \"ratio\": 0.7121212121212122}, {\"year\": \"2014-01-01T00:00:00\", \"type\": \"Yes\", \"count\": 38, \"ratio\": 0.2878787878787879}, {\"year\": \"2015-01-01T00:00:00\", \"type\": \"No\", \"count\": 89, \"ratio\": 0.7007874015748031}, {\"year\": \"2015-01-01T00:00:00\", \"type\": \"Yes\", \"count\": 38, \"ratio\": 0.2992125984251969}, {\"year\": \"2016-01-01T00:00:00\", \"type\": \"No\", \"count\": 77, \"ratio\": 0.6695652173913044}, {\"year\": \"2016-01-01T00:00:00\", \"type\": \"Yes\", \"count\": 38, \"ratio\": 0.33043478260869563}, {\"year\": \"2017-01-01T00:00:00\", \"type\": \"No\", \"count\": 72, \"ratio\": 0.631578947368421}, {\"year\": \"2017-01-01T00:00:00\", \"type\": \"Yes\", \"count\": 42, \"ratio\": 0.3684210526315789}, {\"year\": \"2018-01-01T00:00:00\", \"type\": \"No\", \"count\": 72, \"ratio\": 0.5669291338582677}, {\"year\": \"2018-01-01T00:00:00\", \"type\": \"Yes\", \"count\": 55, \"ratio\": 0.4330708661417323}, {\"year\": \"2019-01-01T00:00:00\", \"type\": \"No\", \"count\": 92, \"ratio\": 0.7131782945736435}, {\"year\": \"2019-01-01T00:00:00\", \"type\": \"Yes\", \"count\": 37, \"ratio\": 0.2868217054263566}, {\"year\": \"2020-01-01T00:00:00\", \"type\": \"No\", \"count\": 113, \"ratio\": 0.7197452229299363}, {\"year\": \"2020-01-01T00:00:00\", \"type\": \"Yes\", \"count\": 44, \"ratio\": 0.2802547770700637}, {\"year\": \"2021-01-01T00:00:00\", \"type\": \"No\", \"count\": 119, \"ratio\": 0.7041420118343196}, {\"year\": \"2021-01-01T00:00:00\", \"type\": \"Yes\", \"count\": 50, \"ratio\": 0.2958579881656805}], \"data-40e384783310fb81a9bd53e818d8c686\": [{\"year\": \"1990-01-01T00:00:00\", \"type\": \"No\", \"count\": 50, \"ratio\": 0.9615384615384616}, {\"year\": \"1990-01-01T00:00:00\", \"type\": \"Yes\", \"count\": 2, \"ratio\": 0.038461538461538464}, {\"year\": \"1991-01-01T00:00:00\", \"type\": \"No\", \"count\": 46, \"ratio\": 0.9583333333333334}, {\"year\": \"1991-01-01T00:00:00\", \"type\": \"Yes\", \"count\": 2, \"ratio\": 0.041666666666666664}, {\"year\": \"1992-01-01T00:00:00\", \"type\": \"No\", \"count\": 45, \"ratio\": 0.8823529411764706}, {\"year\": \"1992-01-01T00:00:00\", \"type\": \"Yes\", \"count\": 6, \"ratio\": 0.11764705882352941}, {\"year\": \"1993-01-01T00:00:00\", \"type\": \"No\", \"count\": 50, \"ratio\": 0.9090909090909091}, {\"year\": \"1993-01-01T00:00:00\", \"type\": \"Yes\", \"count\": 5, \"ratio\": 0.09090909090909091}, {\"year\": \"1994-01-01T00:00:00\", \"type\": \"No\", \"count\": 47, \"ratio\": 0.9038461538461539}, {\"year\": \"1994-01-01T00:00:00\", \"type\": \"Yes\", \"count\": 5, \"ratio\": 0.09615384615384616}, {\"year\": \"1995-01-01T00:00:00\", \"type\": \"No\", \"count\": 69, \"ratio\": 0.9324324324324325}, {\"year\": \"1995-01-01T00:00:00\", \"type\": \"Yes\", \"count\": 5, \"ratio\": 0.06756756756756757}, {\"year\": \"1996-01-01T00:00:00\", \"type\": \"No\", \"count\": 69, \"ratio\": 0.8961038961038961}, {\"year\": \"1996-01-01T00:00:00\", \"type\": \"Yes\", \"count\": 8, \"ratio\": 0.1038961038961039}, {\"year\": \"1997-01-01T00:00:00\", \"type\": \"No\", \"count\": 81, \"ratio\": 0.9204545454545454}, {\"year\": \"1997-01-01T00:00:00\", \"type\": \"Yes\", \"count\": 7, \"ratio\": 0.07954545454545454}, {\"year\": \"1998-01-01T00:00:00\", \"type\": \"No\", \"count\": 83, \"ratio\": 0.9222222222222223}, {\"year\": \"1998-01-01T00:00:00\", \"type\": \"Yes\", \"count\": 7, \"ratio\": 0.07777777777777778}, {\"year\": \"1999-01-01T00:00:00\", \"type\": \"No\", \"count\": 81, \"ratio\": 0.9204545454545454}, {\"year\": \"1999-01-01T00:00:00\", \"type\": \"Yes\", \"count\": 7, \"ratio\": 0.07954545454545454}, {\"year\": \"2000-01-01T00:00:00\", \"type\": \"No\", \"count\": 80, \"ratio\": 0.8695652173913043}, {\"year\": \"2000-01-01T00:00:00\", \"type\": \"Yes\", \"count\": 12, \"ratio\": 0.13043478260869565}, {\"year\": \"2001-01-01T00:00:00\", \"type\": \"No\", \"count\": 81, \"ratio\": 0.84375}, {\"year\": \"2001-01-01T00:00:00\", \"type\": \"Yes\", \"count\": 15, \"ratio\": 0.15625}, {\"year\": \"2002-01-01T00:00:00\", \"type\": \"No\", \"count\": 85, \"ratio\": 0.8415841584158416}, {\"year\": \"2002-01-01T00:00:00\", \"type\": \"Yes\", \"count\": 16, \"ratio\": 0.15841584158415842}, {\"year\": \"2003-01-01T00:00:00\", \"type\": \"No\", \"count\": 90, \"ratio\": 0.8823529411764706}, {\"year\": \"2003-01-01T00:00:00\", \"type\": \"Yes\", \"count\": 12, \"ratio\": 0.11764705882352941}, {\"year\": \"2004-01-01T00:00:00\", \"type\": \"No\", \"count\": 79, \"ratio\": 0.8144329896907216}, {\"year\": \"2004-01-01T00:00:00\", \"type\": \"Yes\", \"count\": 18, \"ratio\": 0.18556701030927836}, {\"year\": \"2005-01-01T00:00:00\", \"type\": \"No\", \"count\": 96, \"ratio\": 0.8067226890756303}, {\"year\": \"2005-01-01T00:00:00\", \"type\": \"Yes\", \"count\": 23, \"ratio\": 0.19327731092436976}, {\"year\": \"2006-01-01T00:00:00\", \"type\": \"No\", \"count\": 85, \"ratio\": 0.7522123893805309}, {\"year\": \"2006-01-01T00:00:00\", \"type\": \"Yes\", \"count\": 28, \"ratio\": 0.24778761061946902}, {\"year\": \"2007-01-01T00:00:00\", \"type\": \"No\", \"count\": 75, \"ratio\": 0.7009345794392523}, {\"year\": \"2007-01-01T00:00:00\", \"type\": \"Yes\", \"count\": 32, \"ratio\": 0.29906542056074764}, {\"year\": \"2008-01-01T00:00:00\", \"type\": \"No\", \"count\": 74, \"ratio\": 0.7474747474747475}, {\"year\": \"2008-01-01T00:00:00\", \"type\": \"Yes\", \"count\": 25, \"ratio\": 0.25252525252525254}, {\"year\": \"2009-01-01T00:00:00\", \"type\": \"No\", \"count\": 90, \"ratio\": 0.7692307692307693}, {\"year\": \"2009-01-01T00:00:00\", \"type\": \"Yes\", \"count\": 27, \"ratio\": 0.23076923076923078}, {\"year\": \"2010-01-01T00:00:00\", \"type\": \"No\", \"count\": 78, \"ratio\": 0.7155963302752294}, {\"year\": \"2010-01-01T00:00:00\", \"type\": \"Yes\", \"count\": 31, \"ratio\": 0.28440366972477066}, {\"year\": \"2011-01-01T00:00:00\", \"type\": \"No\", \"count\": 91, \"ratio\": 0.7647058823529411}, {\"year\": \"2011-01-01T00:00:00\", \"type\": \"Yes\", \"count\": 28, \"ratio\": 0.23529411764705882}, {\"year\": \"2012-01-01T00:00:00\", \"type\": \"No\", \"count\": 75, \"ratio\": 0.646551724137931}, {\"year\": \"2012-01-01T00:00:00\", \"type\": \"Yes\", \"count\": 41, \"ratio\": 0.35344827586206895}, {\"year\": \"2013-01-01T00:00:00\", \"type\": \"No\", \"count\": 75, \"ratio\": 0.7425742574257426}, {\"year\": \"2013-01-01T00:00:00\", \"type\": \"Yes\", \"count\": 26, \"ratio\": 0.25742574257425743}, {\"year\": \"2014-01-01T00:00:00\", \"type\": \"No\", \"count\": 84, \"ratio\": 0.6363636363636364}, {\"year\": \"2014-01-01T00:00:00\", \"type\": \"Yes\", \"count\": 48, \"ratio\": 0.36363636363636365}, {\"year\": \"2015-01-01T00:00:00\", \"type\": \"No\", \"count\": 80, \"ratio\": 0.6299212598425197}, {\"year\": \"2015-01-01T00:00:00\", \"type\": \"Yes\", \"count\": 47, \"ratio\": 0.3700787401574803}, {\"year\": \"2016-01-01T00:00:00\", \"type\": \"No\", \"count\": 67, \"ratio\": 0.5826086956521739}, {\"year\": \"2016-01-01T00:00:00\", \"type\": \"Yes\", \"count\": 48, \"ratio\": 0.41739130434782606}, {\"year\": \"2017-01-01T00:00:00\", \"type\": \"No\", \"count\": 65, \"ratio\": 0.5701754385964912}, {\"year\": \"2017-01-01T00:00:00\", \"type\": \"Yes\", \"count\": 49, \"ratio\": 0.4298245614035088}, {\"year\": \"2018-01-01T00:00:00\", \"type\": \"No\", \"count\": 81, \"ratio\": 0.6377952755905512}, {\"year\": \"2018-01-01T00:00:00\", \"type\": \"Yes\", \"count\": 46, \"ratio\": 0.36220472440944884}, {\"year\": \"2019-01-01T00:00:00\", \"type\": \"No\", \"count\": 80, \"ratio\": 0.6201550387596899}, {\"year\": \"2019-01-01T00:00:00\", \"type\": \"Yes\", \"count\": 49, \"ratio\": 0.3798449612403101}, {\"year\": \"2020-01-01T00:00:00\", \"type\": \"No\", \"count\": 95, \"ratio\": 0.6050955414012739}, {\"year\": \"2020-01-01T00:00:00\", \"type\": \"Yes\", \"count\": 62, \"ratio\": 0.39490445859872614}, {\"year\": \"2021-01-01T00:00:00\", \"type\": \"No\", \"count\": 93, \"ratio\": 0.5502958579881657}, {\"year\": \"2021-01-01T00:00:00\", \"type\": \"Yes\", \"count\": 76, \"ratio\": 0.44970414201183434}]}}, {\"mode\": \"vega-lite\"});\n",
       "</script>"
      ],
      "text/plain": [
       "alt.LayerChart(...)"
      ]
     },
     "execution_count": 105,
     "metadata": {},
     "output_type": "execute_result"
    }
   ],
   "source": [
    "alt.layer(\n",
    "    cross_type_ratio,\n",
    "    cross_country_ratio\n",
    ").resolve_scale(\n",
    "    color='independent'\n",
    ")"
   ]
  },
  {
   "cell_type": "markdown",
   "id": "7ee320f1",
   "metadata": {},
   "source": [
    "### Non-VIS VS VIS citations"
   ]
  },
  {
   "cell_type": "code",
   "execution_count": 106,
   "id": "8703debb",
   "metadata": {},
   "outputs": [
    {
     "data": {
      "text/plain": [
       "True"
      ]
     },
     "execution_count": 106,
     "metadata": {},
     "output_type": "execute_result"
    }
   ],
   "source": [
    "# VIS PAPERS' OPENALEX IDS\n",
    "ids = paper['OpenAlex ID'].tolist()\n",
    "len(list(set(ids))) == paper.shape[0]"
   ]
  },
  {
   "cell_type": "code",
   "execution_count": 107,
   "id": "cdfb32a1",
   "metadata": {},
   "outputs": [],
   "source": [
    "ref = pd.read_csv('../data/processed/openalex_reference_paper_df.csv')\n",
    "ref = ref[ref['OpenAlex ID'].notnull()]"
   ]
  },
  {
   "cell_type": "code",
   "execution_count": 108,
   "id": "018e85e5",
   "metadata": {},
   "outputs": [],
   "source": [
    "cit = pd.read_csv('../data/processed/openalex_citation_paper_df.csv')\n",
    "cit = cit[cit['Citation Paper OpenAlex ID'].notnull()]"
   ]
  },
  {
   "cell_type": "code",
   "execution_count": 109,
   "id": "6eafa09e",
   "metadata": {},
   "outputs": [],
   "source": [
    "ref['VIS'] = ref['OpenAlex ID'].apply(\n",
    "    lambda x: 'Yes' if x in ids else 'No'\n",
    ")"
   ]
  },
  {
   "cell_type": "code",
   "execution_count": 110,
   "id": "254f342a",
   "metadata": {},
   "outputs": [],
   "source": [
    "cit['VIS'] = cit['Citation Paper OpenAlex ID'].apply(\n",
    "    lambda x: 'Yes' if x in ids else 'No'\n",
    ")"
   ]
  },
  {
   "cell_type": "code",
   "execution_count": 111,
   "id": "b46ace38",
   "metadata": {},
   "outputs": [],
   "source": [
    "tuples = []\n",
    "for group in cit.groupby('OpenAlex Year'):\n",
    "    year = group[0]\n",
    "    total = group[1].shape[0]\n",
    "    for subgroup in group[1].groupby('VIS'):\n",
    "        type_of_paper = subgroup[0] # true or false\n",
    "        count = subgroup[1].shape[0]\n",
    "        ratio = count / total\n",
    "        tuples.append((year, type_of_paper, count, ratio))"
   ]
  },
  {
   "cell_type": "code",
   "execution_count": 112,
   "id": "6b9f35c8",
   "metadata": {},
   "outputs": [],
   "source": [
    "cit_df = pd.DataFrame(list(tuples), columns=['year', 'type', 'count', 'ratio']) "
   ]
  },
  {
   "cell_type": "code",
   "execution_count": 113,
   "id": "de361c34",
   "metadata": {},
   "outputs": [
    {
     "data": {
      "text/html": [
       "<div>\n",
       "<style scoped>\n",
       "    .dataframe tbody tr th:only-of-type {\n",
       "        vertical-align: middle;\n",
       "    }\n",
       "\n",
       "    .dataframe tbody tr th {\n",
       "        vertical-align: top;\n",
       "    }\n",
       "\n",
       "    .dataframe thead th {\n",
       "        text-align: right;\n",
       "    }\n",
       "</style>\n",
       "<table border=\"1\" class=\"dataframe\">\n",
       "  <thead>\n",
       "    <tr style=\"text-align: right;\">\n",
       "      <th></th>\n",
       "      <th>year</th>\n",
       "      <th>type</th>\n",
       "      <th>count</th>\n",
       "      <th>ratio</th>\n",
       "      <th>Year</th>\n",
       "    </tr>\n",
       "  </thead>\n",
       "  <tbody>\n",
       "    <tr>\n",
       "      <th>2</th>\n",
       "      <td>1990.0</td>\n",
       "      <td>Non-VIS</td>\n",
       "      <td>6</td>\n",
       "      <td>0.750000</td>\n",
       "      <td>1990-01-01</td>\n",
       "    </tr>\n",
       "    <tr>\n",
       "      <th>3</th>\n",
       "      <td>1990.0</td>\n",
       "      <td>VIS</td>\n",
       "      <td>2</td>\n",
       "      <td>0.250000</td>\n",
       "      <td>1990-01-01</td>\n",
       "    </tr>\n",
       "    <tr>\n",
       "      <th>4</th>\n",
       "      <td>1991.0</td>\n",
       "      <td>Non-VIS</td>\n",
       "      <td>58</td>\n",
       "      <td>0.734177</td>\n",
       "      <td>1991-01-01</td>\n",
       "    </tr>\n",
       "    <tr>\n",
       "      <th>5</th>\n",
       "      <td>1991.0</td>\n",
       "      <td>VIS</td>\n",
       "      <td>21</td>\n",
       "      <td>0.265823</td>\n",
       "      <td>1991-01-01</td>\n",
       "    </tr>\n",
       "    <tr>\n",
       "      <th>6</th>\n",
       "      <td>1992.0</td>\n",
       "      <td>Non-VIS</td>\n",
       "      <td>128</td>\n",
       "      <td>0.695652</td>\n",
       "      <td>1992-01-01</td>\n",
       "    </tr>\n",
       "  </tbody>\n",
       "</table>\n",
       "</div>"
      ],
      "text/plain": [
       "     year     type  count     ratio       Year\n",
       "2  1990.0  Non-VIS      6  0.750000 1990-01-01\n",
       "3  1990.0      VIS      2  0.250000 1990-01-01\n",
       "4  1991.0  Non-VIS     58  0.734177 1991-01-01\n",
       "5  1991.0      VIS     21  0.265823 1991-01-01\n",
       "6  1992.0  Non-VIS    128  0.695652 1992-01-01"
      ]
     },
     "execution_count": 113,
     "metadata": {},
     "output_type": "execute_result"
    }
   ],
   "source": [
    "cit_df = cit_df[(cit_df.year >= 1990) & (cit_df.year <= 2021)]\n",
    "cit_df['Year'] = pd.to_datetime(cit_df['year'], format='%Y')\n",
    "cit_df.replace({'Yes': 'VIS', 'No': 'Non-VIS'}, inplace=True)\n",
    "cit_df.head()"
   ]
  },
  {
   "cell_type": "code",
   "execution_count": 114,
   "id": "2e95b823",
   "metadata": {},
   "outputs": [
    {
     "data": {
      "text/html": [
       "<div>\n",
       "<style scoped>\n",
       "    .dataframe tbody tr th:only-of-type {\n",
       "        vertical-align: middle;\n",
       "    }\n",
       "\n",
       "    .dataframe tbody tr th {\n",
       "        vertical-align: top;\n",
       "    }\n",
       "\n",
       "    .dataframe thead th {\n",
       "        text-align: right;\n",
       "    }\n",
       "</style>\n",
       "<table border=\"1\" class=\"dataframe\">\n",
       "  <thead>\n",
       "    <tr style=\"text-align: right;\">\n",
       "      <th></th>\n",
       "      <th>year</th>\n",
       "      <th>type</th>\n",
       "      <th>count</th>\n",
       "      <th>ratio</th>\n",
       "      <th>Year</th>\n",
       "    </tr>\n",
       "  </thead>\n",
       "  <tbody>\n",
       "    <tr>\n",
       "      <th>44</th>\n",
       "      <td>2011.0</td>\n",
       "      <td>Non-VIS</td>\n",
       "      <td>6173</td>\n",
       "      <td>0.889994</td>\n",
       "      <td>2011-01-01</td>\n",
       "    </tr>\n",
       "    <tr>\n",
       "      <th>45</th>\n",
       "      <td>2011.0</td>\n",
       "      <td>VIS</td>\n",
       "      <td>763</td>\n",
       "      <td>0.110006</td>\n",
       "      <td>2011-01-01</td>\n",
       "    </tr>\n",
       "    <tr>\n",
       "      <th>64</th>\n",
       "      <td>2021.0</td>\n",
       "      <td>Non-VIS</td>\n",
       "      <td>11353</td>\n",
       "      <td>0.850667</td>\n",
       "      <td>2021-01-01</td>\n",
       "    </tr>\n",
       "    <tr>\n",
       "      <th>65</th>\n",
       "      <td>2021.0</td>\n",
       "      <td>VIS</td>\n",
       "      <td>1993</td>\n",
       "      <td>0.149333</td>\n",
       "      <td>2021-01-01</td>\n",
       "    </tr>\n",
       "  </tbody>\n",
       "</table>\n",
       "</div>"
      ],
      "text/plain": [
       "      year     type  count     ratio       Year\n",
       "44  2011.0  Non-VIS   6173  0.889994 2011-01-01\n",
       "45  2011.0      VIS    763  0.110006 2011-01-01\n",
       "64  2021.0  Non-VIS  11353  0.850667 2021-01-01\n",
       "65  2021.0      VIS   1993  0.149333 2021-01-01"
      ]
     },
     "execution_count": 114,
     "metadata": {},
     "output_type": "execute_result"
    }
   ],
   "source": [
    "cit_df[cit_df.year.isin([2021, 2011])]"
   ]
  },
  {
   "cell_type": "code",
   "execution_count": 115,
   "id": "7d91aa0a",
   "metadata": {},
   "outputs": [
    {
     "data": {
      "text/plain": [
       "Text(0, 0.5, 'Ratio')"
      ]
     },
     "execution_count": 115,
     "metadata": {},
     "output_type": "execute_result"
    },
    {
     "data": {
      "image/png": "[encoded data removed]",
      "text/plain": [
       "<Figure size 432x288 with 1 Axes>"
      ]
     },
     "metadata": {
      "needs_background": "light"
     },
     "output_type": "display_data"
    }
   ],
   "source": [
    "g = sns.lineplot(x='year', y='ratio', hue='type', data = cit_df)\n",
    "g.set_xlim(1990,2021)\n",
    "g.legend(title = 'Papers citing VIS', labels = ['Non-VIS', 'VIS'])\n",
    "g.set_xlabel('Year')\n",
    "g.set_ylabel('Ratio')"
   ]
  },
  {
   "cell_type": "code",
   "execution_count": 116,
   "id": "f8fc1970",
   "metadata": {},
   "outputs": [],
   "source": [
    "to_plot_stackarea = []\n",
    "for type_group in cit_df.groupby('type'):\n",
    "    a_list = type_group[1]['count'].tolist()\n",
    "    to_plot_stackarea.append(a_list)"
   ]
  },
  {
   "cell_type": "code",
   "execution_count": 117,
   "id": "d18e44c3",
   "metadata": {},
   "outputs": [
    {
     "data": {
      "text/plain": [
       "True"
      ]
     },
     "execution_count": 117,
     "metadata": {},
     "output_type": "execute_result"
    }
   ],
   "source": [
    "len(to_plot_stackarea[0]) == len(to_plot_stackarea[1])"
   ]
  },
  {
   "cell_type": "code",
   "execution_count": 118,
   "id": "2ce550f6",
   "metadata": {},
   "outputs": [
    {
     "data": {
      "image/png": "[encoded data removed]",
      "text/plain": [
       "<Figure size 432x288 with 1 Axes>"
      ]
     },
     "metadata": {
      "needs_background": "light"
     },
     "output_type": "display_data"
    }
   ],
   "source": [
    "plt.stackplot(range(1990, 2022), to_plot_stackarea, \n",
    "              labels=['Non-VIS', 'VIS'])\n",
    "plt.legend(title= 'Papers citing VIS', loc='upper left')\n",
    "plt.xlabel('Year')\n",
    "plt.ylabel('Number of Publications')\n",
    "plt.show()"
   ]
  },
  {
   "cell_type": "code",
   "execution_count": 119,
   "id": "5196338c",
   "metadata": {},
   "outputs": [
    {
     "data": {
      "text/html": [
       "\n",
       "<div id=\"altair-viz-efb1fba2acd5415885f8918a9fd0e762\"></div>\n",
       "<script type=\"text/javascript\">\n",
       "  var VEGA_DEBUG = (typeof VEGA_DEBUG == \"undefined\") ? {} : VEGA_DEBUG;\n",
       "  (function(spec, embedOpt){\n",
       "    let outputDiv = document.currentScript.previousElementSibling;\n",
       "    if (outputDiv.id !== \"altair-viz-efb1fba2acd5415885f8918a9fd0e762\") {\n",
       "      outputDiv = document.getElementById(\"altair-viz-efb1fba2acd5415885f8918a9fd0e762\");\n",
       "    }\n",
       "    const paths = {\n",
       "      \"vega\": \"https://cdn.jsdelivr.net/npm//vega@5?noext\",\n",
       "      \"vega-lib\": \"https://cdn.jsdelivr.net/npm//vega-lib?noext\",\n",
       "      \"vega-lite\": \"https://cdn.jsdelivr.net/npm//vega-lite@4.17.0?noext\",\n",
       "      \"vega-embed\": \"https://cdn.jsdelivr.net/npm//vega-embed@6?noext\",\n",
       "    };\n",
       "\n",
       "    function maybeLoadScript(lib, version) {\n",
       "      var key = `${lib.replace(\"-\", \"\")}_version`;\n",
       "      return (VEGA_DEBUG[key] == version) ?\n",
       "        Promise.resolve(paths[lib]) :\n",
       "        new Promise(function(resolve, reject) {\n",
       "          var s = document.createElement('script');\n",
       "          document.getElementsByTagName(\"head\")[0].appendChild(s);\n",
       "          s.async = true;\n",
       "          s.onload = () => {\n",
       "            VEGA_DEBUG[key] = version;\n",
       "            return resolve(paths[lib]);\n",
       "          };\n",
       "          s.onerror = () => reject(`Error loading script: ${paths[lib]}`);\n",
       "          s.src = paths[lib];\n",
       "        });\n",
       "    }\n",
       "\n",
       "    function showError(err) {\n",
       "      outputDiv.innerHTML = `<div class=\"error\" style=\"color:red;\">${err}</div>`;\n",
       "      throw err;\n",
       "    }\n",
       "\n",
       "    function displayChart(vegaEmbed) {\n",
       "      vegaEmbed(outputDiv, spec, embedOpt)\n",
       "        .catch(err => showError(`Javascript Error: ${err.message}<br>This usually means there's a typo in your chart specification. See the javascript console for the full traceback.`));\n",
       "    }\n",
       "\n",
       "    if(typeof define === \"function\" && define.amd) {\n",
       "      requirejs.config({paths});\n",
       "      require([\"vega-embed\"], displayChart, err => showError(`Error loading script: ${err.message}`));\n",
       "    } else {\n",
       "      maybeLoadScript(\"vega\", \"5\")\n",
       "        .then(() => maybeLoadScript(\"vega-lite\", \"4.17.0\"))\n",
       "        .then(() => maybeLoadScript(\"vega-embed\", \"6\"))\n",
       "        .catch(showError)\n",
       "        .then(() => displayChart(vegaEmbed));\n",
       "    }\n",
       "  })({\"config\": {\"view\": {\"continuousWidth\": 400, \"continuousHeight\": 300}}, \"hconcat\": [{\"mark\": \"area\", \"encoding\": {\"color\": {\"field\": \"type\", \"scale\": {\"domain\": [\"VIS\", \"Non-VIS\"], \"range\": [\"skyblue\", \"pink\"]}, \"title\": \"Type\", \"type\": \"nominal\"}, \"x\": {\"field\": \"Year\", \"type\": \"temporal\"}, \"y\": {\"field\": \"count\", \"type\": \"quantitative\"}}}, {\"mark\": \"line\", \"encoding\": {\"color\": {\"field\": \"type\", \"scale\": {\"domain\": [\"VIS\", \"Non-VIS\"], \"range\": [\"green\", \"purple\"]}, \"title\": \"Type\", \"type\": \"nominal\"}, \"x\": {\"field\": \"Year\", \"type\": \"temporal\"}, \"y\": {\"field\": \"ratio\", \"type\": \"quantitative\"}}}], \"data\": {\"name\": \"data-c17c32d6fb8d292f81572df3e35aaa69\"}, \"$schema\": \"https://vega.github.io/schema/vega-lite/v4.17.0.json\", \"datasets\": {\"data-c17c32d6fb8d292f81572df3e35aaa69\": [{\"year\": 1990.0, \"type\": \"Non-VIS\", \"count\": 6, \"ratio\": 0.75, \"Year\": \"1990-01-01T00:00:00\"}, {\"year\": 1990.0, \"type\": \"VIS\", \"count\": 2, \"ratio\": 0.25, \"Year\": \"1990-01-01T00:00:00\"}, {\"year\": 1991.0, \"type\": \"Non-VIS\", \"count\": 58, \"ratio\": 0.7341772151898734, \"Year\": \"1991-01-01T00:00:00\"}, {\"year\": 1991.0, \"type\": \"VIS\", \"count\": 21, \"ratio\": 0.26582278481012656, \"Year\": \"1991-01-01T00:00:00\"}, {\"year\": 1992.0, \"type\": \"Non-VIS\", \"count\": 128, \"ratio\": 0.6956521739130435, \"Year\": \"1992-01-01T00:00:00\"}, {\"year\": 1992.0, \"type\": \"VIS\", \"count\": 56, \"ratio\": 0.30434782608695654, \"Year\": \"1992-01-01T00:00:00\"}, {\"year\": 1993.0, \"type\": \"Non-VIS\", \"count\": 226, \"ratio\": 0.7985865724381626, \"Year\": \"1993-01-01T00:00:00\"}, {\"year\": 1993.0, \"type\": \"VIS\", \"count\": 57, \"ratio\": 0.20141342756183744, \"Year\": \"1993-01-01T00:00:00\"}, {\"year\": 1994.0, \"type\": \"Non-VIS\", \"count\": 304, \"ratio\": 0.7735368956743003, \"Year\": \"1994-01-01T00:00:00\"}, {\"year\": 1994.0, \"type\": \"VIS\", \"count\": 89, \"ratio\": 0.22646310432569974, \"Year\": \"1994-01-01T00:00:00\"}, {\"year\": 1995.0, \"type\": \"Non-VIS\", \"count\": 492, \"ratio\": 0.8159203980099502, \"Year\": \"1995-01-01T00:00:00\"}, {\"year\": 1995.0, \"type\": \"VIS\", \"count\": 111, \"ratio\": 0.18407960199004975, \"Year\": \"1995-01-01T00:00:00\"}, {\"year\": 1996.0, \"type\": \"Non-VIS\", \"count\": 510, \"ratio\": 0.821256038647343, \"Year\": \"1996-01-01T00:00:00\"}, {\"year\": 1996.0, \"type\": \"VIS\", \"count\": 111, \"ratio\": 0.178743961352657, \"Year\": \"1996-01-01T00:00:00\"}, {\"year\": 1997.0, \"type\": \"Non-VIS\", \"count\": 799, \"ratio\": 0.8271221532091098, \"Year\": \"1997-01-01T00:00:00\"}, {\"year\": 1997.0, \"type\": \"VIS\", \"count\": 167, \"ratio\": 0.17287784679089027, \"Year\": \"1997-01-01T00:00:00\"}, {\"year\": 1998.0, \"type\": \"Non-VIS\", \"count\": 837, \"ratio\": 0.7829747427502338, \"Year\": \"1998-01-01T00:00:00\"}, {\"year\": 1998.0, \"type\": \"VIS\", \"count\": 232, \"ratio\": 0.21702525724976612, \"Year\": \"1998-01-01T00:00:00\"}, {\"year\": 1999.0, \"type\": \"Non-VIS\", \"count\": 1125, \"ratio\": 0.8351893095768375, \"Year\": \"1999-01-01T00:00:00\"}, {\"year\": 1999.0, \"type\": \"VIS\", \"count\": 222, \"ratio\": 0.16481069042316257, \"Year\": \"1999-01-01T00:00:00\"}, {\"year\": 2000.0, \"type\": \"Non-VIS\", \"count\": 1402, \"ratio\": 0.8450874020494273, \"Year\": \"2000-01-01T00:00:00\"}, {\"year\": 2000.0, \"type\": \"VIS\", \"count\": 257, \"ratio\": 0.15491259795057263, \"Year\": \"2000-01-01T00:00:00\"}, {\"year\": 2001.0, \"type\": \"Non-VIS\", \"count\": 1704, \"ratio\": 0.8861154446177847, \"Year\": \"2001-01-01T00:00:00\"}, {\"year\": 2001.0, \"type\": \"VIS\", \"count\": 219, \"ratio\": 0.11388455538221529, \"Year\": \"2001-01-01T00:00:00\"}, {\"year\": 2002.0, \"type\": \"Non-VIS\", \"count\": 2243, \"ratio\": 0.8914944356120826, \"Year\": \"2002-01-01T00:00:00\"}, {\"year\": 2002.0, \"type\": \"VIS\", \"count\": 273, \"ratio\": 0.10850556438791734, \"Year\": \"2002-01-01T00:00:00\"}, {\"year\": 2003.0, \"type\": \"Non-VIS\", \"count\": 2859, \"ratio\": 0.9010400252127324, \"Year\": \"2003-01-01T00:00:00\"}, {\"year\": 2003.0, \"type\": \"VIS\", \"count\": 314, \"ratio\": 0.09895997478726758, \"Year\": \"2003-01-01T00:00:00\"}, {\"year\": 2004.0, \"type\": \"Non-VIS\", \"count\": 3468, \"ratio\": 0.8940448569218871, \"Year\": \"2004-01-01T00:00:00\"}, {\"year\": 2004.0, \"type\": \"VIS\", \"count\": 411, \"ratio\": 0.10595514307811292, \"Year\": \"2004-01-01T00:00:00\"}, {\"year\": 2005.0, \"type\": \"Non-VIS\", \"count\": 4000, \"ratio\": 0.9033423667570009, \"Year\": \"2005-01-01T00:00:00\"}, {\"year\": 2005.0, \"type\": \"VIS\", \"count\": 428, \"ratio\": 0.0966576332429991, \"Year\": \"2005-01-01T00:00:00\"}, {\"year\": 2006.0, \"type\": \"Non-VIS\", \"count\": 4210, \"ratio\": 0.9009201797560453, \"Year\": \"2006-01-01T00:00:00\"}, {\"year\": 2006.0, \"type\": \"VIS\", \"count\": 463, \"ratio\": 0.09907982024395463, \"Year\": \"2006-01-01T00:00:00\"}, {\"year\": 2007.0, \"type\": \"Non-VIS\", \"count\": 4420, \"ratio\": 0.9068526877308166, \"Year\": \"2007-01-01T00:00:00\"}, {\"year\": 2007.0, \"type\": \"VIS\", \"count\": 454, \"ratio\": 0.09314731226918342, \"Year\": \"2007-01-01T00:00:00\"}, {\"year\": 2008.0, \"type\": \"Non-VIS\", \"count\": 4779, \"ratio\": 0.9102857142857143, \"Year\": \"2008-01-01T00:00:00\"}, {\"year\": 2008.0, \"type\": \"VIS\", \"count\": 471, \"ratio\": 0.08971428571428572, \"Year\": \"2008-01-01T00:00:00\"}, {\"year\": 2009.0, \"type\": \"Non-VIS\", \"count\": 4897, \"ratio\": 0.8844139425681777, \"Year\": \"2009-01-01T00:00:00\"}, {\"year\": 2009.0, \"type\": \"VIS\", \"count\": 640, \"ratio\": 0.11558605743182229, \"Year\": \"2009-01-01T00:00:00\"}, {\"year\": 2010.0, \"type\": \"Non-VIS\", \"count\": 5164, \"ratio\": 0.8920366211780963, \"Year\": \"2010-01-01T00:00:00\"}, {\"year\": 2010.0, \"type\": \"VIS\", \"count\": 625, \"ratio\": 0.10796337882190361, \"Year\": \"2010-01-01T00:00:00\"}, {\"year\": 2011.0, \"type\": \"Non-VIS\", \"count\": 6173, \"ratio\": 0.8899942329873126, \"Year\": \"2011-01-01T00:00:00\"}, {\"year\": 2011.0, \"type\": \"VIS\", \"count\": 763, \"ratio\": 0.11000576701268742, \"Year\": \"2011-01-01T00:00:00\"}, {\"year\": 2012.0, \"type\": \"Non-VIS\", \"count\": 6489, \"ratio\": 0.9072986577181208, \"Year\": \"2012-01-01T00:00:00\"}, {\"year\": 2012.0, \"type\": \"VIS\", \"count\": 663, \"ratio\": 0.09270134228187919, \"Year\": \"2012-01-01T00:00:00\"}, {\"year\": 2013.0, \"type\": \"Non-VIS\", \"count\": 6925, \"ratio\": 0.9098672973328078, \"Year\": \"2013-01-01T00:00:00\"}, {\"year\": 2013.0, \"type\": \"VIS\", \"count\": 686, \"ratio\": 0.09013270266719223, \"Year\": \"2013-01-01T00:00:00\"}, {\"year\": 2014.0, \"type\": \"Non-VIS\", \"count\": 7472, \"ratio\": 0.8826934435912581, \"Year\": \"2014-01-01T00:00:00\"}, {\"year\": 2014.0, \"type\": \"VIS\", \"count\": 993, \"ratio\": 0.11730655640874188, \"Year\": \"2014-01-01T00:00:00\"}, {\"year\": 2015.0, \"type\": \"Non-VIS\", \"count\": 7354, \"ratio\": 0.9834180262102167, \"Year\": \"2015-01-01T00:00:00\"}, {\"year\": 2015.0, \"type\": \"VIS\", \"count\": 124, \"ratio\": 0.016581973789783364, \"Year\": \"2015-01-01T00:00:00\"}, {\"year\": 2016.0, \"type\": \"Non-VIS\", \"count\": 8317, \"ratio\": 0.8929568391668457, \"Year\": \"2016-01-01T00:00:00\"}, {\"year\": 2016.0, \"type\": \"VIS\", \"count\": 997, \"ratio\": 0.10704316083315439, \"Year\": \"2016-01-01T00:00:00\"}, {\"year\": 2017.0, \"type\": \"Non-VIS\", \"count\": 8327, \"ratio\": 0.8953763440860215, \"Year\": \"2017-01-01T00:00:00\"}, {\"year\": 2017.0, \"type\": \"VIS\", \"count\": 973, \"ratio\": 0.1046236559139785, \"Year\": \"2017-01-01T00:00:00\"}, {\"year\": 2018.0, \"type\": \"Non-VIS\", \"count\": 8610, \"ratio\": 0.8959417273673257, \"Year\": \"2018-01-01T00:00:00\"}, {\"year\": 2018.0, \"type\": \"VIS\", \"count\": 1000, \"ratio\": 0.1040582726326743, \"Year\": \"2018-01-01T00:00:00\"}, {\"year\": 2019.0, \"type\": \"Non-VIS\", \"count\": 9968, \"ratio\": 0.8871484514061944, \"Year\": \"2019-01-01T00:00:00\"}, {\"year\": 2019.0, \"type\": \"VIS\", \"count\": 1268, \"ratio\": 0.11285154859380563, \"Year\": \"2019-01-01T00:00:00\"}, {\"year\": 2020.0, \"type\": \"Non-VIS\", \"count\": 11495, \"ratio\": 0.8882621126651727, \"Year\": \"2020-01-01T00:00:00\"}, {\"year\": 2020.0, \"type\": \"VIS\", \"count\": 1446, \"ratio\": 0.1117378873348273, \"Year\": \"2020-01-01T00:00:00\"}, {\"year\": 2021.0, \"type\": \"Non-VIS\", \"count\": 11353, \"ratio\": 0.850666866476847, \"Year\": \"2021-01-01T00:00:00\"}, {\"year\": 2021.0, \"type\": \"VIS\", \"count\": 1993, \"ratio\": 0.149333133523153, \"Year\": \"2021-01-01T00:00:00\"}]}}, {\"mode\": \"vega-lite\"});\n",
       "</script>"
      ],
      "text/plain": [
       "alt.HConcatChart(...)"
      ]
     },
     "execution_count": 119,
     "metadata": {},
     "output_type": "execute_result"
    }
   ],
   "source": [
    "# Using Altair\n",
    "\n",
    "source = cit_df\n",
    "\n",
    "chart1 = alt.Chart(source).mark_area().encode(\n",
    "    x=\"Year:T\",\n",
    "    y=\"count:Q\",\n",
    "    color=alt.Color(\n",
    "        \"type:N\",\n",
    "        title = 'Type',\n",
    "        scale=alt.Scale(\n",
    "            domain=['VIS', 'Non-VIS'],\n",
    "            range=['skyblue', 'pink']\n",
    "        )\n",
    "        \n",
    "    )\n",
    ")\n",
    "\n",
    "chart12 = alt.Chart(source).mark_line().encode(\n",
    "    x='Year',\n",
    "    y='ratio',\n",
    "    color=alt.Color(\n",
    "        \"type:N\",\n",
    "        title = 'Type',\n",
    "        scale=alt.Scale(\n",
    "            domain=['VIS', 'Non-VIS'],\n",
    "            range=['green', 'purple']\n",
    "        )\n",
    "        \n",
    "    )\n",
    ")\n",
    "\n",
    "alt.hconcat(chart1, chart12)\n"
   ]
  },
  {
   "cell_type": "markdown",
   "id": "ad1725f4",
   "metadata": {},
   "source": [
    "### Non-VIS VS VIS References"
   ]
  },
  {
   "cell_type": "code",
   "execution_count": 120,
   "id": "6a690f94",
   "metadata": {},
   "outputs": [
    {
     "data": {
      "text/html": [
       "<div>\n",
       "<style scoped>\n",
       "    .dataframe tbody tr th:only-of-type {\n",
       "        vertical-align: middle;\n",
       "    }\n",
       "\n",
       "    .dataframe tbody tr th {\n",
       "        vertical-align: top;\n",
       "    }\n",
       "\n",
       "    .dataframe thead th {\n",
       "        text-align: right;\n",
       "    }\n",
       "</style>\n",
       "<table border=\"1\" class=\"dataframe\">\n",
       "  <thead>\n",
       "    <tr style=\"text-align: right;\">\n",
       "      <th></th>\n",
       "      <th>Year</th>\n",
       "      <th>DOI</th>\n",
       "      <th>Title</th>\n",
       "      <th>Number of References</th>\n",
       "      <th>Index of Reference</th>\n",
       "      <th>Reference</th>\n",
       "      <th>OpenAlex Year</th>\n",
       "      <th>OpenAlex Publication Date</th>\n",
       "      <th>OpenAlex ID</th>\n",
       "      <th>OpenAlex Title</th>\n",
       "      <th>...</th>\n",
       "      <th>Publication Type</th>\n",
       "      <th>OpenAlex First Page</th>\n",
       "      <th>OpenAlex Last Page</th>\n",
       "      <th>Number of References for Reference paper</th>\n",
       "      <th>Number of Citations</th>\n",
       "      <th>Number of Authors</th>\n",
       "      <th>Number of Concepts</th>\n",
       "      <th>Citation API URL</th>\n",
       "      <th>Number of Citation API URLs</th>\n",
       "      <th>VIS</th>\n",
       "    </tr>\n",
       "  </thead>\n",
       "  <tbody>\n",
       "    <tr>\n",
       "      <th>0</th>\n",
       "      <td>2011</td>\n",
       "      <td>10.1109/TVCG.2011.185</td>\n",
       "      <td>D³ Data-Driven Documents</td>\n",
       "      <td>27.0</td>\n",
       "      <td>1.0</td>\n",
       "      <td>https://openalex.org/W2158804744</td>\n",
       "      <td>2009.0</td>\n",
       "      <td>2009-09-01</td>\n",
       "      <td>W2158804744</td>\n",
       "      <td>Circos: An information aesthetic for comparati...</td>\n",
       "      <td>...</td>\n",
       "      <td>journal-article</td>\n",
       "      <td>1639</td>\n",
       "      <td>1645</td>\n",
       "      <td>46.0</td>\n",
       "      <td>6391.0</td>\n",
       "      <td>8.0</td>\n",
       "      <td>6.0</td>\n",
       "      <td>https://api.openalex.org/works?filter=cites:W2...</td>\n",
       "      <td>1.0</td>\n",
       "      <td>No</td>\n",
       "    </tr>\n",
       "    <tr>\n",
       "      <th>1</th>\n",
       "      <td>2011</td>\n",
       "      <td>10.1109/TVCG.2011.185</td>\n",
       "      <td>D³ Data-Driven Documents</td>\n",
       "      <td>27.0</td>\n",
       "      <td>2.0</td>\n",
       "      <td>https://openalex.org/W2164381372</td>\n",
       "      <td>2009.0</td>\n",
       "      <td>2009-06-10</td>\n",
       "      <td>W2164381372</td>\n",
       "      <td>Scalable, versatile and simple constrained gra...</td>\n",
       "      <td>...</td>\n",
       "      <td>journal-article</td>\n",
       "      <td>991</td>\n",
       "      <td>1006</td>\n",
       "      <td>21.0</td>\n",
       "      <td>75.0</td>\n",
       "      <td>1.0</td>\n",
       "      <td>6.0</td>\n",
       "      <td>https://api.openalex.org/works?filter=cites:W2...</td>\n",
       "      <td>1.0</td>\n",
       "      <td>No</td>\n",
       "    </tr>\n",
       "    <tr>\n",
       "      <th>2</th>\n",
       "      <td>2011</td>\n",
       "      <td>10.1109/TVCG.2011.185</td>\n",
       "      <td>D³ Data-Driven Documents</td>\n",
       "      <td>27.0</td>\n",
       "      <td>3.0</td>\n",
       "      <td>https://openalex.org/W2165741325</td>\n",
       "      <td>2005.0</td>\n",
       "      <td>2005-04-02</td>\n",
       "      <td>W2165741325</td>\n",
       "      <td>prefuse: a toolkit for interactive information...</td>\n",
       "      <td>...</td>\n",
       "      <td>proceedings-article</td>\n",
       "      <td>421</td>\n",
       "      <td>430</td>\n",
       "      <td>48.0</td>\n",
       "      <td>754.0</td>\n",
       "      <td>3.0</td>\n",
       "      <td>13.0</td>\n",
       "      <td>https://api.openalex.org/works?filter=cites:W2...</td>\n",
       "      <td>1.0</td>\n",
       "      <td>No</td>\n",
       "    </tr>\n",
       "  </tbody>\n",
       "</table>\n",
       "<p>3 rows × 25 columns</p>\n",
       "</div>"
      ],
      "text/plain": [
       "   Year                    DOI                     Title  \\\n",
       "0  2011  10.1109/TVCG.2011.185  D³ Data-Driven Documents   \n",
       "1  2011  10.1109/TVCG.2011.185  D³ Data-Driven Documents   \n",
       "2  2011  10.1109/TVCG.2011.185  D³ Data-Driven Documents   \n",
       "\n",
       "   Number of References  Index of Reference                         Reference  \\\n",
       "0                  27.0                 1.0  https://openalex.org/W2158804744   \n",
       "1                  27.0                 2.0  https://openalex.org/W2164381372   \n",
       "2                  27.0                 3.0  https://openalex.org/W2165741325   \n",
       "\n",
       "   OpenAlex Year OpenAlex Publication Date  OpenAlex ID  \\\n",
       "0         2009.0                2009-09-01  W2158804744   \n",
       "1         2009.0                2009-06-10  W2164381372   \n",
       "2         2005.0                2005-04-02  W2165741325   \n",
       "\n",
       "                                      OpenAlex Title  ...  \\\n",
       "0  Circos: An information aesthetic for comparati...  ...   \n",
       "1  Scalable, versatile and simple constrained gra...  ...   \n",
       "2  prefuse: a toolkit for interactive information...  ...   \n",
       "\n",
       "      Publication Type OpenAlex First Page OpenAlex Last Page  \\\n",
       "0      journal-article                1639               1645   \n",
       "1      journal-article                 991               1006   \n",
       "2  proceedings-article                 421                430   \n",
       "\n",
       "  Number of References for Reference paper Number of Citations  \\\n",
       "0                                     46.0              6391.0   \n",
       "1                                     21.0                75.0   \n",
       "2                                     48.0               754.0   \n",
       "\n",
       "  Number of Authors Number of Concepts  \\\n",
       "0               8.0                6.0   \n",
       "1               1.0                6.0   \n",
       "2               3.0               13.0   \n",
       "\n",
       "                                    Citation API URL  \\\n",
       "0  https://api.openalex.org/works?filter=cites:W2...   \n",
       "1  https://api.openalex.org/works?filter=cites:W2...   \n",
       "2  https://api.openalex.org/works?filter=cites:W2...   \n",
       "\n",
       "   Number of Citation API URLs  VIS  \n",
       "0                          1.0   No  \n",
       "1                          1.0   No  \n",
       "2                          1.0   No  \n",
       "\n",
       "[3 rows x 25 columns]"
      ]
     },
     "execution_count": 120,
     "metadata": {},
     "output_type": "execute_result"
    }
   ],
   "source": [
    "ref.head(3)"
   ]
  },
  {
   "cell_type": "code",
   "execution_count": 121,
   "id": "5d9df9e7",
   "metadata": {},
   "outputs": [],
   "source": [
    "tuples = []\n",
    "for group in ref.groupby('Year'):\n",
    "    year = group[0]\n",
    "    total = group[1].shape[0]\n",
    "    for subgroup in group[1].groupby('VIS'):\n",
    "        type_of_paper = subgroup[0] \n",
    "        count = subgroup[1].shape[0]\n",
    "        ratio = count / total\n",
    "        tuples.append((year, type_of_paper, count, ratio))"
   ]
  },
  {
   "cell_type": "code",
   "execution_count": 122,
   "id": "08b33717",
   "metadata": {},
   "outputs": [],
   "source": [
    "ref_df = pd.DataFrame(list(tuples), columns=['year', 'type', 'count', 'ratio']) "
   ]
  },
  {
   "cell_type": "code",
   "execution_count": 123,
   "id": "cb1e9c79",
   "metadata": {},
   "outputs": [
    {
     "data": {
      "text/html": [
       "<div>\n",
       "<style scoped>\n",
       "    .dataframe tbody tr th:only-of-type {\n",
       "        vertical-align: middle;\n",
       "    }\n",
       "\n",
       "    .dataframe tbody tr th {\n",
       "        vertical-align: top;\n",
       "    }\n",
       "\n",
       "    .dataframe thead th {\n",
       "        text-align: right;\n",
       "    }\n",
       "</style>\n",
       "<table border=\"1\" class=\"dataframe\">\n",
       "  <thead>\n",
       "    <tr style=\"text-align: right;\">\n",
       "      <th></th>\n",
       "      <th>year</th>\n",
       "      <th>type</th>\n",
       "      <th>count</th>\n",
       "      <th>ratio</th>\n",
       "      <th>Year</th>\n",
       "    </tr>\n",
       "  </thead>\n",
       "  <tbody>\n",
       "    <tr>\n",
       "      <th>0</th>\n",
       "      <td>1990</td>\n",
       "      <td>Non-VIS</td>\n",
       "      <td>590</td>\n",
       "      <td>0.996622</td>\n",
       "      <td>1990-01-01</td>\n",
       "    </tr>\n",
       "    <tr>\n",
       "      <th>1</th>\n",
       "      <td>1990</td>\n",
       "      <td>VIS</td>\n",
       "      <td>2</td>\n",
       "      <td>0.003378</td>\n",
       "      <td>1990-01-01</td>\n",
       "    </tr>\n",
       "    <tr>\n",
       "      <th>2</th>\n",
       "      <td>1991</td>\n",
       "      <td>Non-VIS</td>\n",
       "      <td>464</td>\n",
       "      <td>0.956701</td>\n",
       "      <td>1991-01-01</td>\n",
       "    </tr>\n",
       "    <tr>\n",
       "      <th>3</th>\n",
       "      <td>1991</td>\n",
       "      <td>VIS</td>\n",
       "      <td>21</td>\n",
       "      <td>0.043299</td>\n",
       "      <td>1991-01-01</td>\n",
       "    </tr>\n",
       "    <tr>\n",
       "      <th>4</th>\n",
       "      <td>1992</td>\n",
       "      <td>Non-VIS</td>\n",
       "      <td>526</td>\n",
       "      <td>0.903780</td>\n",
       "      <td>1992-01-01</td>\n",
       "    </tr>\n",
       "  </tbody>\n",
       "</table>\n",
       "</div>"
      ],
      "text/plain": [
       "   year     type  count     ratio       Year\n",
       "0  1990  Non-VIS    590  0.996622 1990-01-01\n",
       "1  1990      VIS      2  0.003378 1990-01-01\n",
       "2  1991  Non-VIS    464  0.956701 1991-01-01\n",
       "3  1991      VIS     21  0.043299 1991-01-01\n",
       "4  1992  Non-VIS    526  0.903780 1992-01-01"
      ]
     },
     "execution_count": 123,
     "metadata": {},
     "output_type": "execute_result"
    }
   ],
   "source": [
    "ref_df = ref_df[(ref_df.year >= 1990) & (ref_df.year <= 2021)]\n",
    "ref_df['Year'] = pd.to_datetime(ref_df['year'], format='%Y')\n",
    "ref_df.replace({'No': 'Non-VIS', 'Yes': 'VIS'}, inplace = True)\n",
    "ref_df.head()"
   ]
  },
  {
   "cell_type": "code",
   "execution_count": 124,
   "id": "d133e8df",
   "metadata": {},
   "outputs": [
    {
     "data": {
      "text/plain": [
       "Text(0, 0.5, 'Ratio')"
      ]
     },
     "execution_count": 124,
     "metadata": {},
     "output_type": "execute_result"
    },
    {
     "data": {
      "image/png": "[encoded data removed]",
      "text/plain": [
       "<Figure size 432x288 with 1 Axes>"
      ]
     },
     "metadata": {
      "needs_background": "light"
     },
     "output_type": "display_data"
    }
   ],
   "source": [
    "g = sns.lineplot(x='year', y='ratio', hue='type', data = ref_df)\n",
    "# g.set_xlim(1990,2021)\n",
    "g.legend(title = 'Papers cited in VIS', labels = ['Non-VIS', 'VIS'])\n",
    "g.set_xlabel('Year')\n",
    "g.set_ylabel('Ratio')"
   ]
  },
  {
   "cell_type": "code",
   "execution_count": 125,
   "id": "847c07a5",
   "metadata": {},
   "outputs": [
    {
     "data": {
      "text/html": [
       "\n",
       "<div id=\"altair-viz-508f8d27619244859d740f9fc6513534\"></div>\n",
       "<script type=\"text/javascript\">\n",
       "  var VEGA_DEBUG = (typeof VEGA_DEBUG == \"undefined\") ? {} : VEGA_DEBUG;\n",
       "  (function(spec, embedOpt){\n",
       "    let outputDiv = document.currentScript.previousElementSibling;\n",
       "    if (outputDiv.id !== \"altair-viz-508f8d27619244859d740f9fc6513534\") {\n",
       "      outputDiv = document.getElementById(\"altair-viz-508f8d27619244859d740f9fc6513534\");\n",
       "    }\n",
       "    const paths = {\n",
       "      \"vega\": \"https://cdn.jsdelivr.net/npm//vega@5?noext\",\n",
       "      \"vega-lib\": \"https://cdn.jsdelivr.net/npm//vega-lib?noext\",\n",
       "      \"vega-lite\": \"https://cdn.jsdelivr.net/npm//vega-lite@4.17.0?noext\",\n",
       "      \"vega-embed\": \"https://cdn.jsdelivr.net/npm//vega-embed@6?noext\",\n",
       "    };\n",
       "\n",
       "    function maybeLoadScript(lib, version) {\n",
       "      var key = `${lib.replace(\"-\", \"\")}_version`;\n",
       "      return (VEGA_DEBUG[key] == version) ?\n",
       "        Promise.resolve(paths[lib]) :\n",
       "        new Promise(function(resolve, reject) {\n",
       "          var s = document.createElement('script');\n",
       "          document.getElementsByTagName(\"head\")[0].appendChild(s);\n",
       "          s.async = true;\n",
       "          s.onload = () => {\n",
       "            VEGA_DEBUG[key] = version;\n",
       "            return resolve(paths[lib]);\n",
       "          };\n",
       "          s.onerror = () => reject(`Error loading script: ${paths[lib]}`);\n",
       "          s.src = paths[lib];\n",
       "        });\n",
       "    }\n",
       "\n",
       "    function showError(err) {\n",
       "      outputDiv.innerHTML = `<div class=\"error\" style=\"color:red;\">${err}</div>`;\n",
       "      throw err;\n",
       "    }\n",
       "\n",
       "    function displayChart(vegaEmbed) {\n",
       "      vegaEmbed(outputDiv, spec, embedOpt)\n",
       "        .catch(err => showError(`Javascript Error: ${err.message}<br>This usually means there's a typo in your chart specification. See the javascript console for the full traceback.`));\n",
       "    }\n",
       "\n",
       "    if(typeof define === \"function\" && define.amd) {\n",
       "      requirejs.config({paths});\n",
       "      require([\"vega-embed\"], displayChart, err => showError(`Error loading script: ${err.message}`));\n",
       "    } else {\n",
       "      maybeLoadScript(\"vega\", \"5\")\n",
       "        .then(() => maybeLoadScript(\"vega-lite\", \"4.17.0\"))\n",
       "        .then(() => maybeLoadScript(\"vega-embed\", \"6\"))\n",
       "        .catch(showError)\n",
       "        .then(() => displayChart(vegaEmbed));\n",
       "    }\n",
       "  })({\"config\": {\"view\": {\"continuousWidth\": 400, \"continuousHeight\": 300}, \"axis\": {\"labelFontSize\": 13, \"titleFontSize\": 14}}, \"hconcat\": [{\"mark\": \"area\", \"encoding\": {\"color\": {\"field\": \"type\", \"type\": \"nominal\"}, \"x\": {\"axis\": {\"title\": \"Year\"}, \"field\": \"Year\", \"type\": \"temporal\"}, \"y\": {\"axis\": {\"title\": \"Raio\"}, \"field\": \"count\", \"type\": \"quantitative\"}}}, {\"mark\": \"line\", \"encoding\": {\"color\": {\"field\": \"type\", \"type\": \"nominal\"}, \"x\": {\"axis\": {\"title\": \"Year\"}, \"field\": \"Year\", \"type\": \"temporal\"}, \"y\": {\"axis\": {\"title\": \"Raio\"}, \"field\": \"ratio\", \"type\": \"quantitative\"}}}], \"data\": {\"name\": \"data-cbead6b475d5ae5830794521ab9cdc09\"}, \"$schema\": \"https://vega.github.io/schema/vega-lite/v4.17.0.json\", \"datasets\": {\"data-cbead6b475d5ae5830794521ab9cdc09\": [{\"year\": 1990, \"type\": \"Non-VIS\", \"count\": 590, \"ratio\": 0.9966216216216216, \"Year\": \"1990-01-01T00:00:00\"}, {\"year\": 1990, \"type\": \"VIS\", \"count\": 2, \"ratio\": 0.0033783783783783786, \"Year\": \"1990-01-01T00:00:00\"}, {\"year\": 1991, \"type\": \"Non-VIS\", \"count\": 464, \"ratio\": 0.9567010309278351, \"Year\": \"1991-01-01T00:00:00\"}, {\"year\": 1991, \"type\": \"VIS\", \"count\": 21, \"ratio\": 0.04329896907216495, \"Year\": \"1991-01-01T00:00:00\"}, {\"year\": 1992, \"type\": \"Non-VIS\", \"count\": 526, \"ratio\": 0.9037800687285223, \"Year\": \"1992-01-01T00:00:00\"}, {\"year\": 1992, \"type\": \"VIS\", \"count\": 56, \"ratio\": 0.09621993127147767, \"Year\": \"1992-01-01T00:00:00\"}, {\"year\": 1993, \"type\": \"Non-VIS\", \"count\": 610, \"ratio\": 0.9131736526946108, \"Year\": \"1993-01-01T00:00:00\"}, {\"year\": 1993, \"type\": \"VIS\", \"count\": 58, \"ratio\": 0.08682634730538923, \"Year\": \"1993-01-01T00:00:00\"}, {\"year\": 1994, \"type\": \"Non-VIS\", \"count\": 554, \"ratio\": 0.860248447204969, \"Year\": \"1994-01-01T00:00:00\"}, {\"year\": 1994, \"type\": \"VIS\", \"count\": 90, \"ratio\": 0.13975155279503104, \"Year\": \"1994-01-01T00:00:00\"}, {\"year\": 1995, \"type\": \"Non-VIS\", \"count\": 822, \"ratio\": 0.8772678762006404, \"Year\": \"1995-01-01T00:00:00\"}, {\"year\": 1995, \"type\": \"VIS\", \"count\": 115, \"ratio\": 0.12273212379935966, \"Year\": \"1995-01-01T00:00:00\"}, {\"year\": 1996, \"type\": \"Non-VIS\", \"count\": 929, \"ratio\": 0.8932692307692308, \"Year\": \"1996-01-01T00:00:00\"}, {\"year\": 1996, \"type\": \"VIS\", \"count\": 111, \"ratio\": 0.10673076923076923, \"Year\": \"1996-01-01T00:00:00\"}, {\"year\": 1997, \"type\": \"Non-VIS\", \"count\": 1170, \"ratio\": 0.875748502994012, \"Year\": \"1997-01-01T00:00:00\"}, {\"year\": 1997, \"type\": \"VIS\", \"count\": 166, \"ratio\": 0.12425149700598802, \"Year\": \"1997-01-01T00:00:00\"}, {\"year\": 1998, \"type\": \"Non-VIS\", \"count\": 1291, \"ratio\": 0.8510217534607778, \"Year\": \"1998-01-01T00:00:00\"}, {\"year\": 1998, \"type\": \"VIS\", \"count\": 226, \"ratio\": 0.14897824653922215, \"Year\": \"1998-01-01T00:00:00\"}, {\"year\": 1999, \"type\": \"Non-VIS\", \"count\": 1122, \"ratio\": 0.8354430379746836, \"Year\": \"1999-01-01T00:00:00\"}, {\"year\": 1999, \"type\": \"VIS\", \"count\": 221, \"ratio\": 0.16455696202531644, \"Year\": \"1999-01-01T00:00:00\"}, {\"year\": 2000, \"type\": \"Non-VIS\", \"count\": 1436, \"ratio\": 0.8476977567886659, \"Year\": \"2000-01-01T00:00:00\"}, {\"year\": 2000, \"type\": \"VIS\", \"count\": 258, \"ratio\": 0.15230224321133412, \"Year\": \"2000-01-01T00:00:00\"}, {\"year\": 2001, \"type\": \"Non-VIS\", \"count\": 1529, \"ratio\": 0.8747139588100686, \"Year\": \"2001-01-01T00:00:00\"}, {\"year\": 2001, \"type\": \"VIS\", \"count\": 219, \"ratio\": 0.12528604118993136, \"Year\": \"2001-01-01T00:00:00\"}, {\"year\": 2002, \"type\": \"Non-VIS\", \"count\": 1706, \"ratio\": 0.8616161616161616, \"Year\": \"2002-01-01T00:00:00\"}, {\"year\": 2002, \"type\": \"VIS\", \"count\": 274, \"ratio\": 0.1383838383838384, \"Year\": \"2002-01-01T00:00:00\"}, {\"year\": 2003, \"type\": \"Non-VIS\", \"count\": 2138, \"ratio\": 0.8691056910569106, \"Year\": \"2003-01-01T00:00:00\"}, {\"year\": 2003, \"type\": \"VIS\", \"count\": 322, \"ratio\": 0.13089430894308943, \"Year\": \"2003-01-01T00:00:00\"}, {\"year\": 2004, \"type\": \"Non-VIS\", \"count\": 2028, \"ratio\": 0.8331963845521775, \"Year\": \"2004-01-01T00:00:00\"}, {\"year\": 2004, \"type\": \"VIS\", \"count\": 406, \"ratio\": 0.16680361544782252, \"Year\": \"2004-01-01T00:00:00\"}, {\"year\": 2005, \"type\": \"Non-VIS\", \"count\": 2355, \"ratio\": 0.8468176914778857, \"Year\": \"2005-01-01T00:00:00\"}, {\"year\": 2005, \"type\": \"VIS\", \"count\": 426, \"ratio\": 0.15318230852211434, \"Year\": \"2005-01-01T00:00:00\"}, {\"year\": 2006, \"type\": \"Non-VIS\", \"count\": 2464, \"ratio\": 0.8412427449641516, \"Year\": \"2006-01-01T00:00:00\"}, {\"year\": 2006, \"type\": \"VIS\", \"count\": 465, \"ratio\": 0.15875725503584842, \"Year\": \"2006-01-01T00:00:00\"}, {\"year\": 2007, \"type\": \"Non-VIS\", \"count\": 2613, \"ratio\": 0.8511400651465798, \"Year\": \"2007-01-01T00:00:00\"}, {\"year\": 2007, \"type\": \"VIS\", \"count\": 457, \"ratio\": 0.1488599348534202, \"Year\": \"2007-01-01T00:00:00\"}, {\"year\": 2008, \"type\": \"Non-VIS\", \"count\": 2118, \"ratio\": 0.8136765270841337, \"Year\": \"2008-01-01T00:00:00\"}, {\"year\": 2008, \"type\": \"VIS\", \"count\": 485, \"ratio\": 0.18632347291586632, \"Year\": \"2008-01-01T00:00:00\"}, {\"year\": 2009, \"type\": \"Non-VIS\", \"count\": 2660, \"ratio\": 0.811222933821287, \"Year\": \"2009-01-01T00:00:00\"}, {\"year\": 2009, \"type\": \"VIS\", \"count\": 619, \"ratio\": 0.188777066178713, \"Year\": \"2009-01-01T00:00:00\"}, {\"year\": 2010, \"type\": \"Non-VIS\", \"count\": 2735, \"ratio\": 0.813745908955668, \"Year\": \"2010-01-01T00:00:00\"}, {\"year\": 2010, \"type\": \"VIS\", \"count\": 626, \"ratio\": 0.18625409104433205, \"Year\": \"2010-01-01T00:00:00\"}, {\"year\": 2011, \"type\": \"Non-VIS\", \"count\": 3260, \"ratio\": 0.8087323244852394, \"Year\": \"2011-01-01T00:00:00\"}, {\"year\": 2011, \"type\": \"VIS\", \"count\": 771, \"ratio\": 0.1912676755147606, \"Year\": \"2011-01-01T00:00:00\"}, {\"year\": 2012, \"type\": \"Non-VIS\", \"count\": 3174, \"ratio\": 0.8276401564537158, \"Year\": \"2012-01-01T00:00:00\"}, {\"year\": 2012, \"type\": \"VIS\", \"count\": 661, \"ratio\": 0.17235984354628422, \"Year\": \"2012-01-01T00:00:00\"}, {\"year\": 2013, \"type\": \"Non-VIS\", \"count\": 3093, \"ratio\": 0.8184704948399047, \"Year\": \"2013-01-01T00:00:00\"}, {\"year\": 2013, \"type\": \"VIS\", \"count\": 686, \"ratio\": 0.18152950516009525, \"Year\": \"2013-01-01T00:00:00\"}, {\"year\": 2014, \"type\": \"Non-VIS\", \"count\": 3984, \"ratio\": 0.8019323671497585, \"Year\": \"2014-01-01T00:00:00\"}, {\"year\": 2014, \"type\": \"VIS\", \"count\": 984, \"ratio\": 0.19806763285024154, \"Year\": \"2014-01-01T00:00:00\"}, {\"year\": 2015, \"type\": \"Non-VIS\", \"count\": 4004, \"ratio\": 0.799520766773163, \"Year\": \"2015-01-01T00:00:00\"}, {\"year\": 2015, \"type\": \"VIS\", \"count\": 1004, \"ratio\": 0.20047923322683706, \"Year\": \"2015-01-01T00:00:00\"}, {\"year\": 2016, \"type\": \"Non-VIS\", \"count\": 3857, \"ratio\": 0.8028726061615321, \"Year\": \"2016-01-01T00:00:00\"}, {\"year\": 2016, \"type\": \"VIS\", \"count\": 947, \"ratio\": 0.19712739383846795, \"Year\": \"2016-01-01T00:00:00\"}, {\"year\": 2017, \"type\": \"Non-VIS\", \"count\": 4561, \"ratio\": 0.8125779440584358, \"Year\": \"2017-01-01T00:00:00\"}, {\"year\": 2017, \"type\": \"VIS\", \"count\": 1052, \"ratio\": 0.18742205594156422, \"Year\": \"2017-01-01T00:00:00\"}, {\"year\": 2018, \"type\": \"Non-VIS\", \"count\": 4991, \"ratio\": 0.8008664955070603, \"Year\": \"2018-01-01T00:00:00\"}, {\"year\": 2018, \"type\": \"VIS\", \"count\": 1241, \"ratio\": 0.19913350449293968, \"Year\": \"2018-01-01T00:00:00\"}, {\"year\": 2019, \"type\": \"Non-VIS\", \"count\": 5451, \"ratio\": 0.8140681003584229, \"Year\": \"2019-01-01T00:00:00\"}, {\"year\": 2019, \"type\": \"VIS\", \"count\": 1245, \"ratio\": 0.18593189964157705, \"Year\": \"2019-01-01T00:00:00\"}, {\"year\": 2020, \"type\": \"Non-VIS\", \"count\": 6234, \"ratio\": 0.8136256851996868, \"Year\": \"2020-01-01T00:00:00\"}, {\"year\": 2020, \"type\": \"VIS\", \"count\": 1428, \"ratio\": 0.18637431480031325, \"Year\": \"2020-01-01T00:00:00\"}, {\"year\": 2021, \"type\": \"Non-VIS\", \"count\": 3674, \"ratio\": 0.8080052782054101, \"Year\": \"2021-01-01T00:00:00\"}, {\"year\": 2021, \"type\": \"VIS\", \"count\": 873, \"ratio\": 0.19199472179458985, \"Year\": \"2021-01-01T00:00:00\"}]}}, {\"mode\": \"vega-lite\"});\n",
       "</script>"
      ],
      "text/plain": [
       "alt.HConcatChart(...)"
      ]
     },
     "execution_count": 125,
     "metadata": {},
     "output_type": "execute_result"
    }
   ],
   "source": [
    "# Using Altair\n",
    "\n",
    "source = ref_df\n",
    "\n",
    "chart1 = alt.Chart(source).mark_area().encode(\n",
    "#     x=\"Year:T\",\n",
    "    alt.X('Year:T', axis=alt.Axis(title=\"Year\")),\n",
    "    alt.Y('count:Q', axis=alt.Axis(title=\"Raio\")),\n",
    "    color=\"type:N\"\n",
    ")\n",
    "\n",
    "chart22 = alt.Chart(source).mark_line().encode(\n",
    "    alt.X('Year:T', axis=alt.Axis(title=\"Year\")),\n",
    "    alt.Y('ratio:Q', axis=alt.Axis(title=\"Raio\")),\n",
    "    color='type',\n",
    ")\n",
    "\n",
    "alt.hconcat(chart1, chart22).configure_axis(\n",
    "    labelFontSize=13,\n",
    "    titleFontSize=14,\n",
    ")"
   ]
  },
  {
   "cell_type": "code",
   "execution_count": 126,
   "id": "c629ae27",
   "metadata": {},
   "outputs": [
    {
     "data": {
      "text/html": [
       "\n",
       "<div id=\"altair-viz-4b6173419cb74c99a289cf81f327b7a8\"></div>\n",
       "<script type=\"text/javascript\">\n",
       "  var VEGA_DEBUG = (typeof VEGA_DEBUG == \"undefined\") ? {} : VEGA_DEBUG;\n",
       "  (function(spec, embedOpt){\n",
       "    let outputDiv = document.currentScript.previousElementSibling;\n",
       "    if (outputDiv.id !== \"altair-viz-4b6173419cb74c99a289cf81f327b7a8\") {\n",
       "      outputDiv = document.getElementById(\"altair-viz-4b6173419cb74c99a289cf81f327b7a8\");\n",
       "    }\n",
       "    const paths = {\n",
       "      \"vega\": \"https://cdn.jsdelivr.net/npm//vega@5?noext\",\n",
       "      \"vega-lib\": \"https://cdn.jsdelivr.net/npm//vega-lib?noext\",\n",
       "      \"vega-lite\": \"https://cdn.jsdelivr.net/npm//vega-lite@4.17.0?noext\",\n",
       "      \"vega-embed\": \"https://cdn.jsdelivr.net/npm//vega-embed@6?noext\",\n",
       "    };\n",
       "\n",
       "    function maybeLoadScript(lib, version) {\n",
       "      var key = `${lib.replace(\"-\", \"\")}_version`;\n",
       "      return (VEGA_DEBUG[key] == version) ?\n",
       "        Promise.resolve(paths[lib]) :\n",
       "        new Promise(function(resolve, reject) {\n",
       "          var s = document.createElement('script');\n",
       "          document.getElementsByTagName(\"head\")[0].appendChild(s);\n",
       "          s.async = true;\n",
       "          s.onload = () => {\n",
       "            VEGA_DEBUG[key] = version;\n",
       "            return resolve(paths[lib]);\n",
       "          };\n",
       "          s.onerror = () => reject(`Error loading script: ${paths[lib]}`);\n",
       "          s.src = paths[lib];\n",
       "        });\n",
       "    }\n",
       "\n",
       "    function showError(err) {\n",
       "      outputDiv.innerHTML = `<div class=\"error\" style=\"color:red;\">${err}</div>`;\n",
       "      throw err;\n",
       "    }\n",
       "\n",
       "    function displayChart(vegaEmbed) {\n",
       "      vegaEmbed(outputDiv, spec, embedOpt)\n",
       "        .catch(err => showError(`Javascript Error: ${err.message}<br>This usually means there's a typo in your chart specification. See the javascript console for the full traceback.`));\n",
       "    }\n",
       "\n",
       "    if(typeof define === \"function\" && define.amd) {\n",
       "      requirejs.config({paths});\n",
       "      require([\"vega-embed\"], displayChart, err => showError(`Error loading script: ${err.message}`));\n",
       "    } else {\n",
       "      maybeLoadScript(\"vega\", \"5\")\n",
       "        .then(() => maybeLoadScript(\"vega-lite\", \"4.17.0\"))\n",
       "        .then(() => maybeLoadScript(\"vega-embed\", \"6\"))\n",
       "        .catch(showError)\n",
       "        .then(() => displayChart(vegaEmbed));\n",
       "    }\n",
       "  })({\"config\": {\"view\": {\"continuousWidth\": 400, \"continuousHeight\": 300}}, \"layer\": [{\"data\": {\"name\": \"data-c17c32d6fb8d292f81572df3e35aaa69\"}, \"mark\": \"line\", \"encoding\": {\"color\": {\"field\": \"type\", \"scale\": {\"domain\": [\"VIS\", \"Non-VIS\"], \"range\": [\"green\", \"purple\"]}, \"title\": \"Type\", \"type\": \"nominal\"}, \"x\": {\"field\": \"Year\", \"type\": \"temporal\"}, \"y\": {\"field\": \"ratio\", \"type\": \"quantitative\"}}}, {\"data\": {\"name\": \"data-cbead6b475d5ae5830794521ab9cdc09\"}, \"mark\": \"line\", \"encoding\": {\"color\": {\"field\": \"type\", \"type\": \"nominal\"}, \"x\": {\"axis\": {\"title\": \"Year\"}, \"field\": \"Year\", \"type\": \"temporal\"}, \"y\": {\"axis\": {\"title\": \"Raio\"}, \"field\": \"ratio\", \"type\": \"quantitative\"}}}], \"resolve\": {\"scale\": {\"color\": \"independent\"}}, \"$schema\": \"https://vega.github.io/schema/vega-lite/v4.17.0.json\", \"datasets\": {\"data-c17c32d6fb8d292f81572df3e35aaa69\": [{\"year\": 1990.0, \"type\": \"Non-VIS\", \"count\": 6, \"ratio\": 0.75, \"Year\": \"1990-01-01T00:00:00\"}, {\"year\": 1990.0, \"type\": \"VIS\", \"count\": 2, \"ratio\": 0.25, \"Year\": \"1990-01-01T00:00:00\"}, {\"year\": 1991.0, \"type\": \"Non-VIS\", \"count\": 58, \"ratio\": 0.7341772151898734, \"Year\": \"1991-01-01T00:00:00\"}, {\"year\": 1991.0, \"type\": \"VIS\", \"count\": 21, \"ratio\": 0.26582278481012656, \"Year\": \"1991-01-01T00:00:00\"}, {\"year\": 1992.0, \"type\": \"Non-VIS\", \"count\": 128, \"ratio\": 0.6956521739130435, \"Year\": \"1992-01-01T00:00:00\"}, {\"year\": 1992.0, \"type\": \"VIS\", \"count\": 56, \"ratio\": 0.30434782608695654, \"Year\": \"1992-01-01T00:00:00\"}, {\"year\": 1993.0, \"type\": \"Non-VIS\", \"count\": 226, \"ratio\": 0.7985865724381626, \"Year\": \"1993-01-01T00:00:00\"}, {\"year\": 1993.0, \"type\": \"VIS\", \"count\": 57, \"ratio\": 0.20141342756183744, \"Year\": \"1993-01-01T00:00:00\"}, {\"year\": 1994.0, \"type\": \"Non-VIS\", \"count\": 304, \"ratio\": 0.7735368956743003, \"Year\": \"1994-01-01T00:00:00\"}, {\"year\": 1994.0, \"type\": \"VIS\", \"count\": 89, \"ratio\": 0.22646310432569974, \"Year\": \"1994-01-01T00:00:00\"}, {\"year\": 1995.0, \"type\": \"Non-VIS\", \"count\": 492, \"ratio\": 0.8159203980099502, \"Year\": \"1995-01-01T00:00:00\"}, {\"year\": 1995.0, \"type\": \"VIS\", \"count\": 111, \"ratio\": 0.18407960199004975, \"Year\": \"1995-01-01T00:00:00\"}, {\"year\": 1996.0, \"type\": \"Non-VIS\", \"count\": 510, \"ratio\": 0.821256038647343, \"Year\": \"1996-01-01T00:00:00\"}, {\"year\": 1996.0, \"type\": \"VIS\", \"count\": 111, \"ratio\": 0.178743961352657, \"Year\": \"1996-01-01T00:00:00\"}, {\"year\": 1997.0, \"type\": \"Non-VIS\", \"count\": 799, \"ratio\": 0.8271221532091098, \"Year\": \"1997-01-01T00:00:00\"}, {\"year\": 1997.0, \"type\": \"VIS\", \"count\": 167, \"ratio\": 0.17287784679089027, \"Year\": \"1997-01-01T00:00:00\"}, {\"year\": 1998.0, \"type\": \"Non-VIS\", \"count\": 837, \"ratio\": 0.7829747427502338, \"Year\": \"1998-01-01T00:00:00\"}, {\"year\": 1998.0, \"type\": \"VIS\", \"count\": 232, \"ratio\": 0.21702525724976612, \"Year\": \"1998-01-01T00:00:00\"}, {\"year\": 1999.0, \"type\": \"Non-VIS\", \"count\": 1125, \"ratio\": 0.8351893095768375, \"Year\": \"1999-01-01T00:00:00\"}, {\"year\": 1999.0, \"type\": \"VIS\", \"count\": 222, \"ratio\": 0.16481069042316257, \"Year\": \"1999-01-01T00:00:00\"}, {\"year\": 2000.0, \"type\": \"Non-VIS\", \"count\": 1402, \"ratio\": 0.8450874020494273, \"Year\": \"2000-01-01T00:00:00\"}, {\"year\": 2000.0, \"type\": \"VIS\", \"count\": 257, \"ratio\": 0.15491259795057263, \"Year\": \"2000-01-01T00:00:00\"}, {\"year\": 2001.0, \"type\": \"Non-VIS\", \"count\": 1704, \"ratio\": 0.8861154446177847, \"Year\": \"2001-01-01T00:00:00\"}, {\"year\": 2001.0, \"type\": \"VIS\", \"count\": 219, \"ratio\": 0.11388455538221529, \"Year\": \"2001-01-01T00:00:00\"}, {\"year\": 2002.0, \"type\": \"Non-VIS\", \"count\": 2243, \"ratio\": 0.8914944356120826, \"Year\": \"2002-01-01T00:00:00\"}, {\"year\": 2002.0, \"type\": \"VIS\", \"count\": 273, \"ratio\": 0.10850556438791734, \"Year\": \"2002-01-01T00:00:00\"}, {\"year\": 2003.0, \"type\": \"Non-VIS\", \"count\": 2859, \"ratio\": 0.9010400252127324, \"Year\": \"2003-01-01T00:00:00\"}, {\"year\": 2003.0, \"type\": \"VIS\", \"count\": 314, \"ratio\": 0.09895997478726758, \"Year\": \"2003-01-01T00:00:00\"}, {\"year\": 2004.0, \"type\": \"Non-VIS\", \"count\": 3468, \"ratio\": 0.8940448569218871, \"Year\": \"2004-01-01T00:00:00\"}, {\"year\": 2004.0, \"type\": \"VIS\", \"count\": 411, \"ratio\": 0.10595514307811292, \"Year\": \"2004-01-01T00:00:00\"}, {\"year\": 2005.0, \"type\": \"Non-VIS\", \"count\": 4000, \"ratio\": 0.9033423667570009, \"Year\": \"2005-01-01T00:00:00\"}, {\"year\": 2005.0, \"type\": \"VIS\", \"count\": 428, \"ratio\": 0.0966576332429991, \"Year\": \"2005-01-01T00:00:00\"}, {\"year\": 2006.0, \"type\": \"Non-VIS\", \"count\": 4210, \"ratio\": 0.9009201797560453, \"Year\": \"2006-01-01T00:00:00\"}, {\"year\": 2006.0, \"type\": \"VIS\", \"count\": 463, \"ratio\": 0.09907982024395463, \"Year\": \"2006-01-01T00:00:00\"}, {\"year\": 2007.0, \"type\": \"Non-VIS\", \"count\": 4420, \"ratio\": 0.9068526877308166, \"Year\": \"2007-01-01T00:00:00\"}, {\"year\": 2007.0, \"type\": \"VIS\", \"count\": 454, \"ratio\": 0.09314731226918342, \"Year\": \"2007-01-01T00:00:00\"}, {\"year\": 2008.0, \"type\": \"Non-VIS\", \"count\": 4779, \"ratio\": 0.9102857142857143, \"Year\": \"2008-01-01T00:00:00\"}, {\"year\": 2008.0, \"type\": \"VIS\", \"count\": 471, \"ratio\": 0.08971428571428572, \"Year\": \"2008-01-01T00:00:00\"}, {\"year\": 2009.0, \"type\": \"Non-VIS\", \"count\": 4897, \"ratio\": 0.8844139425681777, \"Year\": \"2009-01-01T00:00:00\"}, {\"year\": 2009.0, \"type\": \"VIS\", \"count\": 640, \"ratio\": 0.11558605743182229, \"Year\": \"2009-01-01T00:00:00\"}, {\"year\": 2010.0, \"type\": \"Non-VIS\", \"count\": 5164, \"ratio\": 0.8920366211780963, \"Year\": \"2010-01-01T00:00:00\"}, {\"year\": 2010.0, \"type\": \"VIS\", \"count\": 625, \"ratio\": 0.10796337882190361, \"Year\": \"2010-01-01T00:00:00\"}, {\"year\": 2011.0, \"type\": \"Non-VIS\", \"count\": 6173, \"ratio\": 0.8899942329873126, \"Year\": \"2011-01-01T00:00:00\"}, {\"year\": 2011.0, \"type\": \"VIS\", \"count\": 763, \"ratio\": 0.11000576701268742, \"Year\": \"2011-01-01T00:00:00\"}, {\"year\": 2012.0, \"type\": \"Non-VIS\", \"count\": 6489, \"ratio\": 0.9072986577181208, \"Year\": \"2012-01-01T00:00:00\"}, {\"year\": 2012.0, \"type\": \"VIS\", \"count\": 663, \"ratio\": 0.09270134228187919, \"Year\": \"2012-01-01T00:00:00\"}, {\"year\": 2013.0, \"type\": \"Non-VIS\", \"count\": 6925, \"ratio\": 0.9098672973328078, \"Year\": \"2013-01-01T00:00:00\"}, {\"year\": 2013.0, \"type\": \"VIS\", \"count\": 686, \"ratio\": 0.09013270266719223, \"Year\": \"2013-01-01T00:00:00\"}, {\"year\": 2014.0, \"type\": \"Non-VIS\", \"count\": 7472, \"ratio\": 0.8826934435912581, \"Year\": \"2014-01-01T00:00:00\"}, {\"year\": 2014.0, \"type\": \"VIS\", \"count\": 993, \"ratio\": 0.11730655640874188, \"Year\": \"2014-01-01T00:00:00\"}, {\"year\": 2015.0, \"type\": \"Non-VIS\", \"count\": 7354, \"ratio\": 0.9834180262102167, \"Year\": \"2015-01-01T00:00:00\"}, {\"year\": 2015.0, \"type\": \"VIS\", \"count\": 124, \"ratio\": 0.016581973789783364, \"Year\": \"2015-01-01T00:00:00\"}, {\"year\": 2016.0, \"type\": \"Non-VIS\", \"count\": 8317, \"ratio\": 0.8929568391668457, \"Year\": \"2016-01-01T00:00:00\"}, {\"year\": 2016.0, \"type\": \"VIS\", \"count\": 997, \"ratio\": 0.10704316083315439, \"Year\": \"2016-01-01T00:00:00\"}, {\"year\": 2017.0, \"type\": \"Non-VIS\", \"count\": 8327, \"ratio\": 0.8953763440860215, \"Year\": \"2017-01-01T00:00:00\"}, {\"year\": 2017.0, \"type\": \"VIS\", \"count\": 973, \"ratio\": 0.1046236559139785, \"Year\": \"2017-01-01T00:00:00\"}, {\"year\": 2018.0, \"type\": \"Non-VIS\", \"count\": 8610, \"ratio\": 0.8959417273673257, \"Year\": \"2018-01-01T00:00:00\"}, {\"year\": 2018.0, \"type\": \"VIS\", \"count\": 1000, \"ratio\": 0.1040582726326743, \"Year\": \"2018-01-01T00:00:00\"}, {\"year\": 2019.0, \"type\": \"Non-VIS\", \"count\": 9968, \"ratio\": 0.8871484514061944, \"Year\": \"2019-01-01T00:00:00\"}, {\"year\": 2019.0, \"type\": \"VIS\", \"count\": 1268, \"ratio\": 0.11285154859380563, \"Year\": \"2019-01-01T00:00:00\"}, {\"year\": 2020.0, \"type\": \"Non-VIS\", \"count\": 11495, \"ratio\": 0.8882621126651727, \"Year\": \"2020-01-01T00:00:00\"}, {\"year\": 2020.0, \"type\": \"VIS\", \"count\": 1446, \"ratio\": 0.1117378873348273, \"Year\": \"2020-01-01T00:00:00\"}, {\"year\": 2021.0, \"type\": \"Non-VIS\", \"count\": 11353, \"ratio\": 0.850666866476847, \"Year\": \"2021-01-01T00:00:00\"}, {\"year\": 2021.0, \"type\": \"VIS\", \"count\": 1993, \"ratio\": 0.149333133523153, \"Year\": \"2021-01-01T00:00:00\"}], \"data-cbead6b475d5ae5830794521ab9cdc09\": [{\"year\": 1990, \"type\": \"Non-VIS\", \"count\": 590, \"ratio\": 0.9966216216216216, \"Year\": \"1990-01-01T00:00:00\"}, {\"year\": 1990, \"type\": \"VIS\", \"count\": 2, \"ratio\": 0.0033783783783783786, \"Year\": \"1990-01-01T00:00:00\"}, {\"year\": 1991, \"type\": \"Non-VIS\", \"count\": 464, \"ratio\": 0.9567010309278351, \"Year\": \"1991-01-01T00:00:00\"}, {\"year\": 1991, \"type\": \"VIS\", \"count\": 21, \"ratio\": 0.04329896907216495, \"Year\": \"1991-01-01T00:00:00\"}, {\"year\": 1992, \"type\": \"Non-VIS\", \"count\": 526, \"ratio\": 0.9037800687285223, \"Year\": \"1992-01-01T00:00:00\"}, {\"year\": 1992, \"type\": \"VIS\", \"count\": 56, \"ratio\": 0.09621993127147767, \"Year\": \"1992-01-01T00:00:00\"}, {\"year\": 1993, \"type\": \"Non-VIS\", \"count\": 610, \"ratio\": 0.9131736526946108, \"Year\": \"1993-01-01T00:00:00\"}, {\"year\": 1993, \"type\": \"VIS\", \"count\": 58, \"ratio\": 0.08682634730538923, \"Year\": \"1993-01-01T00:00:00\"}, {\"year\": 1994, \"type\": \"Non-VIS\", \"count\": 554, \"ratio\": 0.860248447204969, \"Year\": \"1994-01-01T00:00:00\"}, {\"year\": 1994, \"type\": \"VIS\", \"count\": 90, \"ratio\": 0.13975155279503104, \"Year\": \"1994-01-01T00:00:00\"}, {\"year\": 1995, \"type\": \"Non-VIS\", \"count\": 822, \"ratio\": 0.8772678762006404, \"Year\": \"1995-01-01T00:00:00\"}, {\"year\": 1995, \"type\": \"VIS\", \"count\": 115, \"ratio\": 0.12273212379935966, \"Year\": \"1995-01-01T00:00:00\"}, {\"year\": 1996, \"type\": \"Non-VIS\", \"count\": 929, \"ratio\": 0.8932692307692308, \"Year\": \"1996-01-01T00:00:00\"}, {\"year\": 1996, \"type\": \"VIS\", \"count\": 111, \"ratio\": 0.10673076923076923, \"Year\": \"1996-01-01T00:00:00\"}, {\"year\": 1997, \"type\": \"Non-VIS\", \"count\": 1170, \"ratio\": 0.875748502994012, \"Year\": \"1997-01-01T00:00:00\"}, {\"year\": 1997, \"type\": \"VIS\", \"count\": 166, \"ratio\": 0.12425149700598802, \"Year\": \"1997-01-01T00:00:00\"}, {\"year\": 1998, \"type\": \"Non-VIS\", \"count\": 1291, \"ratio\": 0.8510217534607778, \"Year\": \"1998-01-01T00:00:00\"}, {\"year\": 1998, \"type\": \"VIS\", \"count\": 226, \"ratio\": 0.14897824653922215, \"Year\": \"1998-01-01T00:00:00\"}, {\"year\": 1999, \"type\": \"Non-VIS\", \"count\": 1122, \"ratio\": 0.8354430379746836, \"Year\": \"1999-01-01T00:00:00\"}, {\"year\": 1999, \"type\": \"VIS\", \"count\": 221, \"ratio\": 0.16455696202531644, \"Year\": \"1999-01-01T00:00:00\"}, {\"year\": 2000, \"type\": \"Non-VIS\", \"count\": 1436, \"ratio\": 0.8476977567886659, \"Year\": \"2000-01-01T00:00:00\"}, {\"year\": 2000, \"type\": \"VIS\", \"count\": 258, \"ratio\": 0.15230224321133412, \"Year\": \"2000-01-01T00:00:00\"}, {\"year\": 2001, \"type\": \"Non-VIS\", \"count\": 1529, \"ratio\": 0.8747139588100686, \"Year\": \"2001-01-01T00:00:00\"}, {\"year\": 2001, \"type\": \"VIS\", \"count\": 219, \"ratio\": 0.12528604118993136, \"Year\": \"2001-01-01T00:00:00\"}, {\"year\": 2002, \"type\": \"Non-VIS\", \"count\": 1706, \"ratio\": 0.8616161616161616, \"Year\": \"2002-01-01T00:00:00\"}, {\"year\": 2002, \"type\": \"VIS\", \"count\": 274, \"ratio\": 0.1383838383838384, \"Year\": \"2002-01-01T00:00:00\"}, {\"year\": 2003, \"type\": \"Non-VIS\", \"count\": 2138, \"ratio\": 0.8691056910569106, \"Year\": \"2003-01-01T00:00:00\"}, {\"year\": 2003, \"type\": \"VIS\", \"count\": 322, \"ratio\": 0.13089430894308943, \"Year\": \"2003-01-01T00:00:00\"}, {\"year\": 2004, \"type\": \"Non-VIS\", \"count\": 2028, \"ratio\": 0.8331963845521775, \"Year\": \"2004-01-01T00:00:00\"}, {\"year\": 2004, \"type\": \"VIS\", \"count\": 406, \"ratio\": 0.16680361544782252, \"Year\": \"2004-01-01T00:00:00\"}, {\"year\": 2005, \"type\": \"Non-VIS\", \"count\": 2355, \"ratio\": 0.8468176914778857, \"Year\": \"2005-01-01T00:00:00\"}, {\"year\": 2005, \"type\": \"VIS\", \"count\": 426, \"ratio\": 0.15318230852211434, \"Year\": \"2005-01-01T00:00:00\"}, {\"year\": 2006, \"type\": \"Non-VIS\", \"count\": 2464, \"ratio\": 0.8412427449641516, \"Year\": \"2006-01-01T00:00:00\"}, {\"year\": 2006, \"type\": \"VIS\", \"count\": 465, \"ratio\": 0.15875725503584842, \"Year\": \"2006-01-01T00:00:00\"}, {\"year\": 2007, \"type\": \"Non-VIS\", \"count\": 2613, \"ratio\": 0.8511400651465798, \"Year\": \"2007-01-01T00:00:00\"}, {\"year\": 2007, \"type\": \"VIS\", \"count\": 457, \"ratio\": 0.1488599348534202, \"Year\": \"2007-01-01T00:00:00\"}, {\"year\": 2008, \"type\": \"Non-VIS\", \"count\": 2118, \"ratio\": 0.8136765270841337, \"Year\": \"2008-01-01T00:00:00\"}, {\"year\": 2008, \"type\": \"VIS\", \"count\": 485, \"ratio\": 0.18632347291586632, \"Year\": \"2008-01-01T00:00:00\"}, {\"year\": 2009, \"type\": \"Non-VIS\", \"count\": 2660, \"ratio\": 0.811222933821287, \"Year\": \"2009-01-01T00:00:00\"}, {\"year\": 2009, \"type\": \"VIS\", \"count\": 619, \"ratio\": 0.188777066178713, \"Year\": \"2009-01-01T00:00:00\"}, {\"year\": 2010, \"type\": \"Non-VIS\", \"count\": 2735, \"ratio\": 0.813745908955668, \"Year\": \"2010-01-01T00:00:00\"}, {\"year\": 2010, \"type\": \"VIS\", \"count\": 626, \"ratio\": 0.18625409104433205, \"Year\": \"2010-01-01T00:00:00\"}, {\"year\": 2011, \"type\": \"Non-VIS\", \"count\": 3260, \"ratio\": 0.8087323244852394, \"Year\": \"2011-01-01T00:00:00\"}, {\"year\": 2011, \"type\": \"VIS\", \"count\": 771, \"ratio\": 0.1912676755147606, \"Year\": \"2011-01-01T00:00:00\"}, {\"year\": 2012, \"type\": \"Non-VIS\", \"count\": 3174, \"ratio\": 0.8276401564537158, \"Year\": \"2012-01-01T00:00:00\"}, {\"year\": 2012, \"type\": \"VIS\", \"count\": 661, \"ratio\": 0.17235984354628422, \"Year\": \"2012-01-01T00:00:00\"}, {\"year\": 2013, \"type\": \"Non-VIS\", \"count\": 3093, \"ratio\": 0.8184704948399047, \"Year\": \"2013-01-01T00:00:00\"}, {\"year\": 2013, \"type\": \"VIS\", \"count\": 686, \"ratio\": 0.18152950516009525, \"Year\": \"2013-01-01T00:00:00\"}, {\"year\": 2014, \"type\": \"Non-VIS\", \"count\": 3984, \"ratio\": 0.8019323671497585, \"Year\": \"2014-01-01T00:00:00\"}, {\"year\": 2014, \"type\": \"VIS\", \"count\": 984, \"ratio\": 0.19806763285024154, \"Year\": \"2014-01-01T00:00:00\"}, {\"year\": 2015, \"type\": \"Non-VIS\", \"count\": 4004, \"ratio\": 0.799520766773163, \"Year\": \"2015-01-01T00:00:00\"}, {\"year\": 2015, \"type\": \"VIS\", \"count\": 1004, \"ratio\": 0.20047923322683706, \"Year\": \"2015-01-01T00:00:00\"}, {\"year\": 2016, \"type\": \"Non-VIS\", \"count\": 3857, \"ratio\": 0.8028726061615321, \"Year\": \"2016-01-01T00:00:00\"}, {\"year\": 2016, \"type\": \"VIS\", \"count\": 947, \"ratio\": 0.19712739383846795, \"Year\": \"2016-01-01T00:00:00\"}, {\"year\": 2017, \"type\": \"Non-VIS\", \"count\": 4561, \"ratio\": 0.8125779440584358, \"Year\": \"2017-01-01T00:00:00\"}, {\"year\": 2017, \"type\": \"VIS\", \"count\": 1052, \"ratio\": 0.18742205594156422, \"Year\": \"2017-01-01T00:00:00\"}, {\"year\": 2018, \"type\": \"Non-VIS\", \"count\": 4991, \"ratio\": 0.8008664955070603, \"Year\": \"2018-01-01T00:00:00\"}, {\"year\": 2018, \"type\": \"VIS\", \"count\": 1241, \"ratio\": 0.19913350449293968, \"Year\": \"2018-01-01T00:00:00\"}, {\"year\": 2019, \"type\": \"Non-VIS\", \"count\": 5451, \"ratio\": 0.8140681003584229, \"Year\": \"2019-01-01T00:00:00\"}, {\"year\": 2019, \"type\": \"VIS\", \"count\": 1245, \"ratio\": 0.18593189964157705, \"Year\": \"2019-01-01T00:00:00\"}, {\"year\": 2020, \"type\": \"Non-VIS\", \"count\": 6234, \"ratio\": 0.8136256851996868, \"Year\": \"2020-01-01T00:00:00\"}, {\"year\": 2020, \"type\": \"VIS\", \"count\": 1428, \"ratio\": 0.18637431480031325, \"Year\": \"2020-01-01T00:00:00\"}, {\"year\": 2021, \"type\": \"Non-VIS\", \"count\": 3674, \"ratio\": 0.8080052782054101, \"Year\": \"2021-01-01T00:00:00\"}, {\"year\": 2021, \"type\": \"VIS\", \"count\": 873, \"ratio\": 0.19199472179458985, \"Year\": \"2021-01-01T00:00:00\"}]}}, {\"mode\": \"vega-lite\"});\n",
       "</script>"
      ],
      "text/plain": [
       "alt.LayerChart(...)"
      ]
     },
     "execution_count": 126,
     "metadata": {},
     "output_type": "execute_result"
    }
   ],
   "source": [
    "alt.layer(\n",
    "    chart12,\n",
    "    chart22\n",
    ").resolve_scale(\n",
    "    color='independent'\n",
    ")"
   ]
  },
  {
   "cell_type": "markdown",
   "id": "46d758cf",
   "metadata": {},
   "source": [
    "## Subplots"
   ]
  },
  {
   "cell_type": "markdown",
   "id": "89537551",
   "metadata": {},
   "source": [
    "To include eight charts:\n",
    "\n",
    "- conference track\n",
    "- number of pubs\n",
    "- number of unique authors\n",
    "- vis vs non-vis citations\n",
    "- citation & reference ratio changes\n",
    "- cross-country collab., ratio\n",
    "- cross-type collab., ratio\n",
    "- cross-country & cross-type, absolute count"
   ]
  },
  {
   "cell_type": "code",
   "execution_count": 134,
   "id": "1fe77673",
   "metadata": {},
   "outputs": [
    {
     "data": {
      "text/html": [
       "\n",
       "<div id=\"altair-viz-04bf77271b4544f790fd8119a8860e66\"></div>\n",
       "<script type=\"text/javascript\">\n",
       "  var VEGA_DEBUG = (typeof VEGA_DEBUG == \"undefined\") ? {} : VEGA_DEBUG;\n",
       "  (function(spec, embedOpt){\n",
       "    let outputDiv = document.currentScript.previousElementSibling;\n",
       "    if (outputDiv.id !== \"altair-viz-04bf77271b4544f790fd8119a8860e66\") {\n",
       "      outputDiv = document.getElementById(\"altair-viz-04bf77271b4544f790fd8119a8860e66\");\n",
       "    }\n",
       "    const paths = {\n",
       "      \"vega\": \"https://cdn.jsdelivr.net/npm//vega@5?noext\",\n",
       "      \"vega-lib\": \"https://cdn.jsdelivr.net/npm//vega-lib?noext\",\n",
       "      \"vega-lite\": \"https://cdn.jsdelivr.net/npm//vega-lite@4.17.0?noext\",\n",
       "      \"vega-embed\": \"https://cdn.jsdelivr.net/npm//vega-embed@6?noext\",\n",
       "    };\n",
       "\n",
       "    function maybeLoadScript(lib, version) {\n",
       "      var key = `${lib.replace(\"-\", \"\")}_version`;\n",
       "      return (VEGA_DEBUG[key] == version) ?\n",
       "        Promise.resolve(paths[lib]) :\n",
       "        new Promise(function(resolve, reject) {\n",
       "          var s = document.createElement('script');\n",
       "          document.getElementsByTagName(\"head\")[0].appendChild(s);\n",
       "          s.async = true;\n",
       "          s.onload = () => {\n",
       "            VEGA_DEBUG[key] = version;\n",
       "            return resolve(paths[lib]);\n",
       "          };\n",
       "          s.onerror = () => reject(`Error loading script: ${paths[lib]}`);\n",
       "          s.src = paths[lib];\n",
       "        });\n",
       "    }\n",
       "\n",
       "    function showError(err) {\n",
       "      outputDiv.innerHTML = `<div class=\"error\" style=\"color:red;\">${err}</div>`;\n",
       "      throw err;\n",
       "    }\n",
       "\n",
       "    function displayChart(vegaEmbed) {\n",
       "      vegaEmbed(outputDiv, spec, embedOpt)\n",
       "        .catch(err => showError(`Javascript Error: ${err.message}<br>This usually means there's a typo in your chart specification. See the javascript console for the full traceback.`));\n",
       "    }\n",
       "\n",
       "    if(typeof define === \"function\" && define.amd) {\n",
       "      requirejs.config({paths});\n",
       "      require([\"vega-embed\"], displayChart, err => showError(`Error loading script: ${err.message}`));\n",
       "    } else {\n",
       "      maybeLoadScript(\"vega\", \"5\")\n",
       "        .then(() => maybeLoadScript(\"vega-lite\", \"4.17.0\"))\n",
       "        .then(() => maybeLoadScript(\"vega-embed\", \"6\"))\n",
       "        .catch(showError)\n",
       "        .then(() => displayChart(vegaEmbed));\n",
       "    }\n",
       "  })({\"config\": {\"view\": {\"continuousWidth\": 400, \"continuousHeight\": 300}, \"axis\": {\"labelFontSize\": 15, \"titleFontSize\": 20}, \"legend\": {\"labelFontSize\": 16, \"titleFontSize\": 14}, \"title\": {\"anchor\": \"start\", \"fontSize\": 22}}, \"hconcat\": [{\"data\": {\"name\": \"data-c46cfe1b5eed49c06316254cf03684f7\"}, \"mark\": \"bar\", \"encoding\": {\"color\": {\"field\": \"Conference track\", \"legend\": null, \"type\": \"nominal\"}, \"x\": {\"axis\": {\"labelAngle\": -20}, \"field\": \"Conference track\", \"sort\": [\"VIS\", \"SciVis\", \"VAST\", \"InfoVis\", \"Vis\"], \"type\": \"nominal\"}, \"y\": {\"field\": \"Number of publications\", \"type\": \"quantitative\"}}, \"title\": \"a\", \"width\": 200}, {\"data\": {\"name\": \"data-b7f3aaa84c9a378b397f1bfa51787558\"}, \"mark\": \"line\", \"encoding\": {\"x\": {\"field\": \"Year\", \"type\": \"temporal\"}, \"y\": {\"field\": \"Number of Publications\", \"title\": \"Number of publications\", \"type\": \"quantitative\"}}, \"title\": \"b\", \"width\": 300}, {\"data\": {\"name\": \"data-4ede2a93b1e02636ab017c3e423f7509\"}, \"mark\": \"line\", \"encoding\": {\"x\": {\"field\": \"Year\", \"type\": \"temporal\"}, \"y\": {\"field\": \"Number of Unique Authors\", \"title\": \"Number of unique authors\", \"type\": \"quantitative\"}}, \"title\": \"c\", \"width\": 300}, {\"data\": {\"name\": \"data-c17c32d6fb8d292f81572df3e35aaa69\"}, \"mark\": \"area\", \"encoding\": {\"color\": {\"field\": \"type\", \"legend\": {\"orient\": \"top-left\"}, \"scale\": {\"domain\": [\"Non-VIS\", \"VIS\"], \"range\": [\"hotpink\", \"skyblue\"]}, \"title\": \"Who cited VIS\", \"type\": \"nominal\"}, \"x\": {\"field\": \"Year\", \"type\": \"temporal\"}, \"y\": {\"field\": \"count\", \"title\": \"Number of citations\", \"type\": \"quantitative\"}}, \"title\": \"d\", \"width\": 300}], \"resolve\": {\"scale\": {\"color\": \"independent\"}}, \"$schema\": \"https://vega.github.io/schema/vega-lite/v4.17.0.json\", \"datasets\": {\"data-c46cfe1b5eed49c06316254cf03684f7\": [{\"Conference track\": \"SciVis\", \"Number of publications\": 290}, {\"Conference track\": \"VAST\", \"Number of publications\": 572}, {\"Conference track\": \"InfoVis\", \"Number of publications\": 834}, {\"Conference track\": \"Vis\", \"Number of publications\": 1368}], \"data-b7f3aaa84c9a378b397f1bfa51787558\": [{\"Year\": \"1990-01-01T00:00:00\", \"Number of Publications\": 52}, {\"Year\": \"1991-01-01T00:00:00\", \"Number of Publications\": 48}, {\"Year\": \"1992-01-01T00:00:00\", \"Number of Publications\": 51}, {\"Year\": \"1993-01-01T00:00:00\", \"Number of Publications\": 55}, {\"Year\": \"1994-01-01T00:00:00\", \"Number of Publications\": 52}, {\"Year\": \"1995-01-01T00:00:00\", \"Number of Publications\": 74}, {\"Year\": \"1996-01-01T00:00:00\", \"Number of Publications\": 77}, {\"Year\": \"1997-01-01T00:00:00\", \"Number of Publications\": 88}, {\"Year\": \"1998-01-01T00:00:00\", \"Number of Publications\": 90}, {\"Year\": \"1999-01-01T00:00:00\", \"Number of Publications\": 88}, {\"Year\": \"2000-01-01T00:00:00\", \"Number of Publications\": 92}, {\"Year\": \"2001-01-01T00:00:00\", \"Number of Publications\": 96}, {\"Year\": \"2002-01-01T00:00:00\", \"Number of Publications\": 101}, {\"Year\": \"2003-01-01T00:00:00\", \"Number of Publications\": 102}, {\"Year\": \"2004-01-01T00:00:00\", \"Number of Publications\": 97}, {\"Year\": \"2005-01-01T00:00:00\", \"Number of Publications\": 119}, {\"Year\": \"2006-01-01T00:00:00\", \"Number of Publications\": 113}, {\"Year\": \"2007-01-01T00:00:00\", \"Number of Publications\": 107}, {\"Year\": \"2008-01-01T00:00:00\", \"Number of Publications\": 99}, {\"Year\": \"2009-01-01T00:00:00\", \"Number of Publications\": 117}, {\"Year\": \"2010-01-01T00:00:00\", \"Number of Publications\": 109}, {\"Year\": \"2011-01-01T00:00:00\", \"Number of Publications\": 119}, {\"Year\": \"2012-01-01T00:00:00\", \"Number of Publications\": 116}, {\"Year\": \"2013-01-01T00:00:00\", \"Number of Publications\": 101}, {\"Year\": \"2014-01-01T00:00:00\", \"Number of Publications\": 132}, {\"Year\": \"2015-01-01T00:00:00\", \"Number of Publications\": 127}, {\"Year\": \"2016-01-01T00:00:00\", \"Number of Publications\": 115}, {\"Year\": \"2017-01-01T00:00:00\", \"Number of Publications\": 114}, {\"Year\": \"2018-01-01T00:00:00\", \"Number of Publications\": 127}, {\"Year\": \"2019-01-01T00:00:00\", \"Number of Publications\": 129}, {\"Year\": \"2020-01-01T00:00:00\", \"Number of Publications\": 157}, {\"Year\": \"2021-01-01T00:00:00\", \"Number of Publications\": 169}], \"data-4ede2a93b1e02636ab017c3e423f7509\": [{\"Year\": \"1990-01-01T00:00:00\", \"Number of Unique Authors\": 118}, {\"Year\": \"1991-01-01T00:00:00\", \"Number of Unique Authors\": 120}, {\"Year\": \"1992-01-01T00:00:00\", \"Number of Unique Authors\": 119}, {\"Year\": \"1993-01-01T00:00:00\", \"Number of Unique Authors\": 116}, {\"Year\": \"1994-01-01T00:00:00\", \"Number of Unique Authors\": 127}, {\"Year\": \"1995-01-01T00:00:00\", \"Number of Unique Authors\": 184}, {\"Year\": \"1996-01-01T00:00:00\", \"Number of Unique Authors\": 227}, {\"Year\": \"1997-01-01T00:00:00\", \"Number of Unique Authors\": 226}, {\"Year\": \"1998-01-01T00:00:00\", \"Number of Unique Authors\": 231}, {\"Year\": \"1999-01-01T00:00:00\", \"Number of Unique Authors\": 244}, {\"Year\": \"2000-01-01T00:00:00\", \"Number of Unique Authors\": 269}, {\"Year\": \"2001-01-01T00:00:00\", \"Number of Unique Authors\": 288}, {\"Year\": \"2002-01-01T00:00:00\", \"Number of Unique Authors\": 270}, {\"Year\": \"2003-01-01T00:00:00\", \"Number of Unique Authors\": 283}, {\"Year\": \"2004-01-01T00:00:00\", \"Number of Unique Authors\": 287}, {\"Year\": \"2005-01-01T00:00:00\", \"Number of Unique Authors\": 366}, {\"Year\": \"2006-01-01T00:00:00\", \"Number of Unique Authors\": 326}, {\"Year\": \"2007-01-01T00:00:00\", \"Number of Unique Authors\": 342}, {\"Year\": \"2008-01-01T00:00:00\", \"Number of Unique Authors\": 335}, {\"Year\": \"2009-01-01T00:00:00\", \"Number of Unique Authors\": 375}, {\"Year\": \"2010-01-01T00:00:00\", \"Number of Unique Authors\": 369}, {\"Year\": \"2011-01-01T00:00:00\", \"Number of Unique Authors\": 412}, {\"Year\": \"2012-01-01T00:00:00\", \"Number of Unique Authors\": 422}, {\"Year\": \"2013-01-01T00:00:00\", \"Number of Unique Authors\": 351}, {\"Year\": \"2014-01-01T00:00:00\", \"Number of Unique Authors\": 502}, {\"Year\": \"2015-01-01T00:00:00\", \"Number of Unique Authors\": 495}, {\"Year\": \"2016-01-01T00:00:00\", \"Number of Unique Authors\": 445}, {\"Year\": \"2017-01-01T00:00:00\", \"Number of Unique Authors\": 455}, {\"Year\": \"2018-01-01T00:00:00\", \"Number of Unique Authors\": 494}, {\"Year\": \"2019-01-01T00:00:00\", \"Number of Unique Authors\": 551}, {\"Year\": \"2020-01-01T00:00:00\", \"Number of Unique Authors\": 639}, {\"Year\": \"2021-01-01T00:00:00\", \"Number of Unique Authors\": 673}], \"data-c17c32d6fb8d292f81572df3e35aaa69\": [{\"year\": 1990.0, \"type\": \"Non-VIS\", \"count\": 6, \"ratio\": 0.75, \"Year\": \"1990-01-01T00:00:00\"}, {\"year\": 1990.0, \"type\": \"VIS\", \"count\": 2, \"ratio\": 0.25, \"Year\": \"1990-01-01T00:00:00\"}, {\"year\": 1991.0, \"type\": \"Non-VIS\", \"count\": 58, \"ratio\": 0.7341772151898734, \"Year\": \"1991-01-01T00:00:00\"}, {\"year\": 1991.0, \"type\": \"VIS\", \"count\": 21, \"ratio\": 0.26582278481012656, \"Year\": \"1991-01-01T00:00:00\"}, {\"year\": 1992.0, \"type\": \"Non-VIS\", \"count\": 128, \"ratio\": 0.6956521739130435, \"Year\": \"1992-01-01T00:00:00\"}, {\"year\": 1992.0, \"type\": \"VIS\", \"count\": 56, \"ratio\": 0.30434782608695654, \"Year\": \"1992-01-01T00:00:00\"}, {\"year\": 1993.0, \"type\": \"Non-VIS\", \"count\": 226, \"ratio\": 0.7985865724381626, \"Year\": \"1993-01-01T00:00:00\"}, {\"year\": 1993.0, \"type\": \"VIS\", \"count\": 57, \"ratio\": 0.20141342756183744, \"Year\": \"1993-01-01T00:00:00\"}, {\"year\": 1994.0, \"type\": \"Non-VIS\", \"count\": 304, \"ratio\": 0.7735368956743003, \"Year\": \"1994-01-01T00:00:00\"}, {\"year\": 1994.0, \"type\": \"VIS\", \"count\": 89, \"ratio\": 0.22646310432569974, \"Year\": \"1994-01-01T00:00:00\"}, {\"year\": 1995.0, \"type\": \"Non-VIS\", \"count\": 492, \"ratio\": 0.8159203980099502, \"Year\": \"1995-01-01T00:00:00\"}, {\"year\": 1995.0, \"type\": \"VIS\", \"count\": 111, \"ratio\": 0.18407960199004975, \"Year\": \"1995-01-01T00:00:00\"}, {\"year\": 1996.0, \"type\": \"Non-VIS\", \"count\": 510, \"ratio\": 0.821256038647343, \"Year\": \"1996-01-01T00:00:00\"}, {\"year\": 1996.0, \"type\": \"VIS\", \"count\": 111, \"ratio\": 0.178743961352657, \"Year\": \"1996-01-01T00:00:00\"}, {\"year\": 1997.0, \"type\": \"Non-VIS\", \"count\": 799, \"ratio\": 0.8271221532091098, \"Year\": \"1997-01-01T00:00:00\"}, {\"year\": 1997.0, \"type\": \"VIS\", \"count\": 167, \"ratio\": 0.17287784679089027, \"Year\": \"1997-01-01T00:00:00\"}, {\"year\": 1998.0, \"type\": \"Non-VIS\", \"count\": 837, \"ratio\": 0.7829747427502338, \"Year\": \"1998-01-01T00:00:00\"}, {\"year\": 1998.0, \"type\": \"VIS\", \"count\": 232, \"ratio\": 0.21702525724976612, \"Year\": \"1998-01-01T00:00:00\"}, {\"year\": 1999.0, \"type\": \"Non-VIS\", \"count\": 1125, \"ratio\": 0.8351893095768375, \"Year\": \"1999-01-01T00:00:00\"}, {\"year\": 1999.0, \"type\": \"VIS\", \"count\": 222, \"ratio\": 0.16481069042316257, \"Year\": \"1999-01-01T00:00:00\"}, {\"year\": 2000.0, \"type\": \"Non-VIS\", \"count\": 1402, \"ratio\": 0.8450874020494273, \"Year\": \"2000-01-01T00:00:00\"}, {\"year\": 2000.0, \"type\": \"VIS\", \"count\": 257, \"ratio\": 0.15491259795057263, \"Year\": \"2000-01-01T00:00:00\"}, {\"year\": 2001.0, \"type\": \"Non-VIS\", \"count\": 1704, \"ratio\": 0.8861154446177847, \"Year\": \"2001-01-01T00:00:00\"}, {\"year\": 2001.0, \"type\": \"VIS\", \"count\": 219, \"ratio\": 0.11388455538221529, \"Year\": \"2001-01-01T00:00:00\"}, {\"year\": 2002.0, \"type\": \"Non-VIS\", \"count\": 2243, \"ratio\": 0.8914944356120826, \"Year\": \"2002-01-01T00:00:00\"}, {\"year\": 2002.0, \"type\": \"VIS\", \"count\": 273, \"ratio\": 0.10850556438791734, \"Year\": \"2002-01-01T00:00:00\"}, {\"year\": 2003.0, \"type\": \"Non-VIS\", \"count\": 2859, \"ratio\": 0.9010400252127324, \"Year\": \"2003-01-01T00:00:00\"}, {\"year\": 2003.0, \"type\": \"VIS\", \"count\": 314, \"ratio\": 0.09895997478726758, \"Year\": \"2003-01-01T00:00:00\"}, {\"year\": 2004.0, \"type\": \"Non-VIS\", \"count\": 3468, \"ratio\": 0.8940448569218871, \"Year\": \"2004-01-01T00:00:00\"}, {\"year\": 2004.0, \"type\": \"VIS\", \"count\": 411, \"ratio\": 0.10595514307811292, \"Year\": \"2004-01-01T00:00:00\"}, {\"year\": 2005.0, \"type\": \"Non-VIS\", \"count\": 4000, \"ratio\": 0.9033423667570009, \"Year\": \"2005-01-01T00:00:00\"}, {\"year\": 2005.0, \"type\": \"VIS\", \"count\": 428, \"ratio\": 0.0966576332429991, \"Year\": \"2005-01-01T00:00:00\"}, {\"year\": 2006.0, \"type\": \"Non-VIS\", \"count\": 4210, \"ratio\": 0.9009201797560453, \"Year\": \"2006-01-01T00:00:00\"}, {\"year\": 2006.0, \"type\": \"VIS\", \"count\": 463, \"ratio\": 0.09907982024395463, \"Year\": \"2006-01-01T00:00:00\"}, {\"year\": 2007.0, \"type\": \"Non-VIS\", \"count\": 4420, \"ratio\": 0.9068526877308166, \"Year\": \"2007-01-01T00:00:00\"}, {\"year\": 2007.0, \"type\": \"VIS\", \"count\": 454, \"ratio\": 0.09314731226918342, \"Year\": \"2007-01-01T00:00:00\"}, {\"year\": 2008.0, \"type\": \"Non-VIS\", \"count\": 4779, \"ratio\": 0.9102857142857143, \"Year\": \"2008-01-01T00:00:00\"}, {\"year\": 2008.0, \"type\": \"VIS\", \"count\": 471, \"ratio\": 0.08971428571428572, \"Year\": \"2008-01-01T00:00:00\"}, {\"year\": 2009.0, \"type\": \"Non-VIS\", \"count\": 4897, \"ratio\": 0.8844139425681777, \"Year\": \"2009-01-01T00:00:00\"}, {\"year\": 2009.0, \"type\": \"VIS\", \"count\": 640, \"ratio\": 0.11558605743182229, \"Year\": \"2009-01-01T00:00:00\"}, {\"year\": 2010.0, \"type\": \"Non-VIS\", \"count\": 5164, \"ratio\": 0.8920366211780963, \"Year\": \"2010-01-01T00:00:00\"}, {\"year\": 2010.0, \"type\": \"VIS\", \"count\": 625, \"ratio\": 0.10796337882190361, \"Year\": \"2010-01-01T00:00:00\"}, {\"year\": 2011.0, \"type\": \"Non-VIS\", \"count\": 6173, \"ratio\": 0.8899942329873126, \"Year\": \"2011-01-01T00:00:00\"}, {\"year\": 2011.0, \"type\": \"VIS\", \"count\": 763, \"ratio\": 0.11000576701268742, \"Year\": \"2011-01-01T00:00:00\"}, {\"year\": 2012.0, \"type\": \"Non-VIS\", \"count\": 6489, \"ratio\": 0.9072986577181208, \"Year\": \"2012-01-01T00:00:00\"}, {\"year\": 2012.0, \"type\": \"VIS\", \"count\": 663, \"ratio\": 0.09270134228187919, \"Year\": \"2012-01-01T00:00:00\"}, {\"year\": 2013.0, \"type\": \"Non-VIS\", \"count\": 6925, \"ratio\": 0.9098672973328078, \"Year\": \"2013-01-01T00:00:00\"}, {\"year\": 2013.0, \"type\": \"VIS\", \"count\": 686, \"ratio\": 0.09013270266719223, \"Year\": \"2013-01-01T00:00:00\"}, {\"year\": 2014.0, \"type\": \"Non-VIS\", \"count\": 7472, \"ratio\": 0.8826934435912581, \"Year\": \"2014-01-01T00:00:00\"}, {\"year\": 2014.0, \"type\": \"VIS\", \"count\": 993, \"ratio\": 0.11730655640874188, \"Year\": \"2014-01-01T00:00:00\"}, {\"year\": 2015.0, \"type\": \"Non-VIS\", \"count\": 7354, \"ratio\": 0.9834180262102167, \"Year\": \"2015-01-01T00:00:00\"}, {\"year\": 2015.0, \"type\": \"VIS\", \"count\": 124, \"ratio\": 0.016581973789783364, \"Year\": \"2015-01-01T00:00:00\"}, {\"year\": 2016.0, \"type\": \"Non-VIS\", \"count\": 8317, \"ratio\": 0.8929568391668457, \"Year\": \"2016-01-01T00:00:00\"}, {\"year\": 2016.0, \"type\": \"VIS\", \"count\": 997, \"ratio\": 0.10704316083315439, \"Year\": \"2016-01-01T00:00:00\"}, {\"year\": 2017.0, \"type\": \"Non-VIS\", \"count\": 8327, \"ratio\": 0.8953763440860215, \"Year\": \"2017-01-01T00:00:00\"}, {\"year\": 2017.0, \"type\": \"VIS\", \"count\": 973, \"ratio\": 0.1046236559139785, \"Year\": \"2017-01-01T00:00:00\"}, {\"year\": 2018.0, \"type\": \"Non-VIS\", \"count\": 8610, \"ratio\": 0.8959417273673257, \"Year\": \"2018-01-01T00:00:00\"}, {\"year\": 2018.0, \"type\": \"VIS\", \"count\": 1000, \"ratio\": 0.1040582726326743, \"Year\": \"2018-01-01T00:00:00\"}, {\"year\": 2019.0, \"type\": \"Non-VIS\", \"count\": 9968, \"ratio\": 0.8871484514061944, \"Year\": \"2019-01-01T00:00:00\"}, {\"year\": 2019.0, \"type\": \"VIS\", \"count\": 1268, \"ratio\": 0.11285154859380563, \"Year\": \"2019-01-01T00:00:00\"}, {\"year\": 2020.0, \"type\": \"Non-VIS\", \"count\": 11495, \"ratio\": 0.8882621126651727, \"Year\": \"2020-01-01T00:00:00\"}, {\"year\": 2020.0, \"type\": \"VIS\", \"count\": 1446, \"ratio\": 0.1117378873348273, \"Year\": \"2020-01-01T00:00:00\"}, {\"year\": 2021.0, \"type\": \"Non-VIS\", \"count\": 11353, \"ratio\": 0.850666866476847, \"Year\": \"2021-01-01T00:00:00\"}, {\"year\": 2021.0, \"type\": \"VIS\", \"count\": 1993, \"ratio\": 0.149333133523153, \"Year\": \"2021-01-01T00:00:00\"}]}}, {\"mode\": \"vega-lite\"});\n",
       "</script>"
      ],
      "text/plain": [
       "alt.HConcatChart(...)"
      ]
     },
     "execution_count": 134,
     "metadata": {},
     "output_type": "execute_result"
    }
   ],
   "source": [
    "conf = alt.Chart(conf_df).mark_bar().encode(\n",
    "    x = alt.X(\n",
    "        'Conference track',\n",
    "        sort = [\n",
    "            'VIS',\n",
    "            'SciVis',\n",
    "            'VAST',\n",
    "            'InfoVis',\n",
    "            'Vis',\n",
    "        ],\n",
    "        axis=alt.Axis(labelAngle=-20)\n",
    "    ),\n",
    "    y = 'Number of publications',\n",
    "    color = alt.Color(\n",
    "        'Conference track',\n",
    "        legend=None,\n",
    "    )\n",
    ").properties(\n",
    "    title = 'a',\n",
    "    width=200\n",
    ")\n",
    "\n",
    "conf\n",
    "\n",
    "pub_num = alt.Chart(pub_num_df).mark_line().encode(\n",
    "    x = 'Year',\n",
    "    y = alt.Y(\n",
    "        'Number of Publications',\n",
    "        title = 'Number of publications'\n",
    "    )\n",
    ").properties(\n",
    "    title = 'b',\n",
    "    width=300\n",
    ")\n",
    "\n",
    "pub_num\n",
    "\n",
    "unique_authors = alt.Chart(unique_author_num_df).mark_line().encode(\n",
    "    x = 'Year',\n",
    "    y = alt.Y(\n",
    "        'Number of Unique Authors',\n",
    "        title = 'Number of unique authors'\n",
    "    )\n",
    ").properties(\n",
    "    title = 'c',\n",
    "    width=300,\n",
    ")\n",
    "\n",
    "unique_authors\n",
    "\n",
    "vis_cit = alt.Chart(cit_df).mark_area().encode(\n",
    "    x=\"Year:T\",\n",
    "    y = alt.Y(\n",
    "        \"count:Q\",\n",
    "        title = 'Number of citations'\n",
    "    ),\n",
    "    color=alt.Color(\n",
    "        \"type:N\",\n",
    "        title = 'Who cited VIS',\n",
    "        scale=alt.Scale(\n",
    "            domain=['Non-VIS', 'VIS'],\n",
    "            range=['hotpink', 'skyblue']\n",
    "        ),\n",
    "        legend=alt.Legend(\n",
    "            orient='top-left',\n",
    "#             legendX=60, legendY=-40,\n",
    "#             direction='horizontal',\n",
    "#             titleAnchor='middle'\n",
    "    )\n",
    "        \n",
    "    )\n",
    ").properties(\n",
    "    title = 'd',\n",
    "    width=300,\n",
    ")\n",
    "\n",
    "vis_cit\n",
    "\n",
    "trends1 = alt.hconcat(\n",
    "    conf,\n",
    "    pub_num,\n",
    "    unique_authors,\n",
    "    vis_cit\n",
    ").resolve_scale(\n",
    "    color = 'independent'\n",
    ").configure_axis(\n",
    "    labelFontSize=15,\n",
    "    titleFontSize=20\n",
    ").configure_legend(\n",
    "    titleFontSize=14,\n",
    "    labelFontSize=16\n",
    ").configure_title(\n",
    "    anchor='start',\n",
    "    fontSize=22)\n",
    "\n",
    "trends1"
   ]
  },
  {
   "cell_type": "code",
   "execution_count": 128,
   "id": "73a84207",
   "metadata": {},
   "outputs": [],
   "source": [
    "# trends1.save('chart.png')"
   ]
  },
  {
   "cell_type": "code",
   "execution_count": 129,
   "id": "1ea1bbf6",
   "metadata": {},
   "outputs": [],
   "source": [
    "ratio_wording = 'Proportion'"
   ]
  },
  {
   "cell_type": "code",
   "execution_count": 130,
   "id": "ab34de7f",
   "metadata": {},
   "outputs": [
    {
     "data": {
      "text/html": [
       "\n",
       "<div id=\"altair-viz-1aa002cdf3514f59972dafa3bc059d48\"></div>\n",
       "<script type=\"text/javascript\">\n",
       "  var VEGA_DEBUG = (typeof VEGA_DEBUG == \"undefined\") ? {} : VEGA_DEBUG;\n",
       "  (function(spec, embedOpt){\n",
       "    let outputDiv = document.currentScript.previousElementSibling;\n",
       "    if (outputDiv.id !== \"altair-viz-1aa002cdf3514f59972dafa3bc059d48\") {\n",
       "      outputDiv = document.getElementById(\"altair-viz-1aa002cdf3514f59972dafa3bc059d48\");\n",
       "    }\n",
       "    const paths = {\n",
       "      \"vega\": \"https://cdn.jsdelivr.net/npm//vega@5?noext\",\n",
       "      \"vega-lib\": \"https://cdn.jsdelivr.net/npm//vega-lib?noext\",\n",
       "      \"vega-lite\": \"https://cdn.jsdelivr.net/npm//vega-lite@4.17.0?noext\",\n",
       "      \"vega-embed\": \"https://cdn.jsdelivr.net/npm//vega-embed@6?noext\",\n",
       "    };\n",
       "\n",
       "    function maybeLoadScript(lib, version) {\n",
       "      var key = `${lib.replace(\"-\", \"\")}_version`;\n",
       "      return (VEGA_DEBUG[key] == version) ?\n",
       "        Promise.resolve(paths[lib]) :\n",
       "        new Promise(function(resolve, reject) {\n",
       "          var s = document.createElement('script');\n",
       "          document.getElementsByTagName(\"head\")[0].appendChild(s);\n",
       "          s.async = true;\n",
       "          s.onload = () => {\n",
       "            VEGA_DEBUG[key] = version;\n",
       "            return resolve(paths[lib]);\n",
       "          };\n",
       "          s.onerror = () => reject(`Error loading script: ${paths[lib]}`);\n",
       "          s.src = paths[lib];\n",
       "        });\n",
       "    }\n",
       "\n",
       "    function showError(err) {\n",
       "      outputDiv.innerHTML = `<div class=\"error\" style=\"color:red;\">${err}</div>`;\n",
       "      throw err;\n",
       "    }\n",
       "\n",
       "    function displayChart(vegaEmbed) {\n",
       "      vegaEmbed(outputDiv, spec, embedOpt)\n",
       "        .catch(err => showError(`Javascript Error: ${err.message}<br>This usually means there's a typo in your chart specification. See the javascript console for the full traceback.`));\n",
       "    }\n",
       "\n",
       "    if(typeof define === \"function\" && define.amd) {\n",
       "      requirejs.config({paths});\n",
       "      require([\"vega-embed\"], displayChart, err => showError(`Error loading script: ${err.message}`));\n",
       "    } else {\n",
       "      maybeLoadScript(\"vega\", \"5\")\n",
       "        .then(() => maybeLoadScript(\"vega-lite\", \"4.17.0\"))\n",
       "        .then(() => maybeLoadScript(\"vega-embed\", \"6\"))\n",
       "        .catch(showError)\n",
       "        .then(() => displayChart(vegaEmbed));\n",
       "    }\n",
       "  })({\"config\": {\"view\": {\"continuousWidth\": 400, \"continuousHeight\": 300}, \"axis\": {\"labelFontSize\": 15, \"titleFontSize\": 20}, \"legend\": {\"labelFontSize\": 16, \"titleFontSize\": 16}, \"title\": {\"anchor\": \"start\", \"fontSize\": 22}}, \"hconcat\": [{\"layer\": [{\"data\": {\"name\": \"data-c17c32d6fb8d292f81572df3e35aaa69\"}, \"mark\": {\"type\": \"line\", \"point\": {\"filled\": false, \"fill\": \"white\"}, \"strokeDash\": [1, 2]}, \"encoding\": {\"color\": {\"field\": \"type\", \"legend\": {\"direction\": \"horizontal\", \"legendX\": 0, \"legendY\": -40, \"orient\": \"none\", \"titleAnchor\": \"middle\"}, \"scale\": {\"domain\": [\"Non-VIS\", \"VIS\"], \"range\": [\"purple\", \"green\"]}, \"title\": \"Who cited VIS\", \"type\": \"nominal\"}, \"x\": {\"field\": \"Year\", \"type\": \"temporal\"}, \"y\": {\"field\": \"ratio\", \"title\": \"Proportion\", \"type\": \"quantitative\"}}}, {\"data\": {\"name\": \"data-cbead6b475d5ae5830794521ab9cdc09\"}, \"mark\": \"line\", \"encoding\": {\"color\": {\"field\": \"type\", \"legend\": {\"direction\": \"horizontal\", \"legendX\": 150, \"legendY\": -40, \"orient\": \"none\", \"titleAnchor\": \"middle\"}, \"scale\": {\"domain\": [\"Non-VIS\", \"VIS\"], \"range\": [\"orange\", \"steelblue\"]}, \"title\": \"Whom VIS cited\", \"type\": \"nominal\"}, \"x\": {\"field\": \"Year\", \"type\": \"temporal\"}, \"y\": {\"field\": \"ratio\", \"title\": \"Proportion\", \"type\": \"quantitative\"}}}], \"resolve\": {\"scale\": {\"color\": \"independent\"}}, \"title\": \"e\", \"width\": 280}, {\"data\": {\"name\": \"data-40e384783310fb81a9bd53e818d8c686\"}, \"mark\": \"line\", \"encoding\": {\"color\": {\"field\": \"type\", \"legend\": {\"direction\": \"horizontal\", \"legendX\": 80, \"legendY\": -40, \"orient\": \"none\", \"titleAnchor\": \"middle\"}, \"scale\": {\"domain\": [\"No\", \"Yes\"], \"range\": [\"orange\", \"steelblue\"]}, \"title\": \"Cross-country\", \"type\": \"nominal\"}, \"x\": {\"field\": \"year\", \"title\": \"Year\", \"type\": \"temporal\"}, \"y\": {\"field\": \"ratio\", \"title\": \"Proportion\", \"type\": \"quantitative\"}}, \"title\": \"f\", \"width\": 280}, {\"data\": {\"name\": \"data-6018ed2494c8d8420280e0ef8b3ed4ae\"}, \"mark\": \"line\", \"encoding\": {\"color\": {\"field\": \"type\", \"legend\": {\"direction\": \"horizontal\", \"legendX\": 90, \"legendY\": -40, \"orient\": \"none\", \"titleAnchor\": \"middle\"}, \"scale\": {\"domain\": [\"No\", \"Yes\"], \"range\": [\"purple\", \"green\"]}, \"title\": \"Cross-type\", \"type\": \"nominal\"}, \"x\": {\"field\": \"year\", \"title\": \"Year\", \"type\": \"temporal\"}, \"y\": {\"field\": \"ratio\", \"title\": \"Proportion\", \"type\": \"quantitative\"}}, \"title\": \"g\", \"width\": 280}, {\"layer\": [{\"data\": {\"name\": \"data-6018ed2494c8d8420280e0ef8b3ed4ae\"}, \"mark\": {\"type\": \"line\", \"point\": {\"filled\": false, \"fill\": \"white\"}, \"strokeDash\": [1, 2]}, \"encoding\": {\"color\": {\"field\": \"type\", \"legend\": {\"direction\": \"horizontal\", \"legendX\": 180, \"legendY\": -40, \"orient\": \"none\", \"titleAnchor\": \"middle\"}, \"scale\": {\"domain\": [\"No\", \"Yes\"], \"range\": [\"purple\", \"green\"]}, \"sort\": [\"Yes\", \"No\"], \"title\": \"Cross-type\", \"type\": \"nominal\"}, \"x\": {\"field\": \"year\", \"title\": \"Year\", \"type\": \"temporal\"}, \"y\": {\"field\": \"count\", \"title\": \"Number of publications\", \"type\": \"quantitative\"}}}, {\"data\": {\"name\": \"data-40e384783310fb81a9bd53e818d8c686\"}, \"mark\": \"line\", \"encoding\": {\"color\": {\"field\": \"type\", \"legend\": {\"direction\": \"horizontal\", \"legendX\": 0, \"legendY\": -40, \"orient\": \"none\", \"titleAnchor\": \"middle\"}, \"scale\": {\"domain\": [\"No\", \"Yes\"], \"range\": [\"orange\", \"steelblue\"]}, \"title\": \"Cross-country\", \"type\": \"nominal\"}, \"x\": {\"field\": \"year\", \"title\": \"Year\", \"type\": \"temporal\"}, \"y\": {\"field\": \"count\", \"title\": \"Number of publications\", \"type\": \"quantitative\"}}}], \"resolve\": {\"scale\": {\"color\": \"independent\"}}, \"title\": \"h\", \"width\": 280}], \"resolve\": {\"scale\": {\"color\": \"independent\"}}, \"$schema\": \"https://vega.github.io/schema/vega-lite/v4.17.0.json\", \"datasets\": {\"data-c17c32d6fb8d292f81572df3e35aaa69\": [{\"year\": 1990.0, \"type\": \"Non-VIS\", \"count\": 6, \"ratio\": 0.75, \"Year\": \"1990-01-01T00:00:00\"}, {\"year\": 1990.0, \"type\": \"VIS\", \"count\": 2, \"ratio\": 0.25, \"Year\": \"1990-01-01T00:00:00\"}, {\"year\": 1991.0, \"type\": \"Non-VIS\", \"count\": 58, \"ratio\": 0.7341772151898734, \"Year\": \"1991-01-01T00:00:00\"}, {\"year\": 1991.0, \"type\": \"VIS\", \"count\": 21, \"ratio\": 0.26582278481012656, \"Year\": \"1991-01-01T00:00:00\"}, {\"year\": 1992.0, \"type\": \"Non-VIS\", \"count\": 128, \"ratio\": 0.6956521739130435, \"Year\": \"1992-01-01T00:00:00\"}, {\"year\": 1992.0, \"type\": \"VIS\", \"count\": 56, \"ratio\": 0.30434782608695654, \"Year\": \"1992-01-01T00:00:00\"}, {\"year\": 1993.0, \"type\": \"Non-VIS\", \"count\": 226, \"ratio\": 0.7985865724381626, \"Year\": \"1993-01-01T00:00:00\"}, {\"year\": 1993.0, \"type\": \"VIS\", \"count\": 57, \"ratio\": 0.20141342756183744, \"Year\": \"1993-01-01T00:00:00\"}, {\"year\": 1994.0, \"type\": \"Non-VIS\", \"count\": 304, \"ratio\": 0.7735368956743003, \"Year\": \"1994-01-01T00:00:00\"}, {\"year\": 1994.0, \"type\": \"VIS\", \"count\": 89, \"ratio\": 0.22646310432569974, \"Year\": \"1994-01-01T00:00:00\"}, {\"year\": 1995.0, \"type\": \"Non-VIS\", \"count\": 492, \"ratio\": 0.8159203980099502, \"Year\": \"1995-01-01T00:00:00\"}, {\"year\": 1995.0, \"type\": \"VIS\", \"count\": 111, \"ratio\": 0.18407960199004975, \"Year\": \"1995-01-01T00:00:00\"}, {\"year\": 1996.0, \"type\": \"Non-VIS\", \"count\": 510, \"ratio\": 0.821256038647343, \"Year\": \"1996-01-01T00:00:00\"}, {\"year\": 1996.0, \"type\": \"VIS\", \"count\": 111, \"ratio\": 0.178743961352657, \"Year\": \"1996-01-01T00:00:00\"}, {\"year\": 1997.0, \"type\": \"Non-VIS\", \"count\": 799, \"ratio\": 0.8271221532091098, \"Year\": \"1997-01-01T00:00:00\"}, {\"year\": 1997.0, \"type\": \"VIS\", \"count\": 167, \"ratio\": 0.17287784679089027, \"Year\": \"1997-01-01T00:00:00\"}, {\"year\": 1998.0, \"type\": \"Non-VIS\", \"count\": 837, \"ratio\": 0.7829747427502338, \"Year\": \"1998-01-01T00:00:00\"}, {\"year\": 1998.0, \"type\": \"VIS\", \"count\": 232, \"ratio\": 0.21702525724976612, \"Year\": \"1998-01-01T00:00:00\"}, {\"year\": 1999.0, \"type\": \"Non-VIS\", \"count\": 1125, \"ratio\": 0.8351893095768375, \"Year\": \"1999-01-01T00:00:00\"}, {\"year\": 1999.0, \"type\": \"VIS\", \"count\": 222, \"ratio\": 0.16481069042316257, \"Year\": \"1999-01-01T00:00:00\"}, {\"year\": 2000.0, \"type\": \"Non-VIS\", \"count\": 1402, \"ratio\": 0.8450874020494273, \"Year\": \"2000-01-01T00:00:00\"}, {\"year\": 2000.0, \"type\": \"VIS\", \"count\": 257, \"ratio\": 0.15491259795057263, \"Year\": \"2000-01-01T00:00:00\"}, {\"year\": 2001.0, \"type\": \"Non-VIS\", \"count\": 1704, \"ratio\": 0.8861154446177847, \"Year\": \"2001-01-01T00:00:00\"}, {\"year\": 2001.0, \"type\": \"VIS\", \"count\": 219, \"ratio\": 0.11388455538221529, \"Year\": \"2001-01-01T00:00:00\"}, {\"year\": 2002.0, \"type\": \"Non-VIS\", \"count\": 2243, \"ratio\": 0.8914944356120826, \"Year\": \"2002-01-01T00:00:00\"}, {\"year\": 2002.0, \"type\": \"VIS\", \"count\": 273, \"ratio\": 0.10850556438791734, \"Year\": \"2002-01-01T00:00:00\"}, {\"year\": 2003.0, \"type\": \"Non-VIS\", \"count\": 2859, \"ratio\": 0.9010400252127324, \"Year\": \"2003-01-01T00:00:00\"}, {\"year\": 2003.0, \"type\": \"VIS\", \"count\": 314, \"ratio\": 0.09895997478726758, \"Year\": \"2003-01-01T00:00:00\"}, {\"year\": 2004.0, \"type\": \"Non-VIS\", \"count\": 3468, \"ratio\": 0.8940448569218871, \"Year\": \"2004-01-01T00:00:00\"}, {\"year\": 2004.0, \"type\": \"VIS\", \"count\": 411, \"ratio\": 0.10595514307811292, \"Year\": \"2004-01-01T00:00:00\"}, {\"year\": 2005.0, \"type\": \"Non-VIS\", \"count\": 4000, \"ratio\": 0.9033423667570009, \"Year\": \"2005-01-01T00:00:00\"}, {\"year\": 2005.0, \"type\": \"VIS\", \"count\": 428, \"ratio\": 0.0966576332429991, \"Year\": \"2005-01-01T00:00:00\"}, {\"year\": 2006.0, \"type\": \"Non-VIS\", \"count\": 4210, \"ratio\": 0.9009201797560453, \"Year\": \"2006-01-01T00:00:00\"}, {\"year\": 2006.0, \"type\": \"VIS\", \"count\": 463, \"ratio\": 0.09907982024395463, \"Year\": \"2006-01-01T00:00:00\"}, {\"year\": 2007.0, \"type\": \"Non-VIS\", \"count\": 4420, \"ratio\": 0.9068526877308166, \"Year\": \"2007-01-01T00:00:00\"}, {\"year\": 2007.0, \"type\": \"VIS\", \"count\": 454, \"ratio\": 0.09314731226918342, \"Year\": \"2007-01-01T00:00:00\"}, {\"year\": 2008.0, \"type\": \"Non-VIS\", \"count\": 4779, \"ratio\": 0.9102857142857143, \"Year\": \"2008-01-01T00:00:00\"}, {\"year\": 2008.0, \"type\": \"VIS\", \"count\": 471, \"ratio\": 0.08971428571428572, \"Year\": \"2008-01-01T00:00:00\"}, {\"year\": 2009.0, \"type\": \"Non-VIS\", \"count\": 4897, \"ratio\": 0.8844139425681777, \"Year\": \"2009-01-01T00:00:00\"}, {\"year\": 2009.0, \"type\": \"VIS\", \"count\": 640, \"ratio\": 0.11558605743182229, \"Year\": \"2009-01-01T00:00:00\"}, {\"year\": 2010.0, \"type\": \"Non-VIS\", \"count\": 5164, \"ratio\": 0.8920366211780963, \"Year\": \"2010-01-01T00:00:00\"}, {\"year\": 2010.0, \"type\": \"VIS\", \"count\": 625, \"ratio\": 0.10796337882190361, \"Year\": \"2010-01-01T00:00:00\"}, {\"year\": 2011.0, \"type\": \"Non-VIS\", \"count\": 6173, \"ratio\": 0.8899942329873126, \"Year\": \"2011-01-01T00:00:00\"}, {\"year\": 2011.0, \"type\": \"VIS\", \"count\": 763, \"ratio\": 0.11000576701268742, \"Year\": \"2011-01-01T00:00:00\"}, {\"year\": 2012.0, \"type\": \"Non-VIS\", \"count\": 6489, \"ratio\": 0.9072986577181208, \"Year\": \"2012-01-01T00:00:00\"}, {\"year\": 2012.0, \"type\": \"VIS\", \"count\": 663, \"ratio\": 0.09270134228187919, \"Year\": \"2012-01-01T00:00:00\"}, {\"year\": 2013.0, \"type\": \"Non-VIS\", \"count\": 6925, \"ratio\": 0.9098672973328078, \"Year\": \"2013-01-01T00:00:00\"}, {\"year\": 2013.0, \"type\": \"VIS\", \"count\": 686, \"ratio\": 0.09013270266719223, \"Year\": \"2013-01-01T00:00:00\"}, {\"year\": 2014.0, \"type\": \"Non-VIS\", \"count\": 7472, \"ratio\": 0.8826934435912581, \"Year\": \"2014-01-01T00:00:00\"}, {\"year\": 2014.0, \"type\": \"VIS\", \"count\": 993, \"ratio\": 0.11730655640874188, \"Year\": \"2014-01-01T00:00:00\"}, {\"year\": 2015.0, \"type\": \"Non-VIS\", \"count\": 7354, \"ratio\": 0.9834180262102167, \"Year\": \"2015-01-01T00:00:00\"}, {\"year\": 2015.0, \"type\": \"VIS\", \"count\": 124, \"ratio\": 0.016581973789783364, \"Year\": \"2015-01-01T00:00:00\"}, {\"year\": 2016.0, \"type\": \"Non-VIS\", \"count\": 8317, \"ratio\": 0.8929568391668457, \"Year\": \"2016-01-01T00:00:00\"}, {\"year\": 2016.0, \"type\": \"VIS\", \"count\": 997, \"ratio\": 0.10704316083315439, \"Year\": \"2016-01-01T00:00:00\"}, {\"year\": 2017.0, \"type\": \"Non-VIS\", \"count\": 8327, \"ratio\": 0.8953763440860215, \"Year\": \"2017-01-01T00:00:00\"}, {\"year\": 2017.0, \"type\": \"VIS\", \"count\": 973, \"ratio\": 0.1046236559139785, \"Year\": \"2017-01-01T00:00:00\"}, {\"year\": 2018.0, \"type\": \"Non-VIS\", \"count\": 8610, \"ratio\": 0.8959417273673257, \"Year\": \"2018-01-01T00:00:00\"}, {\"year\": 2018.0, \"type\": \"VIS\", \"count\": 1000, \"ratio\": 0.1040582726326743, \"Year\": \"2018-01-01T00:00:00\"}, {\"year\": 2019.0, \"type\": \"Non-VIS\", \"count\": 9968, \"ratio\": 0.8871484514061944, \"Year\": \"2019-01-01T00:00:00\"}, {\"year\": 2019.0, \"type\": \"VIS\", \"count\": 1268, \"ratio\": 0.11285154859380563, \"Year\": \"2019-01-01T00:00:00\"}, {\"year\": 2020.0, \"type\": \"Non-VIS\", \"count\": 11495, \"ratio\": 0.8882621126651727, \"Year\": \"2020-01-01T00:00:00\"}, {\"year\": 2020.0, \"type\": \"VIS\", \"count\": 1446, \"ratio\": 0.1117378873348273, \"Year\": \"2020-01-01T00:00:00\"}, {\"year\": 2021.0, \"type\": \"Non-VIS\", \"count\": 11353, \"ratio\": 0.850666866476847, \"Year\": \"2021-01-01T00:00:00\"}, {\"year\": 2021.0, \"type\": \"VIS\", \"count\": 1993, \"ratio\": 0.149333133523153, \"Year\": \"2021-01-01T00:00:00\"}], \"data-cbead6b475d5ae5830794521ab9cdc09\": [{\"year\": 1990, \"type\": \"Non-VIS\", \"count\": 590, \"ratio\": 0.9966216216216216, \"Year\": \"1990-01-01T00:00:00\"}, {\"year\": 1990, \"type\": \"VIS\", \"count\": 2, \"ratio\": 0.0033783783783783786, \"Year\": \"1990-01-01T00:00:00\"}, {\"year\": 1991, \"type\": \"Non-VIS\", \"count\": 464, \"ratio\": 0.9567010309278351, \"Year\": \"1991-01-01T00:00:00\"}, {\"year\": 1991, \"type\": \"VIS\", \"count\": 21, \"ratio\": 0.04329896907216495, \"Year\": \"1991-01-01T00:00:00\"}, {\"year\": 1992, \"type\": \"Non-VIS\", \"count\": 526, \"ratio\": 0.9037800687285223, \"Year\": \"1992-01-01T00:00:00\"}, {\"year\": 1992, \"type\": \"VIS\", \"count\": 56, \"ratio\": 0.09621993127147767, \"Year\": \"1992-01-01T00:00:00\"}, {\"year\": 1993, \"type\": \"Non-VIS\", \"count\": 610, \"ratio\": 0.9131736526946108, \"Year\": \"1993-01-01T00:00:00\"}, {\"year\": 1993, \"type\": \"VIS\", \"count\": 58, \"ratio\": 0.08682634730538923, \"Year\": \"1993-01-01T00:00:00\"}, {\"year\": 1994, \"type\": \"Non-VIS\", \"count\": 554, \"ratio\": 0.860248447204969, \"Year\": \"1994-01-01T00:00:00\"}, {\"year\": 1994, \"type\": \"VIS\", \"count\": 90, \"ratio\": 0.13975155279503104, \"Year\": \"1994-01-01T00:00:00\"}, {\"year\": 1995, \"type\": \"Non-VIS\", \"count\": 822, \"ratio\": 0.8772678762006404, \"Year\": \"1995-01-01T00:00:00\"}, {\"year\": 1995, \"type\": \"VIS\", \"count\": 115, \"ratio\": 0.12273212379935966, \"Year\": \"1995-01-01T00:00:00\"}, {\"year\": 1996, \"type\": \"Non-VIS\", \"count\": 929, \"ratio\": 0.8932692307692308, \"Year\": \"1996-01-01T00:00:00\"}, {\"year\": 1996, \"type\": \"VIS\", \"count\": 111, \"ratio\": 0.10673076923076923, \"Year\": \"1996-01-01T00:00:00\"}, {\"year\": 1997, \"type\": \"Non-VIS\", \"count\": 1170, \"ratio\": 0.875748502994012, \"Year\": \"1997-01-01T00:00:00\"}, {\"year\": 1997, \"type\": \"VIS\", \"count\": 166, \"ratio\": 0.12425149700598802, \"Year\": \"1997-01-01T00:00:00\"}, {\"year\": 1998, \"type\": \"Non-VIS\", \"count\": 1291, \"ratio\": 0.8510217534607778, \"Year\": \"1998-01-01T00:00:00\"}, {\"year\": 1998, \"type\": \"VIS\", \"count\": 226, \"ratio\": 0.14897824653922215, \"Year\": \"1998-01-01T00:00:00\"}, {\"year\": 1999, \"type\": \"Non-VIS\", \"count\": 1122, \"ratio\": 0.8354430379746836, \"Year\": \"1999-01-01T00:00:00\"}, {\"year\": 1999, \"type\": \"VIS\", \"count\": 221, \"ratio\": 0.16455696202531644, \"Year\": \"1999-01-01T00:00:00\"}, {\"year\": 2000, \"type\": \"Non-VIS\", \"count\": 1436, \"ratio\": 0.8476977567886659, \"Year\": \"2000-01-01T00:00:00\"}, {\"year\": 2000, \"type\": \"VIS\", \"count\": 258, \"ratio\": 0.15230224321133412, \"Year\": \"2000-01-01T00:00:00\"}, {\"year\": 2001, \"type\": \"Non-VIS\", \"count\": 1529, \"ratio\": 0.8747139588100686, \"Year\": \"2001-01-01T00:00:00\"}, {\"year\": 2001, \"type\": \"VIS\", \"count\": 219, \"ratio\": 0.12528604118993136, \"Year\": \"2001-01-01T00:00:00\"}, {\"year\": 2002, \"type\": \"Non-VIS\", \"count\": 1706, \"ratio\": 0.8616161616161616, \"Year\": \"2002-01-01T00:00:00\"}, {\"year\": 2002, \"type\": \"VIS\", \"count\": 274, \"ratio\": 0.1383838383838384, \"Year\": \"2002-01-01T00:00:00\"}, {\"year\": 2003, \"type\": \"Non-VIS\", \"count\": 2138, \"ratio\": 0.8691056910569106, \"Year\": \"2003-01-01T00:00:00\"}, {\"year\": 2003, \"type\": \"VIS\", \"count\": 322, \"ratio\": 0.13089430894308943, \"Year\": \"2003-01-01T00:00:00\"}, {\"year\": 2004, \"type\": \"Non-VIS\", \"count\": 2028, \"ratio\": 0.8331963845521775, \"Year\": \"2004-01-01T00:00:00\"}, {\"year\": 2004, \"type\": \"VIS\", \"count\": 406, \"ratio\": 0.16680361544782252, \"Year\": \"2004-01-01T00:00:00\"}, {\"year\": 2005, \"type\": \"Non-VIS\", \"count\": 2355, \"ratio\": 0.8468176914778857, \"Year\": \"2005-01-01T00:00:00\"}, {\"year\": 2005, \"type\": \"VIS\", \"count\": 426, \"ratio\": 0.15318230852211434, \"Year\": \"2005-01-01T00:00:00\"}, {\"year\": 2006, \"type\": \"Non-VIS\", \"count\": 2464, \"ratio\": 0.8412427449641516, \"Year\": \"2006-01-01T00:00:00\"}, {\"year\": 2006, \"type\": \"VIS\", \"count\": 465, \"ratio\": 0.15875725503584842, \"Year\": \"2006-01-01T00:00:00\"}, {\"year\": 2007, \"type\": \"Non-VIS\", \"count\": 2613, \"ratio\": 0.8511400651465798, \"Year\": \"2007-01-01T00:00:00\"}, {\"year\": 2007, \"type\": \"VIS\", \"count\": 457, \"ratio\": 0.1488599348534202, \"Year\": \"2007-01-01T00:00:00\"}, {\"year\": 2008, \"type\": \"Non-VIS\", \"count\": 2118, \"ratio\": 0.8136765270841337, \"Year\": \"2008-01-01T00:00:00\"}, {\"year\": 2008, \"type\": \"VIS\", \"count\": 485, \"ratio\": 0.18632347291586632, \"Year\": \"2008-01-01T00:00:00\"}, {\"year\": 2009, \"type\": \"Non-VIS\", \"count\": 2660, \"ratio\": 0.811222933821287, \"Year\": \"2009-01-01T00:00:00\"}, {\"year\": 2009, \"type\": \"VIS\", \"count\": 619, \"ratio\": 0.188777066178713, \"Year\": \"2009-01-01T00:00:00\"}, {\"year\": 2010, \"type\": \"Non-VIS\", \"count\": 2735, \"ratio\": 0.813745908955668, \"Year\": \"2010-01-01T00:00:00\"}, {\"year\": 2010, \"type\": \"VIS\", \"count\": 626, \"ratio\": 0.18625409104433205, \"Year\": \"2010-01-01T00:00:00\"}, {\"year\": 2011, \"type\": \"Non-VIS\", \"count\": 3260, \"ratio\": 0.8087323244852394, \"Year\": \"2011-01-01T00:00:00\"}, {\"year\": 2011, \"type\": \"VIS\", \"count\": 771, \"ratio\": 0.1912676755147606, \"Year\": \"2011-01-01T00:00:00\"}, {\"year\": 2012, \"type\": \"Non-VIS\", \"count\": 3174, \"ratio\": 0.8276401564537158, \"Year\": \"2012-01-01T00:00:00\"}, {\"year\": 2012, \"type\": \"VIS\", \"count\": 661, \"ratio\": 0.17235984354628422, \"Year\": \"2012-01-01T00:00:00\"}, {\"year\": 2013, \"type\": \"Non-VIS\", \"count\": 3093, \"ratio\": 0.8184704948399047, \"Year\": \"2013-01-01T00:00:00\"}, {\"year\": 2013, \"type\": \"VIS\", \"count\": 686, \"ratio\": 0.18152950516009525, \"Year\": \"2013-01-01T00:00:00\"}, {\"year\": 2014, \"type\": \"Non-VIS\", \"count\": 3984, \"ratio\": 0.8019323671497585, \"Year\": \"2014-01-01T00:00:00\"}, {\"year\": 2014, \"type\": \"VIS\", \"count\": 984, \"ratio\": 0.19806763285024154, \"Year\": \"2014-01-01T00:00:00\"}, {\"year\": 2015, \"type\": \"Non-VIS\", \"count\": 4004, \"ratio\": 0.799520766773163, \"Year\": \"2015-01-01T00:00:00\"}, {\"year\": 2015, \"type\": \"VIS\", \"count\": 1004, \"ratio\": 0.20047923322683706, \"Year\": \"2015-01-01T00:00:00\"}, {\"year\": 2016, \"type\": \"Non-VIS\", \"count\": 3857, \"ratio\": 0.8028726061615321, \"Year\": \"2016-01-01T00:00:00\"}, {\"year\": 2016, \"type\": \"VIS\", \"count\": 947, \"ratio\": 0.19712739383846795, \"Year\": \"2016-01-01T00:00:00\"}, {\"year\": 2017, \"type\": \"Non-VIS\", \"count\": 4561, \"ratio\": 0.8125779440584358, \"Year\": \"2017-01-01T00:00:00\"}, {\"year\": 2017, \"type\": \"VIS\", \"count\": 1052, \"ratio\": 0.18742205594156422, \"Year\": \"2017-01-01T00:00:00\"}, {\"year\": 2018, \"type\": \"Non-VIS\", \"count\": 4991, \"ratio\": 0.8008664955070603, \"Year\": \"2018-01-01T00:00:00\"}, {\"year\": 2018, \"type\": \"VIS\", \"count\": 1241, \"ratio\": 0.19913350449293968, \"Year\": \"2018-01-01T00:00:00\"}, {\"year\": 2019, \"type\": \"Non-VIS\", \"count\": 5451, \"ratio\": 0.8140681003584229, \"Year\": \"2019-01-01T00:00:00\"}, {\"year\": 2019, \"type\": \"VIS\", \"count\": 1245, \"ratio\": 0.18593189964157705, \"Year\": \"2019-01-01T00:00:00\"}, {\"year\": 2020, \"type\": \"Non-VIS\", \"count\": 6234, \"ratio\": 0.8136256851996868, \"Year\": \"2020-01-01T00:00:00\"}, {\"year\": 2020, \"type\": \"VIS\", \"count\": 1428, \"ratio\": 0.18637431480031325, \"Year\": \"2020-01-01T00:00:00\"}, {\"year\": 2021, \"type\": \"Non-VIS\", \"count\": 3674, \"ratio\": 0.8080052782054101, \"Year\": \"2021-01-01T00:00:00\"}, {\"year\": 2021, \"type\": \"VIS\", \"count\": 873, \"ratio\": 0.19199472179458985, \"Year\": \"2021-01-01T00:00:00\"}], \"data-40e384783310fb81a9bd53e818d8c686\": [{\"year\": \"1990-01-01T00:00:00\", \"type\": \"No\", \"count\": 50, \"ratio\": 0.9615384615384616}, {\"year\": \"1990-01-01T00:00:00\", \"type\": \"Yes\", \"count\": 2, \"ratio\": 0.038461538461538464}, {\"year\": \"1991-01-01T00:00:00\", \"type\": \"No\", \"count\": 46, \"ratio\": 0.9583333333333334}, {\"year\": \"1991-01-01T00:00:00\", \"type\": \"Yes\", \"count\": 2, \"ratio\": 0.041666666666666664}, {\"year\": \"1992-01-01T00:00:00\", \"type\": \"No\", \"count\": 45, \"ratio\": 0.8823529411764706}, {\"year\": \"1992-01-01T00:00:00\", \"type\": \"Yes\", \"count\": 6, \"ratio\": 0.11764705882352941}, {\"year\": \"1993-01-01T00:00:00\", \"type\": \"No\", \"count\": 50, \"ratio\": 0.9090909090909091}, {\"year\": \"1993-01-01T00:00:00\", \"type\": \"Yes\", \"count\": 5, \"ratio\": 0.09090909090909091}, {\"year\": \"1994-01-01T00:00:00\", \"type\": \"No\", \"count\": 47, \"ratio\": 0.9038461538461539}, {\"year\": \"1994-01-01T00:00:00\", \"type\": \"Yes\", \"count\": 5, \"ratio\": 0.09615384615384616}, {\"year\": \"1995-01-01T00:00:00\", \"type\": \"No\", \"count\": 69, \"ratio\": 0.9324324324324325}, {\"year\": \"1995-01-01T00:00:00\", \"type\": \"Yes\", \"count\": 5, \"ratio\": 0.06756756756756757}, {\"year\": \"1996-01-01T00:00:00\", \"type\": \"No\", \"count\": 69, \"ratio\": 0.8961038961038961}, {\"year\": \"1996-01-01T00:00:00\", \"type\": \"Yes\", \"count\": 8, \"ratio\": 0.1038961038961039}, {\"year\": \"1997-01-01T00:00:00\", \"type\": \"No\", \"count\": 81, \"ratio\": 0.9204545454545454}, {\"year\": \"1997-01-01T00:00:00\", \"type\": \"Yes\", \"count\": 7, \"ratio\": 0.07954545454545454}, {\"year\": \"1998-01-01T00:00:00\", \"type\": \"No\", \"count\": 83, \"ratio\": 0.9222222222222223}, {\"year\": \"1998-01-01T00:00:00\", \"type\": \"Yes\", \"count\": 7, \"ratio\": 0.07777777777777778}, {\"year\": \"1999-01-01T00:00:00\", \"type\": \"No\", \"count\": 81, \"ratio\": 0.9204545454545454}, {\"year\": \"1999-01-01T00:00:00\", \"type\": \"Yes\", \"count\": 7, \"ratio\": 0.07954545454545454}, {\"year\": \"2000-01-01T00:00:00\", \"type\": \"No\", \"count\": 80, \"ratio\": 0.8695652173913043}, {\"year\": \"2000-01-01T00:00:00\", \"type\": \"Yes\", \"count\": 12, \"ratio\": 0.13043478260869565}, {\"year\": \"2001-01-01T00:00:00\", \"type\": \"No\", \"count\": 81, \"ratio\": 0.84375}, {\"year\": \"2001-01-01T00:00:00\", \"type\": \"Yes\", \"count\": 15, \"ratio\": 0.15625}, {\"year\": \"2002-01-01T00:00:00\", \"type\": \"No\", \"count\": 85, \"ratio\": 0.8415841584158416}, {\"year\": \"2002-01-01T00:00:00\", \"type\": \"Yes\", \"count\": 16, \"ratio\": 0.15841584158415842}, {\"year\": \"2003-01-01T00:00:00\", \"type\": \"No\", \"count\": 90, \"ratio\": 0.8823529411764706}, {\"year\": \"2003-01-01T00:00:00\", \"type\": \"Yes\", \"count\": 12, \"ratio\": 0.11764705882352941}, {\"year\": \"2004-01-01T00:00:00\", \"type\": \"No\", \"count\": 79, \"ratio\": 0.8144329896907216}, {\"year\": \"2004-01-01T00:00:00\", \"type\": \"Yes\", \"count\": 18, \"ratio\": 0.18556701030927836}, {\"year\": \"2005-01-01T00:00:00\", \"type\": \"No\", \"count\": 96, \"ratio\": 0.8067226890756303}, {\"year\": \"2005-01-01T00:00:00\", \"type\": \"Yes\", \"count\": 23, \"ratio\": 0.19327731092436976}, {\"year\": \"2006-01-01T00:00:00\", \"type\": \"No\", \"count\": 85, \"ratio\": 0.7522123893805309}, {\"year\": \"2006-01-01T00:00:00\", \"type\": \"Yes\", \"count\": 28, \"ratio\": 0.24778761061946902}, {\"year\": \"2007-01-01T00:00:00\", \"type\": \"No\", \"count\": 75, \"ratio\": 0.7009345794392523}, {\"year\": \"2007-01-01T00:00:00\", \"type\": \"Yes\", \"count\": 32, \"ratio\": 0.29906542056074764}, {\"year\": \"2008-01-01T00:00:00\", \"type\": \"No\", \"count\": 74, \"ratio\": 0.7474747474747475}, {\"year\": \"2008-01-01T00:00:00\", \"type\": \"Yes\", \"count\": 25, \"ratio\": 0.25252525252525254}, {\"year\": \"2009-01-01T00:00:00\", \"type\": \"No\", \"count\": 90, \"ratio\": 0.7692307692307693}, {\"year\": \"2009-01-01T00:00:00\", \"type\": \"Yes\", \"count\": 27, \"ratio\": 0.23076923076923078}, {\"year\": \"2010-01-01T00:00:00\", \"type\": \"No\", \"count\": 78, \"ratio\": 0.7155963302752294}, {\"year\": \"2010-01-01T00:00:00\", \"type\": \"Yes\", \"count\": 31, \"ratio\": 0.28440366972477066}, {\"year\": \"2011-01-01T00:00:00\", \"type\": \"No\", \"count\": 91, \"ratio\": 0.7647058823529411}, {\"year\": \"2011-01-01T00:00:00\", \"type\": \"Yes\", \"count\": 28, \"ratio\": 0.23529411764705882}, {\"year\": \"2012-01-01T00:00:00\", \"type\": \"No\", \"count\": 75, \"ratio\": 0.646551724137931}, {\"year\": \"2012-01-01T00:00:00\", \"type\": \"Yes\", \"count\": 41, \"ratio\": 0.35344827586206895}, {\"year\": \"2013-01-01T00:00:00\", \"type\": \"No\", \"count\": 75, \"ratio\": 0.7425742574257426}, {\"year\": \"2013-01-01T00:00:00\", \"type\": \"Yes\", \"count\": 26, \"ratio\": 0.25742574257425743}, {\"year\": \"2014-01-01T00:00:00\", \"type\": \"No\", \"count\": 84, \"ratio\": 0.6363636363636364}, {\"year\": \"2014-01-01T00:00:00\", \"type\": \"Yes\", \"count\": 48, \"ratio\": 0.36363636363636365}, {\"year\": \"2015-01-01T00:00:00\", \"type\": \"No\", \"count\": 80, \"ratio\": 0.6299212598425197}, {\"year\": \"2015-01-01T00:00:00\", \"type\": \"Yes\", \"count\": 47, \"ratio\": 0.3700787401574803}, {\"year\": \"2016-01-01T00:00:00\", \"type\": \"No\", \"count\": 67, \"ratio\": 0.5826086956521739}, {\"year\": \"2016-01-01T00:00:00\", \"type\": \"Yes\", \"count\": 48, \"ratio\": 0.41739130434782606}, {\"year\": \"2017-01-01T00:00:00\", \"type\": \"No\", \"count\": 65, \"ratio\": 0.5701754385964912}, {\"year\": \"2017-01-01T00:00:00\", \"type\": \"Yes\", \"count\": 49, \"ratio\": 0.4298245614035088}, {\"year\": \"2018-01-01T00:00:00\", \"type\": \"No\", \"count\": 81, \"ratio\": 0.6377952755905512}, {\"year\": \"2018-01-01T00:00:00\", \"type\": \"Yes\", \"count\": 46, \"ratio\": 0.36220472440944884}, {\"year\": \"2019-01-01T00:00:00\", \"type\": \"No\", \"count\": 80, \"ratio\": 0.6201550387596899}, {\"year\": \"2019-01-01T00:00:00\", \"type\": \"Yes\", \"count\": 49, \"ratio\": 0.3798449612403101}, {\"year\": \"2020-01-01T00:00:00\", \"type\": \"No\", \"count\": 95, \"ratio\": 0.6050955414012739}, {\"year\": \"2020-01-01T00:00:00\", \"type\": \"Yes\", \"count\": 62, \"ratio\": 0.39490445859872614}, {\"year\": \"2021-01-01T00:00:00\", \"type\": \"No\", \"count\": 93, \"ratio\": 0.5502958579881657}, {\"year\": \"2021-01-01T00:00:00\", \"type\": \"Yes\", \"count\": 76, \"ratio\": 0.44970414201183434}], \"data-6018ed2494c8d8420280e0ef8b3ed4ae\": [{\"year\": \"1990-01-01T00:00:00\", \"type\": \"No\", \"count\": 47, \"ratio\": 0.9038461538461539}, {\"year\": \"1990-01-01T00:00:00\", \"type\": \"Yes\", \"count\": 5, \"ratio\": 0.09615384615384616}, {\"year\": \"1991-01-01T00:00:00\", \"type\": \"No\", \"count\": 40, \"ratio\": 0.8333333333333334}, {\"year\": \"1991-01-01T00:00:00\", \"type\": \"Yes\", \"count\": 8, \"ratio\": 0.16666666666666666}, {\"year\": \"1992-01-01T00:00:00\", \"type\": \"No\", \"count\": 39, \"ratio\": 0.7647058823529411}, {\"year\": \"1992-01-01T00:00:00\", \"type\": \"Yes\", \"count\": 12, \"ratio\": 0.23529411764705882}, {\"year\": \"1993-01-01T00:00:00\", \"type\": \"No\", \"count\": 47, \"ratio\": 0.8545454545454545}, {\"year\": \"1993-01-01T00:00:00\", \"type\": \"Yes\", \"count\": 8, \"ratio\": 0.14545454545454545}, {\"year\": \"1994-01-01T00:00:00\", \"type\": \"No\", \"count\": 47, \"ratio\": 0.9038461538461539}, {\"year\": \"1994-01-01T00:00:00\", \"type\": \"Yes\", \"count\": 5, \"ratio\": 0.09615384615384616}, {\"year\": \"1995-01-01T00:00:00\", \"type\": \"No\", \"count\": 67, \"ratio\": 0.9054054054054054}, {\"year\": \"1995-01-01T00:00:00\", \"type\": \"Yes\", \"count\": 7, \"ratio\": 0.0945945945945946}, {\"year\": \"1996-01-01T00:00:00\", \"type\": \"No\", \"count\": 60, \"ratio\": 0.7792207792207793}, {\"year\": \"1996-01-01T00:00:00\", \"type\": \"Yes\", \"count\": 17, \"ratio\": 0.22077922077922077}, {\"year\": \"1997-01-01T00:00:00\", \"type\": \"No\", \"count\": 79, \"ratio\": 0.8977272727272727}, {\"year\": \"1997-01-01T00:00:00\", \"type\": \"Yes\", \"count\": 9, \"ratio\": 0.10227272727272728}, {\"year\": \"1998-01-01T00:00:00\", \"type\": \"No\", \"count\": 77, \"ratio\": 0.8555555555555555}, {\"year\": \"1998-01-01T00:00:00\", \"type\": \"Yes\", \"count\": 13, \"ratio\": 0.14444444444444443}, {\"year\": \"1999-01-01T00:00:00\", \"type\": \"No\", \"count\": 72, \"ratio\": 0.8181818181818182}, {\"year\": \"1999-01-01T00:00:00\", \"type\": \"Yes\", \"count\": 16, \"ratio\": 0.18181818181818182}, {\"year\": \"2000-01-01T00:00:00\", \"type\": \"No\", \"count\": 69, \"ratio\": 0.75}, {\"year\": \"2000-01-01T00:00:00\", \"type\": \"Yes\", \"count\": 23, \"ratio\": 0.25}, {\"year\": \"2001-01-01T00:00:00\", \"type\": \"No\", \"count\": 69, \"ratio\": 0.71875}, {\"year\": \"2001-01-01T00:00:00\", \"type\": \"Yes\", \"count\": 27, \"ratio\": 0.28125}, {\"year\": \"2002-01-01T00:00:00\", \"type\": \"No\", \"count\": 86, \"ratio\": 0.8514851485148515}, {\"year\": \"2002-01-01T00:00:00\", \"type\": \"Yes\", \"count\": 15, \"ratio\": 0.1485148514851485}, {\"year\": \"2003-01-01T00:00:00\", \"type\": \"No\", \"count\": 84, \"ratio\": 0.8235294117647058}, {\"year\": \"2003-01-01T00:00:00\", \"type\": \"Yes\", \"count\": 18, \"ratio\": 0.17647058823529413}, {\"year\": \"2004-01-01T00:00:00\", \"type\": \"No\", \"count\": 78, \"ratio\": 0.8041237113402062}, {\"year\": \"2004-01-01T00:00:00\", \"type\": \"Yes\", \"count\": 19, \"ratio\": 0.1958762886597938}, {\"year\": \"2005-01-01T00:00:00\", \"type\": \"No\", \"count\": 96, \"ratio\": 0.8067226890756303}, {\"year\": \"2005-01-01T00:00:00\", \"type\": \"Yes\", \"count\": 23, \"ratio\": 0.19327731092436976}, {\"year\": \"2006-01-01T00:00:00\", \"type\": \"No\", \"count\": 93, \"ratio\": 0.8230088495575221}, {\"year\": \"2006-01-01T00:00:00\", \"type\": \"Yes\", \"count\": 20, \"ratio\": 0.17699115044247787}, {\"year\": \"2007-01-01T00:00:00\", \"type\": \"No\", \"count\": 72, \"ratio\": 0.6728971962616822}, {\"year\": \"2007-01-01T00:00:00\", \"type\": \"Yes\", \"count\": 35, \"ratio\": 0.32710280373831774}, {\"year\": \"2008-01-01T00:00:00\", \"type\": \"No\", \"count\": 73, \"ratio\": 0.7373737373737373}, {\"year\": \"2008-01-01T00:00:00\", \"type\": \"Yes\", \"count\": 26, \"ratio\": 0.26262626262626265}, {\"year\": \"2009-01-01T00:00:00\", \"type\": \"No\", \"count\": 84, \"ratio\": 0.717948717948718}, {\"year\": \"2009-01-01T00:00:00\", \"type\": \"Yes\", \"count\": 33, \"ratio\": 0.28205128205128205}, {\"year\": \"2010-01-01T00:00:00\", \"type\": \"No\", \"count\": 83, \"ratio\": 0.7614678899082569}, {\"year\": \"2010-01-01T00:00:00\", \"type\": \"Yes\", \"count\": 26, \"ratio\": 0.23853211009174313}, {\"year\": \"2011-01-01T00:00:00\", \"type\": \"No\", \"count\": 92, \"ratio\": 0.773109243697479}, {\"year\": \"2011-01-01T00:00:00\", \"type\": \"Yes\", \"count\": 27, \"ratio\": 0.226890756302521}, {\"year\": \"2012-01-01T00:00:00\", \"type\": \"No\", \"count\": 80, \"ratio\": 0.6896551724137931}, {\"year\": \"2012-01-01T00:00:00\", \"type\": \"Yes\", \"count\": 36, \"ratio\": 0.3103448275862069}, {\"year\": \"2013-01-01T00:00:00\", \"type\": \"No\", \"count\": 75, \"ratio\": 0.7425742574257426}, {\"year\": \"2013-01-01T00:00:00\", \"type\": \"Yes\", \"count\": 26, \"ratio\": 0.25742574257425743}, {\"year\": \"2014-01-01T00:00:00\", \"type\": \"No\", \"count\": 94, \"ratio\": 0.7121212121212122}, {\"year\": \"2014-01-01T00:00:00\", \"type\": \"Yes\", \"count\": 38, \"ratio\": 0.2878787878787879}, {\"year\": \"2015-01-01T00:00:00\", \"type\": \"No\", \"count\": 89, \"ratio\": 0.7007874015748031}, {\"year\": \"2015-01-01T00:00:00\", \"type\": \"Yes\", \"count\": 38, \"ratio\": 0.2992125984251969}, {\"year\": \"2016-01-01T00:00:00\", \"type\": \"No\", \"count\": 77, \"ratio\": 0.6695652173913044}, {\"year\": \"2016-01-01T00:00:00\", \"type\": \"Yes\", \"count\": 38, \"ratio\": 0.33043478260869563}, {\"year\": \"2017-01-01T00:00:00\", \"type\": \"No\", \"count\": 72, \"ratio\": 0.631578947368421}, {\"year\": \"2017-01-01T00:00:00\", \"type\": \"Yes\", \"count\": 42, \"ratio\": 0.3684210526315789}, {\"year\": \"2018-01-01T00:00:00\", \"type\": \"No\", \"count\": 72, \"ratio\": 0.5669291338582677}, {\"year\": \"2018-01-01T00:00:00\", \"type\": \"Yes\", \"count\": 55, \"ratio\": 0.4330708661417323}, {\"year\": \"2019-01-01T00:00:00\", \"type\": \"No\", \"count\": 92, \"ratio\": 0.7131782945736435}, {\"year\": \"2019-01-01T00:00:00\", \"type\": \"Yes\", \"count\": 37, \"ratio\": 0.2868217054263566}, {\"year\": \"2020-01-01T00:00:00\", \"type\": \"No\", \"count\": 113, \"ratio\": 0.7197452229299363}, {\"year\": \"2020-01-01T00:00:00\", \"type\": \"Yes\", \"count\": 44, \"ratio\": 0.2802547770700637}, {\"year\": \"2021-01-01T00:00:00\", \"type\": \"No\", \"count\": 119, \"ratio\": 0.7041420118343196}, {\"year\": \"2021-01-01T00:00:00\", \"type\": \"Yes\", \"count\": 50, \"ratio\": 0.2958579881656805}]}}, {\"mode\": \"vega-lite\"});\n",
       "</script>"
      ],
      "text/plain": [
       "alt.HConcatChart(...)"
      ]
     },
     "execution_count": 130,
     "metadata": {},
     "output_type": "execute_result"
    }
   ],
   "source": [
    "cit_ratio = alt.Chart(cit_df).mark_line(\n",
    "    point={\n",
    "      \"filled\": False,\n",
    "      \"fill\": \"white\"\n",
    "    },\n",
    "    strokeDash=[1,2]\n",
    ").encode(\n",
    "    x='Year',\n",
    "    y=alt.Y(\n",
    "        'ratio',\n",
    "        title=ratio_wording\n",
    "    ),\n",
    "    color=alt.Color(\n",
    "        \"type:N\",\n",
    "        title = 'Who cited VIS',\n",
    "        scale=alt.Scale(\n",
    "            domain=['Non-VIS', 'VIS'],\n",
    "            range=['purple', 'green']\n",
    "        ),\n",
    "        legend=alt.Legend(\n",
    "            orient='none',\n",
    "            legendX=0, legendY=-40,\n",
    "            direction='horizontal',\n",
    "            titleAnchor='middle'\n",
    "        )\n",
    "    )\n",
    ")\n",
    "\n",
    "cit_ratio\n",
    "\n",
    "ref_ratio = alt.Chart(ref_df).mark_line(\n",
    ").encode(\n",
    "    x='Year',\n",
    "    y=alt.Y(\n",
    "        'ratio',\n",
    "        title = ratio_wording\n",
    "    ),\n",
    "    color=alt.Color(\n",
    "        \"type:N\",\n",
    "        title = 'Whom VIS cited',\n",
    "        scale=alt.Scale(\n",
    "            domain=['Non-VIS', 'VIS'],\n",
    "            range=['orange', 'steelblue']\n",
    "        ),\n",
    "        legend=alt.Legend(\n",
    "            orient='none',\n",
    "            legendX=150, legendY=-40,\n",
    "            direction='horizontal',\n",
    "            titleAnchor='middle'\n",
    "        ),\n",
    "    )\n",
    ")\n",
    "\n",
    "ref_ratio\n",
    "\n",
    "citation_ratio_compare = alt.layer(\n",
    "    cit_ratio,\n",
    "    ref_ratio,\n",
    ").resolve_scale(\n",
    "    color='independent'\n",
    ").properties(\n",
    "    title = 'e',\n",
    "    width=280\n",
    ")\n",
    "\n",
    "citation_ratio_compare\n",
    "\n",
    "cross_country_ratio = alt.Chart(cross_country).mark_line().encode(\n",
    "    x = alt.X('year', title='Year'),\n",
    "    y = alt.Y(\n",
    "        'ratio',\n",
    "        title = ratio_wording\n",
    "    ),\n",
    "    color = alt.Color(\n",
    "        'type',\n",
    "        title = 'Cross-country',\n",
    "        scale=alt.Scale(domain=['No', 'Yes'],\n",
    "                      range=['orange', 'steelblue']),\n",
    "        legend=alt.Legend(\n",
    "            orient='none',\n",
    "            legendX=80, legendY=-40,\n",
    "            direction='horizontal',\n",
    "            titleAnchor='middle'\n",
    "        )\n",
    "    )\n",
    ").properties(\n",
    "    title = 'f',\n",
    "    width=280\n",
    ")\n",
    "\n",
    "cross_country_ratio\n",
    "\n",
    "cross_type_ratio = alt.Chart(cross_type).mark_line().encode(\n",
    "    x = alt.X('year', title='Year'),\n",
    "    y = alt.Y(\n",
    "        'ratio',\n",
    "        title = ratio_wording\n",
    "    ),\n",
    "    color = alt.Color(\n",
    "        'type',\n",
    "        title = 'Cross-type',\n",
    "#         sort = ['Yes', 'No'],\n",
    "        scale=alt.Scale(domain=['No', 'Yes'],\n",
    "                      range=['purple', 'green']),\n",
    "        legend=alt.Legend(\n",
    "            orient='none',\n",
    "            legendX=90, legendY=-40,\n",
    "            direction='horizontal',\n",
    "            titleAnchor='middle'\n",
    "        )\n",
    "    )\n",
    ").properties(\n",
    "    title = 'g',\n",
    "    width=280\n",
    ")\n",
    "\n",
    "cross_type_ratio\n",
    "\n",
    "cross_country_count = alt.Chart(cross_country).mark_line(\n",
    ").encode(\n",
    "    x = alt.X('year', title='Year'),\n",
    "    y = alt.Y(\n",
    "        'count',\n",
    "        title = 'Number of publications'\n",
    "    ),\n",
    "    color = alt.Color(\n",
    "        'type',\n",
    "        title = 'Cross-country',\n",
    "        scale=alt.Scale(domain=['No', 'Yes'],\n",
    "                      range=['orange', 'steelblue']),\n",
    "        legend=alt.Legend(\n",
    "            orient='none',\n",
    "            legendX=0, legendY=-40,\n",
    "            direction='horizontal',\n",
    "            titleAnchor='middle'\n",
    "    )\n",
    "))\n",
    "\n",
    "cross_country_count \n",
    "\n",
    "cross_type_count = alt.Chart(cross_type).mark_line(\n",
    "    point={\n",
    "      \"filled\": False,\n",
    "      \"fill\": \"white\"\n",
    "    },\n",
    "    strokeDash=[1,2]\n",
    ").encode(\n",
    "    x = alt.X('year', title='Year'),\n",
    "    y = alt.Y(\n",
    "        'count',\n",
    "        title = 'Number of publications'\n",
    "    ),\n",
    "    color = alt.Color(\n",
    "        'type',\n",
    "        title = 'Cross-type',\n",
    "        sort = ['Yes', 'No'],\n",
    "        scale=alt.Scale(domain=['No', 'Yes'],\n",
    "                      range=['purple', 'green']),\n",
    "        legend=alt.Legend(\n",
    "            orient='none',\n",
    "            legendX=180, legendY=-40,\n",
    "            direction='horizontal',\n",
    "            titleAnchor='middle'\n",
    "    )),\n",
    ")\n",
    "\n",
    "cross_type_count\n",
    "\n",
    "count_compare = alt.layer(\n",
    "    cross_type_count,\n",
    "    cross_country_count\n",
    ").resolve_scale(\n",
    "    color='independent'\n",
    ").properties(\n",
    "    title = 'h',\n",
    "    width=280\n",
    ")\n",
    "\n",
    "count_compare\n",
    "\n",
    "trends2 = alt.hconcat(\n",
    "    citation_ratio_compare,\n",
    "    cross_country_ratio,\n",
    "    cross_type_ratio,\n",
    "    count_compare\n",
    ").resolve_scale(\n",
    "    color = 'independent'\n",
    ").configure_axis(\n",
    "    labelFontSize=15,\n",
    "    titleFontSize=20\n",
    ").configure_legend(\n",
    "    titleFontSize=16,\n",
    "    labelFontSize=16\n",
    ").configure_title(\n",
    "    anchor='start',\n",
    "    fontSize=22)\n",
    "\n",
    "trends2"
   ]
  },
  {
   "cell_type": "code",
   "execution_count": 131,
   "id": "ffd053a2",
   "metadata": {},
   "outputs": [],
   "source": [
    "# f, axs = plt.subplots(1,4,\n",
    "#                       figsize=(20, 5),\n",
    "#                       sharex=False,\n",
    "#                       sharey=False,\n",
    "#                       gridspec_kw=dict(width_ratios=[1,1,1,1]))\n",
    "# sns.set_style(\"whitegrid\")\n",
    "# sns.set_palette('Set1')\n",
    "# # sns.set_palette('bright')\n",
    "\n",
    "# # sns.set(font_scale=1.5)\n",
    "\n",
    "# ## Number of publications by year\n",
    "# g0 = sns.lineplot(\n",
    "#     x = 'Year', \n",
    "#     y = 'Number of Publications', \n",
    "#     data = pub_num_df,\n",
    "#     ax = axs[0]\n",
    "# )\n",
    "# g0.set_ylim(0,)\n",
    "# g0.text(-0.1, 1.1, 'A', transform=g0.transAxes, \n",
    "#             size=20, weight='bold')\n",
    "\n",
    "\n",
    "# # Number of unique authors by year\n",
    "# g1 = sns.lineplot(x = 'Year', \n",
    "#                  y= 'Number of Unique Authors', \n",
    "#                  data = unique_author_num_df,\n",
    "#                  ax = axs[1]\n",
    "#                 )\n",
    "# g1.set_ylim(0,)\n",
    "# g1.text(-0.1, 1.1, 'B', transform=g1.transAxes, \n",
    "#             size=20, weight='bold')\n",
    "\n",
    "# # cross-country\n",
    "# g2 = sns.lineplot(x='year',\n",
    "#                  y='ratio',\n",
    "#                  hue='type', \n",
    "#                  data = cross_country,\n",
    "#                  ax = axs[2],\n",
    "#                 )\n",
    "# g2.legend(title = 'Cross-country')\n",
    "# g2.set_xlabel('Year')\n",
    "# g2.set_ylabel('Ratio')\n",
    "# g2.text(-0.1, 1.1, 'C', transform=g2.transAxes, \n",
    "#             size=20, weight='bold')\n",
    "\n",
    "# # cross-type\n",
    "# g3 = sns.lineplot(x='year',\n",
    "#                  y='ratio',\n",
    "#                  hue='type', \n",
    "#                  data = cross_type,\n",
    "#                  ax = axs[3]\n",
    "#                 )\n",
    "# g3.legend(title = 'Cross-type')\n",
    "# g3.set_xlabel('Year')\n",
    "# g3.set_ylabel('Ratio')\n",
    "# g3.text(-0.1, 1.1, 'D', transform=g3.transAxes, \n",
    "#             size=20, weight='bold')\n",
    "\n",
    "# # # Citations from vis and non-vis papers\n",
    "# # plt.subplot(1,5,5)\n",
    "# # plt.stackplot(range(1990, 2022), \n",
    "# #               to_plot_stackarea, \n",
    "# #               labels=['Non-VIS', 'VIS'],\n",
    "# #              )\n",
    "# # plt.legend(title= 'Papers citing VIS', loc='upper left')\n",
    "# # plt.xlabel('Year')\n",
    "# # plt.ylabel('Number of Publications')\n",
    "\n",
    "# # plt.show()\n",
    "# f.tight_layout()\n",
    "# f.savefig('../results/figures/trends.png', dpi = 200)"
   ]
  }
 ],
 "metadata": {
  "kernelspec": {
   "display_name": "Python 3 (ipykernel)",
   "language": "python",
   "name": "python3"
  },
  "language_info": {
   "codemirror_mode": {
    "name": "ipython",
    "version": 3
   },
   "file_extension": ".py",
   "mimetype": "text/x-python",
   "name": "python",
   "nbconvert_exporter": "python",
   "pygments_lexer": "ipython3",
   "version": "3.8.12"
  }
 },
 "nbformat": 4,
 "nbformat_minor": 5
}
