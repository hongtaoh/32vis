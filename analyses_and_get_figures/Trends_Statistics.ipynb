{
 "cells": [
  {
   "cell_type": "code",
   "execution_count": 119,
   "id": "da0cc1f9",
   "metadata": {},
   "outputs": [],
   "source": [
    "import pandas as pd\n",
    "import matplotlib.pyplot as plt\n",
    "from collections import Counter\n",
    "import seaborn as sns\n",
    "import matplotlib\n",
    "font = {'family' : 'Arial',\n",
    "        'weight' : 'normal',\n",
    "        'size'   : 12}\n",
    "matplotlib.rc('font', **font)\n",
    "import altair as alt\n",
    "pd.set_option('display.max_rows', 500)\n",
    "import numpy as np"
   ]
  },
  {
   "cell_type": "code",
   "execution_count": 120,
   "id": "b87e11fb",
   "metadata": {},
   "outputs": [],
   "source": [
    "author = pd.read_csv('../data/ht_class/ht_cleaned_author_df.csv')\n",
    "paper = pd.read_csv('../data/ht_class/ht_cleaned_paper_df.csv')"
   ]
  },
  {
   "cell_type": "markdown",
   "id": "c86de97a",
   "metadata": {},
   "source": [
    "### Number of publications by year"
   ]
  },
  {
   "cell_type": "code",
   "execution_count": 121,
   "id": "877f7f98",
   "metadata": {},
   "outputs": [
    {
     "data": {
      "text/html": [
       "<div>\n",
       "<style scoped>\n",
       "    .dataframe tbody tr th:only-of-type {\n",
       "        vertical-align: middle;\n",
       "    }\n",
       "\n",
       "    .dataframe tbody tr th {\n",
       "        vertical-align: top;\n",
       "    }\n",
       "\n",
       "    .dataframe thead th {\n",
       "        text-align: right;\n",
       "    }\n",
       "</style>\n",
       "<table border=\"1\" class=\"dataframe\">\n",
       "  <thead>\n",
       "    <tr style=\"text-align: right;\">\n",
       "      <th></th>\n",
       "      <th>Year</th>\n",
       "      <th>Number of Publications</th>\n",
       "    </tr>\n",
       "  </thead>\n",
       "  <tbody>\n",
       "    <tr>\n",
       "      <th>0</th>\n",
       "      <td>1990-01-01</td>\n",
       "      <td>52</td>\n",
       "    </tr>\n",
       "    <tr>\n",
       "      <th>1</th>\n",
       "      <td>1991-01-01</td>\n",
       "      <td>48</td>\n",
       "    </tr>\n",
       "    <tr>\n",
       "      <th>2</th>\n",
       "      <td>1992-01-01</td>\n",
       "      <td>51</td>\n",
       "    </tr>\n",
       "    <tr>\n",
       "      <th>3</th>\n",
       "      <td>1993-01-01</td>\n",
       "      <td>55</td>\n",
       "    </tr>\n",
       "    <tr>\n",
       "      <th>4</th>\n",
       "      <td>1994-01-01</td>\n",
       "      <td>52</td>\n",
       "    </tr>\n",
       "  </tbody>\n",
       "</table>\n",
       "</div>"
      ],
      "text/plain": [
       "        Year  Number of Publications\n",
       "0 1990-01-01                      52\n",
       "1 1991-01-01                      48\n",
       "2 1992-01-01                      51\n",
       "3 1993-01-01                      55\n",
       "4 1994-01-01                      52"
      ]
     },
     "execution_count": 121,
     "metadata": {},
     "output_type": "execute_result"
    }
   ],
   "source": [
    "pub_num_df = paper.groupby(\n",
    "    'Year').size().reset_index(name = 'Number of Publications')\n",
    "pub_num_df['Year'] = pd.to_datetime(\n",
    "    pub_num_df['Year'], format=\"%Y\"\n",
    ")\n",
    "pub_num_df.head()"
   ]
  },
  {
   "cell_type": "code",
   "execution_count": 122,
   "id": "2508935e",
   "metadata": {},
   "outputs": [
    {
     "data": {
      "text/html": [
       "<div>\n",
       "<style scoped>\n",
       "    .dataframe tbody tr th:only-of-type {\n",
       "        vertical-align: middle;\n",
       "    }\n",
       "\n",
       "    .dataframe tbody tr th {\n",
       "        vertical-align: top;\n",
       "    }\n",
       "\n",
       "    .dataframe thead th {\n",
       "        text-align: right;\n",
       "    }\n",
       "</style>\n",
       "<table border=\"1\" class=\"dataframe\">\n",
       "  <thead>\n",
       "    <tr style=\"text-align: right;\">\n",
       "      <th></th>\n",
       "      <th>Year</th>\n",
       "      <th>Number of Publications</th>\n",
       "    </tr>\n",
       "  </thead>\n",
       "  <tbody>\n",
       "    <tr>\n",
       "      <th>27</th>\n",
       "      <td>2017-01-01</td>\n",
       "      <td>114</td>\n",
       "    </tr>\n",
       "    <tr>\n",
       "      <th>28</th>\n",
       "      <td>2018-01-01</td>\n",
       "      <td>127</td>\n",
       "    </tr>\n",
       "    <tr>\n",
       "      <th>29</th>\n",
       "      <td>2019-01-01</td>\n",
       "      <td>129</td>\n",
       "    </tr>\n",
       "    <tr>\n",
       "      <th>30</th>\n",
       "      <td>2020-01-01</td>\n",
       "      <td>157</td>\n",
       "    </tr>\n",
       "    <tr>\n",
       "      <th>31</th>\n",
       "      <td>2021-01-01</td>\n",
       "      <td>169</td>\n",
       "    </tr>\n",
       "  </tbody>\n",
       "</table>\n",
       "</div>"
      ],
      "text/plain": [
       "         Year  Number of Publications\n",
       "27 2017-01-01                     114\n",
       "28 2018-01-01                     127\n",
       "29 2019-01-01                     129\n",
       "30 2020-01-01                     157\n",
       "31 2021-01-01                     169"
      ]
     },
     "execution_count": 122,
     "metadata": {},
     "output_type": "execute_result"
    }
   ],
   "source": [
    "pub_num_df.tail()"
   ]
  },
  {
   "cell_type": "markdown",
   "id": "bae056e1",
   "metadata": {},
   "source": [
    "### Number of unique authors"
   ]
  },
  {
   "cell_type": "code",
   "execution_count": 123,
   "id": "2c94bd33",
   "metadata": {},
   "outputs": [
    {
     "data": {
      "text/plain": [
       "101"
      ]
     },
     "execution_count": 123,
     "metadata": {},
     "output_type": "execute_result"
    }
   ],
   "source": [
    "# how many rows miss openalex author id\n",
    "author[author['OpenAlex Author ID'].isnull()].shape[0]"
   ]
  },
  {
   "cell_type": "code",
   "execution_count": 124,
   "id": "1eb832d6",
   "metadata": {},
   "outputs": [],
   "source": [
    "author_with_author_id = author[\n",
    "    author['OpenAlex Author ID'].notnull()]"
   ]
  },
  {
   "cell_type": "code",
   "execution_count": 125,
   "id": "72e1818e",
   "metadata": {},
   "outputs": [
    {
     "data": {
      "text/html": [
       "<div>\n",
       "<style scoped>\n",
       "    .dataframe tbody tr th:only-of-type {\n",
       "        vertical-align: middle;\n",
       "    }\n",
       "\n",
       "    .dataframe tbody tr th {\n",
       "        vertical-align: top;\n",
       "    }\n",
       "\n",
       "    .dataframe thead th {\n",
       "        text-align: right;\n",
       "    }\n",
       "</style>\n",
       "<table border=\"1\" class=\"dataframe\">\n",
       "  <thead>\n",
       "    <tr style=\"text-align: right;\">\n",
       "      <th></th>\n",
       "      <th>Year</th>\n",
       "      <th>Number of Unique Authors</th>\n",
       "    </tr>\n",
       "  </thead>\n",
       "  <tbody>\n",
       "    <tr>\n",
       "      <th>0</th>\n",
       "      <td>1990-01-01</td>\n",
       "      <td>118</td>\n",
       "    </tr>\n",
       "    <tr>\n",
       "      <th>1</th>\n",
       "      <td>1991-01-01</td>\n",
       "      <td>120</td>\n",
       "    </tr>\n",
       "    <tr>\n",
       "      <th>2</th>\n",
       "      <td>1992-01-01</td>\n",
       "      <td>119</td>\n",
       "    </tr>\n",
       "    <tr>\n",
       "      <th>3</th>\n",
       "      <td>1993-01-01</td>\n",
       "      <td>116</td>\n",
       "    </tr>\n",
       "    <tr>\n",
       "      <th>4</th>\n",
       "      <td>1994-01-01</td>\n",
       "      <td>127</td>\n",
       "    </tr>\n",
       "  </tbody>\n",
       "</table>\n",
       "</div>"
      ],
      "text/plain": [
       "        Year  Number of Unique Authors\n",
       "0 1990-01-01                       118\n",
       "1 1991-01-01                       120\n",
       "2 1992-01-01                       119\n",
       "3 1993-01-01                       116\n",
       "4 1994-01-01                       127"
      ]
     },
     "execution_count": 125,
     "metadata": {},
     "output_type": "execute_result"
    }
   ],
   "source": [
    "unique_author_num_df = author_with_author_id.groupby(\n",
    "    'Year')['OpenAlex Author ID'].nunique().reset_index(\n",
    "    name = 'Number of Unique Authors')\n",
    "unique_author_num_df['Year'] = pd.to_datetime(\n",
    "    unique_author_num_df['Year'], format=\"%Y\",\n",
    ")\n",
    "unique_author_num_df.head()"
   ]
  },
  {
   "cell_type": "code",
   "execution_count": 126,
   "id": "004e5d73",
   "metadata": {},
   "outputs": [
    {
     "data": {
      "text/html": [
       "<div>\n",
       "<style scoped>\n",
       "    .dataframe tbody tr th:only-of-type {\n",
       "        vertical-align: middle;\n",
       "    }\n",
       "\n",
       "    .dataframe tbody tr th {\n",
       "        vertical-align: top;\n",
       "    }\n",
       "\n",
       "    .dataframe thead th {\n",
       "        text-align: right;\n",
       "    }\n",
       "</style>\n",
       "<table border=\"1\" class=\"dataframe\">\n",
       "  <thead>\n",
       "    <tr style=\"text-align: right;\">\n",
       "      <th></th>\n",
       "      <th>Year</th>\n",
       "      <th>Number of Unique Authors</th>\n",
       "    </tr>\n",
       "  </thead>\n",
       "  <tbody>\n",
       "    <tr>\n",
       "      <th>27</th>\n",
       "      <td>2017-01-01</td>\n",
       "      <td>455</td>\n",
       "    </tr>\n",
       "    <tr>\n",
       "      <th>28</th>\n",
       "      <td>2018-01-01</td>\n",
       "      <td>494</td>\n",
       "    </tr>\n",
       "    <tr>\n",
       "      <th>29</th>\n",
       "      <td>2019-01-01</td>\n",
       "      <td>551</td>\n",
       "    </tr>\n",
       "    <tr>\n",
       "      <th>30</th>\n",
       "      <td>2020-01-01</td>\n",
       "      <td>639</td>\n",
       "    </tr>\n",
       "    <tr>\n",
       "      <th>31</th>\n",
       "      <td>2021-01-01</td>\n",
       "      <td>673</td>\n",
       "    </tr>\n",
       "  </tbody>\n",
       "</table>\n",
       "</div>"
      ],
      "text/plain": [
       "         Year  Number of Unique Authors\n",
       "27 2017-01-01                       455\n",
       "28 2018-01-01                       494\n",
       "29 2019-01-01                       551\n",
       "30 2020-01-01                       639\n",
       "31 2021-01-01                       673"
      ]
     },
     "execution_count": 126,
     "metadata": {},
     "output_type": "execute_result"
    }
   ],
   "source": [
    "unique_author_num_df.tail()"
   ]
  },
  {
   "cell_type": "markdown",
   "id": "27788fa4",
   "metadata": {},
   "source": [
    "### Non-VIS VS VIS citations"
   ]
  },
  {
   "cell_type": "code",
   "execution_count": 127,
   "id": "5c4a95fb",
   "metadata": {},
   "outputs": [
    {
     "data": {
      "text/plain": [
       "True"
      ]
     },
     "execution_count": 127,
     "metadata": {},
     "output_type": "execute_result"
    }
   ],
   "source": [
    "# VIS PAPERS' OPENALEX IDS\n",
    "ids = paper['OpenAlex ID'].tolist()\n",
    "len(list(set(ids))) == paper.shape[0]"
   ]
  },
  {
   "cell_type": "code",
   "execution_count": 128,
   "id": "d1b3ed04",
   "metadata": {},
   "outputs": [],
   "source": [
    "# Yes, I should not use the unique paper df\n",
    "ref = pd.read_csv('../data/processed/openalex_reference_paper_df.csv')\n",
    "ref = ref[ref['OpenAlex ID'].notnull()]"
   ]
  },
  {
   "cell_type": "code",
   "execution_count": 129,
   "id": "0452502d",
   "metadata": {},
   "outputs": [],
   "source": [
    "cit = pd.read_csv('../data/processed/openalex_citation_paper_df.csv')\n",
    "cit = cit[cit['Citation Paper OpenAlex ID'].notnull()]"
   ]
  },
  {
   "cell_type": "code",
   "execution_count": 130,
   "id": "b959806d",
   "metadata": {},
   "outputs": [],
   "source": [
    "ref['VIS'] = ref['OpenAlex ID'].apply(\n",
    "    lambda x: 'Yes' if x in ids else 'No'\n",
    ")"
   ]
  },
  {
   "cell_type": "code",
   "execution_count": 131,
   "id": "e2cdf5fa",
   "metadata": {},
   "outputs": [],
   "source": [
    "cit['VIS'] = cit['Citation Paper OpenAlex ID'].apply(\n",
    "    lambda x: 'Yes' if x in ids else 'No'\n",
    ")"
   ]
  },
  {
   "cell_type": "code",
   "execution_count": 132,
   "id": "2dfd8a64",
   "metadata": {},
   "outputs": [],
   "source": [
    "tuples = []\n",
    "for group in cit.groupby('OpenAlex Year'):\n",
    "    year = group[0]\n",
    "    total = group[1].shape[0]\n",
    "    for subgroup in group[1].groupby('VIS'):\n",
    "        type_of_paper = subgroup[0] # true or false\n",
    "        count = subgroup[1].shape[0]\n",
    "        ratio = count / total\n",
    "        tuples.append((year, type_of_paper, count, ratio))"
   ]
  },
  {
   "cell_type": "code",
   "execution_count": 133,
   "id": "1b298589",
   "metadata": {},
   "outputs": [],
   "source": [
    "cit_df = pd.DataFrame(list(tuples), columns=['year', 'type', 'count', 'ratio']) "
   ]
  },
  {
   "cell_type": "code",
   "execution_count": 134,
   "id": "3dffe128",
   "metadata": {},
   "outputs": [
    {
     "data": {
      "text/html": [
       "<div>\n",
       "<style scoped>\n",
       "    .dataframe tbody tr th:only-of-type {\n",
       "        vertical-align: middle;\n",
       "    }\n",
       "\n",
       "    .dataframe tbody tr th {\n",
       "        vertical-align: top;\n",
       "    }\n",
       "\n",
       "    .dataframe thead th {\n",
       "        text-align: right;\n",
       "    }\n",
       "</style>\n",
       "<table border=\"1\" class=\"dataframe\">\n",
       "  <thead>\n",
       "    <tr style=\"text-align: right;\">\n",
       "      <th></th>\n",
       "      <th>year</th>\n",
       "      <th>type</th>\n",
       "      <th>count</th>\n",
       "      <th>ratio</th>\n",
       "      <th>Year</th>\n",
       "    </tr>\n",
       "  </thead>\n",
       "  <tbody>\n",
       "    <tr>\n",
       "      <th>2</th>\n",
       "      <td>1990.0</td>\n",
       "      <td>Non-VIS</td>\n",
       "      <td>6</td>\n",
       "      <td>0.750000</td>\n",
       "      <td>1990-01-01</td>\n",
       "    </tr>\n",
       "    <tr>\n",
       "      <th>3</th>\n",
       "      <td>1990.0</td>\n",
       "      <td>VIS</td>\n",
       "      <td>2</td>\n",
       "      <td>0.250000</td>\n",
       "      <td>1990-01-01</td>\n",
       "    </tr>\n",
       "    <tr>\n",
       "      <th>4</th>\n",
       "      <td>1991.0</td>\n",
       "      <td>Non-VIS</td>\n",
       "      <td>58</td>\n",
       "      <td>0.734177</td>\n",
       "      <td>1991-01-01</td>\n",
       "    </tr>\n",
       "    <tr>\n",
       "      <th>5</th>\n",
       "      <td>1991.0</td>\n",
       "      <td>VIS</td>\n",
       "      <td>21</td>\n",
       "      <td>0.265823</td>\n",
       "      <td>1991-01-01</td>\n",
       "    </tr>\n",
       "    <tr>\n",
       "      <th>6</th>\n",
       "      <td>1992.0</td>\n",
       "      <td>Non-VIS</td>\n",
       "      <td>128</td>\n",
       "      <td>0.695652</td>\n",
       "      <td>1992-01-01</td>\n",
       "    </tr>\n",
       "  </tbody>\n",
       "</table>\n",
       "</div>"
      ],
      "text/plain": [
       "     year     type  count     ratio       Year\n",
       "2  1990.0  Non-VIS      6  0.750000 1990-01-01\n",
       "3  1990.0      VIS      2  0.250000 1990-01-01\n",
       "4  1991.0  Non-VIS     58  0.734177 1991-01-01\n",
       "5  1991.0      VIS     21  0.265823 1991-01-01\n",
       "6  1992.0  Non-VIS    128  0.695652 1992-01-01"
      ]
     },
     "execution_count": 134,
     "metadata": {},
     "output_type": "execute_result"
    }
   ],
   "source": [
    "cit_df = cit_df[(cit_df.year >= 1990) & (cit_df.year <= 2021)]\n",
    "cit_df['Year'] = pd.to_datetime(cit_df['year'], format='%Y')\n",
    "cit_df.replace({'Yes': 'VIS', 'No': 'Non-VIS'}, inplace=True)\n",
    "cit_df.head()"
   ]
  },
  {
   "cell_type": "code",
   "execution_count": 135,
   "id": "79af1c1f",
   "metadata": {},
   "outputs": [
    {
     "data": {
      "text/html": [
       "<div>\n",
       "<style scoped>\n",
       "    .dataframe tbody tr th:only-of-type {\n",
       "        vertical-align: middle;\n",
       "    }\n",
       "\n",
       "    .dataframe tbody tr th {\n",
       "        vertical-align: top;\n",
       "    }\n",
       "\n",
       "    .dataframe thead th {\n",
       "        text-align: right;\n",
       "    }\n",
       "</style>\n",
       "<table border=\"1\" class=\"dataframe\">\n",
       "  <thead>\n",
       "    <tr style=\"text-align: right;\">\n",
       "      <th></th>\n",
       "      <th>year</th>\n",
       "      <th>type</th>\n",
       "      <th>count</th>\n",
       "      <th>ratio</th>\n",
       "      <th>Year</th>\n",
       "    </tr>\n",
       "  </thead>\n",
       "  <tbody>\n",
       "    <tr>\n",
       "      <th>44</th>\n",
       "      <td>2011.0</td>\n",
       "      <td>Non-VIS</td>\n",
       "      <td>6173</td>\n",
       "      <td>0.889994</td>\n",
       "      <td>2011-01-01</td>\n",
       "    </tr>\n",
       "    <tr>\n",
       "      <th>45</th>\n",
       "      <td>2011.0</td>\n",
       "      <td>VIS</td>\n",
       "      <td>763</td>\n",
       "      <td>0.110006</td>\n",
       "      <td>2011-01-01</td>\n",
       "    </tr>\n",
       "    <tr>\n",
       "      <th>64</th>\n",
       "      <td>2021.0</td>\n",
       "      <td>Non-VIS</td>\n",
       "      <td>11353</td>\n",
       "      <td>0.850667</td>\n",
       "      <td>2021-01-01</td>\n",
       "    </tr>\n",
       "    <tr>\n",
       "      <th>65</th>\n",
       "      <td>2021.0</td>\n",
       "      <td>VIS</td>\n",
       "      <td>1993</td>\n",
       "      <td>0.149333</td>\n",
       "      <td>2021-01-01</td>\n",
       "    </tr>\n",
       "  </tbody>\n",
       "</table>\n",
       "</div>"
      ],
      "text/plain": [
       "      year     type  count     ratio       Year\n",
       "44  2011.0  Non-VIS   6173  0.889994 2011-01-01\n",
       "45  2011.0      VIS    763  0.110006 2011-01-01\n",
       "64  2021.0  Non-VIS  11353  0.850667 2021-01-01\n",
       "65  2021.0      VIS   1993  0.149333 2021-01-01"
      ]
     },
     "execution_count": 135,
     "metadata": {},
     "output_type": "execute_result"
    }
   ],
   "source": [
    "cit_df[cit_df.year.isin([2021, 2011])]"
   ]
  },
  {
   "cell_type": "markdown",
   "id": "a1495e00",
   "metadata": {},
   "source": [
    "### Average number of authors"
   ]
  },
  {
   "cell_type": "code",
   "execution_count": 136,
   "id": "89b8c7e0",
   "metadata": {},
   "outputs": [
    {
     "data": {
      "text/html": [
       "<div>\n",
       "<style scoped>\n",
       "    .dataframe tbody tr th:only-of-type {\n",
       "        vertical-align: middle;\n",
       "    }\n",
       "\n",
       "    .dataframe tbody tr th {\n",
       "        vertical-align: top;\n",
       "    }\n",
       "\n",
       "    .dataframe thead th {\n",
       "        text-align: right;\n",
       "    }\n",
       "</style>\n",
       "<table border=\"1\" class=\"dataframe\">\n",
       "  <thead>\n",
       "    <tr style=\"text-align: right;\">\n",
       "      <th></th>\n",
       "      <th>Year</th>\n",
       "      <th>Number of Authors</th>\n",
       "    </tr>\n",
       "  </thead>\n",
       "  <tbody>\n",
       "    <tr>\n",
       "      <th>27</th>\n",
       "      <td>2017</td>\n",
       "      <td>4.728070</td>\n",
       "    </tr>\n",
       "    <tr>\n",
       "      <th>28</th>\n",
       "      <td>2018</td>\n",
       "      <td>4.629921</td>\n",
       "    </tr>\n",
       "    <tr>\n",
       "      <th>29</th>\n",
       "      <td>2019</td>\n",
       "      <td>5.255814</td>\n",
       "    </tr>\n",
       "    <tr>\n",
       "      <th>30</th>\n",
       "      <td>2020</td>\n",
       "      <td>5.050955</td>\n",
       "    </tr>\n",
       "    <tr>\n",
       "      <th>31</th>\n",
       "      <td>2021</td>\n",
       "      <td>4.988166</td>\n",
       "    </tr>\n",
       "  </tbody>\n",
       "</table>\n",
       "</div>"
      ],
      "text/plain": [
       "    Year  Number of Authors\n",
       "27  2017           4.728070\n",
       "28  2018           4.629921\n",
       "29  2019           5.255814\n",
       "30  2020           5.050955\n",
       "31  2021           4.988166"
      ]
     },
     "execution_count": 136,
     "metadata": {},
     "output_type": "execute_result"
    }
   ],
   "source": [
    "author_num_df = paper.groupby(\n",
    "    'Year')['Number of Authors'].mean().to_frame().reset_index()\n",
    "author_num_df.tail()"
   ]
  },
  {
   "cell_type": "code",
   "execution_count": 137,
   "id": "d941030c",
   "metadata": {},
   "outputs": [
    {
     "data": {
      "image/png": "[encoded data removed]",
      "text/plain": [
       "<Figure size 432x288 with 1 Axes>"
      ]
     },
     "metadata": {
      "needs_background": "light"
     },
     "output_type": "display_data"
    }
   ],
   "source": [
    "g = sns.lineplot(x='Year', \n",
    "                 y='Number of Authors', \n",
    "                 data = author_num_df)\n",
    "g.set_ylim(0,)\n",
    "g.set_ylabel('Average Number of Authors')\n",
    "plt.grid()"
   ]
  },
  {
   "cell_type": "markdown",
   "id": "097d8acd",
   "metadata": {},
   "source": [
    "### Number of participating countries"
   ]
  },
  {
   "cell_type": "code",
   "execution_count": 138,
   "id": "f0613595",
   "metadata": {},
   "outputs": [],
   "source": [
    "year_1990_paper = paper[paper.Year == 1990]\n",
    "year_1990_cross_country = year_1990_paper[\n",
    "    year_1990_paper['Cross-country Collaboration']==True]\n",
    "year_1990_cross_country_dois = year_1990_cross_country.DOI.tolist()"
   ]
  },
  {
   "cell_type": "code",
   "execution_count": 139,
   "id": "8c696d1f",
   "metadata": {},
   "outputs": [
    {
     "data": {
      "text/html": [
       "<div>\n",
       "<style scoped>\n",
       "    .dataframe tbody tr th:only-of-type {\n",
       "        vertical-align: middle;\n",
       "    }\n",
       "\n",
       "    .dataframe tbody tr th {\n",
       "        vertical-align: top;\n",
       "    }\n",
       "\n",
       "    .dataframe thead th {\n",
       "        text-align: right;\n",
       "    }\n",
       "</style>\n",
       "<table border=\"1\" class=\"dataframe\">\n",
       "  <thead>\n",
       "    <tr style=\"text-align: right;\">\n",
       "      <th></th>\n",
       "      <th>Conference</th>\n",
       "      <th>Year</th>\n",
       "      <th>Title</th>\n",
       "      <th>DOI</th>\n",
       "      <th>FirstPage</th>\n",
       "      <th>LastPage</th>\n",
       "      <th>PaperType</th>\n",
       "      <th>OpenAlex Year</th>\n",
       "      <th>OpenAlex Publication Date</th>\n",
       "      <th>OpenAlex ID</th>\n",
       "      <th>...</th>\n",
       "      <th>Number of Authors</th>\n",
       "      <th>Cross-type Collaboration</th>\n",
       "      <th>Cross-country Collaboration</th>\n",
       "      <th>With US Authors</th>\n",
       "      <th>Both Cross-type and Cross-country Collaboration</th>\n",
       "      <th>IEEE Title</th>\n",
       "      <th>Citation Counts on Google Scholar</th>\n",
       "      <th>Award</th>\n",
       "      <th>Award Name</th>\n",
       "      <th>Award Track</th>\n",
       "    </tr>\n",
       "  </thead>\n",
       "  <tbody>\n",
       "    <tr>\n",
       "      <th>1041</th>\n",
       "      <td>Vis</td>\n",
       "      <td>1990</td>\n",
       "      <td>Methods for surface interrogation</td>\n",
       "      <td>10.1109/VISUAL.1990.146381</td>\n",
       "      <td>187.0</td>\n",
       "      <td>193, 472</td>\n",
       "      <td>C</td>\n",
       "      <td>1990</td>\n",
       "      <td>1990-10-23</td>\n",
       "      <td>W2103253409</td>\n",
       "      <td>...</td>\n",
       "      <td>3.0</td>\n",
       "      <td>True</td>\n",
       "      <td>True</td>\n",
       "      <td>True</td>\n",
       "      <td>True</td>\n",
       "      <td>Methods for surface interrogation</td>\n",
       "      <td>56.0</td>\n",
       "      <td>False</td>\n",
       "      <td>NaN</td>\n",
       "      <td>NaN</td>\n",
       "    </tr>\n",
       "    <tr>\n",
       "      <th>2153</th>\n",
       "      <td>Vis</td>\n",
       "      <td>1990</td>\n",
       "      <td>A journey into the fourth dimension</td>\n",
       "      <td>10.1109/VISUAL.1990.146385</td>\n",
       "      <td>219.0</td>\n",
       "      <td>229, 476-477</td>\n",
       "      <td>C</td>\n",
       "      <td>1990</td>\n",
       "      <td>1990-10-23</td>\n",
       "      <td>W2149054233</td>\n",
       "      <td>...</td>\n",
       "      <td>2.0</td>\n",
       "      <td>False</td>\n",
       "      <td>True</td>\n",
       "      <td>True</td>\n",
       "      <td>False</td>\n",
       "      <td>A journey into the fourth dimension (visualiza...</td>\n",
       "      <td>16.0</td>\n",
       "      <td>False</td>\n",
       "      <td>NaN</td>\n",
       "      <td>NaN</td>\n",
       "    </tr>\n",
       "  </tbody>\n",
       "</table>\n",
       "<p>2 rows × 27 columns</p>\n",
       "</div>"
      ],
      "text/plain": [
       "     Conference  Year                                Title  \\\n",
       "1041        Vis  1990    Methods for surface interrogation   \n",
       "2153        Vis  1990  A journey into the fourth dimension   \n",
       "\n",
       "                             DOI  FirstPage      LastPage PaperType  \\\n",
       "1041  10.1109/VISUAL.1990.146381      187.0      193, 472         C   \n",
       "2153  10.1109/VISUAL.1990.146385      219.0  229, 476-477         C   \n",
       "\n",
       "      OpenAlex Year OpenAlex Publication Date  OpenAlex ID  ...  \\\n",
       "1041           1990                1990-10-23  W2103253409  ...   \n",
       "2153           1990                1990-10-23  W2149054233  ...   \n",
       "\n",
       "     Number of Authors  Cross-type Collaboration  Cross-country Collaboration  \\\n",
       "1041               3.0                      True                         True   \n",
       "2153               2.0                     False                         True   \n",
       "\n",
       "      With US Authors  Both Cross-type and Cross-country Collaboration  \\\n",
       "1041             True                                             True   \n",
       "2153             True                                            False   \n",
       "\n",
       "                                             IEEE Title  \\\n",
       "1041                  Methods for surface interrogation   \n",
       "2153  A journey into the fourth dimension (visualiza...   \n",
       "\n",
       "      Citation Counts on Google Scholar  Award  Award Name  Award Track  \n",
       "1041                               56.0  False         NaN          NaN  \n",
       "2153                               16.0  False         NaN          NaN  \n",
       "\n",
       "[2 rows x 27 columns]"
      ]
     },
     "execution_count": 139,
     "metadata": {},
     "output_type": "execute_result"
    }
   ],
   "source": [
    "year_1990_cross_country"
   ]
  },
  {
   "cell_type": "code",
   "execution_count": 140,
   "id": "219cc3eb",
   "metadata": {},
   "outputs": [
    {
     "data": {
      "text/html": [
       "<div>\n",
       "<style scoped>\n",
       "    .dataframe tbody tr th:only-of-type {\n",
       "        vertical-align: middle;\n",
       "    }\n",
       "\n",
       "    .dataframe tbody tr th {\n",
       "        vertical-align: top;\n",
       "    }\n",
       "\n",
       "    .dataframe thead th {\n",
       "        text-align: right;\n",
       "    }\n",
       "</style>\n",
       "<table border=\"1\" class=\"dataframe\">\n",
       "  <thead>\n",
       "    <tr style=\"text-align: right;\">\n",
       "      <th></th>\n",
       "      <th>Year</th>\n",
       "      <th>DOI</th>\n",
       "      <th>Title</th>\n",
       "      <th>Number of Authors</th>\n",
       "      <th>Author Position</th>\n",
       "      <th>Author Name</th>\n",
       "      <th>OpenAlex Author ID</th>\n",
       "      <th>Affiliation Name</th>\n",
       "      <th>Affiliation Country Code</th>\n",
       "      <th>Affiliation Type</th>\n",
       "      <th>Binary Type</th>\n",
       "      <th>Cross-type Collaboration</th>\n",
       "      <th>International Collaboration</th>\n",
       "    </tr>\n",
       "  </thead>\n",
       "  <tbody>\n",
       "    <tr>\n",
       "      <th>3611</th>\n",
       "      <td>1990</td>\n",
       "      <td>10.1109/VISUAL.1990.146381</td>\n",
       "      <td>Methods for surface interrogation</td>\n",
       "      <td>3.0</td>\n",
       "      <td>1.0</td>\n",
       "      <td>H. Hagen</td>\n",
       "      <td>https://openalex.org/A2237445521</td>\n",
       "      <td>FB-Informatik, Universität Kaiserslautern</td>\n",
       "      <td>DE</td>\n",
       "      <td>education</td>\n",
       "      <td>education</td>\n",
       "      <td>True</td>\n",
       "      <td>True</td>\n",
       "    </tr>\n",
       "    <tr>\n",
       "      <th>3612</th>\n",
       "      <td>1990</td>\n",
       "      <td>10.1109/VISUAL.1990.146381</td>\n",
       "      <td>Methods for surface interrogation</td>\n",
       "      <td>3.0</td>\n",
       "      <td>2.0</td>\n",
       "      <td>T. Schreiber</td>\n",
       "      <td>https://openalex.org/A2973511128</td>\n",
       "      <td>FB-Informatik, Universität Kaiserslautern</td>\n",
       "      <td>DE</td>\n",
       "      <td>education</td>\n",
       "      <td>education</td>\n",
       "      <td>True</td>\n",
       "      <td>True</td>\n",
       "    </tr>\n",
       "    <tr>\n",
       "      <th>3613</th>\n",
       "      <td>1990</td>\n",
       "      <td>10.1109/VISUAL.1990.146381</td>\n",
       "      <td>Methods for surface interrogation</td>\n",
       "      <td>3.0</td>\n",
       "      <td>3.0</td>\n",
       "      <td>E. Gschwind</td>\n",
       "      <td>https://openalex.org/A1980220218</td>\n",
       "      <td>Mechanical Design Division, Hewlett-Packard GmbH</td>\n",
       "      <td>US</td>\n",
       "      <td>company</td>\n",
       "      <td>non-education</td>\n",
       "      <td>True</td>\n",
       "      <td>True</td>\n",
       "    </tr>\n",
       "    <tr>\n",
       "      <th>7741</th>\n",
       "      <td>1990</td>\n",
       "      <td>10.1109/VISUAL.1990.146385</td>\n",
       "      <td>A journey into the fourth dimension</td>\n",
       "      <td>2.0</td>\n",
       "      <td>1.0</td>\n",
       "      <td>Y. Ke</td>\n",
       "      <td>https://openalex.org/A2684845787</td>\n",
       "      <td>Department of Computational Science, Universit...</td>\n",
       "      <td>CA</td>\n",
       "      <td>education</td>\n",
       "      <td>education</td>\n",
       "      <td>False</td>\n",
       "      <td>True</td>\n",
       "    </tr>\n",
       "    <tr>\n",
       "      <th>7742</th>\n",
       "      <td>1990</td>\n",
       "      <td>10.1109/VISUAL.1990.146385</td>\n",
       "      <td>A journey into the fourth dimension</td>\n",
       "      <td>2.0</td>\n",
       "      <td>2.0</td>\n",
       "      <td>E.S. Panduranga</td>\n",
       "      <td>https://openalex.org/A2302757246</td>\n",
       "      <td>Department of Computer Sciences, Johns Hopkins...</td>\n",
       "      <td>US</td>\n",
       "      <td>education</td>\n",
       "      <td>education</td>\n",
       "      <td>False</td>\n",
       "      <td>True</td>\n",
       "    </tr>\n",
       "  </tbody>\n",
       "</table>\n",
       "</div>"
      ],
      "text/plain": [
       "      Year                         DOI                                Title  \\\n",
       "3611  1990  10.1109/VISUAL.1990.146381    Methods for surface interrogation   \n",
       "3612  1990  10.1109/VISUAL.1990.146381    Methods for surface interrogation   \n",
       "3613  1990  10.1109/VISUAL.1990.146381    Methods for surface interrogation   \n",
       "7741  1990  10.1109/VISUAL.1990.146385  A journey into the fourth dimension   \n",
       "7742  1990  10.1109/VISUAL.1990.146385  A journey into the fourth dimension   \n",
       "\n",
       "      Number of Authors  Author Position      Author Name  \\\n",
       "3611                3.0              1.0         H. Hagen   \n",
       "3612                3.0              2.0     T. Schreiber   \n",
       "3613                3.0              3.0      E. Gschwind   \n",
       "7741                2.0              1.0            Y. Ke   \n",
       "7742                2.0              2.0  E.S. Panduranga   \n",
       "\n",
       "                    OpenAlex Author ID  \\\n",
       "3611  https://openalex.org/A2237445521   \n",
       "3612  https://openalex.org/A2973511128   \n",
       "3613  https://openalex.org/A1980220218   \n",
       "7741  https://openalex.org/A2684845787   \n",
       "7742  https://openalex.org/A2302757246   \n",
       "\n",
       "                                       Affiliation Name  \\\n",
       "3611          FB-Informatik, Universität Kaiserslautern   \n",
       "3612          FB-Informatik, Universität Kaiserslautern   \n",
       "3613   Mechanical Design Division, Hewlett-Packard GmbH   \n",
       "7741  Department of Computational Science, Universit...   \n",
       "7742  Department of Computer Sciences, Johns Hopkins...   \n",
       "\n",
       "     Affiliation Country Code Affiliation Type    Binary Type  \\\n",
       "3611                       DE        education      education   \n",
       "3612                       DE        education      education   \n",
       "3613                       US          company  non-education   \n",
       "7741                       CA        education      education   \n",
       "7742                       US        education      education   \n",
       "\n",
       "      Cross-type Collaboration  International Collaboration  \n",
       "3611                      True                         True  \n",
       "3612                      True                         True  \n",
       "3613                      True                         True  \n",
       "7741                     False                         True  \n",
       "7742                     False                         True  "
      ]
     },
     "execution_count": 140,
     "metadata": {},
     "output_type": "execute_result"
    }
   ],
   "source": [
    "author[author.DOI.isin(year_1990_cross_country.DOI)]"
   ]
  },
  {
   "cell_type": "markdown",
   "id": "c804332e",
   "metadata": {},
   "source": [
    "### Cross country collaboration"
   ]
  },
  {
   "cell_type": "code",
   "execution_count": 141,
   "id": "56b08142",
   "metadata": {},
   "outputs": [],
   "source": [
    "def get_total_and_ratio_by_year(DF, BY, subgroup_par):\n",
    "    tuples = []\n",
    "    for group in DF.groupby(BY):\n",
    "        year = group[0]\n",
    "        total = group[1].shape[0]\n",
    "        for subgroup in group[1].groupby(subgroup_par):\n",
    "            subtype = 'Yes' if subgroup[0] else 'No'\n",
    "            count = subgroup[1].shape[0]\n",
    "            ratio = count / total\n",
    "            tuples.append((year, subtype, count, ratio))\n",
    "    dff = pd.DataFrame(\n",
    "        list(tuples), columns=['year', 'type', 'count', 'ratio']) \n",
    "    return dff"
   ]
  },
  {
   "cell_type": "code",
   "execution_count": 142,
   "id": "4a55728f",
   "metadata": {},
   "outputs": [],
   "source": [
    "cross_country = get_total_and_ratio_by_year(\n",
    "    paper, \n",
    "    'Year',\n",
    "    'Cross-country Collaboration'\n",
    ")"
   ]
  },
  {
   "cell_type": "code",
   "execution_count": 159,
   "id": "576469ee",
   "metadata": {},
   "outputs": [
    {
     "data": {
      "text/html": [
       "<div>\n",
       "<style scoped>\n",
       "    .dataframe tbody tr th:only-of-type {\n",
       "        vertical-align: middle;\n",
       "    }\n",
       "\n",
       "    .dataframe tbody tr th {\n",
       "        vertical-align: top;\n",
       "    }\n",
       "\n",
       "    .dataframe thead th {\n",
       "        text-align: right;\n",
       "    }\n",
       "</style>\n",
       "<table border=\"1\" class=\"dataframe\">\n",
       "  <thead>\n",
       "    <tr style=\"text-align: right;\">\n",
       "      <th></th>\n",
       "      <th>year</th>\n",
       "      <th>type</th>\n",
       "      <th>count</th>\n",
       "      <th>ratio</th>\n",
       "    </tr>\n",
       "  </thead>\n",
       "  <tbody>\n",
       "    <tr>\n",
       "      <th>0</th>\n",
       "      <td>1990</td>\n",
       "      <td>No</td>\n",
       "      <td>50</td>\n",
       "      <td>0.961538</td>\n",
       "    </tr>\n",
       "    <tr>\n",
       "      <th>1</th>\n",
       "      <td>1990</td>\n",
       "      <td>Yes</td>\n",
       "      <td>2</td>\n",
       "      <td>0.038462</td>\n",
       "    </tr>\n",
       "    <tr>\n",
       "      <th>2</th>\n",
       "      <td>1991</td>\n",
       "      <td>No</td>\n",
       "      <td>46</td>\n",
       "      <td>0.958333</td>\n",
       "    </tr>\n",
       "    <tr>\n",
       "      <th>3</th>\n",
       "      <td>1991</td>\n",
       "      <td>Yes</td>\n",
       "      <td>2</td>\n",
       "      <td>0.041667</td>\n",
       "    </tr>\n",
       "    <tr>\n",
       "      <th>4</th>\n",
       "      <td>1992</td>\n",
       "      <td>No</td>\n",
       "      <td>45</td>\n",
       "      <td>0.882353</td>\n",
       "    </tr>\n",
       "  </tbody>\n",
       "</table>\n",
       "</div>"
      ],
      "text/plain": [
       "   year type  count     ratio\n",
       "0  1990   No     50  0.961538\n",
       "1  1990  Yes      2  0.038462\n",
       "2  1991   No     46  0.958333\n",
       "3  1991  Yes      2  0.041667\n",
       "4  1992   No     45  0.882353"
      ]
     },
     "execution_count": 159,
     "metadata": {},
     "output_type": "execute_result"
    }
   ],
   "source": [
    "cross_country.head()"
   ]
  },
  {
   "cell_type": "code",
   "execution_count": 143,
   "id": "24c13637",
   "metadata": {},
   "outputs": [
    {
     "data": {
      "text/html": [
       "<div>\n",
       "<style scoped>\n",
       "    .dataframe tbody tr th:only-of-type {\n",
       "        vertical-align: middle;\n",
       "    }\n",
       "\n",
       "    .dataframe tbody tr th {\n",
       "        vertical-align: top;\n",
       "    }\n",
       "\n",
       "    .dataframe thead th {\n",
       "        text-align: right;\n",
       "    }\n",
       "</style>\n",
       "<table border=\"1\" class=\"dataframe\">\n",
       "  <thead>\n",
       "    <tr style=\"text-align: right;\">\n",
       "      <th></th>\n",
       "      <th>year</th>\n",
       "      <th>type</th>\n",
       "      <th>count</th>\n",
       "      <th>ratio</th>\n",
       "    </tr>\n",
       "  </thead>\n",
       "  <tbody>\n",
       "    <tr>\n",
       "      <th>26</th>\n",
       "      <td>2003</td>\n",
       "      <td>No</td>\n",
       "      <td>90</td>\n",
       "      <td>0.882353</td>\n",
       "    </tr>\n",
       "    <tr>\n",
       "      <th>27</th>\n",
       "      <td>2003</td>\n",
       "      <td>Yes</td>\n",
       "      <td>12</td>\n",
       "      <td>0.117647</td>\n",
       "    </tr>\n",
       "    <tr>\n",
       "      <th>28</th>\n",
       "      <td>2004</td>\n",
       "      <td>No</td>\n",
       "      <td>79</td>\n",
       "      <td>0.814433</td>\n",
       "    </tr>\n",
       "    <tr>\n",
       "      <th>29</th>\n",
       "      <td>2004</td>\n",
       "      <td>Yes</td>\n",
       "      <td>18</td>\n",
       "      <td>0.185567</td>\n",
       "    </tr>\n",
       "    <tr>\n",
       "      <th>30</th>\n",
       "      <td>2005</td>\n",
       "      <td>No</td>\n",
       "      <td>96</td>\n",
       "      <td>0.806723</td>\n",
       "    </tr>\n",
       "    <tr>\n",
       "      <th>31</th>\n",
       "      <td>2005</td>\n",
       "      <td>Yes</td>\n",
       "      <td>23</td>\n",
       "      <td>0.193277</td>\n",
       "    </tr>\n",
       "    <tr>\n",
       "      <th>32</th>\n",
       "      <td>2006</td>\n",
       "      <td>No</td>\n",
       "      <td>85</td>\n",
       "      <td>0.752212</td>\n",
       "    </tr>\n",
       "    <tr>\n",
       "      <th>33</th>\n",
       "      <td>2006</td>\n",
       "      <td>Yes</td>\n",
       "      <td>28</td>\n",
       "      <td>0.247788</td>\n",
       "    </tr>\n",
       "    <tr>\n",
       "      <th>44</th>\n",
       "      <td>2012</td>\n",
       "      <td>No</td>\n",
       "      <td>75</td>\n",
       "      <td>0.646552</td>\n",
       "    </tr>\n",
       "    <tr>\n",
       "      <th>45</th>\n",
       "      <td>2012</td>\n",
       "      <td>Yes</td>\n",
       "      <td>41</td>\n",
       "      <td>0.353448</td>\n",
       "    </tr>\n",
       "    <tr>\n",
       "      <th>46</th>\n",
       "      <td>2013</td>\n",
       "      <td>No</td>\n",
       "      <td>75</td>\n",
       "      <td>0.742574</td>\n",
       "    </tr>\n",
       "    <tr>\n",
       "      <th>47</th>\n",
       "      <td>2013</td>\n",
       "      <td>Yes</td>\n",
       "      <td>26</td>\n",
       "      <td>0.257426</td>\n",
       "    </tr>\n",
       "    <tr>\n",
       "      <th>48</th>\n",
       "      <td>2014</td>\n",
       "      <td>No</td>\n",
       "      <td>84</td>\n",
       "      <td>0.636364</td>\n",
       "    </tr>\n",
       "    <tr>\n",
       "      <th>49</th>\n",
       "      <td>2014</td>\n",
       "      <td>Yes</td>\n",
       "      <td>48</td>\n",
       "      <td>0.363636</td>\n",
       "    </tr>\n",
       "    <tr>\n",
       "      <th>62</th>\n",
       "      <td>2021</td>\n",
       "      <td>No</td>\n",
       "      <td>93</td>\n",
       "      <td>0.550296</td>\n",
       "    </tr>\n",
       "    <tr>\n",
       "      <th>63</th>\n",
       "      <td>2021</td>\n",
       "      <td>Yes</td>\n",
       "      <td>76</td>\n",
       "      <td>0.449704</td>\n",
       "    </tr>\n",
       "  </tbody>\n",
       "</table>\n",
       "</div>"
      ],
      "text/plain": [
       "    year type  count     ratio\n",
       "26  2003   No     90  0.882353\n",
       "27  2003  Yes     12  0.117647\n",
       "28  2004   No     79  0.814433\n",
       "29  2004  Yes     18  0.185567\n",
       "30  2005   No     96  0.806723\n",
       "31  2005  Yes     23  0.193277\n",
       "32  2006   No     85  0.752212\n",
       "33  2006  Yes     28  0.247788\n",
       "44  2012   No     75  0.646552\n",
       "45  2012  Yes     41  0.353448\n",
       "46  2013   No     75  0.742574\n",
       "47  2013  Yes     26  0.257426\n",
       "48  2014   No     84  0.636364\n",
       "49  2014  Yes     48  0.363636\n",
       "62  2021   No     93  0.550296\n",
       "63  2021  Yes     76  0.449704"
      ]
     },
     "execution_count": 143,
     "metadata": {},
     "output_type": "execute_result"
    }
   ],
   "source": [
    "cross_country[cross_country.year.isin([2004, 2005, 2006, 2003, 2013, 2012, 2014, 2021])]"
   ]
  },
  {
   "cell_type": "markdown",
   "id": "7919afca",
   "metadata": {},
   "source": [
    "#### Author chord"
   ]
  },
  {
   "cell_type": "code",
   "execution_count": 160,
   "id": "406cc349",
   "metadata": {},
   "outputs": [],
   "source": [
    "author_chord = pd.read_csv('../data/plots/author_chord_df.csv')\n",
    "node1, node2 = author_chord.source, author_chord.target\n",
    "unique_cntry = list(set(node1.append(node2).tolist()))"
   ]
  },
  {
   "cell_type": "code",
   "execution_count": 161,
   "id": "1b939b92",
   "metadata": {},
   "outputs": [
    {
     "data": {
      "text/plain": [
       "1221"
      ]
     },
     "execution_count": 161,
     "metadata": {},
     "output_type": "execute_result"
    }
   ],
   "source": [
    "author_chord.value.sum()"
   ]
  },
  {
   "cell_type": "code",
   "execution_count": 162,
   "id": "c345c76e",
   "metadata": {},
   "outputs": [
    {
     "data": {
      "text/html": [
       "<div>\n",
       "<style scoped>\n",
       "    .dataframe tbody tr th:only-of-type {\n",
       "        vertical-align: middle;\n",
       "    }\n",
       "\n",
       "    .dataframe tbody tr th {\n",
       "        vertical-align: top;\n",
       "    }\n",
       "\n",
       "    .dataframe thead th {\n",
       "        text-align: right;\n",
       "    }\n",
       "</style>\n",
       "<table border=\"1\" class=\"dataframe\">\n",
       "  <thead>\n",
       "    <tr style=\"text-align: right;\">\n",
       "      <th></th>\n",
       "      <th>source</th>\n",
       "      <th>target</th>\n",
       "      <th>value</th>\n",
       "    </tr>\n",
       "  </thead>\n",
       "  <tbody>\n",
       "    <tr>\n",
       "      <th>0</th>\n",
       "      <td>CN</td>\n",
       "      <td>US</td>\n",
       "      <td>116</td>\n",
       "    </tr>\n",
       "    <tr>\n",
       "      <th>1</th>\n",
       "      <td>DE</td>\n",
       "      <td>US</td>\n",
       "      <td>114</td>\n",
       "    </tr>\n",
       "    <tr>\n",
       "      <th>2</th>\n",
       "      <td>CA</td>\n",
       "      <td>US</td>\n",
       "      <td>78</td>\n",
       "    </tr>\n",
       "    <tr>\n",
       "      <th>3</th>\n",
       "      <td>FR</td>\n",
       "      <td>US</td>\n",
       "      <td>59</td>\n",
       "    </tr>\n",
       "    <tr>\n",
       "      <th>4</th>\n",
       "      <td>GB</td>\n",
       "      <td>US</td>\n",
       "      <td>54</td>\n",
       "    </tr>\n",
       "  </tbody>\n",
       "</table>\n",
       "</div>"
      ],
      "text/plain": [
       "  source target  value\n",
       "0     CN     US    116\n",
       "1     DE     US    114\n",
       "2     CA     US     78\n",
       "3     FR     US     59\n",
       "4     GB     US     54"
      ]
     },
     "execution_count": 162,
     "metadata": {},
     "output_type": "execute_result"
    }
   ],
   "source": [
    "author_chord.head()"
   ]
  },
  {
   "cell_type": "code",
   "execution_count": 163,
   "id": "72f07485",
   "metadata": {},
   "outputs": [],
   "source": [
    "tuples = []\n",
    "for i in unique_cntry:\n",
    "    dff = author_chord[(author_chord.source == i) | (author_chord.target == i)]\n",
    "    total = dff.value.sum()\n",
    "    tuples.append((i, total))"
   ]
  },
  {
   "cell_type": "code",
   "execution_count": 148,
   "id": "11dce8cd",
   "metadata": {},
   "outputs": [
    {
     "data": {
      "text/plain": [
       "1196"
      ]
     },
     "execution_count": 148,
     "metadata": {},
     "output_type": "execute_result"
    }
   ],
   "source": [
    "collab_df = pd.DataFrame(list(tuples), columns = ['country', 'value']).sort_values(\n",
    "    by=['value'], ascending = False).reset_index(drop=True)\n",
    "collab_df.value.sum()\n",
    "most_active_cntry = collab_df.head(10).country.tolist()\n",
    "# Number of pairs where the most active countries appeared\n",
    "author_chord[(\n",
    "    author_chord.source.isin(most_active_cntry)) | (\n",
    "    author_chord.target.isin(most_active_cntry))].value.sum()\n",
    "# most_active_cntry"
   ]
  },
  {
   "cell_type": "code",
   "execution_count": 164,
   "id": "e1affcf5",
   "metadata": {},
   "outputs": [
    {
     "data": {
      "text/plain": [
       "['US', 'DE', 'CN', 'AT', 'GB', 'FR', 'CA', 'NL', 'CH', 'AU']"
      ]
     },
     "execution_count": 164,
     "metadata": {},
     "output_type": "execute_result"
    }
   ],
   "source": [
    "most_active_cntry"
   ]
  },
  {
   "cell_type": "code",
   "execution_count": 150,
   "id": "344840c6",
   "metadata": {},
   "outputs": [
    {
     "data": {
      "text/plain": [
       "0.9795249795249795"
      ]
     },
     "execution_count": 150,
     "metadata": {},
     "output_type": "execute_result"
    }
   ],
   "source": [
    "1196/1221"
   ]
  },
  {
   "cell_type": "code",
   "execution_count": 149,
   "id": "83ff6383",
   "metadata": {},
   "outputs": [
    {
     "data": {
      "text/plain": [
       "845"
      ]
     },
     "execution_count": 149,
     "metadata": {},
     "output_type": "execute_result"
    }
   ],
   "source": [
    "# Number of pairs made up by collaborations between most active countries\n",
    "author_chord[(\n",
    "    author_chord.source.isin(most_active_cntry)) & (\n",
    "    author_chord.target.isin(most_active_cntry))].value.sum()"
   ]
  },
  {
   "cell_type": "code",
   "execution_count": 151,
   "id": "38ea4da7",
   "metadata": {},
   "outputs": [
    {
     "data": {
      "text/plain": [
       "0.6920556920556921"
      ]
     },
     "execution_count": 151,
     "metadata": {},
     "output_type": "execute_result"
    }
   ],
   "source": [
    "845/1221"
   ]
  },
  {
   "cell_type": "markdown",
   "id": "f5cad371",
   "metadata": {},
   "source": [
    "### Cross-type collaboration"
   ]
  },
  {
   "cell_type": "code",
   "execution_count": 154,
   "id": "03c91bed",
   "metadata": {},
   "outputs": [
    {
     "data": {
      "text/html": [
       "<div>\n",
       "<style scoped>\n",
       "    .dataframe tbody tr th:only-of-type {\n",
       "        vertical-align: middle;\n",
       "    }\n",
       "\n",
       "    .dataframe tbody tr th {\n",
       "        vertical-align: top;\n",
       "    }\n",
       "\n",
       "    .dataframe thead th {\n",
       "        text-align: right;\n",
       "    }\n",
       "</style>\n",
       "<table border=\"1\" class=\"dataframe\">\n",
       "  <thead>\n",
       "    <tr style=\"text-align: right;\">\n",
       "      <th></th>\n",
       "      <th>year</th>\n",
       "      <th>type</th>\n",
       "      <th>count</th>\n",
       "      <th>ratio</th>\n",
       "    </tr>\n",
       "  </thead>\n",
       "  <tbody>\n",
       "    <tr>\n",
       "      <th>0</th>\n",
       "      <td>1990</td>\n",
       "      <td>No</td>\n",
       "      <td>47</td>\n",
       "      <td>0.903846</td>\n",
       "    </tr>\n",
       "    <tr>\n",
       "      <th>1</th>\n",
       "      <td>1990</td>\n",
       "      <td>Yes</td>\n",
       "      <td>5</td>\n",
       "      <td>0.096154</td>\n",
       "    </tr>\n",
       "    <tr>\n",
       "      <th>2</th>\n",
       "      <td>1991</td>\n",
       "      <td>No</td>\n",
       "      <td>40</td>\n",
       "      <td>0.833333</td>\n",
       "    </tr>\n",
       "    <tr>\n",
       "      <th>3</th>\n",
       "      <td>1991</td>\n",
       "      <td>Yes</td>\n",
       "      <td>8</td>\n",
       "      <td>0.166667</td>\n",
       "    </tr>\n",
       "    <tr>\n",
       "      <th>4</th>\n",
       "      <td>1992</td>\n",
       "      <td>No</td>\n",
       "      <td>39</td>\n",
       "      <td>0.764706</td>\n",
       "    </tr>\n",
       "  </tbody>\n",
       "</table>\n",
       "</div>"
      ],
      "text/plain": [
       "   year type  count     ratio\n",
       "0  1990   No     47  0.903846\n",
       "1  1990  Yes      5  0.096154\n",
       "2  1991   No     40  0.833333\n",
       "3  1991  Yes      8  0.166667\n",
       "4  1992   No     39  0.764706"
      ]
     },
     "execution_count": 154,
     "metadata": {},
     "output_type": "execute_result"
    }
   ],
   "source": [
    "cross_type = get_total_and_ratio_by_year(\n",
    "    paper, \n",
    "    'Year',\n",
    "    'Cross-type Collaboration'\n",
    ")\n",
    "cross_type.head()"
   ]
  },
  {
   "cell_type": "code",
   "execution_count": 158,
   "id": "fd56c478",
   "metadata": {},
   "outputs": [
    {
     "data": {
      "text/html": [
       "<div>\n",
       "<style scoped>\n",
       "    .dataframe tbody tr th:only-of-type {\n",
       "        vertical-align: middle;\n",
       "    }\n",
       "\n",
       "    .dataframe tbody tr th {\n",
       "        vertical-align: top;\n",
       "    }\n",
       "\n",
       "    .dataframe thead th {\n",
       "        text-align: right;\n",
       "    }\n",
       "</style>\n",
       "<table border=\"1\" class=\"dataframe\">\n",
       "  <thead>\n",
       "    <tr style=\"text-align: right;\">\n",
       "      <th></th>\n",
       "      <th>year</th>\n",
       "      <th>type</th>\n",
       "      <th>count</th>\n",
       "      <th>ratio</th>\n",
       "    </tr>\n",
       "  </thead>\n",
       "  <tbody>\n",
       "    <tr>\n",
       "      <th>32</th>\n",
       "      <td>2006</td>\n",
       "      <td>No</td>\n",
       "      <td>93</td>\n",
       "      <td>0.823009</td>\n",
       "    </tr>\n",
       "    <tr>\n",
       "      <th>33</th>\n",
       "      <td>2006</td>\n",
       "      <td>Yes</td>\n",
       "      <td>20</td>\n",
       "      <td>0.176991</td>\n",
       "    </tr>\n",
       "    <tr>\n",
       "      <th>34</th>\n",
       "      <td>2007</td>\n",
       "      <td>No</td>\n",
       "      <td>72</td>\n",
       "      <td>0.672897</td>\n",
       "    </tr>\n",
       "    <tr>\n",
       "      <th>35</th>\n",
       "      <td>2007</td>\n",
       "      <td>Yes</td>\n",
       "      <td>35</td>\n",
       "      <td>0.327103</td>\n",
       "    </tr>\n",
       "    <tr>\n",
       "      <th>56</th>\n",
       "      <td>2018</td>\n",
       "      <td>No</td>\n",
       "      <td>72</td>\n",
       "      <td>0.566929</td>\n",
       "    </tr>\n",
       "    <tr>\n",
       "      <th>57</th>\n",
       "      <td>2018</td>\n",
       "      <td>Yes</td>\n",
       "      <td>55</td>\n",
       "      <td>0.433071</td>\n",
       "    </tr>\n",
       "    <tr>\n",
       "      <th>62</th>\n",
       "      <td>2021</td>\n",
       "      <td>No</td>\n",
       "      <td>119</td>\n",
       "      <td>0.704142</td>\n",
       "    </tr>\n",
       "    <tr>\n",
       "      <th>63</th>\n",
       "      <td>2021</td>\n",
       "      <td>Yes</td>\n",
       "      <td>50</td>\n",
       "      <td>0.295858</td>\n",
       "    </tr>\n",
       "  </tbody>\n",
       "</table>\n",
       "</div>"
      ],
      "text/plain": [
       "    year type  count     ratio\n",
       "32  2006   No     93  0.823009\n",
       "33  2006  Yes     20  0.176991\n",
       "34  2007   No     72  0.672897\n",
       "35  2007  Yes     35  0.327103\n",
       "56  2018   No     72  0.566929\n",
       "57  2018  Yes     55  0.433071\n",
       "62  2021   No    119  0.704142\n",
       "63  2021  Yes     50  0.295858"
      ]
     },
     "execution_count": 158,
     "metadata": {},
     "output_type": "execute_result"
    }
   ],
   "source": [
    "cross_type[cross_type.year.isin([2006, 2007, 2018, 2021])]"
   ]
  },
  {
   "cell_type": "code",
   "execution_count": null,
   "id": "652fe9e3",
   "metadata": {},
   "outputs": [],
   "source": []
  }
 ],
 "metadata": {
  "kernelspec": {
   "display_name": "Python 3 (ipykernel)",
   "language": "python",
   "name": "python3"
  },
  "language_info": {
   "codemirror_mode": {
    "name": "ipython",
    "version": 3
   },
   "file_extension": ".py",
   "mimetype": "text/x-python",
   "name": "python",
   "nbconvert_exporter": "python",
   "pygments_lexer": "ipython3",
   "version": "3.8.12"
  }
 },
 "nbformat": 4,
 "nbformat_minor": 5
}
