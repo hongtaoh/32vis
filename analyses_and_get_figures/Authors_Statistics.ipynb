{
 "cells": [
  {
   "cell_type": "code",
   "execution_count": 1,
   "id": "00847d0f",
   "metadata": {},
   "outputs": [],
   "source": [
    "import pandas as pd\n",
    "import matplotlib.pyplot as plt\n",
    "from collections import Counter\n",
    "import seaborn as sns\n",
    "import matplotlib\n",
    "font = {'family' : 'Arial',\n",
    "        'weight' : 'normal',\n",
    "        'size'   : 14}\n",
    "matplotlib.rc('font', **font)\n",
    "# matplotlib.rcParams['figure.dpi']= 200\n",
    "import altair as alt\n",
    "pd.set_option('display.max_rows', 500)\n",
    "import numpy as np\n",
    "import plotnine as p9\n",
    "from plotnine import ggplot, geom_point, aes, stat_smooth, facet_wrap\n",
    "from altair_saver import save"
   ]
  },
  {
   "cell_type": "code",
   "execution_count": 2,
   "id": "62c85bb1",
   "metadata": {},
   "outputs": [],
   "source": [
    "author = pd.read_csv('../data/ht_class/ht_cleaned_author_df.csv')\n",
    "paper = pd.read_csv('../data/ht_class/ht_cleaned_paper_df.csv')"
   ]
  },
  {
   "cell_type": "markdown",
   "id": "189d2a63",
   "metadata": {},
   "source": [
    "### Number of countries by year"
   ]
  },
  {
   "cell_type": "code",
   "execution_count": 4,
   "id": "dd7b875d",
   "metadata": {},
   "outputs": [
    {
     "data": {
      "text/plain": [
       "43"
      ]
     },
     "execution_count": 4,
     "metadata": {},
     "output_type": "execute_result"
    }
   ],
   "source": [
    "## How many counries in total\n",
    "countries = author['Affiliation Country Code']\n",
    "len(list(set(countries)))"
   ]
  },
  {
   "cell_type": "code",
   "execution_count": 11,
   "id": "32cedf16",
   "metadata": {},
   "outputs": [
    {
     "data": {
      "text/plain": [
       "101"
      ]
     },
     "execution_count": 11,
     "metadata": {},
     "output_type": "execute_result"
    }
   ],
   "source": [
    "# how many rows miss openalex author id\n",
    "author[author['OpenAlex Author ID'].isnull()].shape[0]"
   ]
  },
  {
   "cell_type": "code",
   "execution_count": 14,
   "id": "4ddbe4be",
   "metadata": {},
   "outputs": [
    {
     "data": {
      "text/plain": [
       "119"
      ]
     },
     "execution_count": 14,
     "metadata": {},
     "output_type": "execute_result"
    }
   ],
   "source": [
    "author[author.Year == 1990].shape[0]"
   ]
  },
  {
   "cell_type": "code",
   "execution_count": 15,
   "id": "ed225e3e",
   "metadata": {},
   "outputs": [
    {
     "data": {
      "text/html": [
       "<div>\n",
       "<style scoped>\n",
       "    .dataframe tbody tr th:only-of-type {\n",
       "        vertical-align: middle;\n",
       "    }\n",
       "\n",
       "    .dataframe tbody tr th {\n",
       "        vertical-align: top;\n",
       "    }\n",
       "\n",
       "    .dataframe thead th {\n",
       "        text-align: right;\n",
       "    }\n",
       "</style>\n",
       "<table border=\"1\" class=\"dataframe\">\n",
       "  <thead>\n",
       "    <tr style=\"text-align: right;\">\n",
       "      <th></th>\n",
       "      <th>Year</th>\n",
       "      <th>DOI</th>\n",
       "      <th>Title</th>\n",
       "      <th>Number of Authors</th>\n",
       "      <th>Author Position</th>\n",
       "      <th>Author Name</th>\n",
       "      <th>OpenAlex Author ID</th>\n",
       "      <th>Affiliation Name</th>\n",
       "      <th>Affiliation Country Code</th>\n",
       "      <th>Affiliation Type</th>\n",
       "      <th>Binary Type</th>\n",
       "      <th>Cross-type Collaboration</th>\n",
       "      <th>International Collaboration</th>\n",
       "    </tr>\n",
       "  </thead>\n",
       "  <tbody>\n",
       "    <tr>\n",
       "      <th>7742</th>\n",
       "      <td>1990</td>\n",
       "      <td>10.1109/VISUAL.1990.146385</td>\n",
       "      <td>A journey into the fourth dimension</td>\n",
       "      <td>2.0</td>\n",
       "      <td>2.0</td>\n",
       "      <td>E.S. Panduranga</td>\n",
       "      <td>https://openalex.org/A2302757246</td>\n",
       "      <td>Department of Computer Sciences, Johns Hopkins...</td>\n",
       "      <td>US</td>\n",
       "      <td>education</td>\n",
       "      <td>education</td>\n",
       "      <td>False</td>\n",
       "      <td>True</td>\n",
       "    </tr>\n",
       "    <tr>\n",
       "      <th>9947</th>\n",
       "      <td>1990</td>\n",
       "      <td>10.1109/VISUAL.1990.146393</td>\n",
       "      <td>A numerical method for rendering spherical ref...</td>\n",
       "      <td>3.0</td>\n",
       "      <td>2.0</td>\n",
       "      <td>E.S. Panduranga</td>\n",
       "      <td>https://openalex.org/A2302757246</td>\n",
       "      <td>Department of Computer Sciences, Johns Hopkins...</td>\n",
       "      <td>US</td>\n",
       "      <td>education</td>\n",
       "      <td>education</td>\n",
       "      <td>False</td>\n",
       "      <td>False</td>\n",
       "    </tr>\n",
       "  </tbody>\n",
       "</table>\n",
       "</div>"
      ],
      "text/plain": [
       "      Year                         DOI  \\\n",
       "7742  1990  10.1109/VISUAL.1990.146385   \n",
       "9947  1990  10.1109/VISUAL.1990.146393   \n",
       "\n",
       "                                                  Title  Number of Authors  \\\n",
       "7742                A journey into the fourth dimension                2.0   \n",
       "9947  A numerical method for rendering spherical ref...                3.0   \n",
       "\n",
       "      Author Position      Author Name                OpenAlex Author ID  \\\n",
       "7742              2.0  E.S. Panduranga  https://openalex.org/A2302757246   \n",
       "9947              2.0  E.S. Panduranga  https://openalex.org/A2302757246   \n",
       "\n",
       "                                       Affiliation Name  \\\n",
       "7742  Department of Computer Sciences, Johns Hopkins...   \n",
       "9947  Department of Computer Sciences, Johns Hopkins...   \n",
       "\n",
       "     Affiliation Country Code Affiliation Type Binary Type  \\\n",
       "7742                       US        education   education   \n",
       "9947                       US        education   education   \n",
       "\n",
       "      Cross-type Collaboration  International Collaboration  \n",
       "7742                     False                         True  \n",
       "9947                     False                        False  "
      ]
     },
     "execution_count": 15,
     "metadata": {},
     "output_type": "execute_result"
    }
   ],
   "source": [
    "year_1990_author = author[author.Year == 1990]\n",
    "author_id_1990 = year_1990_author['OpenAlex Author ID'].tolist()\n",
    "dic = dict(Counter(author_id_1990))\n",
    "twice_1990 = [x for x in dic.keys() if dic[x] > 1][0]\n",
    "year_1990_author[year_1990_author['OpenAlex Author ID'] == twice_1990]\n",
    "# This author appeared twice in 1990"
   ]
  },
  {
   "cell_type": "code",
   "execution_count": 8,
   "id": "cbcb47f3",
   "metadata": {},
   "outputs": [
    {
     "data": {
      "text/html": [
       "<div>\n",
       "<style scoped>\n",
       "    .dataframe tbody tr th:only-of-type {\n",
       "        vertical-align: middle;\n",
       "    }\n",
       "\n",
       "    .dataframe tbody tr th {\n",
       "        vertical-align: top;\n",
       "    }\n",
       "\n",
       "    .dataframe thead th {\n",
       "        text-align: right;\n",
       "    }\n",
       "</style>\n",
       "<table border=\"1\" class=\"dataframe\">\n",
       "  <thead>\n",
       "    <tr style=\"text-align: right;\">\n",
       "      <th></th>\n",
       "      <th>Year</th>\n",
       "      <th>number of participating countries</th>\n",
       "    </tr>\n",
       "  </thead>\n",
       "  <tbody>\n",
       "    <tr>\n",
       "      <th>0</th>\n",
       "      <td>1990</td>\n",
       "      <td>5</td>\n",
       "    </tr>\n",
       "    <tr>\n",
       "      <th>1</th>\n",
       "      <td>1991</td>\n",
       "      <td>7</td>\n",
       "    </tr>\n",
       "    <tr>\n",
       "      <th>2</th>\n",
       "      <td>1992</td>\n",
       "      <td>11</td>\n",
       "    </tr>\n",
       "    <tr>\n",
       "      <th>3</th>\n",
       "      <td>1993</td>\n",
       "      <td>13</td>\n",
       "    </tr>\n",
       "    <tr>\n",
       "      <th>4</th>\n",
       "      <td>1994</td>\n",
       "      <td>9</td>\n",
       "    </tr>\n",
       "  </tbody>\n",
       "</table>\n",
       "</div>"
      ],
      "text/plain": [
       "   Year  number of participating countries\n",
       "0  1990                                  5\n",
       "1  1991                                  7\n",
       "2  1992                                 11\n",
       "3  1993                                 13\n",
       "4  1994                                  9"
      ]
     },
     "execution_count": 8,
     "metadata": {},
     "output_type": "execute_result"
    }
   ],
   "source": [
    "cntry_num_by_year = author.groupby('Year')['Affiliation Country Code'].nunique().reset_index(\n",
    "    name='number of participating countries')\n",
    "cntry_num_by_year.head()"
   ]
  },
  {
   "cell_type": "code",
   "execution_count": 16,
   "id": "9350cb79",
   "metadata": {},
   "outputs": [
    {
     "data": {
      "text/html": [
       "<div>\n",
       "<style scoped>\n",
       "    .dataframe tbody tr th:only-of-type {\n",
       "        vertical-align: middle;\n",
       "    }\n",
       "\n",
       "    .dataframe tbody tr th {\n",
       "        vertical-align: top;\n",
       "    }\n",
       "\n",
       "    .dataframe thead th {\n",
       "        text-align: right;\n",
       "    }\n",
       "</style>\n",
       "<table border=\"1\" class=\"dataframe\">\n",
       "  <thead>\n",
       "    <tr style=\"text-align: right;\">\n",
       "      <th></th>\n",
       "      <th>Year</th>\n",
       "      <th>number of participating countries</th>\n",
       "    </tr>\n",
       "  </thead>\n",
       "  <tbody>\n",
       "    <tr>\n",
       "      <th>27</th>\n",
       "      <td>2017</td>\n",
       "      <td>21</td>\n",
       "    </tr>\n",
       "    <tr>\n",
       "      <th>28</th>\n",
       "      <td>2018</td>\n",
       "      <td>18</td>\n",
       "    </tr>\n",
       "    <tr>\n",
       "      <th>29</th>\n",
       "      <td>2019</td>\n",
       "      <td>19</td>\n",
       "    </tr>\n",
       "    <tr>\n",
       "      <th>30</th>\n",
       "      <td>2020</td>\n",
       "      <td>24</td>\n",
       "    </tr>\n",
       "    <tr>\n",
       "      <th>31</th>\n",
       "      <td>2021</td>\n",
       "      <td>27</td>\n",
       "    </tr>\n",
       "  </tbody>\n",
       "</table>\n",
       "</div>"
      ],
      "text/plain": [
       "    Year  number of participating countries\n",
       "27  2017                                 21\n",
       "28  2018                                 18\n",
       "29  2019                                 19\n",
       "30  2020                                 24\n",
       "31  2021                                 27"
      ]
     },
     "execution_count": 16,
     "metadata": {},
     "output_type": "execute_result"
    }
   ],
   "source": [
    "cntry_num_by_year.tail()"
   ]
  },
  {
   "cell_type": "code",
   "execution_count": 17,
   "id": "433b97ce",
   "metadata": {},
   "outputs": [
    {
     "data": {
      "text/html": [
       "<div>\n",
       "<style scoped>\n",
       "    .dataframe tbody tr th:only-of-type {\n",
       "        vertical-align: middle;\n",
       "    }\n",
       "\n",
       "    .dataframe tbody tr th {\n",
       "        vertical-align: top;\n",
       "    }\n",
       "\n",
       "    .dataframe thead th {\n",
       "        text-align: right;\n",
       "    }\n",
       "</style>\n",
       "<table border=\"1\" class=\"dataframe\">\n",
       "  <thead>\n",
       "    <tr style=\"text-align: right;\">\n",
       "      <th></th>\n",
       "      <th>Year</th>\n",
       "      <th>number of participating countries</th>\n",
       "    </tr>\n",
       "  </thead>\n",
       "  <tbody>\n",
       "    <tr>\n",
       "      <th>4</th>\n",
       "      <td>1994</td>\n",
       "      <td>9</td>\n",
       "    </tr>\n",
       "    <tr>\n",
       "      <th>5</th>\n",
       "      <td>1995</td>\n",
       "      <td>11</td>\n",
       "    </tr>\n",
       "    <tr>\n",
       "      <th>13</th>\n",
       "      <td>2003</td>\n",
       "      <td>15</td>\n",
       "    </tr>\n",
       "    <tr>\n",
       "      <th>14</th>\n",
       "      <td>2004</td>\n",
       "      <td>16</td>\n",
       "    </tr>\n",
       "    <tr>\n",
       "      <th>17</th>\n",
       "      <td>2007</td>\n",
       "      <td>19</td>\n",
       "    </tr>\n",
       "    <tr>\n",
       "      <th>18</th>\n",
       "      <td>2008</td>\n",
       "      <td>21</td>\n",
       "    </tr>\n",
       "  </tbody>\n",
       "</table>\n",
       "</div>"
      ],
      "text/plain": [
       "    Year  number of participating countries\n",
       "4   1994                                  9\n",
       "5   1995                                 11\n",
       "13  2003                                 15\n",
       "14  2004                                 16\n",
       "17  2007                                 19\n",
       "18  2008                                 21"
      ]
     },
     "execution_count": 17,
     "metadata": {},
     "output_type": "execute_result"
    }
   ],
   "source": [
    "cntry_num_by_year[cntry_num_by_year.Year.isin([1994, 1995, 2003, 2004,2007,2008])]"
   ]
  },
  {
   "cell_type": "code",
   "execution_count": 9,
   "id": "ee5f589d",
   "metadata": {},
   "outputs": [],
   "source": [
    "year_1990_author = author[author.Year == 1990]"
   ]
  },
  {
   "cell_type": "code",
   "execution_count": 10,
   "id": "966e4793",
   "metadata": {},
   "outputs": [
    {
     "data": {
      "text/plain": [
       "Counter({'US': 109, 'DE': 4, 'AU': 3, 'CA': 1, 'FR': 2})"
      ]
     },
     "execution_count": 10,
     "metadata": {},
     "output_type": "execute_result"
    }
   ],
   "source": [
    "Counter(year_1990_author['Affiliation Country Code'])"
   ]
  },
  {
   "cell_type": "markdown",
   "id": "2109f857",
   "metadata": {},
   "source": [
    "### Top countries"
   ]
  },
  {
   "cell_type": "code",
   "execution_count": 23,
   "id": "c6b64ce0",
   "metadata": {},
   "outputs": [
    {
     "data": {
      "text/html": [
       "<div>\n",
       "<style scoped>\n",
       "    .dataframe tbody tr th:only-of-type {\n",
       "        vertical-align: middle;\n",
       "    }\n",
       "\n",
       "    .dataframe tbody tr th {\n",
       "        vertical-align: top;\n",
       "    }\n",
       "\n",
       "    .dataframe thead th {\n",
       "        text-align: right;\n",
       "    }\n",
       "</style>\n",
       "<table border=\"1\" class=\"dataframe\">\n",
       "  <thead>\n",
       "    <tr style=\"text-align: right;\">\n",
       "      <th></th>\n",
       "      <th>country</th>\n",
       "      <th>count</th>\n",
       "      <th>ratio</th>\n",
       "    </tr>\n",
       "  </thead>\n",
       "  <tbody>\n",
       "    <tr>\n",
       "      <th>0</th>\n",
       "      <td>US</td>\n",
       "      <td>6596</td>\n",
       "      <td>0.531</td>\n",
       "    </tr>\n",
       "    <tr>\n",
       "      <th>1</th>\n",
       "      <td>DE</td>\n",
       "      <td>1640</td>\n",
       "      <td>0.132</td>\n",
       "    </tr>\n",
       "    <tr>\n",
       "      <th>2</th>\n",
       "      <td>CN</td>\n",
       "      <td>1010</td>\n",
       "      <td>0.081</td>\n",
       "    </tr>\n",
       "    <tr>\n",
       "      <th>3</th>\n",
       "      <td>AT</td>\n",
       "      <td>522</td>\n",
       "      <td>0.042</td>\n",
       "    </tr>\n",
       "    <tr>\n",
       "      <th>4</th>\n",
       "      <td>CA</td>\n",
       "      <td>425</td>\n",
       "      <td>0.034</td>\n",
       "    </tr>\n",
       "  </tbody>\n",
       "</table>\n",
       "</div>"
      ],
      "text/plain": [
       "  country  count  ratio\n",
       "0      US   6596  0.531\n",
       "1      DE   1640  0.132\n",
       "2      CN   1010  0.081\n",
       "3      AT    522  0.042\n",
       "4      CA    425  0.034"
      ]
     },
     "execution_count": 23,
     "metadata": {},
     "output_type": "execute_result"
    }
   ],
   "source": [
    "dic = dict(Counter(author['Affiliation Country Code']).most_common(5))\n",
    "top_five = list(dic.keys())\n",
    "df = pd.DataFrame(dic.items(), columns = ['country', 'count'])\n",
    "df['ratio'] = round(df['count'] / 12413, 3)\n",
    "df"
   ]
  },
  {
   "cell_type": "code",
   "execution_count": 24,
   "id": "1a64104f",
   "metadata": {},
   "outputs": [
    {
     "data": {
      "text/plain": [
       "0.8200000000000001"
      ]
     },
     "execution_count": 24,
     "metadata": {},
     "output_type": "execute_result"
    }
   ],
   "source": [
    "df.ratio.sum()"
   ]
  },
  {
   "cell_type": "code",
   "execution_count": 26,
   "id": "848425c9",
   "metadata": {},
   "outputs": [
    {
     "data": {
      "text/html": [
       "<div>\n",
       "<style scoped>\n",
       "    .dataframe tbody tr th:only-of-type {\n",
       "        vertical-align: middle;\n",
       "    }\n",
       "\n",
       "    .dataframe tbody tr th {\n",
       "        vertical-align: top;\n",
       "    }\n",
       "\n",
       "    .dataframe thead th {\n",
       "        text-align: right;\n",
       "    }\n",
       "</style>\n",
       "<table border=\"1\" class=\"dataframe\">\n",
       "  <thead>\n",
       "    <tr style=\"text-align: right;\">\n",
       "      <th></th>\n",
       "      <th>country</th>\n",
       "      <th>count</th>\n",
       "      <th>ratio</th>\n",
       "    </tr>\n",
       "  </thead>\n",
       "  <tbody>\n",
       "    <tr>\n",
       "      <th>0</th>\n",
       "      <td>US</td>\n",
       "      <td>6596</td>\n",
       "      <td>0.531</td>\n",
       "    </tr>\n",
       "    <tr>\n",
       "      <th>1</th>\n",
       "      <td>DE</td>\n",
       "      <td>1640</td>\n",
       "      <td>0.132</td>\n",
       "    </tr>\n",
       "    <tr>\n",
       "      <th>2</th>\n",
       "      <td>CN</td>\n",
       "      <td>1010</td>\n",
       "      <td>0.081</td>\n",
       "    </tr>\n",
       "    <tr>\n",
       "      <th>3</th>\n",
       "      <td>AT</td>\n",
       "      <td>522</td>\n",
       "      <td>0.042</td>\n",
       "    </tr>\n",
       "    <tr>\n",
       "      <th>4</th>\n",
       "      <td>CA</td>\n",
       "      <td>425</td>\n",
       "      <td>0.034</td>\n",
       "    </tr>\n",
       "    <tr>\n",
       "      <th>5</th>\n",
       "      <td>GB</td>\n",
       "      <td>410</td>\n",
       "      <td>0.033</td>\n",
       "    </tr>\n",
       "    <tr>\n",
       "      <th>6</th>\n",
       "      <td>NL</td>\n",
       "      <td>307</td>\n",
       "      <td>0.025</td>\n",
       "    </tr>\n",
       "    <tr>\n",
       "      <th>7</th>\n",
       "      <td>FR</td>\n",
       "      <td>304</td>\n",
       "      <td>0.024</td>\n",
       "    </tr>\n",
       "    <tr>\n",
       "      <th>8</th>\n",
       "      <td>CH</td>\n",
       "      <td>160</td>\n",
       "      <td>0.013</td>\n",
       "    </tr>\n",
       "    <tr>\n",
       "      <th>9</th>\n",
       "      <td>AU</td>\n",
       "      <td>145</td>\n",
       "      <td>0.012</td>\n",
       "    </tr>\n",
       "  </tbody>\n",
       "</table>\n",
       "</div>"
      ],
      "text/plain": [
       "  country  count  ratio\n",
       "0      US   6596  0.531\n",
       "1      DE   1640  0.132\n",
       "2      CN   1010  0.081\n",
       "3      AT    522  0.042\n",
       "4      CA    425  0.034\n",
       "5      GB    410  0.033\n",
       "6      NL    307  0.025\n",
       "7      FR    304  0.024\n",
       "8      CH    160  0.013\n",
       "9      AU    145  0.012"
      ]
     },
     "execution_count": 26,
     "metadata": {},
     "output_type": "execute_result"
    }
   ],
   "source": [
    "dic = dict(Counter(author['Affiliation Country Code']).most_common(10))\n",
    "top_10 = list(dic.keys())\n",
    "df = pd.DataFrame(dic.items(), columns = ['country', 'count'])\n",
    "df['ratio'] = round(df['count'] / 12413, 3)\n",
    "df"
   ]
  },
  {
   "cell_type": "code",
   "execution_count": 27,
   "id": "fe7f0f91",
   "metadata": {},
   "outputs": [
    {
     "data": {
      "text/plain": [
       "0.927"
      ]
     },
     "execution_count": 27,
     "metadata": {},
     "output_type": "execute_result"
    }
   ],
   "source": [
    "df.ratio.sum()"
   ]
  },
  {
   "cell_type": "markdown",
   "id": "327e215a",
   "metadata": {},
   "source": [
    "#### Redistributions"
   ]
  },
  {
   "cell_type": "code",
   "execution_count": 28,
   "id": "51b0cfed",
   "metadata": {},
   "outputs": [],
   "source": [
    "# prepare for timeseries plot\n",
    "cntry_ts_prop = []\n",
    "for group in author.groupby('Year'):\n",
    "    year = group[0]\n",
    "    year_total = group[1].shape[0]\n",
    "    group[1]['cntry new'] = group[1]['Affiliation Country Code'].apply(\n",
    "        lambda x: x if x in top_five else 'Other'\n",
    "    )\n",
    "    for cntry_group in group[1].groupby('cntry new'):\n",
    "        cntry_code = cntry_group[0]\n",
    "        cntry_year_total = cntry_group[1].shape[0]\n",
    "        cntry_prop = cntry_year_total / year_total\n",
    "        cntry_ts_prop.append((year, cntry_code, cntry_year_total, cntry_prop))"
   ]
  },
  {
   "cell_type": "code",
   "execution_count": 29,
   "id": "f44c847d",
   "metadata": {},
   "outputs": [
    {
     "data": {
      "text/html": [
       "<div>\n",
       "<style scoped>\n",
       "    .dataframe tbody tr th:only-of-type {\n",
       "        vertical-align: middle;\n",
       "    }\n",
       "\n",
       "    .dataframe tbody tr th {\n",
       "        vertical-align: top;\n",
       "    }\n",
       "\n",
       "    .dataframe thead th {\n",
       "        text-align: right;\n",
       "    }\n",
       "</style>\n",
       "<table border=\"1\" class=\"dataframe\">\n",
       "  <thead>\n",
       "    <tr style=\"text-align: right;\">\n",
       "      <th></th>\n",
       "      <th>year</th>\n",
       "      <th>country</th>\n",
       "      <th>year total</th>\n",
       "      <th>ratio</th>\n",
       "    </tr>\n",
       "  </thead>\n",
       "  <tbody>\n",
       "    <tr>\n",
       "      <th>0</th>\n",
       "      <td>1990</td>\n",
       "      <td>Canada</td>\n",
       "      <td>1</td>\n",
       "      <td>0.008403</td>\n",
       "    </tr>\n",
       "    <tr>\n",
       "      <th>1</th>\n",
       "      <td>1990</td>\n",
       "      <td>Germany</td>\n",
       "      <td>4</td>\n",
       "      <td>0.033613</td>\n",
       "    </tr>\n",
       "    <tr>\n",
       "      <th>2</th>\n",
       "      <td>1990</td>\n",
       "      <td>Other</td>\n",
       "      <td>5</td>\n",
       "      <td>0.042017</td>\n",
       "    </tr>\n",
       "    <tr>\n",
       "      <th>3</th>\n",
       "      <td>1990</td>\n",
       "      <td>US</td>\n",
       "      <td>109</td>\n",
       "      <td>0.915966</td>\n",
       "    </tr>\n",
       "    <tr>\n",
       "      <th>4</th>\n",
       "      <td>1991</td>\n",
       "      <td>Germany</td>\n",
       "      <td>3</td>\n",
       "      <td>0.024194</td>\n",
       "    </tr>\n",
       "  </tbody>\n",
       "</table>\n",
       "</div>"
      ],
      "text/plain": [
       "   year  country  year total     ratio\n",
       "0  1990   Canada           1  0.008403\n",
       "1  1990  Germany           4  0.033613\n",
       "2  1990    Other           5  0.042017\n",
       "3  1990       US         109  0.915966\n",
       "4  1991  Germany           3  0.024194"
      ]
     },
     "execution_count": 29,
     "metadata": {},
     "output_type": "execute_result"
    }
   ],
   "source": [
    "cntry_ts_prop_df = pd.DataFrame(\n",
    "    list(cntry_ts_prop), columns=['year', 'country', 'year total', 'ratio']) \n",
    "cntry_ts_prop_df.replace({'CA': 'Canada',\n",
    "                          'DE': 'Germany',\n",
    "                          'CN': 'China',\n",
    "                          'AT': 'Austria',\n",
    "                         }, inplace = True)\n",
    "cntry_ts_prop_df.head()"
   ]
  },
  {
   "cell_type": "code",
   "execution_count": 31,
   "id": "0de7023d",
   "metadata": {},
   "outputs": [
    {
     "data": {
      "text/html": [
       "<div>\n",
       "<style scoped>\n",
       "    .dataframe tbody tr th:only-of-type {\n",
       "        vertical-align: middle;\n",
       "    }\n",
       "\n",
       "    .dataframe tbody tr th {\n",
       "        vertical-align: top;\n",
       "    }\n",
       "\n",
       "    .dataframe thead th {\n",
       "        text-align: right;\n",
       "    }\n",
       "</style>\n",
       "<table border=\"1\" class=\"dataframe\">\n",
       "  <thead>\n",
       "    <tr style=\"text-align: right;\">\n",
       "      <th></th>\n",
       "      <th>year</th>\n",
       "      <th>country</th>\n",
       "      <th>year total</th>\n",
       "      <th>ratio</th>\n",
       "    </tr>\n",
       "  </thead>\n",
       "  <tbody>\n",
       "    <tr>\n",
       "      <th>136</th>\n",
       "      <td>2016</td>\n",
       "      <td>Austria</td>\n",
       "      <td>23</td>\n",
       "      <td>0.042672</td>\n",
       "    </tr>\n",
       "    <tr>\n",
       "      <th>137</th>\n",
       "      <td>2016</td>\n",
       "      <td>Canada</td>\n",
       "      <td>20</td>\n",
       "      <td>0.037106</td>\n",
       "    </tr>\n",
       "    <tr>\n",
       "      <th>138</th>\n",
       "      <td>2016</td>\n",
       "      <td>China</td>\n",
       "      <td>55</td>\n",
       "      <td>0.102041</td>\n",
       "    </tr>\n",
       "    <tr>\n",
       "      <th>139</th>\n",
       "      <td>2016</td>\n",
       "      <td>Germany</td>\n",
       "      <td>70</td>\n",
       "      <td>0.129870</td>\n",
       "    </tr>\n",
       "    <tr>\n",
       "      <th>140</th>\n",
       "      <td>2016</td>\n",
       "      <td>Other</td>\n",
       "      <td>128</td>\n",
       "      <td>0.237477</td>\n",
       "    </tr>\n",
       "    <tr>\n",
       "      <th>141</th>\n",
       "      <td>2016</td>\n",
       "      <td>US</td>\n",
       "      <td>243</td>\n",
       "      <td>0.450835</td>\n",
       "    </tr>\n",
       "    <tr>\n",
       "      <th>142</th>\n",
       "      <td>2017</td>\n",
       "      <td>Austria</td>\n",
       "      <td>44</td>\n",
       "      <td>0.081633</td>\n",
       "    </tr>\n",
       "    <tr>\n",
       "      <th>143</th>\n",
       "      <td>2017</td>\n",
       "      <td>Canada</td>\n",
       "      <td>16</td>\n",
       "      <td>0.029685</td>\n",
       "    </tr>\n",
       "    <tr>\n",
       "      <th>144</th>\n",
       "      <td>2017</td>\n",
       "      <td>China</td>\n",
       "      <td>72</td>\n",
       "      <td>0.133581</td>\n",
       "    </tr>\n",
       "    <tr>\n",
       "      <th>145</th>\n",
       "      <td>2017</td>\n",
       "      <td>Germany</td>\n",
       "      <td>70</td>\n",
       "      <td>0.129870</td>\n",
       "    </tr>\n",
       "    <tr>\n",
       "      <th>146</th>\n",
       "      <td>2017</td>\n",
       "      <td>Other</td>\n",
       "      <td>99</td>\n",
       "      <td>0.183673</td>\n",
       "    </tr>\n",
       "    <tr>\n",
       "      <th>147</th>\n",
       "      <td>2017</td>\n",
       "      <td>US</td>\n",
       "      <td>238</td>\n",
       "      <td>0.441558</td>\n",
       "    </tr>\n",
       "  </tbody>\n",
       "</table>\n",
       "</div>"
      ],
      "text/plain": [
       "     year  country  year total     ratio\n",
       "136  2016  Austria          23  0.042672\n",
       "137  2016   Canada          20  0.037106\n",
       "138  2016    China          55  0.102041\n",
       "139  2016  Germany          70  0.129870\n",
       "140  2016    Other         128  0.237477\n",
       "141  2016       US         243  0.450835\n",
       "142  2017  Austria          44  0.081633\n",
       "143  2017   Canada          16  0.029685\n",
       "144  2017    China          72  0.133581\n",
       "145  2017  Germany          70  0.129870\n",
       "146  2017    Other          99  0.183673\n",
       "147  2017       US         238  0.441558"
      ]
     },
     "execution_count": 31,
     "metadata": {},
     "output_type": "execute_result"
    }
   ],
   "source": [
    "cntry_ts_prop_df[cntry_ts_prop_df.year.isin([2016, 2017])]"
   ]
  },
  {
   "cell_type": "markdown",
   "id": "48f3079b",
   "metadata": {},
   "source": [
    "#### Addressing the issue of Hong Kong"
   ]
  },
  {
   "cell_type": "code",
   "execution_count": 32,
   "id": "8ee769f6",
   "metadata": {},
   "outputs": [
    {
     "data": {
      "text/plain": [
       "1010"
      ]
     },
     "execution_count": 32,
     "metadata": {},
     "output_type": "execute_result"
    }
   ],
   "source": [
    "author[author['Affiliation Country Code'] == 'CN'].shape[0]"
   ]
  },
  {
   "cell_type": "code",
   "execution_count": 33,
   "id": "c564c265",
   "metadata": {},
   "outputs": [],
   "source": [
    "def check_substring(substring_list, string_to_check):\n",
    "    true_false_list = []\n",
    "    for i in substring_list:\n",
    "        true_false_list.append(i in string_to_check)\n",
    "    return True in true_false_list"
   ]
  },
  {
   "cell_type": "code",
   "execution_count": 34,
   "id": "b6516b02",
   "metadata": {},
   "outputs": [],
   "source": [
    "hk_list = ['Hong Kong', 'hong kong', 'HK', 'hk']"
   ]
  },
  {
   "cell_type": "code",
   "execution_count": 35,
   "id": "f95f0c39",
   "metadata": {},
   "outputs": [],
   "source": [
    "author['Country Code New'] = author.apply(\n",
    "    lambda row: 'HK' if check_substring(\n",
    "        hk_list, row['Affiliation Name']) else row['Affiliation Country Code'], axis = 1\n",
    ")"
   ]
  },
  {
   "cell_type": "code",
   "execution_count": 37,
   "id": "540c2a6c",
   "metadata": {},
   "outputs": [
    {
     "data": {
      "text/plain": [
       "258"
      ]
     },
     "execution_count": 37,
     "metadata": {},
     "output_type": "execute_result"
    }
   ],
   "source": [
    "# 257 out of 1007 authors coded as coming from CN actually came from Hong Kong\n",
    "# One author actually came from Hong Kong was mislabelled as coming from YE\n",
    "hk_author = author[author['Country Code New'] == 'HK']\n",
    "hk_author.shape[0]"
   ]
  },
  {
   "cell_type": "code",
   "execution_count": 38,
   "id": "90c5ec8f",
   "metadata": {},
   "outputs": [
    {
     "data": {
      "text/plain": [
       "<AxesSubplot:xlabel='Year', ylabel='count'>"
      ]
     },
     "execution_count": 38,
     "metadata": {},
     "output_type": "execute_result"
    },
    {
     "data": {
      "image/png": "[encoded data removed]",
      "text/plain": [
       "<Figure size 432x288 with 1 Axes>"
      ]
     },
     "metadata": {
      "needs_background": "light"
     },
     "output_type": "display_data"
    }
   ],
   "source": [
    "sns.countplot(x = hk_author.Year)"
   ]
  },
  {
   "cell_type": "code",
   "execution_count": 39,
   "id": "acb92316",
   "metadata": {},
   "outputs": [
    {
     "data": {
      "text/html": [
       "<div>\n",
       "<style scoped>\n",
       "    .dataframe tbody tr th:only-of-type {\n",
       "        vertical-align: middle;\n",
       "    }\n",
       "\n",
       "    .dataframe tbody tr th {\n",
       "        vertical-align: top;\n",
       "    }\n",
       "\n",
       "    .dataframe thead th {\n",
       "        text-align: right;\n",
       "    }\n",
       "</style>\n",
       "<table border=\"1\" class=\"dataframe\">\n",
       "  <thead>\n",
       "    <tr style=\"text-align: right;\">\n",
       "      <th></th>\n",
       "      <th>country</th>\n",
       "      <th>count</th>\n",
       "      <th>ratio</th>\n",
       "    </tr>\n",
       "  </thead>\n",
       "  <tbody>\n",
       "    <tr>\n",
       "      <th>0</th>\n",
       "      <td>US</td>\n",
       "      <td>6596</td>\n",
       "      <td>0.531</td>\n",
       "    </tr>\n",
       "    <tr>\n",
       "      <th>1</th>\n",
       "      <td>DE</td>\n",
       "      <td>1640</td>\n",
       "      <td>0.132</td>\n",
       "    </tr>\n",
       "    <tr>\n",
       "      <th>2</th>\n",
       "      <td>CN</td>\n",
       "      <td>752</td>\n",
       "      <td>0.061</td>\n",
       "    </tr>\n",
       "    <tr>\n",
       "      <th>3</th>\n",
       "      <td>AT</td>\n",
       "      <td>522</td>\n",
       "      <td>0.042</td>\n",
       "    </tr>\n",
       "    <tr>\n",
       "      <th>4</th>\n",
       "      <td>CA</td>\n",
       "      <td>425</td>\n",
       "      <td>0.034</td>\n",
       "    </tr>\n",
       "  </tbody>\n",
       "</table>\n",
       "</div>"
      ],
      "text/plain": [
       "  country  count  ratio\n",
       "0      US   6596  0.531\n",
       "1      DE   1640  0.132\n",
       "2      CN    752  0.061\n",
       "3      AT    522  0.042\n",
       "4      CA    425  0.034"
      ]
     },
     "execution_count": 39,
     "metadata": {},
     "output_type": "execute_result"
    }
   ],
   "source": [
    "dic = dict(Counter(author['Country Code New']).most_common(5))\n",
    "list(dic.keys())\n",
    "df = pd.DataFrame(dic.items(), columns = ['country', 'count'])\n",
    "df['ratio'] = round(df['count'] / 12413, 3)\n",
    "df"
   ]
  },
  {
   "cell_type": "code",
   "execution_count": 40,
   "id": "9b5c4a60",
   "metadata": {},
   "outputs": [
    {
     "data": {
      "text/plain": [
       "0.8003705792314509"
      ]
     },
     "execution_count": 40,
     "metadata": {},
     "output_type": "execute_result"
    }
   ],
   "source": [
    "# top_five = ['US', 'DE', 'CN', 'AT', 'CA']\n",
    "top_five = list(dic.keys())\n",
    "author[author['Country Code New'].isin(top_five)].shape[0] / author.shape[0]"
   ]
  },
  {
   "cell_type": "code",
   "execution_count": 41,
   "id": "a2219413",
   "metadata": {},
   "outputs": [
    {
     "data": {
      "text/plain": [
       "0.9162974301135905"
      ]
     },
     "execution_count": 41,
     "metadata": {},
     "output_type": "execute_result"
    }
   ],
   "source": [
    "### TOP 10\n",
    "dic2 = dict(Counter(author['Country Code New']).most_common(10))\n",
    "list(dic2.keys())\n",
    "# top_ten = ['US', 'DE', 'CN', 'AT', 'CA', 'GB', 'FR', 'NL', 'CH', 'AU']\n",
    "top_ten = list(dic2.keys())\n",
    "author[author['Affiliation Country Code'].isin(top_ten)].shape[0] / author.shape[0]"
   ]
  },
  {
   "cell_type": "code",
   "execution_count": 42,
   "id": "02923d1e",
   "metadata": {},
   "outputs": [],
   "source": [
    "cntry_ts_prop = []\n",
    "for group in author.groupby('Year'):\n",
    "    year = group[0]\n",
    "    year_total = group[1].shape[0]\n",
    "    group[1]['cntry new'] = group[1]['Country Code New'].apply(\n",
    "        lambda x: x if x in top_five else 'Other'\n",
    "    )\n",
    "    for cntry_group in group[1].groupby('cntry new'):\n",
    "        cntry_code = cntry_group[0]\n",
    "        cntry_year_total = cntry_group[1].shape[0]\n",
    "        cntry_prop = cntry_year_total / year_total\n",
    "        cntry_ts_prop.append((year, cntry_code, cntry_year_total, cntry_prop))\n",
    "\n",
    "cntry_ts_prop_df = pd.DataFrame(\n",
    "    list(cntry_ts_prop), columns=['year', 'country', 'year total', 'ratio']) "
   ]
  },
  {
   "cell_type": "code",
   "execution_count": 43,
   "id": "31491e33",
   "metadata": {},
   "outputs": [
    {
     "data": {
      "text/plain": [
       "['AT', 'US', 'CA', 'Other', 'CN', 'DE']"
      ]
     },
     "execution_count": 43,
     "metadata": {},
     "output_type": "execute_result"
    }
   ],
   "source": [
    "list(set(cntry_ts_prop_df.country.tolist()))"
   ]
  },
  {
   "cell_type": "code",
   "execution_count": 45,
   "id": "f6e9123e",
   "metadata": {},
   "outputs": [
    {
     "data": {
      "text/html": [
       "<div>\n",
       "<style scoped>\n",
       "    .dataframe tbody tr th:only-of-type {\n",
       "        vertical-align: middle;\n",
       "    }\n",
       "\n",
       "    .dataframe tbody tr th {\n",
       "        vertical-align: top;\n",
       "    }\n",
       "\n",
       "    .dataframe thead th {\n",
       "        text-align: right;\n",
       "    }\n",
       "</style>\n",
       "<table border=\"1\" class=\"dataframe\">\n",
       "  <thead>\n",
       "    <tr style=\"text-align: right;\">\n",
       "      <th></th>\n",
       "      <th>year</th>\n",
       "      <th>country</th>\n",
       "      <th>year total</th>\n",
       "      <th>ratio</th>\n",
       "    </tr>\n",
       "  </thead>\n",
       "  <tbody>\n",
       "    <tr>\n",
       "      <th>133</th>\n",
       "      <td>2016</td>\n",
       "      <td>AT</td>\n",
       "      <td>23</td>\n",
       "      <td>0.042672</td>\n",
       "    </tr>\n",
       "    <tr>\n",
       "      <th>134</th>\n",
       "      <td>2016</td>\n",
       "      <td>CA</td>\n",
       "      <td>20</td>\n",
       "      <td>0.037106</td>\n",
       "    </tr>\n",
       "    <tr>\n",
       "      <th>135</th>\n",
       "      <td>2016</td>\n",
       "      <td>CN</td>\n",
       "      <td>30</td>\n",
       "      <td>0.055659</td>\n",
       "    </tr>\n",
       "    <tr>\n",
       "      <th>136</th>\n",
       "      <td>2016</td>\n",
       "      <td>DE</td>\n",
       "      <td>70</td>\n",
       "      <td>0.129870</td>\n",
       "    </tr>\n",
       "    <tr>\n",
       "      <th>137</th>\n",
       "      <td>2016</td>\n",
       "      <td>Other</td>\n",
       "      <td>153</td>\n",
       "      <td>0.283859</td>\n",
       "    </tr>\n",
       "    <tr>\n",
       "      <th>138</th>\n",
       "      <td>2016</td>\n",
       "      <td>US</td>\n",
       "      <td>243</td>\n",
       "      <td>0.450835</td>\n",
       "    </tr>\n",
       "    <tr>\n",
       "      <th>139</th>\n",
       "      <td>2017</td>\n",
       "      <td>AT</td>\n",
       "      <td>44</td>\n",
       "      <td>0.081633</td>\n",
       "    </tr>\n",
       "    <tr>\n",
       "      <th>140</th>\n",
       "      <td>2017</td>\n",
       "      <td>CA</td>\n",
       "      <td>16</td>\n",
       "      <td>0.029685</td>\n",
       "    </tr>\n",
       "    <tr>\n",
       "      <th>141</th>\n",
       "      <td>2017</td>\n",
       "      <td>CN</td>\n",
       "      <td>51</td>\n",
       "      <td>0.094620</td>\n",
       "    </tr>\n",
       "    <tr>\n",
       "      <th>142</th>\n",
       "      <td>2017</td>\n",
       "      <td>DE</td>\n",
       "      <td>70</td>\n",
       "      <td>0.129870</td>\n",
       "    </tr>\n",
       "    <tr>\n",
       "      <th>143</th>\n",
       "      <td>2017</td>\n",
       "      <td>Other</td>\n",
       "      <td>120</td>\n",
       "      <td>0.222635</td>\n",
       "    </tr>\n",
       "    <tr>\n",
       "      <th>144</th>\n",
       "      <td>2017</td>\n",
       "      <td>US</td>\n",
       "      <td>238</td>\n",
       "      <td>0.441558</td>\n",
       "    </tr>\n",
       "    <tr>\n",
       "      <th>145</th>\n",
       "      <td>2018</td>\n",
       "      <td>AT</td>\n",
       "      <td>14</td>\n",
       "      <td>0.023810</td>\n",
       "    </tr>\n",
       "    <tr>\n",
       "      <th>146</th>\n",
       "      <td>2018</td>\n",
       "      <td>CA</td>\n",
       "      <td>10</td>\n",
       "      <td>0.017007</td>\n",
       "    </tr>\n",
       "    <tr>\n",
       "      <th>147</th>\n",
       "      <td>2018</td>\n",
       "      <td>CN</td>\n",
       "      <td>76</td>\n",
       "      <td>0.129252</td>\n",
       "    </tr>\n",
       "    <tr>\n",
       "      <th>148</th>\n",
       "      <td>2018</td>\n",
       "      <td>DE</td>\n",
       "      <td>82</td>\n",
       "      <td>0.139456</td>\n",
       "    </tr>\n",
       "    <tr>\n",
       "      <th>149</th>\n",
       "      <td>2018</td>\n",
       "      <td>Other</td>\n",
       "      <td>123</td>\n",
       "      <td>0.209184</td>\n",
       "    </tr>\n",
       "    <tr>\n",
       "      <th>150</th>\n",
       "      <td>2018</td>\n",
       "      <td>US</td>\n",
       "      <td>283</td>\n",
       "      <td>0.481293</td>\n",
       "    </tr>\n",
       "    <tr>\n",
       "      <th>151</th>\n",
       "      <td>2019</td>\n",
       "      <td>AT</td>\n",
       "      <td>14</td>\n",
       "      <td>0.020649</td>\n",
       "    </tr>\n",
       "    <tr>\n",
       "      <th>152</th>\n",
       "      <td>2019</td>\n",
       "      <td>CA</td>\n",
       "      <td>26</td>\n",
       "      <td>0.038348</td>\n",
       "    </tr>\n",
       "    <tr>\n",
       "      <th>153</th>\n",
       "      <td>2019</td>\n",
       "      <td>CN</td>\n",
       "      <td>105</td>\n",
       "      <td>0.154867</td>\n",
       "    </tr>\n",
       "    <tr>\n",
       "      <th>154</th>\n",
       "      <td>2019</td>\n",
       "      <td>DE</td>\n",
       "      <td>69</td>\n",
       "      <td>0.101770</td>\n",
       "    </tr>\n",
       "    <tr>\n",
       "      <th>155</th>\n",
       "      <td>2019</td>\n",
       "      <td>Other</td>\n",
       "      <td>136</td>\n",
       "      <td>0.200590</td>\n",
       "    </tr>\n",
       "    <tr>\n",
       "      <th>156</th>\n",
       "      <td>2019</td>\n",
       "      <td>US</td>\n",
       "      <td>328</td>\n",
       "      <td>0.483776</td>\n",
       "    </tr>\n",
       "    <tr>\n",
       "      <th>157</th>\n",
       "      <td>2020</td>\n",
       "      <td>AT</td>\n",
       "      <td>10</td>\n",
       "      <td>0.012610</td>\n",
       "    </tr>\n",
       "    <tr>\n",
       "      <th>158</th>\n",
       "      <td>2020</td>\n",
       "      <td>CA</td>\n",
       "      <td>16</td>\n",
       "      <td>0.020177</td>\n",
       "    </tr>\n",
       "    <tr>\n",
       "      <th>159</th>\n",
       "      <td>2020</td>\n",
       "      <td>CN</td>\n",
       "      <td>172</td>\n",
       "      <td>0.216898</td>\n",
       "    </tr>\n",
       "    <tr>\n",
       "      <th>160</th>\n",
       "      <td>2020</td>\n",
       "      <td>DE</td>\n",
       "      <td>93</td>\n",
       "      <td>0.117276</td>\n",
       "    </tr>\n",
       "    <tr>\n",
       "      <th>161</th>\n",
       "      <td>2020</td>\n",
       "      <td>Other</td>\n",
       "      <td>193</td>\n",
       "      <td>0.243380</td>\n",
       "    </tr>\n",
       "    <tr>\n",
       "      <th>162</th>\n",
       "      <td>2020</td>\n",
       "      <td>US</td>\n",
       "      <td>309</td>\n",
       "      <td>0.389660</td>\n",
       "    </tr>\n",
       "    <tr>\n",
       "      <th>163</th>\n",
       "      <td>2021</td>\n",
       "      <td>AT</td>\n",
       "      <td>19</td>\n",
       "      <td>0.022539</td>\n",
       "    </tr>\n",
       "    <tr>\n",
       "      <th>164</th>\n",
       "      <td>2021</td>\n",
       "      <td>CA</td>\n",
       "      <td>23</td>\n",
       "      <td>0.027284</td>\n",
       "    </tr>\n",
       "    <tr>\n",
       "      <th>165</th>\n",
       "      <td>2021</td>\n",
       "      <td>CN</td>\n",
       "      <td>166</td>\n",
       "      <td>0.196916</td>\n",
       "    </tr>\n",
       "    <tr>\n",
       "      <th>166</th>\n",
       "      <td>2021</td>\n",
       "      <td>DE</td>\n",
       "      <td>79</td>\n",
       "      <td>0.093713</td>\n",
       "    </tr>\n",
       "    <tr>\n",
       "      <th>167</th>\n",
       "      <td>2021</td>\n",
       "      <td>Other</td>\n",
       "      <td>197</td>\n",
       "      <td>0.233689</td>\n",
       "    </tr>\n",
       "    <tr>\n",
       "      <th>168</th>\n",
       "      <td>2021</td>\n",
       "      <td>US</td>\n",
       "      <td>359</td>\n",
       "      <td>0.425860</td>\n",
       "    </tr>\n",
       "  </tbody>\n",
       "</table>\n",
       "</div>"
      ],
      "text/plain": [
       "     year country  year total     ratio\n",
       "133  2016      AT          23  0.042672\n",
       "134  2016      CA          20  0.037106\n",
       "135  2016      CN          30  0.055659\n",
       "136  2016      DE          70  0.129870\n",
       "137  2016   Other         153  0.283859\n",
       "138  2016      US         243  0.450835\n",
       "139  2017      AT          44  0.081633\n",
       "140  2017      CA          16  0.029685\n",
       "141  2017      CN          51  0.094620\n",
       "142  2017      DE          70  0.129870\n",
       "143  2017   Other         120  0.222635\n",
       "144  2017      US         238  0.441558\n",
       "145  2018      AT          14  0.023810\n",
       "146  2018      CA          10  0.017007\n",
       "147  2018      CN          76  0.129252\n",
       "148  2018      DE          82  0.139456\n",
       "149  2018   Other         123  0.209184\n",
       "150  2018      US         283  0.481293\n",
       "151  2019      AT          14  0.020649\n",
       "152  2019      CA          26  0.038348\n",
       "153  2019      CN         105  0.154867\n",
       "154  2019      DE          69  0.101770\n",
       "155  2019   Other         136  0.200590\n",
       "156  2019      US         328  0.483776\n",
       "157  2020      AT          10  0.012610\n",
       "158  2020      CA          16  0.020177\n",
       "159  2020      CN         172  0.216898\n",
       "160  2020      DE          93  0.117276\n",
       "161  2020   Other         193  0.243380\n",
       "162  2020      US         309  0.389660\n",
       "163  2021      AT          19  0.022539\n",
       "164  2021      CA          23  0.027284\n",
       "165  2021      CN         166  0.196916\n",
       "166  2021      DE          79  0.093713\n",
       "167  2021   Other         197  0.233689\n",
       "168  2021      US         359  0.425860"
      ]
     },
     "execution_count": 45,
     "metadata": {},
     "output_type": "execute_result"
    }
   ],
   "source": [
    "cntry_ts_prop_df[cntry_ts_prop_df.year >= 2016]\n",
    "# China overtook DE in 2019 as the second largest source of authors"
   ]
  },
  {
   "cell_type": "code",
   "execution_count": 46,
   "id": "11e98d40",
   "metadata": {},
   "outputs": [
    {
     "data": {
      "text/plain": [
       "Text(0.5, 1.0, 'number of authros from participating countries over the past 32 years')"
      ]
     },
     "execution_count": 46,
     "metadata": {},
     "output_type": "execute_result"
    },
    {
     "data": {
      "image/png": "[encoded data removed]",
      "text/plain": [
       "<Figure size 432x288 with 1 Axes>"
      ]
     },
     "metadata": {
      "needs_background": "light"
     },
     "output_type": "display_data"
    }
   ],
   "source": [
    "g = sns.lineplot(x='year', y='year total', hue='country', data = cntry_ts_prop_df)\n",
    "g.set_title('number of authros from participating countries over the past 32 years')"
   ]
  },
  {
   "cell_type": "markdown",
   "id": "3d03e3c5",
   "metadata": {},
   "source": [
    "### Involving US authors"
   ]
  },
  {
   "cell_type": "code",
   "execution_count": 54,
   "id": "66c8814e",
   "metadata": {},
   "outputs": [
    {
     "data": {
      "text/plain": [
       "Counter({True: 2113, False: 1120})"
      ]
     },
     "execution_count": 54,
     "metadata": {},
     "output_type": "execute_result"
    }
   ],
   "source": [
    "Counter(paper['With US Authors'])"
   ]
  },
  {
   "cell_type": "code",
   "execution_count": 60,
   "id": "84194a2c",
   "metadata": {},
   "outputs": [
    {
     "data": {
      "text/plain": [
       "0.6535725332508506"
      ]
     },
     "execution_count": 60,
     "metadata": {},
     "output_type": "execute_result"
    }
   ],
   "source": [
    "2113/paper.shape[0]"
   ]
  },
  {
   "cell_type": "code",
   "execution_count": 47,
   "id": "0f29caad",
   "metadata": {},
   "outputs": [],
   "source": [
    "def get_total_and_ratio_by_year(DF, subgroup_par):\n",
    "    tuples = []\n",
    "    for group in DF.groupby('Year'):\n",
    "        year = group[0]\n",
    "        total = group[1].shape[0]\n",
    "        for subgroup in group[1].groupby(subgroup_par):\n",
    "            subtype = 'Yes' if subgroup[0] else 'No'\n",
    "            count = subgroup[1].shape[0]\n",
    "            ratio = count / total\n",
    "            tuples.append((year, subtype, count, ratio))\n",
    "    dff = pd.DataFrame(\n",
    "        list(tuples), columns=['year', 'type', 'count', 'ratio']) \n",
    "    return dff"
   ]
  },
  {
   "cell_type": "code",
   "execution_count": 49,
   "id": "f19b1b94",
   "metadata": {},
   "outputs": [
    {
     "data": {
      "text/html": [
       "<div>\n",
       "<style scoped>\n",
       "    .dataframe tbody tr th:only-of-type {\n",
       "        vertical-align: middle;\n",
       "    }\n",
       "\n",
       "    .dataframe tbody tr th {\n",
       "        vertical-align: top;\n",
       "    }\n",
       "\n",
       "    .dataframe thead th {\n",
       "        text-align: right;\n",
       "    }\n",
       "</style>\n",
       "<table border=\"1\" class=\"dataframe\">\n",
       "  <thead>\n",
       "    <tr style=\"text-align: right;\">\n",
       "      <th></th>\n",
       "      <th>year</th>\n",
       "      <th>With US Authors</th>\n",
       "      <th>count</th>\n",
       "      <th>Ratio</th>\n",
       "      <th>Year</th>\n",
       "    </tr>\n",
       "  </thead>\n",
       "  <tbody>\n",
       "    <tr>\n",
       "      <th>0</th>\n",
       "      <td>1990</td>\n",
       "      <td>No</td>\n",
       "      <td>6</td>\n",
       "      <td>0.115385</td>\n",
       "      <td>1990-01-01</td>\n",
       "    </tr>\n",
       "    <tr>\n",
       "      <th>1</th>\n",
       "      <td>1990</td>\n",
       "      <td>Yes</td>\n",
       "      <td>46</td>\n",
       "      <td>0.884615</td>\n",
       "      <td>1990-01-01</td>\n",
       "    </tr>\n",
       "    <tr>\n",
       "      <th>2</th>\n",
       "      <td>1991</td>\n",
       "      <td>No</td>\n",
       "      <td>4</td>\n",
       "      <td>0.083333</td>\n",
       "      <td>1991-01-01</td>\n",
       "    </tr>\n",
       "    <tr>\n",
       "      <th>3</th>\n",
       "      <td>1991</td>\n",
       "      <td>Yes</td>\n",
       "      <td>44</td>\n",
       "      <td>0.916667</td>\n",
       "      <td>1991-01-01</td>\n",
       "    </tr>\n",
       "    <tr>\n",
       "      <th>4</th>\n",
       "      <td>1992</td>\n",
       "      <td>No</td>\n",
       "      <td>9</td>\n",
       "      <td>0.176471</td>\n",
       "      <td>1992-01-01</td>\n",
       "    </tr>\n",
       "    <tr>\n",
       "      <th>5</th>\n",
       "      <td>1992</td>\n",
       "      <td>Yes</td>\n",
       "      <td>42</td>\n",
       "      <td>0.823529</td>\n",
       "      <td>1992-01-01</td>\n",
       "    </tr>\n",
       "    <tr>\n",
       "      <th>6</th>\n",
       "      <td>1993</td>\n",
       "      <td>No</td>\n",
       "      <td>20</td>\n",
       "      <td>0.363636</td>\n",
       "      <td>1993-01-01</td>\n",
       "    </tr>\n",
       "    <tr>\n",
       "      <th>7</th>\n",
       "      <td>1993</td>\n",
       "      <td>Yes</td>\n",
       "      <td>35</td>\n",
       "      <td>0.636364</td>\n",
       "      <td>1993-01-01</td>\n",
       "    </tr>\n",
       "    <tr>\n",
       "      <th>8</th>\n",
       "      <td>1994</td>\n",
       "      <td>No</td>\n",
       "      <td>8</td>\n",
       "      <td>0.153846</td>\n",
       "      <td>1994-01-01</td>\n",
       "    </tr>\n",
       "    <tr>\n",
       "      <th>9</th>\n",
       "      <td>1994</td>\n",
       "      <td>Yes</td>\n",
       "      <td>44</td>\n",
       "      <td>0.846154</td>\n",
       "      <td>1994-01-01</td>\n",
       "    </tr>\n",
       "  </tbody>\n",
       "</table>\n",
       "</div>"
      ],
      "text/plain": [
       "   year With US Authors  count     Ratio       Year\n",
       "0  1990              No      6  0.115385 1990-01-01\n",
       "1  1990             Yes     46  0.884615 1990-01-01\n",
       "2  1991              No      4  0.083333 1991-01-01\n",
       "3  1991             Yes     44  0.916667 1991-01-01\n",
       "4  1992              No      9  0.176471 1992-01-01\n",
       "5  1992             Yes     42  0.823529 1992-01-01\n",
       "6  1993              No     20  0.363636 1993-01-01\n",
       "7  1993             Yes     35  0.636364 1993-01-01\n",
       "8  1994              No      8  0.153846 1994-01-01\n",
       "9  1994             Yes     44  0.846154 1994-01-01"
      ]
     },
     "execution_count": 49,
     "metadata": {},
     "output_type": "execute_result"
    }
   ],
   "source": [
    "withus_authors = get_total_and_ratio_by_year(paper, 'With US Authors')\n",
    "withus_authors.rename(columns = {\n",
    "#     'year': 'Year',\n",
    "    'type': 'With US Authors', \n",
    "    'ratio': 'Ratio'}, inplace=True)\n",
    "withus_authors['Year'] = pd.to_datetime(withus_authors['year'], format='%Y')\n",
    "withus_authors.head(10)"
   ]
  },
  {
   "cell_type": "code",
   "execution_count": 51,
   "id": "735cc45e",
   "metadata": {},
   "outputs": [
    {
     "data": {
      "text/html": [
       "<div>\n",
       "<style scoped>\n",
       "    .dataframe tbody tr th:only-of-type {\n",
       "        vertical-align: middle;\n",
       "    }\n",
       "\n",
       "    .dataframe tbody tr th {\n",
       "        vertical-align: top;\n",
       "    }\n",
       "\n",
       "    .dataframe thead th {\n",
       "        text-align: right;\n",
       "    }\n",
       "</style>\n",
       "<table border=\"1\" class=\"dataframe\">\n",
       "  <thead>\n",
       "    <tr style=\"text-align: right;\">\n",
       "      <th></th>\n",
       "      <th>year</th>\n",
       "      <th>With US Authors</th>\n",
       "      <th>count</th>\n",
       "      <th>Ratio</th>\n",
       "      <th>Year</th>\n",
       "    </tr>\n",
       "  </thead>\n",
       "  <tbody>\n",
       "    <tr>\n",
       "      <th>40</th>\n",
       "      <td>2010</td>\n",
       "      <td>No</td>\n",
       "      <td>39</td>\n",
       "      <td>0.357798</td>\n",
       "      <td>2010-01-01</td>\n",
       "    </tr>\n",
       "    <tr>\n",
       "      <th>41</th>\n",
       "      <td>2010</td>\n",
       "      <td>Yes</td>\n",
       "      <td>70</td>\n",
       "      <td>0.642202</td>\n",
       "      <td>2010-01-01</td>\n",
       "    </tr>\n",
       "    <tr>\n",
       "      <th>42</th>\n",
       "      <td>2011</td>\n",
       "      <td>No</td>\n",
       "      <td>63</td>\n",
       "      <td>0.529412</td>\n",
       "      <td>2011-01-01</td>\n",
       "    </tr>\n",
       "    <tr>\n",
       "      <th>43</th>\n",
       "      <td>2011</td>\n",
       "      <td>Yes</td>\n",
       "      <td>56</td>\n",
       "      <td>0.470588</td>\n",
       "      <td>2011-01-01</td>\n",
       "    </tr>\n",
       "    <tr>\n",
       "      <th>62</th>\n",
       "      <td>2021</td>\n",
       "      <td>No</td>\n",
       "      <td>69</td>\n",
       "      <td>0.408284</td>\n",
       "      <td>2021-01-01</td>\n",
       "    </tr>\n",
       "    <tr>\n",
       "      <th>63</th>\n",
       "      <td>2021</td>\n",
       "      <td>Yes</td>\n",
       "      <td>100</td>\n",
       "      <td>0.591716</td>\n",
       "      <td>2021-01-01</td>\n",
       "    </tr>\n",
       "  </tbody>\n",
       "</table>\n",
       "</div>"
      ],
      "text/plain": [
       "    year With US Authors  count     Ratio       Year\n",
       "40  2010              No     39  0.357798 2010-01-01\n",
       "41  2010             Yes     70  0.642202 2010-01-01\n",
       "42  2011              No     63  0.529412 2011-01-01\n",
       "43  2011             Yes     56  0.470588 2011-01-01\n",
       "62  2021              No     69  0.408284 2021-01-01\n",
       "63  2021             Yes    100  0.591716 2021-01-01"
      ]
     },
     "execution_count": 51,
     "metadata": {},
     "output_type": "execute_result"
    }
   ],
   "source": [
    "withus_authors[withus_authors.year.isin([2010, 2011, 2021])]"
   ]
  },
  {
   "cell_type": "code",
   "execution_count": 58,
   "id": "400a95cc",
   "metadata": {},
   "outputs": [
    {
     "data": {
      "text/plain": [
       "2113"
      ]
     },
     "execution_count": 58,
     "metadata": {},
     "output_type": "execute_result"
    }
   ],
   "source": [
    "withus_authors[withus_authors['With US Authors'] == 'Yes']['count'].sum()"
   ]
  },
  {
   "cell_type": "markdown",
   "id": "1a2fe88b",
   "metadata": {},
   "source": [
    "## Affiliation types"
   ]
  },
  {
   "cell_type": "code",
   "execution_count": 61,
   "id": "0633cb73",
   "metadata": {},
   "outputs": [],
   "source": [
    "tuples = []\n",
    "for group in author.groupby('Year'):\n",
    "    year = group[0]\n",
    "    total = group[1].shape[0]\n",
    "    for subgroup in group[1].groupby('Binary Type'):\n",
    "        aff_type = subgroup[0]\n",
    "        count = subgroup[1].shape[0]\n",
    "        ratio = count / total\n",
    "        tuples.append((year, aff_type, count, ratio))"
   ]
  },
  {
   "cell_type": "code",
   "execution_count": 63,
   "id": "3ba2b8c1",
   "metadata": {},
   "outputs": [
    {
     "data": {
      "text/html": [
       "<div>\n",
       "<style scoped>\n",
       "    .dataframe tbody tr th:only-of-type {\n",
       "        vertical-align: middle;\n",
       "    }\n",
       "\n",
       "    .dataframe tbody tr th {\n",
       "        vertical-align: top;\n",
       "    }\n",
       "\n",
       "    .dataframe thead th {\n",
       "        text-align: right;\n",
       "    }\n",
       "</style>\n",
       "<table border=\"1\" class=\"dataframe\">\n",
       "  <thead>\n",
       "    <tr style=\"text-align: right;\">\n",
       "      <th></th>\n",
       "      <th>year</th>\n",
       "      <th>type</th>\n",
       "      <th>count</th>\n",
       "      <th>ratio</th>\n",
       "      <th>Year</th>\n",
       "    </tr>\n",
       "  </thead>\n",
       "  <tbody>\n",
       "    <tr>\n",
       "      <th>0</th>\n",
       "      <td>1990</td>\n",
       "      <td>Education</td>\n",
       "      <td>71</td>\n",
       "      <td>0.596639</td>\n",
       "      <td>1990-01-01</td>\n",
       "    </tr>\n",
       "    <tr>\n",
       "      <th>1</th>\n",
       "      <td>1990</td>\n",
       "      <td>Non-Education</td>\n",
       "      <td>48</td>\n",
       "      <td>0.403361</td>\n",
       "      <td>1990-01-01</td>\n",
       "    </tr>\n",
       "    <tr>\n",
       "      <th>2</th>\n",
       "      <td>1991</td>\n",
       "      <td>Education</td>\n",
       "      <td>68</td>\n",
       "      <td>0.548387</td>\n",
       "      <td>1991-01-01</td>\n",
       "    </tr>\n",
       "    <tr>\n",
       "      <th>3</th>\n",
       "      <td>1991</td>\n",
       "      <td>Non-Education</td>\n",
       "      <td>56</td>\n",
       "      <td>0.451613</td>\n",
       "      <td>1991-01-01</td>\n",
       "    </tr>\n",
       "    <tr>\n",
       "      <th>4</th>\n",
       "      <td>1992</td>\n",
       "      <td>Education</td>\n",
       "      <td>58</td>\n",
       "      <td>0.442748</td>\n",
       "      <td>1992-01-01</td>\n",
       "    </tr>\n",
       "    <tr>\n",
       "      <th>5</th>\n",
       "      <td>1992</td>\n",
       "      <td>Non-Education</td>\n",
       "      <td>73</td>\n",
       "      <td>0.557252</td>\n",
       "      <td>1992-01-01</td>\n",
       "    </tr>\n",
       "    <tr>\n",
       "      <th>6</th>\n",
       "      <td>1993</td>\n",
       "      <td>Education</td>\n",
       "      <td>66</td>\n",
       "      <td>0.511628</td>\n",
       "      <td>1993-01-01</td>\n",
       "    </tr>\n",
       "    <tr>\n",
       "      <th>7</th>\n",
       "      <td>1993</td>\n",
       "      <td>Non-Education</td>\n",
       "      <td>63</td>\n",
       "      <td>0.488372</td>\n",
       "      <td>1993-01-01</td>\n",
       "    </tr>\n",
       "    <tr>\n",
       "      <th>8</th>\n",
       "      <td>1994</td>\n",
       "      <td>Education</td>\n",
       "      <td>87</td>\n",
       "      <td>0.649254</td>\n",
       "      <td>1994-01-01</td>\n",
       "    </tr>\n",
       "    <tr>\n",
       "      <th>9</th>\n",
       "      <td>1994</td>\n",
       "      <td>Non-Education</td>\n",
       "      <td>47</td>\n",
       "      <td>0.350746</td>\n",
       "      <td>1994-01-01</td>\n",
       "    </tr>\n",
       "  </tbody>\n",
       "</table>\n",
       "</div>"
      ],
      "text/plain": [
       "   year           type  count     ratio       Year\n",
       "0  1990      Education     71  0.596639 1990-01-01\n",
       "1  1990  Non-Education     48  0.403361 1990-01-01\n",
       "2  1991      Education     68  0.548387 1991-01-01\n",
       "3  1991  Non-Education     56  0.451613 1991-01-01\n",
       "4  1992      Education     58  0.442748 1992-01-01\n",
       "5  1992  Non-Education     73  0.557252 1992-01-01\n",
       "6  1993      Education     66  0.511628 1993-01-01\n",
       "7  1993  Non-Education     63  0.488372 1993-01-01\n",
       "8  1994      Education     87  0.649254 1994-01-01\n",
       "9  1994  Non-Education     47  0.350746 1994-01-01"
      ]
     },
     "execution_count": 63,
     "metadata": {},
     "output_type": "execute_result"
    }
   ],
   "source": [
    "binary_type_df = pd.DataFrame(list(tuples), columns=['year', 'type', 'count', 'ratio']) \n",
    "binary_type_df['Year'] = pd.to_datetime(binary_type_df['year'], format='%Y')\n",
    "binary_type_df.replace({\n",
    "    'education': 'Education',\n",
    "    'non-education': 'Non-Education'\n",
    "}, inplace= True)\n",
    "binary_type_df.head(10)"
   ]
  },
  {
   "cell_type": "code",
   "execution_count": 64,
   "id": "4e4fa387",
   "metadata": {},
   "outputs": [
    {
     "data": {
      "text/html": [
       "<div>\n",
       "<style scoped>\n",
       "    .dataframe tbody tr th:only-of-type {\n",
       "        vertical-align: middle;\n",
       "    }\n",
       "\n",
       "    .dataframe tbody tr th {\n",
       "        vertical-align: top;\n",
       "    }\n",
       "\n",
       "    .dataframe thead th {\n",
       "        text-align: right;\n",
       "    }\n",
       "</style>\n",
       "<table border=\"1\" class=\"dataframe\">\n",
       "  <thead>\n",
       "    <tr style=\"text-align: right;\">\n",
       "      <th></th>\n",
       "      <th>year</th>\n",
       "      <th>type</th>\n",
       "      <th>count</th>\n",
       "      <th>ratio</th>\n",
       "      <th>Year</th>\n",
       "    </tr>\n",
       "  </thead>\n",
       "  <tbody>\n",
       "    <tr>\n",
       "      <th>59</th>\n",
       "      <td>2019</td>\n",
       "      <td>Non-Education</td>\n",
       "      <td>103</td>\n",
       "      <td>0.151917</td>\n",
       "      <td>2019-01-01</td>\n",
       "    </tr>\n",
       "    <tr>\n",
       "      <th>60</th>\n",
       "      <td>2020</td>\n",
       "      <td>Education</td>\n",
       "      <td>680</td>\n",
       "      <td>0.857503</td>\n",
       "      <td>2020-01-01</td>\n",
       "    </tr>\n",
       "    <tr>\n",
       "      <th>61</th>\n",
       "      <td>2020</td>\n",
       "      <td>Non-Education</td>\n",
       "      <td>113</td>\n",
       "      <td>0.142497</td>\n",
       "      <td>2020-01-01</td>\n",
       "    </tr>\n",
       "    <tr>\n",
       "      <th>62</th>\n",
       "      <td>2021</td>\n",
       "      <td>Education</td>\n",
       "      <td>709</td>\n",
       "      <td>0.841044</td>\n",
       "      <td>2021-01-01</td>\n",
       "    </tr>\n",
       "    <tr>\n",
       "      <th>63</th>\n",
       "      <td>2021</td>\n",
       "      <td>Non-Education</td>\n",
       "      <td>134</td>\n",
       "      <td>0.158956</td>\n",
       "      <td>2021-01-01</td>\n",
       "    </tr>\n",
       "  </tbody>\n",
       "</table>\n",
       "</div>"
      ],
      "text/plain": [
       "    year           type  count     ratio       Year\n",
       "59  2019  Non-Education    103  0.151917 2019-01-01\n",
       "60  2020      Education    680  0.857503 2020-01-01\n",
       "61  2020  Non-Education    113  0.142497 2020-01-01\n",
       "62  2021      Education    709  0.841044 2021-01-01\n",
       "63  2021  Non-Education    134  0.158956 2021-01-01"
      ]
     },
     "execution_count": 64,
     "metadata": {},
     "output_type": "execute_result"
    }
   ],
   "source": [
    "binary_type_df.tail(5)"
   ]
  },
  {
   "cell_type": "code",
   "execution_count": 8,
   "id": "93a93d53",
   "metadata": {},
   "outputs": [
    {
     "data": {
      "text/html": [
       "<div>\n",
       "<style scoped>\n",
       "    .dataframe tbody tr th:only-of-type {\n",
       "        vertical-align: middle;\n",
       "    }\n",
       "\n",
       "    .dataframe tbody tr th {\n",
       "        vertical-align: top;\n",
       "    }\n",
       "\n",
       "    .dataframe thead th {\n",
       "        text-align: right;\n",
       "    }\n",
       "</style>\n",
       "<table border=\"1\" class=\"dataframe\">\n",
       "  <thead>\n",
       "    <tr style=\"text-align: right;\">\n",
       "      <th></th>\n",
       "      <th>type</th>\n",
       "      <th>count</th>\n",
       "      <th>ratio</th>\n",
       "    </tr>\n",
       "  </thead>\n",
       "  <tbody>\n",
       "    <tr>\n",
       "      <th>0</th>\n",
       "      <td>education</td>\n",
       "      <td>4824</td>\n",
       "      <td>0.842015</td>\n",
       "    </tr>\n",
       "    <tr>\n",
       "      <th>1</th>\n",
       "      <td>non-education</td>\n",
       "      <td>1772</td>\n",
       "      <td>0.157985</td>\n",
       "    </tr>\n",
       "  </tbody>\n",
       "</table>\n",
       "</div>"
      ],
      "text/plain": [
       "            type  count     ratio\n",
       "0      education   4824  0.842015\n",
       "1  non-education   1772  0.157985"
      ]
     },
     "execution_count": 8,
     "metadata": {},
     "output_type": "execute_result"
    }
   ],
   "source": [
    "# edu and non-edu within us\n",
    "dic = dict(Counter(author[author['Affiliation Country Code'] == 'US']['Binary Type']))\n",
    "dff1 = pd.DataFrame(dic.items(), columns = ['type', 'count'])\n",
    "dff1['ratio'] = dff['count'] / dff['count'].sum()\n",
    "dff1"
   ]
  },
  {
   "cell_type": "code",
   "execution_count": 9,
   "id": "5111e109",
   "metadata": {},
   "outputs": [
    {
     "data": {
      "text/html": [
       "<div>\n",
       "<style scoped>\n",
       "    .dataframe tbody tr th:only-of-type {\n",
       "        vertical-align: middle;\n",
       "    }\n",
       "\n",
       "    .dataframe tbody tr th {\n",
       "        vertical-align: top;\n",
       "    }\n",
       "\n",
       "    .dataframe thead th {\n",
       "        text-align: right;\n",
       "    }\n",
       "</style>\n",
       "<table border=\"1\" class=\"dataframe\">\n",
       "  <thead>\n",
       "    <tr style=\"text-align: right;\">\n",
       "      <th></th>\n",
       "      <th>type</th>\n",
       "      <th>count</th>\n",
       "      <th>ratio</th>\n",
       "    </tr>\n",
       "  </thead>\n",
       "  <tbody>\n",
       "    <tr>\n",
       "      <th>0</th>\n",
       "      <td>education</td>\n",
       "      <td>4898</td>\n",
       "      <td>0.842015</td>\n",
       "    </tr>\n",
       "    <tr>\n",
       "      <th>1</th>\n",
       "      <td>non-education</td>\n",
       "      <td>919</td>\n",
       "      <td>0.157985</td>\n",
       "    </tr>\n",
       "  </tbody>\n",
       "</table>\n",
       "</div>"
      ],
      "text/plain": [
       "            type  count     ratio\n",
       "0      education   4898  0.842015\n",
       "1  non-education    919  0.157985"
      ]
     },
     "execution_count": 9,
     "metadata": {},
     "output_type": "execute_result"
    }
   ],
   "source": [
    "# edu and non-edu outside of the us\n",
    "dic = dict(Counter(author[author['Affiliation Country Code'] != 'US']['Binary Type']))\n",
    "dff2 = pd.DataFrame(dic.items(), columns = ['type', 'count'])\n",
    "dff2['ratio'] = dff['count'] / dff['count'].sum()\n",
    "dff2"
   ]
  },
  {
   "cell_type": "code",
   "execution_count": 13,
   "id": "97ec4921",
   "metadata": {},
   "outputs": [
    {
     "data": {
      "text/plain": [
       "0.6584912671869194"
      ]
     },
     "execution_count": 13,
     "metadata": {},
     "output_type": "execute_result"
    }
   ],
   "source": [
    "# the proportion of nonedu from us against all nonedu\n",
    "dff1.iloc[1,1] / (dff1.iloc[1,1] + dff2.iloc[1,1])"
   ]
  },
  {
   "cell_type": "code",
   "execution_count": 15,
   "id": "543d2593",
   "metadata": {},
   "outputs": [
    {
     "data": {
      "text/plain": [
       "0.8420147842530514"
      ]
     },
     "execution_count": 15,
     "metadata": {},
     "output_type": "execute_result"
    }
   ],
   "source": [
    "dff2.iloc[0,1] / (dff2.iloc[0,1] + dff2.iloc[1,1])"
   ]
  },
  {
   "cell_type": "code",
   "execution_count": null,
   "id": "e212bb7c",
   "metadata": {},
   "outputs": [],
   "source": []
  }
 ],
 "metadata": {
  "kernelspec": {
   "display_name": "Python 3 (ipykernel)",
   "language": "python",
   "name": "python3"
  },
  "language_info": {
   "codemirror_mode": {
    "name": "ipython",
    "version": 3
   },
   "file_extension": ".py",
   "mimetype": "text/x-python",
   "name": "python",
   "nbconvert_exporter": "python",
   "pygments_lexer": "ipython3",
   "version": "3.8.12"
  }
 },
 "nbformat": 4,
 "nbformat_minor": 5
}
