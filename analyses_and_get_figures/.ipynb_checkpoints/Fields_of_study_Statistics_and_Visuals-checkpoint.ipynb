{
 "cells": [
  {
   "cell_type": "code",
   "execution_count": 1,
   "id": "47f4ad8f",
   "metadata": {},
   "outputs": [],
   "source": [
    "import pandas as pd\n",
    "import matplotlib.pyplot as plt\n",
    "from collections import Counter\n",
    "import seaborn as sns\n",
    "import matplotlib\n",
    "font = {'family' : 'Arial',\n",
    "        'weight' : 'normal',\n",
    "        'size'   : 16}\n",
    "matplotlib.rc('font', **font)\n",
    "import altair as alt\n",
    "pd.set_option('display.max_rows', 500)\n",
    "import numpy as np"
   ]
  },
  {
   "cell_type": "code",
   "execution_count": 2,
   "id": "233f87d5",
   "metadata": {},
   "outputs": [],
   "source": [
    "VISPUBDATA_PLUS = pd.read_csv('../data/processed/vispubdata_plus.csv')\n",
    "OPENALEX_CONCEPT_DF = pd.read_csv('../data/processed/openalex_concept_df.csv')\n",
    "REF_DF = pd.read_csv('../data/processed/large/openalex_reference_concept_df.csv')\n",
    "CIT_DF = pd.read_csv('../data/processed/large/openalex_citation_concept_df.csv')\n",
    "REF_ID_NAME = 'Reference OpenAlex ID'\n",
    "CIT_ID_NAME = 'Citation Paper OpenAlex ID'\n",
    "\n",
    "REF_DF = REF_DF[REF_DF[REF_ID_NAME].notnull()]\n",
    "CIT_DF = CIT_DF[CIT_DF[CIT_ID_NAME].notnull()]"
   ]
  },
  {
   "cell_type": "code",
   "execution_count": 3,
   "id": "58d15a15",
   "metadata": {},
   "outputs": [
    {
     "data": {
      "text/html": [
       "<div>\n",
       "<style scoped>\n",
       "    .dataframe tbody tr th:only-of-type {\n",
       "        vertical-align: middle;\n",
       "    }\n",
       "\n",
       "    .dataframe tbody tr th {\n",
       "        vertical-align: top;\n",
       "    }\n",
       "\n",
       "    .dataframe thead th {\n",
       "        text-align: right;\n",
       "    }\n",
       "</style>\n",
       "<table border=\"1\" class=\"dataframe\">\n",
       "  <thead>\n",
       "    <tr style=\"text-align: right;\">\n",
       "      <th></th>\n",
       "      <th>Reference</th>\n",
       "      <th>Reference OpenAlex Year</th>\n",
       "      <th>Reference OpenAlex ID</th>\n",
       "      <th>Reference OpenAlex Title</th>\n",
       "      <th>Number of Concepts</th>\n",
       "      <th>Index of Concept</th>\n",
       "      <th>Concept</th>\n",
       "      <th>Concept ID</th>\n",
       "      <th>Wikidata</th>\n",
       "      <th>Level</th>\n",
       "      <th>Score</th>\n",
       "    </tr>\n",
       "  </thead>\n",
       "  <tbody>\n",
       "    <tr>\n",
       "      <th>0</th>\n",
       "      <td>https://openalex.org/W2136766117</td>\n",
       "      <td>2002</td>\n",
       "      <td>W2136766117</td>\n",
       "      <td>The abalone interpolation: a visual interpolat...</td>\n",
       "      <td>14</td>\n",
       "      <td>1</td>\n",
       "      <td>Interpolation (computer graphics)</td>\n",
       "      <td>https://openalex.org/C137800194</td>\n",
       "      <td>https://www.wikidata.org/wiki/Q11713455</td>\n",
       "      <td>3</td>\n",
       "      <td>0.696491</td>\n",
       "    </tr>\n",
       "    <tr>\n",
       "      <th>1</th>\n",
       "      <td>https://openalex.org/W2136766117</td>\n",
       "      <td>2002</td>\n",
       "      <td>W2136766117</td>\n",
       "      <td>The abalone interpolation: a visual interpolat...</td>\n",
       "      <td>14</td>\n",
       "      <td>2</td>\n",
       "      <td>Computer science</td>\n",
       "      <td>https://openalex.org/C41008148</td>\n",
       "      <td>https://www.wikidata.org/wiki/Q21198</td>\n",
       "      <td>0</td>\n",
       "      <td>0.566627</td>\n",
       "    </tr>\n",
       "    <tr>\n",
       "      <th>2</th>\n",
       "      <td>https://openalex.org/W2136766117</td>\n",
       "      <td>2002</td>\n",
       "      <td>W2136766117</td>\n",
       "      <td>The abalone interpolation: a visual interpolat...</td>\n",
       "      <td>14</td>\n",
       "      <td>3</td>\n",
       "      <td>Bilinear interpolation</td>\n",
       "      <td>https://openalex.org/C205203396</td>\n",
       "      <td>https://www.wikidata.org/wiki/Q612143</td>\n",
       "      <td>2</td>\n",
       "      <td>0.511377</td>\n",
       "    </tr>\n",
       "    <tr>\n",
       "      <th>3</th>\n",
       "      <td>https://openalex.org/W2136766117</td>\n",
       "      <td>2002</td>\n",
       "      <td>W2136766117</td>\n",
       "      <td>The abalone interpolation: a visual interpolat...</td>\n",
       "      <td>14</td>\n",
       "      <td>4</td>\n",
       "      <td>Multivariate interpolation</td>\n",
       "      <td>https://openalex.org/C203332170</td>\n",
       "      <td>https://www.wikidata.org/wiki/Q6334079</td>\n",
       "      <td>3</td>\n",
       "      <td>0.494562</td>\n",
       "    </tr>\n",
       "    <tr>\n",
       "      <th>4</th>\n",
       "      <td>https://openalex.org/W2136766117</td>\n",
       "      <td>2002</td>\n",
       "      <td>W2136766117</td>\n",
       "      <td>The abalone interpolation: a visual interpolat...</td>\n",
       "      <td>14</td>\n",
       "      <td>5</td>\n",
       "      <td>Linear interpolation</td>\n",
       "      <td>https://openalex.org/C171836373</td>\n",
       "      <td>https://www.wikidata.org/wiki/Q2266329</td>\n",
       "      <td>3</td>\n",
       "      <td>0.423620</td>\n",
       "    </tr>\n",
       "    <tr>\n",
       "      <th>...</th>\n",
       "      <td>...</td>\n",
       "      <td>...</td>\n",
       "      <td>...</td>\n",
       "      <td>...</td>\n",
       "      <td>...</td>\n",
       "      <td>...</td>\n",
       "      <td>...</td>\n",
       "      <td>...</td>\n",
       "      <td>...</td>\n",
       "      <td>...</td>\n",
       "      <td>...</td>\n",
       "    </tr>\n",
       "    <tr>\n",
       "      <th>304708</th>\n",
       "      <td>https://openalex.org/W2049488676</td>\n",
       "      <td>2014</td>\n",
       "      <td>W2049488676</td>\n",
       "      <td>Fast and simple gradient-based optimization fo...</td>\n",
       "      <td>12</td>\n",
       "      <td>8</td>\n",
       "      <td>Hyperparameter optimization</td>\n",
       "      <td>https://openalex.org/C10485038</td>\n",
       "      <td>https://www.wikidata.org/wiki/Q48996162</td>\n",
       "      <td>3</td>\n",
       "      <td>0.346895</td>\n",
       "    </tr>\n",
       "    <tr>\n",
       "      <th>304709</th>\n",
       "      <td>https://openalex.org/W2049488676</td>\n",
       "      <td>2014</td>\n",
       "      <td>W2049488676</td>\n",
       "      <td>Fast and simple gradient-based optimization fo...</td>\n",
       "      <td>12</td>\n",
       "      <td>9</td>\n",
       "      <td>Classifier (UML)</td>\n",
       "      <td>https://openalex.org/C95623464</td>\n",
       "      <td>https://www.wikidata.org/wiki/Q1096149</td>\n",
       "      <td>2</td>\n",
       "      <td>0.341940</td>\n",
       "    </tr>\n",
       "    <tr>\n",
       "      <th>304710</th>\n",
       "      <td>https://openalex.org/W2049488676</td>\n",
       "      <td>2014</td>\n",
       "      <td>W2049488676</td>\n",
       "      <td>Fast and simple gradient-based optimization fo...</td>\n",
       "      <td>12</td>\n",
       "      <td>10</td>\n",
       "      <td>Benchmark (surveying)</td>\n",
       "      <td>https://openalex.org/C185798385</td>\n",
       "      <td>https://www.wikidata.org/wiki/Q1161707</td>\n",
       "      <td>2</td>\n",
       "      <td>0.338719</td>\n",
       "    </tr>\n",
       "    <tr>\n",
       "      <th>304711</th>\n",
       "      <td>https://openalex.org/W2049488676</td>\n",
       "      <td>2014</td>\n",
       "      <td>W2049488676</td>\n",
       "      <td>Fast and simple gradient-based optimization fo...</td>\n",
       "      <td>12</td>\n",
       "      <td>11</td>\n",
       "      <td>Relevance vector machine</td>\n",
       "      <td>https://openalex.org/C14948415</td>\n",
       "      <td>https://www.wikidata.org/wiki/Q7310972</td>\n",
       "      <td>3</td>\n",
       "      <td>0.332801</td>\n",
       "    </tr>\n",
       "    <tr>\n",
       "      <th>304712</th>\n",
       "      <td>https://openalex.org/W2049488676</td>\n",
       "      <td>2014</td>\n",
       "      <td>W2049488676</td>\n",
       "      <td>Fast and simple gradient-based optimization fo...</td>\n",
       "      <td>12</td>\n",
       "      <td>12</td>\n",
       "      <td>Hyperparameter</td>\n",
       "      <td>https://openalex.org/C8642999</td>\n",
       "      <td>https://www.wikidata.org/wiki/Q4171168</td>\n",
       "      <td>2</td>\n",
       "      <td>0.321900</td>\n",
       "    </tr>\n",
       "  </tbody>\n",
       "</table>\n",
       "<p>304713 rows × 11 columns</p>\n",
       "</div>"
      ],
      "text/plain": [
       "                               Reference  Reference OpenAlex Year  \\\n",
       "0       https://openalex.org/W2136766117                     2002   \n",
       "1       https://openalex.org/W2136766117                     2002   \n",
       "2       https://openalex.org/W2136766117                     2002   \n",
       "3       https://openalex.org/W2136766117                     2002   \n",
       "4       https://openalex.org/W2136766117                     2002   \n",
       "...                                  ...                      ...   \n",
       "304708  https://openalex.org/W2049488676                     2014   \n",
       "304709  https://openalex.org/W2049488676                     2014   \n",
       "304710  https://openalex.org/W2049488676                     2014   \n",
       "304711  https://openalex.org/W2049488676                     2014   \n",
       "304712  https://openalex.org/W2049488676                     2014   \n",
       "\n",
       "       Reference OpenAlex ID  \\\n",
       "0                W2136766117   \n",
       "1                W2136766117   \n",
       "2                W2136766117   \n",
       "3                W2136766117   \n",
       "4                W2136766117   \n",
       "...                      ...   \n",
       "304708           W2049488676   \n",
       "304709           W2049488676   \n",
       "304710           W2049488676   \n",
       "304711           W2049488676   \n",
       "304712           W2049488676   \n",
       "\n",
       "                                 Reference OpenAlex Title  Number of Concepts  \\\n",
       "0       The abalone interpolation: a visual interpolat...                  14   \n",
       "1       The abalone interpolation: a visual interpolat...                  14   \n",
       "2       The abalone interpolation: a visual interpolat...                  14   \n",
       "3       The abalone interpolation: a visual interpolat...                  14   \n",
       "4       The abalone interpolation: a visual interpolat...                  14   \n",
       "...                                                   ...                 ...   \n",
       "304708  Fast and simple gradient-based optimization fo...                  12   \n",
       "304709  Fast and simple gradient-based optimization fo...                  12   \n",
       "304710  Fast and simple gradient-based optimization fo...                  12   \n",
       "304711  Fast and simple gradient-based optimization fo...                  12   \n",
       "304712  Fast and simple gradient-based optimization fo...                  12   \n",
       "\n",
       "        Index of Concept                            Concept  \\\n",
       "0                      1  Interpolation (computer graphics)   \n",
       "1                      2                   Computer science   \n",
       "2                      3             Bilinear interpolation   \n",
       "3                      4         Multivariate interpolation   \n",
       "4                      5               Linear interpolation   \n",
       "...                  ...                                ...   \n",
       "304708                 8        Hyperparameter optimization   \n",
       "304709                 9                   Classifier (UML)   \n",
       "304710                10              Benchmark (surveying)   \n",
       "304711                11           Relevance vector machine   \n",
       "304712                12                     Hyperparameter   \n",
       "\n",
       "                             Concept ID  \\\n",
       "0       https://openalex.org/C137800194   \n",
       "1        https://openalex.org/C41008148   \n",
       "2       https://openalex.org/C205203396   \n",
       "3       https://openalex.org/C203332170   \n",
       "4       https://openalex.org/C171836373   \n",
       "...                                 ...   \n",
       "304708   https://openalex.org/C10485038   \n",
       "304709   https://openalex.org/C95623464   \n",
       "304710  https://openalex.org/C185798385   \n",
       "304711   https://openalex.org/C14948415   \n",
       "304712    https://openalex.org/C8642999   \n",
       "\n",
       "                                       Wikidata  Level     Score  \n",
       "0       https://www.wikidata.org/wiki/Q11713455      3  0.696491  \n",
       "1          https://www.wikidata.org/wiki/Q21198      0  0.566627  \n",
       "2         https://www.wikidata.org/wiki/Q612143      2  0.511377  \n",
       "3        https://www.wikidata.org/wiki/Q6334079      3  0.494562  \n",
       "4        https://www.wikidata.org/wiki/Q2266329      3  0.423620  \n",
       "...                                         ...    ...       ...  \n",
       "304708  https://www.wikidata.org/wiki/Q48996162      3  0.346895  \n",
       "304709   https://www.wikidata.org/wiki/Q1096149      2  0.341940  \n",
       "304710   https://www.wikidata.org/wiki/Q1161707      2  0.338719  \n",
       "304711   https://www.wikidata.org/wiki/Q7310972      3  0.332801  \n",
       "304712   https://www.wikidata.org/wiki/Q4171168      2  0.321900  \n",
       "\n",
       "[304713 rows x 11 columns]"
      ]
     },
     "execution_count": 3,
     "metadata": {},
     "output_type": "execute_result"
    }
   ],
   "source": [
    "ref_unique = pd.read_csv('../data/processed/openalex_reference_concept_df_unique.csv')\n",
    "ref_unique"
   ]
  },
  {
   "cell_type": "code",
   "execution_count": 4,
   "id": "33213748",
   "metadata": {},
   "outputs": [
    {
     "data": {
      "text/html": [
       "<div>\n",
       "<style scoped>\n",
       "    .dataframe tbody tr th:only-of-type {\n",
       "        vertical-align: middle;\n",
       "    }\n",
       "\n",
       "    .dataframe tbody tr th {\n",
       "        vertical-align: top;\n",
       "    }\n",
       "\n",
       "    .dataframe thead th {\n",
       "        text-align: right;\n",
       "    }\n",
       "</style>\n",
       "<table border=\"1\" class=\"dataframe\">\n",
       "  <thead>\n",
       "    <tr style=\"text-align: right;\">\n",
       "      <th></th>\n",
       "      <th>Citation Paper Year</th>\n",
       "      <th>Citation Paper OpenAlex ID</th>\n",
       "      <th>Citation Ppaer OpenAlex Title</th>\n",
       "      <th>Citation Paper OpenAlex DOI</th>\n",
       "      <th>Number of Concepts</th>\n",
       "      <th>Index of Concept</th>\n",
       "      <th>Concept</th>\n",
       "      <th>Concept ID</th>\n",
       "      <th>Wikidata</th>\n",
       "      <th>Level</th>\n",
       "      <th>Score</th>\n",
       "    </tr>\n",
       "  </thead>\n",
       "  <tbody>\n",
       "    <tr>\n",
       "      <th>0</th>\n",
       "      <td>2022.0</td>\n",
       "      <td>W4212788433</td>\n",
       "      <td>Ways of seeing: Peace process Data-viz as a Re...</td>\n",
       "      <td>https://doi.org/10.1177/13548565211050748</td>\n",
       "      <td>5.0</td>\n",
       "      <td>1.0</td>\n",
       "      <td>Sociology</td>\n",
       "      <td>https://openalex.org/C144024400</td>\n",
       "      <td>https://www.wikidata.org/wiki/Q21201</td>\n",
       "      <td>0.0</td>\n",
       "      <td>0.530176</td>\n",
       "    </tr>\n",
       "    <tr>\n",
       "      <th>1</th>\n",
       "      <td>2022.0</td>\n",
       "      <td>W4212788433</td>\n",
       "      <td>Ways of seeing: Peace process Data-viz as a Re...</td>\n",
       "      <td>https://doi.org/10.1177/13548565211050748</td>\n",
       "      <td>5.0</td>\n",
       "      <td>2.0</td>\n",
       "      <td>Process (computing)</td>\n",
       "      <td>https://openalex.org/C98045186</td>\n",
       "      <td>https://www.wikidata.org/wiki/Q205663</td>\n",
       "      <td>2.0</td>\n",
       "      <td>0.466962</td>\n",
       "    </tr>\n",
       "    <tr>\n",
       "      <th>2</th>\n",
       "      <td>2022.0</td>\n",
       "      <td>W4212788433</td>\n",
       "      <td>Ways of seeing: Peace process Data-viz as a Re...</td>\n",
       "      <td>https://doi.org/10.1177/13548565211050748</td>\n",
       "      <td>5.0</td>\n",
       "      <td>3.0</td>\n",
       "      <td>Political science</td>\n",
       "      <td>https://openalex.org/C17744445</td>\n",
       "      <td>https://www.wikidata.org/wiki/Q36442</td>\n",
       "      <td>0.0</td>\n",
       "      <td>0.420657</td>\n",
       "    </tr>\n",
       "    <tr>\n",
       "      <th>3</th>\n",
       "      <td>2022.0</td>\n",
       "      <td>W4212788433</td>\n",
       "      <td>Ways of seeing: Peace process Data-viz as a Re...</td>\n",
       "      <td>https://doi.org/10.1177/13548565211050748</td>\n",
       "      <td>5.0</td>\n",
       "      <td>4.0</td>\n",
       "      <td>Engineering ethics</td>\n",
       "      <td>https://openalex.org/C55587333</td>\n",
       "      <td>https://www.wikidata.org/wiki/Q1133029</td>\n",
       "      <td>1.0</td>\n",
       "      <td>0.382229</td>\n",
       "    </tr>\n",
       "    <tr>\n",
       "      <th>4</th>\n",
       "      <td>2022.0</td>\n",
       "      <td>W4212788433</td>\n",
       "      <td>Ways of seeing: Peace process Data-viz as a Re...</td>\n",
       "      <td>https://doi.org/10.1177/13548565211050748</td>\n",
       "      <td>5.0</td>\n",
       "      <td>5.0</td>\n",
       "      <td>Public relations</td>\n",
       "      <td>https://openalex.org/C39549134</td>\n",
       "      <td>https://www.wikidata.org/wiki/Q133080</td>\n",
       "      <td>1.0</td>\n",
       "      <td>0.361657</td>\n",
       "    </tr>\n",
       "    <tr>\n",
       "      <th>...</th>\n",
       "      <td>...</td>\n",
       "      <td>...</td>\n",
       "      <td>...</td>\n",
       "      <td>...</td>\n",
       "      <td>...</td>\n",
       "      <td>...</td>\n",
       "      <td>...</td>\n",
       "      <td>...</td>\n",
       "      <td>...</td>\n",
       "      <td>...</td>\n",
       "      <td>...</td>\n",
       "    </tr>\n",
       "    <tr>\n",
       "      <th>1181697</th>\n",
       "      <td>2022.0</td>\n",
       "      <td>W4213221744</td>\n",
       "      <td>Cerebrovascular Segmentation Model Based on Sp...</td>\n",
       "      <td>https://doi.org/10.3390/app12052288</td>\n",
       "      <td>8.0</td>\n",
       "      <td>4.0</td>\n",
       "      <td>Computer vision</td>\n",
       "      <td>https://openalex.org/C31972630</td>\n",
       "      <td>https://www.wikidata.org/wiki/Q844240</td>\n",
       "      <td>1.0</td>\n",
       "      <td>0.472891</td>\n",
       "    </tr>\n",
       "    <tr>\n",
       "      <th>1181698</th>\n",
       "      <td>2022.0</td>\n",
       "      <td>W4213221744</td>\n",
       "      <td>Cerebrovascular Segmentation Model Based on Sp...</td>\n",
       "      <td>https://doi.org/10.3390/app12052288</td>\n",
       "      <td>8.0</td>\n",
       "      <td>5.0</td>\n",
       "      <td>Image segmentation</td>\n",
       "      <td>https://openalex.org/C124504099</td>\n",
       "      <td>https://www.wikidata.org/wiki/Q56933</td>\n",
       "      <td>3.0</td>\n",
       "      <td>0.393520</td>\n",
       "    </tr>\n",
       "    <tr>\n",
       "      <th>1181699</th>\n",
       "      <td>2022.0</td>\n",
       "      <td>W4213221744</td>\n",
       "      <td>Cerebrovascular Segmentation Model Based on Sp...</td>\n",
       "      <td>https://doi.org/10.3390/app12052288</td>\n",
       "      <td>8.0</td>\n",
       "      <td>6.0</td>\n",
       "      <td>Pattern recognition (psychology)</td>\n",
       "      <td>https://openalex.org/C153180895</td>\n",
       "      <td>https://www.wikidata.org/wiki/Q7148389</td>\n",
       "      <td>2.0</td>\n",
       "      <td>0.374600</td>\n",
       "    </tr>\n",
       "    <tr>\n",
       "      <th>1181700</th>\n",
       "      <td>2022.0</td>\n",
       "      <td>W4213221744</td>\n",
       "      <td>Cerebrovascular Segmentation Model Based on Sp...</td>\n",
       "      <td>https://doi.org/10.3390/app12052288</td>\n",
       "      <td>8.0</td>\n",
       "      <td>7.0</td>\n",
       "      <td>Radiology</td>\n",
       "      <td>https://openalex.org/C126838900</td>\n",
       "      <td>https://www.wikidata.org/wiki/Q77604</td>\n",
       "      <td>1.0</td>\n",
       "      <td>0.333800</td>\n",
       "    </tr>\n",
       "    <tr>\n",
       "      <th>1181701</th>\n",
       "      <td>2022.0</td>\n",
       "      <td>W4213221744</td>\n",
       "      <td>Cerebrovascular Segmentation Model Based on Sp...</td>\n",
       "      <td>https://doi.org/10.3390/app12052288</td>\n",
       "      <td>8.0</td>\n",
       "      <td>8.0</td>\n",
       "      <td>Medicine</td>\n",
       "      <td>https://openalex.org/C71924100</td>\n",
       "      <td>https://www.wikidata.org/wiki/Q11190</td>\n",
       "      <td>0.0</td>\n",
       "      <td>0.328218</td>\n",
       "    </tr>\n",
       "  </tbody>\n",
       "</table>\n",
       "<p>452517 rows × 11 columns</p>\n",
       "</div>"
      ],
      "text/plain": [
       "         Citation Paper Year Citation Paper OpenAlex ID  \\\n",
       "0                     2022.0                W4212788433   \n",
       "1                     2022.0                W4212788433   \n",
       "2                     2022.0                W4212788433   \n",
       "3                     2022.0                W4212788433   \n",
       "4                     2022.0                W4212788433   \n",
       "...                      ...                        ...   \n",
       "1181697               2022.0                W4213221744   \n",
       "1181698               2022.0                W4213221744   \n",
       "1181699               2022.0                W4213221744   \n",
       "1181700               2022.0                W4213221744   \n",
       "1181701               2022.0                W4213221744   \n",
       "\n",
       "                             Citation Ppaer OpenAlex Title  \\\n",
       "0        Ways of seeing: Peace process Data-viz as a Re...   \n",
       "1        Ways of seeing: Peace process Data-viz as a Re...   \n",
       "2        Ways of seeing: Peace process Data-viz as a Re...   \n",
       "3        Ways of seeing: Peace process Data-viz as a Re...   \n",
       "4        Ways of seeing: Peace process Data-viz as a Re...   \n",
       "...                                                    ...   \n",
       "1181697  Cerebrovascular Segmentation Model Based on Sp...   \n",
       "1181698  Cerebrovascular Segmentation Model Based on Sp...   \n",
       "1181699  Cerebrovascular Segmentation Model Based on Sp...   \n",
       "1181700  Cerebrovascular Segmentation Model Based on Sp...   \n",
       "1181701  Cerebrovascular Segmentation Model Based on Sp...   \n",
       "\n",
       "                       Citation Paper OpenAlex DOI  Number of Concepts  \\\n",
       "0        https://doi.org/10.1177/13548565211050748                 5.0   \n",
       "1        https://doi.org/10.1177/13548565211050748                 5.0   \n",
       "2        https://doi.org/10.1177/13548565211050748                 5.0   \n",
       "3        https://doi.org/10.1177/13548565211050748                 5.0   \n",
       "4        https://doi.org/10.1177/13548565211050748                 5.0   \n",
       "...                                            ...                 ...   \n",
       "1181697        https://doi.org/10.3390/app12052288                 8.0   \n",
       "1181698        https://doi.org/10.3390/app12052288                 8.0   \n",
       "1181699        https://doi.org/10.3390/app12052288                 8.0   \n",
       "1181700        https://doi.org/10.3390/app12052288                 8.0   \n",
       "1181701        https://doi.org/10.3390/app12052288                 8.0   \n",
       "\n",
       "         Index of Concept                           Concept  \\\n",
       "0                     1.0                         Sociology   \n",
       "1                     2.0               Process (computing)   \n",
       "2                     3.0                 Political science   \n",
       "3                     4.0                Engineering ethics   \n",
       "4                     5.0                  Public relations   \n",
       "...                   ...                               ...   \n",
       "1181697               4.0                   Computer vision   \n",
       "1181698               5.0                Image segmentation   \n",
       "1181699               6.0  Pattern recognition (psychology)   \n",
       "1181700               7.0                         Radiology   \n",
       "1181701               8.0                          Medicine   \n",
       "\n",
       "                              Concept ID  \\\n",
       "0        https://openalex.org/C144024400   \n",
       "1         https://openalex.org/C98045186   \n",
       "2         https://openalex.org/C17744445   \n",
       "3         https://openalex.org/C55587333   \n",
       "4         https://openalex.org/C39549134   \n",
       "...                                  ...   \n",
       "1181697   https://openalex.org/C31972630   \n",
       "1181698  https://openalex.org/C124504099   \n",
       "1181699  https://openalex.org/C153180895   \n",
       "1181700  https://openalex.org/C126838900   \n",
       "1181701   https://openalex.org/C71924100   \n",
       "\n",
       "                                       Wikidata  Level     Score  \n",
       "0          https://www.wikidata.org/wiki/Q21201    0.0  0.530176  \n",
       "1         https://www.wikidata.org/wiki/Q205663    2.0  0.466962  \n",
       "2          https://www.wikidata.org/wiki/Q36442    0.0  0.420657  \n",
       "3        https://www.wikidata.org/wiki/Q1133029    1.0  0.382229  \n",
       "4         https://www.wikidata.org/wiki/Q133080    1.0  0.361657  \n",
       "...                                         ...    ...       ...  \n",
       "1181697   https://www.wikidata.org/wiki/Q844240    1.0  0.472891  \n",
       "1181698    https://www.wikidata.org/wiki/Q56933    3.0  0.393520  \n",
       "1181699  https://www.wikidata.org/wiki/Q7148389    2.0  0.374600  \n",
       "1181700    https://www.wikidata.org/wiki/Q77604    1.0  0.333800  \n",
       "1181701    https://www.wikidata.org/wiki/Q11190    0.0  0.328218  \n",
       "\n",
       "[452517 rows x 11 columns]"
      ]
     },
     "execution_count": 4,
     "metadata": {},
     "output_type": "execute_result"
    }
   ],
   "source": [
    "cit_unique = CIT_DF.iloc[:, 4:].drop_duplicates()\n",
    "cit_unique"
   ]
  },
  {
   "cell_type": "markdown",
   "id": "3a77bd96",
   "metadata": {},
   "source": [
    "### How many VIS, REF, and CIT papers have L0 Concept"
   ]
  },
  {
   "cell_type": "code",
   "execution_count": 5,
   "id": "ab0f7d70",
   "metadata": {},
   "outputs": [
    {
     "data": {
      "text/plain": [
       "3233"
      ]
     },
     "execution_count": 5,
     "metadata": {},
     "output_type": "execute_result"
    }
   ],
   "source": [
    "vis = OPENALEX_CONCEPT_DF.copy()\n",
    "# total paper number:\n",
    "len(list(set(vis.DOI)))"
   ]
  },
  {
   "cell_type": "code",
   "execution_count": 6,
   "id": "62fb279d",
   "metadata": {},
   "outputs": [
    {
     "data": {
      "text/plain": [
       "3231"
      ]
     },
     "execution_count": 6,
     "metadata": {},
     "output_type": "execute_result"
    }
   ],
   "source": [
    "# number of VIS papers that have at least one L0 concept\n",
    "vis_l0_dois = vis[vis.Level == 0].DOI.tolist()\n",
    "len(list(set(vis_l0_dois)))"
   ]
  },
  {
   "cell_type": "code",
   "execution_count": 7,
   "id": "8e76e268",
   "metadata": {},
   "outputs": [
    {
     "data": {
      "text/plain": [
       "0.9993813795236622"
      ]
     },
     "execution_count": 7,
     "metadata": {},
     "output_type": "execute_result"
    }
   ],
   "source": [
    "len(list(set(vis_l0_dois))) / len(list(set(vis.DOI)))"
   ]
  },
  {
   "cell_type": "code",
   "execution_count": 8,
   "id": "38ffd0a0",
   "metadata": {},
   "outputs": [
    {
     "data": {
      "text/plain": [
       "393"
      ]
     },
     "execution_count": 8,
     "metadata": {},
     "output_type": "execute_result"
    }
   ],
   "source": [
    "# how many VIS papers have multiple L0 Concepts\n",
    "vis_multiple_l0 = list(set(\n",
    "    [x for x in vis_l0_dois if vis_l0_dois.count(x) > 1]))\n",
    "len(vis_multiple_l0)"
   ]
  },
  {
   "cell_type": "code",
   "execution_count": 9,
   "id": "a16307c0",
   "metadata": {},
   "outputs": [
    {
     "data": {
      "text/plain": [
       "0.12155892360037117"
      ]
     },
     "execution_count": 9,
     "metadata": {},
     "output_type": "execute_result"
    }
   ],
   "source": [
    "len(vis_multiple_l0) / len(list(set(vis.DOI)))"
   ]
  },
  {
   "cell_type": "code",
   "execution_count": 10,
   "id": "e24bea17",
   "metadata": {},
   "outputs": [
    {
     "data": {
      "text/plain": [
       "39758"
      ]
     },
     "execution_count": 10,
     "metadata": {},
     "output_type": "execute_result"
    }
   ],
   "source": [
    "# Total number of unique ref papers\n",
    "ref_ids = ref_unique['Reference OpenAlex ID'].tolist()\n",
    "len(list(set(ref_ids)))"
   ]
  },
  {
   "cell_type": "code",
   "execution_count": 11,
   "id": "9773490b",
   "metadata": {},
   "outputs": [
    {
     "data": {
      "text/plain": [
       "39543"
      ]
     },
     "execution_count": 11,
     "metadata": {},
     "output_type": "execute_result"
    }
   ],
   "source": [
    "# how many ref papers have at least one L0 concept\n",
    "ref_l0_ids = ref_unique[ref_unique.Level == 0]['Reference OpenAlex ID'].tolist()\n",
    "len(list(set(ref_l0_ids)))"
   ]
  },
  {
   "cell_type": "code",
   "execution_count": 12,
   "id": "08b2de96",
   "metadata": {},
   "outputs": [
    {
     "data": {
      "text/plain": [
       "0.99459228331405"
      ]
     },
     "execution_count": 12,
     "metadata": {},
     "output_type": "execute_result"
    }
   ],
   "source": [
    "len(list(set(ref_l0_ids))) / len(list(set(ref_ids)))"
   ]
  },
  {
   "cell_type": "code",
   "execution_count": 13,
   "id": "610f5860",
   "metadata": {},
   "outputs": [],
   "source": [
    "dic = dict(Counter(ref_l0_ids))\n",
    "# dff = pd.DataFrame(dic.items(), columns = ['id', 'count'])\n",
    "ref_multiple = []\n",
    "for key,value in dic.items():\n",
    "    if value > 1:\n",
    "        ref_multiple.append(key)"
   ]
  },
  {
   "cell_type": "code",
   "execution_count": 14,
   "id": "f9d494a0",
   "metadata": {},
   "outputs": [
    {
     "data": {
      "text/plain": [
       "9914"
      ]
     },
     "execution_count": 14,
     "metadata": {},
     "output_type": "execute_result"
    }
   ],
   "source": [
    "# How many Ref papers have more than one L0 Concept\n",
    "len(ref_multiple)"
   ]
  },
  {
   "cell_type": "code",
   "execution_count": 15,
   "id": "bc079949",
   "metadata": {},
   "outputs": [
    {
     "data": {
      "text/plain": [
       "0.2493586196488757"
      ]
     },
     "execution_count": 15,
     "metadata": {},
     "output_type": "execute_result"
    }
   ],
   "source": [
    "len(ref_multiple) / len(list(set(ref_ids)))"
   ]
  },
  {
   "cell_type": "code",
   "execution_count": 16,
   "id": "14104052",
   "metadata": {},
   "outputs": [
    {
     "data": {
      "text/plain": [
       "59569"
      ]
     },
     "execution_count": 16,
     "metadata": {},
     "output_type": "execute_result"
    }
   ],
   "source": [
    "# Total number of unique cit papers\n",
    "cit_ids = cit_unique['Citation Paper OpenAlex ID'].tolist()\n",
    "len(list(set(cit_ids)))"
   ]
  },
  {
   "cell_type": "code",
   "execution_count": 17,
   "id": "aa718b97",
   "metadata": {},
   "outputs": [
    {
     "data": {
      "text/plain": [
       "59304"
      ]
     },
     "execution_count": 17,
     "metadata": {},
     "output_type": "execute_result"
    }
   ],
   "source": [
    "# how many cit papers have at least one L0 concept\n",
    "cit_l0_ids = cit_unique[cit_unique.Level == 0]['Citation Paper OpenAlex ID'].tolist()\n",
    "len(list(set(cit_l0_ids)))"
   ]
  },
  {
   "cell_type": "code",
   "execution_count": 18,
   "id": "ab41d845",
   "metadata": {},
   "outputs": [
    {
     "data": {
      "text/plain": [
       "0.9955513773942822"
      ]
     },
     "execution_count": 18,
     "metadata": {},
     "output_type": "execute_result"
    }
   ],
   "source": [
    "len(list(set(cit_l0_ids))) / len(list(set(cit_ids)))"
   ]
  },
  {
   "cell_type": "code",
   "execution_count": 19,
   "id": "62254bed",
   "metadata": {},
   "outputs": [],
   "source": [
    "dic = dict(Counter(cit_l0_ids))\n",
    "cit_multiple = []\n",
    "for key,value in dic.items():\n",
    "    if value > 1:\n",
    "        cit_multiple.append(key)"
   ]
  },
  {
   "cell_type": "code",
   "execution_count": 20,
   "id": "c1390948",
   "metadata": {},
   "outputs": [
    {
     "data": {
      "text/plain": [
       "11538"
      ]
     },
     "execution_count": 20,
     "metadata": {},
     "output_type": "execute_result"
    }
   ],
   "source": [
    "# How many cit papers have more than one L0 Concept\n",
    "len(cit_multiple)"
   ]
  },
  {
   "cell_type": "code",
   "execution_count": 21,
   "id": "ef2ce6a1",
   "metadata": {},
   "outputs": [
    {
     "data": {
      "text/plain": [
       "0.19369134952743877"
      ]
     },
     "execution_count": 21,
     "metadata": {},
     "output_type": "execute_result"
    }
   ],
   "source": [
    "len(cit_multiple) / len(list(set(cit_ids)))"
   ]
  },
  {
   "cell_type": "markdown",
   "id": "d2d93a08",
   "metadata": {},
   "source": [
    "#### Automation"
   ]
  },
  {
   "cell_type": "code",
   "execution_count": 22,
   "id": "9c5c4dfa",
   "metadata": {},
   "outputs": [],
   "source": [
    "vis_key = 'DOI'\n",
    "ref_key = 'Reference OpenAlex ID'\n",
    "cit_key = 'Citation Paper OpenAlex ID'"
   ]
  },
  {
   "cell_type": "code",
   "execution_count": 23,
   "id": "0f7825e4",
   "metadata": {},
   "outputs": [],
   "source": [
    "keys = [vis_key, ref_key, cit_key]"
   ]
  },
  {
   "cell_type": "code",
   "execution_count": 24,
   "id": "b5891316",
   "metadata": {},
   "outputs": [],
   "source": [
    "df_name_lists = ['vis', 'ref', 'cit']"
   ]
  },
  {
   "cell_type": "code",
   "execution_count": 25,
   "id": "0847b8a7",
   "metadata": {},
   "outputs": [],
   "source": [
    "vis_df = vis\n",
    "ref_df = ref_unique\n",
    "cit_df = cit_unique"
   ]
  },
  {
   "cell_type": "code",
   "execution_count": 26,
   "id": "ef315472",
   "metadata": {},
   "outputs": [],
   "source": [
    "dfs = [vis_df, ref_df, cit_df]"
   ]
  },
  {
   "cell_type": "code",
   "execution_count": 27,
   "id": "bc1329af",
   "metadata": {},
   "outputs": [
    {
     "name": "stdout",
     "output_type": "stream",
     "text": [
      "There are a total of 3233 unique papers in vis\n",
      "In vis, there are 17 unique L0 concepts\n",
      "In vis, 3231 (99.9%) papers have at least one L0 Concept; 393 (12.2%) have more than one\n",
      "In vis, there are 110 unique L1 concepts\n",
      "In vis, 2927 (90.5%) papers have at least one L1 Concept; 2157 (66.7%) have more than one\n",
      "In vis, there are 1218 unique L2 concepts\n",
      "In vis, 3124 (96.6%) papers have at least one L2 Concept; 2552 (78.9%) have more than one\n",
      "In vis, there are 508 unique L3 concepts\n",
      "In vis, 2347 (72.6%) papers have at least one L3 Concept; 1582 (48.9%) have more than one\n",
      "------------------------------------------------\n",
      "There are a total of 39758 unique papers in ref\n",
      "In ref, there are 19 unique L0 concepts\n",
      "In ref, 39543 (99.5%) papers have at least one L0 Concept; 9914 (24.9%) have more than one\n",
      "In ref, there are 272 unique L1 concepts\n",
      "In ref, 34977 (88.0%) papers have at least one L1 Concept; 23770 (59.8%) have more than one\n",
      "In ref, there are 6015 unique L2 concepts\n",
      "In ref, 36654 (92.2%) papers have at least one L2 Concept; 29111 (73.2%) have more than one\n",
      "In ref, there are 4532 unique L3 concepts\n",
      "In ref, 23642 (59.5%) papers have at least one L3 Concept; 13243 (33.300000000000004%) have more than one\n",
      "------------------------------------------------\n",
      "There are a total of 59569 unique papers in cit\n",
      "In cit, there are 19 unique L0 concepts\n",
      "In cit, 59304 (99.6%) papers have at least one L0 Concept; 11538 (19.400000000000002%) have more than one\n",
      "In cit, there are 270 unique L1 concepts\n",
      "In cit, 51728 (86.8%) papers have at least one L1 Concept; 35355 (59.4%) have more than one\n",
      "In cit, there are 6105 unique L2 concepts\n",
      "In cit, 55692 (93.5%) papers have at least one L2 Concept; 45298 (76.0%) have more than one\n",
      "In cit, there are 4530 unique L3 concepts\n",
      "In cit, 35343 (59.3%) papers have at least one L3 Concept; 19885 (33.4%) have more than one\n",
      "------------------------------------------------\n"
     ]
    }
   ],
   "source": [
    "for idx, df in enumerate(dfs):\n",
    "    key = keys[idx]\n",
    "    df_name = df_name_lists[idx]\n",
    "    unique_ids = list(set(df[key]))\n",
    "    total = len(unique_ids)\n",
    "    print(f'There are a total of {total} unique papers in {df_name}')\n",
    "    for LEVEL in range(0, 4):\n",
    "#         if df_name == 'vis':\n",
    "        Level_concepts = df[df.Level == LEVEL].Concept\n",
    "        unique_Level_concepts = list(set(Level_concepts))\n",
    "        print(f'In {df_name}, there are {len(unique_Level_concepts)} unique L{LEVEL} concepts')\n",
    "        level_ids = df[df.Level == LEVEL][key].tolist()\n",
    "        unique_level_ids = list(set(level_ids))\n",
    "        sub_total = len(unique_level_ids)\n",
    "        ratio = round(sub_total / total, 3) * 100\n",
    "        dic = dict(Counter(level_ids))\n",
    "        id_multiple = []\n",
    "        for id,value in dic.items():\n",
    "            if value > 1:\n",
    "                id_multiple.append(id)\n",
    "        ratio_multiple = round(len(id_multiple) / total, 3) * 100\n",
    "        print(f'In {df_name}, {sub_total} ({ratio}%) papers have at least one L{LEVEL} Concept; {len(id_multiple)} ({(ratio_multiple)}%) have more than one')\n",
    "    print('------------------------------------------------')"
   ]
  },
  {
   "cell_type": "markdown",
   "id": "e0224ced",
   "metadata": {},
   "source": [
    "### Visualize"
   ]
  },
  {
   "cell_type": "code",
   "execution_count": 28,
   "id": "5bda0b40",
   "metadata": {},
   "outputs": [],
   "source": [
    "vis_l0 = vis[vis.Level == 0]\n",
    "vis_l0_concepts = vis_l0.Concept"
   ]
  },
  {
   "cell_type": "code",
   "execution_count": 29,
   "id": "e2d272b2",
   "metadata": {},
   "outputs": [
    {
     "data": {
      "text/html": [
       "<div>\n",
       "<style scoped>\n",
       "    .dataframe tbody tr th:only-of-type {\n",
       "        vertical-align: middle;\n",
       "    }\n",
       "\n",
       "    .dataframe tbody tr th {\n",
       "        vertical-align: top;\n",
       "    }\n",
       "\n",
       "    .dataframe thead th {\n",
       "        text-align: right;\n",
       "    }\n",
       "</style>\n",
       "<table border=\"1\" class=\"dataframe\">\n",
       "  <thead>\n",
       "    <tr style=\"text-align: right;\">\n",
       "      <th></th>\n",
       "      <th>concept</th>\n",
       "      <th>count</th>\n",
       "      <th>ratio</th>\n",
       "    </tr>\n",
       "  </thead>\n",
       "  <tbody>\n",
       "    <tr>\n",
       "      <th>0</th>\n",
       "      <td>Computer science</td>\n",
       "      <td>3198</td>\n",
       "      <td>0.876</td>\n",
       "    </tr>\n",
       "    <tr>\n",
       "      <th>1</th>\n",
       "      <td>Mathematics</td>\n",
       "      <td>187</td>\n",
       "      <td>0.051</td>\n",
       "    </tr>\n",
       "    <tr>\n",
       "      <th>3</th>\n",
       "      <td>Physics</td>\n",
       "      <td>85</td>\n",
       "      <td>0.023</td>\n",
       "    </tr>\n",
       "    <tr>\n",
       "      <th>2</th>\n",
       "      <td>Materials science</td>\n",
       "      <td>65</td>\n",
       "      <td>0.018</td>\n",
       "    </tr>\n",
       "    <tr>\n",
       "      <th>5</th>\n",
       "      <td>Medicine</td>\n",
       "      <td>44</td>\n",
       "      <td>0.012</td>\n",
       "    </tr>\n",
       "    <tr>\n",
       "      <th>4</th>\n",
       "      <td>Geology</td>\n",
       "      <td>19</td>\n",
       "      <td>0.005</td>\n",
       "    </tr>\n",
       "    <tr>\n",
       "      <th>6</th>\n",
       "      <td>Environmental science</td>\n",
       "      <td>18</td>\n",
       "      <td>0.005</td>\n",
       "    </tr>\n",
       "    <tr>\n",
       "      <th>7</th>\n",
       "      <td>Psychology</td>\n",
       "      <td>14</td>\n",
       "      <td>0.004</td>\n",
       "    </tr>\n",
       "    <tr>\n",
       "      <th>8</th>\n",
       "      <td>Business</td>\n",
       "      <td>6</td>\n",
       "      <td>0.002</td>\n",
       "    </tr>\n",
       "    <tr>\n",
       "      <th>9</th>\n",
       "      <td>Chemistry</td>\n",
       "      <td>3</td>\n",
       "      <td>0.001</td>\n",
       "    </tr>\n",
       "    <tr>\n",
       "      <th>10</th>\n",
       "      <td>Biology</td>\n",
       "      <td>2</td>\n",
       "      <td>0.001</td>\n",
       "    </tr>\n",
       "    <tr>\n",
       "      <th>11</th>\n",
       "      <td>Art</td>\n",
       "      <td>2</td>\n",
       "      <td>0.001</td>\n",
       "    </tr>\n",
       "    <tr>\n",
       "      <th>12</th>\n",
       "      <td>Geography</td>\n",
       "      <td>2</td>\n",
       "      <td>0.001</td>\n",
       "    </tr>\n",
       "    <tr>\n",
       "      <th>13</th>\n",
       "      <td>Engineering</td>\n",
       "      <td>3</td>\n",
       "      <td>0.001</td>\n",
       "    </tr>\n",
       "    <tr>\n",
       "      <th>15</th>\n",
       "      <td>Sociology</td>\n",
       "      <td>2</td>\n",
       "      <td>0.001</td>\n",
       "    </tr>\n",
       "    <tr>\n",
       "      <th>14</th>\n",
       "      <td>Political science</td>\n",
       "      <td>1</td>\n",
       "      <td>0.000</td>\n",
       "    </tr>\n",
       "    <tr>\n",
       "      <th>16</th>\n",
       "      <td>Economics</td>\n",
       "      <td>1</td>\n",
       "      <td>0.000</td>\n",
       "    </tr>\n",
       "  </tbody>\n",
       "</table>\n",
       "</div>"
      ],
      "text/plain": [
       "                  concept  count  ratio\n",
       "0        Computer science   3198  0.876\n",
       "1             Mathematics    187  0.051\n",
       "3                 Physics     85  0.023\n",
       "2       Materials science     65  0.018\n",
       "5                Medicine     44  0.012\n",
       "4                 Geology     19  0.005\n",
       "6   Environmental science     18  0.005\n",
       "7              Psychology     14  0.004\n",
       "8                Business      6  0.002\n",
       "9               Chemistry      3  0.001\n",
       "10                Biology      2  0.001\n",
       "11                    Art      2  0.001\n",
       "12              Geography      2  0.001\n",
       "13            Engineering      3  0.001\n",
       "15              Sociology      2  0.001\n",
       "14      Political science      1  0.000\n",
       "16              Economics      1  0.000"
      ]
     },
     "execution_count": 29,
     "metadata": {},
     "output_type": "execute_result"
    }
   ],
   "source": [
    "vis_l0_dic = dict(Counter(vis_l0_concepts))\n",
    "vis_l0_dic_df = pd.DataFrame(vis_l0_dic.items(), columns = ['concept', 'count'])\n",
    "vis_l0_dic_df['ratio'] = round(\n",
    "    vis_l0_dic_df['count'] / vis_l0_dic_df['count'].sum(),\n",
    "    3)\n",
    "vis_l0_dic_df.sort_values(by = 'ratio', ascending= False)"
   ]
  },
  {
   "cell_type": "code",
   "execution_count": 30,
   "id": "3f869b0d",
   "metadata": {},
   "outputs": [
    {
     "data": {
      "image/png": "[encoded data removed]",
      "text/plain": [
       "<Figure size 576x432 with 1 Axes>"
      ]
     },
     "metadata": {
      "needs_background": "light"
     },
     "output_type": "display_data"
    }
   ],
   "source": [
    "a4_dims = (8,6)\n",
    "fig, ax = plt.subplots(figsize=a4_dims)\n",
    "sns.countplot(x = vis_l0_concepts, order = vis_l0_concepts.value_counts().index)\n",
    "plt.xticks(rotation=80)\n",
    "plt.ylabel('Count (log)')\n",
    "plt.yscale('log')\n",
    "plt.savefig('../results/supp/vis_L0.pdf', bbox_inches = 'tight')"
   ]
  },
  {
   "cell_type": "code",
   "execution_count": 31,
   "id": "3872d00b",
   "metadata": {},
   "outputs": [],
   "source": [
    "ref_l0 = ref_unique[ref_unique.Level == 0]\n",
    "ref_l0_concepts = ref_l0.Concept"
   ]
  },
  {
   "cell_type": "code",
   "execution_count": 32,
   "id": "ff356143",
   "metadata": {},
   "outputs": [
    {
     "data": {
      "text/html": [
       "<div>\n",
       "<style scoped>\n",
       "    .dataframe tbody tr th:only-of-type {\n",
       "        vertical-align: middle;\n",
       "    }\n",
       "\n",
       "    .dataframe tbody tr th {\n",
       "        vertical-align: top;\n",
       "    }\n",
       "\n",
       "    .dataframe thead th {\n",
       "        text-align: right;\n",
       "    }\n",
       "</style>\n",
       "<table border=\"1\" class=\"dataframe\">\n",
       "  <thead>\n",
       "    <tr style=\"text-align: right;\">\n",
       "      <th></th>\n",
       "      <th>concept</th>\n",
       "      <th>count</th>\n",
       "      <th>ratio</th>\n",
       "    </tr>\n",
       "  </thead>\n",
       "  <tbody>\n",
       "    <tr>\n",
       "      <th>0</th>\n",
       "      <td>Computer science</td>\n",
       "      <td>32706</td>\n",
       "      <td>0.649</td>\n",
       "    </tr>\n",
       "    <tr>\n",
       "      <th>1</th>\n",
       "      <td>Mathematics</td>\n",
       "      <td>5479</td>\n",
       "      <td>0.109</td>\n",
       "    </tr>\n",
       "    <tr>\n",
       "      <th>9</th>\n",
       "      <td>Psychology</td>\n",
       "      <td>3041</td>\n",
       "      <td>0.060</td>\n",
       "    </tr>\n",
       "    <tr>\n",
       "      <th>2</th>\n",
       "      <td>Physics</td>\n",
       "      <td>1958</td>\n",
       "      <td>0.039</td>\n",
       "    </tr>\n",
       "    <tr>\n",
       "      <th>4</th>\n",
       "      <td>Medicine</td>\n",
       "      <td>1464</td>\n",
       "      <td>0.029</td>\n",
       "    </tr>\n",
       "    <tr>\n",
       "      <th>5</th>\n",
       "      <td>Materials science</td>\n",
       "      <td>892</td>\n",
       "      <td>0.018</td>\n",
       "    </tr>\n",
       "    <tr>\n",
       "      <th>3</th>\n",
       "      <td>Biology</td>\n",
       "      <td>811</td>\n",
       "      <td>0.016</td>\n",
       "    </tr>\n",
       "    <tr>\n",
       "      <th>7</th>\n",
       "      <td>Environmental science</td>\n",
       "      <td>591</td>\n",
       "      <td>0.012</td>\n",
       "    </tr>\n",
       "    <tr>\n",
       "      <th>10</th>\n",
       "      <td>Sociology</td>\n",
       "      <td>576</td>\n",
       "      <td>0.011</td>\n",
       "    </tr>\n",
       "    <tr>\n",
       "      <th>6</th>\n",
       "      <td>Geography</td>\n",
       "      <td>506</td>\n",
       "      <td>0.010</td>\n",
       "    </tr>\n",
       "    <tr>\n",
       "      <th>13</th>\n",
       "      <td>Business</td>\n",
       "      <td>467</td>\n",
       "      <td>0.009</td>\n",
       "    </tr>\n",
       "    <tr>\n",
       "      <th>8</th>\n",
       "      <td>Chemistry</td>\n",
       "      <td>423</td>\n",
       "      <td>0.008</td>\n",
       "    </tr>\n",
       "    <tr>\n",
       "      <th>11</th>\n",
       "      <td>Geology</td>\n",
       "      <td>428</td>\n",
       "      <td>0.008</td>\n",
       "    </tr>\n",
       "    <tr>\n",
       "      <th>14</th>\n",
       "      <td>Art</td>\n",
       "      <td>276</td>\n",
       "      <td>0.005</td>\n",
       "    </tr>\n",
       "    <tr>\n",
       "      <th>17</th>\n",
       "      <td>Political science</td>\n",
       "      <td>229</td>\n",
       "      <td>0.005</td>\n",
       "    </tr>\n",
       "    <tr>\n",
       "      <th>15</th>\n",
       "      <td>Economics</td>\n",
       "      <td>215</td>\n",
       "      <td>0.004</td>\n",
       "    </tr>\n",
       "    <tr>\n",
       "      <th>12</th>\n",
       "      <td>Engineering</td>\n",
       "      <td>167</td>\n",
       "      <td>0.003</td>\n",
       "    </tr>\n",
       "    <tr>\n",
       "      <th>18</th>\n",
       "      <td>History</td>\n",
       "      <td>88</td>\n",
       "      <td>0.002</td>\n",
       "    </tr>\n",
       "    <tr>\n",
       "      <th>16</th>\n",
       "      <td>Philosophy</td>\n",
       "      <td>54</td>\n",
       "      <td>0.001</td>\n",
       "    </tr>\n",
       "  </tbody>\n",
       "</table>\n",
       "</div>"
      ],
      "text/plain": [
       "                  concept  count  ratio\n",
       "0        Computer science  32706  0.649\n",
       "1             Mathematics   5479  0.109\n",
       "9              Psychology   3041  0.060\n",
       "2                 Physics   1958  0.039\n",
       "4                Medicine   1464  0.029\n",
       "5       Materials science    892  0.018\n",
       "3                 Biology    811  0.016\n",
       "7   Environmental science    591  0.012\n",
       "10              Sociology    576  0.011\n",
       "6               Geography    506  0.010\n",
       "13               Business    467  0.009\n",
       "8               Chemistry    423  0.008\n",
       "11                Geology    428  0.008\n",
       "14                    Art    276  0.005\n",
       "17      Political science    229  0.005\n",
       "15              Economics    215  0.004\n",
       "12            Engineering    167  0.003\n",
       "18                History     88  0.002\n",
       "16             Philosophy     54  0.001"
      ]
     },
     "execution_count": 32,
     "metadata": {},
     "output_type": "execute_result"
    }
   ],
   "source": [
    "ref_l0_dic = dict(Counter(ref_l0_concepts))\n",
    "ref_l0_dic_df = pd.DataFrame(ref_l0_dic.items(), columns = ['concept', 'count'])\n",
    "ref_l0_dic_df['ratio'] = round(\n",
    "    ref_l0_dic_df['count'] / ref_l0_dic_df['count'].sum(),\n",
    "    3)\n",
    "ref_l0_dic_df.sort_values(by = 'ratio', ascending= False)"
   ]
  },
  {
   "cell_type": "code",
   "execution_count": 33,
   "id": "5b58ae55",
   "metadata": {},
   "outputs": [
    {
     "data": {
      "image/png": "[encoded data removed]",
      "text/plain": [
       "<Figure size 576x432 with 1 Axes>"
      ]
     },
     "metadata": {
      "needs_background": "light"
     },
     "output_type": "display_data"
    }
   ],
   "source": [
    "a4_dims = (8,6)\n",
    "fig, ax = plt.subplots(figsize=a4_dims)\n",
    "sns.countplot(x = ref_l0_concepts, order = ref_l0_concepts.value_counts().index)\n",
    "# plt.xticks(rotation=80)\n",
    "plt.yscale('log')\n",
    "plt.ylabel('Count (log)')\n",
    "plt.savefig('../results/supp/ref_L0.pdf', bbox_inches = 'tight')"
   ]
  },
  {
   "cell_type": "code",
   "execution_count": 34,
   "id": "a159fc42",
   "metadata": {},
   "outputs": [],
   "source": [
    "cit_l0 = cit_unique[cit_unique.Level == 0]\n",
    "cit_l0_concepts = cit_l0.Concept"
   ]
  },
  {
   "cell_type": "code",
   "execution_count": 35,
   "id": "eefc70dd",
   "metadata": {},
   "outputs": [
    {
     "data": {
      "text/html": [
       "<div>\n",
       "<style scoped>\n",
       "    .dataframe tbody tr th:only-of-type {\n",
       "        vertical-align: middle;\n",
       "    }\n",
       "\n",
       "    .dataframe tbody tr th {\n",
       "        vertical-align: top;\n",
       "    }\n",
       "\n",
       "    .dataframe thead th {\n",
       "        text-align: right;\n",
       "    }\n",
       "</style>\n",
       "<table border=\"1\" class=\"dataframe\">\n",
       "  <thead>\n",
       "    <tr style=\"text-align: right;\">\n",
       "      <th></th>\n",
       "      <th>concept</th>\n",
       "      <th>count</th>\n",
       "      <th>ratio</th>\n",
       "    </tr>\n",
       "  </thead>\n",
       "  <tbody>\n",
       "    <tr>\n",
       "      <th>2</th>\n",
       "      <td>Computer science</td>\n",
       "      <td>53853</td>\n",
       "      <td>0.752</td>\n",
       "    </tr>\n",
       "    <tr>\n",
       "      <th>14</th>\n",
       "      <td>Mathematics</td>\n",
       "      <td>5144</td>\n",
       "      <td>0.072</td>\n",
       "    </tr>\n",
       "    <tr>\n",
       "      <th>4</th>\n",
       "      <td>Medicine</td>\n",
       "      <td>2033</td>\n",
       "      <td>0.028</td>\n",
       "    </tr>\n",
       "    <tr>\n",
       "      <th>7</th>\n",
       "      <td>Psychology</td>\n",
       "      <td>1669</td>\n",
       "      <td>0.023</td>\n",
       "    </tr>\n",
       "    <tr>\n",
       "      <th>5</th>\n",
       "      <td>Physics</td>\n",
       "      <td>1456</td>\n",
       "      <td>0.020</td>\n",
       "    </tr>\n",
       "    <tr>\n",
       "      <th>6</th>\n",
       "      <td>Biology</td>\n",
       "      <td>1374</td>\n",
       "      <td>0.019</td>\n",
       "    </tr>\n",
       "    <tr>\n",
       "      <th>15</th>\n",
       "      <td>Materials science</td>\n",
       "      <td>1282</td>\n",
       "      <td>0.018</td>\n",
       "    </tr>\n",
       "    <tr>\n",
       "      <th>9</th>\n",
       "      <td>Geography</td>\n",
       "      <td>827</td>\n",
       "      <td>0.012</td>\n",
       "    </tr>\n",
       "    <tr>\n",
       "      <th>11</th>\n",
       "      <td>Business</td>\n",
       "      <td>866</td>\n",
       "      <td>0.012</td>\n",
       "    </tr>\n",
       "    <tr>\n",
       "      <th>0</th>\n",
       "      <td>Sociology</td>\n",
       "      <td>576</td>\n",
       "      <td>0.008</td>\n",
       "    </tr>\n",
       "    <tr>\n",
       "      <th>8</th>\n",
       "      <td>Environmental science</td>\n",
       "      <td>602</td>\n",
       "      <td>0.008</td>\n",
       "    </tr>\n",
       "    <tr>\n",
       "      <th>13</th>\n",
       "      <td>Geology</td>\n",
       "      <td>481</td>\n",
       "      <td>0.007</td>\n",
       "    </tr>\n",
       "    <tr>\n",
       "      <th>10</th>\n",
       "      <td>Chemistry</td>\n",
       "      <td>424</td>\n",
       "      <td>0.006</td>\n",
       "    </tr>\n",
       "    <tr>\n",
       "      <th>1</th>\n",
       "      <td>Political science</td>\n",
       "      <td>348</td>\n",
       "      <td>0.005</td>\n",
       "    </tr>\n",
       "    <tr>\n",
       "      <th>3</th>\n",
       "      <td>Engineering</td>\n",
       "      <td>296</td>\n",
       "      <td>0.004</td>\n",
       "    </tr>\n",
       "    <tr>\n",
       "      <th>16</th>\n",
       "      <td>Art</td>\n",
       "      <td>262</td>\n",
       "      <td>0.004</td>\n",
       "    </tr>\n",
       "    <tr>\n",
       "      <th>12</th>\n",
       "      <td>History</td>\n",
       "      <td>58</td>\n",
       "      <td>0.001</td>\n",
       "    </tr>\n",
       "    <tr>\n",
       "      <th>17</th>\n",
       "      <td>Economics</td>\n",
       "      <td>74</td>\n",
       "      <td>0.001</td>\n",
       "    </tr>\n",
       "    <tr>\n",
       "      <th>18</th>\n",
       "      <td>Philosophy</td>\n",
       "      <td>33</td>\n",
       "      <td>0.000</td>\n",
       "    </tr>\n",
       "  </tbody>\n",
       "</table>\n",
       "</div>"
      ],
      "text/plain": [
       "                  concept  count  ratio\n",
       "2        Computer science  53853  0.752\n",
       "14            Mathematics   5144  0.072\n",
       "4                Medicine   2033  0.028\n",
       "7              Psychology   1669  0.023\n",
       "5                 Physics   1456  0.020\n",
       "6                 Biology   1374  0.019\n",
       "15      Materials science   1282  0.018\n",
       "9               Geography    827  0.012\n",
       "11               Business    866  0.012\n",
       "0               Sociology    576  0.008\n",
       "8   Environmental science    602  0.008\n",
       "13                Geology    481  0.007\n",
       "10              Chemistry    424  0.006\n",
       "1       Political science    348  0.005\n",
       "3             Engineering    296  0.004\n",
       "16                    Art    262  0.004\n",
       "12                History     58  0.001\n",
       "17              Economics     74  0.001\n",
       "18             Philosophy     33  0.000"
      ]
     },
     "execution_count": 35,
     "metadata": {},
     "output_type": "execute_result"
    }
   ],
   "source": [
    "cit_l0_dic = dict(Counter(cit_l0_concepts))\n",
    "cit_l0_dic_df = pd.DataFrame(cit_l0_dic.items(), columns = ['concept', 'count'])\n",
    "cit_l0_dic_df['ratio'] = round(\n",
    "    cit_l0_dic_df['count'] / cit_l0_dic_df['count'].sum(),\n",
    "    3)\n",
    "cit_l0_dic_df.sort_values(by = 'ratio', ascending= False)"
   ]
  },
  {
   "cell_type": "code",
   "execution_count": 36,
   "id": "d199d0d6",
   "metadata": {},
   "outputs": [
    {
     "data": {
      "image/png": "[encoded data removed]",
      "text/plain": [
       "<Figure size 576x432 with 1 Axes>"
      ]
     },
     "metadata": {
      "needs_background": "light"
     },
     "output_type": "display_data"
    }
   ],
   "source": [
    "a4_dims = (8, 6)\n",
    "fig, ax = plt.subplots(figsize=a4_dims)\n",
    "sns.countplot(x = cit_l0_concepts, order = cit_l0_concepts.value_counts().index)\n",
    "# plt.xticks(rotation=80)\n",
    "plt.ylabel('Count (log)')\n",
    "plt.yscale('log')\n",
    "plt.savefig('../results/supp/cit_L0.pdf', bbox_inches = 'tight')"
   ]
  },
  {
   "cell_type": "markdown",
   "id": "7bc0ad42",
   "metadata": {},
   "source": [
    "## Popularity trends"
   ]
  },
  {
   "cell_type": "code",
   "execution_count": 37,
   "id": "9e4c2b89",
   "metadata": {},
   "outputs": [
    {
     "data": {
      "text/html": [
       "<div>\n",
       "<style scoped>\n",
       "    .dataframe tbody tr th:only-of-type {\n",
       "        vertical-align: middle;\n",
       "    }\n",
       "\n",
       "    .dataframe tbody tr th {\n",
       "        vertical-align: top;\n",
       "    }\n",
       "\n",
       "    .dataframe thead th {\n",
       "        text-align: right;\n",
       "    }\n",
       "</style>\n",
       "<table border=\"1\" class=\"dataframe\">\n",
       "  <thead>\n",
       "    <tr style=\"text-align: right;\">\n",
       "      <th></th>\n",
       "      <th>Year</th>\n",
       "      <th>DOI</th>\n",
       "      <th>Title</th>\n",
       "      <th>Number of Concepts</th>\n",
       "      <th>Index of Concept</th>\n",
       "      <th>Concept</th>\n",
       "      <th>Concept ID</th>\n",
       "      <th>Wikidata</th>\n",
       "      <th>Level</th>\n",
       "      <th>Score</th>\n",
       "    </tr>\n",
       "  </thead>\n",
       "  <tbody>\n",
       "    <tr>\n",
       "      <th>242</th>\n",
       "      <td>2007</td>\n",
       "      <td>10.1109/VAST.2007.4389006</td>\n",
       "      <td>Jigsaw: Supporting Investigative Analysis thro...</td>\n",
       "      <td>10.0</td>\n",
       "      <td>10.0</td>\n",
       "      <td>Multimedia</td>\n",
       "      <td>https://openalex.org/C49774154</td>\n",
       "      <td>https://www.wikidata.org/wiki/Q131765</td>\n",
       "      <td>1.0</td>\n",
       "      <td>0.321249</td>\n",
       "    </tr>\n",
       "  </tbody>\n",
       "</table>\n",
       "</div>"
      ],
      "text/plain": [
       "     Year                        DOI  \\\n",
       "242  2007  10.1109/VAST.2007.4389006   \n",
       "\n",
       "                                                 Title  Number of Concepts  \\\n",
       "242  Jigsaw: Supporting Investigative Analysis thro...                10.0   \n",
       "\n",
       "     Index of Concept     Concept                      Concept ID  \\\n",
       "242              10.0  Multimedia  https://openalex.org/C49774154   \n",
       "\n",
       "                                  Wikidata  Level     Score  \n",
       "242  https://www.wikidata.org/wiki/Q131765    1.0  0.321249  "
      ]
     },
     "execution_count": 37,
     "metadata": {},
     "output_type": "execute_result"
    }
   ],
   "source": [
    "vis_L1 = vis[vis.Level == 1]\n",
    "vis_L1[vis_L1.Concept == 'Multimedia'].head(1)"
   ]
  },
  {
   "cell_type": "code",
   "execution_count": 38,
   "id": "99bb440e",
   "metadata": {},
   "outputs": [
    {
     "data": {
      "text/html": [
       "<div>\n",
       "<style scoped>\n",
       "    .dataframe tbody tr th:only-of-type {\n",
       "        vertical-align: middle;\n",
       "    }\n",
       "\n",
       "    .dataframe tbody tr th {\n",
       "        vertical-align: top;\n",
       "    }\n",
       "\n",
       "    .dataframe thead th {\n",
       "        text-align: right;\n",
       "    }\n",
       "</style>\n",
       "<table border=\"1\" class=\"dataframe\">\n",
       "  <thead>\n",
       "    <tr style=\"text-align: right;\">\n",
       "      <th></th>\n",
       "      <th>Year</th>\n",
       "      <th>DOI</th>\n",
       "      <th>Title</th>\n",
       "      <th>Number of Concepts</th>\n",
       "      <th>Index of Concept</th>\n",
       "      <th>Concept</th>\n",
       "      <th>Concept ID</th>\n",
       "      <th>Wikidata</th>\n",
       "      <th>Level</th>\n",
       "      <th>Score</th>\n",
       "    </tr>\n",
       "  </thead>\n",
       "  <tbody>\n",
       "    <tr>\n",
       "      <th>21</th>\n",
       "      <td>1991</td>\n",
       "      <td>10.1109/VISUAL.1991.175815</td>\n",
       "      <td>Tree-maps: a space-filling approach to the vis...</td>\n",
       "      <td>17.0</td>\n",
       "      <td>13.0</td>\n",
       "      <td>Cluster analysis</td>\n",
       "      <td>https://openalex.org/C73555534</td>\n",
       "      <td>https://www.wikidata.org/wiki/Q622825</td>\n",
       "      <td>2.0</td>\n",
       "      <td>0.350092</td>\n",
       "    </tr>\n",
       "  </tbody>\n",
       "</table>\n",
       "</div>"
      ],
      "text/plain": [
       "    Year                         DOI  \\\n",
       "21  1991  10.1109/VISUAL.1991.175815   \n",
       "\n",
       "                                                Title  Number of Concepts  \\\n",
       "21  Tree-maps: a space-filling approach to the vis...                17.0   \n",
       "\n",
       "    Index of Concept           Concept                      Concept ID  \\\n",
       "21              13.0  Cluster analysis  https://openalex.org/C73555534   \n",
       "\n",
       "                                 Wikidata  Level     Score  \n",
       "21  https://www.wikidata.org/wiki/Q622825    2.0  0.350092  "
      ]
     },
     "execution_count": 38,
     "metadata": {},
     "output_type": "execute_result"
    }
   ],
   "source": [
    "vis_L2 = vis[vis.Level == 2]\n",
    "len(list(set(vis_L2.Concept)))\n",
    "vis_L2[vis_L2.Concept.str.contains('Cluster')].head(1)\n",
    "## In L2, Flow (mathematics), and Volume (thermodynamics) were not Computer Science"
   ]
  },
  {
   "cell_type": "markdown",
   "id": "1f609006",
   "metadata": {},
   "source": [
    "## Heat map"
   ]
  },
  {
   "cell_type": "code",
   "execution_count": 39,
   "id": "00c5a529",
   "metadata": {},
   "outputs": [],
   "source": [
    "cooccur_orig = pd.read_csv('../data/plots/co_occurrance/aggregated_cooccurance_df.csv')\n",
    "sources = cooccur_orig['source']\n",
    "targets = cooccur_orig['target']\n",
    "values = cooccur_orig['value']\n",
    "levels = cooccur_orig['level']\n",
    "df2 = pd.DataFrame({\n",
    "    'source': targets,\n",
    "    'target': sources,\n",
    "    'value': values,\n",
    "    'level': levels\n",
    "})\n",
    "cooccur_orig = cooccur_orig.append(df2).reset_index(drop=True)"
   ]
  },
  {
   "cell_type": "markdown",
   "id": "89507c44",
   "metadata": {},
   "source": [
    "### Co-occur in Level 0"
   ]
  },
  {
   "cell_type": "code",
   "execution_count": 40,
   "id": "6ecd8cd0",
   "metadata": {},
   "outputs": [
    {
     "data": {
      "text/html": [
       "<div>\n",
       "<style scoped>\n",
       "    .dataframe tbody tr th:only-of-type {\n",
       "        vertical-align: middle;\n",
       "    }\n",
       "\n",
       "    .dataframe tbody tr th {\n",
       "        vertical-align: top;\n",
       "    }\n",
       "\n",
       "    .dataframe thead th {\n",
       "        text-align: right;\n",
       "    }\n",
       "</style>\n",
       "<table border=\"1\" class=\"dataframe\">\n",
       "  <thead>\n",
       "    <tr style=\"text-align: right;\">\n",
       "      <th></th>\n",
       "      <th>source</th>\n",
       "      <th>target</th>\n",
       "      <th>value</th>\n",
       "      <th>level</th>\n",
       "    </tr>\n",
       "  </thead>\n",
       "  <tbody>\n",
       "    <tr>\n",
       "      <th>0</th>\n",
       "      <td>Computer science</td>\n",
       "      <td>Mathematics</td>\n",
       "      <td>146</td>\n",
       "      <td>0</td>\n",
       "    </tr>\n",
       "    <tr>\n",
       "      <th>1</th>\n",
       "      <td>Physics</td>\n",
       "      <td>Computer science</td>\n",
       "      <td>73</td>\n",
       "      <td>0</td>\n",
       "    </tr>\n",
       "    <tr>\n",
       "      <th>2</th>\n",
       "      <td>Computer science</td>\n",
       "      <td>Materials science</td>\n",
       "      <td>52</td>\n",
       "      <td>0</td>\n",
       "    </tr>\n",
       "    <tr>\n",
       "      <th>3</th>\n",
       "      <td>Computer science</td>\n",
       "      <td>Medicine</td>\n",
       "      <td>40</td>\n",
       "      <td>0</td>\n",
       "    </tr>\n",
       "    <tr>\n",
       "      <th>4</th>\n",
       "      <td>Mathematics</td>\n",
       "      <td>Computer science</td>\n",
       "      <td>35</td>\n",
       "      <td>0</td>\n",
       "    </tr>\n",
       "  </tbody>\n",
       "</table>\n",
       "</div>"
      ],
      "text/plain": [
       "             source             target  value  level\n",
       "0  Computer science        Mathematics    146      0\n",
       "1           Physics   Computer science     73      0\n",
       "2  Computer science  Materials science     52      0\n",
       "3  Computer science           Medicine     40      0\n",
       "4       Mathematics   Computer science     35      0"
      ]
     },
     "execution_count": 40,
     "metadata": {},
     "output_type": "execute_result"
    }
   ],
   "source": [
    "cooccur = cooccur_orig[(cooccur_orig.level == 0) & (cooccur_orig.value > 1)]\n",
    "cooccur.head()"
   ]
  },
  {
   "cell_type": "code",
   "execution_count": 41,
   "id": "3b7084e6",
   "metadata": {},
   "outputs": [],
   "source": [
    "df_wide = cooccur.pivot_table( index='source', columns='target', values='value').fillna(0)"
   ]
  },
  {
   "cell_type": "code",
   "execution_count": 42,
   "id": "4277f705",
   "metadata": {},
   "outputs": [],
   "source": [
    "# df_wide = df_wide.replace(\n",
    "#     ['Artificial intelligence', 'Computer graphics (images)', 'Data science', 'Human-computer interaction', 'Machine learning'],\n",
    "#     ['AI', 'Computer Graphics', 'DS', 'HCI', 'ML']\n",
    "# )"
   ]
  },
  {
   "cell_type": "code",
   "execution_count": 43,
   "id": "1a06f707",
   "metadata": {},
   "outputs": [
    {
     "data": {
      "image/png": "[encoded data removed]",
      "text/plain": [
       "<Figure size 576x432 with 2 Axes>"
      ]
     },
     "metadata": {
      "needs_background": "light"
     },
     "output_type": "display_data"
    }
   ],
   "source": [
    "fig = plt.figure(figsize=(8, 6))\n",
    "g = sns.heatmap(df_wide, cmap=\"YlGnBu\")\n",
    "# plt.xticks(rotation=80)\n",
    "g.set_xlabel('')\n",
    "g.set_ylabel('')\n",
    "# g.set_title('A', loc = 'left')\n",
    "plt.savefig('../results/supp/co_occur_L0.pdf', bbox_inches = 'tight')\n",
    "# plt.savefig('../results/figures/heat.png', bbox_inches = 'tight')"
   ]
  },
  {
   "cell_type": "markdown",
   "id": "a319a153",
   "metadata": {},
   "source": [
    "### L1"
   ]
  },
  {
   "cell_type": "code",
   "execution_count": 44,
   "id": "84c284d2",
   "metadata": {},
   "outputs": [
    {
     "data": {
      "image/png": "[encoded data removed]",
      "text/plain": [
       "<Figure size 576x432 with 2 Axes>"
      ]
     },
     "metadata": {
      "needs_background": "light"
     },
     "output_type": "display_data"
    }
   ],
   "source": [
    "cooccur = cooccur_orig[(cooccur_orig.level == 1) & (cooccur_orig.value > 50)]\n",
    "cooccur.head()\n",
    "df_wide = cooccur.pivot_table( index='source', columns='target', values='value').fillna(0)\n",
    "fig = plt.figure(figsize=(8, 6))\n",
    "g = sns.heatmap(df_wide, cmap=\"YlGnBu\")\n",
    "# plt.xticks(rotation=80)\n",
    "g.set_xlabel('')\n",
    "g.set_ylabel('')\n",
    "plt.savefig('../results/supp/co_occur_L1.pdf', bbox_inches = 'tight')"
   ]
  },
  {
   "cell_type": "markdown",
   "id": "1ba6e71c",
   "metadata": {},
   "source": [
    "###  L2"
   ]
  },
  {
   "cell_type": "code",
   "execution_count": 45,
   "id": "73af5e15",
   "metadata": {},
   "outputs": [
    {
     "data": {
      "image/png": "[encoded data removed]",
      "text/plain": [
       "<Figure size 576x432 with 2 Axes>"
      ]
     },
     "metadata": {
      "needs_background": "light"
     },
     "output_type": "display_data"
    }
   ],
   "source": [
    "cooccur = cooccur_orig[(cooccur_orig.level == 2) & (cooccur_orig.value > 40)]\n",
    "cooccur.head()\n",
    "df_wide = cooccur.pivot_table( index='source', columns='target', values='value').fillna(0)\n",
    "fig = plt.figure(figsize=(8, 6))\n",
    "g = sns.heatmap(df_wide, cmap=\"YlGnBu\")\n",
    "# plt.xticks(rotation=80)\n",
    "g.set_xlabel('')\n",
    "g.set_ylabel('')\n",
    "plt.savefig('../results/supp/co_occur_L2.pdf', bbox_inches = 'tight')"
   ]
  },
  {
   "cell_type": "markdown",
   "id": "47108ddc",
   "metadata": {},
   "source": [
    "### L3"
   ]
  },
  {
   "cell_type": "code",
   "execution_count": 46,
   "id": "6039378a",
   "metadata": {},
   "outputs": [
    {
     "data": {
      "image/png": "[encoded data removed]",
      "text/plain": [
       "<Figure size 576x432 with 2 Axes>"
      ]
     },
     "metadata": {
      "needs_background": "light"
     },
     "output_type": "display_data"
    }
   ],
   "source": [
    "cooccur = cooccur_orig[(cooccur_orig.level == 3) & (cooccur_orig.value > 30)]\n",
    "cooccur.head()\n",
    "df_wide = cooccur.pivot_table( index='source', columns='target', values='value').fillna(0)\n",
    "fig = plt.figure(figsize=(8, 6))\n",
    "g = sns.heatmap(df_wide, cmap=\"YlGnBu\")\n",
    "# plt.xticks(rotation=80)\n",
    "g.set_xlabel('')\n",
    "g.set_ylabel('')\n",
    "plt.savefig('../results/supp/co_occur_L3.pdf', bbox_inches = 'tight')"
   ]
  },
  {
   "cell_type": "markdown",
   "id": "fb282fc3",
   "metadata": {},
   "source": [
    "## L1 concept evolution (Stack area chart)\n",
    "\n",
    "To show the evolution of top ten (and 'Other') Level 1 Concepts of VIS publications over the past 32 years. "
   ]
  },
  {
   "cell_type": "code",
   "execution_count": 47,
   "id": "5d1f4317",
   "metadata": {},
   "outputs": [
    {
     "data": {
      "text/html": [
       "<div>\n",
       "<style scoped>\n",
       "    .dataframe tbody tr th:only-of-type {\n",
       "        vertical-align: middle;\n",
       "    }\n",
       "\n",
       "    .dataframe tbody tr th {\n",
       "        vertical-align: top;\n",
       "    }\n",
       "\n",
       "    .dataframe thead th {\n",
       "        text-align: right;\n",
       "    }\n",
       "</style>\n",
       "<table border=\"1\" class=\"dataframe\">\n",
       "  <thead>\n",
       "    <tr style=\"text-align: right;\">\n",
       "      <th></th>\n",
       "      <th>Year</th>\n",
       "      <th>DOI</th>\n",
       "      <th>Title</th>\n",
       "      <th>Number of Concepts</th>\n",
       "      <th>Index of Concept</th>\n",
       "      <th>Concept</th>\n",
       "      <th>Concept ID</th>\n",
       "      <th>Wikidata</th>\n",
       "      <th>Level</th>\n",
       "      <th>Score</th>\n",
       "    </tr>\n",
       "  </thead>\n",
       "  <tbody>\n",
       "    <tr>\n",
       "      <th>2</th>\n",
       "      <td>2011</td>\n",
       "      <td>10.1109/TVCG.2011.185</td>\n",
       "      <td>D³ Data-Driven Documents</td>\n",
       "      <td>9.0</td>\n",
       "      <td>3.0</td>\n",
       "      <td>Information retrieval</td>\n",
       "      <td>https://openalex.org/C23123220</td>\n",
       "      <td>https://www.wikidata.org/wiki/Q816826</td>\n",
       "      <td>1.0</td>\n",
       "      <td>0.391768</td>\n",
       "    </tr>\n",
       "    <tr>\n",
       "      <th>3</th>\n",
       "      <td>2011</td>\n",
       "      <td>10.1109/TVCG.2011.185</td>\n",
       "      <td>D³ Data-Driven Documents</td>\n",
       "      <td>9.0</td>\n",
       "      <td>4.0</td>\n",
       "      <td>Data science</td>\n",
       "      <td>https://openalex.org/C2522767166</td>\n",
       "      <td>https://www.wikidata.org/wiki/Q2374463</td>\n",
       "      <td>1.0</td>\n",
       "      <td>0.390022</td>\n",
       "    </tr>\n",
       "    <tr>\n",
       "      <th>8</th>\n",
       "      <td>2011</td>\n",
       "      <td>10.1109/TVCG.2011.185</td>\n",
       "      <td>D³ Data-Driven Documents</td>\n",
       "      <td>9.0</td>\n",
       "      <td>9.0</td>\n",
       "      <td>Data mining</td>\n",
       "      <td>https://openalex.org/C124101348</td>\n",
       "      <td>https://www.wikidata.org/wiki/Q172491</td>\n",
       "      <td>1.0</td>\n",
       "      <td>0.322426</td>\n",
       "    </tr>\n",
       "    <tr>\n",
       "      <th>18</th>\n",
       "      <td>1991</td>\n",
       "      <td>10.1109/VISUAL.1991.175815</td>\n",
       "      <td>Tree-maps: a space-filling approach to the vis...</td>\n",
       "      <td>17.0</td>\n",
       "      <td>10.0</td>\n",
       "      <td>Artificial intelligence</td>\n",
       "      <td>https://openalex.org/C154945302</td>\n",
       "      <td>https://www.wikidata.org/wiki/Q11660</td>\n",
       "      <td>1.0</td>\n",
       "      <td>0.365130</td>\n",
       "    </tr>\n",
       "    <tr>\n",
       "      <th>23</th>\n",
       "      <td>1991</td>\n",
       "      <td>10.1109/VISUAL.1991.175815</td>\n",
       "      <td>Tree-maps: a space-filling approach to the vis...</td>\n",
       "      <td>17.0</td>\n",
       "      <td>15.0</td>\n",
       "      <td>Data mining</td>\n",
       "      <td>https://openalex.org/C124101348</td>\n",
       "      <td>https://www.wikidata.org/wiki/Q172491</td>\n",
       "      <td>1.0</td>\n",
       "      <td>0.338191</td>\n",
       "    </tr>\n",
       "  </tbody>\n",
       "</table>\n",
       "</div>"
      ],
      "text/plain": [
       "    Year                         DOI  \\\n",
       "2   2011       10.1109/TVCG.2011.185   \n",
       "3   2011       10.1109/TVCG.2011.185   \n",
       "8   2011       10.1109/TVCG.2011.185   \n",
       "18  1991  10.1109/VISUAL.1991.175815   \n",
       "23  1991  10.1109/VISUAL.1991.175815   \n",
       "\n",
       "                                                Title  Number of Concepts  \\\n",
       "2                            D³ Data-Driven Documents                 9.0   \n",
       "3                            D³ Data-Driven Documents                 9.0   \n",
       "8                            D³ Data-Driven Documents                 9.0   \n",
       "18  Tree-maps: a space-filling approach to the vis...                17.0   \n",
       "23  Tree-maps: a space-filling approach to the vis...                17.0   \n",
       "\n",
       "    Index of Concept                  Concept  \\\n",
       "2                3.0    Information retrieval   \n",
       "3                4.0             Data science   \n",
       "8                9.0              Data mining   \n",
       "18              10.0  Artificial intelligence   \n",
       "23              15.0              Data mining   \n",
       "\n",
       "                          Concept ID                                Wikidata  \\\n",
       "2     https://openalex.org/C23123220   https://www.wikidata.org/wiki/Q816826   \n",
       "3   https://openalex.org/C2522767166  https://www.wikidata.org/wiki/Q2374463   \n",
       "8    https://openalex.org/C124101348   https://www.wikidata.org/wiki/Q172491   \n",
       "18   https://openalex.org/C154945302    https://www.wikidata.org/wiki/Q11660   \n",
       "23   https://openalex.org/C124101348   https://www.wikidata.org/wiki/Q172491   \n",
       "\n",
       "    Level     Score  \n",
       "2     1.0  0.391768  \n",
       "3     1.0  0.390022  \n",
       "8     1.0  0.322426  \n",
       "18    1.0  0.365130  \n",
       "23    1.0  0.338191  "
      ]
     },
     "execution_count": 47,
     "metadata": {},
     "output_type": "execute_result"
    }
   ],
   "source": [
    "df = vis\n",
    "LEVEL = 1\n",
    "level1_df = df[df.Level == LEVEL]\n",
    "level1_df.head()"
   ]
  },
  {
   "cell_type": "code",
   "execution_count": 48,
   "id": "77510564",
   "metadata": {},
   "outputs": [
    {
     "data": {
      "text/plain": [
       "['Artificial intelligence',\n",
       " 'Computer vision',\n",
       " 'Computer graphics (images)',\n",
       " 'Human–computer interaction',\n",
       " 'Data science',\n",
       " 'Algorithm',\n",
       " 'Data mining',\n",
       " 'Information retrieval',\n",
       " 'Machine learning',\n",
       " 'Multimedia']"
      ]
     },
     "execution_count": 48,
     "metadata": {},
     "output_type": "execute_result"
    }
   ],
   "source": [
    "# top ten L1 concepts\n",
    "dic = dict(Counter(level1_df.Concept).most_common(10))\n",
    "top_ten = list(dic.keys())\n",
    "top_ten"
   ]
  },
  {
   "cell_type": "code",
   "execution_count": 49,
   "id": "8517ac9e",
   "metadata": {},
   "outputs": [],
   "source": [
    "# timeseries and rename those concepts not in top ten as \"Other\"\n",
    "tuples = []\n",
    "for group in level1_df.groupby('Year'):\n",
    "    year = group[0]\n",
    "    group[1]['Concept New'] = group[1].Concept.apply(\n",
    "        lambda x: x if x in top_ten else 'Other'\n",
    "    )\n",
    "    for concept_group in group[1].groupby('Concept New'):\n",
    "        concept = concept_group[0]\n",
    "        count = concept_group[1].shape[0]\n",
    "        tuples.append((year, concept, count))"
   ]
  },
  {
   "cell_type": "code",
   "execution_count": 50,
   "id": "16f3eb35",
   "metadata": {},
   "outputs": [
    {
     "data": {
      "text/html": [
       "<div>\n",
       "<style scoped>\n",
       "    .dataframe tbody tr th:only-of-type {\n",
       "        vertical-align: middle;\n",
       "    }\n",
       "\n",
       "    .dataframe tbody tr th {\n",
       "        vertical-align: top;\n",
       "    }\n",
       "\n",
       "    .dataframe thead th {\n",
       "        text-align: right;\n",
       "    }\n",
       "</style>\n",
       "<table border=\"1\" class=\"dataframe\">\n",
       "  <thead>\n",
       "    <tr style=\"text-align: right;\">\n",
       "      <th></th>\n",
       "      <th>year</th>\n",
       "      <th>concept</th>\n",
       "      <th>count</th>\n",
       "      <th>Year</th>\n",
       "    </tr>\n",
       "  </thead>\n",
       "  <tbody>\n",
       "    <tr>\n",
       "      <th>0</th>\n",
       "      <td>1990</td>\n",
       "      <td>Algorithm</td>\n",
       "      <td>5</td>\n",
       "      <td>1990-01-01</td>\n",
       "    </tr>\n",
       "    <tr>\n",
       "      <th>1</th>\n",
       "      <td>1990</td>\n",
       "      <td>AI</td>\n",
       "      <td>24</td>\n",
       "      <td>1990-01-01</td>\n",
       "    </tr>\n",
       "    <tr>\n",
       "      <th>2</th>\n",
       "      <td>1990</td>\n",
       "      <td>Computer grafics</td>\n",
       "      <td>19</td>\n",
       "      <td>1990-01-01</td>\n",
       "    </tr>\n",
       "    <tr>\n",
       "      <th>3</th>\n",
       "      <td>1990</td>\n",
       "      <td>Computer vision</td>\n",
       "      <td>12</td>\n",
       "      <td>1990-01-01</td>\n",
       "    </tr>\n",
       "    <tr>\n",
       "      <th>4</th>\n",
       "      <td>1990</td>\n",
       "      <td>Data mining</td>\n",
       "      <td>2</td>\n",
       "      <td>1990-01-01</td>\n",
       "    </tr>\n",
       "  </tbody>\n",
       "</table>\n",
       "</div>"
      ],
      "text/plain": [
       "   year           concept  count       Year\n",
       "0  1990         Algorithm      5 1990-01-01\n",
       "1  1990                AI     24 1990-01-01\n",
       "2  1990  Computer grafics     19 1990-01-01\n",
       "3  1990   Computer vision     12 1990-01-01\n",
       "4  1990       Data mining      2 1990-01-01"
      ]
     },
     "execution_count": 50,
     "metadata": {},
     "output_type": "execute_result"
    }
   ],
   "source": [
    "# prepare for stack area chart\n",
    "dff = pd.DataFrame(list(tuples), columns = ['year', 'concept', 'count'])\n",
    "dff['Year'] = pd.to_datetime(dff['year'], format='%Y')\n",
    "dff.replace({\n",
    "    'Artificial intelligence': 'AI',\n",
    "    'Human–computer interaction': 'HCI',\n",
    "    'Computer graphics (images)': 'Computer grafics'\n",
    "    \n",
    "}, inplace=True)\n",
    "dff.head()"
   ]
  },
  {
   "cell_type": "code",
   "execution_count": 51,
   "id": "2b45e3e5",
   "metadata": {},
   "outputs": [
    {
     "data": {
      "text/html": [
       "\n",
       "<div id=\"altair-viz-da0d930d47314debbdd8f36e6085f988\"></div>\n",
       "<script type=\"text/javascript\">\n",
       "  var VEGA_DEBUG = (typeof VEGA_DEBUG == \"undefined\") ? {} : VEGA_DEBUG;\n",
       "  (function(spec, embedOpt){\n",
       "    let outputDiv = document.currentScript.previousElementSibling;\n",
       "    if (outputDiv.id !== \"altair-viz-da0d930d47314debbdd8f36e6085f988\") {\n",
       "      outputDiv = document.getElementById(\"altair-viz-da0d930d47314debbdd8f36e6085f988\");\n",
       "    }\n",
       "    const paths = {\n",
       "      \"vega\": \"https://cdn.jsdelivr.net/npm//vega@5?noext\",\n",
       "      \"vega-lib\": \"https://cdn.jsdelivr.net/npm//vega-lib?noext\",\n",
       "      \"vega-lite\": \"https://cdn.jsdelivr.net/npm//vega-lite@4.17.0?noext\",\n",
       "      \"vega-embed\": \"https://cdn.jsdelivr.net/npm//vega-embed@6?noext\",\n",
       "    };\n",
       "\n",
       "    function maybeLoadScript(lib, version) {\n",
       "      var key = `${lib.replace(\"-\", \"\")}_version`;\n",
       "      return (VEGA_DEBUG[key] == version) ?\n",
       "        Promise.resolve(paths[lib]) :\n",
       "        new Promise(function(resolve, reject) {\n",
       "          var s = document.createElement('script');\n",
       "          document.getElementsByTagName(\"head\")[0].appendChild(s);\n",
       "          s.async = true;\n",
       "          s.onload = () => {\n",
       "            VEGA_DEBUG[key] = version;\n",
       "            return resolve(paths[lib]);\n",
       "          };\n",
       "          s.onerror = () => reject(`Error loading script: ${paths[lib]}`);\n",
       "          s.src = paths[lib];\n",
       "        });\n",
       "    }\n",
       "\n",
       "    function showError(err) {\n",
       "      outputDiv.innerHTML = `<div class=\"error\" style=\"color:red;\">${err}</div>`;\n",
       "      throw err;\n",
       "    }\n",
       "\n",
       "    function displayChart(vegaEmbed) {\n",
       "      vegaEmbed(outputDiv, spec, embedOpt)\n",
       "        .catch(err => showError(`Javascript Error: ${err.message}<br>This usually means there's a typo in your chart specification. See the javascript console for the full traceback.`));\n",
       "    }\n",
       "\n",
       "    if(typeof define === \"function\" && define.amd) {\n",
       "      requirejs.config({paths});\n",
       "      require([\"vega-embed\"], displayChart, err => showError(`Error loading script: ${err.message}`));\n",
       "    } else {\n",
       "      maybeLoadScript(\"vega\", \"5\")\n",
       "        .then(() => maybeLoadScript(\"vega-lite\", \"4.17.0\"))\n",
       "        .then(() => maybeLoadScript(\"vega-embed\", \"6\"))\n",
       "        .catch(showError)\n",
       "        .then(() => displayChart(vegaEmbed));\n",
       "    }\n",
       "  })({\"config\": {\"view\": {\"continuousWidth\": 400, \"continuousHeight\": 300}, \"axis\": {\"labelFontSize\": 15, \"titleFontSize\": 20}, \"legend\": {\"labelFontSize\": 16, \"titleFontSize\": 16}, \"range\": {\"category\": {\"scheme\": \"paired\"}}}, \"data\": {\"name\": \"data-fd81f58ee56825152f8ba07611f68f79\"}, \"mark\": \"area\", \"encoding\": {\"color\": {\"field\": \"concept\", \"title\": \"Fields of Study (L1)\", \"type\": \"nominal\"}, \"x\": {\"field\": \"Year\", \"type\": \"temporal\"}, \"y\": {\"field\": \"count\", \"title\": \"Number of publications\", \"type\": \"quantitative\"}}, \"width\": 400, \"$schema\": \"https://vega.github.io/schema/vega-lite/v4.17.0.json\", \"datasets\": {\"data-fd81f58ee56825152f8ba07611f68f79\": [{\"year\": 1990, \"concept\": \"Algorithm\", \"count\": 5, \"Year\": \"1990-01-01T00:00:00\"}, {\"year\": 1990, \"concept\": \"AI\", \"count\": 24, \"Year\": \"1990-01-01T00:00:00\"}, {\"year\": 1990, \"concept\": \"Computer grafics\", \"count\": 19, \"Year\": \"1990-01-01T00:00:00\"}, {\"year\": 1990, \"concept\": \"Computer vision\", \"count\": 12, \"Year\": \"1990-01-01T00:00:00\"}, {\"year\": 1990, \"concept\": \"Data mining\", \"count\": 2, \"Year\": \"1990-01-01T00:00:00\"}, {\"year\": 1990, \"concept\": \"Data science\", \"count\": 4, \"Year\": \"1990-01-01T00:00:00\"}, {\"year\": 1990, \"concept\": \"HCI\", \"count\": 10, \"Year\": \"1990-01-01T00:00:00\"}, {\"year\": 1990, \"concept\": \"Information retrieval\", \"count\": 3, \"Year\": \"1990-01-01T00:00:00\"}, {\"year\": 1990, \"concept\": \"Machine learning\", \"count\": 2, \"Year\": \"1990-01-01T00:00:00\"}, {\"year\": 1990, \"concept\": \"Multimedia\", \"count\": 1, \"Year\": \"1990-01-01T00:00:00\"}, {\"year\": 1990, \"concept\": \"Other\", \"count\": 18, \"Year\": \"1990-01-01T00:00:00\"}, {\"year\": 1991, \"concept\": \"Algorithm\", \"count\": 4, \"Year\": \"1991-01-01T00:00:00\"}, {\"year\": 1991, \"concept\": \"AI\", \"count\": 17, \"Year\": \"1991-01-01T00:00:00\"}, {\"year\": 1991, \"concept\": \"Computer grafics\", \"count\": 12, \"Year\": \"1991-01-01T00:00:00\"}, {\"year\": 1991, \"concept\": \"Computer vision\", \"count\": 11, \"Year\": \"1991-01-01T00:00:00\"}, {\"year\": 1991, \"concept\": \"Data mining\", \"count\": 2, \"Year\": \"1991-01-01T00:00:00\"}, {\"year\": 1991, \"concept\": \"Data science\", \"count\": 4, \"Year\": \"1991-01-01T00:00:00\"}, {\"year\": 1991, \"concept\": \"HCI\", \"count\": 7, \"Year\": \"1991-01-01T00:00:00\"}, {\"year\": 1991, \"concept\": \"Information retrieval\", \"count\": 1, \"Year\": \"1991-01-01T00:00:00\"}, {\"year\": 1991, \"concept\": \"Other\", \"count\": 30, \"Year\": \"1991-01-01T00:00:00\"}, {\"year\": 1992, \"concept\": \"Algorithm\", \"count\": 9, \"Year\": \"1992-01-01T00:00:00\"}, {\"year\": 1992, \"concept\": \"AI\", \"count\": 16, \"Year\": \"1992-01-01T00:00:00\"}, {\"year\": 1992, \"concept\": \"Computer grafics\", \"count\": 18, \"Year\": \"1992-01-01T00:00:00\"}, {\"year\": 1992, \"concept\": \"Computer vision\", \"count\": 11, \"Year\": \"1992-01-01T00:00:00\"}, {\"year\": 1992, \"concept\": \"Data mining\", \"count\": 2, \"Year\": \"1992-01-01T00:00:00\"}, {\"year\": 1992, \"concept\": \"Data science\", \"count\": 2, \"Year\": \"1992-01-01T00:00:00\"}, {\"year\": 1992, \"concept\": \"HCI\", \"count\": 5, \"Year\": \"1992-01-01T00:00:00\"}, {\"year\": 1992, \"concept\": \"Information retrieval\", \"count\": 2, \"Year\": \"1992-01-01T00:00:00\"}, {\"year\": 1992, \"concept\": \"Multimedia\", \"count\": 2, \"Year\": \"1992-01-01T00:00:00\"}, {\"year\": 1992, \"concept\": \"Other\", \"count\": 27, \"Year\": \"1992-01-01T00:00:00\"}, {\"year\": 1993, \"concept\": \"Algorithm\", \"count\": 7, \"Year\": \"1993-01-01T00:00:00\"}, {\"year\": 1993, \"concept\": \"AI\", \"count\": 16, \"Year\": \"1993-01-01T00:00:00\"}, {\"year\": 1993, \"concept\": \"Computer grafics\", \"count\": 15, \"Year\": \"1993-01-01T00:00:00\"}, {\"year\": 1993, \"concept\": \"Computer vision\", \"count\": 14, \"Year\": \"1993-01-01T00:00:00\"}, {\"year\": 1993, \"concept\": \"Data science\", \"count\": 2, \"Year\": \"1993-01-01T00:00:00\"}, {\"year\": 1993, \"concept\": \"HCI\", \"count\": 6, \"Year\": \"1993-01-01T00:00:00\"}, {\"year\": 1993, \"concept\": \"Information retrieval\", \"count\": 2, \"Year\": \"1993-01-01T00:00:00\"}, {\"year\": 1993, \"concept\": \"Other\", \"count\": 28, \"Year\": \"1993-01-01T00:00:00\"}, {\"year\": 1994, \"concept\": \"Algorithm\", \"count\": 9, \"Year\": \"1994-01-01T00:00:00\"}, {\"year\": 1994, \"concept\": \"AI\", \"count\": 19, \"Year\": \"1994-01-01T00:00:00\"}, {\"year\": 1994, \"concept\": \"Computer grafics\", \"count\": 15, \"Year\": \"1994-01-01T00:00:00\"}, {\"year\": 1994, \"concept\": \"Computer vision\", \"count\": 10, \"Year\": \"1994-01-01T00:00:00\"}, {\"year\": 1994, \"concept\": \"Data mining\", \"count\": 2, \"Year\": \"1994-01-01T00:00:00\"}, {\"year\": 1994, \"concept\": \"Data science\", \"count\": 1, \"Year\": \"1994-01-01T00:00:00\"}, {\"year\": 1994, \"concept\": \"HCI\", \"count\": 3, \"Year\": \"1994-01-01T00:00:00\"}, {\"year\": 1994, \"concept\": \"Other\", \"count\": 23, \"Year\": \"1994-01-01T00:00:00\"}, {\"year\": 1995, \"concept\": \"Algorithm\", \"count\": 15, \"Year\": \"1995-01-01T00:00:00\"}, {\"year\": 1995, \"concept\": \"AI\", \"count\": 32, \"Year\": \"1995-01-01T00:00:00\"}, {\"year\": 1995, \"concept\": \"Computer grafics\", \"count\": 14, \"Year\": \"1995-01-01T00:00:00\"}, {\"year\": 1995, \"concept\": \"Computer vision\", \"count\": 16, \"Year\": \"1995-01-01T00:00:00\"}, {\"year\": 1995, \"concept\": \"Data mining\", \"count\": 4, \"Year\": \"1995-01-01T00:00:00\"}, {\"year\": 1995, \"concept\": \"Data science\", \"count\": 4, \"Year\": \"1995-01-01T00:00:00\"}, {\"year\": 1995, \"concept\": \"HCI\", \"count\": 10, \"Year\": \"1995-01-01T00:00:00\"}, {\"year\": 1995, \"concept\": \"Information retrieval\", \"count\": 6, \"Year\": \"1995-01-01T00:00:00\"}, {\"year\": 1995, \"concept\": \"Machine learning\", \"count\": 2, \"Year\": \"1995-01-01T00:00:00\"}, {\"year\": 1995, \"concept\": \"Multimedia\", \"count\": 3, \"Year\": \"1995-01-01T00:00:00\"}, {\"year\": 1995, \"concept\": \"Other\", \"count\": 35, \"Year\": \"1995-01-01T00:00:00\"}, {\"year\": 1996, \"concept\": \"Algorithm\", \"count\": 17, \"Year\": \"1996-01-01T00:00:00\"}, {\"year\": 1996, \"concept\": \"AI\", \"count\": 33, \"Year\": \"1996-01-01T00:00:00\"}, {\"year\": 1996, \"concept\": \"Computer grafics\", \"count\": 20, \"Year\": \"1996-01-01T00:00:00\"}, {\"year\": 1996, \"concept\": \"Computer vision\", \"count\": 20, \"Year\": \"1996-01-01T00:00:00\"}, {\"year\": 1996, \"concept\": \"Data mining\", \"count\": 5, \"Year\": \"1996-01-01T00:00:00\"}, {\"year\": 1996, \"concept\": \"Data science\", \"count\": 3, \"Year\": \"1996-01-01T00:00:00\"}, {\"year\": 1996, \"concept\": \"HCI\", \"count\": 12, \"Year\": \"1996-01-01T00:00:00\"}, {\"year\": 1996, \"concept\": \"Information retrieval\", \"count\": 5, \"Year\": \"1996-01-01T00:00:00\"}, {\"year\": 1996, \"concept\": \"Multimedia\", \"count\": 3, \"Year\": \"1996-01-01T00:00:00\"}, {\"year\": 1996, \"concept\": \"Other\", \"count\": 35, \"Year\": \"1996-01-01T00:00:00\"}, {\"year\": 1997, \"concept\": \"Algorithm\", \"count\": 20, \"Year\": \"1997-01-01T00:00:00\"}, {\"year\": 1997, \"concept\": \"AI\", \"count\": 36, \"Year\": \"1997-01-01T00:00:00\"}, {\"year\": 1997, \"concept\": \"Computer grafics\", \"count\": 26, \"Year\": \"1997-01-01T00:00:00\"}, {\"year\": 1997, \"concept\": \"Computer vision\", \"count\": 19, \"Year\": \"1997-01-01T00:00:00\"}, {\"year\": 1997, \"concept\": \"Data mining\", \"count\": 5, \"Year\": \"1997-01-01T00:00:00\"}, {\"year\": 1997, \"concept\": \"Data science\", \"count\": 2, \"Year\": \"1997-01-01T00:00:00\"}, {\"year\": 1997, \"concept\": \"HCI\", \"count\": 13, \"Year\": \"1997-01-01T00:00:00\"}, {\"year\": 1997, \"concept\": \"Information retrieval\", \"count\": 8, \"Year\": \"1997-01-01T00:00:00\"}, {\"year\": 1997, \"concept\": \"Multimedia\", \"count\": 2, \"Year\": \"1997-01-01T00:00:00\"}, {\"year\": 1997, \"concept\": \"Other\", \"count\": 33, \"Year\": \"1997-01-01T00:00:00\"}, {\"year\": 1998, \"concept\": \"Algorithm\", \"count\": 18, \"Year\": \"1998-01-01T00:00:00\"}, {\"year\": 1998, \"concept\": \"AI\", \"count\": 45, \"Year\": \"1998-01-01T00:00:00\"}, {\"year\": 1998, \"concept\": \"Computer grafics\", \"count\": 21, \"Year\": \"1998-01-01T00:00:00\"}, {\"year\": 1998, \"concept\": \"Computer vision\", \"count\": 23, \"Year\": \"1998-01-01T00:00:00\"}, {\"year\": 1998, \"concept\": \"Data mining\", \"count\": 8, \"Year\": \"1998-01-01T00:00:00\"}, {\"year\": 1998, \"concept\": \"Data science\", \"count\": 3, \"Year\": \"1998-01-01T00:00:00\"}, {\"year\": 1998, \"concept\": \"HCI\", \"count\": 12, \"Year\": \"1998-01-01T00:00:00\"}, {\"year\": 1998, \"concept\": \"Information retrieval\", \"count\": 3, \"Year\": \"1998-01-01T00:00:00\"}, {\"year\": 1998, \"concept\": \"Machine learning\", \"count\": 1, \"Year\": \"1998-01-01T00:00:00\"}, {\"year\": 1998, \"concept\": \"Multimedia\", \"count\": 3, \"Year\": \"1998-01-01T00:00:00\"}, {\"year\": 1998, \"concept\": \"Other\", \"count\": 27, \"Year\": \"1998-01-01T00:00:00\"}, {\"year\": 1999, \"concept\": \"Algorithm\", \"count\": 12, \"Year\": \"1999-01-01T00:00:00\"}, {\"year\": 1999, \"concept\": \"AI\", \"count\": 35, \"Year\": \"1999-01-01T00:00:00\"}, {\"year\": 1999, \"concept\": \"Computer grafics\", \"count\": 22, \"Year\": \"1999-01-01T00:00:00\"}, {\"year\": 1999, \"concept\": \"Computer vision\", \"count\": 20, \"Year\": \"1999-01-01T00:00:00\"}, {\"year\": 1999, \"concept\": \"Data mining\", \"count\": 5, \"Year\": \"1999-01-01T00:00:00\"}, {\"year\": 1999, \"concept\": \"Data science\", \"count\": 7, \"Year\": \"1999-01-01T00:00:00\"}, {\"year\": 1999, \"concept\": \"HCI\", \"count\": 11, \"Year\": \"1999-01-01T00:00:00\"}, {\"year\": 1999, \"concept\": \"Information retrieval\", \"count\": 5, \"Year\": \"1999-01-01T00:00:00\"}, {\"year\": 1999, \"concept\": \"Machine learning\", \"count\": 1, \"Year\": \"1999-01-01T00:00:00\"}, {\"year\": 1999, \"concept\": \"Multimedia\", \"count\": 2, \"Year\": \"1999-01-01T00:00:00\"}, {\"year\": 1999, \"concept\": \"Other\", \"count\": 31, \"Year\": \"1999-01-01T00:00:00\"}, {\"year\": 2000, \"concept\": \"Algorithm\", \"count\": 17, \"Year\": \"2000-01-01T00:00:00\"}, {\"year\": 2000, \"concept\": \"AI\", \"count\": 49, \"Year\": \"2000-01-01T00:00:00\"}, {\"year\": 2000, \"concept\": \"Computer grafics\", \"count\": 25, \"Year\": \"2000-01-01T00:00:00\"}, {\"year\": 2000, \"concept\": \"Computer vision\", \"count\": 30, \"Year\": \"2000-01-01T00:00:00\"}, {\"year\": 2000, \"concept\": \"Data mining\", \"count\": 9, \"Year\": \"2000-01-01T00:00:00\"}, {\"year\": 2000, \"concept\": \"Data science\", \"count\": 6, \"Year\": \"2000-01-01T00:00:00\"}, {\"year\": 2000, \"concept\": \"HCI\", \"count\": 19, \"Year\": \"2000-01-01T00:00:00\"}, {\"year\": 2000, \"concept\": \"Information retrieval\", \"count\": 6, \"Year\": \"2000-01-01T00:00:00\"}, {\"year\": 2000, \"concept\": \"Multimedia\", \"count\": 1, \"Year\": \"2000-01-01T00:00:00\"}, {\"year\": 2000, \"concept\": \"Other\", \"count\": 17, \"Year\": \"2000-01-01T00:00:00\"}, {\"year\": 2001, \"concept\": \"Algorithm\", \"count\": 20, \"Year\": \"2001-01-01T00:00:00\"}, {\"year\": 2001, \"concept\": \"AI\", \"count\": 48, \"Year\": \"2001-01-01T00:00:00\"}, {\"year\": 2001, \"concept\": \"Computer grafics\", \"count\": 24, \"Year\": \"2001-01-01T00:00:00\"}, {\"year\": 2001, \"concept\": \"Computer vision\", \"count\": 28, \"Year\": \"2001-01-01T00:00:00\"}, {\"year\": 2001, \"concept\": \"Data mining\", \"count\": 4, \"Year\": \"2001-01-01T00:00:00\"}, {\"year\": 2001, \"concept\": \"Data science\", \"count\": 3, \"Year\": \"2001-01-01T00:00:00\"}, {\"year\": 2001, \"concept\": \"HCI\", \"count\": 12, \"Year\": \"2001-01-01T00:00:00\"}, {\"year\": 2001, \"concept\": \"Information retrieval\", \"count\": 2, \"Year\": \"2001-01-01T00:00:00\"}, {\"year\": 2001, \"concept\": \"Machine learning\", \"count\": 1, \"Year\": \"2001-01-01T00:00:00\"}, {\"year\": 2001, \"concept\": \"Multimedia\", \"count\": 1, \"Year\": \"2001-01-01T00:00:00\"}, {\"year\": 2001, \"concept\": \"Other\", \"count\": 39, \"Year\": \"2001-01-01T00:00:00\"}, {\"year\": 2002, \"concept\": \"Algorithm\", \"count\": 24, \"Year\": \"2002-01-01T00:00:00\"}, {\"year\": 2002, \"concept\": \"AI\", \"count\": 49, \"Year\": \"2002-01-01T00:00:00\"}, {\"year\": 2002, \"concept\": \"Computer grafics\", \"count\": 36, \"Year\": \"2002-01-01T00:00:00\"}, {\"year\": 2002, \"concept\": \"Computer vision\", \"count\": 34, \"Year\": \"2002-01-01T00:00:00\"}, {\"year\": 2002, \"concept\": \"Data mining\", \"count\": 5, \"Year\": \"2002-01-01T00:00:00\"}, {\"year\": 2002, \"concept\": \"Data science\", \"count\": 7, \"Year\": \"2002-01-01T00:00:00\"}, {\"year\": 2002, \"concept\": \"HCI\", \"count\": 13, \"Year\": \"2002-01-01T00:00:00\"}, {\"year\": 2002, \"concept\": \"Information retrieval\", \"count\": 4, \"Year\": \"2002-01-01T00:00:00\"}, {\"year\": 2002, \"concept\": \"Machine learning\", \"count\": 1, \"Year\": \"2002-01-01T00:00:00\"}, {\"year\": 2002, \"concept\": \"Multimedia\", \"count\": 1, \"Year\": \"2002-01-01T00:00:00\"}, {\"year\": 2002, \"concept\": \"Other\", \"count\": 26, \"Year\": \"2002-01-01T00:00:00\"}, {\"year\": 2003, \"concept\": \"Algorithm\", \"count\": 23, \"Year\": \"2003-01-01T00:00:00\"}, {\"year\": 2003, \"concept\": \"AI\", \"count\": 63, \"Year\": \"2003-01-01T00:00:00\"}, {\"year\": 2003, \"concept\": \"Computer grafics\", \"count\": 35, \"Year\": \"2003-01-01T00:00:00\"}, {\"year\": 2003, \"concept\": \"Computer vision\", \"count\": 43, \"Year\": \"2003-01-01T00:00:00\"}, {\"year\": 2003, \"concept\": \"Data mining\", \"count\": 5, \"Year\": \"2003-01-01T00:00:00\"}, {\"year\": 2003, \"concept\": \"Data science\", \"count\": 3, \"Year\": \"2003-01-01T00:00:00\"}, {\"year\": 2003, \"concept\": \"HCI\", \"count\": 9, \"Year\": \"2003-01-01T00:00:00\"}, {\"year\": 2003, \"concept\": \"Multimedia\", \"count\": 2, \"Year\": \"2003-01-01T00:00:00\"}, {\"year\": 2003, \"concept\": \"Other\", \"count\": 34, \"Year\": \"2003-01-01T00:00:00\"}, {\"year\": 2004, \"concept\": \"Algorithm\", \"count\": 17, \"Year\": \"2004-01-01T00:00:00\"}, {\"year\": 2004, \"concept\": \"AI\", \"count\": 46, \"Year\": \"2004-01-01T00:00:00\"}, {\"year\": 2004, \"concept\": \"Computer grafics\", \"count\": 24, \"Year\": \"2004-01-01T00:00:00\"}, {\"year\": 2004, \"concept\": \"Computer vision\", \"count\": 29, \"Year\": \"2004-01-01T00:00:00\"}, {\"year\": 2004, \"concept\": \"Data mining\", \"count\": 4, \"Year\": \"2004-01-01T00:00:00\"}, {\"year\": 2004, \"concept\": \"Data science\", \"count\": 3, \"Year\": \"2004-01-01T00:00:00\"}, {\"year\": 2004, \"concept\": \"HCI\", \"count\": 14, \"Year\": \"2004-01-01T00:00:00\"}, {\"year\": 2004, \"concept\": \"Information retrieval\", \"count\": 3, \"Year\": \"2004-01-01T00:00:00\"}, {\"year\": 2004, \"concept\": \"Multimedia\", \"count\": 3, \"Year\": \"2004-01-01T00:00:00\"}, {\"year\": 2004, \"concept\": \"Other\", \"count\": 40, \"Year\": \"2004-01-01T00:00:00\"}, {\"year\": 2005, \"concept\": \"Algorithm\", \"count\": 8, \"Year\": \"2005-01-01T00:00:00\"}, {\"year\": 2005, \"concept\": \"AI\", \"count\": 51, \"Year\": \"2005-01-01T00:00:00\"}, {\"year\": 2005, \"concept\": \"Computer grafics\", \"count\": 36, \"Year\": \"2005-01-01T00:00:00\"}, {\"year\": 2005, \"concept\": \"Computer vision\", \"count\": 24, \"Year\": \"2005-01-01T00:00:00\"}, {\"year\": 2005, \"concept\": \"Data mining\", \"count\": 7, \"Year\": \"2005-01-01T00:00:00\"}, {\"year\": 2005, \"concept\": \"Data science\", \"count\": 3, \"Year\": \"2005-01-01T00:00:00\"}, {\"year\": 2005, \"concept\": \"HCI\", \"count\": 14, \"Year\": \"2005-01-01T00:00:00\"}, {\"year\": 2005, \"concept\": \"Information retrieval\", \"count\": 3, \"Year\": \"2005-01-01T00:00:00\"}, {\"year\": 2005, \"concept\": \"Machine learning\", \"count\": 2, \"Year\": \"2005-01-01T00:00:00\"}, {\"year\": 2005, \"concept\": \"Multimedia\", \"count\": 1, \"Year\": \"2005-01-01T00:00:00\"}, {\"year\": 2005, \"concept\": \"Other\", \"count\": 38, \"Year\": \"2005-01-01T00:00:00\"}, {\"year\": 2006, \"concept\": \"Algorithm\", \"count\": 12, \"Year\": \"2006-01-01T00:00:00\"}, {\"year\": 2006, \"concept\": \"AI\", \"count\": 65, \"Year\": \"2006-01-01T00:00:00\"}, {\"year\": 2006, \"concept\": \"Computer grafics\", \"count\": 29, \"Year\": \"2006-01-01T00:00:00\"}, {\"year\": 2006, \"concept\": \"Computer vision\", \"count\": 26, \"Year\": \"2006-01-01T00:00:00\"}, {\"year\": 2006, \"concept\": \"Data mining\", \"count\": 13, \"Year\": \"2006-01-01T00:00:00\"}, {\"year\": 2006, \"concept\": \"Data science\", \"count\": 14, \"Year\": \"2006-01-01T00:00:00\"}, {\"year\": 2006, \"concept\": \"HCI\", \"count\": 13, \"Year\": \"2006-01-01T00:00:00\"}, {\"year\": 2006, \"concept\": \"Information retrieval\", \"count\": 6, \"Year\": \"2006-01-01T00:00:00\"}, {\"year\": 2006, \"concept\": \"Multimedia\", \"count\": 2, \"Year\": \"2006-01-01T00:00:00\"}, {\"year\": 2006, \"concept\": \"Other\", \"count\": 29, \"Year\": \"2006-01-01T00:00:00\"}, {\"year\": 2007, \"concept\": \"Algorithm\", \"count\": 10, \"Year\": \"2007-01-01T00:00:00\"}, {\"year\": 2007, \"concept\": \"AI\", \"count\": 71, \"Year\": \"2007-01-01T00:00:00\"}, {\"year\": 2007, \"concept\": \"Computer grafics\", \"count\": 24, \"Year\": \"2007-01-01T00:00:00\"}, {\"year\": 2007, \"concept\": \"Computer vision\", \"count\": 28, \"Year\": \"2007-01-01T00:00:00\"}, {\"year\": 2007, \"concept\": \"Data mining\", \"count\": 13, \"Year\": \"2007-01-01T00:00:00\"}, {\"year\": 2007, \"concept\": \"Data science\", \"count\": 18, \"Year\": \"2007-01-01T00:00:00\"}, {\"year\": 2007, \"concept\": \"HCI\", \"count\": 24, \"Year\": \"2007-01-01T00:00:00\"}, {\"year\": 2007, \"concept\": \"Information retrieval\", \"count\": 10, \"Year\": \"2007-01-01T00:00:00\"}, {\"year\": 2007, \"concept\": \"Machine learning\", \"count\": 2, \"Year\": \"2007-01-01T00:00:00\"}, {\"year\": 2007, \"concept\": \"Multimedia\", \"count\": 4, \"Year\": \"2007-01-01T00:00:00\"}, {\"year\": 2007, \"concept\": \"Other\", \"count\": 27, \"Year\": \"2007-01-01T00:00:00\"}, {\"year\": 2008, \"concept\": \"Algorithm\", \"count\": 13, \"Year\": \"2008-01-01T00:00:00\"}, {\"year\": 2008, \"concept\": \"AI\", \"count\": 71, \"Year\": \"2008-01-01T00:00:00\"}, {\"year\": 2008, \"concept\": \"Computer grafics\", \"count\": 18, \"Year\": \"2008-01-01T00:00:00\"}, {\"year\": 2008, \"concept\": \"Computer vision\", \"count\": 20, \"Year\": \"2008-01-01T00:00:00\"}, {\"year\": 2008, \"concept\": \"Data mining\", \"count\": 12, \"Year\": \"2008-01-01T00:00:00\"}, {\"year\": 2008, \"concept\": \"Data science\", \"count\": 20, \"Year\": \"2008-01-01T00:00:00\"}, {\"year\": 2008, \"concept\": \"HCI\", \"count\": 20, \"Year\": \"2008-01-01T00:00:00\"}, {\"year\": 2008, \"concept\": \"Information retrieval\", \"count\": 11, \"Year\": \"2008-01-01T00:00:00\"}, {\"year\": 2008, \"concept\": \"Machine learning\", \"count\": 4, \"Year\": \"2008-01-01T00:00:00\"}, {\"year\": 2008, \"concept\": \"Multimedia\", \"count\": 3, \"Year\": \"2008-01-01T00:00:00\"}, {\"year\": 2008, \"concept\": \"Other\", \"count\": 23, \"Year\": \"2008-01-01T00:00:00\"}, {\"year\": 2009, \"concept\": \"Algorithm\", \"count\": 10, \"Year\": \"2009-01-01T00:00:00\"}, {\"year\": 2009, \"concept\": \"AI\", \"count\": 81, \"Year\": \"2009-01-01T00:00:00\"}, {\"year\": 2009, \"concept\": \"Computer grafics\", \"count\": 25, \"Year\": \"2009-01-01T00:00:00\"}, {\"year\": 2009, \"concept\": \"Computer vision\", \"count\": 28, \"Year\": \"2009-01-01T00:00:00\"}, {\"year\": 2009, \"concept\": \"Data mining\", \"count\": 18, \"Year\": \"2009-01-01T00:00:00\"}, {\"year\": 2009, \"concept\": \"Data science\", \"count\": 15, \"Year\": \"2009-01-01T00:00:00\"}, {\"year\": 2009, \"concept\": \"HCI\", \"count\": 19, \"Year\": \"2009-01-01T00:00:00\"}, {\"year\": 2009, \"concept\": \"Information retrieval\", \"count\": 15, \"Year\": \"2009-01-01T00:00:00\"}, {\"year\": 2009, \"concept\": \"Machine learning\", \"count\": 4, \"Year\": \"2009-01-01T00:00:00\"}, {\"year\": 2009, \"concept\": \"Multimedia\", \"count\": 2, \"Year\": \"2009-01-01T00:00:00\"}, {\"year\": 2009, \"concept\": \"Other\", \"count\": 34, \"Year\": \"2009-01-01T00:00:00\"}, {\"year\": 2010, \"concept\": \"Algorithm\", \"count\": 15, \"Year\": \"2010-01-01T00:00:00\"}, {\"year\": 2010, \"concept\": \"AI\", \"count\": 76, \"Year\": \"2010-01-01T00:00:00\"}, {\"year\": 2010, \"concept\": \"Computer grafics\", \"count\": 21, \"Year\": \"2010-01-01T00:00:00\"}, {\"year\": 2010, \"concept\": \"Computer vision\", \"count\": 22, \"Year\": \"2010-01-01T00:00:00\"}, {\"year\": 2010, \"concept\": \"Data mining\", \"count\": 14, \"Year\": \"2010-01-01T00:00:00\"}, {\"year\": 2010, \"concept\": \"Data science\", \"count\": 20, \"Year\": \"2010-01-01T00:00:00\"}, {\"year\": 2010, \"concept\": \"HCI\", \"count\": 24, \"Year\": \"2010-01-01T00:00:00\"}, {\"year\": 2010, \"concept\": \"Information retrieval\", \"count\": 11, \"Year\": \"2010-01-01T00:00:00\"}, {\"year\": 2010, \"concept\": \"Machine learning\", \"count\": 4, \"Year\": \"2010-01-01T00:00:00\"}, {\"year\": 2010, \"concept\": \"Multimedia\", \"count\": 3, \"Year\": \"2010-01-01T00:00:00\"}, {\"year\": 2010, \"concept\": \"Other\", \"count\": 29, \"Year\": \"2010-01-01T00:00:00\"}, {\"year\": 2011, \"concept\": \"Algorithm\", \"count\": 20, \"Year\": \"2011-01-01T00:00:00\"}, {\"year\": 2011, \"concept\": \"AI\", \"count\": 86, \"Year\": \"2011-01-01T00:00:00\"}, {\"year\": 2011, \"concept\": \"Computer grafics\", \"count\": 26, \"Year\": \"2011-01-01T00:00:00\"}, {\"year\": 2011, \"concept\": \"Computer vision\", \"count\": 28, \"Year\": \"2011-01-01T00:00:00\"}, {\"year\": 2011, \"concept\": \"Data mining\", \"count\": 18, \"Year\": \"2011-01-01T00:00:00\"}, {\"year\": 2011, \"concept\": \"Data science\", \"count\": 21, \"Year\": \"2011-01-01T00:00:00\"}, {\"year\": 2011, \"concept\": \"HCI\", \"count\": 14, \"Year\": \"2011-01-01T00:00:00\"}, {\"year\": 2011, \"concept\": \"Information retrieval\", \"count\": 7, \"Year\": \"2011-01-01T00:00:00\"}, {\"year\": 2011, \"concept\": \"Machine learning\", \"count\": 4, \"Year\": \"2011-01-01T00:00:00\"}, {\"year\": 2011, \"concept\": \"Multimedia\", \"count\": 3, \"Year\": \"2011-01-01T00:00:00\"}, {\"year\": 2011, \"concept\": \"Other\", \"count\": 24, \"Year\": \"2011-01-01T00:00:00\"}, {\"year\": 2012, \"concept\": \"Algorithm\", \"count\": 9, \"Year\": \"2012-01-01T00:00:00\"}, {\"year\": 2012, \"concept\": \"AI\", \"count\": 83, \"Year\": \"2012-01-01T00:00:00\"}, {\"year\": 2012, \"concept\": \"Computer grafics\", \"count\": 23, \"Year\": \"2012-01-01T00:00:00\"}, {\"year\": 2012, \"concept\": \"Computer vision\", \"count\": 24, \"Year\": \"2012-01-01T00:00:00\"}, {\"year\": 2012, \"concept\": \"Data mining\", \"count\": 15, \"Year\": \"2012-01-01T00:00:00\"}, {\"year\": 2012, \"concept\": \"Data science\", \"count\": 25, \"Year\": \"2012-01-01T00:00:00\"}, {\"year\": 2012, \"concept\": \"HCI\", \"count\": 30, \"Year\": \"2012-01-01T00:00:00\"}, {\"year\": 2012, \"concept\": \"Information retrieval\", \"count\": 11, \"Year\": \"2012-01-01T00:00:00\"}, {\"year\": 2012, \"concept\": \"Machine learning\", \"count\": 7, \"Year\": \"2012-01-01T00:00:00\"}, {\"year\": 2012, \"concept\": \"Multimedia\", \"count\": 5, \"Year\": \"2012-01-01T00:00:00\"}, {\"year\": 2012, \"concept\": \"Other\", \"count\": 18, \"Year\": \"2012-01-01T00:00:00\"}, {\"year\": 2013, \"concept\": \"Algorithm\", \"count\": 14, \"Year\": \"2013-01-01T00:00:00\"}, {\"year\": 2013, \"concept\": \"AI\", \"count\": 76, \"Year\": \"2013-01-01T00:00:00\"}, {\"year\": 2013, \"concept\": \"Computer grafics\", \"count\": 21, \"Year\": \"2013-01-01T00:00:00\"}, {\"year\": 2013, \"concept\": \"Computer vision\", \"count\": 26, \"Year\": \"2013-01-01T00:00:00\"}, {\"year\": 2013, \"concept\": \"Data mining\", \"count\": 17, \"Year\": \"2013-01-01T00:00:00\"}, {\"year\": 2013, \"concept\": \"Data science\", \"count\": 20, \"Year\": \"2013-01-01T00:00:00\"}, {\"year\": 2013, \"concept\": \"HCI\", \"count\": 21, \"Year\": \"2013-01-01T00:00:00\"}, {\"year\": 2013, \"concept\": \"Information retrieval\", \"count\": 10, \"Year\": \"2013-01-01T00:00:00\"}, {\"year\": 2013, \"concept\": \"Machine learning\", \"count\": 7, \"Year\": \"2013-01-01T00:00:00\"}, {\"year\": 2013, \"concept\": \"Multimedia\", \"count\": 2, \"Year\": \"2013-01-01T00:00:00\"}, {\"year\": 2013, \"concept\": \"Other\", \"count\": 9, \"Year\": \"2013-01-01T00:00:00\"}, {\"year\": 2014, \"concept\": \"Algorithm\", \"count\": 16, \"Year\": \"2014-01-01T00:00:00\"}, {\"year\": 2014, \"concept\": \"AI\", \"count\": 84, \"Year\": \"2014-01-01T00:00:00\"}, {\"year\": 2014, \"concept\": \"Computer grafics\", \"count\": 16, \"Year\": \"2014-01-01T00:00:00\"}, {\"year\": 2014, \"concept\": \"Computer vision\", \"count\": 25, \"Year\": \"2014-01-01T00:00:00\"}, {\"year\": 2014, \"concept\": \"Data mining\", \"count\": 19, \"Year\": \"2014-01-01T00:00:00\"}, {\"year\": 2014, \"concept\": \"Data science\", \"count\": 30, \"Year\": \"2014-01-01T00:00:00\"}, {\"year\": 2014, \"concept\": \"HCI\", \"count\": 34, \"Year\": \"2014-01-01T00:00:00\"}, {\"year\": 2014, \"concept\": \"Information retrieval\", \"count\": 11, \"Year\": \"2014-01-01T00:00:00\"}, {\"year\": 2014, \"concept\": \"Machine learning\", \"count\": 14, \"Year\": \"2014-01-01T00:00:00\"}, {\"year\": 2014, \"concept\": \"Multimedia\", \"count\": 4, \"Year\": \"2014-01-01T00:00:00\"}, {\"year\": 2014, \"concept\": \"Other\", \"count\": 25, \"Year\": \"2014-01-01T00:00:00\"}, {\"year\": 2015, \"concept\": \"Algorithm\", \"count\": 16, \"Year\": \"2015-01-01T00:00:00\"}, {\"year\": 2015, \"concept\": \"AI\", \"count\": 93, \"Year\": \"2015-01-01T00:00:00\"}, {\"year\": 2015, \"concept\": \"Computer grafics\", \"count\": 17, \"Year\": \"2015-01-01T00:00:00\"}, {\"year\": 2015, \"concept\": \"Computer vision\", \"count\": 24, \"Year\": \"2015-01-01T00:00:00\"}, {\"year\": 2015, \"concept\": \"Data mining\", \"count\": 17, \"Year\": \"2015-01-01T00:00:00\"}, {\"year\": 2015, \"concept\": \"Data science\", \"count\": 30, \"Year\": \"2015-01-01T00:00:00\"}, {\"year\": 2015, \"concept\": \"HCI\", \"count\": 36, \"Year\": \"2015-01-01T00:00:00\"}, {\"year\": 2015, \"concept\": \"Information retrieval\", \"count\": 11, \"Year\": \"2015-01-01T00:00:00\"}, {\"year\": 2015, \"concept\": \"Machine learning\", \"count\": 13, \"Year\": \"2015-01-01T00:00:00\"}, {\"year\": 2015, \"concept\": \"Multimedia\", \"count\": 6, \"Year\": \"2015-01-01T00:00:00\"}, {\"year\": 2015, \"concept\": \"Other\", \"count\": 25, \"Year\": \"2015-01-01T00:00:00\"}, {\"year\": 2016, \"concept\": \"Algorithm\", \"count\": 7, \"Year\": \"2016-01-01T00:00:00\"}, {\"year\": 2016, \"concept\": \"AI\", \"count\": 81, \"Year\": \"2016-01-01T00:00:00\"}, {\"year\": 2016, \"concept\": \"Computer grafics\", \"count\": 20, \"Year\": \"2016-01-01T00:00:00\"}, {\"year\": 2016, \"concept\": \"Computer vision\", \"count\": 20, \"Year\": \"2016-01-01T00:00:00\"}, {\"year\": 2016, \"concept\": \"Data mining\", \"count\": 15, \"Year\": \"2016-01-01T00:00:00\"}, {\"year\": 2016, \"concept\": \"Data science\", \"count\": 21, \"Year\": \"2016-01-01T00:00:00\"}, {\"year\": 2016, \"concept\": \"HCI\", \"count\": 31, \"Year\": \"2016-01-01T00:00:00\"}, {\"year\": 2016, \"concept\": \"Information retrieval\", \"count\": 14, \"Year\": \"2016-01-01T00:00:00\"}, {\"year\": 2016, \"concept\": \"Machine learning\", \"count\": 10, \"Year\": \"2016-01-01T00:00:00\"}, {\"year\": 2016, \"concept\": \"Multimedia\", \"count\": 5, \"Year\": \"2016-01-01T00:00:00\"}, {\"year\": 2016, \"concept\": \"Other\", \"count\": 33, \"Year\": \"2016-01-01T00:00:00\"}, {\"year\": 2017, \"concept\": \"Algorithm\", \"count\": 6, \"Year\": \"2017-01-01T00:00:00\"}, {\"year\": 2017, \"concept\": \"AI\", \"count\": 92, \"Year\": \"2017-01-01T00:00:00\"}, {\"year\": 2017, \"concept\": \"Computer grafics\", \"count\": 15, \"Year\": \"2017-01-01T00:00:00\"}, {\"year\": 2017, \"concept\": \"Computer vision\", \"count\": 16, \"Year\": \"2017-01-01T00:00:00\"}, {\"year\": 2017, \"concept\": \"Data mining\", \"count\": 22, \"Year\": \"2017-01-01T00:00:00\"}, {\"year\": 2017, \"concept\": \"Data science\", \"count\": 27, \"Year\": \"2017-01-01T00:00:00\"}, {\"year\": 2017, \"concept\": \"HCI\", \"count\": 26, \"Year\": \"2017-01-01T00:00:00\"}, {\"year\": 2017, \"concept\": \"Information retrieval\", \"count\": 10, \"Year\": \"2017-01-01T00:00:00\"}, {\"year\": 2017, \"concept\": \"Machine learning\", \"count\": 20, \"Year\": \"2017-01-01T00:00:00\"}, {\"year\": 2017, \"concept\": \"Multimedia\", \"count\": 3, \"Year\": \"2017-01-01T00:00:00\"}, {\"year\": 2017, \"concept\": \"Other\", \"count\": 26, \"Year\": \"2017-01-01T00:00:00\"}, {\"year\": 2018, \"concept\": \"Algorithm\", \"count\": 14, \"Year\": \"2018-01-01T00:00:00\"}, {\"year\": 2018, \"concept\": \"AI\", \"count\": 92, \"Year\": \"2018-01-01T00:00:00\"}, {\"year\": 2018, \"concept\": \"Computer grafics\", \"count\": 18, \"Year\": \"2018-01-01T00:00:00\"}, {\"year\": 2018, \"concept\": \"Computer vision\", \"count\": 21, \"Year\": \"2018-01-01T00:00:00\"}, {\"year\": 2018, \"concept\": \"Data mining\", \"count\": 24, \"Year\": \"2018-01-01T00:00:00\"}, {\"year\": 2018, \"concept\": \"Data science\", \"count\": 34, \"Year\": \"2018-01-01T00:00:00\"}, {\"year\": 2018, \"concept\": \"HCI\", \"count\": 30, \"Year\": \"2018-01-01T00:00:00\"}, {\"year\": 2018, \"concept\": \"Information retrieval\", \"count\": 10, \"Year\": \"2018-01-01T00:00:00\"}, {\"year\": 2018, \"concept\": \"Machine learning\", \"count\": 17, \"Year\": \"2018-01-01T00:00:00\"}, {\"year\": 2018, \"concept\": \"Multimedia\", \"count\": 2, \"Year\": \"2018-01-01T00:00:00\"}, {\"year\": 2018, \"concept\": \"Other\", \"count\": 26, \"Year\": \"2018-01-01T00:00:00\"}, {\"year\": 2019, \"concept\": \"Algorithm\", \"count\": 13, \"Year\": \"2019-01-01T00:00:00\"}, {\"year\": 2019, \"concept\": \"AI\", \"count\": 93, \"Year\": \"2019-01-01T00:00:00\"}, {\"year\": 2019, \"concept\": \"Computer grafics\", \"count\": 12, \"Year\": \"2019-01-01T00:00:00\"}, {\"year\": 2019, \"concept\": \"Computer vision\", \"count\": 12, \"Year\": \"2019-01-01T00:00:00\"}, {\"year\": 2019, \"concept\": \"Data mining\", \"count\": 17, \"Year\": \"2019-01-01T00:00:00\"}, {\"year\": 2019, \"concept\": \"Data science\", \"count\": 30, \"Year\": \"2019-01-01T00:00:00\"}, {\"year\": 2019, \"concept\": \"HCI\", \"count\": 36, \"Year\": \"2019-01-01T00:00:00\"}, {\"year\": 2019, \"concept\": \"Information retrieval\", \"count\": 12, \"Year\": \"2019-01-01T00:00:00\"}, {\"year\": 2019, \"concept\": \"Machine learning\", \"count\": 24, \"Year\": \"2019-01-01T00:00:00\"}, {\"year\": 2019, \"concept\": \"Multimedia\", \"count\": 4, \"Year\": \"2019-01-01T00:00:00\"}, {\"year\": 2019, \"concept\": \"Other\", \"count\": 24, \"Year\": \"2019-01-01T00:00:00\"}, {\"year\": 2020, \"concept\": \"Algorithm\", \"count\": 16, \"Year\": \"2020-01-01T00:00:00\"}, {\"year\": 2020, \"concept\": \"AI\", \"count\": 108, \"Year\": \"2020-01-01T00:00:00\"}, {\"year\": 2020, \"concept\": \"Computer grafics\", \"count\": 22, \"Year\": \"2020-01-01T00:00:00\"}, {\"year\": 2020, \"concept\": \"Computer vision\", \"count\": 18, \"Year\": \"2020-01-01T00:00:00\"}, {\"year\": 2020, \"concept\": \"Data mining\", \"count\": 28, \"Year\": \"2020-01-01T00:00:00\"}, {\"year\": 2020, \"concept\": \"Data science\", \"count\": 38, \"Year\": \"2020-01-01T00:00:00\"}, {\"year\": 2020, \"concept\": \"HCI\", \"count\": 35, \"Year\": \"2020-01-01T00:00:00\"}, {\"year\": 2020, \"concept\": \"Information retrieval\", \"count\": 11, \"Year\": \"2020-01-01T00:00:00\"}, {\"year\": 2020, \"concept\": \"Machine learning\", \"count\": 32, \"Year\": \"2020-01-01T00:00:00\"}, {\"year\": 2020, \"concept\": \"Multimedia\", \"count\": 5, \"Year\": \"2020-01-01T00:00:00\"}, {\"year\": 2020, \"concept\": \"Other\", \"count\": 24, \"Year\": \"2020-01-01T00:00:00\"}, {\"year\": 2021, \"concept\": \"Algorithm\", \"count\": 16, \"Year\": \"2021-01-01T00:00:00\"}, {\"year\": 2021, \"concept\": \"AI\", \"count\": 105, \"Year\": \"2021-01-01T00:00:00\"}, {\"year\": 2021, \"concept\": \"Computer grafics\", \"count\": 20, \"Year\": \"2021-01-01T00:00:00\"}, {\"year\": 2021, \"concept\": \"Computer vision\", \"count\": 19, \"Year\": \"2021-01-01T00:00:00\"}, {\"year\": 2021, \"concept\": \"Data mining\", \"count\": 20, \"Year\": \"2021-01-01T00:00:00\"}, {\"year\": 2021, \"concept\": \"Data science\", \"count\": 37, \"Year\": \"2021-01-01T00:00:00\"}, {\"year\": 2021, \"concept\": \"HCI\", \"count\": 45, \"Year\": \"2021-01-01T00:00:00\"}, {\"year\": 2021, \"concept\": \"Information retrieval\", \"count\": 11, \"Year\": \"2021-01-01T00:00:00\"}, {\"year\": 2021, \"concept\": \"Machine learning\", \"count\": 19, \"Year\": \"2021-01-01T00:00:00\"}, {\"year\": 2021, \"concept\": \"Multimedia\", \"count\": 11, \"Year\": \"2021-01-01T00:00:00\"}, {\"year\": 2021, \"concept\": \"Other\", \"count\": 43, \"Year\": \"2021-01-01T00:00:00\"}]}}, {\"mode\": \"vega-lite\"});\n",
       "</script>"
      ],
      "text/plain": [
       "alt.Chart(...)"
      ]
     },
     "execution_count": 51,
     "metadata": {},
     "output_type": "execute_result"
    }
   ],
   "source": [
    "alt.Chart(dff).mark_area().encode(\n",
    "    x=\"Year:T\",\n",
    "    y=alt.Y(\n",
    "        'count:Q',\n",
    "        title = 'Number of publications',\n",
    "    ),\n",
    "    color=alt.Color(\n",
    "        \"concept:N\",\n",
    "        title = 'Fields of Study (L1)'\n",
    "    )\n",
    ").configure_axis(\n",
    "    labelFontSize=15,\n",
    "    titleFontSize=20\n",
    ").configure_legend(\n",
    "    titleFontSize=16,\n",
    "    labelFontSize=16\n",
    ").configure_range(\n",
    "    category={'scheme': 'paired'}\n",
    ").properties(\n",
    "    width = 400\n",
    ")"
   ]
  }
 ],
 "metadata": {
  "kernelspec": {
   "display_name": "Python 3 (ipykernel)",
   "language": "python",
   "name": "python3"
  },
  "language_info": {
   "codemirror_mode": {
    "name": "ipython",
    "version": 3
   },
   "file_extension": ".py",
   "mimetype": "text/x-python",
   "name": "python",
   "nbconvert_exporter": "python",
   "pygments_lexer": "ipython3",
   "version": "3.8.12"
  }
 },
 "nbformat": 4,
 "nbformat_minor": 5
}
