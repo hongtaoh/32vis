{
 "cells": [
  {
   "cell_type": "code",
   "execution_count": 1,
   "id": "da0cc1f9",
   "metadata": {},
   "outputs": [],
   "source": [
    "import pandas as pd\n",
    "import matplotlib.pyplot as plt\n",
    "from collections import Counter\n",
    "import seaborn as sns\n",
    "import matplotlib\n",
    "font = {'family' : 'Arial',\n",
    "        'weight' : 'normal',\n",
    "        'size'   : 12}\n",
    "matplotlib.rc('font', **font)\n",
    "import altair as alt\n",
    "pd.set_option('display.max_rows', 500)\n",
    "import numpy as np"
   ]
  },
  {
   "cell_type": "code",
   "execution_count": 2,
   "id": "b87e11fb",
   "metadata": {},
   "outputs": [],
   "source": [
    "author = pd.read_csv('../data/ht_class/ht_cleaned_author_df.csv')\n",
    "paper = pd.read_csv('../data/ht_class/ht_cleaned_paper_df.csv')"
   ]
  },
  {
   "cell_type": "markdown",
   "id": "c86de97a",
   "metadata": {},
   "source": [
    "### Number of publications by year"
   ]
  },
  {
   "cell_type": "code",
   "execution_count": 3,
   "id": "877f7f98",
   "metadata": {},
   "outputs": [
    {
     "data": {
      "text/html": [
       "<div>\n",
       "<style scoped>\n",
       "    .dataframe tbody tr th:only-of-type {\n",
       "        vertical-align: middle;\n",
       "    }\n",
       "\n",
       "    .dataframe tbody tr th {\n",
       "        vertical-align: top;\n",
       "    }\n",
       "\n",
       "    .dataframe thead th {\n",
       "        text-align: right;\n",
       "    }\n",
       "</style>\n",
       "<table border=\"1\" class=\"dataframe\">\n",
       "  <thead>\n",
       "    <tr style=\"text-align: right;\">\n",
       "      <th></th>\n",
       "      <th>Year</th>\n",
       "      <th>Number of Publications</th>\n",
       "    </tr>\n",
       "  </thead>\n",
       "  <tbody>\n",
       "    <tr>\n",
       "      <th>0</th>\n",
       "      <td>1990-01-01</td>\n",
       "      <td>52</td>\n",
       "    </tr>\n",
       "    <tr>\n",
       "      <th>1</th>\n",
       "      <td>1991-01-01</td>\n",
       "      <td>50</td>\n",
       "    </tr>\n",
       "    <tr>\n",
       "      <th>2</th>\n",
       "      <td>1992-01-01</td>\n",
       "      <td>53</td>\n",
       "    </tr>\n",
       "    <tr>\n",
       "      <th>3</th>\n",
       "      <td>1993-01-01</td>\n",
       "      <td>55</td>\n",
       "    </tr>\n",
       "    <tr>\n",
       "      <th>4</th>\n",
       "      <td>1994-01-01</td>\n",
       "      <td>53</td>\n",
       "    </tr>\n",
       "  </tbody>\n",
       "</table>\n",
       "</div>"
      ],
      "text/plain": [
       "        Year  Number of Publications\n",
       "0 1990-01-01                      52\n",
       "1 1991-01-01                      50\n",
       "2 1992-01-01                      53\n",
       "3 1993-01-01                      55\n",
       "4 1994-01-01                      53"
      ]
     },
     "execution_count": 3,
     "metadata": {},
     "output_type": "execute_result"
    }
   ],
   "source": [
    "pub_num_df = paper.groupby(\n",
    "    'Year').size().reset_index(name = 'Number of Publications')\n",
    "pub_num_df['Year'] = pd.to_datetime(\n",
    "    pub_num_df['Year'], format=\"%Y\"\n",
    ")\n",
    "pub_num_df.head()"
   ]
  },
  {
   "cell_type": "code",
   "execution_count": 4,
   "id": "2508935e",
   "metadata": {},
   "outputs": [
    {
     "data": {
      "text/html": [
       "<div>\n",
       "<style scoped>\n",
       "    .dataframe tbody tr th:only-of-type {\n",
       "        vertical-align: middle;\n",
       "    }\n",
       "\n",
       "    .dataframe tbody tr th {\n",
       "        vertical-align: top;\n",
       "    }\n",
       "\n",
       "    .dataframe thead th {\n",
       "        text-align: right;\n",
       "    }\n",
       "</style>\n",
       "<table border=\"1\" class=\"dataframe\">\n",
       "  <thead>\n",
       "    <tr style=\"text-align: right;\">\n",
       "      <th></th>\n",
       "      <th>Year</th>\n",
       "      <th>Number of Publications</th>\n",
       "    </tr>\n",
       "  </thead>\n",
       "  <tbody>\n",
       "    <tr>\n",
       "      <th>27</th>\n",
       "      <td>2017-01-01</td>\n",
       "      <td>114</td>\n",
       "    </tr>\n",
       "    <tr>\n",
       "      <th>28</th>\n",
       "      <td>2018-01-01</td>\n",
       "      <td>127</td>\n",
       "    </tr>\n",
       "    <tr>\n",
       "      <th>29</th>\n",
       "      <td>2019-01-01</td>\n",
       "      <td>129</td>\n",
       "    </tr>\n",
       "    <tr>\n",
       "      <th>30</th>\n",
       "      <td>2020-01-01</td>\n",
       "      <td>157</td>\n",
       "    </tr>\n",
       "    <tr>\n",
       "      <th>31</th>\n",
       "      <td>2021-01-01</td>\n",
       "      <td>170</td>\n",
       "    </tr>\n",
       "  </tbody>\n",
       "</table>\n",
       "</div>"
      ],
      "text/plain": [
       "         Year  Number of Publications\n",
       "27 2017-01-01                     114\n",
       "28 2018-01-01                     127\n",
       "29 2019-01-01                     129\n",
       "30 2020-01-01                     157\n",
       "31 2021-01-01                     170"
      ]
     },
     "execution_count": 4,
     "metadata": {},
     "output_type": "execute_result"
    }
   ],
   "source": [
    "pub_num_df.tail()"
   ]
  },
  {
   "cell_type": "markdown",
   "id": "bae056e1",
   "metadata": {},
   "source": [
    "### Number of unique authors"
   ]
  },
  {
   "cell_type": "code",
   "execution_count": 5,
   "id": "2c94bd33",
   "metadata": {},
   "outputs": [
    {
     "data": {
      "text/plain": [
       "117"
      ]
     },
     "execution_count": 5,
     "metadata": {},
     "output_type": "execute_result"
    }
   ],
   "source": [
    "# how many rows miss openalex author id\n",
    "author[author['OpenAlex Author ID'].isnull()].shape[0]"
   ]
  },
  {
   "cell_type": "code",
   "execution_count": 6,
   "id": "1eb832d6",
   "metadata": {},
   "outputs": [],
   "source": [
    "author_with_author_id = author[\n",
    "    author['OpenAlex Author ID'].notnull()]"
   ]
  },
  {
   "cell_type": "code",
   "execution_count": 7,
   "id": "72e1818e",
   "metadata": {},
   "outputs": [
    {
     "data": {
      "text/html": [
       "<div>\n",
       "<style scoped>\n",
       "    .dataframe tbody tr th:only-of-type {\n",
       "        vertical-align: middle;\n",
       "    }\n",
       "\n",
       "    .dataframe tbody tr th {\n",
       "        vertical-align: top;\n",
       "    }\n",
       "\n",
       "    .dataframe thead th {\n",
       "        text-align: right;\n",
       "    }\n",
       "</style>\n",
       "<table border=\"1\" class=\"dataframe\">\n",
       "  <thead>\n",
       "    <tr style=\"text-align: right;\">\n",
       "      <th></th>\n",
       "      <th>Year</th>\n",
       "      <th>Number of Unique Authors</th>\n",
       "    </tr>\n",
       "  </thead>\n",
       "  <tbody>\n",
       "    <tr>\n",
       "      <th>0</th>\n",
       "      <td>1990-01-01</td>\n",
       "      <td>118</td>\n",
       "    </tr>\n",
       "    <tr>\n",
       "      <th>1</th>\n",
       "      <td>1991-01-01</td>\n",
       "      <td>126</td>\n",
       "    </tr>\n",
       "    <tr>\n",
       "      <th>2</th>\n",
       "      <td>1992-01-01</td>\n",
       "      <td>121</td>\n",
       "    </tr>\n",
       "    <tr>\n",
       "      <th>3</th>\n",
       "      <td>1993-01-01</td>\n",
       "      <td>117</td>\n",
       "    </tr>\n",
       "    <tr>\n",
       "      <th>4</th>\n",
       "      <td>1994-01-01</td>\n",
       "      <td>130</td>\n",
       "    </tr>\n",
       "  </tbody>\n",
       "</table>\n",
       "</div>"
      ],
      "text/plain": [
       "        Year  Number of Unique Authors\n",
       "0 1990-01-01                       118\n",
       "1 1991-01-01                       126\n",
       "2 1992-01-01                       121\n",
       "3 1993-01-01                       117\n",
       "4 1994-01-01                       130"
      ]
     },
     "execution_count": 7,
     "metadata": {},
     "output_type": "execute_result"
    }
   ],
   "source": [
    "unique_author_num_df = author_with_author_id.groupby(\n",
    "    'Year')['OpenAlex Author ID'].nunique().reset_index(\n",
    "    name = 'Number of Unique Authors')\n",
    "unique_author_num_df['Year'] = pd.to_datetime(\n",
    "    unique_author_num_df['Year'], format=\"%Y\",\n",
    ")\n",
    "unique_author_num_df.head()"
   ]
  },
  {
   "cell_type": "code",
   "execution_count": 8,
   "id": "004e5d73",
   "metadata": {},
   "outputs": [
    {
     "data": {
      "text/html": [
       "<div>\n",
       "<style scoped>\n",
       "    .dataframe tbody tr th:only-of-type {\n",
       "        vertical-align: middle;\n",
       "    }\n",
       "\n",
       "    .dataframe tbody tr th {\n",
       "        vertical-align: top;\n",
       "    }\n",
       "\n",
       "    .dataframe thead th {\n",
       "        text-align: right;\n",
       "    }\n",
       "</style>\n",
       "<table border=\"1\" class=\"dataframe\">\n",
       "  <thead>\n",
       "    <tr style=\"text-align: right;\">\n",
       "      <th></th>\n",
       "      <th>Year</th>\n",
       "      <th>Number of Unique Authors</th>\n",
       "    </tr>\n",
       "  </thead>\n",
       "  <tbody>\n",
       "    <tr>\n",
       "      <th>27</th>\n",
       "      <td>2017-01-01</td>\n",
       "      <td>455</td>\n",
       "    </tr>\n",
       "    <tr>\n",
       "      <th>28</th>\n",
       "      <td>2018-01-01</td>\n",
       "      <td>494</td>\n",
       "    </tr>\n",
       "    <tr>\n",
       "      <th>29</th>\n",
       "      <td>2019-01-01</td>\n",
       "      <td>551</td>\n",
       "    </tr>\n",
       "    <tr>\n",
       "      <th>30</th>\n",
       "      <td>2020-01-01</td>\n",
       "      <td>640</td>\n",
       "    </tr>\n",
       "    <tr>\n",
       "      <th>31</th>\n",
       "      <td>2021-01-01</td>\n",
       "      <td>670</td>\n",
       "    </tr>\n",
       "  </tbody>\n",
       "</table>\n",
       "</div>"
      ],
      "text/plain": [
       "         Year  Number of Unique Authors\n",
       "27 2017-01-01                       455\n",
       "28 2018-01-01                       494\n",
       "29 2019-01-01                       551\n",
       "30 2020-01-01                       640\n",
       "31 2021-01-01                       670"
      ]
     },
     "execution_count": 8,
     "metadata": {},
     "output_type": "execute_result"
    }
   ],
   "source": [
    "unique_author_num_df.tail()"
   ]
  },
  {
   "cell_type": "markdown",
   "id": "27788fa4",
   "metadata": {},
   "source": [
    "### Non-VIS VS VIS citations"
   ]
  },
  {
   "cell_type": "code",
   "execution_count": 9,
   "id": "5c4a95fb",
   "metadata": {},
   "outputs": [
    {
     "data": {
      "text/plain": [
       "True"
      ]
     },
     "execution_count": 9,
     "metadata": {},
     "output_type": "execute_result"
    }
   ],
   "source": [
    "# VIS PAPERS' OPENALEX IDS\n",
    "ids = paper['OpenAlex ID'].tolist()\n",
    "len(list(set(ids))) == paper.shape[0]"
   ]
  },
  {
   "cell_type": "code",
   "execution_count": 10,
   "id": "d1b3ed04",
   "metadata": {},
   "outputs": [],
   "source": [
    "# Yes, I should not use the unique paper df\n",
    "ref = pd.read_csv('../data/processed/openalex_reference_paper_df.csv')\n",
    "ref = ref[ref['OpenAlex ID'].notnull()]"
   ]
  },
  {
   "cell_type": "code",
   "execution_count": 11,
   "id": "0452502d",
   "metadata": {},
   "outputs": [],
   "source": [
    "cit = pd.read_csv('../data/processed/openalex_citation_paper_df.csv')\n",
    "cit = cit[cit['Citation Paper OpenAlex ID'].notnull()]"
   ]
  },
  {
   "cell_type": "code",
   "execution_count": 12,
   "id": "b959806d",
   "metadata": {},
   "outputs": [],
   "source": [
    "ref['VIS'] = ref['OpenAlex ID'].apply(\n",
    "    lambda x: 'Yes' if x in ids else 'No'\n",
    ")"
   ]
  },
  {
   "cell_type": "code",
   "execution_count": 13,
   "id": "e2cdf5fa",
   "metadata": {},
   "outputs": [],
   "source": [
    "cit['VIS'] = cit['Citation Paper OpenAlex ID'].apply(\n",
    "    lambda x: 'Yes' if x in ids else 'No'\n",
    ")"
   ]
  },
  {
   "cell_type": "code",
   "execution_count": 14,
   "id": "2dfd8a64",
   "metadata": {},
   "outputs": [],
   "source": [
    "tuples = []\n",
    "for group in cit.groupby('OpenAlex Year'):\n",
    "    year = group[0]\n",
    "    total = group[1].shape[0]\n",
    "    for subgroup in group[1].groupby('VIS'):\n",
    "        type_of_paper = subgroup[0] # true or false\n",
    "        count = subgroup[1].shape[0]\n",
    "        ratio = count / total\n",
    "        tuples.append((year, type_of_paper, count, ratio))"
   ]
  },
  {
   "cell_type": "code",
   "execution_count": 15,
   "id": "1b298589",
   "metadata": {},
   "outputs": [],
   "source": [
    "cit_df = pd.DataFrame(list(tuples), columns=['year', 'type', 'count', 'ratio']) "
   ]
  },
  {
   "cell_type": "code",
   "execution_count": 16,
   "id": "3dffe128",
   "metadata": {},
   "outputs": [
    {
     "data": {
      "text/html": [
       "<div>\n",
       "<style scoped>\n",
       "    .dataframe tbody tr th:only-of-type {\n",
       "        vertical-align: middle;\n",
       "    }\n",
       "\n",
       "    .dataframe tbody tr th {\n",
       "        vertical-align: top;\n",
       "    }\n",
       "\n",
       "    .dataframe thead th {\n",
       "        text-align: right;\n",
       "    }\n",
       "</style>\n",
       "<table border=\"1\" class=\"dataframe\">\n",
       "  <thead>\n",
       "    <tr style=\"text-align: right;\">\n",
       "      <th></th>\n",
       "      <th>year</th>\n",
       "      <th>type</th>\n",
       "      <th>count</th>\n",
       "      <th>ratio</th>\n",
       "      <th>Year</th>\n",
       "    </tr>\n",
       "  </thead>\n",
       "  <tbody>\n",
       "    <tr>\n",
       "      <th>3</th>\n",
       "      <td>1990.0</td>\n",
       "      <td>Non-VIS</td>\n",
       "      <td>6</td>\n",
       "      <td>0.750000</td>\n",
       "      <td>1990-01-01</td>\n",
       "    </tr>\n",
       "    <tr>\n",
       "      <th>4</th>\n",
       "      <td>1990.0</td>\n",
       "      <td>VIS</td>\n",
       "      <td>2</td>\n",
       "      <td>0.250000</td>\n",
       "      <td>1990-01-01</td>\n",
       "    </tr>\n",
       "    <tr>\n",
       "      <th>5</th>\n",
       "      <td>1991.0</td>\n",
       "      <td>Non-VIS</td>\n",
       "      <td>56</td>\n",
       "      <td>0.736842</td>\n",
       "      <td>1991-01-01</td>\n",
       "    </tr>\n",
       "    <tr>\n",
       "      <th>6</th>\n",
       "      <td>1991.0</td>\n",
       "      <td>VIS</td>\n",
       "      <td>20</td>\n",
       "      <td>0.263158</td>\n",
       "      <td>1991-01-01</td>\n",
       "    </tr>\n",
       "    <tr>\n",
       "      <th>7</th>\n",
       "      <td>1992.0</td>\n",
       "      <td>Non-VIS</td>\n",
       "      <td>113</td>\n",
       "      <td>0.710692</td>\n",
       "      <td>1992-01-01</td>\n",
       "    </tr>\n",
       "  </tbody>\n",
       "</table>\n",
       "</div>"
      ],
      "text/plain": [
       "     year     type  count     ratio       Year\n",
       "3  1990.0  Non-VIS      6  0.750000 1990-01-01\n",
       "4  1990.0      VIS      2  0.250000 1990-01-01\n",
       "5  1991.0  Non-VIS     56  0.736842 1991-01-01\n",
       "6  1991.0      VIS     20  0.263158 1991-01-01\n",
       "7  1992.0  Non-VIS    113  0.710692 1992-01-01"
      ]
     },
     "execution_count": 16,
     "metadata": {},
     "output_type": "execute_result"
    }
   ],
   "source": [
    "cit_df = cit_df[(cit_df.year >= 1990) & (cit_df.year <= 2021)]\n",
    "cit_df['Year'] = pd.to_datetime(cit_df['year'], format='%Y')\n",
    "cit_df.replace({'Yes': 'VIS', 'No': 'Non-VIS'}, inplace=True)\n",
    "cit_df.head()"
   ]
  },
  {
   "cell_type": "code",
   "execution_count": 17,
   "id": "79af1c1f",
   "metadata": {},
   "outputs": [
    {
     "data": {
      "text/html": [
       "<div>\n",
       "<style scoped>\n",
       "    .dataframe tbody tr th:only-of-type {\n",
       "        vertical-align: middle;\n",
       "    }\n",
       "\n",
       "    .dataframe tbody tr th {\n",
       "        vertical-align: top;\n",
       "    }\n",
       "\n",
       "    .dataframe thead th {\n",
       "        text-align: right;\n",
       "    }\n",
       "</style>\n",
       "<table border=\"1\" class=\"dataframe\">\n",
       "  <thead>\n",
       "    <tr style=\"text-align: right;\">\n",
       "      <th></th>\n",
       "      <th>year</th>\n",
       "      <th>type</th>\n",
       "      <th>count</th>\n",
       "      <th>ratio</th>\n",
       "      <th>Year</th>\n",
       "    </tr>\n",
       "  </thead>\n",
       "  <tbody>\n",
       "    <tr>\n",
       "      <th>45</th>\n",
       "      <td>2011.0</td>\n",
       "      <td>Non-VIS</td>\n",
       "      <td>6092</td>\n",
       "      <td>0.888954</td>\n",
       "      <td>2011-01-01</td>\n",
       "    </tr>\n",
       "    <tr>\n",
       "      <th>46</th>\n",
       "      <td>2011.0</td>\n",
       "      <td>VIS</td>\n",
       "      <td>761</td>\n",
       "      <td>0.111046</td>\n",
       "      <td>2011-01-01</td>\n",
       "    </tr>\n",
       "    <tr>\n",
       "      <th>65</th>\n",
       "      <td>2021.0</td>\n",
       "      <td>Non-VIS</td>\n",
       "      <td>11309</td>\n",
       "      <td>0.843703</td>\n",
       "      <td>2021-01-01</td>\n",
       "    </tr>\n",
       "    <tr>\n",
       "      <th>66</th>\n",
       "      <td>2021.0</td>\n",
       "      <td>VIS</td>\n",
       "      <td>2095</td>\n",
       "      <td>0.156297</td>\n",
       "      <td>2021-01-01</td>\n",
       "    </tr>\n",
       "  </tbody>\n",
       "</table>\n",
       "</div>"
      ],
      "text/plain": [
       "      year     type  count     ratio       Year\n",
       "45  2011.0  Non-VIS   6092  0.888954 2011-01-01\n",
       "46  2011.0      VIS    761  0.111046 2011-01-01\n",
       "65  2021.0  Non-VIS  11309  0.843703 2021-01-01\n",
       "66  2021.0      VIS   2095  0.156297 2021-01-01"
      ]
     },
     "execution_count": 17,
     "metadata": {},
     "output_type": "execute_result"
    }
   ],
   "source": [
    "cit_df[cit_df.year.isin([2021, 2011])]"
   ]
  },
  {
   "cell_type": "markdown",
   "id": "a1495e00",
   "metadata": {},
   "source": [
    "### Average number of authors"
   ]
  },
  {
   "cell_type": "code",
   "execution_count": 18,
   "id": "89b8c7e0",
   "metadata": {},
   "outputs": [
    {
     "data": {
      "text/html": [
       "<div>\n",
       "<style scoped>\n",
       "    .dataframe tbody tr th:only-of-type {\n",
       "        vertical-align: middle;\n",
       "    }\n",
       "\n",
       "    .dataframe tbody tr th {\n",
       "        vertical-align: top;\n",
       "    }\n",
       "\n",
       "    .dataframe thead th {\n",
       "        text-align: right;\n",
       "    }\n",
       "</style>\n",
       "<table border=\"1\" class=\"dataframe\">\n",
       "  <thead>\n",
       "    <tr style=\"text-align: right;\">\n",
       "      <th></th>\n",
       "      <th>Year</th>\n",
       "      <th>Number of Authors</th>\n",
       "    </tr>\n",
       "  </thead>\n",
       "  <tbody>\n",
       "    <tr>\n",
       "      <th>27</th>\n",
       "      <td>2017</td>\n",
       "      <td>4.728070</td>\n",
       "    </tr>\n",
       "    <tr>\n",
       "      <th>28</th>\n",
       "      <td>2018</td>\n",
       "      <td>4.629921</td>\n",
       "    </tr>\n",
       "    <tr>\n",
       "      <th>29</th>\n",
       "      <td>2019</td>\n",
       "      <td>5.255814</td>\n",
       "    </tr>\n",
       "    <tr>\n",
       "      <th>30</th>\n",
       "      <td>2020</td>\n",
       "      <td>5.050955</td>\n",
       "    </tr>\n",
       "    <tr>\n",
       "      <th>31</th>\n",
       "      <td>2021</td>\n",
       "      <td>4.970588</td>\n",
       "    </tr>\n",
       "  </tbody>\n",
       "</table>\n",
       "</div>"
      ],
      "text/plain": [
       "    Year  Number of Authors\n",
       "27  2017           4.728070\n",
       "28  2018           4.629921\n",
       "29  2019           5.255814\n",
       "30  2020           5.050955\n",
       "31  2021           4.970588"
      ]
     },
     "execution_count": 18,
     "metadata": {},
     "output_type": "execute_result"
    }
   ],
   "source": [
    "author_num_df = paper.groupby(\n",
    "    'Year')['Number of Authors'].mean().to_frame().reset_index()\n",
    "author_num_df.tail()"
   ]
  },
  {
   "cell_type": "code",
   "execution_count": 19,
   "id": "d941030c",
   "metadata": {},
   "outputs": [
    {
     "data": {
      "image/png": "[encoded data removed]",
      "text/plain": [
       "<Figure size 432x288 with 1 Axes>"
      ]
     },
     "metadata": {
      "needs_background": "light"
     },
     "output_type": "display_data"
    }
   ],
   "source": [
    "g = sns.lineplot(x='Year', \n",
    "                 y='Number of Authors', \n",
    "                 data = author_num_df)\n",
    "g.set_ylim(0,)\n",
    "g.set_ylabel('Average Number of Authors')\n",
    "plt.grid()"
   ]
  },
  {
   "cell_type": "markdown",
   "id": "097d8acd",
   "metadata": {},
   "source": [
    "### Number of participating countries"
   ]
  },
  {
   "cell_type": "code",
   "execution_count": 20,
   "id": "f0613595",
   "metadata": {},
   "outputs": [],
   "source": [
    "year_1990_paper = paper[paper.Year == 1990]\n",
    "year_1990_cross_country = year_1990_paper[\n",
    "    year_1990_paper['Cross-country Collaboration']==True]\n",
    "year_1990_cross_country_dois = year_1990_cross_country.DOI.tolist()"
   ]
  },
  {
   "cell_type": "code",
   "execution_count": 21,
   "id": "8c696d1f",
   "metadata": {},
   "outputs": [
    {
     "data": {
      "text/html": [
       "<div>\n",
       "<style scoped>\n",
       "    .dataframe tbody tr th:only-of-type {\n",
       "        vertical-align: middle;\n",
       "    }\n",
       "\n",
       "    .dataframe tbody tr th {\n",
       "        vertical-align: top;\n",
       "    }\n",
       "\n",
       "    .dataframe thead th {\n",
       "        text-align: right;\n",
       "    }\n",
       "</style>\n",
       "<table border=\"1\" class=\"dataframe\">\n",
       "  <thead>\n",
       "    <tr style=\"text-align: right;\">\n",
       "      <th></th>\n",
       "      <th>Conference</th>\n",
       "      <th>Year</th>\n",
       "      <th>Title</th>\n",
       "      <th>DOI</th>\n",
       "      <th>FirstPage</th>\n",
       "      <th>LastPage</th>\n",
       "      <th>PaperType</th>\n",
       "      <th>OpenAlex Year</th>\n",
       "      <th>OpenAlex Publication Date</th>\n",
       "      <th>OpenAlex ID</th>\n",
       "      <th>...</th>\n",
       "      <th>Number of Authors</th>\n",
       "      <th>Cross-type Collaboration</th>\n",
       "      <th>Cross-country Collaboration</th>\n",
       "      <th>With US Authors</th>\n",
       "      <th>Both Cross-type and Cross-country Collaboration</th>\n",
       "      <th>IEEE Title</th>\n",
       "      <th>Citation Counts on Google Scholar</th>\n",
       "      <th>Award</th>\n",
       "      <th>Award Name</th>\n",
       "      <th>Award Track</th>\n",
       "    </tr>\n",
       "  </thead>\n",
       "  <tbody>\n",
       "    <tr>\n",
       "      <th>1042</th>\n",
       "      <td>Vis</td>\n",
       "      <td>1990</td>\n",
       "      <td>Methods for surface interrogation</td>\n",
       "      <td>10.1109/VISUAL.1990.146381</td>\n",
       "      <td>187.0</td>\n",
       "      <td>193, 472</td>\n",
       "      <td>C</td>\n",
       "      <td>1990</td>\n",
       "      <td>1990-10-23</td>\n",
       "      <td>W2103253409</td>\n",
       "      <td>...</td>\n",
       "      <td>3.0</td>\n",
       "      <td>True</td>\n",
       "      <td>True</td>\n",
       "      <td>True</td>\n",
       "      <td>True</td>\n",
       "      <td>Methods for surface interrogation</td>\n",
       "      <td>55</td>\n",
       "      <td>False</td>\n",
       "      <td>NaN</td>\n",
       "      <td>NaN</td>\n",
       "    </tr>\n",
       "    <tr>\n",
       "      <th>2155</th>\n",
       "      <td>Vis</td>\n",
       "      <td>1990</td>\n",
       "      <td>A journey into the fourth dimension</td>\n",
       "      <td>10.1109/VISUAL.1990.146385</td>\n",
       "      <td>219.0</td>\n",
       "      <td>229, 476-477</td>\n",
       "      <td>C</td>\n",
       "      <td>1990</td>\n",
       "      <td>1990-10-23</td>\n",
       "      <td>W2149054233</td>\n",
       "      <td>...</td>\n",
       "      <td>2.0</td>\n",
       "      <td>False</td>\n",
       "      <td>True</td>\n",
       "      <td>True</td>\n",
       "      <td>False</td>\n",
       "      <td>A journey into the fourth dimension (visualiza...</td>\n",
       "      <td>16</td>\n",
       "      <td>False</td>\n",
       "      <td>NaN</td>\n",
       "      <td>NaN</td>\n",
       "    </tr>\n",
       "  </tbody>\n",
       "</table>\n",
       "<p>2 rows × 27 columns</p>\n",
       "</div>"
      ],
      "text/plain": [
       "     Conference  Year                                Title  \\\n",
       "1042        Vis  1990    Methods for surface interrogation   \n",
       "2155        Vis  1990  A journey into the fourth dimension   \n",
       "\n",
       "                             DOI  FirstPage      LastPage PaperType  \\\n",
       "1042  10.1109/VISUAL.1990.146381      187.0      193, 472         C   \n",
       "2155  10.1109/VISUAL.1990.146385      219.0  229, 476-477         C   \n",
       "\n",
       "      OpenAlex Year OpenAlex Publication Date  OpenAlex ID  ...  \\\n",
       "1042           1990                1990-10-23  W2103253409  ...   \n",
       "2155           1990                1990-10-23  W2149054233  ...   \n",
       "\n",
       "     Number of Authors  Cross-type Collaboration  Cross-country Collaboration  \\\n",
       "1042               3.0                      True                         True   \n",
       "2155               2.0                     False                         True   \n",
       "\n",
       "      With US Authors  Both Cross-type and Cross-country Collaboration  \\\n",
       "1042             True                                             True   \n",
       "2155             True                                            False   \n",
       "\n",
       "                                             IEEE Title  \\\n",
       "1042                  Methods for surface interrogation   \n",
       "2155  A journey into the fourth dimension (visualiza...   \n",
       "\n",
       "      Citation Counts on Google Scholar  Award  Award Name  Award Track  \n",
       "1042                                 55  False         NaN          NaN  \n",
       "2155                                 16  False         NaN          NaN  \n",
       "\n",
       "[2 rows x 27 columns]"
      ]
     },
     "execution_count": 21,
     "metadata": {},
     "output_type": "execute_result"
    }
   ],
   "source": [
    "year_1990_cross_country"
   ]
  },
  {
   "cell_type": "code",
   "execution_count": 22,
   "id": "219cc3eb",
   "metadata": {},
   "outputs": [
    {
     "data": {
      "text/html": [
       "<div>\n",
       "<style scoped>\n",
       "    .dataframe tbody tr th:only-of-type {\n",
       "        vertical-align: middle;\n",
       "    }\n",
       "\n",
       "    .dataframe tbody tr th {\n",
       "        vertical-align: top;\n",
       "    }\n",
       "\n",
       "    .dataframe thead th {\n",
       "        text-align: right;\n",
       "    }\n",
       "</style>\n",
       "<table border=\"1\" class=\"dataframe\">\n",
       "  <thead>\n",
       "    <tr style=\"text-align: right;\">\n",
       "      <th></th>\n",
       "      <th>Year</th>\n",
       "      <th>DOI</th>\n",
       "      <th>Title</th>\n",
       "      <th>Number of Authors</th>\n",
       "      <th>Author Position</th>\n",
       "      <th>Author Name</th>\n",
       "      <th>OpenAlex Author ID</th>\n",
       "      <th>Affiliation Name</th>\n",
       "      <th>Affiliation Country Code</th>\n",
       "      <th>Affiliation Type</th>\n",
       "      <th>Binary Type</th>\n",
       "      <th>Cross-type Collaboration</th>\n",
       "      <th>International Collaboration</th>\n",
       "    </tr>\n",
       "  </thead>\n",
       "  <tbody>\n",
       "    <tr>\n",
       "      <th>3614</th>\n",
       "      <td>1990</td>\n",
       "      <td>10.1109/VISUAL.1990.146381</td>\n",
       "      <td>Methods for surface interrogation</td>\n",
       "      <td>3.0</td>\n",
       "      <td>1.0</td>\n",
       "      <td>H. Hagen</td>\n",
       "      <td>https://openalex.org/A2237445521</td>\n",
       "      <td>fb informatik universit t kaiserslautern</td>\n",
       "      <td>DE</td>\n",
       "      <td>education</td>\n",
       "      <td>education</td>\n",
       "      <td>True</td>\n",
       "      <td>True</td>\n",
       "    </tr>\n",
       "    <tr>\n",
       "      <th>3615</th>\n",
       "      <td>1990</td>\n",
       "      <td>10.1109/VISUAL.1990.146381</td>\n",
       "      <td>Methods for surface interrogation</td>\n",
       "      <td>3.0</td>\n",
       "      <td>2.0</td>\n",
       "      <td>T. Schreiber</td>\n",
       "      <td>https://openalex.org/A2973511128</td>\n",
       "      <td>fb informatik universit t kaiserslautern</td>\n",
       "      <td>DE</td>\n",
       "      <td>education</td>\n",
       "      <td>education</td>\n",
       "      <td>True</td>\n",
       "      <td>True</td>\n",
       "    </tr>\n",
       "    <tr>\n",
       "      <th>3616</th>\n",
       "      <td>1990</td>\n",
       "      <td>10.1109/VISUAL.1990.146381</td>\n",
       "      <td>Methods for surface interrogation</td>\n",
       "      <td>3.0</td>\n",
       "      <td>3.0</td>\n",
       "      <td>E. Gschwind</td>\n",
       "      <td>https://openalex.org/A1980220218</td>\n",
       "      <td>mechanical design division hewlett packard gmbh</td>\n",
       "      <td>US</td>\n",
       "      <td>company</td>\n",
       "      <td>non-education</td>\n",
       "      <td>True</td>\n",
       "      <td>True</td>\n",
       "    </tr>\n",
       "    <tr>\n",
       "      <th>7745</th>\n",
       "      <td>1990</td>\n",
       "      <td>10.1109/VISUAL.1990.146385</td>\n",
       "      <td>A journey into the fourth dimension</td>\n",
       "      <td>2.0</td>\n",
       "      <td>1.0</td>\n",
       "      <td>Y. Ke</td>\n",
       "      <td>https://openalex.org/A2684845787</td>\n",
       "      <td>department of computational science university...</td>\n",
       "      <td>CA</td>\n",
       "      <td>education</td>\n",
       "      <td>education</td>\n",
       "      <td>False</td>\n",
       "      <td>True</td>\n",
       "    </tr>\n",
       "    <tr>\n",
       "      <th>7746</th>\n",
       "      <td>1990</td>\n",
       "      <td>10.1109/VISUAL.1990.146385</td>\n",
       "      <td>A journey into the fourth dimension</td>\n",
       "      <td>2.0</td>\n",
       "      <td>2.0</td>\n",
       "      <td>E.S. Panduranga</td>\n",
       "      <td>https://openalex.org/A2302757246</td>\n",
       "      <td>department of computer sciences johns hopkins ...</td>\n",
       "      <td>US</td>\n",
       "      <td>education</td>\n",
       "      <td>education</td>\n",
       "      <td>False</td>\n",
       "      <td>True</td>\n",
       "    </tr>\n",
       "  </tbody>\n",
       "</table>\n",
       "</div>"
      ],
      "text/plain": [
       "      Year                         DOI                                Title  \\\n",
       "3614  1990  10.1109/VISUAL.1990.146381    Methods for surface interrogation   \n",
       "3615  1990  10.1109/VISUAL.1990.146381    Methods for surface interrogation   \n",
       "3616  1990  10.1109/VISUAL.1990.146381    Methods for surface interrogation   \n",
       "7745  1990  10.1109/VISUAL.1990.146385  A journey into the fourth dimension   \n",
       "7746  1990  10.1109/VISUAL.1990.146385  A journey into the fourth dimension   \n",
       "\n",
       "      Number of Authors  Author Position      Author Name  \\\n",
       "3614                3.0              1.0         H. Hagen   \n",
       "3615                3.0              2.0     T. Schreiber   \n",
       "3616                3.0              3.0      E. Gschwind   \n",
       "7745                2.0              1.0            Y. Ke   \n",
       "7746                2.0              2.0  E.S. Panduranga   \n",
       "\n",
       "                    OpenAlex Author ID  \\\n",
       "3614  https://openalex.org/A2237445521   \n",
       "3615  https://openalex.org/A2973511128   \n",
       "3616  https://openalex.org/A1980220218   \n",
       "7745  https://openalex.org/A2684845787   \n",
       "7746  https://openalex.org/A2302757246   \n",
       "\n",
       "                                       Affiliation Name  \\\n",
       "3614           fb informatik universit t kaiserslautern   \n",
       "3615           fb informatik universit t kaiserslautern   \n",
       "3616    mechanical design division hewlett packard gmbh   \n",
       "7745  department of computational science university...   \n",
       "7746  department of computer sciences johns hopkins ...   \n",
       "\n",
       "     Affiliation Country Code Affiliation Type    Binary Type  \\\n",
       "3614                       DE        education      education   \n",
       "3615                       DE        education      education   \n",
       "3616                       US          company  non-education   \n",
       "7745                       CA        education      education   \n",
       "7746                       US        education      education   \n",
       "\n",
       "      Cross-type Collaboration  International Collaboration  \n",
       "3614                      True                         True  \n",
       "3615                      True                         True  \n",
       "3616                      True                         True  \n",
       "7745                     False                         True  \n",
       "7746                     False                         True  "
      ]
     },
     "execution_count": 22,
     "metadata": {},
     "output_type": "execute_result"
    }
   ],
   "source": [
    "author[author.DOI.isin(year_1990_cross_country.DOI)]"
   ]
  },
  {
   "cell_type": "markdown",
   "id": "c804332e",
   "metadata": {},
   "source": [
    "### Cross country collaboration"
   ]
  },
  {
   "cell_type": "code",
   "execution_count": 23,
   "id": "56b08142",
   "metadata": {},
   "outputs": [],
   "source": [
    "def get_total_and_ratio_by_year(DF, BY, subgroup_par):\n",
    "    tuples = []\n",
    "    for group in DF.groupby(BY):\n",
    "        year = group[0]\n",
    "        total = group[1].shape[0]\n",
    "        for subgroup in group[1].groupby(subgroup_par):\n",
    "            subtype = 'Yes' if subgroup[0] else 'No'\n",
    "            count = subgroup[1].shape[0]\n",
    "            ratio = count / total\n",
    "            tuples.append((year, subtype, count, ratio))\n",
    "    dff = pd.DataFrame(\n",
    "        list(tuples), columns=['year', 'type', 'count', 'ratio']) \n",
    "    return dff"
   ]
  },
  {
   "cell_type": "code",
   "execution_count": 24,
   "id": "4a55728f",
   "metadata": {},
   "outputs": [],
   "source": [
    "cross_country = get_total_and_ratio_by_year(\n",
    "    paper, \n",
    "    'Year',\n",
    "    'Cross-country Collaboration'\n",
    ")"
   ]
  },
  {
   "cell_type": "code",
   "execution_count": 25,
   "id": "576469ee",
   "metadata": {},
   "outputs": [
    {
     "data": {
      "text/html": [
       "<div>\n",
       "<style scoped>\n",
       "    .dataframe tbody tr th:only-of-type {\n",
       "        vertical-align: middle;\n",
       "    }\n",
       "\n",
       "    .dataframe tbody tr th {\n",
       "        vertical-align: top;\n",
       "    }\n",
       "\n",
       "    .dataframe thead th {\n",
       "        text-align: right;\n",
       "    }\n",
       "</style>\n",
       "<table border=\"1\" class=\"dataframe\">\n",
       "  <thead>\n",
       "    <tr style=\"text-align: right;\">\n",
       "      <th></th>\n",
       "      <th>year</th>\n",
       "      <th>type</th>\n",
       "      <th>count</th>\n",
       "      <th>ratio</th>\n",
       "    </tr>\n",
       "  </thead>\n",
       "  <tbody>\n",
       "    <tr>\n",
       "      <th>0</th>\n",
       "      <td>1990</td>\n",
       "      <td>No</td>\n",
       "      <td>50</td>\n",
       "      <td>0.961538</td>\n",
       "    </tr>\n",
       "    <tr>\n",
       "      <th>1</th>\n",
       "      <td>1990</td>\n",
       "      <td>Yes</td>\n",
       "      <td>2</td>\n",
       "      <td>0.038462</td>\n",
       "    </tr>\n",
       "    <tr>\n",
       "      <th>2</th>\n",
       "      <td>1991</td>\n",
       "      <td>No</td>\n",
       "      <td>49</td>\n",
       "      <td>0.980000</td>\n",
       "    </tr>\n",
       "    <tr>\n",
       "      <th>3</th>\n",
       "      <td>1991</td>\n",
       "      <td>Yes</td>\n",
       "      <td>1</td>\n",
       "      <td>0.020000</td>\n",
       "    </tr>\n",
       "    <tr>\n",
       "      <th>4</th>\n",
       "      <td>1992</td>\n",
       "      <td>No</td>\n",
       "      <td>47</td>\n",
       "      <td>0.886792</td>\n",
       "    </tr>\n",
       "  </tbody>\n",
       "</table>\n",
       "</div>"
      ],
      "text/plain": [
       "   year type  count     ratio\n",
       "0  1990   No     50  0.961538\n",
       "1  1990  Yes      2  0.038462\n",
       "2  1991   No     49  0.980000\n",
       "3  1991  Yes      1  0.020000\n",
       "4  1992   No     47  0.886792"
      ]
     },
     "execution_count": 25,
     "metadata": {},
     "output_type": "execute_result"
    }
   ],
   "source": [
    "cross_country.head()"
   ]
  },
  {
   "cell_type": "code",
   "execution_count": 26,
   "id": "24c13637",
   "metadata": {},
   "outputs": [
    {
     "data": {
      "text/html": [
       "<div>\n",
       "<style scoped>\n",
       "    .dataframe tbody tr th:only-of-type {\n",
       "        vertical-align: middle;\n",
       "    }\n",
       "\n",
       "    .dataframe tbody tr th {\n",
       "        vertical-align: top;\n",
       "    }\n",
       "\n",
       "    .dataframe thead th {\n",
       "        text-align: right;\n",
       "    }\n",
       "</style>\n",
       "<table border=\"1\" class=\"dataframe\">\n",
       "  <thead>\n",
       "    <tr style=\"text-align: right;\">\n",
       "      <th></th>\n",
       "      <th>year</th>\n",
       "      <th>type</th>\n",
       "      <th>count</th>\n",
       "      <th>ratio</th>\n",
       "    </tr>\n",
       "  </thead>\n",
       "  <tbody>\n",
       "    <tr>\n",
       "      <th>26</th>\n",
       "      <td>2003</td>\n",
       "      <td>No</td>\n",
       "      <td>91</td>\n",
       "      <td>0.892157</td>\n",
       "    </tr>\n",
       "    <tr>\n",
       "      <th>27</th>\n",
       "      <td>2003</td>\n",
       "      <td>Yes</td>\n",
       "      <td>11</td>\n",
       "      <td>0.107843</td>\n",
       "    </tr>\n",
       "    <tr>\n",
       "      <th>28</th>\n",
       "      <td>2004</td>\n",
       "      <td>No</td>\n",
       "      <td>78</td>\n",
       "      <td>0.804124</td>\n",
       "    </tr>\n",
       "    <tr>\n",
       "      <th>29</th>\n",
       "      <td>2004</td>\n",
       "      <td>Yes</td>\n",
       "      <td>19</td>\n",
       "      <td>0.195876</td>\n",
       "    </tr>\n",
       "    <tr>\n",
       "      <th>30</th>\n",
       "      <td>2005</td>\n",
       "      <td>No</td>\n",
       "      <td>98</td>\n",
       "      <td>0.823529</td>\n",
       "    </tr>\n",
       "    <tr>\n",
       "      <th>31</th>\n",
       "      <td>2005</td>\n",
       "      <td>Yes</td>\n",
       "      <td>21</td>\n",
       "      <td>0.176471</td>\n",
       "    </tr>\n",
       "    <tr>\n",
       "      <th>32</th>\n",
       "      <td>2006</td>\n",
       "      <td>No</td>\n",
       "      <td>90</td>\n",
       "      <td>0.796460</td>\n",
       "    </tr>\n",
       "    <tr>\n",
       "      <th>33</th>\n",
       "      <td>2006</td>\n",
       "      <td>Yes</td>\n",
       "      <td>23</td>\n",
       "      <td>0.203540</td>\n",
       "    </tr>\n",
       "    <tr>\n",
       "      <th>44</th>\n",
       "      <td>2012</td>\n",
       "      <td>No</td>\n",
       "      <td>74</td>\n",
       "      <td>0.637931</td>\n",
       "    </tr>\n",
       "    <tr>\n",
       "      <th>45</th>\n",
       "      <td>2012</td>\n",
       "      <td>Yes</td>\n",
       "      <td>42</td>\n",
       "      <td>0.362069</td>\n",
       "    </tr>\n",
       "    <tr>\n",
       "      <th>46</th>\n",
       "      <td>2013</td>\n",
       "      <td>No</td>\n",
       "      <td>76</td>\n",
       "      <td>0.752475</td>\n",
       "    </tr>\n",
       "    <tr>\n",
       "      <th>47</th>\n",
       "      <td>2013</td>\n",
       "      <td>Yes</td>\n",
       "      <td>25</td>\n",
       "      <td>0.247525</td>\n",
       "    </tr>\n",
       "    <tr>\n",
       "      <th>48</th>\n",
       "      <td>2014</td>\n",
       "      <td>No</td>\n",
       "      <td>86</td>\n",
       "      <td>0.646617</td>\n",
       "    </tr>\n",
       "    <tr>\n",
       "      <th>49</th>\n",
       "      <td>2014</td>\n",
       "      <td>Yes</td>\n",
       "      <td>47</td>\n",
       "      <td>0.353383</td>\n",
       "    </tr>\n",
       "    <tr>\n",
       "      <th>62</th>\n",
       "      <td>2021</td>\n",
       "      <td>No</td>\n",
       "      <td>95</td>\n",
       "      <td>0.558824</td>\n",
       "    </tr>\n",
       "    <tr>\n",
       "      <th>63</th>\n",
       "      <td>2021</td>\n",
       "      <td>Yes</td>\n",
       "      <td>75</td>\n",
       "      <td>0.441176</td>\n",
       "    </tr>\n",
       "  </tbody>\n",
       "</table>\n",
       "</div>"
      ],
      "text/plain": [
       "    year type  count     ratio\n",
       "26  2003   No     91  0.892157\n",
       "27  2003  Yes     11  0.107843\n",
       "28  2004   No     78  0.804124\n",
       "29  2004  Yes     19  0.195876\n",
       "30  2005   No     98  0.823529\n",
       "31  2005  Yes     21  0.176471\n",
       "32  2006   No     90  0.796460\n",
       "33  2006  Yes     23  0.203540\n",
       "44  2012   No     74  0.637931\n",
       "45  2012  Yes     42  0.362069\n",
       "46  2013   No     76  0.752475\n",
       "47  2013  Yes     25  0.247525\n",
       "48  2014   No     86  0.646617\n",
       "49  2014  Yes     47  0.353383\n",
       "62  2021   No     95  0.558824\n",
       "63  2021  Yes     75  0.441176"
      ]
     },
     "execution_count": 26,
     "metadata": {},
     "output_type": "execute_result"
    }
   ],
   "source": [
    "cross_country[cross_country.year.isin([2004, 2005, 2006, 2003, 2013, 2012, 2014, 2021])]"
   ]
  },
  {
   "cell_type": "markdown",
   "id": "7919afca",
   "metadata": {},
   "source": [
    "#### Author chord"
   ]
  },
  {
   "cell_type": "code",
   "execution_count": 27,
   "id": "406cc349",
   "metadata": {},
   "outputs": [
    {
     "ename": "FileNotFoundError",
     "evalue": "[Errno 2] No such file or directory: '../data/plots/author_chord_df.csv'",
     "output_type": "error",
     "traceback": [
      "\u001b[0;31m---------------------------------------------------------------------------\u001b[0m",
      "\u001b[0;31mFileNotFoundError\u001b[0m                         Traceback (most recent call last)",
      "Input \u001b[0;32mIn [27]\u001b[0m, in \u001b[0;36m<cell line: 1>\u001b[0;34m()\u001b[0m\n\u001b[0;32m----> 1\u001b[0m author_chord \u001b[38;5;241m=\u001b[39m \u001b[43mpd\u001b[49m\u001b[38;5;241;43m.\u001b[39;49m\u001b[43mread_csv\u001b[49m\u001b[43m(\u001b[49m\u001b[38;5;124;43m'\u001b[39;49m\u001b[38;5;124;43m../data/plots/author_chord_df.csv\u001b[39;49m\u001b[38;5;124;43m'\u001b[39;49m\u001b[43m)\u001b[49m\n\u001b[1;32m      2\u001b[0m node1, node2 \u001b[38;5;241m=\u001b[39m author_chord\u001b[38;5;241m.\u001b[39msource, author_chord\u001b[38;5;241m.\u001b[39mtarget\n\u001b[1;32m      3\u001b[0m unique_cntry \u001b[38;5;241m=\u001b[39m \u001b[38;5;28mlist\u001b[39m(\u001b[38;5;28mset\u001b[39m(node1\u001b[38;5;241m.\u001b[39mappend(node2)\u001b[38;5;241m.\u001b[39mtolist()))\n",
      "File \u001b[0;32m/opt/anaconda3/envs/31vis/lib/python3.8/site-packages/pandas/util/_decorators.py:311\u001b[0m, in \u001b[0;36mdeprecate_nonkeyword_arguments.<locals>.decorate.<locals>.wrapper\u001b[0;34m(*args, **kwargs)\u001b[0m\n\u001b[1;32m    305\u001b[0m \u001b[38;5;28;01mif\u001b[39;00m \u001b[38;5;28mlen\u001b[39m(args) \u001b[38;5;241m>\u001b[39m num_allow_args:\n\u001b[1;32m    306\u001b[0m     warnings\u001b[38;5;241m.\u001b[39mwarn(\n\u001b[1;32m    307\u001b[0m         msg\u001b[38;5;241m.\u001b[39mformat(arguments\u001b[38;5;241m=\u001b[39marguments),\n\u001b[1;32m    308\u001b[0m         \u001b[38;5;167;01mFutureWarning\u001b[39;00m,\n\u001b[1;32m    309\u001b[0m         stacklevel\u001b[38;5;241m=\u001b[39mstacklevel,\n\u001b[1;32m    310\u001b[0m     )\n\u001b[0;32m--> 311\u001b[0m \u001b[38;5;28;01mreturn\u001b[39;00m \u001b[43mfunc\u001b[49m\u001b[43m(\u001b[49m\u001b[38;5;241;43m*\u001b[39;49m\u001b[43margs\u001b[49m\u001b[43m,\u001b[49m\u001b[43m \u001b[49m\u001b[38;5;241;43m*\u001b[39;49m\u001b[38;5;241;43m*\u001b[39;49m\u001b[43mkwargs\u001b[49m\u001b[43m)\u001b[49m\n",
      "File \u001b[0;32m/opt/anaconda3/envs/31vis/lib/python3.8/site-packages/pandas/io/parsers/readers.py:586\u001b[0m, in \u001b[0;36mread_csv\u001b[0;34m(filepath_or_buffer, sep, delimiter, header, names, index_col, usecols, squeeze, prefix, mangle_dupe_cols, dtype, engine, converters, true_values, false_values, skipinitialspace, skiprows, skipfooter, nrows, na_values, keep_default_na, na_filter, verbose, skip_blank_lines, parse_dates, infer_datetime_format, keep_date_col, date_parser, dayfirst, cache_dates, iterator, chunksize, compression, thousands, decimal, lineterminator, quotechar, quoting, doublequote, escapechar, comment, encoding, encoding_errors, dialect, error_bad_lines, warn_bad_lines, on_bad_lines, delim_whitespace, low_memory, memory_map, float_precision, storage_options)\u001b[0m\n\u001b[1;32m    571\u001b[0m kwds_defaults \u001b[38;5;241m=\u001b[39m _refine_defaults_read(\n\u001b[1;32m    572\u001b[0m     dialect,\n\u001b[1;32m    573\u001b[0m     delimiter,\n\u001b[0;32m   (...)\u001b[0m\n\u001b[1;32m    582\u001b[0m     defaults\u001b[38;5;241m=\u001b[39m{\u001b[38;5;124m\"\u001b[39m\u001b[38;5;124mdelimiter\u001b[39m\u001b[38;5;124m\"\u001b[39m: \u001b[38;5;124m\"\u001b[39m\u001b[38;5;124m,\u001b[39m\u001b[38;5;124m\"\u001b[39m},\n\u001b[1;32m    583\u001b[0m )\n\u001b[1;32m    584\u001b[0m kwds\u001b[38;5;241m.\u001b[39mupdate(kwds_defaults)\n\u001b[0;32m--> 586\u001b[0m \u001b[38;5;28;01mreturn\u001b[39;00m \u001b[43m_read\u001b[49m\u001b[43m(\u001b[49m\u001b[43mfilepath_or_buffer\u001b[49m\u001b[43m,\u001b[49m\u001b[43m \u001b[49m\u001b[43mkwds\u001b[49m\u001b[43m)\u001b[49m\n",
      "File \u001b[0;32m/opt/anaconda3/envs/31vis/lib/python3.8/site-packages/pandas/io/parsers/readers.py:482\u001b[0m, in \u001b[0;36m_read\u001b[0;34m(filepath_or_buffer, kwds)\u001b[0m\n\u001b[1;32m    479\u001b[0m _validate_names(kwds\u001b[38;5;241m.\u001b[39mget(\u001b[38;5;124m\"\u001b[39m\u001b[38;5;124mnames\u001b[39m\u001b[38;5;124m\"\u001b[39m, \u001b[38;5;28;01mNone\u001b[39;00m))\n\u001b[1;32m    481\u001b[0m \u001b[38;5;66;03m# Create the parser.\u001b[39;00m\n\u001b[0;32m--> 482\u001b[0m parser \u001b[38;5;241m=\u001b[39m \u001b[43mTextFileReader\u001b[49m\u001b[43m(\u001b[49m\u001b[43mfilepath_or_buffer\u001b[49m\u001b[43m,\u001b[49m\u001b[43m \u001b[49m\u001b[38;5;241;43m*\u001b[39;49m\u001b[38;5;241;43m*\u001b[39;49m\u001b[43mkwds\u001b[49m\u001b[43m)\u001b[49m\n\u001b[1;32m    484\u001b[0m \u001b[38;5;28;01mif\u001b[39;00m chunksize \u001b[38;5;129;01mor\u001b[39;00m iterator:\n\u001b[1;32m    485\u001b[0m     \u001b[38;5;28;01mreturn\u001b[39;00m parser\n",
      "File \u001b[0;32m/opt/anaconda3/envs/31vis/lib/python3.8/site-packages/pandas/io/parsers/readers.py:811\u001b[0m, in \u001b[0;36mTextFileReader.__init__\u001b[0;34m(self, f, engine, **kwds)\u001b[0m\n\u001b[1;32m    808\u001b[0m \u001b[38;5;28;01mif\u001b[39;00m \u001b[38;5;124m\"\u001b[39m\u001b[38;5;124mhas_index_names\u001b[39m\u001b[38;5;124m\"\u001b[39m \u001b[38;5;129;01min\u001b[39;00m kwds:\n\u001b[1;32m    809\u001b[0m     \u001b[38;5;28mself\u001b[39m\u001b[38;5;241m.\u001b[39moptions[\u001b[38;5;124m\"\u001b[39m\u001b[38;5;124mhas_index_names\u001b[39m\u001b[38;5;124m\"\u001b[39m] \u001b[38;5;241m=\u001b[39m kwds[\u001b[38;5;124m\"\u001b[39m\u001b[38;5;124mhas_index_names\u001b[39m\u001b[38;5;124m\"\u001b[39m]\n\u001b[0;32m--> 811\u001b[0m \u001b[38;5;28mself\u001b[39m\u001b[38;5;241m.\u001b[39m_engine \u001b[38;5;241m=\u001b[39m \u001b[38;5;28;43mself\u001b[39;49m\u001b[38;5;241;43m.\u001b[39;49m\u001b[43m_make_engine\u001b[49m\u001b[43m(\u001b[49m\u001b[38;5;28;43mself\u001b[39;49m\u001b[38;5;241;43m.\u001b[39;49m\u001b[43mengine\u001b[49m\u001b[43m)\u001b[49m\n",
      "File \u001b[0;32m/opt/anaconda3/envs/31vis/lib/python3.8/site-packages/pandas/io/parsers/readers.py:1040\u001b[0m, in \u001b[0;36mTextFileReader._make_engine\u001b[0;34m(self, engine)\u001b[0m\n\u001b[1;32m   1036\u001b[0m     \u001b[38;5;28;01mraise\u001b[39;00m \u001b[38;5;167;01mValueError\u001b[39;00m(\n\u001b[1;32m   1037\u001b[0m         \u001b[38;5;124mf\u001b[39m\u001b[38;5;124m\"\u001b[39m\u001b[38;5;124mUnknown engine: \u001b[39m\u001b[38;5;132;01m{\u001b[39;00mengine\u001b[38;5;132;01m}\u001b[39;00m\u001b[38;5;124m (valid options are \u001b[39m\u001b[38;5;132;01m{\u001b[39;00mmapping\u001b[38;5;241m.\u001b[39mkeys()\u001b[38;5;132;01m}\u001b[39;00m\u001b[38;5;124m)\u001b[39m\u001b[38;5;124m\"\u001b[39m\n\u001b[1;32m   1038\u001b[0m     )\n\u001b[1;32m   1039\u001b[0m \u001b[38;5;66;03m# error: Too many arguments for \"ParserBase\"\u001b[39;00m\n\u001b[0;32m-> 1040\u001b[0m \u001b[38;5;28;01mreturn\u001b[39;00m \u001b[43mmapping\u001b[49m\u001b[43m[\u001b[49m\u001b[43mengine\u001b[49m\u001b[43m]\u001b[49m\u001b[43m(\u001b[49m\u001b[38;5;28;43mself\u001b[39;49m\u001b[38;5;241;43m.\u001b[39;49m\u001b[43mf\u001b[49m\u001b[43m,\u001b[49m\u001b[43m \u001b[49m\u001b[38;5;241;43m*\u001b[39;49m\u001b[38;5;241;43m*\u001b[39;49m\u001b[38;5;28;43mself\u001b[39;49m\u001b[38;5;241;43m.\u001b[39;49m\u001b[43moptions\u001b[49m\u001b[43m)\u001b[49m\n",
      "File \u001b[0;32m/opt/anaconda3/envs/31vis/lib/python3.8/site-packages/pandas/io/parsers/c_parser_wrapper.py:51\u001b[0m, in \u001b[0;36mCParserWrapper.__init__\u001b[0;34m(self, src, **kwds)\u001b[0m\n\u001b[1;32m     48\u001b[0m kwds[\u001b[38;5;124m\"\u001b[39m\u001b[38;5;124musecols\u001b[39m\u001b[38;5;124m\"\u001b[39m] \u001b[38;5;241m=\u001b[39m \u001b[38;5;28mself\u001b[39m\u001b[38;5;241m.\u001b[39musecols\n\u001b[1;32m     50\u001b[0m \u001b[38;5;66;03m# open handles\u001b[39;00m\n\u001b[0;32m---> 51\u001b[0m \u001b[38;5;28;43mself\u001b[39;49m\u001b[38;5;241;43m.\u001b[39;49m\u001b[43m_open_handles\u001b[49m\u001b[43m(\u001b[49m\u001b[43msrc\u001b[49m\u001b[43m,\u001b[49m\u001b[43m \u001b[49m\u001b[43mkwds\u001b[49m\u001b[43m)\u001b[49m\n\u001b[1;32m     52\u001b[0m \u001b[38;5;28;01massert\u001b[39;00m \u001b[38;5;28mself\u001b[39m\u001b[38;5;241m.\u001b[39mhandles \u001b[38;5;129;01mis\u001b[39;00m \u001b[38;5;129;01mnot\u001b[39;00m \u001b[38;5;28;01mNone\u001b[39;00m\n\u001b[1;32m     54\u001b[0m \u001b[38;5;66;03m# Have to pass int, would break tests using TextReader directly otherwise :(\u001b[39;00m\n",
      "File \u001b[0;32m/opt/anaconda3/envs/31vis/lib/python3.8/site-packages/pandas/io/parsers/base_parser.py:222\u001b[0m, in \u001b[0;36mParserBase._open_handles\u001b[0;34m(self, src, kwds)\u001b[0m\n\u001b[1;32m    218\u001b[0m \u001b[38;5;28;01mdef\u001b[39;00m \u001b[38;5;21m_open_handles\u001b[39m(\u001b[38;5;28mself\u001b[39m, src: FilePathOrBuffer, kwds: \u001b[38;5;28mdict\u001b[39m[\u001b[38;5;28mstr\u001b[39m, Any]) \u001b[38;5;241m-\u001b[39m\u001b[38;5;241m>\u001b[39m \u001b[38;5;28;01mNone\u001b[39;00m:\n\u001b[1;32m    219\u001b[0m     \u001b[38;5;124;03m\"\"\"\u001b[39;00m\n\u001b[1;32m    220\u001b[0m \u001b[38;5;124;03m    Let the readers open IOHandles after they are done with their potential raises.\u001b[39;00m\n\u001b[1;32m    221\u001b[0m \u001b[38;5;124;03m    \"\"\"\u001b[39;00m\n\u001b[0;32m--> 222\u001b[0m     \u001b[38;5;28mself\u001b[39m\u001b[38;5;241m.\u001b[39mhandles \u001b[38;5;241m=\u001b[39m \u001b[43mget_handle\u001b[49m\u001b[43m(\u001b[49m\n\u001b[1;32m    223\u001b[0m \u001b[43m        \u001b[49m\u001b[43msrc\u001b[49m\u001b[43m,\u001b[49m\n\u001b[1;32m    224\u001b[0m \u001b[43m        \u001b[49m\u001b[38;5;124;43m\"\u001b[39;49m\u001b[38;5;124;43mr\u001b[39;49m\u001b[38;5;124;43m\"\u001b[39;49m\u001b[43m,\u001b[49m\n\u001b[1;32m    225\u001b[0m \u001b[43m        \u001b[49m\u001b[43mencoding\u001b[49m\u001b[38;5;241;43m=\u001b[39;49m\u001b[43mkwds\u001b[49m\u001b[38;5;241;43m.\u001b[39;49m\u001b[43mget\u001b[49m\u001b[43m(\u001b[49m\u001b[38;5;124;43m\"\u001b[39;49m\u001b[38;5;124;43mencoding\u001b[39;49m\u001b[38;5;124;43m\"\u001b[39;49m\u001b[43m,\u001b[49m\u001b[43m \u001b[49m\u001b[38;5;28;43;01mNone\u001b[39;49;00m\u001b[43m)\u001b[49m\u001b[43m,\u001b[49m\n\u001b[1;32m    226\u001b[0m \u001b[43m        \u001b[49m\u001b[43mcompression\u001b[49m\u001b[38;5;241;43m=\u001b[39;49m\u001b[43mkwds\u001b[49m\u001b[38;5;241;43m.\u001b[39;49m\u001b[43mget\u001b[49m\u001b[43m(\u001b[49m\u001b[38;5;124;43m\"\u001b[39;49m\u001b[38;5;124;43mcompression\u001b[39;49m\u001b[38;5;124;43m\"\u001b[39;49m\u001b[43m,\u001b[49m\u001b[43m \u001b[49m\u001b[38;5;28;43;01mNone\u001b[39;49;00m\u001b[43m)\u001b[49m\u001b[43m,\u001b[49m\n\u001b[1;32m    227\u001b[0m \u001b[43m        \u001b[49m\u001b[43mmemory_map\u001b[49m\u001b[38;5;241;43m=\u001b[39;49m\u001b[43mkwds\u001b[49m\u001b[38;5;241;43m.\u001b[39;49m\u001b[43mget\u001b[49m\u001b[43m(\u001b[49m\u001b[38;5;124;43m\"\u001b[39;49m\u001b[38;5;124;43mmemory_map\u001b[39;49m\u001b[38;5;124;43m\"\u001b[39;49m\u001b[43m,\u001b[49m\u001b[43m \u001b[49m\u001b[38;5;28;43;01mFalse\u001b[39;49;00m\u001b[43m)\u001b[49m\u001b[43m,\u001b[49m\n\u001b[1;32m    228\u001b[0m \u001b[43m        \u001b[49m\u001b[43mstorage_options\u001b[49m\u001b[38;5;241;43m=\u001b[39;49m\u001b[43mkwds\u001b[49m\u001b[38;5;241;43m.\u001b[39;49m\u001b[43mget\u001b[49m\u001b[43m(\u001b[49m\u001b[38;5;124;43m\"\u001b[39;49m\u001b[38;5;124;43mstorage_options\u001b[39;49m\u001b[38;5;124;43m\"\u001b[39;49m\u001b[43m,\u001b[49m\u001b[43m \u001b[49m\u001b[38;5;28;43;01mNone\u001b[39;49;00m\u001b[43m)\u001b[49m\u001b[43m,\u001b[49m\n\u001b[1;32m    229\u001b[0m \u001b[43m        \u001b[49m\u001b[43merrors\u001b[49m\u001b[38;5;241;43m=\u001b[39;49m\u001b[43mkwds\u001b[49m\u001b[38;5;241;43m.\u001b[39;49m\u001b[43mget\u001b[49m\u001b[43m(\u001b[49m\u001b[38;5;124;43m\"\u001b[39;49m\u001b[38;5;124;43mencoding_errors\u001b[39;49m\u001b[38;5;124;43m\"\u001b[39;49m\u001b[43m,\u001b[49m\u001b[43m \u001b[49m\u001b[38;5;124;43m\"\u001b[39;49m\u001b[38;5;124;43mstrict\u001b[39;49m\u001b[38;5;124;43m\"\u001b[39;49m\u001b[43m)\u001b[49m\u001b[43m,\u001b[49m\n\u001b[1;32m    230\u001b[0m \u001b[43m    \u001b[49m\u001b[43m)\u001b[49m\n",
      "File \u001b[0;32m/opt/anaconda3/envs/31vis/lib/python3.8/site-packages/pandas/io/common.py:702\u001b[0m, in \u001b[0;36mget_handle\u001b[0;34m(path_or_buf, mode, encoding, compression, memory_map, is_text, errors, storage_options)\u001b[0m\n\u001b[1;32m    697\u001b[0m \u001b[38;5;28;01melif\u001b[39;00m \u001b[38;5;28misinstance\u001b[39m(handle, \u001b[38;5;28mstr\u001b[39m):\n\u001b[1;32m    698\u001b[0m     \u001b[38;5;66;03m# Check whether the filename is to be opened in binary mode.\u001b[39;00m\n\u001b[1;32m    699\u001b[0m     \u001b[38;5;66;03m# Binary mode does not support 'encoding' and 'newline'.\u001b[39;00m\n\u001b[1;32m    700\u001b[0m     \u001b[38;5;28;01mif\u001b[39;00m ioargs\u001b[38;5;241m.\u001b[39mencoding \u001b[38;5;129;01mand\u001b[39;00m \u001b[38;5;124m\"\u001b[39m\u001b[38;5;124mb\u001b[39m\u001b[38;5;124m\"\u001b[39m \u001b[38;5;129;01mnot\u001b[39;00m \u001b[38;5;129;01min\u001b[39;00m ioargs\u001b[38;5;241m.\u001b[39mmode:\n\u001b[1;32m    701\u001b[0m         \u001b[38;5;66;03m# Encoding\u001b[39;00m\n\u001b[0;32m--> 702\u001b[0m         handle \u001b[38;5;241m=\u001b[39m \u001b[38;5;28;43mopen\u001b[39;49m\u001b[43m(\u001b[49m\n\u001b[1;32m    703\u001b[0m \u001b[43m            \u001b[49m\u001b[43mhandle\u001b[49m\u001b[43m,\u001b[49m\n\u001b[1;32m    704\u001b[0m \u001b[43m            \u001b[49m\u001b[43mioargs\u001b[49m\u001b[38;5;241;43m.\u001b[39;49m\u001b[43mmode\u001b[49m\u001b[43m,\u001b[49m\n\u001b[1;32m    705\u001b[0m \u001b[43m            \u001b[49m\u001b[43mencoding\u001b[49m\u001b[38;5;241;43m=\u001b[39;49m\u001b[43mioargs\u001b[49m\u001b[38;5;241;43m.\u001b[39;49m\u001b[43mencoding\u001b[49m\u001b[43m,\u001b[49m\n\u001b[1;32m    706\u001b[0m \u001b[43m            \u001b[49m\u001b[43merrors\u001b[49m\u001b[38;5;241;43m=\u001b[39;49m\u001b[43merrors\u001b[49m\u001b[43m,\u001b[49m\n\u001b[1;32m    707\u001b[0m \u001b[43m            \u001b[49m\u001b[43mnewline\u001b[49m\u001b[38;5;241;43m=\u001b[39;49m\u001b[38;5;124;43m\"\u001b[39;49m\u001b[38;5;124;43m\"\u001b[39;49m\u001b[43m,\u001b[49m\n\u001b[1;32m    708\u001b[0m \u001b[43m        \u001b[49m\u001b[43m)\u001b[49m\n\u001b[1;32m    709\u001b[0m     \u001b[38;5;28;01melse\u001b[39;00m:\n\u001b[1;32m    710\u001b[0m         \u001b[38;5;66;03m# Binary mode\u001b[39;00m\n\u001b[1;32m    711\u001b[0m         handle \u001b[38;5;241m=\u001b[39m \u001b[38;5;28mopen\u001b[39m(handle, ioargs\u001b[38;5;241m.\u001b[39mmode)\n",
      "\u001b[0;31mFileNotFoundError\u001b[0m: [Errno 2] No such file or directory: '../data/plots/author_chord_df.csv'"
     ]
    }
   ],
   "source": [
    "author_chord = pd.read_csv('../data/plots/author_chord_df.csv')\n",
    "node1, node2 = author_chord.source, author_chord.target\n",
    "unique_cntry = list(set(node1.append(node2).tolist()))"
   ]
  },
  {
   "cell_type": "code",
   "execution_count": null,
   "id": "1b939b92",
   "metadata": {},
   "outputs": [],
   "source": [
    "author_chord.value.sum()"
   ]
  },
  {
   "cell_type": "code",
   "execution_count": null,
   "id": "c345c76e",
   "metadata": {},
   "outputs": [],
   "source": [
    "author_chord.head()"
   ]
  },
  {
   "cell_type": "code",
   "execution_count": null,
   "id": "72f07485",
   "metadata": {},
   "outputs": [],
   "source": [
    "tuples = []\n",
    "for i in unique_cntry:\n",
    "    dff = author_chord[(author_chord.source == i) | (author_chord.target == i)]\n",
    "    total = dff.value.sum()\n",
    "    tuples.append((i, total))"
   ]
  },
  {
   "cell_type": "code",
   "execution_count": null,
   "id": "11dce8cd",
   "metadata": {},
   "outputs": [],
   "source": [
    "collab_df = pd.DataFrame(list(tuples), columns = ['country', 'value']).sort_values(\n",
    "    by=['value'], ascending = False).reset_index(drop=True)\n",
    "collab_df.value.sum()\n",
    "most_active_cntry = collab_df.head(10).country.tolist()\n",
    "# Number of pairs where the most active countries appeared\n",
    "author_chord[(\n",
    "    author_chord.source.isin(most_active_cntry)) | (\n",
    "    author_chord.target.isin(most_active_cntry))].value.sum()\n",
    "# most_active_cntry"
   ]
  },
  {
   "cell_type": "code",
   "execution_count": null,
   "id": "e1affcf5",
   "metadata": {},
   "outputs": [],
   "source": [
    "most_active_cntry"
   ]
  },
  {
   "cell_type": "code",
   "execution_count": null,
   "id": "344840c6",
   "metadata": {},
   "outputs": [],
   "source": [
    "1196/1221"
   ]
  },
  {
   "cell_type": "code",
   "execution_count": null,
   "id": "83ff6383",
   "metadata": {},
   "outputs": [],
   "source": [
    "# Number of pairs made up by collaborations between most active countries\n",
    "author_chord[(\n",
    "    author_chord.source.isin(most_active_cntry)) & (\n",
    "    author_chord.target.isin(most_active_cntry))].value.sum()"
   ]
  },
  {
   "cell_type": "code",
   "execution_count": null,
   "id": "38ea4da7",
   "metadata": {},
   "outputs": [],
   "source": [
    "845/1221"
   ]
  },
  {
   "cell_type": "markdown",
   "id": "f5cad371",
   "metadata": {},
   "source": [
    "### Cross-type collaboration"
   ]
  },
  {
   "cell_type": "code",
   "execution_count": null,
   "id": "03c91bed",
   "metadata": {},
   "outputs": [],
   "source": [
    "cross_type = get_total_and_ratio_by_year(\n",
    "    paper, \n",
    "    'Year',\n",
    "    'Cross-type Collaboration'\n",
    ")\n",
    "cross_type.head()"
   ]
  },
  {
   "cell_type": "code",
   "execution_count": null,
   "id": "fd56c478",
   "metadata": {},
   "outputs": [],
   "source": [
    "cross_type[cross_type.year.isin([2006, 2007, 2018, 2021])]"
   ]
  },
  {
   "cell_type": "code",
   "execution_count": null,
   "id": "652fe9e3",
   "metadata": {},
   "outputs": [],
   "source": []
  }
 ],
 "metadata": {
  "kernelspec": {
   "display_name": "Python 3 (ipykernel)",
   "language": "python",
   "name": "python3"
  },
  "language_info": {
   "codemirror_mode": {
    "name": "ipython",
    "version": 3
   },
   "file_extension": ".py",
   "mimetype": "text/x-python",
   "name": "python",
   "nbconvert_exporter": "python",
   "pygments_lexer": "ipython3",
   "version": "3.8.12"
  }
 },
 "nbformat": 4,
 "nbformat_minor": 5
}
