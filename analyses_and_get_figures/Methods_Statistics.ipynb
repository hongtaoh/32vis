{
 "cells": [
  {
   "cell_type": "code",
   "execution_count": 1,
   "id": "5826c803",
   "metadata": {},
   "outputs": [],
   "source": [
    "import pandas as pd"
   ]
  },
  {
   "cell_type": "code",
   "execution_count": 3,
   "id": "45eb1ac4",
   "metadata": {},
   "outputs": [],
   "source": [
    "merged = pd.read_csv('../data/processed/merged_author_df.csv')"
   ]
  },
  {
   "cell_type": "code",
   "execution_count": 10,
   "id": "49f674fb",
   "metadata": {},
   "outputs": [
    {
     "data": {
      "text/plain": [
       "2024"
      ]
     },
     "execution_count": 10,
     "metadata": {},
     "output_type": "execute_result"
    }
   ],
   "source": [
    "lack_type = merged[merged['First Institution Type Updated'].isnull()].shape[0]\n",
    "lack_type"
   ]
  },
  {
   "cell_type": "code",
   "execution_count": 9,
   "id": "cc2df9e0",
   "metadata": {},
   "outputs": [
    {
     "data": {
      "text/plain": [
       "1893"
      ]
     },
     "execution_count": 9,
     "metadata": {},
     "output_type": "execute_result"
    }
   ],
   "source": [
    "lack_cntry = merged[merged['First Institution Country Code Updated'].isnull()].shape[0]\n",
    "lack_cntry"
   ]
  },
  {
   "cell_type": "code",
   "execution_count": 12,
   "id": "eaeafaf3",
   "metadata": {},
   "outputs": [
    {
     "data": {
      "text/plain": [
       "(0.16305486183839524, 0.15250140981229357)"
      ]
     },
     "execution_count": 12,
     "metadata": {},
     "output_type": "execute_result"
    }
   ],
   "source": [
    "lack_type/merged.shape[0], lack_cntry/merged.shape[0]"
   ]
  },
  {
   "cell_type": "code",
   "execution_count": null,
   "id": "c19f503e",
   "metadata": {},
   "outputs": [],
   "source": []
  }
 ],
 "metadata": {
  "kernelspec": {
   "display_name": "Python 3 (ipykernel)",
   "language": "python",
   "name": "python3"
  },
  "language_info": {
   "codemirror_mode": {
    "name": "ipython",
    "version": 3
   },
   "file_extension": ".py",
   "mimetype": "text/x-python",
   "name": "python",
   "nbconvert_exporter": "python",
   "pygments_lexer": "ipython3",
   "version": "3.8.12"
  }
 },
 "nbformat": 4,
 "nbformat_minor": 5
}
