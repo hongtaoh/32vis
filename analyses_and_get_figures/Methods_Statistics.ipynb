{
 "cells": [
  {
   "cell_type": "code",
   "execution_count": 1,
   "id": "5826c803",
   "metadata": {},
   "outputs": [],
   "source": [
    "import pandas as pd"
   ]
  },
  {
   "cell_type": "code",
   "execution_count": 2,
   "id": "45eb1ac4",
   "metadata": {},
   "outputs": [],
   "source": [
    "merged = pd.read_csv('../data/processed/merged_author_df.csv')"
   ]
  },
  {
   "cell_type": "code",
   "execution_count": 4,
   "id": "49f674fb",
   "metadata": {},
   "outputs": [
    {
     "data": {
      "text/plain": [
       "2501"
      ]
     },
     "execution_count": 4,
     "metadata": {},
     "output_type": "execute_result"
    }
   ],
   "source": [
    "lack_type = merged[merged['First Institution Type'].isnull()].shape[0]\n",
    "lack_type"
   ]
  },
  {
   "cell_type": "code",
   "execution_count": 6,
   "id": "cc2df9e0",
   "metadata": {},
   "outputs": [
    {
     "data": {
      "text/plain": [
       "2331"
      ]
     },
     "execution_count": 6,
     "metadata": {},
     "output_type": "execute_result"
    }
   ],
   "source": [
    "lack_cntry = merged[merged['First Institution Country Code'].isnull()].shape[0]\n",
    "lack_cntry"
   ]
  },
  {
   "cell_type": "code",
   "execution_count": 7,
   "id": "eaeafaf3",
   "metadata": {},
   "outputs": [
    {
     "data": {
      "text/plain": [
       "(0.20123913743160604, 0.1875603476021886)"
      ]
     },
     "execution_count": 7,
     "metadata": {},
     "output_type": "execute_result"
    }
   ],
   "source": [
    "lack_type/merged.shape[0], lack_cntry/merged.shape[0]"
   ]
  },
  {
   "cell_type": "code",
   "execution_count": null,
   "id": "155fc582",
   "metadata": {},
   "outputs": [],
   "source": []
  }
 ],
 "metadata": {
  "kernelspec": {
   "display_name": "Python 3 (ipykernel)",
   "language": "python",
   "name": "python3"
  },
  "language_info": {
   "codemirror_mode": {
    "name": "ipython",
    "version": 3
   },
   "file_extension": ".py",
   "mimetype": "text/x-python",
   "name": "python",
   "nbconvert_exporter": "python",
   "pygments_lexer": "ipython3",
   "version": "3.8.12"
  }
 },
 "nbformat": 4,
 "nbformat_minor": 5
}
